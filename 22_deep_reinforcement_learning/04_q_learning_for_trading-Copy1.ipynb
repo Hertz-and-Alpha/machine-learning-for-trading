{
 "cells": [
  {
   "cell_type": "markdown",
   "metadata": {},
   "source": [
    "# Reinforcement Learning for Trading - Deep Q-learning & the stock market"
   ]
  },
  {
   "cell_type": "markdown",
   "metadata": {},
   "source": [
    "To train a trading agent, we need to create a market environment that provides price and other information, offers trading-related actions, and keeps track of the portfolio to reward the agent accordingly."
   ]
  },
  {
   "cell_type": "markdown",
   "metadata": {},
   "source": [
    "## How to Design an OpenAI trading environment"
   ]
  },
  {
   "cell_type": "markdown",
   "metadata": {},
   "source": [
    "The OpenAI Gym allows for the design, registration, and utilization of environments that adhere to its architecture, as described in its [documentation](https://github.com/openai/gym/tree/master/gym/envs#how-to-create-new-environments-for-gym). The [trading_env.py](trading_env.py) file implements an example that illustrates how to create a class that implements the requisite `step()` and `reset()` methods.\n",
    "\n",
    "The trading environment consists of three classes that interact to facilitate the agent's activities:\n",
    " 1. The `DataSource` class loads a time series, generates a few features, and provides the latest observation to the agent at each time step. \n",
    " 2. `TradingSimulator` tracks the positions, trades and cost, and the performance. It also implements and records the results of a buy-and-hold benchmark strategy. \n",
    " 3. `TradingEnvironment` itself orchestrates the process. "
   ]
  },
  {
   "cell_type": "markdown",
   "metadata": {},
   "source": [
    "The book chapter explains these elements in more detail."
   ]
  },
  {
   "cell_type": "markdown",
   "metadata": {},
   "source": [
    "## A basic trading game"
   ]
  },
  {
   "cell_type": "markdown",
   "metadata": {},
   "source": [
    "To train the agent, we need to set up a simple game with a limited set of options, a relatively low-dimensional state, and other parameters that can be easily modified and extended.\n",
    "\n",
    "More specifically, the environment samples a stock price time series for a single ticker using a random start date to simulate a trading period that, by default, contains 252 days, or 1 year. The state contains the (scaled) price and volume, as well as some technical indicators like the percentile ranks of price and volume, a relative strength index (RSI), as well as 5- and 21-day returns. The agent can choose from three actions:\n",
    "\n",
    "- **Buy**: Invest capital for a long position in the stock\n",
    "- **Flat**: Hold cash only\n",
    "- **Sell short**: Take a short position equal to the amount of capital\n",
    "\n",
    "The environment accounts for trading cost, which is set to 10bps by default. It also deducts a 1bps time cost per period. It tracks the net asset value (NAV) of the agent's portfolio and compares it against the market portfolio (which trades frictionless to raise the bar for the agent)."
   ]
  },
  {
   "cell_type": "markdown",
   "metadata": {},
   "source": [
    "We use the same DDQN agent and neural network architecture that successfully learned to navigate the Lunar Lander environment. We let exploration continue for 500,000 time steps (~2,000 1yr trading periods) with linear decay of ε to 0.1 and exponential decay at a factor of 0.9999 thereafter."
   ]
  },
  {
   "cell_type": "markdown",
   "metadata": {},
   "source": [
    "## Imports & Settings"
   ]
  },
  {
   "cell_type": "markdown",
   "metadata": {},
   "source": [
    "### Imports"
   ]
  },
  {
   "cell_type": "code",
   "execution_count": 1,
   "metadata": {},
   "outputs": [],
   "source": [
    "import warnings\n",
    "warnings.filterwarnings('ignore')"
   ]
  },
  {
   "cell_type": "code",
   "execution_count": 2,
   "metadata": {
    "ExecuteTime": {
     "end_time": "2021-02-25T06:20:29.634858Z",
     "start_time": "2021-02-25T06:20:27.942424Z"
    }
   },
   "outputs": [],
   "source": [
    "%matplotlib inline\n",
    "from pathlib import Path\n",
    "from time import time\n",
    "from collections import deque\n",
    "from random import sample\n",
    "\n",
    "import numpy as np\n",
    "import pandas as pd\n",
    "\n",
    "import matplotlib.pyplot as plt\n",
    "from matplotlib.ticker import FuncFormatter\n",
    "import seaborn as sns\n",
    "\n",
    "import tensorflow as tf\n",
    "from tensorflow.keras import Sequential\n",
    "from tensorflow.keras.layers import Dense, Dropout\n",
    "from tensorflow.keras.optimizers import Adam\n",
    "from tensorflow.keras.regularizers import l2\n",
    "\n",
    "import gym\n",
    "from gym.envs.registration import register"
   ]
  },
  {
   "cell_type": "markdown",
   "metadata": {},
   "source": [
    "### Settings"
   ]
  },
  {
   "cell_type": "code",
   "execution_count": 3,
   "metadata": {
    "ExecuteTime": {
     "end_time": "2021-02-25T06:20:29.638316Z",
     "start_time": "2021-02-25T06:20:29.636097Z"
    }
   },
   "outputs": [],
   "source": [
    "np.random.seed(42)\n",
    "tf.random.set_seed(42)"
   ]
  },
  {
   "cell_type": "code",
   "execution_count": 4,
   "metadata": {
    "ExecuteTime": {
     "end_time": "2021-02-25T06:20:29.651863Z",
     "start_time": "2021-02-25T06:20:29.639725Z"
    }
   },
   "outputs": [],
   "source": [
    "sns.set_style('whitegrid')"
   ]
  },
  {
   "cell_type": "code",
   "execution_count": 5,
   "metadata": {
    "ExecuteTime": {
     "end_time": "2021-02-25T06:20:29.660560Z",
     "start_time": "2021-02-25T06:20:29.653287Z"
    }
   },
   "outputs": [
    {
     "name": "stdout",
     "output_type": "stream",
     "text": [
      "Using GPU\n"
     ]
    }
   ],
   "source": [
    "gpu_devices = tf.config.experimental.list_physical_devices('GPU')\n",
    "if gpu_devices:\n",
    "    print('Using GPU')\n",
    "    tf.config.experimental.set_memory_growth(gpu_devices[0], True)\n",
    "else:\n",
    "    print('Using CPU')"
   ]
  },
  {
   "cell_type": "code",
   "execution_count": 6,
   "metadata": {
    "ExecuteTime": {
     "end_time": "2021-02-25T06:20:29.672047Z",
     "start_time": "2021-02-25T06:20:29.661727Z"
    }
   },
   "outputs": [],
   "source": [
    "results_path = Path('results', 'trading_bot')\n",
    "if not results_path.exists():\n",
    "    results_path.mkdir(parents=True)"
   ]
  },
  {
   "cell_type": "markdown",
   "metadata": {},
   "source": [
    "### Helper functions"
   ]
  },
  {
   "cell_type": "code",
   "execution_count": 7,
   "metadata": {
    "ExecuteTime": {
     "end_time": "2021-02-25T06:20:29.680256Z",
     "start_time": "2021-02-25T06:20:29.673050Z"
    }
   },
   "outputs": [],
   "source": [
    "def format_time(t):\n",
    "    m_, s = divmod(t, 60)\n",
    "    h, m = divmod(m_, 60)\n",
    "    return '{:02.0f}:{:02.0f}:{:02.0f}'.format(h, m, s)"
   ]
  },
  {
   "cell_type": "markdown",
   "metadata": {},
   "source": [
    "## Set up Gym Environment"
   ]
  },
  {
   "cell_type": "markdown",
   "metadata": {},
   "source": [
    "Before using the custom environment, just like with the Lunar Lander environment, we need to register it:"
   ]
  },
  {
   "cell_type": "code",
   "execution_count": 8,
   "metadata": {
    "ExecuteTime": {
     "end_time": "2021-02-25T06:20:29.688161Z",
     "start_time": "2021-02-25T06:20:29.681742Z"
    }
   },
   "outputs": [],
   "source": [
    "trading_days = 252"
   ]
  },
  {
   "cell_type": "code",
   "execution_count": 9,
   "metadata": {
    "ExecuteTime": {
     "end_time": "2021-02-25T06:20:29.696397Z",
     "start_time": "2021-02-25T06:20:29.690404Z"
    }
   },
   "outputs": [],
   "source": [
    "register(\n",
    "    id='trading-v0',\n",
    "    entry_point='trading_env:TradingEnvironment',\n",
    "    max_episode_steps=trading_days\n",
    ")"
   ]
  },
  {
   "cell_type": "markdown",
   "metadata": {},
   "source": [
    "### Initialize Trading Environment"
   ]
  },
  {
   "cell_type": "markdown",
   "metadata": {},
   "source": [
    "We can instantiate the environment by using the desired trading costs and ticker:"
   ]
  },
  {
   "cell_type": "code",
   "execution_count": 10,
   "metadata": {},
   "outputs": [],
   "source": [
    "trading_cost_bps = 1e-3\n",
    "time_cost_bps = 1e-4"
   ]
  },
  {
   "cell_type": "code",
   "execution_count": 11,
   "metadata": {},
   "outputs": [
    {
     "data": {
      "text/plain": [
       "'Trading costs: 0.10% | Time costs: 0.01%'"
      ]
     },
     "execution_count": 11,
     "metadata": {},
     "output_type": "execute_result"
    }
   ],
   "source": [
    "f'Trading costs: {trading_cost_bps:.2%} | Time costs: {time_cost_bps:.2%}'"
   ]
  },
  {
   "cell_type": "code",
   "execution_count": 12,
   "metadata": {
    "ExecuteTime": {
     "end_time": "2021-02-25T06:20:32.544485Z",
     "start_time": "2021-02-25T06:20:29.698083Z"
    }
   },
   "outputs": [
    {
     "name": "stderr",
     "output_type": "stream",
     "text": [
      "INFO:trading_env:trading_env logger started.\n",
      "INFO:trading_env:loading data for AAPL...\n",
      "INFO:trading_env:got data for AAPL...\n",
      "INFO:trading_env:None\n"
     ]
    },
    {
     "name": "stdout",
     "output_type": "stream",
     "text": [
      "<class 'pandas.core.frame.DataFrame'>\n",
      "MultiIndex: 9367 entries, (Timestamp('1981-01-30 00:00:00'), 'AAPL') to (Timestamp('2018-03-27 00:00:00'), 'AAPL')\n",
      "Data columns (total 10 columns):\n",
      " #   Column   Non-Null Count  Dtype  \n",
      "---  ------   --------------  -----  \n",
      " 0   returns  9367 non-null   float64\n",
      " 1   ret_2    9367 non-null   float64\n",
      " 2   ret_5    9367 non-null   float64\n",
      " 3   ret_10   9367 non-null   float64\n",
      " 4   ret_21   9367 non-null   float64\n",
      " 5   rsi      9367 non-null   float64\n",
      " 6   macd     9367 non-null   float64\n",
      " 7   atr      9367 non-null   float64\n",
      " 8   stoch    9367 non-null   float64\n",
      " 9   ultosc   9367 non-null   float64\n",
      "dtypes: float64(10)\n",
      "memory usage: 1.4+ MB\n"
     ]
    },
    {
     "data": {
      "text/plain": [
       "[42]"
      ]
     },
     "execution_count": 12,
     "metadata": {},
     "output_type": "execute_result"
    }
   ],
   "source": [
    "trading_environment = gym.make('trading-v0')\n",
    "trading_environment.env.trading_days = trading_days\n",
    "trading_environment.env.trading_cost_bps = trading_cost_bps\n",
    "trading_environment.env.time_cost_bps = time_cost_bps\n",
    "trading_environment.env.ticker = 'AAPL'\n",
    "trading_environment.seed(42)"
   ]
  },
  {
   "cell_type": "markdown",
   "metadata": {},
   "source": [
    "### Get Environment Params"
   ]
  },
  {
   "cell_type": "code",
   "execution_count": 13,
   "metadata": {
    "ExecuteTime": {
     "end_time": "2021-02-25T06:20:32.548145Z",
     "start_time": "2021-02-25T06:20:32.545830Z"
    }
   },
   "outputs": [],
   "source": [
    "state_dim = trading_environment.observation_space.shape[0]\n",
    "num_actions = trading_environment.action_space.n\n",
    "max_episode_steps = trading_environment.spec.max_episode_steps"
   ]
  },
  {
   "cell_type": "markdown",
   "metadata": {},
   "source": [
    "## Define Trading Agent"
   ]
  },
  {
   "cell_type": "code",
   "execution_count": 14,
   "metadata": {
    "ExecuteTime": {
     "end_time": "2021-02-25T06:20:32.563692Z",
     "start_time": "2021-02-25T06:20:32.549782Z"
    }
   },
   "outputs": [],
   "source": [
    "class DDQNAgent:\n",
    "    def __init__(self, state_dim,\n",
    "                 num_actions,\n",
    "                 learning_rate,\n",
    "                 gamma,\n",
    "                 epsilon_start,\n",
    "                 epsilon_end,\n",
    "                 epsilon_decay_steps,\n",
    "                 epsilon_exponential_decay,\n",
    "                 replay_capacity,\n",
    "                 architecture,\n",
    "                 l2_reg,\n",
    "                 tau,\n",
    "                 batch_size):\n",
    "\n",
    "        self.state_dim = state_dim\n",
    "        self.num_actions = num_actions\n",
    "        self.experience = deque([], maxlen=replay_capacity)\n",
    "        self.learning_rate = learning_rate\n",
    "        self.gamma = gamma\n",
    "        self.architecture = architecture\n",
    "        self.l2_reg = l2_reg\n",
    "\n",
    "        self.online_network = self.build_model()\n",
    "        self.target_network = self.build_model(trainable=False)\n",
    "        self.update_target()\n",
    "\n",
    "        self.epsilon = epsilon_start\n",
    "        self.epsilon_decay_steps = epsilon_decay_steps\n",
    "        self.epsilon_decay = (epsilon_start - epsilon_end) / epsilon_decay_steps\n",
    "        self.epsilon_exponential_decay = epsilon_exponential_decay\n",
    "        self.epsilon_history = []\n",
    "\n",
    "        self.total_steps = self.train_steps = 0\n",
    "        self.episodes = self.episode_length = self.train_episodes = 0\n",
    "        self.steps_per_episode = []\n",
    "        self.episode_reward = 0\n",
    "        self.rewards_history = []\n",
    "\n",
    "        self.batch_size = batch_size\n",
    "        self.tau = tau\n",
    "        self.losses = []\n",
    "        self.idx = tf.range(batch_size)\n",
    "        self.train = True\n",
    "\n",
    "    def build_model(self, trainable=True):\n",
    "        layers = []\n",
    "        n = len(self.architecture)\n",
    "        for i, units in enumerate(self.architecture, 1):\n",
    "            layers.append(Dense(units=units,\n",
    "                                input_dim=self.state_dim if i == 1 else None,\n",
    "                                activation='relu',\n",
    "                                kernel_regularizer=l2(self.l2_reg),\n",
    "                                name=f'Dense_{i}',\n",
    "                                trainable=trainable))\n",
    "        layers.append(Dropout(.1))\n",
    "        layers.append(Dense(units=self.num_actions,\n",
    "                            trainable=trainable,\n",
    "                            name='Output'))\n",
    "        model = Sequential(layers)\n",
    "        model.compile(loss='mean_squared_error',\n",
    "                      optimizer=Adam(lr=self.learning_rate))\n",
    "        return model\n",
    "\n",
    "    def update_target(self):\n",
    "        self.target_network.set_weights(self.online_network.get_weights())\n",
    "\n",
    "    def epsilon_greedy_policy(self, state):\n",
    "        self.total_steps += 1\n",
    "        if np.random.rand() <= self.epsilon:\n",
    "            return np.random.choice(self.num_actions)\n",
    "        q = self.online_network.predict(state)\n",
    "        return np.argmax(q, axis=1).squeeze()\n",
    "\n",
    "    def memorize_transition(self, s, a, r, s_prime, not_done):\n",
    "        if not_done:\n",
    "            self.episode_reward += r\n",
    "            self.episode_length += 1\n",
    "        else:\n",
    "            if self.train:\n",
    "                if self.episodes < self.epsilon_decay_steps:\n",
    "                    self.epsilon -= self.epsilon_decay\n",
    "                else:\n",
    "                    self.epsilon *= self.epsilon_exponential_decay\n",
    "\n",
    "            self.episodes += 1\n",
    "            self.rewards_history.append(self.episode_reward)\n",
    "            self.steps_per_episode.append(self.episode_length)\n",
    "            self.episode_reward, self.episode_length = 0, 0\n",
    "\n",
    "        self.experience.append((s, a, r, s_prime, not_done))\n",
    "\n",
    "    def experience_replay(self):\n",
    "        if self.batch_size > len(self.experience):\n",
    "            return\n",
    "        minibatch = map(np.array, zip(*sample(self.experience, self.batch_size)))\n",
    "        states, actions, rewards, next_states, not_done = minibatch\n",
    "\n",
    "        next_q_values = self.online_network.predict_on_batch(next_states)\n",
    "        best_actions = tf.argmax(next_q_values, axis=1)\n",
    "\n",
    "        next_q_values_target = self.target_network.predict_on_batch(next_states)\n",
    "        target_q_values = tf.gather_nd(next_q_values_target,\n",
    "                                       tf.stack((self.idx, tf.cast(best_actions, tf.int32)), axis=1))\n",
    "\n",
    "        targets = rewards + not_done * self.gamma * target_q_values\n",
    "\n",
    "        q_values = self.online_network.predict_on_batch(states)\n",
    "        q_values[[self.idx, actions]] = targets\n",
    "\n",
    "        loss = self.online_network.train_on_batch(x=states, y=q_values)\n",
    "        self.losses.append(loss)\n",
    "\n",
    "        if self.total_steps % self.tau == 0:\n",
    "            self.update_target()"
   ]
  },
  {
   "cell_type": "markdown",
   "metadata": {},
   "source": [
    "## Define hyperparameters"
   ]
  },
  {
   "cell_type": "code",
   "execution_count": 15,
   "metadata": {
    "ExecuteTime": {
     "end_time": "2021-02-25T06:20:32.575368Z",
     "start_time": "2021-02-25T06:20:32.565067Z"
    }
   },
   "outputs": [],
   "source": [
    "gamma = .99,  # discount factor\n",
    "tau = 100  # target network update frequency"
   ]
  },
  {
   "cell_type": "markdown",
   "metadata": {},
   "source": [
    "### NN Architecture"
   ]
  },
  {
   "cell_type": "code",
   "execution_count": 16,
   "metadata": {
    "ExecuteTime": {
     "end_time": "2021-02-25T06:20:32.584925Z",
     "start_time": "2021-02-25T06:20:32.576469Z"
    }
   },
   "outputs": [],
   "source": [
    "architecture = (256, 256)  # units per layer\n",
    "learning_rate = 0.0001  # learning rate\n",
    "l2_reg = 1e-6  # L2 regularization"
   ]
  },
  {
   "cell_type": "markdown",
   "metadata": {},
   "source": [
    "### Experience Replay"
   ]
  },
  {
   "cell_type": "code",
   "execution_count": 17,
   "metadata": {
    "ExecuteTime": {
     "end_time": "2021-02-25T06:20:32.593134Z",
     "start_time": "2021-02-25T06:20:32.586645Z"
    }
   },
   "outputs": [],
   "source": [
    "replay_capacity = int(1e6)\n",
    "batch_size = 4096"
   ]
  },
  {
   "cell_type": "markdown",
   "metadata": {},
   "source": [
    "### $\\epsilon$-greedy Policy"
   ]
  },
  {
   "cell_type": "code",
   "execution_count": 18,
   "metadata": {
    "ExecuteTime": {
     "end_time": "2021-02-25T06:20:32.603464Z",
     "start_time": "2021-02-25T06:20:32.594606Z"
    }
   },
   "outputs": [],
   "source": [
    "epsilon_start = 1.0\n",
    "epsilon_end = .01\n",
    "epsilon_decay_steps = 250\n",
    "epsilon_exponential_decay = .99"
   ]
  },
  {
   "cell_type": "markdown",
   "metadata": {},
   "source": [
    "## Create DDQN Agent"
   ]
  },
  {
   "cell_type": "markdown",
   "metadata": {},
   "source": [
    "We will use [TensorFlow](https://www.tensorflow.org/) to create our Double Deep Q-Network ."
   ]
  },
  {
   "cell_type": "code",
   "execution_count": 19,
   "metadata": {
    "ExecuteTime": {
     "end_time": "2021-02-25T06:20:32.613239Z",
     "start_time": "2021-02-25T06:20:32.604766Z"
    }
   },
   "outputs": [],
   "source": [
    "tf.keras.backend.clear_session()"
   ]
  },
  {
   "cell_type": "code",
   "execution_count": 20,
   "metadata": {
    "ExecuteTime": {
     "end_time": "2021-02-25T06:20:32.720879Z",
     "start_time": "2021-02-25T06:20:32.614703Z"
    }
   },
   "outputs": [],
   "source": [
    "ddqn = DDQNAgent(state_dim=state_dim,\n",
    "                 num_actions=num_actions,\n",
    "                 learning_rate=learning_rate,\n",
    "                 gamma=gamma,\n",
    "                 epsilon_start=epsilon_start,\n",
    "                 epsilon_end=epsilon_end,\n",
    "                 epsilon_decay_steps=epsilon_decay_steps,\n",
    "                 epsilon_exponential_decay=epsilon_exponential_decay,\n",
    "                 replay_capacity=replay_capacity,\n",
    "                 architecture=architecture,\n",
    "                 l2_reg=l2_reg,\n",
    "                 tau=tau,\n",
    "                 batch_size=batch_size)"
   ]
  },
  {
   "cell_type": "code",
   "execution_count": 21,
   "metadata": {
    "ExecuteTime": {
     "end_time": "2021-02-25T06:20:32.725896Z",
     "start_time": "2021-02-25T06:20:32.722143Z"
    }
   },
   "outputs": [
    {
     "name": "stdout",
     "output_type": "stream",
     "text": [
      "Model: \"sequential\"\n",
      "_________________________________________________________________\n",
      "Layer (type)                 Output Shape              Param #   \n",
      "=================================================================\n",
      "Dense_1 (Dense)              (None, 256)               2816      \n",
      "_________________________________________________________________\n",
      "Dense_2 (Dense)              (None, 256)               65792     \n",
      "_________________________________________________________________\n",
      "dropout (Dropout)            (None, 256)               0         \n",
      "_________________________________________________________________\n",
      "Output (Dense)               (None, 3)                 771       \n",
      "=================================================================\n",
      "Total params: 69,379\n",
      "Trainable params: 69,379\n",
      "Non-trainable params: 0\n",
      "_________________________________________________________________\n"
     ]
    }
   ],
   "source": [
    "ddqn.online_network.summary()"
   ]
  },
  {
   "cell_type": "markdown",
   "metadata": {},
   "source": [
    "## Run Experiment"
   ]
  },
  {
   "cell_type": "markdown",
   "metadata": {},
   "source": [
    "### Set parameters"
   ]
  },
  {
   "cell_type": "code",
   "execution_count": 22,
   "metadata": {
    "ExecuteTime": {
     "end_time": "2021-02-25T06:20:32.733088Z",
     "start_time": "2021-02-25T06:20:32.727071Z"
    }
   },
   "outputs": [],
   "source": [
    "total_steps = 0\n",
    "max_episodes = 1000"
   ]
  },
  {
   "cell_type": "markdown",
   "metadata": {},
   "source": [
    "### Initialize variables"
   ]
  },
  {
   "cell_type": "code",
   "execution_count": 23,
   "metadata": {
    "ExecuteTime": {
     "end_time": "2021-02-25T06:20:32.741126Z",
     "start_time": "2021-02-25T06:20:32.734309Z"
    }
   },
   "outputs": [],
   "source": [
    "episode_time, navs, market_navs, diffs, episode_eps = [], [], [], [], []"
   ]
  },
  {
   "cell_type": "markdown",
   "metadata": {},
   "source": [
    "## Visualization"
   ]
  },
  {
   "cell_type": "code",
   "execution_count": 24,
   "metadata": {
    "ExecuteTime": {
     "end_time": "2021-02-25T06:20:32.752721Z",
     "start_time": "2021-02-25T06:20:32.742471Z"
    }
   },
   "outputs": [],
   "source": [
    "def track_results(episode, nav_ma_100, nav_ma_10,\n",
    "                  market_nav_100, market_nav_10,\n",
    "                  win_ratio, total, epsilon):\n",
    "    time_ma = np.mean([episode_time[-100:]])\n",
    "    T = np.sum(episode_time)\n",
    "    \n",
    "    template = '{:>4d} | {} | Agent: {:>6.1%} ({:>6.1%}) | '\n",
    "    template += 'Market: {:>6.1%} ({:>6.1%}) | '\n",
    "    template += 'Wins: {:>5.1%} | eps: {:>6.3f}'\n",
    "    print(template.format(episode, format_time(total), \n",
    "                          nav_ma_100-1, nav_ma_10-1, \n",
    "                          market_nav_100-1, market_nav_10-1, \n",
    "                          win_ratio, epsilon))"
   ]
  },
  {
   "cell_type": "markdown",
   "metadata": {},
   "source": [
    "## Train Agent"
   ]
  },
  {
   "cell_type": "code",
   "execution_count": 25,
   "metadata": {
    "ExecuteTime": {
     "start_time": "2021-02-25T06:20:28.016Z"
    }
   },
   "outputs": [
    {
     "name": "stdout",
     "output_type": "stream",
     "text": [
      "  10 | 00:01:42 | Agent: -39.1% (-39.1%) | Market:   4.6% (  4.6%) | Wins: 20.0% | eps:  0.960\n",
      "  20 | 00:02:23 | Agent: -34.0% (-28.8%) | Market:  23.2% ( 41.8%) | Wins: 15.0% | eps:  0.921\n",
      "  30 | 00:04:05 | Agent: -28.1% (-16.5%) | Market:  20.6% ( 15.4%) | Wins: 13.3% | eps:  0.881\n",
      "  40 | 00:05:51 | Agent: -22.7% ( -6.5%) | Market:  21.2% ( 23.0%) | Wins: 17.5% | eps:  0.842\n",
      "  50 | 00:07:43 | Agent: -21.1% (-14.8%) | Market:  20.2% ( 16.4%) | Wins: 18.0% | eps:  0.802\n",
      "  60 | 00:09:39 | Agent: -20.9% (-19.6%) | Market:  24.5% ( 45.6%) | Wins: 20.0% | eps:  0.762\n",
      "  70 | 00:11:38 | Agent: -20.4% (-17.7%) | Market:  29.4% ( 59.3%) | Wins: 20.0% | eps:  0.723\n",
      "  80 | 00:13:43 | Agent: -20.7% (-22.2%) | Market:  27.6% ( 14.7%) | Wins: 21.2% | eps:  0.683\n",
      "  90 | 00:15:57 | Agent: -19.2% ( -7.8%) | Market:  24.3% ( -2.1%) | Wins: 24.4% | eps:  0.644\n",
      " 100 | 00:18:14 | Agent: -18.5% (-12.1%) | Market:  24.0% ( 20.9%) | Wins: 24.0% | eps:  0.604\n",
      " 110 | 00:20:37 | Agent: -13.4% ( 12.1%) | Market:  26.0% ( 25.0%) | Wins: 25.0% | eps:  0.564\n",
      " 120 | 00:23:03 | Agent:  -7.4% ( 31.2%) | Market:  29.9% ( 80.6%) | Wins: 27.0% | eps:  0.525\n",
      " 130 | 00:25:32 | Agent:  -7.7% (-19.1%) | Market:  36.4% ( 80.3%) | Wins: 28.0% | eps:  0.485\n",
      " 140 | 00:28:07 | Agent:  -6.5% (  4.8%) | Market:  35.4% ( 13.4%) | Wins: 27.0% | eps:  0.446\n",
      " 150 | 00:30:49 | Agent:  -5.1% ( -0.8%) | Market:  37.9% ( 41.0%) | Wins: 27.0% | eps:  0.406\n",
      " 160 | 00:33:36 | Agent:  -2.9% (  3.1%) | Market:  34.9% ( 15.7%) | Wins: 27.0% | eps:  0.366\n",
      " 170 | 00:36:24 | Agent:   0.3% ( 13.6%) | Market:  32.7% ( 37.8%) | Wins: 28.0% | eps:  0.327\n",
      " 180 | 00:39:18 | Agent:   2.8% (  3.5%) | Market:  37.6% ( 63.3%) | Wins: 28.0% | eps:  0.287\n",
      " 190 | 00:42:17 | Agent:   8.1% ( 44.7%) | Market:  43.9% ( 61.3%) | Wins: 26.0% | eps:  0.248\n",
      " 200 | 00:45:19 | Agent:  10.6% ( 12.7%) | Market:  43.9% ( 20.4%) | Wins: 28.0% | eps:  0.208\n",
      " 210 | 00:48:26 | Agent:  10.8% ( 13.9%) | Market:  45.1% ( 37.2%) | Wins: 29.0% | eps:  0.168\n",
      " 220 | 00:51:37 | Agent:   9.6% ( 19.3%) | Market:  41.2% ( 41.3%) | Wins: 31.0% | eps:  0.129\n",
      " 230 | 00:54:55 | Agent:  11.7% (  2.0%) | Market:  35.5% ( 24.2%) | Wins: 34.0% | eps:  0.089\n",
      " 240 | 00:58:18 | Agent:  13.9% ( 26.4%) | Market:  32.7% (-14.7%) | Wins: 39.0% | eps:  0.050\n",
      " 250 | 01:01:44 | Agent:  14.5% (  6.0%) | Market:  31.5% ( 28.6%) | Wins: 41.0% | eps:  0.010\n",
      " 260 | 01:05:13 | Agent:  17.1% ( 28.6%) | Market:  33.1% ( 31.6%) | Wins: 43.0% | eps:  0.009\n",
      " 270 | 01:08:43 | Agent:  16.9% ( 12.2%) | Market:  31.5% ( 21.8%) | Wins: 43.0% | eps:  0.008\n",
      " 280 | 01:12:15 | Agent:  16.6% ( -0.1%) | Market:  33.6% ( 84.3%) | Wins: 42.0% | eps:  0.007\n",
      " 290 | 01:15:47 | Agent:  13.4% ( 13.0%) | Market:  28.4% (  9.6%) | Wins: 43.0% | eps:  0.007\n",
      " 300 | 01:19:03 | Agent:  14.7% ( 25.6%) | Market:  31.0% ( 46.1%) | Wins: 42.0% | eps:  0.006\n",
      " 310 | 01:22:17 | Agent:  14.9% ( 16.4%) | Market:  31.0% ( 36.7%) | Wins: 42.0% | eps:  0.005\n",
      " 320 | 01:25:59 | Agent:  14.3% ( 12.8%) | Market:  30.9% ( 40.5%) | Wins: 41.0% | eps:  0.005\n",
      " 330 | 01:29:28 | Agent:  15.6% ( 15.3%) | Market:  32.3% ( 38.6%) | Wins: 39.0% | eps:  0.004\n",
      " 340 | 01:32:47 | Agent:  17.8% ( 48.5%) | Market:  41.8% ( 79.7%) | Wins: 37.0% | eps:  0.004\n",
      " 350 | 01:36:16 | Agent:  22.0% ( 48.1%) | Market:  42.4% ( 35.0%) | Wins: 39.0% | eps:  0.004\n",
      " 360 | 01:39:40 | Agent:  22.3% ( 31.4%) | Market:  39.9% (  6.4%) | Wins: 40.0% | eps:  0.003\n",
      " 370 | 01:43:16 | Agent:  22.9% ( 17.7%) | Market:  40.8% ( 30.6%) | Wins: 41.0% | eps:  0.003\n",
      " 380 | 01:47:24 | Agent:  25.9% ( 30.0%) | Market:  39.3% ( 69.3%) | Wins: 42.0% | eps:  0.003\n",
      " 390 | 01:51:42 | Agent:  28.7% ( 41.3%) | Market:  42.6% ( 42.7%) | Wins: 44.0% | eps:  0.002\n",
      " 400 | 01:55:21 | Agent:  27.1% (  9.7%) | Market:  40.2% ( 22.7%) | Wins: 45.0% | eps:  0.002\n",
      " 410 | 01:59:01 | Agent:  27.9% ( 24.8%) | Market:  42.3% ( 57.8%) | Wins: 46.0% | eps:  0.002\n",
      " 420 | 02:03:02 | Agent:  31.4% ( 47.2%) | Market:  38.6% (  2.7%) | Wins: 49.0% | eps:  0.002\n",
      " 430 | 02:06:40 | Agent:  31.3% ( 14.2%) | Market:  36.7% ( 19.6%) | Wins: 52.0% | eps:  0.002\n",
      " 440 | 02:10:16 | Agent:  33.1% ( 66.5%) | Market:  30.4% ( 17.3%) | Wins: 55.0% | eps:  0.001\n",
      " 450 | 02:13:50 | Agent:  32.2% ( 39.3%) | Market:  31.8% ( 48.6%) | Wins: 53.0% | eps:  0.001\n",
      " 460 | 02:16:45 | Agent:  34.6% ( 55.6%) | Market:  38.0% ( 68.8%) | Wins: 51.0% | eps:  0.001\n",
      " 470 | 02:20:18 | Agent:  35.4% ( 25.2%) | Market:  37.1% ( 21.5%) | Wins: 52.0% | eps:  0.001\n",
      " 480 | 02:23:53 | Agent:  38.2% ( 58.1%) | Market:  35.9% ( 56.9%) | Wins: 53.0% | eps:  0.001\n",
      " 490 | 02:27:14 | Agent:  43.3% ( 92.9%) | Market:  31.6% ( -0.1%) | Wins: 54.0% | eps:  0.001\n",
      " 500 | 02:30:56 | Agent:  46.7% ( 43.4%) | Market:  32.3% ( 29.9%) | Wins: 54.0% | eps:  0.001\n",
      " 510 | 02:34:47 | Agent:  45.7% ( 14.6%) | Market:  30.2% ( 36.8%) | Wins: 51.0% | eps:  0.001\n",
      " 520 | 02:38:32 | Agent:  45.0% ( 39.9%) | Market:  32.8% ( 29.0%) | Wins: 51.0% | eps:  0.001\n",
      " 530 | 02:41:59 | Agent:  45.0% ( 14.4%) | Market:  33.1% ( 22.4%) | Wins: 49.0% | eps:  0.001\n",
      " 540 | 02:45:40 | Agent:  44.7% ( 64.0%) | Market:  33.1% ( 17.4%) | Wins: 47.0% | eps:  0.001\n",
      " 550 | 02:48:57 | Agent:  44.5% ( 36.5%) | Market:  33.2% ( 49.0%) | Wins: 48.0% | eps:  0.000\n",
      " 560 | 02:52:13 | Agent:  42.3% ( 33.7%) | Market:  29.9% ( 35.9%) | Wins: 49.0% | eps:  0.000\n",
      " 570 | 02:55:40 | Agent:  44.4% ( 46.3%) | Market:  31.1% ( 34.2%) | Wins: 49.0% | eps:  0.000\n",
      " 580 | 02:59:08 | Agent:  41.3% ( 27.2%) | Market:  33.4% ( 79.9%) | Wins: 48.0% | eps:  0.000\n",
      " 590 | 03:02:36 | Agent:  35.0% ( 30.1%) | Market:  37.0% ( 35.8%) | Wins: 45.0% | eps:  0.000\n",
      " 600 | 03:06:04 | Agent:  34.9% ( 42.2%) | Market:  39.2% ( 51.3%) | Wins: 45.0% | eps:  0.000\n",
      " 610 | 03:09:33 | Agent:  34.6% ( 11.7%) | Market:  38.5% ( 29.6%) | Wins: 49.0% | eps:  0.000\n",
      " 620 | 03:13:02 | Agent:  34.3% ( 37.0%) | Market:  39.6% ( 40.6%) | Wins: 46.0% | eps:  0.000\n",
      " 630 | 03:16:33 | Agent:  35.1% ( 22.6%) | Market:  40.7% ( 33.5%) | Wins: 44.0% | eps:  0.000\n",
      " 640 | 03:19:49 | Agent:  31.8% ( 31.1%) | Market:  44.5% ( 54.8%) | Wins: 40.0% | eps:  0.000\n",
      " 650 | 03:23:11 | Agent:  38.9% (106.9%) | Market:  40.2% (  6.4%) | Wins: 43.0% | eps:  0.000\n",
      " 660 | 03:26:46 | Agent:  39.6% ( 40.6%) | Market:  38.9% ( 22.9%) | Wins: 42.0% | eps:  0.000\n",
      " 670 | 03:30:22 | Agent:  39.2% ( 42.5%) | Market:  37.5% ( 20.2%) | Wins: 44.0% | eps:  0.000\n",
      " 680 | 03:33:58 | Agent:  38.0% ( 15.5%) | Market:  31.2% ( 16.4%) | Wins: 46.0% | eps:  0.000\n",
      " 690 | 03:37:33 | Agent:  38.2% ( 31.5%) | Market:  30.5% ( 29.1%) | Wins: 46.0% | eps:  0.000\n",
      " 700 | 03:41:09 | Agent:  36.3% ( 23.6%) | Market:  27.8% ( 24.7%) | Wins: 47.0% | eps:  0.000\n",
      " 710 | 03:44:46 | Agent:  40.2% ( 50.5%) | Market:  25.4% (  5.0%) | Wins: 47.0% | eps:  0.000\n",
      " 720 | 03:48:24 | Agent:  39.3% ( 27.8%) | Market:  25.5% ( 41.7%) | Wins: 47.0% | eps:  0.000\n",
      " 730 | 03:52:04 | Agent:  39.1% ( 20.7%) | Market:  26.5% ( 44.2%) | Wins: 51.0% | eps:  0.000\n",
      " 740 | 03:55:47 | Agent:  40.8% ( 48.9%) | Market:  25.7% ( 46.5%) | Wins: 54.0% | eps:  0.000\n",
      " 750 | 03:59:31 | Agent:  32.5% ( 23.3%) | Market:  28.4% ( 33.3%) | Wins: 51.0% | eps:  0.000\n",
      " 760 | 04:03:17 | Agent:  31.2% ( 27.3%) | Market:  26.9% (  8.3%) | Wins: 54.0% | eps:  0.000\n",
      " 770 | 04:07:04 | Agent:  27.7% (  8.1%) | Market:  28.1% ( 31.9%) | Wins: 50.0% | eps:  0.000\n",
      " 780 | 04:10:54 | Agent:  30.2% ( 40.0%) | Market:  28.0% ( 15.5%) | Wins: 49.0% | eps:  0.000\n",
      " 790 | 04:14:44 | Agent:  32.6% ( 56.0%) | Market:  29.0% ( 38.5%) | Wins: 50.0% | eps:  0.000\n",
      " 800 | 04:18:33 | Agent:  32.0% ( 17.0%) | Market:  29.3% ( 28.1%) | Wins: 51.0% | eps:  0.000\n",
      " 810 | 04:22:26 | Agent:  29.0% ( 20.9%) | Market:  35.6% ( 67.6%) | Wins: 47.0% | eps:  0.000\n",
      " 820 | 04:26:20 | Agent:  34.2% ( 79.5%) | Market:  34.7% ( 33.0%) | Wins: 48.0% | eps:  0.000\n",
      " 830 | 04:30:15 | Agent:  34.1% ( 19.8%) | Market:  30.3% (  0.7%) | Wins: 48.0% | eps:  0.000\n",
      " 840 | 04:34:11 | Agent:  36.1% ( 69.5%) | Market:  26.7% (  9.7%) | Wins: 50.0% | eps:  0.000\n",
      " 850 | 04:38:08 | Agent:  37.0% ( 32.3%) | Market:  26.2% ( 28.5%) | Wins: 49.0% | eps:  0.000\n",
      " 860 | 04:42:05 | Agent:  37.6% ( 32.7%) | Market:  27.7% ( 23.3%) | Wins: 47.0% | eps:  0.000\n",
      " 870 | 04:46:05 | Agent:  44.2% ( 74.8%) | Market:  24.0% ( -4.8%) | Wins: 51.0% | eps:  0.000\n"
     ]
    },
    {
     "name": "stdout",
     "output_type": "stream",
     "text": [
      " 880 | 04:50:03 | Agent:  45.9% ( 56.4%) | Market:  23.8% ( 13.1%) | Wins: 54.0% | eps:  0.000\n",
      " 890 | 04:54:04 | Agent:  42.7% ( 24.7%) | Market:  22.2% ( 22.3%) | Wins: 55.0% | eps:  0.000\n",
      " 900 | 04:58:05 | Agent:  44.3% ( 32.5%) | Market:  22.0% ( 26.5%) | Wins: 55.0% | eps:  0.000\n",
      " 910 | 05:02:08 | Agent:  46.4% ( 42.0%) | Market:  15.5% (  2.9%) | Wins: 60.0% | eps:  0.000\n",
      " 920 | 05:06:11 | Agent:  44.5% ( 60.6%) | Market:  16.9% ( 46.4%) | Wins: 60.0% | eps:  0.000\n",
      " 930 | 05:10:17 | Agent:  48.2% ( 57.1%) | Market:  15.2% (-16.4%) | Wins: 63.0% | eps:  0.000\n",
      " 940 | 05:14:36 | Agent:  43.4% ( 21.2%) | Market:  15.8% ( 15.7%) | Wins: 60.0% | eps:  0.000\n",
      " 950 | 05:19:13 | Agent:  45.6% ( 54.2%) | Market:  17.2% ( 43.3%) | Wins: 62.0% | eps:  0.000\n",
      " 960 | 05:23:46 | Agent:  45.3% ( 29.9%) | Market:  21.4% ( 65.3%) | Wins: 61.0% | eps:  0.000\n",
      " 970 | 05:28:24 | Agent:  43.4% ( 55.5%) | Market:  22.2% (  2.4%) | Wins: 61.0% | eps:  0.000\n",
      " 980 | 05:33:17 | Agent:  42.0% ( 42.6%) | Market:  22.9% ( 20.5%) | Wins: 61.0% | eps:  0.000\n",
      " 990 | 05:38:19 | Agent:  45.6% ( 60.1%) | Market:  19.9% ( -7.9%) | Wins: 62.0% | eps:  0.000\n",
      "1000 | 05:43:23 | Agent:  46.0% ( 36.6%) | Market:  17.6% (  3.5%) | Wins: 62.0% | eps:  0.000\n"
     ]
    }
   ],
   "source": [
    "start = time()\n",
    "results = []\n",
    "for episode in range(1, max_episodes + 1):\n",
    "    this_state = trading_environment.reset()\n",
    "    for episode_step in range(max_episode_steps):\n",
    "        action = ddqn.epsilon_greedy_policy(this_state.reshape(-1, state_dim))\n",
    "        next_state, reward, done, _ = trading_environment.step(action)\n",
    "    \n",
    "        ddqn.memorize_transition(this_state, \n",
    "                                 action, \n",
    "                                 reward, \n",
    "                                 next_state, \n",
    "                                 0.0 if done else 1.0)\n",
    "        if ddqn.train:\n",
    "            ddqn.experience_replay()\n",
    "        if done:\n",
    "            break\n",
    "        this_state = next_state\n",
    "\n",
    "    # get DataFrame with seqence of actions, returns and nav values\n",
    "    result = trading_environment.env.simulator.result()\n",
    "    \n",
    "    # get results of last step\n",
    "    final = result.iloc[-1]\n",
    "\n",
    "    # apply return (net of cost) of last action to last starting nav \n",
    "    nav = final.nav * (1 + final.strategy_return)\n",
    "    navs.append(nav)\n",
    "\n",
    "    # market nav \n",
    "    market_nav = final.market_nav\n",
    "    market_navs.append(market_nav)\n",
    "\n",
    "    # track difference between agent an market NAV results\n",
    "    diff = nav - market_nav\n",
    "    diffs.append(diff)\n",
    "    \n",
    "    if episode % 10 == 0:\n",
    "        track_results(episode, \n",
    "                      # show mov. average results for 100 (10) periods\n",
    "                      np.mean(navs[-100:]), \n",
    "                      np.mean(navs[-10:]), \n",
    "                      np.mean(market_navs[-100:]), \n",
    "                      np.mean(market_navs[-10:]), \n",
    "                      # share of agent wins, defined as higher ending nav\n",
    "                      np.sum([s > 0 for s in diffs[-100:]])/min(len(diffs), 100), \n",
    "                      time() - start, ddqn.epsilon)\n",
    "    if len(diffs) > 25 and all([r > 0 for r in diffs[-25:]]):\n",
    "        print(result.tail())\n",
    "        break\n",
    "\n",
    "trading_environment.close()"
   ]
  },
  {
   "cell_type": "markdown",
   "metadata": {},
   "source": [
    "### Store Results"
   ]
  },
  {
   "cell_type": "code",
   "execution_count": 26,
   "metadata": {
    "ExecuteTime": {
     "start_time": "2021-02-25T06:20:28.020Z"
    }
   },
   "outputs": [
    {
     "name": "stdout",
     "output_type": "stream",
     "text": [
      "<class 'pandas.core.frame.DataFrame'>\n",
      "Int64Index: 1000 entries, 1 to 1000\n",
      "Data columns (total 4 columns):\n",
      " #   Column             Non-Null Count  Dtype  \n",
      "---  ------             --------------  -----  \n",
      " 0   Agent              1000 non-null   float64\n",
      " 1   Market             1000 non-null   float64\n",
      " 2   Difference         1000 non-null   float64\n",
      " 3   Strategy Wins (%)  901 non-null    float64\n",
      "dtypes: float64(4)\n",
      "memory usage: 39.1 KB\n"
     ]
    }
   ],
   "source": [
    "results = pd.DataFrame({'Episode': list(range(1, episode+1)),\n",
    "                        'Agent': navs,\n",
    "                        'Market': market_navs,\n",
    "                        'Difference': diffs}).set_index('Episode')\n",
    "\n",
    "results['Strategy Wins (%)'] = (results.Difference > 0).rolling(100).sum()\n",
    "results.info()"
   ]
  },
  {
   "cell_type": "code",
   "execution_count": 27,
   "metadata": {
    "ExecuteTime": {
     "start_time": "2021-02-25T06:20:28.023Z"
    }
   },
   "outputs": [],
   "source": [
    "results.to_csv(results_path / 'results.csv', index=False)"
   ]
  },
  {
   "cell_type": "code",
   "execution_count": 28,
   "metadata": {
    "ExecuteTime": {
     "start_time": "2021-02-25T06:20:28.025Z"
    }
   },
   "outputs": [
    {
     "data": {
      "image/png": "[encoded data removed]",
      "text/plain": [
       "<Figure size 432x288 with 1 Axes>"
      ]
     },
     "metadata": {},
     "output_type": "display_data"
    }
   ],
   "source": [
    "with sns.axes_style('white'):\n",
    "    sns.distplot(results.Difference)\n",
    "    sns.despine()"
   ]
  },
  {
   "cell_type": "markdown",
   "metadata": {},
   "source": [
    "### Evaluate Results"
   ]
  },
  {
   "cell_type": "code",
   "execution_count": 29,
   "metadata": {
    "ExecuteTime": {
     "start_time": "2021-02-25T06:20:28.029Z"
    }
   },
   "outputs": [
    {
     "name": "stdout",
     "output_type": "stream",
     "text": [
      "<class 'pandas.core.frame.DataFrame'>\n",
      "Int64Index: 1000 entries, 1 to 1000\n",
      "Data columns (total 4 columns):\n",
      " #   Column             Non-Null Count  Dtype  \n",
      "---  ------             --------------  -----  \n",
      " 0   Agent              1000 non-null   float64\n",
      " 1   Market             1000 non-null   float64\n",
      " 2   Difference         1000 non-null   float64\n",
      " 3   Strategy Wins (%)  901 non-null    float64\n",
      "dtypes: float64(4)\n",
      "memory usage: 39.1 KB\n"
     ]
    }
   ],
   "source": [
    "results.info()"
   ]
  },
  {
   "cell_type": "markdown",
   "metadata": {},
   "source": [
    "The following diagram shows the rolling average of agent and market returns over 100 periods on the left, and the share of the last 100 periods the agent outperformed the market on the right. It uses AAPL stock data with some 9,000 daily price and volume observations, corresponding to ~35 years of data. \n",
    "\n",
    "It shows how the agent's performance improves significantly while exploring at a higher rate over the first ~600 periods (that is, years) and approaches a level where it outperforms the market around 40 percent of the time, despite transaction costs. In an increasing number of instances, it beats the market over half the time out of 100 periods:"
   ]
  },
  {
   "cell_type": "code",
   "execution_count": 30,
   "metadata": {
    "ExecuteTime": {
     "start_time": "2021-02-25T06:20:28.031Z"
    }
   },
   "outputs": [
    {
     "data": {
      "image/png": "[encoded data removed]",
      "text/plain": [
       "<Figure size 1008x288 with 2 Axes>"
      ]
     },
     "metadata": {},
     "output_type": "display_data"
    }
   ],
   "source": [
    "fig, axes = plt.subplots(ncols=2, figsize=(14, 4), sharey=True)\n",
    "\n",
    "df1 = (results[['Agent', 'Market']]\n",
    "       .sub(1)\n",
    "       .rolling(100)\n",
    "       .mean())\n",
    "df1.plot(ax=axes[0],\n",
    "         title='Annual Returns (Moving Average)',\n",
    "         lw=1)\n",
    "\n",
    "df2 = results['Strategy Wins (%)'].div(100).rolling(50).mean()\n",
    "df2.plot(ax=axes[1],\n",
    "         title='Agent Outperformance (%, Moving Average)')\n",
    "\n",
    "for ax in axes:\n",
    "    ax.yaxis.set_major_formatter(\n",
    "        FuncFormatter(lambda y, _: '{:.0%}'.format(y)))\n",
    "    ax.xaxis.set_major_formatter(\n",
    "        FuncFormatter(lambda x, _: '{:,.0f}'.format(x)))\n",
    "axes[1].axhline(.5, ls='--', c='k', lw=1)\n",
    "\n",
    "sns.despine()\n",
    "fig.tight_layout()\n",
    "fig.savefig(results_path / 'performance', dpi=300)"
   ]
  },
  {
   "cell_type": "markdown",
   "metadata": {},
   "source": [
    "## Summary"
   ]
  },
  {
   "cell_type": "markdown",
   "metadata": {},
   "source": [
    "This relatively simple agent uses **no information beyond the latest market data and the reward signal** compared to the machine learning models we covered elsewhere in this book. Nonetheless, it learns to make a profit and achieve performance similar to that of the market (after training on <1,000 years' worth of data, which takes only a fraction of the time on a GPU).\n",
    "\n",
    "Keep in mind that using a single stock also increases the **risk of overfitting** to the data — by a lot. You can test your trained agent on new data using the saved model (see the notebook for Lunar Lander).\n",
    "\n",
    "In summary, we have demonstrated the **mechanics of setting up an RL trading environment** and experimented with a basic agent that uses a small number of technical indicators. You should **try to extend both the environment and the agent** - for example, by allowing it to choose from several assets, size the positions, and manage risks.\n",
    "\n",
    "Reinforcement learning is often considered **one of the most promising approaches to algorithmic trading** because it most accurately models the task an investor is facing. However, our dramatically simplified examples illustrate that creating a **realistic environment poses a considerable challenge**. Moreover, deep reinforcement learning that has achieved impressive breakthroughs in other domains may face greater obstacles given the noisy nature of financial data, which makes it even harder to learn a value function based on delayed rewards.\n",
    "\n",
    "Nonetheless, the substantial interest in this subject makes it likely that institutional investors are working on larger-scale experiments that may yield tangible results. An interesting complementary approach beyond the scope of this book is **Inverse Reinforcement Learning**, which aims to identify the reward function of an agent(for example, a human trader) given its observed behavior; see [Arora and Doshi (2019)](https://www.semanticscholar.org/paper/A-Survey-of-Inverse-Reinforcement-Learning%3A-Methods-Arora-Doshi/9d4d8509f6da094a7c31e063f307e0e8592db27f) for a survey and [Roa-Vicens et al. (2019)](https://deepai.org/publication/towards-inverse-reinforcement-learning-for-limit-order-book-dynamics) for an application on trading in the limit-order book context.\n"
   ]
  },
  {
   "cell_type": "code",
   "execution_count": null,
   "metadata": {},
   "outputs": [],
   "source": []
  }
 ],
 "metadata": {
  "kernelspec": {
   "display_name": "Python [conda env:ml4t]",
   "language": "python",
   "name": "conda-env-ml4t-py"
  },
  "language_info": {
   "codemirror_mode": {
    "name": "ipython",
    "version": 3
   },
   "file_extension": ".py",
   "mimetype": "text/x-python",
   "name": "python",
   "nbconvert_exporter": "python",
   "pygments_lexer": "ipython3",
   "version": "3.8.8"
  },
  "toc": {
   "base_numbering": 1,
   "nav_menu": {},
   "number_sections": true,
   "sideBar": true,
   "skip_h1_title": true,
   "title_cell": "Table of Contents",
   "title_sidebar": "Contents",
   "toc_cell": false,
   "toc_position": {
    "height": "calc(100% - 180px)",
    "left": "10px",
    "top": "150px",
    "width": "230.906px"
   },
   "toc_section_display": true,
   "toc_window_display": true
  }
 },
 "nbformat": 4,
 "nbformat_minor": 4
}
