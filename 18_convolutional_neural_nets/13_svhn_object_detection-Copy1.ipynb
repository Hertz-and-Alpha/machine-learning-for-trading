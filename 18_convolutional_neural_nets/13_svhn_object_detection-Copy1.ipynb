{
 "cells": [
  {
   "cell_type": "markdown",
   "metadata": {},
   "source": [
    "# Object Detection with Street View House Numbers"
   ]
  },
  {
   "cell_type": "markdown",
   "metadata": {},
   "source": [
    "This notebook illustrates how to build a deep CNN using Keras’ functional API to generate multiple outputs: one to predict how many digits are present, and five for the value of each in the order they appear."
   ]
  },
  {
   "cell_type": "markdown",
   "metadata": {},
   "source": [
    "## Imports & Settings"
   ]
  },
  {
   "cell_type": "code",
   "execution_count": 1,
   "metadata": {
    "ExecuteTime": {
     "end_time": "2021-02-23T06:31:18.550029Z",
     "start_time": "2021-02-23T06:31:16.887702Z"
    }
   },
   "outputs": [
    {
     "name": "stdout",
     "output_type": "stream",
     "text": [
      "INFO:tensorflow:Enabling eager execution\n",
      "INFO:tensorflow:Enabling v2 tensorshape\n",
      "INFO:tensorflow:Enabling resource variables\n",
      "INFO:tensorflow:Enabling tensor equality\n",
      "INFO:tensorflow:Enabling control flow v2\n"
     ]
    }
   ],
   "source": [
    "%matplotlib inline\n",
    "from pathlib import Path\n",
    "import pandas as pd\n",
    "import numpy as np\n",
    "\n",
    "import matplotlib.pyplot as plt\n",
    "import seaborn as sns\n",
    "\n",
    "from sklearn.metrics import confusion_matrix\n",
    "\n",
    "import tensorflow as tf\n",
    "from tensorflow.keras.models import Model\n",
    "from tensorflow.keras.applications.vgg16 import VGG16\n",
    "from tensorflow.keras.callbacks import ModelCheckpoint, EarlyStopping\n",
    "from tensorflow.keras.layers import (Flatten,\n",
    "                                     Dense,\n",
    "                                     BatchNormalization,\n",
    "                                     Activation,\n",
    "                                     Concatenate)\n",
    "from tensorflow.keras import backend as K\n",
    "from matplotlib.ticker import FuncFormatter"
   ]
  },
  {
   "cell_type": "code",
   "execution_count": 2,
   "metadata": {
    "ExecuteTime": {
     "end_time": "2021-02-23T06:31:18.554748Z",
     "start_time": "2021-02-23T06:31:18.551206Z"
    }
   },
   "outputs": [
    {
     "name": "stdout",
     "output_type": "stream",
     "text": [
      "Using GPU\n"
     ]
    }
   ],
   "source": [
    "gpu_devices = tf.config.experimental.list_physical_devices('GPU')\n",
    "if gpu_devices:\n",
    "    print('Using GPU')\n",
    "    tf.config.experimental.set_memory_growth(gpu_devices[0], True)\n",
    "else:\n",
    "    print('Using CPU')"
   ]
  },
  {
   "cell_type": "code",
   "execution_count": 3,
   "metadata": {
    "ExecuteTime": {
     "end_time": "2021-02-23T06:31:18.577875Z",
     "start_time": "2021-02-23T06:31:18.556746Z"
    }
   },
   "outputs": [],
   "source": [
    "sns.set_style('whitegrid')"
   ]
  },
  {
   "cell_type": "code",
   "execution_count": 4,
   "metadata": {
    "ExecuteTime": {
     "end_time": "2021-02-23T06:31:18.590860Z",
     "start_time": "2021-02-23T06:31:18.579655Z"
    }
   },
   "outputs": [],
   "source": [
    "data_path = Path('images', 'svhn')"
   ]
  },
  {
   "cell_type": "code",
   "execution_count": 5,
   "metadata": {
    "ExecuteTime": {
     "end_time": "2021-02-23T06:31:18.604077Z",
     "start_time": "2021-02-23T06:31:18.592627Z"
    }
   },
   "outputs": [],
   "source": [
    "results_path = Path('results', 'svhn')\n",
    "if not results_path.exists():\n",
    "    results_path.mkdir()"
   ]
  },
  {
   "cell_type": "markdown",
   "metadata": {},
   "source": [
    "### Settings"
   ]
  },
  {
   "cell_type": "code",
   "execution_count": 6,
   "metadata": {
    "ExecuteTime": {
     "end_time": "2020-06-21T22:47:33.329124Z",
     "start_time": "2020-06-21T22:47:33.323269Z"
    }
   },
   "outputs": [],
   "source": [
    "IMG_SIZE = 32\n",
    "IMG_SHAPE = (IMG_SIZE, IMG_SIZE, 3)\n",
    "SEQ_LENGTH = 4\n",
    "N_CLASSES = 11"
   ]
  },
  {
   "cell_type": "markdown",
   "metadata": {},
   "source": [
    "## Load Data "
   ]
  },
  {
   "cell_type": "code",
   "execution_count": 7,
   "metadata": {
    "ExecuteTime": {
     "end_time": "2020-06-21T22:47:33.421046Z",
     "start_time": "2020-06-21T22:47:33.331060Z"
    }
   },
   "outputs": [],
   "source": [
    "X_train = np.load(data_path / 'X_train.npy')\n",
    "y_train = np.load(data_path / 'y_train.npy')"
   ]
  },
  {
   "cell_type": "markdown",
   "metadata": {},
   "source": [
    "Removing the rare cases of 5-digit house numbers."
   ]
  },
  {
   "cell_type": "code",
   "execution_count": 8,
   "metadata": {
    "ExecuteTime": {
     "end_time": "2020-06-21T22:47:33.499427Z",
     "start_time": "2020-06-21T22:47:33.422656Z"
    }
   },
   "outputs": [],
   "source": [
    "X_train = X_train[y_train[:, 0] < 5]\n",
    "y_train = y_train[y_train[:, 0] < 5, :5]\n",
    "y_train[:, 0] -= 1"
   ]
  },
  {
   "cell_type": "code",
   "execution_count": 9,
   "metadata": {
    "ExecuteTime": {
     "end_time": "2020-06-21T22:47:33.539675Z",
     "start_time": "2020-06-21T22:47:33.502174Z"
    }
   },
   "outputs": [],
   "source": [
    "X_test = np.load(data_path / 'X_test.npy')\n",
    "y_test = np.load(data_path / 'y_test.npy')"
   ]
  },
  {
   "cell_type": "code",
   "execution_count": 10,
   "metadata": {
    "ExecuteTime": {
     "end_time": "2020-06-21T22:47:33.571516Z",
     "start_time": "2020-06-21T22:47:33.540841Z"
    }
   },
   "outputs": [],
   "source": [
    "X_test = X_test[y_test[:, 0] < 5]\n",
    "y_test = y_test[y_test[:, 0] < 5, :5]\n",
    "y_test[:, 0] -= 1"
   ]
  },
  {
   "cell_type": "code",
   "execution_count": 11,
   "metadata": {
    "ExecuteTime": {
     "end_time": "2020-06-21T22:47:33.581705Z",
     "start_time": "2020-06-21T22:47:33.572843Z"
    }
   },
   "outputs": [
    {
     "data": {
      "text/plain": [
       "0     4\n",
       "1    10\n",
       "2    11\n",
       "3    11\n",
       "4    11\n",
       "dtype: int64"
      ]
     },
     "execution_count": 11,
     "metadata": {},
     "output_type": "execute_result"
    }
   ],
   "source": [
    "pd.DataFrame(y_train).nunique()"
   ]
  },
  {
   "cell_type": "code",
   "execution_count": 12,
   "metadata": {
    "ExecuteTime": {
     "end_time": "2020-06-21T22:47:33.586550Z",
     "start_time": "2020-06-21T22:47:33.583453Z"
    }
   },
   "outputs": [
    {
     "data": {
      "text/plain": [
       "(33392, 5)"
      ]
     },
     "execution_count": 12,
     "metadata": {},
     "output_type": "execute_result"
    }
   ],
   "source": [
    "y_train.shape"
   ]
  },
  {
   "cell_type": "markdown",
   "metadata": {},
   "source": [
    "## Best Architecture"
   ]
  },
  {
   "cell_type": "markdown",
   "metadata": {},
   "source": [
    "[Multi-digit Number Recognition from Street View Imagery using Deep Convolutional Neural Networks](https://arxiv.org/abs/1312.6082), Goodfellow, et al, 2014"
   ]
  },
  {
   "cell_type": "code",
   "execution_count": 13,
   "metadata": {
    "ExecuteTime": {
     "end_time": "2020-06-21T22:47:33.593612Z",
     "start_time": "2020-06-21T22:47:33.587628Z"
    }
   },
   "outputs": [],
   "source": [
    "digit_pos = {1: [4, 14], 2: [14, 25], 3: [25, 36], 4: [36, 47]}"
   ]
  },
  {
   "cell_type": "code",
   "execution_count": 14,
   "metadata": {
    "ExecuteTime": {
     "end_time": "2020-06-21T22:47:33.602882Z",
     "start_time": "2020-06-21T22:47:33.594860Z"
    }
   },
   "outputs": [],
   "source": [
    "def weighted_accuracy(y_true, y_pred):\n",
    "    n_digits_pred = K.argmax(y_pred[:, :SEQ_LENGTH], axis=1)\n",
    "\n",
    "    digit_preds = {}\n",
    "    for digit, (start, end) in digit_pos.items():\n",
    "        digit_preds[digit] = K.argmax(y_pred[:, start:end], axis=1)\n",
    "    preds = tf.dtypes.cast(tf.stack((n_digits_pred,\n",
    "                                     digit_preds[1],\n",
    "                                     digit_preds[2],\n",
    "                                     digit_preds[3],\n",
    "                                     digit_preds[4]), axis=1), tf.float32)\n",
    "\n",
    "    return K.mean(K.sum(tf.dtypes.cast(K.equal(y_true, preds), tf.int64), axis=1) / 5)"
   ]
  },
  {
   "cell_type": "code",
   "execution_count": 15,
   "metadata": {
    "ExecuteTime": {
     "end_time": "2020-06-21T22:47:33.614552Z",
     "start_time": "2020-06-21T22:47:33.604375Z"
    }
   },
   "outputs": [],
   "source": [
    "def weighted_entropy(y_true, y_pred):\n",
    "    cce = tf.keras.losses.SparseCategoricalCrossentropy()\n",
    "    n_digits = y_pred[:, :SEQ_LENGTH]\n",
    "\n",
    "    digits = {}\n",
    "    for digit, (start, end) in digit_pos.items():\n",
    "        digits[digit] = y_pred[:, start:end]\n",
    "    return (cce(y_true[:, 0], n_digits) +\n",
    "            cce(y_true[:, 1], digits[1]) +\n",
    "            cce(y_true[:, 2], digits[2]) +\n",
    "            cce(y_true[:, 3], digits[3]) +\n",
    "            cce(y_true[:, 4], digits[4])) / 5"
   ]
  },
  {
   "cell_type": "code",
   "execution_count": 16,
   "metadata": {
    "ExecuteTime": {
     "end_time": "2020-06-21T22:47:34.551253Z",
     "start_time": "2020-06-21T22:47:33.616023Z"
    }
   },
   "outputs": [],
   "source": [
    "vgg16 = VGG16(input_shape=IMG_SHAPE, include_top=False, weights='imagenet')\n",
    "vgg16.trainable = False\n",
    "x = vgg16.output\n",
    "x = Flatten()(x)\n",
    "x = BatchNormalization()(x)\n",
    "x = Dense(256)(x)\n",
    "x = BatchNormalization()(x)\n",
    "x = Activation('relu')(x)\n",
    "x = Dense(128)(x)\n",
    "x = BatchNormalization()(x)\n",
    "x = Activation('relu')(x)\n",
    "n_digits = Dense(SEQ_LENGTH, activation='softmax', name='n_digits')(x)\n",
    "digit1 = Dense(N_CLASSES-1, activation='softmax', name='d1')(x)\n",
    "digit2 = Dense(N_CLASSES, activation='softmax', name='d2')(x)\n",
    "digit3 = Dense(N_CLASSES, activation='softmax', name='d3')(x)\n",
    "digit4 = Dense(N_CLASSES, activation='softmax', name='d4')(x)\n",
    "predictions = Concatenate()([n_digits, digit1, digit2, digit3, digit4])\n",
    "\n",
    "model = Model(inputs=vgg16.input, outputs=predictions)"
   ]
  },
  {
   "cell_type": "code",
   "execution_count": 17,
   "metadata": {
    "ExecuteTime": {
     "end_time": "2020-06-21T22:47:34.562923Z",
     "start_time": "2020-06-21T22:47:34.552629Z"
    }
   },
   "outputs": [],
   "source": [
    "model.compile(optimizer='adam',\n",
    "              loss=weighted_entropy,\n",
    "              metrics=[weighted_accuracy])"
   ]
  },
  {
   "cell_type": "markdown",
   "metadata": {},
   "source": [
    "As a result, the model produces five distinct outputs that we can evaluate."
   ]
  },
  {
   "cell_type": "markdown",
   "metadata": {},
   "source": [
    "## Define Callbacks"
   ]
  },
  {
   "cell_type": "code",
   "execution_count": 18,
   "metadata": {
    "ExecuteTime": {
     "end_time": "2020-06-21T22:47:34.578201Z",
     "start_time": "2020-06-21T22:47:34.564583Z"
    }
   },
   "outputs": [],
   "source": [
    "svhn_path = (results_path / 'svhn.weights.best.hdf5').as_posix()\n",
    "checkpointer = ModelCheckpoint(filepath=svhn_path, \n",
    "                               verbose=1, \n",
    "                               monitor='val_weighted_accuracy',\n",
    "                               save_best_only=True)"
   ]
  },
  {
   "cell_type": "code",
   "execution_count": 19,
   "metadata": {
    "ExecuteTime": {
     "end_time": "2020-06-21T22:47:34.589806Z",
     "start_time": "2020-06-21T22:47:34.579325Z"
    }
   },
   "outputs": [],
   "source": [
    "early_stopping = EarlyStopping(monitor='val_weighted_accuracy', \n",
    "                               patience=5)"
   ]
  },
  {
   "cell_type": "markdown",
   "metadata": {},
   "source": [
    "## Train Transfer Model"
   ]
  },
  {
   "cell_type": "code",
   "execution_count": 20,
   "metadata": {
    "ExecuteTime": {
     "end_time": "2020-06-21T22:47:34.597557Z",
     "start_time": "2020-06-21T22:47:34.590823Z"
    }
   },
   "outputs": [],
   "source": [
    "epochs = 50"
   ]
  },
  {
   "cell_type": "code",
   "execution_count": 21,
   "metadata": {
    "ExecuteTime": {
     "end_time": "2020-06-21T22:49:40.715789Z",
     "start_time": "2020-06-21T22:47:34.598687Z"
    }
   },
   "outputs": [
    {
     "name": "stdout",
     "output_type": "stream",
     "text": [
      "Epoch 1/50\n",
      "940/940 [==============================] - 32s 25ms/step - loss: 1.2031 - weighted_accuracy: 0.5964 - val_loss: 0.9593 - val_weighted_accuracy: 0.6742 1s - loss: 1.2116 - wei\n",
      "\n",
      "Epoch 00001: val_weighted_accuracy improved from -inf to 0.67423, saving model to results/svhn\\svhn.weights.best.hdf5\n",
      "Epoch 2/50\n",
      "940/940 [==============================] - 23s 24ms/step - loss: 0.9282 - weighted_accuracy: 0.6836 - val_loss: 0.9215 - val_weighted_accuracy: 0.6899\n",
      "\n",
      "Epoch 00002: val_weighted_accuracy improved from 0.67423 to 0.68988, saving model to results/svhn\\svhn.weights.best.hdf5\n",
      "Epoch 3/50\n",
      "940/940 [==============================] - 21s 23ms/step - loss: 0.8793 - weighted_accuracy: 0.6985 - val_loss: 0.9120 - val_weighted_accuracy: 0.6898\n",
      "\n",
      "Epoch 00003: val_weighted_accuracy did not improve from 0.68988\n",
      "Epoch 4/50\n",
      "940/940 [==============================] - 21s 23ms/step - loss: 0.8401 - weighted_accuracy: 0.7113 - val_loss: 0.9029 - val_weighted_accuracy: 0.6961\n",
      "\n",
      "Epoch 00004: val_weighted_accuracy improved from 0.68988 to 0.69605, saving model to results/svhn\\svhn.weights.best.hdf5\n",
      "Epoch 5/50\n",
      "940/940 [==============================] - 21s 23ms/step - loss: 0.8117 - weighted_accuracy: 0.7219 - val_loss: 0.9039 - val_weighted_accuracy: 0.6963\n",
      "\n",
      "Epoch 00005: val_weighted_accuracy improved from 0.69605 to 0.69627, saving model to results/svhn\\svhn.weights.best.hdf5\n",
      "Epoch 6/50\n",
      "940/940 [==============================] - 23s 25ms/step - loss: 0.7858 - weighted_accuracy: 0.7297 - val_loss: 0.9102 - val_weighted_accuracy: 0.6987\n",
      "\n",
      "Epoch 00006: val_weighted_accuracy improved from 0.69627 to 0.69871, saving model to results/svhn\\svhn.weights.best.hdf5\n",
      "Epoch 7/50\n",
      "940/940 [==============================] - 21s 23ms/step - loss: 0.7649 - weighted_accuracy: 0.7365 - val_loss: 0.9100 - val_weighted_accuracy: 0.6973\n",
      "\n",
      "Epoch 00007: val_weighted_accuracy did not improve from 0.69871\n",
      "Epoch 8/50\n",
      "940/940 [==============================] - 21s 22ms/step - loss: 0.7446 - weighted_accuracy: 0.7429 - val_loss: 0.9147 - val_weighted_accuracy: 0.6992\n",
      "\n",
      "Epoch 00008: val_weighted_accuracy improved from 0.69871 to 0.69925, saving model to results/svhn\\svhn.weights.best.hdf5\n",
      "Epoch 9/50\n",
      "940/940 [==============================] - 21s 23ms/step - loss: 0.7232 - weighted_accuracy: 0.7504 - val_loss: 0.9249 - val_weighted_accuracy: 0.7001\n",
      "\n",
      "Epoch 00009: val_weighted_accuracy improved from 0.69925 to 0.70012, saving model to results/svhn\\svhn.weights.best.hdf5\n",
      "Epoch 10/50\n",
      "940/940 [==============================] - 24s 25ms/step - loss: 0.7042 - weighted_accuracy: 0.7575 - val_loss: 0.9405 - val_weighted_accuracy: 0.6971\n",
      "\n",
      "Epoch 00010: val_weighted_accuracy did not improve from 0.70012\n",
      "Epoch 11/50\n",
      "940/940 [==============================] - 21s 23ms/step - loss: 0.6880 - weighted_accuracy: 0.7619 - val_loss: 0.9512 - val_weighted_accuracy: 0.6955\n",
      "\n",
      "Epoch 00011: val_weighted_accuracy did not improve from 0.70012\n",
      "Epoch 12/50\n",
      "940/940 [==============================] - 21s 22ms/step - loss: 0.6754 - weighted_accuracy: 0.7677 - val_loss: 0.9488 - val_weighted_accuracy: 0.6987\n",
      "\n",
      "Epoch 00012: val_weighted_accuracy did not improve from 0.70012\n",
      "Epoch 13/50\n",
      "940/940 [==============================] - 21s 22ms/step - loss: 0.6641 - weighted_accuracy: 0.7718 - val_loss: 0.9814 - val_weighted_accuracy: 0.6963\n",
      "\n",
      "Epoch 00013: val_weighted_accuracy did not improve from 0.70012\n",
      "Epoch 14/50\n",
      "940/940 [==============================] - 23s 25ms/step - loss: 0.6532 - weighted_accuracy: 0.7740 - val_loss: 0.9916 - val_weighted_accuracy: 0.6969\n",
      "\n",
      "Epoch 00014: val_weighted_accuracy did not improve from 0.70012\n"
     ]
    }
   ],
   "source": [
    "result = model.fit(x=X_train,\n",
    "                    y=y_train,\n",
    "                    validation_split=.1,\n",
    "                    batch_size=32,\n",
    "                    epochs=epochs,\n",
    "                    verbose=1,\n",
    "                    callbacks=[checkpointer, early_stopping])"
   ]
  },
  {
   "cell_type": "markdown",
   "metadata": {},
   "source": [
    "### Evaluate Results"
   ]
  },
  {
   "cell_type": "code",
   "execution_count": 22,
   "metadata": {
    "ExecuteTime": {
     "end_time": "2020-06-21T22:49:40.721759Z",
     "start_time": "2020-06-21T22:49:40.718448Z"
    }
   },
   "outputs": [],
   "source": [
    "metrics = pd.DataFrame(result.history)\n",
    "initial_epochs = len(metrics)"
   ]
  },
  {
   "cell_type": "code",
   "execution_count": 23,
   "metadata": {
    "ExecuteTime": {
     "end_time": "2020-06-21T22:49:43.797793Z",
     "start_time": "2020-06-21T22:49:40.723438Z"
    }
   },
   "outputs": [
    {
     "name": "stdout",
     "output_type": "stream",
     "text": [
      "409/409 [==============================] - 4s 9ms/step\n"
     ]
    }
   ],
   "source": [
    "y_pred = model.predict(X_test, verbose=1)"
   ]
  },
  {
   "cell_type": "code",
   "execution_count": 24,
   "metadata": {
    "ExecuteTime": {
     "end_time": "2020-06-21T22:49:43.801856Z",
     "start_time": "2020-06-21T22:49:43.799234Z"
    }
   },
   "outputs": [],
   "source": [
    "n_digits = y_pred[:, :SEQ_LENGTH]\n",
    "digits = {}\n",
    "for digit, (start, end) in digit_pos.items():\n",
    "    digits[digit] = y_pred[:, start:end]"
   ]
  },
  {
   "cell_type": "code",
   "execution_count": 25,
   "metadata": {
    "ExecuteTime": {
     "end_time": "2020-06-21T22:49:43.811605Z",
     "start_time": "2020-06-21T22:49:43.803140Z"
    },
    "scrolled": true
   },
   "outputs": [
    {
     "data": {
      "text/plain": [
       "0.8055257921322516"
      ]
     },
     "execution_count": 25,
     "metadata": {},
     "output_type": "execute_result"
    }
   ],
   "source": [
    "(y_test[:, 0] == np.argmax(n_digits, axis=1)).sum()/len(n_digits)"
   ]
  },
  {
   "cell_type": "code",
   "execution_count": 26,
   "metadata": {
    "ExecuteTime": {
     "end_time": "2020-06-21T22:49:43.838265Z",
     "start_time": "2020-06-21T22:49:43.820295Z"
    }
   },
   "outputs": [
    {
     "data": {
      "text/plain": [
       "array([[2057,  396,   26,    4],\n",
       "       [ 554, 6759, 1020,   23],\n",
       "       [  16,  306, 1644,  115],\n",
       "       [   0,    1,   80,   65]], dtype=int64)"
      ]
     },
     "execution_count": 26,
     "metadata": {},
     "output_type": "execute_result"
    }
   ],
   "source": [
    "confusion_matrix(y_true=y_test[:, 0], y_pred=np.argmax(n_digits, axis=1))"
   ]
  },
  {
   "cell_type": "code",
   "execution_count": 27,
   "metadata": {
    "ExecuteTime": {
     "end_time": "2020-06-21T22:49:43.847640Z",
     "start_time": "2020-06-21T22:49:43.839615Z"
    }
   },
   "outputs": [],
   "source": [
    "accuracy = np.zeros_like(y_test)\n",
    "accuracy[:, 0] = (y_test[:, 0] == np.argmax(n_digits, axis=1))\n",
    "for i in range(1, 5):\n",
    "    accuracy[:, i] = (y_test[:, i] == np.argmax(digits[i], axis=1))"
   ]
  },
  {
   "cell_type": "code",
   "execution_count": 28,
   "metadata": {
    "ExecuteTime": {
     "end_time": "2020-06-21T22:49:43.853626Z",
     "start_time": "2020-06-21T22:49:43.849114Z"
    }
   },
   "outputs": [],
   "source": [
    "acc_by_output = {}\n",
    "for i in range(5):\n",
    "    acc_by_output[i] = accuracy[:, i].sum()/accuracy[:, i].shape[0]"
   ]
  },
  {
   "cell_type": "code",
   "execution_count": 29,
   "metadata": {
    "ExecuteTime": {
     "end_time": "2020-06-21T22:49:43.864051Z",
     "start_time": "2020-06-21T22:49:43.855092Z"
    }
   },
   "outputs": [],
   "source": [
    "acc_up_to_out = {}\n",
    "for i in range(1, 6):\n",
    "    r = accuracy[:, :i].all(1)\n",
    "    acc_up_to_out[i-1] = r.sum()/r.shape[0]"
   ]
  },
  {
   "cell_type": "code",
   "execution_count": 30,
   "metadata": {
    "ExecuteTime": {
     "end_time": "2020-06-21T22:49:44.063802Z",
     "start_time": "2020-06-21T22:49:43.865700Z"
    }
   },
   "outputs": [
    {
     "data": {
      "image/png": "[encoded data removed]",
      "text/plain": [
       "<Figure size 432x288 with 1 Axes>"
      ]
     },
     "metadata": {},
     "output_type": "display_data"
    }
   ],
   "source": [
    "pd.DataFrame({'acc1': acc_by_output, 'acc2': acc_up_to_out}).plot.bar()\n",
    "sns.despine();"
   ]
  },
  {
   "cell_type": "markdown",
   "metadata": {},
   "source": [
    "## Fine Tune VGG16 weights"
   ]
  },
  {
   "cell_type": "code",
   "execution_count": 31,
   "metadata": {
    "ExecuteTime": {
     "end_time": "2020-06-21T22:49:44.069035Z",
     "start_time": "2020-06-21T22:49:44.065240Z"
    }
   },
   "outputs": [],
   "source": [
    "vgg16.trainable = True\n",
    "# Fine-tune from this layer onwards\n",
    "start_fine_tuning_at = 1\n",
    "\n",
    "# Freeze all the layers before the `fine_tune_at` layer\n",
    "for layer in vgg16.layers[:start_fine_tuning_at]:\n",
    "    layer.trainable =  False"
   ]
  },
  {
   "cell_type": "code",
   "execution_count": 32,
   "metadata": {
    "ExecuteTime": {
     "end_time": "2020-06-21T22:49:44.087667Z",
     "start_time": "2020-06-21T22:49:44.070675Z"
    }
   },
   "outputs": [],
   "source": [
    "model.compile(optimizer='adam',\n",
    "              loss=weighted_entropy,\n",
    "              metrics=[weighted_accuracy])"
   ]
  },
  {
   "cell_type": "code",
   "execution_count": 33,
   "metadata": {
    "ExecuteTime": {
     "end_time": "2020-06-21T22:49:44.091960Z",
     "start_time": "2020-06-21T22:49:44.089229Z"
    }
   },
   "outputs": [],
   "source": [
    "fine_tune_epochs = 50\n",
    "total_epochs = initial_epochs + fine_tune_epochs"
   ]
  },
  {
   "cell_type": "code",
   "execution_count": 35,
   "metadata": {
    "ExecuteTime": {
     "end_time": "2020-06-21T23:05:19.660423Z",
     "start_time": "2020-06-21T22:49:44.094043Z"
    }
   },
   "outputs": [
    {
     "name": "stdout",
     "output_type": "stream",
     "text": [
      "Epoch 15/64\n",
      "940/940 [==============================] - 45s 43ms/step - loss: 1.2521 - weighted_accuracy: 0.5899 - val_loss: 1.8567 - val_weighted_accuracy: 0.5767\n",
      "Epoch 16/64\n",
      "940/940 [==============================] - 37s 39ms/step - loss: 0.9521 - weighted_accuracy: 0.6671 - val_loss: 2.0121 - val_weighted_accuracy: 0.4887\n",
      "Epoch 17/64\n",
      "940/940 [==============================] - 37s 39ms/step - loss: 0.7636 - weighted_accuracy: 0.7290 - val_loss: 0.8046 - val_weighted_accuracy: 0.7326\n",
      "Epoch 18/64\n",
      "940/940 [==============================] - 39s 41ms/step - loss: 0.5728 - weighted_accuracy: 0.8064 - val_loss: 0.6793 - val_weighted_accuracy: 0.7944\n",
      "Epoch 19/64\n",
      "940/940 [==============================] - 40s 43ms/step - loss: 0.4471 - weighted_accuracy: 0.8489 - val_loss: 1.1457 - val_weighted_accuracy: 0.6500\n",
      "Epoch 20/64\n",
      "940/940 [==============================] - 42s 45ms/step - loss: 0.4115 - weighted_accuracy: 0.8645 - val_loss: 0.3923 - val_weighted_accuracy: 0.8801\n",
      "Epoch 21/64\n",
      "940/940 [==============================] - 40s 43ms/step - loss: 0.3023 - weighted_accuracy: 0.9043 - val_loss: 0.3582 - val_weighted_accuracy: 0.8943\n",
      "Epoch 22/64\n",
      "940/940 [==============================] - 41s 43ms/step - loss: 0.2574 - weighted_accuracy: 0.9189 - val_loss: 0.2676 - val_weighted_accuracy: 0.9233\n",
      "Epoch 23/64\n",
      "940/940 [==============================] - 41s 44ms/step - loss: 0.2102 - weighted_accuracy: 0.9352 - val_loss: 0.2831 - val_weighted_accuracy: 0.9250\n",
      "Epoch 24/64\n",
      "940/940 [==============================] - 40s 43ms/step - loss: 0.1840 - weighted_accuracy: 0.9435 - val_loss: 0.2643 - val_weighted_accuracy: 0.9320\n",
      "Epoch 25/64\n",
      "940/940 [==============================] - 45s 48ms/step - loss: 0.1875 - weighted_accuracy: 0.9419 - val_loss: 0.2902 - val_weighted_accuracy: 0.9296\n",
      "Epoch 26/64\n",
      "940/940 [==============================] - 47s 50ms/step - loss: 0.1345 - weighted_accuracy: 0.9587 - val_loss: 0.2296 - val_weighted_accuracy: 0.9372\n",
      "Epoch 27/64\n",
      "940/940 [==============================] - 40s 42ms/step - loss: 0.1162 - weighted_accuracy: 0.9644 - val_loss: 0.2404 - val_weighted_accuracy: 0.9346\n",
      "Epoch 28/64\n",
      "940/940 [==============================] - 21s 23ms/step - loss: 0.1162 - weighted_accuracy: 0.9638 - val_loss: 0.2361 - val_weighted_accuracy: 0.9428\n",
      "Epoch 29/64\n",
      "940/940 [==============================] - 21s 22ms/step - loss: 0.0997 - weighted_accuracy: 0.9695 - val_loss: 0.2239 - val_weighted_accuracy: 0.9421\n",
      "Epoch 30/64\n",
      "940/940 [==============================] - 20s 22ms/step - loss: 0.1076 - weighted_accuracy: 0.9676 - val_loss: 0.2349 - val_weighted_accuracy: 0.9442ighted_accu - ETA: 1s - loss: 0.1084 - weighted_acc - ETA: 0s - loss: 0.1079 - weighted_accuracy\n",
      "Epoch 31/64\n",
      "940/940 [==============================] - 20s 21ms/step - loss: 0.0791 - weighted_accuracy: 0.9754 - val_loss: 0.2233 - val_weighted_accuracy: 0.9456\n",
      "Epoch 32/64\n",
      "940/940 [==============================] - 20s 21ms/step - loss: 0.0721 - weighted_accuracy: 0.9776 - val_loss: 0.2561 - val_weighted_accuracy: 0.9431\n",
      "Epoch 33/64\n",
      "940/940 [==============================] - 20s 22ms/step - loss: 0.0712 - weighted_accuracy: 0.9785 - val_loss: 0.2093 - val_weighted_accuracy: 0.9480\n",
      "Epoch 34/64\n",
      "940/940 [==============================] - 20s 22ms/step - loss: 0.0603 - weighted_accuracy: 0.9819 - val_loss: 0.2699 - val_weighted_accuracy: 0.9502\n",
      "Epoch 35/64\n",
      "940/940 [==============================] - 20s 21ms/step - loss: 0.0611 - weighted_accuracy: 0.9816 - val_loss: 0.2986 - val_weighted_accuracy: 0.9454\n",
      "Epoch 36/64\n",
      "940/940 [==============================] - 20s 22ms/step - loss: 0.0635 - weighted_accuracy: 0.9808 - val_loss: 0.2837 - val_weighted_accuracy: 0.9405\n",
      "Epoch 37/64\n",
      "940/940 [==============================] - 20s 22ms/step - loss: 0.0520 - weighted_accuracy: 0.9839 - val_loss: 0.2455 - val_weighted_accuracy: 0.9498\n",
      "Epoch 38/64\n",
      "940/940 [==============================] - 21s 22ms/step - loss: 0.0543 - weighted_accuracy: 0.9837 - val_loss: 0.2530 - val_weighted_accuracy: 0.9435uracy: 0\n",
      "Epoch 39/64\n",
      "940/940 [==============================] - 21s 22ms/step - loss: 0.0489 - weighted_accuracy: 0.9851 - val_loss: 0.2498 - val_weighted_accuracy: 0.9515\n",
      "Epoch 40/64\n",
      "940/940 [==============================] - 21s 22ms/step - loss: 0.0472 - weighted_accuracy: 0.9859 - val_loss: 0.2544 - val_weighted_accuracy: 0.9512\n",
      "Epoch 41/64\n",
      "940/940 [==============================] - 21s 23ms/step - loss: 0.0465 - weighted_accuracy: 0.9863 - val_loss: 0.2361 - val_weighted_accuracy: 0.9517s - loss: 0.0465 - weighted_accur\n",
      "Epoch 42/64\n",
      "940/940 [==============================] - 21s 23ms/step - loss: 0.0395 - weighted_accuracy: 0.9886 - val_loss: 0.2913 - val_weighted_accuracy: 0.9466\n",
      "Epoch 43/64\n",
      "940/940 [==============================] - 22s 23ms/step - loss: 0.0446 - weighted_accuracy: 0.9867 - val_loss: 0.2598 - val_weighted_accuracy: 0.9519\n",
      "Epoch 44/64\n",
      "940/940 [==============================] - 22s 23ms/step - loss: 0.0560 - weighted_accuracy: 0.9832 - val_loss: 0.2480 - val_weighted_accuracy: 0.9521\n",
      "Epoch 45/64\n",
      "940/940 [==============================] - 21s 23ms/step - loss: 0.0314 - weighted_accuracy: 0.9905 - val_loss: 0.2691 - val_weighted_accuracy: 0.9486\n",
      "Epoch 46/64\n",
      "940/940 [==============================] - 21s 23ms/step - loss: 0.0376 - weighted_accuracy: 0.9891 - val_loss: 0.2794 - val_weighted_accuracy: 0.9527\n",
      "Epoch 47/64\n",
      "940/940 [==============================] - 21s 22ms/step - loss: 0.0421 - weighted_accuracy: 0.9874 - val_loss: 0.2473 - val_weighted_accuracy: 0.9514\n",
      "Epoch 48/64\n",
      "940/940 [==============================] - 21s 23ms/step - loss: 0.0283 - weighted_accuracy: 0.9917 - val_loss: 0.2582 - val_weighted_accuracy: 0.9551 loss: 0.0285 - ETA: 3s - loss: 0.0284 - weighted_accuracy: 0. - ETA: 2s\n",
      "Epoch 49/64\n",
      "940/940 [==============================] - 21s 23ms/step - loss: 0.0265 - weighted_accuracy: 0.9919 - val_loss: 0.2691 - val_weighted_accuracy: 0.9518\n",
      "Epoch 50/64\n",
      "940/940 [==============================] - 21s 23ms/step - loss: 0.0319 - weighted_accuracy: 0.9905 - val_loss: 0.3044 - val_weighted_accuracy: 0.9513\n",
      "Epoch 51/64\n",
      "940/940 [==============================] - 21s 22ms/step - loss: 0.0261 - weighted_accuracy: 0.9922 - val_loss: 0.2711 - val_weighted_accuracy: 0.9512\n",
      "Epoch 52/64\n",
      "940/940 [==============================] - 21s 23ms/step - loss: 0.0248 - weighted_accuracy: 0.9929 - val_loss: 0.3014 - val_weighted_accuracy: 0.9475\n",
      "Epoch 53/64\n",
      "940/940 [==============================] - 21s 23ms/step - loss: 0.0217 - weighted_accuracy: 0.9933 - val_loss: 0.2567 - val_weighted_accuracy: 0.9558\n",
      "Epoch 54/64\n",
      "940/940 [==============================] - 21s 22ms/step - loss: 0.0237 - weighted_accuracy: 0.9929 - val_loss: 0.2819 - val_weighted_accuracy: 0.9500s: 0.0229 - wei - ETA: \n",
      "Epoch 55/64\n",
      "940/940 [==============================] - 21s 23ms/step - loss: 0.0259 - weighted_accuracy: 0.9927 - val_loss: 0.2844 - val_weighted_accuracy: 0.9550\n",
      "Epoch 56/64\n",
      "940/940 [==============================] - 21s 23ms/step - loss: 0.0246 - weighted_accuracy: 0.9935 - val_loss: 0.3287 - val_weighted_accuracy: 0.9482weighted_accuracy: 0. - ETA: 0s - loss: 0.0246 - weighted_accuracy: 0\n",
      "Epoch 57/64\n",
      "940/940 [==============================] - 21s 23ms/step - loss: 0.0184 - weighted_accuracy: 0.9949 - val_loss: 0.2536 - val_weighted_accuracy: 0.9569\n",
      "Epoch 58/64\n",
      "940/940 [==============================] - 21s 23ms/step - loss: 0.0224 - weighted_accuracy: 0.9933 - val_loss: 0.3544 - val_weighted_accuracy: 0.9487\n",
      "Epoch 59/64\n",
      "940/940 [==============================] - 21s 23ms/step - loss: 0.0249 - weighted_accuracy: 0.9931 - val_loss: 0.2717 - val_weighted_accuracy: 0.9535\n",
      "Epoch 60/64\n",
      "940/940 [==============================] - 21s 23ms/step - loss: 0.0155 - weighted_accuracy: 0.9953 - val_loss: 0.3188 - val_weighted_accuracy: 0.9505\n",
      "Epoch 61/64\n",
      "940/940 [==============================] - 21s 23ms/step - loss: 0.0237 - weighted_accuracy: 0.9931 - val_loss: 0.2970 - val_weighted_accuracy: 0.9537ss: 0.022 - ETA: 8s - loss: 0.0228 - weighted_accuracy: 0 - ETA: 8s - loss: 0.0228 - weighted_accura - ETA - ETA: 1s - loss: 0.0236 - wei\n",
      "Epoch 62/64\n"
     ]
    },
    {
     "name": "stdout",
     "output_type": "stream",
     "text": [
      "940/940 [==============================] - 21s 23ms/step - loss: 0.0160 - weighted_accuracy: 0.9957 - val_loss: 0.2633 - val_weighted_accuracy: 0.954058 - weighte - ETA: 3s - loss: 0.0157  - ETA: 1s - loss: 0.0159 - wei\n"
     ]
    }
   ],
   "source": [
    "result_fine_tune = model.fit(x=X_train,\n",
    "                              y=y_train,\n",
    "                              validation_split=.1,\n",
    "                              batch_size=32,\n",
    "                              epochs=total_epochs,\n",
    "                              initial_epoch=14,\n",
    "                              callbacks=[early_stopping])"
   ]
  },
  {
   "cell_type": "code",
   "execution_count": 36,
   "metadata": {
    "ExecuteTime": {
     "end_time": "2020-06-21T23:05:19.678196Z",
     "start_time": "2020-06-21T23:05:19.661874Z"
    }
   },
   "outputs": [],
   "source": [
    "metrics_tuned = metrics.append(pd.DataFrame(result_fine_tune.history), ignore_index=True)"
   ]
  },
  {
   "cell_type": "code",
   "execution_count": 37,
   "metadata": {
    "ExecuteTime": {
     "end_time": "2020-06-21T23:05:19.691349Z",
     "start_time": "2020-06-21T23:05:19.679670Z"
    }
   },
   "outputs": [
    {
     "name": "stdout",
     "output_type": "stream",
     "text": [
      "<class 'pandas.core.frame.DataFrame'>\n",
      "RangeIndex: 62 entries, 0 to 61\n",
      "Data columns (total 4 columns):\n",
      " #   Column                 Non-Null Count  Dtype  \n",
      "---  ------                 --------------  -----  \n",
      " 0   loss                   62 non-null     float64\n",
      " 1   weighted_accuracy      62 non-null     float64\n",
      " 2   val_loss               62 non-null     float64\n",
      " 3   val_weighted_accuracy  62 non-null     float64\n",
      "dtypes: float64(4)\n",
      "memory usage: 2.1 KB\n"
     ]
    }
   ],
   "source": [
    "metrics_tuned.info()"
   ]
  },
  {
   "cell_type": "code",
   "execution_count": 38,
   "metadata": {
    "ExecuteTime": {
     "end_time": "2020-06-21T23:05:20.290854Z",
     "start_time": "2020-06-21T23:05:19.692446Z"
    }
   },
   "outputs": [
    {
     "data": {
      "image/png": "[encoded data removed]",
      "text/plain": [
       "<Figure size 1080x288 with 2 Axes>"
      ]
     },
     "metadata": {},
     "output_type": "display_data"
    }
   ],
   "source": [
    "fig, axes = plt.subplots(ncols=2, figsize=(15, 4))\n",
    "metrics_tuned[['loss', 'val_loss']].plot(ax=axes[1], title='Cross-Entropy Loss')\n",
    "metrics_tuned[['weighted_accuracy', 'val_weighted_accuracy']].plot(ax=axes[0], title=f'Accuracy (Best: {metrics_tuned.val_weighted_accuracy.max():.2%})')\n",
    "axes[0].yaxis.set_major_formatter(FuncFormatter(lambda y, _: '{:.0%}'.format(y)))\n",
    "axes[0].set_ylabel('Accuracy')\n",
    "axes[1].set_ylabel('Loss')\n",
    "for ax in axes:\n",
    "    ax.axvline(14, ls='--', lw=1, c='k')\n",
    "    ax.legend(['Training', 'Validation', 'Start Fine Tuning'])\n",
    "    ax.set_xlabel('Epoch')\n",
    "fig.tight_layout()\n",
    "fig.savefig(results_path / 'transfer_learning_svhn');"
   ]
  },
  {
   "cell_type": "code",
   "execution_count": null,
   "metadata": {},
   "outputs": [],
   "source": []
  }
 ],
 "metadata": {
  "kernelspec": {
   "display_name": "Python [conda env:tensorflow_env]",
   "language": "python",
   "name": "conda-env-tensorflow_env-py"
  },
  "language_info": {
   "codemirror_mode": {
    "name": "ipython",
    "version": 3
   },
   "file_extension": ".py",
   "mimetype": "text/x-python",
   "name": "python",
   "nbconvert_exporter": "python",
   "pygments_lexer": "ipython3",
   "version": "3.8.8"
  },
  "toc": {
   "base_numbering": 1,
   "nav_menu": {},
   "number_sections": true,
   "sideBar": true,
   "skip_h1_title": true,
   "title_cell": "Table of Contents",
   "title_sidebar": "Contents",
   "toc_cell": false,
   "toc_position": {
    "height": "calc(100% - 180px)",
    "left": "10px",
    "top": "150px",
    "width": "380px"
   },
   "toc_section_display": true,
   "toc_window_display": true
  }
 },
 "nbformat": 4,
 "nbformat_minor": 4
}
