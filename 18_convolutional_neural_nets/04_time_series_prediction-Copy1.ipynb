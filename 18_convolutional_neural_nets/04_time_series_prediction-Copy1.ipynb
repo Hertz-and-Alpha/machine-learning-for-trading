{
 "cells": [
  {
   "cell_type": "markdown",
   "metadata": {},
   "source": [
    "# How to use CNN with time series data"
   ]
  },
  {
   "cell_type": "markdown",
   "metadata": {},
   "source": [
    "The regular measurements of time series result in a similar grid-like data structure as for the image data we have focused on so far. As a result, we can use CNN architectures for univariate and multivariate time series. In the latter case, we consider different time series as channels, similar to the different color signals."
   ]
  },
  {
   "cell_type": "markdown",
   "metadata": {},
   "source": [
    "## Imports & Settings"
   ]
  },
  {
   "cell_type": "code",
   "execution_count": 1,
   "metadata": {
    "ExecuteTime": {
     "end_time": "2021-02-23T06:17:02.197611Z",
     "start_time": "2021-02-23T06:16:59.204248Z"
    }
   },
   "outputs": [
    {
     "name": "stdout",
     "output_type": "stream",
     "text": [
      "INFO:tensorflow:Enabling eager execution\n",
      "INFO:tensorflow:Enabling v2 tensorshape\n",
      "INFO:tensorflow:Enabling resource variables\n",
      "INFO:tensorflow:Enabling tensor equality\n",
      "INFO:tensorflow:Enabling control flow v2\n"
     ]
    }
   ],
   "source": [
    "%matplotlib inline\n",
    "\n",
    "import sys\n",
    "from time import time\n",
    "from pathlib import Path\n",
    "\n",
    "import numpy as np\n",
    "import pandas as pd\n",
    "from scipy.stats import spearmanr\n",
    "from sklearn.feature_selection import mutual_info_regression\n",
    "\n",
    "import tensorflow as tf\n",
    "tf.autograph.set_verbosity(0, True)\n",
    "from tensorflow.keras.models import Sequential\n",
    "from tensorflow.keras import regularizers\n",
    "from tensorflow.keras.callbacks import EarlyStopping\n",
    "from tensorflow.keras.layers import (Dense, \n",
    "                                     Flatten, \n",
    "                                     Conv1D, \n",
    "                                     MaxPooling1D, \n",
    "                                     Dropout, \n",
    "                                     BatchNormalization)\n",
    "\n",
    "import matplotlib.pyplot as plt\n",
    "import seaborn as sns"
   ]
  },
  {
   "cell_type": "code",
   "execution_count": 2,
   "metadata": {
    "ExecuteTime": {
     "end_time": "2021-02-23T06:17:02.204076Z",
     "start_time": "2021-02-23T06:17:02.199550Z"
    }
   },
   "outputs": [
    {
     "name": "stdout",
     "output_type": "stream",
     "text": [
      "Using GPU\n"
     ]
    }
   ],
   "source": [
    "gpu_devices = tf.config.experimental.list_physical_devices('GPU')\n",
    "if gpu_devices:\n",
    "    print('Using GPU')\n",
    "    tf.config.experimental.set_memory_growth(gpu_devices[0], True)\n",
    "else:\n",
    "    print('Using CPU')"
   ]
  },
  {
   "cell_type": "code",
   "execution_count": 3,
   "metadata": {
    "ExecuteTime": {
     "end_time": "2021-02-23T06:17:02.214395Z",
     "start_time": "2021-02-23T06:17:02.206329Z"
    }
   },
   "outputs": [],
   "source": [
    "sys.path.insert(1, Path(sys.path[0], '..').as_posix())\n",
    "from utils import MultipleTimeSeriesCV, format_time"
   ]
  },
  {
   "cell_type": "code",
   "execution_count": 4,
   "metadata": {
    "ExecuteTime": {
     "end_time": "2021-02-23T06:17:02.226944Z",
     "start_time": "2021-02-23T06:17:02.216250Z"
    }
   },
   "outputs": [],
   "source": [
    "np.random.seed(1)\n",
    "tf.random.set_seed(1)"
   ]
  },
  {
   "cell_type": "code",
   "execution_count": 5,
   "metadata": {
    "ExecuteTime": {
     "end_time": "2021-02-23T06:17:02.239648Z",
     "start_time": "2021-02-23T06:17:02.228669Z"
    }
   },
   "outputs": [],
   "source": [
    "sns.set_style('whitegrid')"
   ]
  },
  {
   "cell_type": "code",
   "execution_count": 6,
   "metadata": {
    "ExecuteTime": {
     "end_time": "2021-02-23T06:17:02.269799Z",
     "start_time": "2021-02-23T06:17:02.257853Z"
    }
   },
   "outputs": [],
   "source": [
    "results_path = Path('results', 'time_series')\n",
    "if not results_path.exists():\n",
    "    results_path.mkdir(parents=True)"
   ]
  },
  {
   "cell_type": "markdown",
   "metadata": {},
   "source": [
    "## Prepare Data"
   ]
  },
  {
   "cell_type": "code",
   "execution_count": 7,
   "metadata": {
    "ExecuteTime": {
     "end_time": "2021-02-23T06:17:12.560399Z",
     "start_time": "2021-02-23T06:17:02.272776Z"
    }
   },
   "outputs": [
    {
     "name": "stdout",
     "output_type": "stream",
     "text": [
      "<class 'pandas.core.frame.DataFrame'>\n",
      "DatetimeIndex: 4706 entries, 2000-01-03 to 2018-03-27\n",
      "Columns: 2925 entries, A to UFPI\n",
      "dtypes: float64(2925)\n",
      "memory usage: 105.1 MB\n"
     ]
    }
   ],
   "source": [
    "prices = (pd.read_hdf('../data/assets.h5', 'quandl/wiki/prices')\n",
    "          .adj_close\n",
    "          .unstack().loc['2000':])\n",
    "prices.info()"
   ]
  },
  {
   "cell_type": "markdown",
   "metadata": {},
   "source": [
    "### Compute monthly returns"
   ]
  },
  {
   "cell_type": "code",
   "execution_count": 8,
   "metadata": {
    "ExecuteTime": {
     "end_time": "2021-02-23T06:17:12.817259Z",
     "start_time": "2021-02-23T06:17:12.561990Z"
    }
   },
   "outputs": [
    {
     "name": "stdout",
     "output_type": "stream",
     "text": [
      "<class 'pandas.core.frame.DataFrame'>\n",
      "DatetimeIndex: 215 entries, 2017-12-31 to 2000-02-29\n",
      "Freq: -1M\n",
      "Columns: 1375 entries, A to UFPI\n",
      "dtypes: float64(1375)\n",
      "memory usage: 2.3 MB\n"
     ]
    }
   ],
   "source": [
    "returns = (prices\n",
    "           .resample('M')\n",
    "           .last()\n",
    "           .pct_change()\n",
    "           .dropna(how='all')\n",
    "           .loc['2000': '2017']\n",
    "           .dropna(axis=1)\n",
    "           .sort_index(ascending=False))\n",
    "\n",
    "# remove outliers likely representing data errors\n",
    "returns = returns.where(returns<1).dropna(axis=1)\n",
    "returns.info()"
   ]
  },
  {
   "cell_type": "markdown",
   "metadata": {},
   "source": [
    "### Create model data"
   ]
  },
  {
   "cell_type": "code",
   "execution_count": 9,
   "metadata": {
    "ExecuteTime": {
     "end_time": "2021-02-23T06:17:12.822778Z",
     "start_time": "2021-02-23T06:17:12.819050Z"
    }
   },
   "outputs": [],
   "source": [
    "n = len(returns)\n",
    "nlags = 12\n",
    "lags = list(range(1, nlags + 1))"
   ]
  },
  {
   "cell_type": "code",
   "execution_count": 10,
   "metadata": {
    "ExecuteTime": {
     "end_time": "2021-02-23T06:17:14.035948Z",
     "start_time": "2021-02-23T06:17:12.824294Z"
    }
   },
   "outputs": [
    {
     "name": "stdout",
     "output_type": "stream",
     "text": [
      "<class 'pandas.core.frame.DataFrame'>\n",
      "MultiIndex: 277750 entries, ('A', Timestamp('2001-03-31 00:00:00')) to ('UFPI', Timestamp('2017-12-31 00:00:00'))\n",
      "Data columns (total 13 columns):\n",
      " #   Column  Non-Null Count   Dtype  \n",
      "---  ------  --------------   -----  \n",
      " 0   label   277750 non-null  float64\n",
      " 1   1       277750 non-null  float64\n",
      " 2   2       277750 non-null  float64\n",
      " 3   3       277750 non-null  float64\n",
      " 4   4       277750 non-null  float64\n",
      " 5   5       277750 non-null  float64\n",
      " 6   6       277750 non-null  float64\n",
      " 7   7       277750 non-null  float64\n",
      " 8   8       277750 non-null  float64\n",
      " 9   9       277750 non-null  float64\n",
      " 10  10      277750 non-null  float64\n",
      " 11  11      277750 non-null  float64\n",
      " 12  12      277750 non-null  float64\n",
      "dtypes: float64(13)\n",
      "memory usage: 28.7+ MB\n"
     ]
    },
    {
     "name": "stderr",
     "output_type": "stream",
     "text": [
      "<ipython-input-10-8629bb5ba869>:15: FutureWarning: null_counts is deprecated. Use show_counts instead\n",
      "  cnn_data.info(null_counts=True)\n"
     ]
    }
   ],
   "source": [
    "cnn_data = []\n",
    "for i in range(n-nlags-1):\n",
    "    df = returns.iloc[i:i+nlags+1]        # select outcome and lags\n",
    "    date = df.index.max()                 # use outcome date\n",
    "    cnn_data.append(df.reset_index(drop=True)  # append transposed series\n",
    "                    .transpose()\n",
    "                    .assign(date=date)\n",
    "                    .set_index('date', append=True)\n",
    "                    .sort_index(1, ascending=True))\n",
    "\n",
    "cnn_data = (pd.concat(cnn_data)\n",
    "            .rename(columns={0: 'label'})\n",
    "            .sort_index())\n",
    "\n",
    "cnn_data.info(null_counts=True)"
   ]
  },
  {
   "cell_type": "markdown",
   "metadata": {},
   "source": [
    "## Evaluate features"
   ]
  },
  {
   "cell_type": "markdown",
   "metadata": {},
   "source": [
    "### Mutual Information"
   ]
  },
  {
   "cell_type": "code",
   "execution_count": 11,
   "metadata": {
    "ExecuteTime": {
     "end_time": "2021-02-23T06:17:14.042983Z",
     "start_time": "2021-02-23T06:17:14.037315Z"
    }
   },
   "outputs": [],
   "source": [
    "# mi = mutual_info_regression(X=cnn_data.drop('label', axis=1), y=cnn_data.label)\n",
    "# mi = pd.Series(mi, index=cnn_data.drop('label', axis=1).columns)"
   ]
  },
  {
   "cell_type": "markdown",
   "metadata": {},
   "source": [
    "### Information Coefficient"
   ]
  },
  {
   "cell_type": "code",
   "execution_count": 12,
   "metadata": {
    "ExecuteTime": {
     "end_time": "2021-02-23T06:17:14.052460Z",
     "start_time": "2021-02-23T06:17:14.044732Z"
    }
   },
   "outputs": [],
   "source": [
    "# ic = {}\n",
    "# for lag in lags:\n",
    "#     ic[lag] = spearmanr(cnn_data.label, cnn_data[lag])\n",
    "# ic = pd.DataFrame(ic, index=['IC', 'p-value']).T"
   ]
  },
  {
   "cell_type": "code",
   "execution_count": 13,
   "metadata": {
    "ExecuteTime": {
     "end_time": "2021-02-23T06:17:14.060023Z",
     "start_time": "2021-02-23T06:17:14.057316Z"
    }
   },
   "outputs": [],
   "source": [
    "# ax = ic.plot.bar(rot=0, figsize=(14, 4),\n",
    "#                  ylim=(-0.05, .05),\n",
    "#                  title='Feature Evaluation')\n",
    "# ax.set_xlabel('Lag')\n",
    "# sns.despine()\n",
    "# plt.tight_layout()\n",
    "# plt.savefig(results_path / 'cnn_ts1d_feature_ic', dpi=300)"
   ]
  },
  {
   "cell_type": "markdown",
   "metadata": {},
   "source": [
    "### Plot Metrics"
   ]
  },
  {
   "cell_type": "code",
   "execution_count": 14,
   "metadata": {
    "ExecuteTime": {
     "end_time": "2021-02-23T06:17:14.068055Z",
     "start_time": "2021-02-23T06:17:14.061524Z"
    }
   },
   "outputs": [],
   "source": [
    "# metrics = pd.concat([mi.to_frame('Mutual Information'),\n",
    "#                      ic.IC.to_frame('Information Coefficient')], axis=1)"
   ]
  },
  {
   "cell_type": "code",
   "execution_count": 15,
   "metadata": {
    "ExecuteTime": {
     "end_time": "2021-02-23T06:17:14.078296Z",
     "start_time": "2021-02-23T06:17:14.069484Z"
    }
   },
   "outputs": [],
   "source": [
    "# ax = metrics.plot.bar(figsize=(12, 4), rot=0)\n",
    "# ax.set_xlabel('Lag')\n",
    "# sns.despine()\n",
    "# plt.tight_layout()\n",
    "# plt.savefig(results_path / 'ts1d_metrics', dpi=300)"
   ]
  },
  {
   "cell_type": "markdown",
   "metadata": {},
   "source": [
    "## CNN"
   ]
  },
  {
   "cell_type": "markdown",
   "metadata": {},
   "source": [
    "### Model Architecture"
   ]
  },
  {
   "cell_type": "markdown",
   "metadata": {},
   "source": [
    "We design a simple one-layer CNN that uses one-dimensional convolutions combined with max pooling to learn time series patterns:"
   ]
  },
  {
   "cell_type": "code",
   "execution_count": 16,
   "metadata": {
    "ExecuteTime": {
     "end_time": "2021-02-23T06:17:14.086146Z",
     "start_time": "2021-02-23T06:17:14.079979Z"
    }
   },
   "outputs": [],
   "source": [
    "def get_model(filters=32, kernel_size=5, pool_size=2):\n",
    "    model = Sequential([Conv1D(filters=filters,\n",
    "                               kernel_size=kernel_size,\n",
    "                               activation='relu',\n",
    "                               padding='causal',\n",
    "                               input_shape=input_shape,\n",
    "                               use_bias=True,\n",
    "                               kernel_regularizer=regularizers.l1_l2(l1=1e-5,\n",
    "                                                                     l2=1e-5)),\n",
    "                        MaxPooling1D(pool_size=pool_size),\n",
    "                        Flatten(),\n",
    "                        BatchNormalization(),\n",
    "                        Dense(1, activation='linear')])\n",
    "    model.compile(loss='mse',\n",
    "                  optimizer='Adam')\n",
    "    return model"
   ]
  },
  {
   "cell_type": "markdown",
   "metadata": {},
   "source": [
    "### Set up CV"
   ]
  },
  {
   "cell_type": "code",
   "execution_count": 17,
   "metadata": {
    "ExecuteTime": {
     "end_time": "2021-02-23T06:17:14.102526Z",
     "start_time": "2021-02-23T06:17:14.087401Z"
    }
   },
   "outputs": [],
   "source": [
    "cv = MultipleTimeSeriesCV(n_splits=12 * 3,\n",
    "                          train_period_length=12 * 5,\n",
    "                          test_period_length=1,\n",
    "                          lookahead=1)"
   ]
  },
  {
   "cell_type": "code",
   "execution_count": 18,
   "metadata": {
    "ExecuteTime": {
     "end_time": "2021-02-23T06:17:14.112680Z",
     "start_time": "2021-02-23T06:17:14.105420Z"
    }
   },
   "outputs": [],
   "source": [
    "input_shape = nlags, 1"
   ]
  },
  {
   "cell_type": "markdown",
   "metadata": {},
   "source": [
    "### Train Model"
   ]
  },
  {
   "cell_type": "code",
   "execution_count": 19,
   "metadata": {
    "ExecuteTime": {
     "end_time": "2021-02-23T06:17:14.122020Z",
     "start_time": "2021-02-23T06:17:14.116430Z"
    }
   },
   "outputs": [],
   "source": [
    "def get_train_valid_data(X, y, train_idx, test_idx):\n",
    "    x_train, y_train = X.iloc[train_idx, :], y.iloc[train_idx]\n",
    "    x_val, y_val = X.iloc[test_idx, :], y.iloc[test_idx]\n",
    "    m = X.shape[1]\n",
    "    return (x_train.values.reshape(-1, m, 1), y_train,\n",
    "            x_val.values.reshape(-1, m, 1), y_val)"
   ]
  },
  {
   "cell_type": "code",
   "execution_count": 20,
   "metadata": {
    "ExecuteTime": {
     "end_time": "2021-02-23T06:17:14.129958Z",
     "start_time": "2021-02-23T06:17:14.124608Z"
    }
   },
   "outputs": [],
   "source": [
    "batch_size = 64\n",
    "epochs = 100"
   ]
  },
  {
   "cell_type": "code",
   "execution_count": 21,
   "metadata": {
    "ExecuteTime": {
     "end_time": "2021-02-23T06:17:14.138644Z",
     "start_time": "2021-02-23T06:17:14.131601Z"
    }
   },
   "outputs": [],
   "source": [
    "filters = 32\n",
    "kernel_size = 4\n",
    "pool_size = 4"
   ]
  },
  {
   "cell_type": "code",
   "execution_count": 22,
   "metadata": {
    "ExecuteTime": {
     "end_time": "2021-02-23T06:17:14.251032Z",
     "start_time": "2021-02-23T06:17:14.140382Z"
    }
   },
   "outputs": [
    {
     "name": "stdout",
     "output_type": "stream",
     "text": [
      "Model: \"sequential\"\n",
      "_________________________________________________________________\n",
      "Layer (type)                 Output Shape              Param #   \n",
      "=================================================================\n",
      "conv1d (Conv1D)              (None, 12, 32)            160       \n",
      "_________________________________________________________________\n",
      "max_pooling1d (MaxPooling1D) (None, 3, 32)             0         \n",
      "_________________________________________________________________\n",
      "flatten (Flatten)            (None, 96)                0         \n",
      "_________________________________________________________________\n",
      "batch_normalization (BatchNo (None, 96)                384       \n",
      "_________________________________________________________________\n",
      "dense (Dense)                (None, 1)                 97        \n",
      "=================================================================\n",
      "Total params: 641\n",
      "Trainable params: 449\n",
      "Non-trainable params: 192\n",
      "_________________________________________________________________\n"
     ]
    }
   ],
   "source": [
    "get_model(filters=filters,\n",
    "          kernel_size=kernel_size, \n",
    "          pool_size=pool_size).summary()"
   ]
  },
  {
   "cell_type": "markdown",
   "metadata": {},
   "source": [
    "### Cross-validation loop"
   ]
  },
  {
   "cell_type": "code",
   "execution_count": 23,
   "metadata": {
    "ExecuteTime": {
     "end_time": "2021-02-23T06:31:01.216587Z",
     "start_time": "2021-02-23T06:17:14.254466Z"
    },
    "scrolled": false
   },
   "outputs": [
    {
     "name": "stdout",
     "output_type": "stream",
     "text": [
      "01 | 00:03:47 |   9 |   3.1 ( 25.56%) |   3.1\n",
      "02 | 00:06:07 |   2 |   3.8 ( 16.30%) |   3.4\n",
      "03 | 00:08:15 |   1 |   6.3 (  1.89%) |   4.4\n",
      "04 | 00:15:35 |  29 |  0.82 ( 76.02%) |   3.5\n",
      "05 | 00:17:39 |   1 |   8.0 (  0.30%) |   4.4\n",
      "06 | 00:22:43 |  17 |  0.94 ( 72.65%) |   3.8\n",
      "07 | 00:25:16 |   3 |   1.3 ( 63.82%) |   3.5\n",
      "08 | 00:27:26 |   1 |  -2.8 ( 30.52%) |   2.7\n",
      "09 | 00:29:58 |   3 |   2.1 ( 42.74%) |   2.6\n",
      "10 | 00:37:45 |  30 |   6.8 (  1.22%) |   3.0\n",
      "11 | 00:43:11 |  18 |   3.0 ( 26.94%) |   3.0\n",
      "12 | 00:46:54 |   9 |   6.8 (  1.20%) |   3.3\n",
      "13 | 00:50:24 |   8 |   6.4 (  1.73%) |   3.6\n",
      "14 | 00:53:08 |   4 |  -0.1 ( 96.92%) |   3.3\n",
      "15 | 00:56:39 |   8 |   1.9 ( 48.07%) |   3.2\n",
      "16 | 01:00:31 |  10 |  0.34 ( 89.96%) |   3.0\n",
      "17 | 01:03:37 |   6 |  0.86 ( 74.95%) |   2.9\n",
      "18 | 01:05:45 |   1 |   3.5 ( 19.20%) |   2.9\n",
      "19 | 01:08:05 |   2 |   5.7 (  3.58%) |   3.1\n",
      "20 | 01:11:00 |   5 |   4.8 (  7.75%) |   3.2\n",
      "21 | 01:14:29 |   8 |   3.8 ( 15.97%) |   3.2\n",
      "22 | 01:17:50 |   7 |   3.2 ( 23.09%) |   3.2\n",
      "23 | 01:19:58 |   1 |  -2.5 ( 35.43%) |   3.0\n",
      "24 | 01:22:06 |   1 |   7.6 (  0.46%) |   3.2\n",
      "25 | 01:25:01 |   5 |   1.1 ( 67.35%) |   3.1\n",
      "26 | 01:29:51 |  15 |   3.8 ( 16.34%) |   3.1\n",
      "27 | 01:35:37 |  20 |   4.0 ( 13.56%) |   3.1\n",
      "28 | 01:39:18 |   9 |  0.72 ( 78.96%) |   3.0\n",
      "29 | 01:41:37 |   2 |  0.86 ( 74.95%) |   3.0\n",
      "30 | 01:45:53 |  12 |  0.17 ( 94.98%) |   2.9\n",
      "31 | 01:48:11 |   2 |   3.9 ( 15.18%) |   2.9\n",
      "32 | 01:50:43 |   2 |   3.1 ( 24.98%) |   2.9\n",
      "33 | 01:54:10 |   5 |  -1.3 ( 63.07%) |   2.8\n",
      "34 | 01:56:42 |   1 | 0.0047 ( 99.86%) |   2.7\n",
      "35 | 01:59:04 |   1 |   1.2 ( 65.08%) |   2.7\n",
      "36 | 02:08:30 |  33 |  0.11 ( 96.76%) |   2.6\n"
     ]
    }
   ],
   "source": [
    "result = {}\n",
    "start = time()\n",
    "for fold, (train_idx, test_idx) in enumerate(cv.split(cnn_data)):\n",
    "    X_train, y_train, X_val, y_val = get_train_valid_data(cnn_data\n",
    "                                                          .drop('label', axis=1)\n",
    "                                                          .sort_index(ascending=False),\n",
    "                                                          cnn_data.label,\n",
    "                                                          train_idx,\n",
    "                                                          test_idx)\n",
    "    test_date = y_val.index.get_level_values('date').max()\n",
    "    model = get_model(filters=filters,\n",
    "                      kernel_size=kernel_size,\n",
    "                      pool_size=pool_size)\n",
    "    \n",
    "    best_ic = -np.inf\n",
    "    stop = 0\n",
    "    for epoch in range(50):         \n",
    "        training = model.fit(X_train, y_train,\n",
    "                             batch_size=batch_size,\n",
    "                             validation_data=(X_val, y_val),\n",
    "                             epochs=epoch + 1,\n",
    "                             initial_epoch=epoch,\n",
    "                             verbose=0,\n",
    "                             shuffle=True)\n",
    "        predicted = model.predict(X_val).squeeze()\n",
    "        ic, p_val_ = spearmanr(predicted, y_val)\n",
    "        if ic > best_ic:\n",
    "            best_ic = ic\n",
    "            p_val = p_val_\n",
    "            stop = 0\n",
    "        else:\n",
    "            stop += 1\n",
    "        if stop == 10:\n",
    "            break\n",
    "    \n",
    "    nrounds = epoch + 1 - stop\n",
    "    result[test_date] = [nrounds, best_ic, p_val]\n",
    "    df = pd.DataFrame(result, index=['epochs', 'IC', 'p-value']).T\n",
    "    msg = f'{fold + 1:02d} | {format_time(time()-start)} | {nrounds:3.0f} | '\n",
    "    print(msg + f'{best_ic*100:5.2} ({p_val:7.2%}) | {df.IC.mean()*100:5.2}')"
   ]
  },
  {
   "cell_type": "markdown",
   "metadata": {},
   "source": [
    "### Evaluate Results"
   ]
  },
  {
   "cell_type": "code",
   "execution_count": 24,
   "metadata": {
    "ExecuteTime": {
     "end_time": "2021-02-23T06:31:01.228794Z",
     "start_time": "2021-02-23T06:31:01.219004Z"
    }
   },
   "outputs": [],
   "source": [
    "metrics = pd.DataFrame(result, index=['epochs', 'IC', 'p-value']).T"
   ]
  },
  {
   "cell_type": "code",
   "execution_count": 25,
   "metadata": {
    "ExecuteTime": {
     "end_time": "2021-02-23T06:31:01.954217Z",
     "start_time": "2021-02-23T06:31:01.230579Z"
    }
   },
   "outputs": [
    {
     "data": {
      "image/png": "[encoded data removed]",
      "text/plain": [
       "<Figure size 864x288 with 1 Axes>"
      ]
     },
     "metadata": {},
     "output_type": "display_data"
    }
   ],
   "source": [
    "ax = metrics.IC.plot(figsize=(12, 4), \n",
    "                     label='Information Coefficient',\n",
    "                     title='Validation Performance',\n",
    "                    ylim=(0, .08))\n",
    "metrics.IC.expanding().mean().plot(ax=ax, label='Cumulative Average')\n",
    "plt.legend()\n",
    "sns.despine()\n",
    "plt.tight_layout()\n",
    "plt.savefig(results_path / 'cnn_ts1d_ic', dpi=300);"
   ]
  }
 ],
 "metadata": {
  "kernelspec": {
   "display_name": "Python [conda env:tensorflow_env]",
   "language": "python",
   "name": "conda-env-tensorflow_env-py"
  },
  "language_info": {
   "codemirror_mode": {
    "name": "ipython",
    "version": 3
   },
   "file_extension": ".py",
   "mimetype": "text/x-python",
   "name": "python",
   "nbconvert_exporter": "python",
   "pygments_lexer": "ipython3",
   "version": "3.8.8"
  },
  "toc": {
   "base_numbering": 1,
   "nav_menu": {},
   "number_sections": true,
   "sideBar": true,
   "skip_h1_title": true,
   "title_cell": "Table of Contents",
   "title_sidebar": "Contents",
   "toc_cell": false,
   "toc_position": {
    "height": "calc(100% - 180px)",
    "left": "10px",
    "top": "150px",
    "width": "240.391px"
   },
   "toc_section_display": true,
   "toc_window_display": true
  },
  "toc-autonumbering": true
 },
 "nbformat": 4,
 "nbformat_minor": 4
}
