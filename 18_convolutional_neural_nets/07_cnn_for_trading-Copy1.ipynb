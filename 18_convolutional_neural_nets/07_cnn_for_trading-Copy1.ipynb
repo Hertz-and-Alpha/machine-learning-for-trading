{
 "cells": [
  {
   "cell_type": "markdown",
   "metadata": {},
   "source": [
    "# CNN for Trading - Part 3: Training and Evaluating a CNN"
   ]
  },
  {
   "cell_type": "markdown",
   "metadata": {},
   "source": [
    "To exploit the grid-like structure of time-series data, we can use CNN architectures for univariate and multivariate time series. In the latter case, we consider different time series as channels, similar to the different color signals.\n",
    "\n",
    "An alternative approach converts a time series of alpha factors into a two-dimensional format to leverage the ability of CNNs to detect local patterns. [Sezer and Ozbayoglu (2018)](https://www.researchgate.net/publication/324802031_Algorithmic_Financial_Trading_with_Deep_Convolutional_Neural_Networks_Time_Series_to_Image_Conversion_Approach) propose CNN-TA, which computes 15 technical indicators for different intervals and uses hierarchical clustering (see Chapter 13, Data-Driven Risk Factors and Asset Allocation with Unsupervised Learning) to locate indicators that behave similarly close to each other in a two-dimensional grid.\n",
    "\n",
    "The authors train a CNN similar to the CIFAR-10 example we used earlier to predict whether to buy, hold, or sell an asset on a given day. They compare the CNN performance to \"buy-and-hold\" and other models and find that it outperforms all alternatives using daily price series for Dow 30 stocks and the nine most-traded ETFs over the 2007-2017 time period.\n",
    "\n",
    "The section on *CNN for Trading* consists of three notebooks that experiment with this approach using daily US equity price data. They demonstrate \n",
    "1. How to compute relevant financial features\n",
    "2. How to convert a similar set of indicators into image format and cluster them by similarity\n",
    "3. How to train a CNN to predict daily returns and evaluate a simple long-short strategy based on the resulting signals."
   ]
  },
  {
   "cell_type": "markdown",
   "metadata": {},
   "source": [
    "## Creating and training a convolutional neural network"
   ]
  },
  {
   "cell_type": "markdown",
   "metadata": {},
   "source": [
    "Now we are ready to design, train, and evaluate a CNN following the steps outlined in the\n",
    "previous section."
   ]
  },
  {
   "cell_type": "markdown",
   "metadata": {},
   "source": [
    "## Imports"
   ]
  },
  {
   "cell_type": "code",
   "execution_count": 1,
   "metadata": {
    "ExecuteTime": {
     "end_time": "2021-02-23T20:16:49.514673Z",
     "start_time": "2021-02-23T20:16:49.511803Z"
    }
   },
   "outputs": [],
   "source": [
    "import warnings\n",
    "warnings.filterwarnings('ignore')"
   ]
  },
  {
   "cell_type": "code",
   "execution_count": 2,
   "metadata": {
    "ExecuteTime": {
     "end_time": "2021-02-23T20:16:51.292791Z",
     "start_time": "2021-02-23T20:16:49.519064Z"
    }
   },
   "outputs": [
    {
     "name": "stdout",
     "output_type": "stream",
     "text": [
      "INFO:tensorflow:Enabling eager execution\n",
      "INFO:tensorflow:Enabling v2 tensorshape\n",
      "INFO:tensorflow:Enabling resource variables\n",
      "INFO:tensorflow:Enabling tensor equality\n",
      "INFO:tensorflow:Enabling control flow v2\n"
     ]
    }
   ],
   "source": [
    "%matplotlib inline\n",
    "\n",
    "from time import time\n",
    "from pathlib import Path\n",
    "import sys, os\n",
    "\n",
    "import numpy as np\n",
    "import pandas as pd\n",
    "\n",
    "from sklearn.preprocessing import MinMaxScaler\n",
    "from scipy.stats import spearmanr\n",
    "\n",
    "import tensorflow as tf\n",
    "from tensorflow.keras.models import Sequential\n",
    "from tensorflow.keras.layers import Dense, Dropout, Flatten, Conv2D, MaxPooling2D\n",
    "\n",
    "import matplotlib.pyplot as plt\n",
    "import seaborn as sns"
   ]
  },
  {
   "cell_type": "code",
   "execution_count": 3,
   "metadata": {
    "ExecuteTime": {
     "end_time": "2021-02-23T20:16:51.352783Z",
     "start_time": "2021-02-23T20:16:51.293765Z"
    }
   },
   "outputs": [
    {
     "name": "stdout",
     "output_type": "stream",
     "text": [
      "Using GPU\n"
     ]
    }
   ],
   "source": [
    "gpu_devices = tf.config.experimental.list_physical_devices('GPU')\n",
    "if gpu_devices:\n",
    "    print('Using GPU')\n",
    "    tf.config.experimental.set_memory_growth(gpu_devices[0], True)\n",
    "else:\n",
    "    print('Using CPU')"
   ]
  },
  {
   "cell_type": "code",
   "execution_count": 4,
   "metadata": {
    "ExecuteTime": {
     "end_time": "2021-02-23T20:16:51.365039Z",
     "start_time": "2021-02-23T20:16:51.353993Z"
    }
   },
   "outputs": [],
   "source": [
    "sys.path.insert(1, os.path.join(sys.path[0], '..'))\n",
    "from utils import MultipleTimeSeriesCV, format_time"
   ]
  },
  {
   "cell_type": "code",
   "execution_count": 5,
   "metadata": {
    "ExecuteTime": {
     "end_time": "2021-02-23T20:16:51.370474Z",
     "start_time": "2021-02-23T20:16:51.366139Z"
    }
   },
   "outputs": [],
   "source": [
    "sns.set_style('whitegrid')\n",
    "np.random.seed(42)"
   ]
  },
  {
   "cell_type": "code",
   "execution_count": 6,
   "metadata": {
    "ExecuteTime": {
     "end_time": "2021-02-23T20:16:51.383882Z",
     "start_time": "2021-02-23T20:16:51.371356Z"
    }
   },
   "outputs": [],
   "source": [
    "size = 15\n",
    "lookahead = 1"
   ]
  },
  {
   "cell_type": "code",
   "execution_count": 7,
   "metadata": {
    "ExecuteTime": {
     "end_time": "2021-02-23T20:16:51.391957Z",
     "start_time": "2021-02-23T20:16:51.384923Z"
    }
   },
   "outputs": [],
   "source": [
    "results_path = Path('results', 'cnn_for_trading')\n",
    "if not results_path.exists():\n",
    "    results_path.mkdir(parents=True)"
   ]
  },
  {
   "cell_type": "markdown",
   "metadata": {},
   "source": [
    "## Load Model Data"
   ]
  },
  {
   "cell_type": "code",
   "execution_count": 8,
   "metadata": {
    "ExecuteTime": {
     "end_time": "2021-02-23T20:16:55.361338Z",
     "start_time": "2021-02-23T20:16:51.392807Z"
    }
   },
   "outputs": [],
   "source": [
    "with pd.HDFStore('data.h5') as store:\n",
    "    features = store['img_data']\n",
    "    targets = store['targets']"
   ]
  },
  {
   "cell_type": "code",
   "execution_count": 9,
   "metadata": {
    "ExecuteTime": {
     "end_time": "2021-02-23T20:16:55.400785Z",
     "start_time": "2021-02-23T20:16:55.362774Z"
    }
   },
   "outputs": [
    {
     "name": "stdout",
     "output_type": "stream",
     "text": [
      "<class 'pandas.core.frame.DataFrame'>\n",
      "MultiIndex: 2372451 entries, ('A', Timestamp('2001-01-02 00:00:00')) to ('UAL', Timestamp('2017-12-29 00:00:00'))\n",
      "Columns: 225 entries, 01_CMO to 11_WMA\n",
      "dtypes: float32(225)\n",
      "memory usage: 2.0+ GB\n"
     ]
    }
   ],
   "source": [
    "features.info()"
   ]
  },
  {
   "cell_type": "code",
   "execution_count": 10,
   "metadata": {
    "ExecuteTime": {
     "end_time": "2021-02-23T20:16:55.437458Z",
     "start_time": "2021-02-23T20:16:55.401927Z"
    }
   },
   "outputs": [
    {
     "name": "stdout",
     "output_type": "stream",
     "text": [
      "<class 'pandas.core.frame.DataFrame'>\n",
      "MultiIndex: 2372451 entries, ('A', Timestamp('2001-01-02 00:00:00')) to ('UAL', Timestamp('2017-12-29 00:00:00'))\n",
      "Data columns (total 4 columns):\n",
      " #   Column      Dtype  \n",
      "---  ------      -----  \n",
      " 0   r01_fwd     float64\n",
      " 1   r01dec_fwd  float64\n",
      " 2   r05_fwd     float64\n",
      " 3   r05dec_fwd  float64\n",
      "dtypes: float64(4)\n",
      "memory usage: 81.6+ MB\n"
     ]
    }
   ],
   "source": [
    "targets.info()"
   ]
  },
  {
   "cell_type": "code",
   "execution_count": 11,
   "metadata": {
    "ExecuteTime": {
     "end_time": "2021-02-23T20:16:57.893458Z",
     "start_time": "2021-02-23T20:16:55.439475Z"
    }
   },
   "outputs": [],
   "source": [
    "outcome = f'r{lookahead:02}_fwd'\n",
    "features = features.join(targets[[outcome]]).dropna()\n",
    "target = features[outcome]\n",
    "features = features.drop(outcome, axis=1)"
   ]
  },
  {
   "cell_type": "code",
   "execution_count": 12,
   "metadata": {},
   "outputs": [
    {
     "data": {
      "text/html": [
       "<div>\n",
       "<style scoped>\n",
       "    .dataframe tbody tr th:only-of-type {\n",
       "        vertical-align: middle;\n",
       "    }\n",
       "\n",
       "    .dataframe tbody tr th {\n",
       "        vertical-align: top;\n",
       "    }\n",
       "\n",
       "    .dataframe thead th {\n",
       "        text-align: right;\n",
       "    }\n",
       "</style>\n",
       "<table border=\"1\" class=\"dataframe\">\n",
       "  <thead>\n",
       "    <tr style=\"text-align: right;\">\n",
       "      <th></th>\n",
       "      <th></th>\n",
       "      <th>01_CMO</th>\n",
       "      <th>01_ROC</th>\n",
       "      <th>01_NATR</th>\n",
       "      <th>01_PPO</th>\n",
       "      <th>01_MACD</th>\n",
       "      <th>01_CMA</th>\n",
       "      <th>01_RMW</th>\n",
       "      <th>01_HML</th>\n",
       "      <th>01_Market</th>\n",
       "      <th>01_SMB</th>\n",
       "      <th>...</th>\n",
       "      <th>11_CMA</th>\n",
       "      <th>11_RMW</th>\n",
       "      <th>11_HML</th>\n",
       "      <th>11_Market</th>\n",
       "      <th>11_SMB</th>\n",
       "      <th>11_BBH</th>\n",
       "      <th>11_BBL</th>\n",
       "      <th>11_RSI</th>\n",
       "      <th>11_EMA</th>\n",
       "      <th>11_WMA</th>\n",
       "    </tr>\n",
       "    <tr>\n",
       "      <th>symbol</th>\n",
       "      <th>date</th>\n",
       "      <th></th>\n",
       "      <th></th>\n",
       "      <th></th>\n",
       "      <th></th>\n",
       "      <th></th>\n",
       "      <th></th>\n",
       "      <th></th>\n",
       "      <th></th>\n",
       "      <th></th>\n",
       "      <th></th>\n",
       "      <th></th>\n",
       "      <th></th>\n",
       "      <th></th>\n",
       "      <th></th>\n",
       "      <th></th>\n",
       "      <th></th>\n",
       "      <th></th>\n",
       "      <th></th>\n",
       "      <th></th>\n",
       "      <th></th>\n",
       "      <th></th>\n",
       "    </tr>\n",
       "  </thead>\n",
       "  <tbody>\n",
       "    <tr>\n",
       "      <th rowspan=\"5\" valign=\"top\">A</th>\n",
       "      <th>2001-01-02</th>\n",
       "      <td>-34.412796</td>\n",
       "      <td>-0.973141</td>\n",
       "      <td>6.947728</td>\n",
       "      <td>0.585962</td>\n",
       "      <td>0.535624</td>\n",
       "      <td>0.023726</td>\n",
       "      <td>-0.005678</td>\n",
       "      <td>-0.016883</td>\n",
       "      <td>0.013480</td>\n",
       "      <td>-0.010002</td>\n",
       "      <td>...</td>\n",
       "      <td>-0.001141</td>\n",
       "      <td>0.001600</td>\n",
       "      <td>-0.002749</td>\n",
       "      <td>0.017469</td>\n",
       "      <td>0.008099</td>\n",
       "      <td>0.151378</td>\n",
       "      <td>0.004491</td>\n",
       "      <td>46.341988</td>\n",
       "      <td>36.953236</td>\n",
       "      <td>37.318768</td>\n",
       "    </tr>\n",
       "    <tr>\n",
       "      <th>2001-01-03</th>\n",
       "      <td>12.697194</td>\n",
       "      <td>2.633023</td>\n",
       "      <td>7.902791</td>\n",
       "      <td>1.489047</td>\n",
       "      <td>0.595197</td>\n",
       "      <td>0.015790</td>\n",
       "      <td>-0.008903</td>\n",
       "      <td>-0.019513</td>\n",
       "      <td>0.009477</td>\n",
       "      <td>-0.019619</td>\n",
       "      <td>...</td>\n",
       "      <td>-0.000315</td>\n",
       "      <td>0.002055</td>\n",
       "      <td>-0.004466</td>\n",
       "      <td>0.016901</td>\n",
       "      <td>0.006435</td>\n",
       "      <td>0.066146</td>\n",
       "      <td>0.090595</td>\n",
       "      <td>54.497822</td>\n",
       "      <td>37.110992</td>\n",
       "      <td>37.350422</td>\n",
       "    </tr>\n",
       "    <tr>\n",
       "      <th>2001-01-04</th>\n",
       "      <td>25.371769</td>\n",
       "      <td>8.878505</td>\n",
       "      <td>7.599194</td>\n",
       "      <td>2.874703</td>\n",
       "      <td>0.749336</td>\n",
       "      <td>0.009270</td>\n",
       "      <td>-0.002958</td>\n",
       "      <td>-0.025395</td>\n",
       "      <td>0.003335</td>\n",
       "      <td>-0.011481</td>\n",
       "      <td>...</td>\n",
       "      <td>-0.001298</td>\n",
       "      <td>0.002811</td>\n",
       "      <td>-0.006195</td>\n",
       "      <td>0.015803</td>\n",
       "      <td>0.009960</td>\n",
       "      <td>0.034141</td>\n",
       "      <td>0.120748</td>\n",
       "      <td>57.293777</td>\n",
       "      <td>37.420349</td>\n",
       "      <td>37.568836</td>\n",
       "    </tr>\n",
       "    <tr>\n",
       "      <th>2001-01-05</th>\n",
       "      <td>-0.667682</td>\n",
       "      <td>-1.573114</td>\n",
       "      <td>8.137382</td>\n",
       "      <td>2.481612</td>\n",
       "      <td>0.688751</td>\n",
       "      <td>0.005425</td>\n",
       "      <td>-0.003742</td>\n",
       "      <td>-0.019646</td>\n",
       "      <td>0.004832</td>\n",
       "      <td>-0.008056</td>\n",
       "      <td>...</td>\n",
       "      <td>-0.001612</td>\n",
       "      <td>0.001296</td>\n",
       "      <td>-0.004640</td>\n",
       "      <td>0.016019</td>\n",
       "      <td>0.009051</td>\n",
       "      <td>0.080985</td>\n",
       "      <td>0.075976</td>\n",
       "      <td>52.150497</td>\n",
       "      <td>37.437271</td>\n",
       "      <td>37.528706</td>\n",
       "    </tr>\n",
       "    <tr>\n",
       "      <th>2001-01-08</th>\n",
       "      <td>-12.974548</td>\n",
       "      <td>-3.724462</td>\n",
       "      <td>8.088328</td>\n",
       "      <td>1.464707</td>\n",
       "      <td>0.535229</td>\n",
       "      <td>-0.011127</td>\n",
       "      <td>-0.002551</td>\n",
       "      <td>0.004207</td>\n",
       "      <td>0.011870</td>\n",
       "      <td>0.009249</td>\n",
       "      <td>...</td>\n",
       "      <td>0.000528</td>\n",
       "      <td>0.001390</td>\n",
       "      <td>-0.004773</td>\n",
       "      <td>0.017322</td>\n",
       "      <td>0.010696</td>\n",
       "      <td>0.102645</td>\n",
       "      <td>0.049909</td>\n",
       "      <td>49.463108</td>\n",
       "      <td>37.306923</td>\n",
       "      <td>37.354282</td>\n",
       "    </tr>\n",
       "    <tr>\n",
       "      <th>...</th>\n",
       "      <th>...</th>\n",
       "      <td>...</td>\n",
       "      <td>...</td>\n",
       "      <td>...</td>\n",
       "      <td>...</td>\n",
       "      <td>...</td>\n",
       "      <td>...</td>\n",
       "      <td>...</td>\n",
       "      <td>...</td>\n",
       "      <td>...</td>\n",
       "      <td>...</td>\n",
       "      <td>...</td>\n",
       "      <td>...</td>\n",
       "      <td>...</td>\n",
       "      <td>...</td>\n",
       "      <td>...</td>\n",
       "      <td>...</td>\n",
       "      <td>...</td>\n",
       "      <td>...</td>\n",
       "      <td>...</td>\n",
       "      <td>...</td>\n",
       "      <td>...</td>\n",
       "    </tr>\n",
       "    <tr>\n",
       "      <th rowspan=\"5\" valign=\"top\">UAL</th>\n",
       "      <th>2017-12-21</th>\n",
       "      <td>74.251938</td>\n",
       "      <td>6.742821</td>\n",
       "      <td>2.037865</td>\n",
       "      <td>3.816215</td>\n",
       "      <td>1.137698</td>\n",
       "      <td>0.001991</td>\n",
       "      <td>-0.009208</td>\n",
       "      <td>0.000501</td>\n",
       "      <td>0.006544</td>\n",
       "      <td>0.009370</td>\n",
       "      <td>...</td>\n",
       "      <td>0.002668</td>\n",
       "      <td>-0.001175</td>\n",
       "      <td>0.001739</td>\n",
       "      <td>0.014169</td>\n",
       "      <td>0.006841</td>\n",
       "      <td>-0.014244</td>\n",
       "      <td>0.087697</td>\n",
       "      <td>71.777733</td>\n",
       "      <td>63.719887</td>\n",
       "      <td>64.281616</td>\n",
       "    </tr>\n",
       "    <tr>\n",
       "      <th>2017-12-22</th>\n",
       "      <td>72.923820</td>\n",
       "      <td>6.526216</td>\n",
       "      <td>1.790676</td>\n",
       "      <td>4.177783</td>\n",
       "      <td>1.260976</td>\n",
       "      <td>0.000357</td>\n",
       "      <td>-0.013665</td>\n",
       "      <td>0.003962</td>\n",
       "      <td>0.002607</td>\n",
       "      <td>0.009963</td>\n",
       "      <td>...</td>\n",
       "      <td>0.002677</td>\n",
       "      <td>-0.001149</td>\n",
       "      <td>0.001683</td>\n",
       "      <td>0.014153</td>\n",
       "      <td>0.006827</td>\n",
       "      <td>-0.002536</td>\n",
       "      <td>0.090688</td>\n",
       "      <td>71.576576</td>\n",
       "      <td>64.135193</td>\n",
       "      <td>64.696030</td>\n",
       "    </tr>\n",
       "    <tr>\n",
       "      <th>2017-12-26</th>\n",
       "      <td>73.724876</td>\n",
       "      <td>5.630489</td>\n",
       "      <td>1.796622</td>\n",
       "      <td>4.353743</td>\n",
       "      <td>1.349521</td>\n",
       "      <td>-0.008803</td>\n",
       "      <td>-0.026155</td>\n",
       "      <td>-0.002756</td>\n",
       "      <td>0.005423</td>\n",
       "      <td>0.009199</td>\n",
       "      <td>...</td>\n",
       "      <td>0.002909</td>\n",
       "      <td>-0.000884</td>\n",
       "      <td>0.001478</td>\n",
       "      <td>0.014803</td>\n",
       "      <td>0.006483</td>\n",
       "      <td>0.004949</td>\n",
       "      <td>0.092025</td>\n",
       "      <td>71.857010</td>\n",
       "      <td>64.513405</td>\n",
       "      <td>65.093307</td>\n",
       "    </tr>\n",
       "    <tr>\n",
       "      <th>2017-12-27</th>\n",
       "      <td>60.610138</td>\n",
       "      <td>3.965304</td>\n",
       "      <td>1.753085</td>\n",
       "      <td>4.296589</td>\n",
       "      <td>1.386643</td>\n",
       "      <td>-0.007756</td>\n",
       "      <td>-0.025848</td>\n",
       "      <td>-0.002666</td>\n",
       "      <td>0.005640</td>\n",
       "      <td>0.009230</td>\n",
       "      <td>...</td>\n",
       "      <td>0.003029</td>\n",
       "      <td>-0.000783</td>\n",
       "      <td>0.001485</td>\n",
       "      <td>0.014805</td>\n",
       "      <td>0.006567</td>\n",
       "      <td>0.014465</td>\n",
       "      <td>0.087292</td>\n",
       "      <td>70.158813</td>\n",
       "      <td>64.820068</td>\n",
       "      <td>65.428383</td>\n",
       "    </tr>\n",
       "    <tr>\n",
       "      <th>2017-12-28</th>\n",
       "      <td>66.201279</td>\n",
       "      <td>4.826944</td>\n",
       "      <td>1.622089</td>\n",
       "      <td>4.300513</td>\n",
       "      <td>1.428754</td>\n",
       "      <td>-0.000634</td>\n",
       "      <td>-0.026850</td>\n",
       "      <td>-0.003354</td>\n",
       "      <td>0.008750</td>\n",
       "      <td>0.009394</td>\n",
       "      <td>...</td>\n",
       "      <td>0.002378</td>\n",
       "      <td>-0.000511</td>\n",
       "      <td>0.001356</td>\n",
       "      <td>0.015193</td>\n",
       "      <td>0.006338</td>\n",
       "      <td>0.013936</td>\n",
       "      <td>0.088690</td>\n",
       "      <td>71.472038</td>\n",
       "      <td>65.140060</td>\n",
       "      <td>65.779556</td>\n",
       "    </tr>\n",
       "  </tbody>\n",
       "</table>\n",
       "<p>2351464 rows × 225 columns</p>\n",
       "</div>"
      ],
      "text/plain": [
       "                      01_CMO    01_ROC   01_NATR    01_PPO   01_MACD  \\\n",
       "symbol date                                                            \n",
       "A      2001-01-02 -34.412796 -0.973141  6.947728  0.585962  0.535624   \n",
       "       2001-01-03  12.697194  2.633023  7.902791  1.489047  0.595197   \n",
       "       2001-01-04  25.371769  8.878505  7.599194  2.874703  0.749336   \n",
       "       2001-01-05  -0.667682 -1.573114  8.137382  2.481612  0.688751   \n",
       "       2001-01-08 -12.974548 -3.724462  8.088328  1.464707  0.535229   \n",
       "...                      ...       ...       ...       ...       ...   \n",
       "UAL    2017-12-21  74.251938  6.742821  2.037865  3.816215  1.137698   \n",
       "       2017-12-22  72.923820  6.526216  1.790676  4.177783  1.260976   \n",
       "       2017-12-26  73.724876  5.630489  1.796622  4.353743  1.349521   \n",
       "       2017-12-27  60.610138  3.965304  1.753085  4.296589  1.386643   \n",
       "       2017-12-28  66.201279  4.826944  1.622089  4.300513  1.428754   \n",
       "\n",
       "                     01_CMA    01_RMW    01_HML  01_Market    01_SMB  ...  \\\n",
       "symbol date                                                           ...   \n",
       "A      2001-01-02  0.023726 -0.005678 -0.016883   0.013480 -0.010002  ...   \n",
       "       2001-01-03  0.015790 -0.008903 -0.019513   0.009477 -0.019619  ...   \n",
       "       2001-01-04  0.009270 -0.002958 -0.025395   0.003335 -0.011481  ...   \n",
       "       2001-01-05  0.005425 -0.003742 -0.019646   0.004832 -0.008056  ...   \n",
       "       2001-01-08 -0.011127 -0.002551  0.004207   0.011870  0.009249  ...   \n",
       "...                     ...       ...       ...        ...       ...  ...   \n",
       "UAL    2017-12-21  0.001991 -0.009208  0.000501   0.006544  0.009370  ...   \n",
       "       2017-12-22  0.000357 -0.013665  0.003962   0.002607  0.009963  ...   \n",
       "       2017-12-26 -0.008803 -0.026155 -0.002756   0.005423  0.009199  ...   \n",
       "       2017-12-27 -0.007756 -0.025848 -0.002666   0.005640  0.009230  ...   \n",
       "       2017-12-28 -0.000634 -0.026850 -0.003354   0.008750  0.009394  ...   \n",
       "\n",
       "                     11_CMA    11_RMW    11_HML  11_Market    11_SMB  \\\n",
       "symbol date                                                            \n",
       "A      2001-01-02 -0.001141  0.001600 -0.002749   0.017469  0.008099   \n",
       "       2001-01-03 -0.000315  0.002055 -0.004466   0.016901  0.006435   \n",
       "       2001-01-04 -0.001298  0.002811 -0.006195   0.015803  0.009960   \n",
       "       2001-01-05 -0.001612  0.001296 -0.004640   0.016019  0.009051   \n",
       "       2001-01-08  0.000528  0.001390 -0.004773   0.017322  0.010696   \n",
       "...                     ...       ...       ...        ...       ...   \n",
       "UAL    2017-12-21  0.002668 -0.001175  0.001739   0.014169  0.006841   \n",
       "       2017-12-22  0.002677 -0.001149  0.001683   0.014153  0.006827   \n",
       "       2017-12-26  0.002909 -0.000884  0.001478   0.014803  0.006483   \n",
       "       2017-12-27  0.003029 -0.000783  0.001485   0.014805  0.006567   \n",
       "       2017-12-28  0.002378 -0.000511  0.001356   0.015193  0.006338   \n",
       "\n",
       "                     11_BBH    11_BBL     11_RSI     11_EMA     11_WMA  \n",
       "symbol date                                                             \n",
       "A      2001-01-02  0.151378  0.004491  46.341988  36.953236  37.318768  \n",
       "       2001-01-03  0.066146  0.090595  54.497822  37.110992  37.350422  \n",
       "       2001-01-04  0.034141  0.120748  57.293777  37.420349  37.568836  \n",
       "       2001-01-05  0.080985  0.075976  52.150497  37.437271  37.528706  \n",
       "       2001-01-08  0.102645  0.049909  49.463108  37.306923  37.354282  \n",
       "...                     ...       ...        ...        ...        ...  \n",
       "UAL    2017-12-21 -0.014244  0.087697  71.777733  63.719887  64.281616  \n",
       "       2017-12-22 -0.002536  0.090688  71.576576  64.135193  64.696030  \n",
       "       2017-12-26  0.004949  0.092025  71.857010  64.513405  65.093307  \n",
       "       2017-12-27  0.014465  0.087292  70.158813  64.820068  65.428383  \n",
       "       2017-12-28  0.013936  0.088690  71.472038  65.140060  65.779556  \n",
       "\n",
       "[2351464 rows x 225 columns]"
      ]
     },
     "execution_count": 12,
     "metadata": {},
     "output_type": "execute_result"
    }
   ],
   "source": [
    "features"
   ]
  },
  {
   "cell_type": "markdown",
   "metadata": {},
   "source": [
    "## Convolutional Neural Network"
   ]
  },
  {
   "cell_type": "markdown",
   "metadata": {},
   "source": [
    "We again closely follow the authors in creating a CNN with 2 convolutional layers with kernel size 3 and 16 and 32 filters, respectively, followed by a max pooling layer of size 2. \n",
    "\n",
    "We flatten the output of the last stack of filters and connect the resulting 1,568 outputs to a dense layer of size 32, applying 25 and 50 percent dropout probability to the incoming and outcoming connections to mitigate overfitting."
   ]
  },
  {
   "cell_type": "markdown",
   "metadata": {},
   "source": [
    "### Model Architecture"
   ]
  },
  {
   "cell_type": "code",
   "execution_count": 13,
   "metadata": {
    "ExecuteTime": {
     "end_time": "2021-02-23T20:16:57.897808Z",
     "start_time": "2021-02-23T20:16:57.894295Z"
    }
   },
   "outputs": [],
   "source": [
    "def make_model(filter1=16, act1='relu', filter2=32, act2='relu', do1=.25, do2=.5, dense=32):\n",
    "    input_shape = (size, size, 1)\n",
    "    cnn = Sequential([\n",
    "        Conv2D(filters=filter1,\n",
    "               kernel_size=3,\n",
    "               padding='same',\n",
    "               activation=act1,\n",
    "               input_shape=input_shape,\n",
    "               name='CONV1'),\n",
    "        Conv2D(filters=filter2,        \n",
    "               kernel_size=3,  \n",
    "               padding='same',\n",
    "               activation=act2,\n",
    "               name='CONV2'),\n",
    "        MaxPooling2D(pool_size=2, name='POOL2'),\n",
    "        Dropout(do1, name='DROP1'),\n",
    "        Flatten(name='FLAT1'),\n",
    "        Dense(dense, activation='relu', name='FC1'),\n",
    "        Dropout(do2, name='DROP2'),\n",
    "        Dense(1, activation='linear', name='FC2')\n",
    "    ])\n",
    "    cnn.compile(loss='mse',\n",
    "                optimizer=tf.keras.optimizers.SGD(learning_rate=0.01, \n",
    "                                                  momentum=0.9, \n",
    "                                                  nesterov=False, \n",
    "                                                  name='SGD'),\n",
    "                metrics=[tf.keras.metrics.RootMeanSquaredError(name='rmse')])\n",
    "    return cnn"
   ]
  },
  {
   "cell_type": "code",
   "execution_count": 14,
   "metadata": {
    "ExecuteTime": {
     "end_time": "2021-02-23T20:16:58.298472Z",
     "start_time": "2021-02-23T20:16:57.898871Z"
    }
   },
   "outputs": [
    {
     "name": "stdout",
     "output_type": "stream",
     "text": [
      "Model: \"sequential\"\n",
      "_________________________________________________________________\n",
      "Layer (type)                 Output Shape              Param #   \n",
      "=================================================================\n",
      "CONV1 (Conv2D)               (None, 15, 15, 16)        160       \n",
      "_________________________________________________________________\n",
      "CONV2 (Conv2D)               (None, 15, 15, 32)        4640      \n",
      "_________________________________________________________________\n",
      "POOL2 (MaxPooling2D)         (None, 7, 7, 32)          0         \n",
      "_________________________________________________________________\n",
      "DROP1 (Dropout)              (None, 7, 7, 32)          0         \n",
      "_________________________________________________________________\n",
      "FLAT1 (Flatten)              (None, 1568)              0         \n",
      "_________________________________________________________________\n",
      "FC1 (Dense)                  (None, 32)                50208     \n",
      "_________________________________________________________________\n",
      "DROP2 (Dropout)              (None, 32)                0         \n",
      "_________________________________________________________________\n",
      "FC2 (Dense)                  (None, 1)                 33        \n",
      "=================================================================\n",
      "Total params: 55,041\n",
      "Trainable params: 55,041\n",
      "Non-trainable params: 0\n",
      "_________________________________________________________________\n"
     ]
    }
   ],
   "source": [
    "cnn = make_model()\n",
    "cnn.summary()"
   ]
  },
  {
   "cell_type": "markdown",
   "metadata": {},
   "source": [
    "### Train the Model"
   ]
  },
  {
   "cell_type": "markdown",
   "metadata": {},
   "source": [
    "We cross-validate the model with the MutipleTimeSeriesCV train and validation set index generator introduced in Chapter 7, Linear Models – From Risk Factors to Return Forecasts. We provide 5 years of trading days during the training period in batches of 64 random samples and validate using the subsequent 3 months, covering the years 2014-2017."
   ]
  },
  {
   "cell_type": "code",
   "execution_count": 15,
   "metadata": {
    "ExecuteTime": {
     "end_time": "2021-02-23T20:16:58.304380Z",
     "start_time": "2021-02-23T20:16:58.300011Z"
    }
   },
   "outputs": [],
   "source": [
    "train_period_length = 5 * 12 * 21\n",
    "test_period_length = 5 * 21\n",
    "n_splits = 16"
   ]
  },
  {
   "cell_type": "code",
   "execution_count": 16,
   "metadata": {
    "ExecuteTime": {
     "end_time": "2021-02-23T20:16:58.311610Z",
     "start_time": "2021-02-23T20:16:58.305432Z"
    }
   },
   "outputs": [],
   "source": [
    "cv = MultipleTimeSeriesCV(n_splits=n_splits,\n",
    "                          train_period_length=train_period_length,\n",
    "                          test_period_length=test_period_length,\n",
    "                          lookahead=lookahead)"
   ]
  },
  {
   "cell_type": "markdown",
   "metadata": {},
   "source": [
    "We scale the features to the range [-1, 1] and again use NumPy's .reshape() method to create the requisite format: "
   ]
  },
  {
   "cell_type": "code",
   "execution_count": 17,
   "metadata": {
    "ExecuteTime": {
     "end_time": "2021-02-23T20:16:58.320139Z",
     "start_time": "2021-02-23T20:16:58.312511Z"
    }
   },
   "outputs": [],
   "source": [
    "def get_train_valid_data(X, y, train_idx, test_idx):\n",
    "    x_train, y_train = X.iloc[train_idx, :], y.iloc[train_idx]\n",
    "    x_val, y_val = X.iloc[test_idx, :], y.iloc[test_idx]\n",
    "    scaler = MinMaxScaler(feature_range=(-1, 1))\n",
    "    x_train = scaler.fit_transform(x_train)\n",
    "    x_val = scaler.transform(x_val)\n",
    "    return (x_train.reshape(-1, size, size, 1), y_train,\n",
    "            x_val.reshape(-1, size, size, 1), y_val)"
   ]
  },
  {
   "cell_type": "code",
   "execution_count": 17,
   "metadata": {
    "ExecuteTime": {
     "end_time": "2021-02-23T20:16:58.331324Z",
     "start_time": "2021-02-23T20:16:58.321582Z"
    }
   },
   "outputs": [],
   "source": [
    "batch_size = 64"
   ]
  },
  {
   "cell_type": "code",
   "execution_count": 18,
   "metadata": {
    "ExecuteTime": {
     "end_time": "2021-02-23T20:16:58.339491Z",
     "start_time": "2021-02-23T20:16:58.332279Z"
    }
   },
   "outputs": [],
   "source": [
    "checkpoint_path = results_path / f'lookahead_{lookahead:02d}'\n",
    "if not checkpoint_path.exists():\n",
    "    checkpoint_path.mkdir(parents=True, exist_ok=True)"
   ]
  },
  {
   "cell_type": "markdown",
   "metadata": {},
   "source": [
    "Training and validation follow the process laid out in Chapter 17, Deep Learning for Trading, relying on checkpointing to store weights after each epoch and generate predictions for the best-performing iterations without the need for costly retraining."
   ]
  },
  {
   "cell_type": "code",
   "execution_count": 19,
   "metadata": {
    "ExecuteTime": {
     "end_time": "2021-02-23T21:44:20.456311Z",
     "start_time": "2021-02-23T20:20:45.674180Z"
    },
    "scrolled": false
   },
   "outputs": [
    {
     "name": "stdout",
     "output_type": "stream",
     "text": [
      "00:01:53 | 01 | 01 | -0.0020 |  0.0052\n",
      "00:03:34 | 01 | 02 |  0.0038 | -0.0232\n",
      "00:05:35 | 01 | 03 |  0.0044 | -0.0144\n",
      "00:07:30 | 01 | 04 |  0.0051 | -0.0110\n",
      "00:09:27 | 01 | 05 |  0.0045 | -0.0088\n",
      "00:11:21 | 01 | 06 |  0.0034 | -0.0125\n",
      "00:13:08 | 01 | 07 |  0.0042 | -0.0079\n",
      "00:14:52 | 01 | 08 |  0.0053 | -0.0064\n",
      "00:16:36 | 01 | 09 |  0.0051 | -0.0107\n",
      "00:18:20 | 01 | 10 |  0.0056 | -0.0116\n",
      "00:20:05 | 01 | 11 |  0.0053 | -0.0124\n",
      "00:21:47 | 01 | 12 |  0.0040 | -0.0092\n",
      "00:23:25 | 01 | 13 |  0.0055 | -0.0093\n",
      "00:25:03 | 01 | 14 |  0.0049 | -0.0095\n",
      "00:26:41 | 01 | 15 |  0.0052 | -0.0052\n",
      "00:28:19 | 01 | 16 |  0.0049 | -0.0082\n",
      "00:29:54 | 01 | 17 |  0.0043 | -0.0078\n",
      "00:31:31 | 01 | 18 |  0.0040 | -0.0167\n",
      "00:33:04 | 01 | 19 |  0.0042 | -0.0115\n",
      "00:34:39 | 01 | 20 |  0.0019 | -0.0159\n",
      "00:36:15 | 01 | 21 |  0.0014 | -0.0158\n",
      "00:37:49 | 01 | 22 |  0.0018 | -0.0123\n",
      "00:39:23 | 01 | 23 |  0.0020 | -0.0138\n",
      "00:40:55 | 01 | 24 |  0.0010 | -0.0138\n",
      "00:42:28 | 01 | 25 |  0.0011 | -0.0147\n",
      "00:44:14 | 02 | 01 | -0.0051 | -0.0297\n",
      "00:45:46 | 02 | 02 | -0.0070 | -0.0281\n",
      "00:47:18 | 02 | 03 | -0.0067 | -0.0267\n",
      "00:48:49 | 02 | 04 |  0.0037 |  0.0264\n",
      "00:50:22 | 02 | 05 | -0.0063 | -0.0312\n",
      "00:51:52 | 02 | 06 | -0.0034 | -0.0210\n",
      "00:53:00 | 02 | 07 | -0.0025 |  0.0018\n",
      "00:54:00 | 02 | 08 | -0.0041 | -0.0139\n",
      "00:55:01 | 02 | 09 |  0.0035 |  0.0085\n",
      "00:56:02 | 02 | 10 |  0.0026 |  0.0176\n",
      "00:57:02 | 02 | 11 |  0.0049 |  0.0228\n",
      "00:58:04 | 02 | 12 |  0.0048 |  0.0234\n",
      "00:59:06 | 02 | 13 | -0.0047 | -0.0220\n",
      "01:00:08 | 02 | 14 | -0.0049 | -0.0297\n",
      "01:01:10 | 02 | 15 | -0.0044 | -0.0279\n",
      "01:02:12 | 02 | 16 |  0.0042 |  0.0178\n",
      "01:03:15 | 02 | 17 | -0.0053 | -0.0193\n",
      "01:04:18 | 02 | 18 | -0.0052 | -0.0186\n",
      "01:05:19 | 02 | 19 | -0.0059 | -0.0300\n",
      "01:06:21 | 02 | 20 |  0.0049 |  0.0259\n",
      "01:07:22 | 02 | 21 | -0.0049 | -0.0269\n",
      "01:08:23 | 02 | 22 | -0.0054 | -0.0226\n",
      "01:09:23 | 02 | 23 | -0.0039 | -0.0305\n",
      "01:10:25 | 02 | 24 | -0.0043 | -0.0245\n",
      "01:11:28 | 02 | 25 | -0.0047 | -0.0170\n",
      "01:12:36 | 03 | 01 |  0.0179 |  0.0106\n",
      "01:13:44 | 03 | 02 |  0.0173 |  0.0079\n",
      "01:14:52 | 03 | 03 |  0.0165 |  0.0090\n",
      "01:15:60 | 03 | 04 |  0.0164 |  0.0092\n",
      "01:17:09 | 03 | 05 |  0.0164 |  0.0097\n",
      "01:18:19 | 03 | 06 |  0.0168 |  0.0078\n",
      "01:19:27 | 03 | 07 |  0.0167 |  0.0089\n",
      "01:20:37 | 03 | 08 |  0.0178 |  0.0080\n",
      "01:21:46 | 03 | 09 |  0.0179 |  0.0077\n",
      "01:22:55 | 03 | 10 |  0.0179 |  0.0050\n",
      "01:24:04 | 03 | 11 |  0.0178 |  0.0054\n",
      "01:25:14 | 03 | 12 |  0.0171 |  0.0049\n",
      "01:26:42 | 03 | 13 |  0.0168 |  0.0063\n",
      "01:28:16 | 03 | 14 |  0.0175 |  0.0084\n",
      "01:29:51 | 03 | 15 |  0.0173 |  0.0063\n",
      "01:31:33 | 03 | 16 |  0.0161 |  0.0132\n",
      "01:33:14 | 03 | 17 |  0.0161 |  0.0091\n",
      "01:34:56 | 03 | 18 |  0.0171 |  0.0102\n",
      "01:36:38 | 03 | 19 |  0.0159 |  0.0114\n",
      "01:38:19 | 03 | 20 |  0.0162 |  0.0083\n",
      "01:39:60 | 03 | 21 |  0.0165 |  0.0107\n",
      "01:41:33 | 03 | 22 |  0.0164 |  0.0072\n",
      "01:43:04 | 03 | 23 |  0.0168 |  0.0070\n",
      "01:44:38 | 03 | 24 |  0.0171 |  0.0097\n",
      "01:46:12 | 03 | 25 |  0.0176 |  0.0104\n",
      "01:47:51 | 04 | 01 |  0.0019 | -0.0110\n",
      "01:49:32 | 04 | 02 | -0.0024 |  0.0184\n",
      "01:51:30 | 04 | 03 | -0.0008 |  0.0148\n",
      "01:53:37 | 04 | 04 | -0.0004 | -0.0132\n",
      "01:55:51 | 04 | 05 | -0.0011 | -0.0020\n",
      "01:58:04 | 04 | 06 |  0.0037 |  0.0051\n",
      "02:00:10 | 04 | 07 | -0.0043 | -0.0031\n",
      "02:01:48 | 04 | 08 | -0.0010 | -0.0096\n",
      "02:03:24 | 04 | 09 |  0.0001 | -0.0095\n",
      "02:04:56 | 04 | 10 |  0.0003 | -0.0078\n",
      "02:06:28 | 04 | 11 |  0.0001 | -0.0094\n",
      "02:07:60 | 04 | 12 | -0.0011 | -0.0042\n",
      "02:09:53 | 04 | 13 | -0.0000 | -0.0122\n",
      "02:12:03 | 04 | 14 | -0.0000 | -0.0133\n",
      "02:14:19 | 04 | 15 | -0.0017 | -0.0166\n",
      "02:16:33 | 04 | 16 | -0.0017 | -0.0064\n",
      "02:18:44 | 04 | 17 | -0.0017 | -0.0060\n",
      "02:20:51 | 04 | 18 | -0.0012 | -0.0109\n",
      "02:23:00 | 04 | 19 | -0.0015 | -0.0084\n",
      "02:25:09 | 04 | 20 | -0.0017 | -0.0067\n",
      "02:27:17 | 04 | 21 | -0.0024 | -0.0135\n",
      "02:29:30 | 04 | 22 | -0.0007 | -0.0132\n",
      "02:31:41 | 04 | 23 |  0.0021 | -0.0142\n",
      "02:33:55 | 04 | 24 |  0.0016 | -0.0096\n",
      "02:36:14 | 04 | 25 |  0.0015 | -0.0166\n",
      "02:38:42 | 05 | 01 |  0.0125 |  0.0132\n",
      "02:41:01 | 05 | 02 |  0.0119 |  0.0242\n",
      "02:43:21 | 05 | 03 |  0.0157 |  0.0313\n",
      "02:45:41 | 05 | 04 |  0.0148 |  0.0302\n",
      "02:48:01 | 05 | 05 |  0.0160 |  0.0341\n",
      "02:50:22 | 05 | 06 |  0.0146 |  0.0291\n",
      "02:52:39 | 05 | 07 |  0.0148 |  0.0284\n",
      "02:54:57 | 05 | 08 |  0.0151 |  0.0322\n",
      "02:57:15 | 05 | 09 |  0.0146 |  0.0328\n",
      "02:59:36 | 05 | 10 |  0.0127 |  0.0325\n",
      "03:01:58 | 05 | 11 |  0.0132 |  0.0333\n",
      "03:04:19 | 05 | 12 |  0.0118 |  0.0282\n",
      "03:06:41 | 05 | 13 |  0.0128 |  0.0293\n",
      "03:09:06 | 05 | 14 |  0.0132 |  0.0315\n",
      "03:11:25 | 05 | 15 |  0.0152 |  0.0314\n",
      "03:13:51 | 05 | 16 |  0.0151 |  0.0316\n",
      "03:16:15 | 05 | 17 |  0.0149 |  0.0299\n",
      "03:18:28 | 05 | 18 |  0.0158 |  0.0323\n",
      "03:20:39 | 05 | 19 |  0.0163 |  0.0408\n",
      "03:22:52 | 05 | 20 |  0.0164 |  0.0402\n",
      "03:25:05 | 05 | 21 |  0.0169 |  0.0421\n",
      "03:27:20 | 05 | 22 |  0.0176 |  0.0377\n",
      "03:29:34 | 05 | 23 |  0.0179 |  0.0368\n",
      "03:31:49 | 05 | 24 |  0.0179 |  0.0362\n",
      "03:34:03 | 05 | 25 |  0.0184 |  0.0379\n",
      "03:36:01 | 06 | 01 | -0.0296 | -0.0378\n",
      "03:37:51 | 06 | 02 | -0.0311 | -0.0288\n",
      "03:39:17 | 06 | 03 | -0.0297 | -0.0321\n",
      "03:40:36 | 06 | 04 | -0.0306 | -0.0415\n",
      "03:41:55 | 06 | 05 | -0.0283 | -0.0269\n",
      "03:43:15 | 06 | 06 | -0.0278 | -0.0275\n",
      "03:44:35 | 06 | 07 | -0.0261 | -0.0261\n",
      "03:45:55 | 06 | 08 | -0.0253 | -0.0255\n",
      "03:47:14 | 06 | 09 | -0.0279 | -0.0307\n",
      "03:48:34 | 06 | 10 | -0.0271 | -0.0239\n",
      "03:49:55 | 06 | 11 | -0.0287 | -0.0326\n",
      "03:51:15 | 06 | 12 | -0.0285 | -0.0322\n",
      "03:52:35 | 06 | 13 | -0.0275 | -0.0354\n",
      "03:53:56 | 06 | 14 | -0.0232 | -0.0267\n",
      "03:55:17 | 06 | 15 | -0.0220 | -0.0202\n",
      "03:56:42 | 06 | 16 | -0.0237 | -0.0290\n",
      "03:58:06 | 06 | 17 | -0.0190 | -0.0162\n",
      "03:59:28 | 06 | 18 | -0.0194 | -0.0159\n",
      "04:00:48 | 06 | 19 | -0.0201 | -0.0194\n",
      "04:02:09 | 06 | 20 | -0.0203 | -0.0121\n",
      "04:03:29 | 06 | 21 | -0.0200 | -0.0145\n",
      "04:04:48 | 06 | 22 | -0.0193 | -0.0127\n",
      "04:06:08 | 06 | 23 | -0.0183 | -0.0140\n",
      "04:07:28 | 06 | 24 | -0.0200 | -0.0150\n",
      "04:08:48 | 06 | 25 | -0.0208 | -0.0175\n",
      "04:10:27 | 07 | 01 |  0.0038 | -0.0060\n",
      "04:12:02 | 07 | 02 | -0.0053 |  0.0055\n",
      "04:13:37 | 07 | 03 |  0.0038 | -0.0043\n",
      "04:15:12 | 07 | 04 |  0.0044 | -0.0054\n",
      "04:16:48 | 07 | 05 |  0.0043 | -0.0043\n",
      "04:18:25 | 07 | 06 |  0.0037 | -0.0049\n",
      "04:20:03 | 07 | 07 | -0.0046 |  0.0101\n",
      "04:21:39 | 07 | 08 |  0.0032 | -0.0066\n",
      "04:23:14 | 07 | 09 | -0.0048 |  0.0108\n",
      "04:24:50 | 07 | 10 |  0.0032 | -0.0044\n",
      "04:26:25 | 07 | 11 |  0.0032 | -0.0084\n",
      "04:28:00 | 07 | 12 | -0.0042 |  0.0104\n",
      "04:29:35 | 07 | 13 | -0.0036 |  0.0090\n",
      "04:31:11 | 07 | 14 |  0.0038 | -0.0084\n",
      "04:32:46 | 07 | 15 |  0.0037 | -0.0074\n",
      "04:34:21 | 07 | 16 | -0.0037 |  0.0133\n",
      "04:35:57 | 07 | 17 | -0.0040 |  0.0130\n",
      "04:37:32 | 07 | 18 |  0.0038 | -0.0094\n",
      "04:39:08 | 07 | 19 |  0.0040 | -0.0069\n",
      "04:40:46 | 07 | 20 | -0.0053 |  0.0130\n",
      "04:42:27 | 07 | 21 |  0.0042 | -0.0078\n",
      "04:44:05 | 07 | 22 |  0.0049 | -0.0103\n",
      "04:45:42 | 07 | 23 |  0.0051 | -0.0094\n",
      "04:47:18 | 07 | 24 |  0.0053 | -0.0077\n",
      "04:48:54 | 07 | 25 |  0.0056 | -0.0082\n",
      "04:50:34 | 08 | 01 | -0.0155 | -0.0164\n",
      "04:52:10 | 08 | 02 | -0.0188 | -0.0310\n",
      "04:53:46 | 08 | 03 |  0.0204 |  0.0168\n",
      "04:55:21 | 08 | 04 | -0.0201 | -0.0332\n",
      "04:56:58 | 08 | 05 | -0.0204 | -0.0340\n",
      "04:58:35 | 08 | 06 | -0.0189 | -0.0360\n",
      "05:00:12 | 08 | 07 | -0.0200 | -0.0346\n",
      "05:01:48 | 08 | 08 | -0.0196 | -0.0370\n",
      "05:03:26 | 08 | 09 |  0.0217 |  0.0295\n",
      "05:05:06 | 08 | 10 |  0.0222 |  0.0282\n",
      "05:06:44 | 08 | 11 | -0.0192 | -0.0416\n",
      "05:08:21 | 08 | 12 | -0.0198 | -0.0382\n",
      "05:09:57 | 08 | 13 | -0.0208 | -0.0437\n",
      "05:11:33 | 08 | 14 | -0.0207 | -0.0432\n",
      "05:13:06 | 08 | 15 | -0.0218 | -0.0422\n",
      "05:14:40 | 08 | 16 |  0.0247 |  0.0286\n",
      "05:16:14 | 08 | 17 | -0.0239 | -0.0398\n",
      "05:17:47 | 08 | 18 | -0.0234 | -0.0364\n",
      "05:19:21 | 08 | 19 | -0.0237 | -0.0355\n",
      "05:20:53 | 08 | 20 | -0.0241 | -0.0374\n",
      "05:22:26 | 08 | 21 | -0.0249 | -0.0352\n",
      "05:23:59 | 08 | 22 | -0.0251 | -0.0335\n",
      "05:25:33 | 08 | 23 | -0.0254 | -0.0336\n",
      "05:27:09 | 08 | 24 | -0.0256 | -0.0325\n",
      "05:28:44 | 08 | 25 |  0.0292 |  0.0447\n",
      "05:30:20 | 09 | 01 |  0.0213 |  0.0263\n",
      "05:31:53 | 09 | 02 |  0.0216 |  0.0191\n",
      "05:33:27 | 09 | 03 |  0.0222 |  0.0229\n",
      "05:34:60 | 09 | 04 |  0.0221 |  0.0286\n",
      "05:36:34 | 09 | 05 |  0.0221 |  0.0191\n",
      "05:38:07 | 09 | 06 |  0.0222 |  0.0207\n",
      "05:39:40 | 09 | 07 |  0.0224 |  0.0288\n",
      "05:41:14 | 09 | 08 |  0.0225 |  0.0255\n",
      "05:42:47 | 09 | 09 |  0.0227 |  0.0197\n",
      "05:44:20 | 09 | 10 |  0.0229 |  0.0234\n",
      "05:45:53 | 09 | 11 |  0.0228 |  0.0242\n"
     ]
    },
    {
     "name": "stdout",
     "output_type": "stream",
     "text": [
      "05:47:28 | 09 | 12 |  0.0230 |  0.0213\n",
      "05:49:04 | 09 | 13 |  0.0223 |  0.0267\n",
      "05:50:41 | 09 | 14 |  0.0231 |  0.0219\n",
      "05:52:14 | 09 | 15 |  0.0228 |  0.0224\n",
      "05:53:47 | 09 | 16 |  0.0235 |  0.0262\n",
      "05:55:20 | 09 | 17 |  0.0236 |  0.0271\n",
      "05:56:53 | 09 | 18 |  0.0234 |  0.0264\n",
      "05:58:26 | 09 | 19 |  0.0239 |  0.0250\n",
      "06:00:00 | 09 | 20 |  0.0237 |  0.0252\n",
      "06:01:34 | 09 | 21 |  0.0238 |  0.0257\n",
      "06:03:07 | 09 | 22 |  0.0240 |  0.0229\n",
      "06:04:41 | 09 | 23 |  0.0245 |  0.0203\n",
      "06:06:14 | 09 | 24 |  0.0241 |  0.0229\n",
      "06:07:47 | 09 | 25 |  0.0240 |  0.0230\n",
      "06:09:25 | 10 | 01 | -0.0040 |  0.0037\n",
      "06:11:00 | 10 | 02 | -0.0018 |  0.0023\n",
      "06:12:38 | 10 | 03 | -0.0034 | -0.0095\n",
      "06:14:14 | 10 | 04 | -0.0045 | -0.0037\n",
      "06:15:51 | 10 | 05 | -0.0045 | -0.0052\n",
      "06:16:51 | 10 | 06 | -0.0044 | -0.0077\n",
      "06:17:53 | 10 | 07 | -0.0055 | -0.0108\n",
      "06:18:56 | 10 | 08 | -0.0063 | -0.0030\n",
      "06:19:58 | 10 | 09 | -0.0054 | -0.0113\n",
      "06:20:59 | 10 | 10 | -0.0036 | -0.0062\n",
      "06:22:01 | 10 | 11 | -0.0065 | -0.0120\n",
      "06:23:04 | 10 | 12 | -0.0057 | -0.0065\n",
      "06:24:06 | 10 | 13 | -0.0073 | -0.0117\n",
      "06:25:09 | 10 | 14 | -0.0061 | -0.0114\n",
      "06:26:10 | 10 | 15 | -0.0024 | -0.0064\n",
      "06:27:12 | 10 | 16 | -0.0077 | -0.0113\n",
      "06:28:14 | 10 | 17 | -0.0076 | -0.0109\n",
      "06:29:17 | 10 | 18 | -0.0057 | -0.0088\n",
      "06:30:18 | 10 | 19 | -0.0077 | -0.0109\n",
      "06:31:21 | 10 | 20 | -0.0060 | -0.0080\n",
      "06:32:23 | 10 | 21 | -0.0077 | -0.0118\n",
      "06:33:25 | 10 | 22 | -0.0062 | -0.0113\n",
      "06:34:27 | 10 | 23 | -0.0059 | -0.0118\n",
      "06:35:28 | 10 | 24 | -0.0079 | -0.0166\n",
      "06:36:30 | 10 | 25 | -0.0078 | -0.0166\n",
      "06:37:35 | 11 | 01 |  0.0121 | -0.0066\n",
      "06:38:37 | 11 | 02 |  0.0096 | -0.0029\n",
      "06:39:38 | 11 | 03 |  0.0059 | -0.0013\n",
      "06:40:40 | 11 | 04 |  0.0090 | -0.0085\n",
      "06:41:42 | 11 | 05 |  0.0015 | -0.0020\n",
      "06:42:45 | 11 | 06 | -0.0043 | -0.0142\n",
      "06:43:47 | 11 | 07 | -0.0043 | -0.0085\n",
      "06:44:49 | 11 | 08 |  0.0087 |  0.0058\n",
      "06:45:51 | 11 | 09 |  0.0042 |  0.0117\n",
      "06:46:54 | 11 | 10 |  0.0004 | -0.0098\n",
      "06:47:56 | 11 | 11 |  0.0026 | -0.0122\n",
      "06:48:57 | 11 | 12 |  0.0034 | -0.0096\n",
      "06:49:60 | 11 | 13 |  0.0057 | -0.0055\n",
      "06:51:02 | 11 | 14 |  0.0090 | -0.0029\n",
      "06:52:04 | 11 | 15 |  0.0086 |  0.0074\n",
      "06:53:06 | 11 | 16 |  0.0078 | -0.0021\n",
      "06:54:08 | 11 | 17 |  0.0086 |  0.0086\n",
      "06:55:11 | 11 | 18 |  0.0058 | -0.0006\n",
      "06:56:13 | 11 | 19 |  0.0120 |  0.0146\n",
      "06:57:16 | 11 | 20 |  0.0109 |  0.0143\n",
      "06:58:17 | 11 | 21 |  0.0127 |  0.0150\n",
      "06:59:19 | 11 | 22 |  0.0133 |  0.0195\n",
      "07:00:22 | 11 | 23 |  0.0070 | -0.0016\n",
      "07:01:24 | 11 | 24 |  0.0105 |  0.0251\n",
      "07:02:25 | 11 | 25 |  0.0117 |  0.0155\n",
      "07:03:31 | 12 | 01 | -0.0001 | -0.0030\n",
      "07:04:34 | 12 | 02 | -0.0067 | -0.0049\n",
      "07:05:36 | 12 | 03 | -0.0029 | -0.0027\n",
      "07:06:39 | 12 | 04 |  0.0042 |  0.0153\n",
      "07:07:41 | 12 | 05 |  0.0169 |  0.0265\n",
      "07:08:45 | 12 | 06 |  0.0126 |  0.0361\n",
      "07:09:49 | 12 | 07 |  0.0191 |  0.0605\n",
      "07:10:54 | 12 | 08 |  0.0154 |  0.0265\n",
      "07:11:58 | 12 | 09 |  0.0207 |  0.0355\n",
      "07:13:02 | 12 | 10 |  0.0123 |  0.0265\n",
      "07:14:07 | 12 | 11 |  0.0160 |  0.0265\n",
      "07:15:11 | 12 | 12 |  0.0113 |  0.0131\n",
      "07:16:15 | 12 | 13 |  0.0072 |  0.0073\n",
      "07:17:20 | 12 | 14 |  0.0161 |  0.0268\n",
      "07:18:24 | 12 | 15 |  0.0095 |  0.0265\n",
      "07:19:29 | 12 | 16 |  0.0156 |  0.0272\n",
      "07:20:34 | 12 | 17 |  0.0127 |  0.0267\n",
      "07:21:38 | 12 | 18 |  0.0145 |  0.0268\n",
      "07:22:43 | 12 | 19 |  0.0090 |  0.0118\n",
      "07:23:47 | 12 | 20 |  0.0145 |  0.0268\n",
      "07:24:50 | 12 | 21 |  0.0057 |  0.0122\n",
      "07:25:54 | 12 | 22 |  0.0056 |  0.0035\n",
      "07:26:58 | 12 | 23 |  0.0106 |  0.0265\n",
      "07:28:03 | 12 | 24 |  0.0216 |  0.0441\n",
      "07:29:08 | 12 | 25 |  0.0116 |  0.0159\n",
      "07:30:16 | 13 | 01 |  0.0080 | -0.0037\n",
      "07:31:21 | 13 | 02 |  0.0096 |  0.0086\n",
      "07:32:26 | 13 | 03 |  0.0061 |  0.0017\n",
      "07:33:31 | 13 | 04 |  0.0105 |  0.0055\n",
      "07:34:35 | 13 | 05 |  0.0124 |  0.0093\n",
      "07:35:40 | 13 | 06 |  0.0104 |  0.0024\n",
      "07:36:44 | 13 | 07 | -0.0016 | -0.0045\n",
      "07:37:49 | 13 | 08 |  0.0151 |  0.0092\n",
      "07:38:54 | 13 | 09 |  0.0117 |  0.0041\n",
      "07:39:58 | 13 | 10 |  0.0110 | -0.0018\n",
      "07:41:04 | 13 | 11 |  0.0112 |  0.0024\n",
      "07:42:09 | 13 | 12 |  0.0101 |  0.0012\n",
      "07:43:12 | 13 | 13 |  0.0092 |  0.0003\n",
      "07:44:16 | 13 | 14 |  0.0103 |  0.0018\n",
      "07:45:20 | 13 | 15 |  0.0102 |  0.0010\n",
      "07:46:25 | 13 | 16 |  0.0111 |  0.0050\n",
      "07:47:29 | 13 | 17 |  0.0102 |  0.0067\n",
      "07:48:34 | 13 | 18 |  0.0109 |  0.0090\n",
      "07:49:39 | 13 | 19 |  0.0107 |  0.0055\n",
      "07:50:44 | 13 | 20 |  0.0112 |  0.0043\n",
      "07:51:50 | 13 | 21 |  0.0112 |  0.0000\n",
      "07:52:54 | 13 | 22 |  0.0114 |  0.0010\n",
      "07:53:58 | 13 | 23 |  0.0108 | -0.0019\n",
      "07:55:03 | 13 | 24 |  0.0112 |  0.0057\n",
      "07:56:08 | 13 | 25 |  0.0116 |  0.0071\n",
      "07:57:14 | 14 | 01 | -0.0044 | -0.0018\n",
      "07:58:18 | 14 | 02 | -0.0091 | -0.0129\n",
      "07:59:22 | 14 | 03 | -0.0067 | -0.0081\n",
      "08:00:25 | 14 | 04 | -0.0033 | -0.0075\n",
      "08:01:29 | 14 | 05 | -0.0033 | -0.0051\n",
      "08:02:33 | 14 | 06 | -0.0031 | -0.0054\n",
      "08:03:38 | 14 | 07 | -0.0072 | -0.0057\n",
      "08:04:42 | 14 | 08 | -0.0087 | -0.0076\n",
      "08:05:46 | 14 | 09 | -0.0118 | -0.0062\n",
      "08:06:50 | 14 | 10 | -0.0134 | -0.0191\n",
      "08:07:56 | 14 | 11 | -0.0112 | -0.0134\n",
      "08:08:60 | 14 | 12 | -0.0096 | -0.0078\n",
      "08:10:04 | 14 | 13 | -0.0097 | -0.0142\n",
      "08:11:08 | 14 | 14 | -0.0089 | -0.0156\n",
      "08:12:12 | 14 | 15 | -0.0108 | -0.0152\n",
      "08:13:16 | 14 | 16 | -0.0130 | -0.0201\n",
      "08:14:20 | 14 | 17 | -0.0139 | -0.0246\n",
      "08:15:25 | 14 | 18 | -0.0105 | -0.0212\n",
      "08:16:29 | 14 | 19 | -0.0106 | -0.0255\n",
      "08:17:31 | 14 | 20 | -0.0078 | -0.0226\n",
      "08:18:35 | 14 | 21 | -0.0044 | -0.0167\n",
      "08:19:40 | 14 | 22 | -0.0041 | -0.0143\n",
      "08:20:44 | 14 | 23 | -0.0081 | -0.0235\n",
      "08:21:47 | 14 | 24 | -0.0089 | -0.0181\n",
      "08:22:52 | 14 | 25 | -0.0130 | -0.0224\n",
      "08:23:58 | 15 | 01 |  0.0199 |  0.0241\n",
      "08:25:03 | 15 | 02 | -0.0044 | -0.0110\n",
      "08:26:08 | 15 | 03 |  0.0238 |  0.0372\n",
      "08:27:12 | 15 | 04 |  0.0058 | -0.0127\n",
      "08:28:17 | 15 | 05 |  0.0119 | -0.0101\n",
      "08:29:22 | 15 | 06 |  0.0224 |  0.0266\n",
      "08:30:27 | 15 | 07 |  0.0060 |  0.0183\n",
      "08:31:31 | 15 | 08 |  0.0126 |  0.0162\n",
      "08:32:36 | 15 | 09 |  0.0044 |  0.0164\n",
      "08:33:40 | 15 | 10 |  0.0136 |  0.0166\n",
      "08:34:45 | 15 | 11 |  0.0075 |  0.0068\n",
      "08:35:48 | 15 | 12 |  0.0184 |  0.0324\n",
      "08:36:52 | 15 | 13 |  0.0188 |  0.0298\n",
      "08:37:56 | 15 | 14 |  0.0183 |  0.0400\n",
      "08:39:01 | 15 | 15 |  0.0222 |  0.0261\n",
      "08:40:05 | 15 | 16 |  0.0292 |  0.0318\n",
      "08:41:10 | 15 | 17 |  0.0274 |  0.0295\n",
      "08:42:15 | 15 | 18 |  0.0269 |  0.0306\n",
      "08:43:20 | 15 | 19 |  0.0244 |  0.0347\n",
      "08:44:25 | 15 | 20 |  0.0161 |  0.0199\n",
      "08:45:29 | 15 | 21 |  0.0241 |  0.0315\n",
      "08:46:33 | 15 | 22 |  0.0305 |  0.0371\n",
      "08:47:38 | 15 | 23 |  0.0138 |  0.0269\n",
      "08:48:42 | 15 | 24 |  0.0264 |  0.0310\n",
      "08:49:47 | 15 | 25 |  0.0290 |  0.0422\n",
      "08:50:55 | 16 | 01 | -0.0237 | -0.0333\n",
      "08:51:59 | 16 | 02 |  0.0237 |  0.0235\n",
      "08:53:03 | 16 | 03 | -0.0053 | -0.0200\n",
      "08:54:07 | 16 | 04 |  0.0207 |  0.0203\n",
      "08:55:11 | 16 | 05 | -0.0207 | -0.0206\n",
      "08:56:15 | 16 | 06 |  0.0057 |  0.0011\n",
      "08:57:20 | 16 | 07 |  0.0194 |  0.0216\n",
      "08:58:24 | 16 | 08 | -0.0163 | -0.0259\n",
      "08:59:29 | 16 | 09 |  0.0158 |  0.0208\n",
      "09:00:33 | 16 | 10 | -0.0188 | -0.0201\n",
      "09:01:37 | 16 | 11 |  0.0255 |  0.0309\n",
      "09:02:42 | 16 | 12 | -0.0201 | -0.0076\n",
      "09:03:47 | 16 | 13 |  0.0254 |  0.0334\n",
      "09:04:51 | 16 | 14 |  0.0085 |  0.0141\n",
      "09:05:55 | 16 | 15 | -0.0149 | -0.0230\n",
      "09:06:60 | 16 | 16 | -0.0175 | -0.0130\n",
      "09:08:04 | 16 | 17 | -0.0148 | -0.0164\n",
      "09:09:09 | 16 | 18 | -0.0009 |  0.0060\n",
      "09:10:11 | 16 | 19 | -0.0132 | -0.0057\n",
      "09:11:15 | 16 | 20 | -0.0113 | -0.0064\n",
      "09:12:19 | 16 | 21 | -0.0014 |  0.0032\n",
      "09:13:23 | 16 | 22 |  0.0051 |  0.0047\n",
      "09:14:28 | 16 | 23 |  0.0027 |  0.0005\n",
      "09:15:31 | 16 | 24 |  0.0096 |  0.0176\n",
      "09:16:36 | 16 | 25 |  0.0021 |  0.0132\n"
     ]
    }
   ],
   "source": [
    "start = time()\n",
    "ic  = []\n",
    "for fold, (train_idx, test_idx) in enumerate(cv.split(features)):\n",
    "    X_train, y_train, X_val, y_val = get_train_valid_data(features, target, train_idx, test_idx)\n",
    "    preds = y_val.to_frame('actual')\n",
    "    r = pd.DataFrame(index=y_val.index.unique(level='date')).sort_index()\n",
    "    model = make_model(filter1=16, act1='relu', filter2=32, \n",
    "                       act2='relu', do1=.25, do2=.5, dense=32)\n",
    "    best_mean = best_median = -np.inf\n",
    "    for epoch in range(25):         \n",
    "        model.fit(X_train, y_train,\n",
    "                  batch_size=batch_size,\n",
    "                  validation_data=(X_val, y_val),\n",
    "                  epochs=epoch + 1,\n",
    "                  initial_epoch=epoch,\n",
    "                  verbose=0, shuffle=True)\n",
    "        model.save_weights((checkpoint_path / f'ckpt_{fold}_{epoch}').as_posix())\n",
    "        preds[epoch] = model.predict(X_val).squeeze()\n",
    "        r[epoch] = preds.groupby(level='date').apply(lambda x: spearmanr(x.actual, x[epoch])[0]).to_frame(epoch)\n",
    "        print(f'{format_time(time()-start)} | {fold + 1:02d} | {epoch + 1:02d} | {r[epoch].mean():7.4f} | {r[epoch].median():7.4f}')\n",
    "    ic.append(r.assign(fold=fold))\n",
    "ic = pd.concat(ic)\n",
    "ic.to_csv(checkpoint_path / 'ic.csv')"
   ]
  },
  {
   "cell_type": "markdown",
   "metadata": {},
   "source": [
    "### Evaluate results"
   ]
  },
  {
   "cell_type": "code",
   "execution_count": 20,
   "metadata": {
    "ExecuteTime": {
     "end_time": "2021-02-23T21:52:07.839243Z",
     "start_time": "2021-02-23T21:52:07.485960Z"
    }
   },
   "outputs": [
    {
     "data": {
      "image/png": "[encoded data removed]",
      "text/plain": [
       "<Figure size 432x288 with 1 Axes>"
      ]
     },
     "metadata": {},
     "output_type": "display_data"
    }
   ],
   "source": [
    "ic.groupby('fold').mean().boxplot();"
   ]
  },
  {
   "cell_type": "code",
   "execution_count": 21,
   "metadata": {
    "ExecuteTime": {
     "end_time": "2021-02-23T21:52:08.025753Z",
     "start_time": "2021-02-23T21:52:07.840249Z"
    }
   },
   "outputs": [
    {
     "data": {
      "image/png": "[encoded data removed]",
      "text/plain": [
       "<Figure size 432x288 with 1 Axes>"
      ]
     },
     "metadata": {},
     "output_type": "display_data"
    }
   ],
   "source": [
    "ic.groupby('fold').mean().mean().sort_index().plot.bar(rot=0);"
   ]
  },
  {
   "cell_type": "code",
   "execution_count": 22,
   "metadata": {
    "ExecuteTime": {
     "end_time": "2021-02-23T21:52:09.854588Z",
     "start_time": "2021-02-23T21:52:08.026941Z"
    }
   },
   "outputs": [
    {
     "data": {
      "image/png": "[encoded data removed]",
      "text/plain": [
       "<Figure size 1008x432 with 2 Axes>"
      ]
     },
     "metadata": {},
     "output_type": "display_data"
    }
   ],
   "source": [
    "cmap = sns.diverging_palette(h_neg=20, h_pos=210)\n",
    "fig, ax = plt.subplots(figsize=(14, 6))\n",
    "sns.heatmap(ic.groupby('fold').mean().mul(100), ax=ax, center=0, cmap=cmap, annot=True, fmt='.1f')\n",
    "fig.tight_layout()"
   ]
  },
  {
   "cell_type": "markdown",
   "metadata": {},
   "source": [
    "## Make Predictions"
   ]
  },
  {
   "cell_type": "markdown",
   "metadata": {},
   "source": [
    "To evaluate the model's predictive accuracy, we compute the daily information coefficient (IC) for the validation set like so:\n"
   ]
  },
  {
   "cell_type": "code",
   "execution_count": 23,
   "metadata": {
    "ExecuteTime": {
     "end_time": "2021-02-23T21:52:13.369122Z",
     "start_time": "2021-02-23T21:52:13.366095Z"
    }
   },
   "outputs": [],
   "source": [
    "def generate_predictions(epoch):\n",
    "    predictions = []\n",
    "    for fold, (train_idx, test_idx) in enumerate(cv.split(features)):\n",
    "        X_train, y_train, X_val, y_val = get_train_valid_data(features, target, train_idx, test_idx)\n",
    "        preds = y_val.to_frame('actual')\n",
    "        model = make_model(filter1=16, act1='relu', filter2=32, \n",
    "                       act2='relu', do1=.25, do2=.5, dense=32)\n",
    "        status = model.load_weights((checkpoint_path / f'ckpt_{fold}_{epoch}').as_posix())\n",
    "        status.expect_partial()\n",
    "        predictions.append(pd.Series(model.predict(X_val).squeeze(), index=y_val.index))\n",
    "    return pd.concat(predictions)        "
   ]
  },
  {
   "cell_type": "code",
   "execution_count": 24,
   "metadata": {
    "ExecuteTime": {
     "end_time": "2021-02-23T21:54:26.067314Z",
     "start_time": "2021-02-23T21:52:13.636708Z"
    }
   },
   "outputs": [],
   "source": [
    "preds = {}\n",
    "for i, epoch in enumerate(ic.drop('fold', axis=1).mean().nlargest(5).index):\n",
    "    preds[i] = generate_predictions(epoch)"
   ]
  },
  {
   "cell_type": "code",
   "execution_count": 25,
   "metadata": {
    "ExecuteTime": {
     "end_time": "2021-02-23T21:54:26.654724Z",
     "start_time": "2021-02-23T21:54:26.068767Z"
    }
   },
   "outputs": [],
   "source": [
    "with pd.HDFStore(results_path / 'predictions.h5') as store:\n",
    "    store.put('predictions', pd.DataFrame(preds).sort_index())"
   ]
  }
 ],
 "metadata": {
  "kernelspec": {
   "display_name": "Python [conda env:tensorflow_env]",
   "language": "python",
   "name": "conda-env-tensorflow_env-py"
  },
  "language_info": {
   "codemirror_mode": {
    "name": "ipython",
    "version": 3
   },
   "file_extension": ".py",
   "mimetype": "text/x-python",
   "name": "python",
   "nbconvert_exporter": "python",
   "pygments_lexer": "ipython3",
   "version": "3.8.8"
  },
  "toc": {
   "base_numbering": 1,
   "nav_menu": {},
   "number_sections": true,
   "sideBar": true,
   "skip_h1_title": true,
   "title_cell": "Table of Contents",
   "title_sidebar": "Contents",
   "toc_cell": false,
   "toc_position": {},
   "toc_section_display": true,
   "toc_window_display": true
  }
 },
 "nbformat": 4,
 "nbformat_minor": 4
}
