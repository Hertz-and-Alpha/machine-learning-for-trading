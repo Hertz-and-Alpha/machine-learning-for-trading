{
 "cells": [
  {
   "cell_type": "markdown",
   "metadata": {},
   "source": [
    "# Basic Image Classification with Feedforward NN and LetNet5"
   ]
  },
  {
   "cell_type": "markdown",
   "metadata": {},
   "source": [
    "All libraries we introduced in the last chapter provide support for convolutional layers. We are going to illustrate the LeNet5 architecture using the most basic MNIST handwritten digit dataset, and then use AlexNet on CIFAR10, a simplified version of the original ImageNet to demonstrate the use of data augmentation.\n",
    "LeNet5 and MNIST using Keras."
   ]
  },
  {
   "cell_type": "markdown",
   "metadata": {},
   "source": [
    "## Imports"
   ]
  },
  {
   "cell_type": "code",
   "execution_count": 1,
   "metadata": {
    "ExecuteTime": {
     "end_time": "2021-02-23T05:53:17.309746Z",
     "start_time": "2021-02-23T05:53:15.972870Z"
    }
   },
   "outputs": [
    {
     "name": "stdout",
     "output_type": "stream",
     "text": [
      "INFO:tensorflow:Enabling eager execution\n",
      "INFO:tensorflow:Enabling v2 tensorshape\n",
      "INFO:tensorflow:Enabling resource variables\n",
      "INFO:tensorflow:Enabling tensor equality\n",
      "INFO:tensorflow:Enabling control flow v2\n"
     ]
    }
   ],
   "source": [
    "%matplotlib inline\n",
    "\n",
    "from pathlib import Path\n",
    "from random import randint\n",
    "import numpy as np\n",
    "import pandas as pd\n",
    "\n",
    "import tensorflow as tf\n",
    "from tensorflow.keras.datasets import mnist\n",
    "import tensorflow.keras.backend as K\n",
    "from tensorflow.keras.callbacks import ModelCheckpoint, EarlyStopping \n",
    "from tensorflow.keras.models import Sequential\n",
    "from tensorflow.keras.layers import (Conv2D, \n",
    "                                     AveragePooling2D, \n",
    "                                     Dense, \n",
    "                                     Dropout, \n",
    "                                     Flatten)\n",
    "import matplotlib.pyplot as plt\n",
    "import seaborn as sns"
   ]
  },
  {
   "cell_type": "code",
   "execution_count": 2,
   "metadata": {
    "ExecuteTime": {
     "end_time": "2021-02-23T05:53:17.314389Z",
     "start_time": "2021-02-23T05:53:17.310942Z"
    }
   },
   "outputs": [
    {
     "name": "stdout",
     "output_type": "stream",
     "text": [
      "Using GPU\n"
     ]
    }
   ],
   "source": [
    "gpu_devices = tf.config.experimental.list_physical_devices('GPU')\n",
    "if gpu_devices:\n",
    "    print('Using GPU')\n",
    "    tf.config.experimental.set_memory_growth(gpu_devices[0], True)\n",
    "else:\n",
    "    print('Using CPU')"
   ]
  },
  {
   "cell_type": "code",
   "execution_count": 3,
   "metadata": {
    "ExecuteTime": {
     "end_time": "2021-02-23T05:53:17.322715Z",
     "start_time": "2021-02-23T05:53:17.315741Z"
    }
   },
   "outputs": [],
   "source": [
    "sns.set_style('whitegrid')"
   ]
  },
  {
   "cell_type": "code",
   "execution_count": 4,
   "metadata": {
    "ExecuteTime": {
     "end_time": "2021-02-23T05:53:17.330513Z",
     "start_time": "2021-02-23T05:53:17.323715Z"
    }
   },
   "outputs": [],
   "source": [
    "results_path = Path('results')\n",
    "mnist_path = results_path / 'mnist'\n",
    "if not mnist_path.exists():\n",
    "    mnist_path.mkdir(parents=True)"
   ]
  },
  {
   "cell_type": "markdown",
   "metadata": {},
   "source": [
    "## Load MNIST Database"
   ]
  },
  {
   "cell_type": "markdown",
   "metadata": {},
   "source": [
    "The original MNIST dataset contains 60,000 images in 28x28 pixel resolution with a single grayscale containing handwritten digits from 0 to 9. A good alternative is the more challenging but structurally similar Fashion MNIST dataset that we encountered in Chapter 12 on Unsupervised Learning."
   ]
  },
  {
   "cell_type": "markdown",
   "metadata": {},
   "source": [
    "We can load it in keras out of the box:"
   ]
  },
  {
   "cell_type": "code",
   "execution_count": 5,
   "metadata": {
    "ExecuteTime": {
     "end_time": "2021-02-23T05:53:17.568292Z",
     "start_time": "2021-02-23T05:53:17.331429Z"
    }
   },
   "outputs": [
    {
     "name": "stdout",
     "output_type": "stream",
     "text": [
      "The MNIST database has a training set of 60000 examples.\n",
      "The MNIST database has a test set of 10000 examples.\n"
     ]
    }
   ],
   "source": [
    "# use Keras to import pre-shuffled MNIST database\n",
    "(X_train, y_train), (X_test, y_test) = mnist.load_data()\n",
    "\n",
    "print(\"The MNIST database has a training set of %d examples.\" % len(X_train))\n",
    "print(\"The MNIST database has a test set of %d examples.\" % len(X_test))"
   ]
  },
  {
   "cell_type": "code",
   "execution_count": 6,
   "metadata": {
    "ExecuteTime": {
     "end_time": "2021-02-23T05:53:17.572961Z",
     "start_time": "2021-02-23T05:53:17.569363Z"
    }
   },
   "outputs": [
    {
     "data": {
      "text/plain": [
       "((60000, 28, 28), (10000, 28, 28))"
      ]
     },
     "execution_count": 6,
     "metadata": {},
     "output_type": "execute_result"
    }
   ],
   "source": [
    "X_train.shape, X_test.shape"
   ]
  },
  {
   "cell_type": "markdown",
   "metadata": {},
   "source": [
    "## Visualize Data"
   ]
  },
  {
   "cell_type": "markdown",
   "metadata": {},
   "source": [
    "### Visualize First 10 Training Images"
   ]
  },
  {
   "cell_type": "markdown",
   "metadata": {},
   "source": [
    "The below figure shows the first ten images in the dataset and highlights significant variation among instances of the same digit. On the right, it shows how the pixel values for an indivual image range from 0 to 255."
   ]
  },
  {
   "cell_type": "code",
   "execution_count": 7,
   "metadata": {
    "ExecuteTime": {
     "end_time": "2021-02-23T05:53:18.257312Z",
     "start_time": "2021-02-23T05:53:17.574022Z"
    }
   },
   "outputs": [
    {
     "data": {
      "image/png": "[encoded data removed]",
      "text/plain": [
       "<Figure size 1440x576 with 10 Axes>"
      ]
     },
     "metadata": {},
     "output_type": "display_data"
    }
   ],
   "source": [
    "fig, axes = plt.subplots(ncols=5, nrows=2, figsize=(20, 8))\n",
    "axes = axes.flatten()\n",
    "for i, ax in enumerate(axes):\n",
    "    ax.imshow(X_train[i], cmap='gray')\n",
    "    ax.axis('off')\n",
    "    ax.set_title('Digit: {}'.format(y_train[i]), fontsize=16)\n",
    "fig.suptitle('First 10 Digits', fontsize=20)\n",
    "fig.tight_layout()\n",
    "fig.subplots_adjust(top=.9)"
   ]
  },
  {
   "cell_type": "markdown",
   "metadata": {},
   "source": [
    "### Show random image in detail"
   ]
  },
  {
   "cell_type": "code",
   "execution_count": 8,
   "metadata": {
    "ExecuteTime": {
     "end_time": "2021-02-23T05:53:21.054551Z",
     "start_time": "2021-02-23T05:53:18.259521Z"
    }
   },
   "outputs": [
    {
     "data": {
      "image/png": "[encoded data removed]",
      "text/plain": [
       "<Figure size 1008x1008 with 1 Axes>"
      ]
     },
     "metadata": {},
     "output_type": "display_data"
    }
   ],
   "source": [
    "fig, ax = plt.subplots(figsize = (14, 14)) \n",
    "\n",
    "i = randint(0, len(X_train))\n",
    "img = X_train[i]\n",
    "\n",
    "ax.imshow(img, cmap='gray')\n",
    "ax.set_title('Digit: {}'.format(y_train[i]), fontsize=16)\n",
    "\n",
    "width, height = img.shape\n",
    "thresh = img.max()/2.5\n",
    "for x in range(width):\n",
    "    for y in range(height):\n",
    "        ax.annotate('{:2}'.format(img[x][y]), \n",
    "                    xy=(y,x),\n",
    "                    horizontalalignment='center',\n",
    "                    verticalalignment='center',\n",
    "                    color='white' if img[x][y]<thresh else 'black')"
   ]
  },
  {
   "cell_type": "markdown",
   "metadata": {},
   "source": [
    "## Prepare Data"
   ]
  },
  {
   "cell_type": "markdown",
   "metadata": {},
   "source": [
    "### Rescale pixel values"
   ]
  },
  {
   "cell_type": "markdown",
   "metadata": {},
   "source": [
    "We rescale the pixel values to the range [0, 1] to normalize the training data and faciliate the backpropagation process and convert the data to 32 bit floats that reduce memory requirements and computational cost while providing sufficient precision for our use case:"
   ]
  },
  {
   "cell_type": "code",
   "execution_count": 9,
   "metadata": {
    "ExecuteTime": {
     "end_time": "2021-02-23T05:53:21.116077Z",
     "start_time": "2021-02-23T05:53:21.055852Z"
    }
   },
   "outputs": [],
   "source": [
    "# rescale [0,255] --> [0,1]\n",
    "X_train = X_train.astype('float32')/255\n",
    "X_test = X_test.astype('float32')/255 "
   ]
  },
  {
   "cell_type": "markdown",
   "metadata": {},
   "source": [
    "### One-Hot Label Encoding using Keras"
   ]
  },
  {
   "cell_type": "markdown",
   "metadata": {},
   "source": [
    "Print first ten labels"
   ]
  },
  {
   "cell_type": "code",
   "execution_count": 10,
   "metadata": {
    "ExecuteTime": {
     "end_time": "2021-02-23T05:53:21.119597Z",
     "start_time": "2021-02-23T05:53:21.117077Z"
    }
   },
   "outputs": [
    {
     "name": "stdout",
     "output_type": "stream",
     "text": [
      "Integer-valued labels:\n",
      "[5 0 4 1 9 2 1 3 1 4]\n"
     ]
    }
   ],
   "source": [
    "print('Integer-valued labels:')\n",
    "print(y_train[:10])"
   ]
  },
  {
   "cell_type": "markdown",
   "metadata": {},
   "source": [
    "## Feed-Forward NN"
   ]
  },
  {
   "cell_type": "markdown",
   "metadata": {},
   "source": [
    "### Model Architecture"
   ]
  },
  {
   "cell_type": "code",
   "execution_count": 11,
   "metadata": {
    "ExecuteTime": {
     "end_time": "2021-02-23T05:53:21.214077Z",
     "start_time": "2021-02-23T05:53:21.120994Z"
    }
   },
   "outputs": [],
   "source": [
    "ffnn = Sequential([\n",
    "    Flatten(input_shape=X_train.shape[1:]),\n",
    "    Dense(512, activation='relu'),\n",
    "    Dropout(0.2),\n",
    "    Dense(512, activation='relu'),\n",
    "    Dropout(0.2),\n",
    "    Dense(10, activation='softmax')\n",
    "])"
   ]
  },
  {
   "cell_type": "code",
   "execution_count": 12,
   "metadata": {
    "ExecuteTime": {
     "end_time": "2021-02-23T05:53:21.220723Z",
     "start_time": "2021-02-23T05:53:21.215830Z"
    }
   },
   "outputs": [
    {
     "name": "stdout",
     "output_type": "stream",
     "text": [
      "Model: \"sequential\"\n",
      "_________________________________________________________________\n",
      "Layer (type)                 Output Shape              Param #   \n",
      "=================================================================\n",
      "flatten (Flatten)            (None, 784)               0         \n",
      "_________________________________________________________________\n",
      "dense (Dense)                (None, 512)               401920    \n",
      "_________________________________________________________________\n",
      "dropout (Dropout)            (None, 512)               0         \n",
      "_________________________________________________________________\n",
      "dense_1 (Dense)              (None, 512)               262656    \n",
      "_________________________________________________________________\n",
      "dropout_1 (Dropout)          (None, 512)               0         \n",
      "_________________________________________________________________\n",
      "dense_2 (Dense)              (None, 10)                5130      \n",
      "=================================================================\n",
      "Total params: 669,706\n",
      "Trainable params: 669,706\n",
      "Non-trainable params: 0\n",
      "_________________________________________________________________\n"
     ]
    }
   ],
   "source": [
    "ffnn.summary()"
   ]
  },
  {
   "cell_type": "markdown",
   "metadata": {},
   "source": [
    "### Compile the Model"
   ]
  },
  {
   "cell_type": "code",
   "execution_count": 13,
   "metadata": {
    "ExecuteTime": {
     "end_time": "2021-02-23T05:53:21.234808Z",
     "start_time": "2021-02-23T05:53:21.221768Z"
    }
   },
   "outputs": [],
   "source": [
    "ffnn.compile(loss='sparse_categorical_crossentropy', \n",
    "              optimizer='rmsprop', \n",
    "              metrics=['accuracy'])"
   ]
  },
  {
   "cell_type": "markdown",
   "metadata": {},
   "source": [
    "### Calculate Baseline Classification Accuracy"
   ]
  },
  {
   "cell_type": "code",
   "execution_count": 14,
   "metadata": {
    "ExecuteTime": {
     "end_time": "2021-02-23T05:53:21.719309Z",
     "start_time": "2021-02-23T05:53:21.235838Z"
    }
   },
   "outputs": [
    {
     "name": "stdout",
     "output_type": "stream",
     "text": [
      "Test accuracy: 11.15%\n"
     ]
    }
   ],
   "source": [
    "# evaluate test accuracy\n",
    "baseline_accuracy = ffnn.evaluate(X_test, y_test, verbose=0)[1]\n",
    "\n",
    "# print test accuracy\n",
    "print(f'Test accuracy: {baseline_accuracy:.2%}')"
   ]
  },
  {
   "cell_type": "markdown",
   "metadata": {},
   "source": [
    "### Callback for model persistence"
   ]
  },
  {
   "cell_type": "code",
   "execution_count": 15,
   "metadata": {
    "ExecuteTime": {
     "end_time": "2021-02-23T05:53:21.722525Z",
     "start_time": "2021-02-23T05:53:21.720422Z"
    }
   },
   "outputs": [],
   "source": [
    "ffn_path = mnist_path / 'ffn.best.hdf5'"
   ]
  },
  {
   "cell_type": "code",
   "execution_count": 16,
   "metadata": {
    "ExecuteTime": {
     "end_time": "2021-02-23T05:53:21.737309Z",
     "start_time": "2021-02-23T05:53:21.723618Z"
    }
   },
   "outputs": [],
   "source": [
    "checkpointer = ModelCheckpoint(filepath=ffn_path.as_posix(), \n",
    "                               verbose=1, \n",
    "                               save_best_only=True)"
   ]
  },
  {
   "cell_type": "markdown",
   "metadata": {},
   "source": [
    "### Early Stopping Callback"
   ]
  },
  {
   "cell_type": "code",
   "execution_count": 17,
   "metadata": {
    "ExecuteTime": {
     "end_time": "2021-02-23T05:53:21.745735Z",
     "start_time": "2021-02-23T05:53:21.738346Z"
    }
   },
   "outputs": [],
   "source": [
    "early_stopping = EarlyStopping(monitor='val_loss', patience=20)"
   ]
  },
  {
   "cell_type": "markdown",
   "metadata": {},
   "source": [
    "### Train the Model"
   ]
  },
  {
   "cell_type": "code",
   "execution_count": 18,
   "metadata": {
    "ExecuteTime": {
     "end_time": "2021-02-23T05:53:21.753663Z",
     "start_time": "2021-02-23T05:53:21.746777Z"
    }
   },
   "outputs": [],
   "source": [
    "epochs = 100\n",
    "batch_size = 32"
   ]
  },
  {
   "cell_type": "code",
   "execution_count": 19,
   "metadata": {
    "ExecuteTime": {
     "end_time": "2021-02-23T05:55:37.420613Z",
     "start_time": "2021-02-23T05:53:21.754907Z"
    },
    "scrolled": false
   },
   "outputs": [
    {
     "name": "stdout",
     "output_type": "stream",
     "text": [
      "Epoch 1/100\n",
      "1500/1500 [==============================] - 17s 11ms/step - loss: 0.2400 - accuracy: 0.9297 - val_loss: 0.1198 - val_accuracy: 0.9658\n",
      "\n",
      "Epoch 00001: val_loss improved from inf to 0.11982, saving model to results/mnist\\ffn.best.hdf5\n",
      "Epoch 2/100\n",
      "1500/1500 [==============================] - 17s 11ms/step - loss: 0.1289 - accuracy: 0.9663 - val_loss: 0.1128 - val_accuracy: 0.9718\n",
      "\n",
      "Epoch 00002: val_loss improved from 0.11982 to 0.11279, saving model to results/mnist\\ffn.best.hdf5\n",
      "Epoch 3/100\n",
      "1500/1500 [==============================] - 18s 12ms/step - loss: 0.1139 - accuracy: 0.9728 - val_loss: 0.1426 - val_accuracy: 0.9686\n",
      "\n",
      "Epoch 00003: val_loss did not improve from 0.11279\n",
      "Epoch 4/100\n",
      "1500/1500 [==============================] - 16s 11ms/step - loss: 0.1076 - accuracy: 0.9748 - val_loss: 0.1503 - val_accuracy: 0.9720\n",
      "\n",
      "Epoch 00004: val_loss did not improve from 0.11279\n",
      "Epoch 5/100\n",
      "1500/1500 [==============================] - 18s 12ms/step - loss: 0.1027 - accuracy: 0.9780 - val_loss: 0.1549 - val_accuracy: 0.9747\n",
      "\n",
      "Epoch 00005: val_loss did not improve from 0.11279\n",
      "Epoch 6/100\n",
      "1500/1500 [==============================] - 17s 11ms/step - loss: 0.0983 - accuracy: 0.9801 - val_loss: 0.1498 - val_accuracy: 0.9753\n",
      "\n",
      "Epoch 00006: val_loss did not improve from 0.11279\n",
      "Epoch 7/100\n",
      "1500/1500 [==============================] - 17s 11ms/step - loss: 0.0965 - accuracy: 0.9808 - val_loss: 0.1927 - val_accuracy: 0.9725\n",
      "\n",
      "Epoch 00007: val_loss did not improve from 0.11279\n",
      "Epoch 8/100\n",
      "1500/1500 [==============================] - 18s 12ms/step - loss: 0.0956 - accuracy: 0.9825 - val_loss: 0.1733 - val_accuracy: 0.9772\n",
      "\n",
      "Epoch 00008: val_loss did not improve from 0.11279\n",
      "Epoch 9/100\n",
      "1500/1500 [==============================] - 17s 11ms/step - loss: 0.0898 - accuracy: 0.9838 - val_loss: 0.1875 - val_accuracy: 0.9796\n",
      "\n",
      "Epoch 00009: val_loss did not improve from 0.11279\n",
      "Epoch 10/100\n",
      "1500/1500 [==============================] - 18s 12ms/step - loss: 0.0862 - accuracy: 0.9844 - val_loss: 0.2029 - val_accuracy: 0.9787\n",
      "\n",
      "Epoch 00010: val_loss did not improve from 0.11279\n",
      "Epoch 11/100\n",
      "1500/1500 [==============================] - 17s 11ms/step - loss: 0.0780 - accuracy: 0.9850 - val_loss: 0.1971 - val_accuracy: 0.9797\n",
      "\n",
      "Epoch 00011: val_loss did not improve from 0.11279\n",
      "Epoch 12/100\n",
      "1500/1500 [==============================] - 17s 11ms/step - loss: 0.0848 - accuracy: 0.9865 - val_loss: 0.2318 - val_accuracy: 0.9780\n",
      "\n",
      "Epoch 00012: val_loss did not improve from 0.11279\n",
      "Epoch 13/100\n",
      "1500/1500 [==============================] - 18s 12ms/step - loss: 0.0806 - accuracy: 0.9863 - val_loss: 0.2162 - val_accuracy: 0.9794\n",
      "\n",
      "Epoch 00013: val_loss did not improve from 0.11279\n",
      "Epoch 14/100\n",
      "1500/1500 [==============================] - 16s 11ms/step - loss: 0.0791 - accuracy: 0.9876 - val_loss: 0.1817 - val_accuracy: 0.9797\n",
      "\n",
      "Epoch 00014: val_loss did not improve from 0.11279\n",
      "Epoch 15/100\n",
      "1500/1500 [==============================] - 18s 12ms/step - loss: 0.0739 - accuracy: 0.9875 - val_loss: 0.2417 - val_accuracy: 0.9793\n",
      "\n",
      "Epoch 00015: val_loss did not improve from 0.11279\n",
      "Epoch 16/100\n",
      "1500/1500 [==============================] - 17s 11ms/step - loss: 0.0817 - accuracy: 0.9881 - val_loss: 0.2634 - val_accuracy: 0.9792\n",
      "\n",
      "Epoch 00016: val_loss did not improve from 0.11279\n",
      "Epoch 17/100\n",
      "1500/1500 [==============================] - 17s 11ms/step - loss: 0.0771 - accuracy: 0.9880 - val_loss: 0.2558 - val_accuracy: 0.9811\n",
      "\n",
      "Epoch 00017: val_loss did not improve from 0.11279\n",
      "Epoch 18/100\n",
      "1500/1500 [==============================] - 18s 12ms/step - loss: 0.0690 - accuracy: 0.9887 - val_loss: 0.2607 - val_accuracy: 0.9787\n",
      "\n",
      "Epoch 00018: val_loss did not improve from 0.11279\n",
      "Epoch 19/100\n",
      "1500/1500 [==============================] - 17s 11ms/step - loss: 0.0715 - accuracy: 0.9889 - val_loss: 0.3273 - val_accuracy: 0.9775\n",
      "\n",
      "Epoch 00019: val_loss did not improve from 0.11279\n",
      "Epoch 20/100\n",
      "1500/1500 [==============================] - 18s 12ms/step - loss: 0.0710 - accuracy: 0.9893 - val_loss: 0.2558 - val_accuracy: 0.9784\n",
      "\n",
      "Epoch 00020: val_loss did not improve from 0.11279\n",
      "Epoch 21/100\n",
      "1500/1500 [==============================] - 17s 11ms/step - loss: 0.0700 - accuracy: 0.9897 - val_loss: 0.2834 - val_accuracy: 0.9797\n",
      "\n",
      "Epoch 00021: val_loss did not improve from 0.11279\n",
      "Epoch 22/100\n",
      "1500/1500 [==============================] - 16s 11ms/step - loss: 0.0699 - accuracy: 0.9894 - val_loss: 0.3030 - val_accuracy: 0.9802\n",
      "\n",
      "Epoch 00022: val_loss did not improve from 0.11279\n"
     ]
    }
   ],
   "source": [
    "ffnn_history = ffnn.fit(X_train,\n",
    "                        y_train,\n",
    "                        batch_size=batch_size,\n",
    "                        epochs=epochs,\n",
    "                        validation_split=0.2,\n",
    "                        callbacks=[checkpointer, early_stopping],\n",
    "                        verbose=1,\n",
    "                        shuffle=True)"
   ]
  },
  {
   "cell_type": "markdown",
   "metadata": {},
   "source": [
    "### Plot CV Results"
   ]
  },
  {
   "cell_type": "code",
   "execution_count": 20,
   "metadata": {
    "ExecuteTime": {
     "end_time": "2021-02-23T05:55:37.585446Z",
     "start_time": "2021-02-23T05:55:37.421681Z"
    }
   },
   "outputs": [
    {
     "data": {
      "image/png": "[encoded data removed]",
      "text/plain": [
       "<Figure size 1008x288 with 1 Axes>"
      ]
     },
     "metadata": {},
     "output_type": "display_data"
    }
   ],
   "source": [
    "pd.DataFrame(ffnn_history.history)[['accuracy', 'val_accuracy']].plot(figsize=(14,4))\n",
    "sns.despine();"
   ]
  },
  {
   "cell_type": "markdown",
   "metadata": {},
   "source": [
    "### Load the Best Model"
   ]
  },
  {
   "cell_type": "code",
   "execution_count": 21,
   "metadata": {
    "ExecuteTime": {
     "end_time": "2021-02-23T05:55:37.593140Z",
     "start_time": "2021-02-23T05:55:37.586879Z"
    }
   },
   "outputs": [],
   "source": [
    "# load the weights that yielded the best validation accuracy\n",
    "ffnn.load_weights(ffn_path.as_posix())"
   ]
  },
  {
   "cell_type": "markdown",
   "metadata": {},
   "source": [
    "### Test Classification Accuracy"
   ]
  },
  {
   "cell_type": "code",
   "execution_count": 22,
   "metadata": {
    "ExecuteTime": {
     "end_time": "2021-02-23T05:55:37.899530Z",
     "start_time": "2021-02-23T05:55:37.594340Z"
    }
   },
   "outputs": [
    {
     "name": "stdout",
     "output_type": "stream",
     "text": [
      "Test accuracy: 97.22%\n"
     ]
    }
   ],
   "source": [
    "# evaluate test accuracy\n",
    "ffnn_accuracy = ffnn.evaluate(X_test, y_test, verbose=0)[1]\n",
    "\n",
    "print(f'Test accuracy: {ffnn_accuracy:.2%}')"
   ]
  },
  {
   "cell_type": "markdown",
   "metadata": {},
   "source": [
    "## LeNet5"
   ]
  },
  {
   "cell_type": "code",
   "execution_count": 23,
   "metadata": {
    "ExecuteTime": {
     "end_time": "2021-02-23T05:55:37.904234Z",
     "start_time": "2021-02-23T05:55:37.901579Z"
    }
   },
   "outputs": [],
   "source": [
    "K.clear_session()"
   ]
  },
  {
   "cell_type": "markdown",
   "metadata": {},
   "source": [
    "### Model Architecture"
   ]
  },
  {
   "cell_type": "markdown",
   "metadata": {},
   "source": [
    "We can define a simplified version of LeNet5 that omits the original final layer containing radial basis functions as follows, using the default ‘valid’ padding and single step strides unless defined otherwise:"
   ]
  },
  {
   "cell_type": "code",
   "execution_count": 24,
   "metadata": {
    "ExecuteTime": {
     "end_time": "2021-02-23T05:55:37.945858Z",
     "start_time": "2021-02-23T05:55:37.905292Z"
    }
   },
   "outputs": [],
   "source": [
    "lenet5 = Sequential([\n",
    "    Conv2D(filters=6,\n",
    "           kernel_size=5,\n",
    "           activation='relu',\n",
    "           input_shape=(28, 28, 1),\n",
    "           name='CONV1'),\n",
    "    AveragePooling2D(pool_size=(2, 2),\n",
    "                     strides=(1, 1),\n",
    "                     padding='valid',\n",
    "                     name='POOL1'),\n",
    "    Conv2D(filters=16, kernel_size=(5, 5), activation='tanh', name='CONV2'),\n",
    "    AveragePooling2D(pool_size=(2, 2), strides=(2, 2), name='POOL2'),\n",
    "    Conv2D(filters=120, kernel_size=(5, 5), activation='tanh', name='CONV3'),\n",
    "    Flatten(name='FLAT'),\n",
    "    Dense(units=84, activation='tanh', name='FC6'),\n",
    "    Dense(units=10, activation='softmax', name='FC7')\n",
    "])"
   ]
  },
  {
   "cell_type": "markdown",
   "metadata": {},
   "source": [
    "The summary indicates that the model thus defined has over 300,000 parameters:"
   ]
  },
  {
   "cell_type": "code",
   "execution_count": 25,
   "metadata": {
    "ExecuteTime": {
     "end_time": "2021-02-23T05:55:37.951648Z",
     "start_time": "2021-02-23T05:55:37.946792Z"
    }
   },
   "outputs": [
    {
     "name": "stdout",
     "output_type": "stream",
     "text": [
      "Model: \"sequential\"\n",
      "_________________________________________________________________\n",
      "Layer (type)                 Output Shape              Param #   \n",
      "=================================================================\n",
      "CONV1 (Conv2D)               (None, 24, 24, 6)         156       \n",
      "_________________________________________________________________\n",
      "POOL1 (AveragePooling2D)     (None, 23, 23, 6)         0         \n",
      "_________________________________________________________________\n",
      "CONV2 (Conv2D)               (None, 19, 19, 16)        2416      \n",
      "_________________________________________________________________\n",
      "POOL2 (AveragePooling2D)     (None, 9, 9, 16)          0         \n",
      "_________________________________________________________________\n",
      "CONV3 (Conv2D)               (None, 5, 5, 120)         48120     \n",
      "_________________________________________________________________\n",
      "FLAT (Flatten)               (None, 3000)              0         \n",
      "_________________________________________________________________\n",
      "FC6 (Dense)                  (None, 84)                252084    \n",
      "_________________________________________________________________\n",
      "FC7 (Dense)                  (None, 10)                850       \n",
      "=================================================================\n",
      "Total params: 303,626\n",
      "Trainable params: 303,626\n",
      "Non-trainable params: 0\n",
      "_________________________________________________________________\n"
     ]
    }
   ],
   "source": [
    "lenet5.summary()"
   ]
  },
  {
   "cell_type": "markdown",
   "metadata": {},
   "source": [
    "We compile using crossentropy loss and the original stochastic gradient optimizer:"
   ]
  },
  {
   "cell_type": "code",
   "execution_count": 26,
   "metadata": {
    "ExecuteTime": {
     "end_time": "2021-02-23T05:55:37.961785Z",
     "start_time": "2021-02-23T05:55:37.952680Z"
    }
   },
   "outputs": [],
   "source": [
    "lenet5.compile(loss='sparse_categorical_crossentropy',\n",
    "               optimizer='SGD',\n",
    "               metrics=['accuracy'])"
   ]
  },
  {
   "cell_type": "markdown",
   "metadata": {},
   "source": [
    "### Define checkpoint callback"
   ]
  },
  {
   "cell_type": "code",
   "execution_count": 27,
   "metadata": {
    "ExecuteTime": {
     "end_time": "2021-02-23T05:55:37.968992Z",
     "start_time": "2021-02-23T05:55:37.962780Z"
    }
   },
   "outputs": [],
   "source": [
    "lenet_path = mnist_path / 'lenet.best.hdf5'"
   ]
  },
  {
   "cell_type": "code",
   "execution_count": 28,
   "metadata": {
    "ExecuteTime": {
     "end_time": "2021-02-23T05:55:37.977639Z",
     "start_time": "2021-02-23T05:55:37.970258Z"
    }
   },
   "outputs": [],
   "source": [
    "checkpointer = ModelCheckpoint(filepath=lenet_path.as_posix(),\n",
    "                               verbose=1,\n",
    "                               save_best_only=True)"
   ]
  },
  {
   "cell_type": "markdown",
   "metadata": {},
   "source": [
    "Now we are ready to train the model. The model expects 4D input so we reshape accordingly. We use the standard batch size of 32, 80-20 train-validation split, use checkpointing to store the model weights if the validation error improves, and make sure the dataset is randomly shuffled:"
   ]
  },
  {
   "cell_type": "markdown",
   "metadata": {},
   "source": [
    "### Train Model"
   ]
  },
  {
   "cell_type": "code",
   "execution_count": 29,
   "metadata": {
    "ExecuteTime": {
     "end_time": "2021-02-23T05:55:37.985637Z",
     "start_time": "2021-02-23T05:55:37.978569Z"
    }
   },
   "outputs": [],
   "source": [
    "batch_size=32\n",
    "epochs=100"
   ]
  },
  {
   "cell_type": "code",
   "execution_count": 30,
   "metadata": {
    "ExecuteTime": {
     "end_time": "2021-02-23T06:07:00.129841Z",
     "start_time": "2021-02-23T05:55:37.987142Z"
    },
    "scrolled": false
   },
   "outputs": [
    {
     "name": "stdout",
     "output_type": "stream",
     "text": [
      "Epoch 1/100\n",
      "1500/1500 [==============================] - 21s 11ms/step - loss: 0.8337 - accuracy: 0.7567 - val_loss: 0.2226 - val_accuracy: 0.9385\n",
      "\n",
      "Epoch 00001: val_loss improved from inf to 0.22263, saving model to results/mnist\\lenet.best.hdf5\n",
      "Epoch 2/100\n",
      "1500/1500 [==============================] - 15s 10ms/step - loss: 0.2115 - accuracy: 0.9407 - val_loss: 0.1472 - val_accuracy: 0.9598\n",
      "\n",
      "Epoch 00002: val_loss improved from 0.22263 to 0.14718, saving model to results/mnist\\lenet.best.hdf5\n",
      "Epoch 3/100\n",
      "1500/1500 [==============================] - 16s 10ms/step - loss: 0.1369 - accuracy: 0.9619 - val_loss: 0.1095 - val_accuracy: 0.9693\n",
      "\n",
      "Epoch 00003: val_loss improved from 0.14718 to 0.10946, saving model to results/mnist\\lenet.best.hdf5\n",
      "Epoch 4/100\n",
      "1500/1500 [==============================] - 14s 10ms/step - loss: 0.1042 - accuracy: 0.9700 - val_loss: 0.0891 - val_accuracy: 0.9737\n",
      "\n",
      "Epoch 00004: val_loss improved from 0.10946 to 0.08915, saving model to results/mnist\\lenet.best.hdf5\n",
      "Epoch 5/100\n",
      "1500/1500 [==============================] - 15s 10ms/step - loss: 0.0866 - accuracy: 0.9752 - val_loss: 0.0793 - val_accuracy: 0.9781\n",
      "\n",
      "Epoch 00005: val_loss improved from 0.08915 to 0.07933, saving model to results/mnist\\lenet.best.hdf5\n",
      "Epoch 6/100\n",
      "1500/1500 [==============================] - 15s 10ms/step - loss: 0.0708 - accuracy: 0.9802 - val_loss: 0.0716 - val_accuracy: 0.9787\n",
      "\n",
      "Epoch 00006: val_loss improved from 0.07933 to 0.07158, saving model to results/mnist\\lenet.best.hdf5\n",
      "Epoch 7/100\n",
      "1500/1500 [==============================] - 14s 10ms/step - loss: 0.0605 - accuracy: 0.9828 - val_loss: 0.0642 - val_accuracy: 0.9808\n",
      "\n",
      "Epoch 00007: val_loss improved from 0.07158 to 0.06419, saving model to results/mnist\\lenet.best.hdf5\n",
      "Epoch 8/100\n",
      "1500/1500 [==============================] - 16s 11ms/step - loss: 0.0531 - accuracy: 0.9847 - val_loss: 0.0612 - val_accuracy: 0.9820\n",
      "\n",
      "Epoch 00008: val_loss improved from 0.06419 to 0.06116, saving model to results/mnist\\lenet.best.hdf5\n",
      "Epoch 9/100\n",
      "1500/1500 [==============================] - 14s 9ms/step - loss: 0.0492 - accuracy: 0.9858 - val_loss: 0.0553 - val_accuracy: 0.9840\n",
      "\n",
      "Epoch 00009: val_loss improved from 0.06116 to 0.05532, saving model to results/mnist\\lenet.best.hdf5\n",
      "Epoch 10/100\n",
      "1500/1500 [==============================] - 16s 11ms/step - loss: 0.0436 - accuracy: 0.9878 - val_loss: 0.0530 - val_accuracy: 0.9841\n",
      "\n",
      "Epoch 00010: val_loss improved from 0.05532 to 0.05301, saving model to results/mnist\\lenet.best.hdf5\n",
      "Epoch 11/100\n",
      "1500/1500 [==============================] - 15s 10ms/step - loss: 0.0399 - accuracy: 0.9885 - val_loss: 0.0510 - val_accuracy: 0.9852\n",
      "\n",
      "Epoch 00011: val_loss improved from 0.05301 to 0.05099, saving model to results/mnist\\lenet.best.hdf5\n",
      "Epoch 12/100\n",
      "1500/1500 [==============================] - 16s 11ms/step - loss: 0.0379 - accuracy: 0.9892 - val_loss: 0.0493 - val_accuracy: 0.9858\n",
      "\n",
      "Epoch 00012: val_loss improved from 0.05099 to 0.04927, saving model to results/mnist\\lenet.best.hdf5\n",
      "Epoch 13/100\n",
      "1500/1500 [==============================] - 14s 10ms/step - loss: 0.0358 - accuracy: 0.9894 - val_loss: 0.0466 - val_accuracy: 0.9871\n",
      "\n",
      "Epoch 00013: val_loss improved from 0.04927 to 0.04661, saving model to results/mnist\\lenet.best.hdf5\n",
      "Epoch 14/100\n",
      "1500/1500 [==============================] - 16s 11ms/step - loss: 0.0321 - accuracy: 0.9906 - val_loss: 0.0459 - val_accuracy: 0.9863\n",
      "\n",
      "Epoch 00014: val_loss improved from 0.04661 to 0.04590, saving model to results/mnist\\lenet.best.hdf5\n",
      "Epoch 15/100\n",
      "1500/1500 [==============================] - 14s 9ms/step - loss: 0.0285 - accuracy: 0.9925 - val_loss: 0.0452 - val_accuracy: 0.9866\n",
      "\n",
      "Epoch 00015: val_loss improved from 0.04590 to 0.04515, saving model to results/mnist\\lenet.best.hdf5\n",
      "Epoch 16/100\n",
      "1500/1500 [==============================] - 16s 11ms/step - loss: 0.0304 - accuracy: 0.9922 - val_loss: 0.0451 - val_accuracy: 0.9865\n",
      "\n",
      "Epoch 00016: val_loss improved from 0.04515 to 0.04511, saving model to results/mnist\\lenet.best.hdf5\n",
      "Epoch 17/100\n",
      "1500/1500 [==============================] - 14s 9ms/step - loss: 0.0269 - accuracy: 0.9927 - val_loss: 0.0436 - val_accuracy: 0.9875\n",
      "\n",
      "Epoch 00017: val_loss improved from 0.04511 to 0.04361, saving model to results/mnist\\lenet.best.hdf5\n",
      "Epoch 18/100\n",
      "1500/1500 [==============================] - 16s 10ms/step - loss: 0.0254 - accuracy: 0.9933 - val_loss: 0.0421 - val_accuracy: 0.9872\n",
      "\n",
      "Epoch 00018: val_loss improved from 0.04361 to 0.04213, saving model to results/mnist\\lenet.best.hdf5\n",
      "Epoch 19/100\n",
      "1500/1500 [==============================] - 14s 10ms/step - loss: 0.0243 - accuracy: 0.9936 - val_loss: 0.0414 - val_accuracy: 0.9873\n",
      "\n",
      "Epoch 00019: val_loss improved from 0.04213 to 0.04138, saving model to results/mnist\\lenet.best.hdf5\n",
      "Epoch 20/100\n",
      "1500/1500 [==============================] - 15s 10ms/step - loss: 0.0224 - accuracy: 0.9944 - val_loss: 0.0406 - val_accuracy: 0.9876\n",
      "\n",
      "Epoch 00020: val_loss improved from 0.04138 to 0.04064, saving model to results/mnist\\lenet.best.hdf5\n",
      "Epoch 21/100\n",
      "1500/1500 [==============================] - 15s 10ms/step - loss: 0.0215 - accuracy: 0.9945 - val_loss: 0.0407 - val_accuracy: 0.9892\n",
      "\n",
      "Epoch 00021: val_loss did not improve from 0.04064\n",
      "Epoch 22/100\n",
      "1500/1500 [==============================] - 15s 10ms/step - loss: 0.0196 - accuracy: 0.9958 - val_loss: 0.0399 - val_accuracy: 0.9877\n",
      "\n",
      "Epoch 00022: val_loss improved from 0.04064 to 0.03993, saving model to results/mnist\\lenet.best.hdf5\n",
      "Epoch 23/100\n",
      "1500/1500 [==============================] - 15s 10ms/step - loss: 0.0186 - accuracy: 0.9956 - val_loss: 0.0409 - val_accuracy: 0.9883\n",
      "\n",
      "Epoch 00023: val_loss did not improve from 0.03993\n",
      "Epoch 24/100\n",
      "1500/1500 [==============================] - 14s 10ms/step - loss: 0.0190 - accuracy: 0.9952 - val_loss: 0.0410 - val_accuracy: 0.9880\n",
      "\n",
      "Epoch 00024: val_loss did not improve from 0.03993\n",
      "Epoch 25/100\n",
      "1500/1500 [==============================] - 16s 11ms/step - loss: 0.0176 - accuracy: 0.9959 - val_loss: 0.0385 - val_accuracy: 0.9889\n",
      "\n",
      "Epoch 00025: val_loss improved from 0.03993 to 0.03854, saving model to results/mnist\\lenet.best.hdf5\n",
      "Epoch 26/100\n",
      "1500/1500 [==============================] - 14s 9ms/step - loss: 0.0157 - accuracy: 0.9966 - val_loss: 0.0384 - val_accuracy: 0.9887\n",
      "\n",
      "Epoch 00026: val_loss improved from 0.03854 to 0.03841, saving model to results/mnist\\lenet.best.hdf5\n",
      "Epoch 27/100\n",
      "1500/1500 [==============================] - 16s 10ms/step - loss: 0.0168 - accuracy: 0.9962 - val_loss: 0.0399 - val_accuracy: 0.9878\n",
      "\n",
      "Epoch 00027: val_loss did not improve from 0.03841\n",
      "Epoch 28/100\n",
      "1500/1500 [==============================] - 13s 9ms/step - loss: 0.0148 - accuracy: 0.9971 - val_loss: 0.0383 - val_accuracy: 0.9886\n",
      "\n",
      "Epoch 00028: val_loss improved from 0.03841 to 0.03830, saving model to results/mnist\\lenet.best.hdf5\n",
      "Epoch 29/100\n",
      "1500/1500 [==============================] - 9s 6ms/step - loss: 0.0141 - accuracy: 0.9975 - val_loss: 0.0375 - val_accuracy: 0.9890\n",
      "\n",
      "Epoch 00029: val_loss improved from 0.03830 to 0.03748, saving model to results/mnist\\lenet.best.hdf5\n",
      "Epoch 30/100\n",
      "1500/1500 [==============================] - 9s 6ms/step - loss: 0.0136 - accuracy: 0.9974 - val_loss: 0.0378 - val_accuracy: 0.9883\n",
      "\n",
      "Epoch 00030: val_loss did not improve from 0.03748\n",
      "Epoch 31/100\n",
      "1500/1500 [==============================] - 9s 6ms/step - loss: 0.0130 - accuracy: 0.9979 - val_loss: 0.0372 - val_accuracy: 0.9893\n",
      "\n",
      "Epoch 00031: val_loss improved from 0.03748 to 0.03716, saving model to results/mnist\\lenet.best.hdf5\n",
      "Epoch 32/100\n",
      "1500/1500 [==============================] - 8s 5ms/step - loss: 0.0127 - accuracy: 0.9980 - val_loss: 0.0362 - val_accuracy: 0.9895\n",
      "\n",
      "Epoch 00032: val_loss improved from 0.03716 to 0.03622, saving model to results/mnist\\lenet.best.hdf5\n",
      "Epoch 33/100\n",
      "1500/1500 [==============================] - 9s 6ms/step - loss: 0.0116 - accuracy: 0.9979 - val_loss: 0.0375 - val_accuracy: 0.9890\n",
      "\n",
      "Epoch 00033: val_loss did not improve from 0.03622\n",
      "Epoch 34/100\n",
      "1500/1500 [==============================] - 9s 6ms/step - loss: 0.0111 - accuracy: 0.9980 - val_loss: 0.0363 - val_accuracy: 0.9892\n",
      "\n",
      "Epoch 00034: val_loss did not improve from 0.03622\n",
      "Epoch 35/100\n"
     ]
    },
    {
     "name": "stdout",
     "output_type": "stream",
     "text": [
      "1500/1500 [==============================] - 9s 6ms/step - loss: 0.0110 - accuracy: 0.9983 - val_loss: 0.0353 - val_accuracy: 0.9898\n",
      "\n",
      "Epoch 00035: val_loss improved from 0.03622 to 0.03529, saving model to results/mnist\\lenet.best.hdf5\n",
      "Epoch 36/100\n",
      "1500/1500 [==============================] - 9s 6ms/step - loss: 0.0102 - accuracy: 0.9987 - val_loss: 0.0371 - val_accuracy: 0.9894\n",
      "\n",
      "Epoch 00036: val_loss did not improve from 0.03529\n",
      "Epoch 37/100\n",
      "1500/1500 [==============================] - 9s 6ms/step - loss: 0.0097 - accuracy: 0.9985 - val_loss: 0.0351 - val_accuracy: 0.9899\n",
      "\n",
      "Epoch 00037: val_loss improved from 0.03529 to 0.03513, saving model to results/mnist\\lenet.best.hdf5\n",
      "Epoch 38/100\n",
      "1500/1500 [==============================] - 10s 6ms/step - loss: 0.0094 - accuracy: 0.9985 - val_loss: 0.0372 - val_accuracy: 0.9893\n",
      "\n",
      "Epoch 00038: val_loss did not improve from 0.03513\n",
      "Epoch 39/100\n",
      "1500/1500 [==============================] - 9s 6ms/step - loss: 0.0089 - accuracy: 0.9986 - val_loss: 0.0354 - val_accuracy: 0.9896\n",
      "\n",
      "Epoch 00039: val_loss did not improve from 0.03513\n",
      "Epoch 40/100\n",
      "1500/1500 [==============================] - 9s 6ms/step - loss: 0.0091 - accuracy: 0.9987 - val_loss: 0.0353 - val_accuracy: 0.9893\n",
      "\n",
      "Epoch 00040: val_loss did not improve from 0.03513\n",
      "Epoch 41/100\n",
      "1500/1500 [==============================] - 9s 6ms/step - loss: 0.0084 - accuracy: 0.9988 - val_loss: 0.0360 - val_accuracy: 0.9892\n",
      "\n",
      "Epoch 00041: val_loss did not improve from 0.03513\n",
      "Epoch 42/100\n",
      "1500/1500 [==============================] - 9s 6ms/step - loss: 0.0084 - accuracy: 0.9990 - val_loss: 0.0350 - val_accuracy: 0.9894\n",
      "\n",
      "Epoch 00042: val_loss improved from 0.03513 to 0.03496, saving model to results/mnist\\lenet.best.hdf5\n",
      "Epoch 43/100\n",
      "1500/1500 [==============================] - 10s 6ms/step - loss: 0.0074 - accuracy: 0.9993 - val_loss: 0.0354 - val_accuracy: 0.9890\n",
      "\n",
      "Epoch 00043: val_loss did not improve from 0.03496\n",
      "Epoch 44/100\n",
      "1500/1500 [==============================] - 9s 6ms/step - loss: 0.0076 - accuracy: 0.9990 - val_loss: 0.0345 - val_accuracy: 0.9897\n",
      "\n",
      "Epoch 00044: val_loss improved from 0.03496 to 0.03455, saving model to results/mnist\\lenet.best.hdf5\n",
      "Epoch 45/100\n",
      "1500/1500 [==============================] - 9s 6ms/step - loss: 0.0070 - accuracy: 0.9991 - val_loss: 0.0356 - val_accuracy: 0.9894\n",
      "\n",
      "Epoch 00045: val_loss did not improve from 0.03455\n",
      "Epoch 46/100\n",
      "1500/1500 [==============================] - 10s 6ms/step - loss: 0.0068 - accuracy: 0.9991 - val_loss: 0.0355 - val_accuracy: 0.9893\n",
      "\n",
      "Epoch 00046: val_loss did not improve from 0.03455\n",
      "Epoch 47/100\n",
      "1500/1500 [==============================] - 9s 6ms/step - loss: 0.0069 - accuracy: 0.9992 - val_loss: 0.0362 - val_accuracy: 0.9894\n",
      "\n",
      "Epoch 00047: val_loss did not improve from 0.03455\n",
      "Epoch 48/100\n",
      "1500/1500 [==============================] - 10s 6ms/step - loss: 0.0065 - accuracy: 0.9993 - val_loss: 0.0364 - val_accuracy: 0.9889\n",
      "\n",
      "Epoch 00048: val_loss did not improve from 0.03455\n",
      "Epoch 49/100\n",
      "1500/1500 [==============================] - 10s 6ms/step - loss: 0.0063 - accuracy: 0.9992 - val_loss: 0.0352 - val_accuracy: 0.9893\n",
      "\n",
      "Epoch 00049: val_loss did not improve from 0.03455\n",
      "Epoch 50/100\n",
      "1500/1500 [==============================] - 10s 7ms/step - loss: 0.0061 - accuracy: 0.9993 - val_loss: 0.0347 - val_accuracy: 0.9897\n",
      "\n",
      "Epoch 00050: val_loss did not improve from 0.03455\n",
      "Epoch 51/100\n",
      "1500/1500 [==============================] - 10s 7ms/step - loss: 0.0062 - accuracy: 0.9992 - val_loss: 0.0342 - val_accuracy: 0.9896\n",
      "\n",
      "Epoch 00051: val_loss improved from 0.03455 to 0.03419, saving model to results/mnist\\lenet.best.hdf5\n",
      "Epoch 52/100\n",
      "1500/1500 [==============================] - 10s 7ms/step - loss: 0.0054 - accuracy: 0.9994 - val_loss: 0.0336 - val_accuracy: 0.9895\n",
      "\n",
      "Epoch 00052: val_loss improved from 0.03419 to 0.03363, saving model to results/mnist\\lenet.best.hdf5\n",
      "Epoch 53/100\n",
      "1500/1500 [==============================] - 10s 7ms/step - loss: 0.0052 - accuracy: 0.9996 - val_loss: 0.0340 - val_accuracy: 0.9902\n",
      "\n",
      "Epoch 00053: val_loss did not improve from 0.03363\n",
      "Epoch 54/100\n",
      "1500/1500 [==============================] - 11s 7ms/step - loss: 0.0055 - accuracy: 0.9993 - val_loss: 0.0337 - val_accuracy: 0.9902\n",
      "\n",
      "Epoch 00054: val_loss did not improve from 0.03363\n",
      "Epoch 55/100\n",
      "1500/1500 [==============================] - 11s 7ms/step - loss: 0.0052 - accuracy: 0.9994 - val_loss: 0.0347 - val_accuracy: 0.9897\n",
      "\n",
      "Epoch 00055: val_loss did not improve from 0.03363\n",
      "Epoch 56/100\n",
      "1500/1500 [==============================] - 10s 7ms/step - loss: 0.0048 - accuracy: 0.9994 - val_loss: 0.0340 - val_accuracy: 0.9898\n",
      "\n",
      "Epoch 00056: val_loss did not improve from 0.03363\n",
      "Epoch 57/100\n",
      "1500/1500 [==============================] - 10s 7ms/step - loss: 0.0048 - accuracy: 0.9994 - val_loss: 0.0338 - val_accuracy: 0.9897\n",
      "\n",
      "Epoch 00057: val_loss did not improve from 0.03363\n",
      "Epoch 58/100\n",
      "1500/1500 [==============================] - 10s 7ms/step - loss: 0.0045 - accuracy: 0.9996 - val_loss: 0.0338 - val_accuracy: 0.9901\n",
      "\n",
      "Epoch 00058: val_loss did not improve from 0.03363\n",
      "Epoch 59/100\n",
      "1500/1500 [==============================] - 10s 7ms/step - loss: 0.0044 - accuracy: 0.9995 - val_loss: 0.0343 - val_accuracy: 0.9898\n",
      "\n",
      "Epoch 00059: val_loss did not improve from 0.03363\n",
      "Epoch 60/100\n",
      "1500/1500 [==============================] - 10s 7ms/step - loss: 0.0044 - accuracy: 0.9996 - val_loss: 0.0339 - val_accuracy: 0.9897\n",
      "\n",
      "Epoch 00060: val_loss did not improve from 0.03363\n",
      "Epoch 61/100\n",
      "1500/1500 [==============================] - 10s 7ms/step - loss: 0.0041 - accuracy: 0.9996 - val_loss: 0.0338 - val_accuracy: 0.9905\n",
      "\n",
      "Epoch 00061: val_loss did not improve from 0.03363\n",
      "Epoch 62/100\n",
      "1500/1500 [==============================] - 10s 7ms/step - loss: 0.0042 - accuracy: 0.9996 - val_loss: 0.0344 - val_accuracy: 0.9898\n",
      "\n",
      "Epoch 00062: val_loss did not improve from 0.03363\n",
      "Epoch 63/100\n",
      "1500/1500 [==============================] - 10s 7ms/step - loss: 0.0041 - accuracy: 0.9996 - val_loss: 0.0339 - val_accuracy: 0.9902\n",
      "\n",
      "Epoch 00063: val_loss did not improve from 0.03363\n",
      "Epoch 64/100\n",
      "1500/1500 [==============================] - 10s 7ms/step - loss: 0.0038 - accuracy: 0.9996 - val_loss: 0.0339 - val_accuracy: 0.9900\n",
      "\n",
      "Epoch 00064: val_loss did not improve from 0.03363\n",
      "Epoch 65/100\n",
      "1500/1500 [==============================] - 10s 7ms/step - loss: 0.0037 - accuracy: 0.9998 - val_loss: 0.0335 - val_accuracy: 0.9904\n",
      "\n",
      "Epoch 00065: val_loss improved from 0.03363 to 0.03348, saving model to results/mnist\\lenet.best.hdf5\n",
      "Epoch 66/100\n",
      "1500/1500 [==============================] - 10s 7ms/step - loss: 0.0037 - accuracy: 0.9997 - val_loss: 0.0338 - val_accuracy: 0.9900\n",
      "\n",
      "Epoch 00066: val_loss did not improve from 0.03348\n",
      "Epoch 67/100\n",
      "1500/1500 [==============================] - 10s 7ms/step - loss: 0.0035 - accuracy: 0.9996 - val_loss: 0.0345 - val_accuracy: 0.9898\n",
      "\n",
      "Epoch 00067: val_loss did not improve from 0.03348\n",
      "Epoch 68/100\n",
      "1500/1500 [==============================] - 10s 7ms/step - loss: 0.0035 - accuracy: 0.9998 - val_loss: 0.0338 - val_accuracy: 0.9898\n",
      "\n",
      "Epoch 00068: val_loss did not improve from 0.03348\n",
      "Epoch 69/100\n",
      "1500/1500 [==============================] - 10s 7ms/step - loss: 0.0032 - accuracy: 0.9998 - val_loss: 0.0337 - val_accuracy: 0.9897\n",
      "\n",
      "Epoch 00069: val_loss did not improve from 0.03348\n",
      "Epoch 70/100\n",
      "1500/1500 [==============================] - 10s 7ms/step - loss: 0.0031 - accuracy: 0.9999 - val_loss: 0.0334 - val_accuracy: 0.9908\n",
      "\n",
      "Epoch 00070: val_loss improved from 0.03348 to 0.03344, saving model to results/mnist\\lenet.best.hdf5\n",
      "Epoch 71/100\n",
      "1500/1500 [==============================] - 10s 7ms/step - loss: 0.0034 - accuracy: 0.9997 - val_loss: 0.0340 - val_accuracy: 0.9899\n",
      "\n",
      "Epoch 00071: val_loss did not improve from 0.03344\n",
      "Epoch 72/100\n",
      "1500/1500 [==============================] - 10s 7ms/step - loss: 0.0032 - accuracy: 0.9997 - val_loss: 0.0338 - val_accuracy: 0.9897\n",
      "\n",
      "Epoch 00072: val_loss did not improve from 0.03344\n",
      "Epoch 73/100\n",
      "1500/1500 [==============================] - 10s 7ms/step - loss: 0.0030 - accuracy: 0.9998 - val_loss: 0.0337 - val_accuracy: 0.9905\n",
      "\n",
      "Epoch 00073: val_loss did not improve from 0.03344\n",
      "Epoch 74/100\n"
     ]
    },
    {
     "name": "stdout",
     "output_type": "stream",
     "text": [
      "1500/1500 [==============================] - 10s 7ms/step - loss: 0.0031 - accuracy: 0.9998 - val_loss: 0.0341 - val_accuracy: 0.9902\n",
      "\n",
      "Epoch 00074: val_loss did not improve from 0.03344\n",
      "Epoch 75/100\n",
      "1500/1500 [==============================] - 10s 7ms/step - loss: 0.0028 - accuracy: 0.9999 - val_loss: 0.0343 - val_accuracy: 0.9895\n",
      "\n",
      "Epoch 00075: val_loss did not improve from 0.03344\n",
      "Epoch 76/100\n",
      "1500/1500 [==============================] - 10s 7ms/step - loss: 0.0027 - accuracy: 0.9999 - val_loss: 0.0338 - val_accuracy: 0.9900\n",
      "\n",
      "Epoch 00076: val_loss did not improve from 0.03344\n",
      "Epoch 77/100\n",
      "1500/1500 [==============================] - 10s 7ms/step - loss: 0.0027 - accuracy: 0.9999 - val_loss: 0.0337 - val_accuracy: 0.9900\n",
      "\n",
      "Epoch 00077: val_loss did not improve from 0.03344\n",
      "Epoch 78/100\n",
      "1500/1500 [==============================] - 10s 7ms/step - loss: 0.0027 - accuracy: 0.9999 - val_loss: 0.0337 - val_accuracy: 0.9902\n",
      "\n",
      "Epoch 00078: val_loss did not improve from 0.03344\n",
      "Epoch 79/100\n",
      "1500/1500 [==============================] - 10s 7ms/step - loss: 0.0027 - accuracy: 0.9999 - val_loss: 0.0345 - val_accuracy: 0.9899\n",
      "\n",
      "Epoch 00079: val_loss did not improve from 0.03344\n",
      "Epoch 80/100\n",
      "1500/1500 [==============================] - 10s 7ms/step - loss: 0.0026 - accuracy: 0.9999 - val_loss: 0.0340 - val_accuracy: 0.9905\n",
      "\n",
      "Epoch 00080: val_loss did not improve from 0.03344\n",
      "Epoch 81/100\n",
      "1500/1500 [==============================] - 10s 7ms/step - loss: 0.0025 - accuracy: 0.9999 - val_loss: 0.0338 - val_accuracy: 0.9907\n",
      "\n",
      "Epoch 00081: val_loss did not improve from 0.03344\n",
      "Epoch 82/100\n",
      "1500/1500 [==============================] - 10s 7ms/step - loss: 0.0023 - accuracy: 0.9999 - val_loss: 0.0347 - val_accuracy: 0.9902\n",
      "\n",
      "Epoch 00082: val_loss did not improve from 0.03344\n",
      "Epoch 83/100\n",
      "1500/1500 [==============================] - 10s 7ms/step - loss: 0.0025 - accuracy: 0.9999 - val_loss: 0.0338 - val_accuracy: 0.9905\n",
      "\n",
      "Epoch 00083: val_loss did not improve from 0.03344\n",
      "Epoch 84/100\n",
      "1500/1500 [==============================] - 10s 7ms/step - loss: 0.0023 - accuracy: 0.9999 - val_loss: 0.0346 - val_accuracy: 0.9898\n",
      "\n",
      "Epoch 00084: val_loss did not improve from 0.03344\n",
      "Epoch 85/100\n",
      "1500/1500 [==============================] - 10s 7ms/step - loss: 0.0023 - accuracy: 1.0000 - val_loss: 0.0339 - val_accuracy: 0.9903\n",
      "\n",
      "Epoch 00085: val_loss did not improve from 0.03344\n",
      "Epoch 86/100\n",
      "1500/1500 [==============================] - 10s 7ms/step - loss: 0.0023 - accuracy: 0.9999 - val_loss: 0.0339 - val_accuracy: 0.9901\n",
      "\n",
      "Epoch 00086: val_loss did not improve from 0.03344\n",
      "Epoch 87/100\n",
      "1500/1500 [==============================] - 10s 7ms/step - loss: 0.0023 - accuracy: 0.9999 - val_loss: 0.0340 - val_accuracy: 0.9902\n",
      "\n",
      "Epoch 00087: val_loss did not improve from 0.03344\n",
      "Epoch 88/100\n",
      "1500/1500 [==============================] - 9s 6ms/step - loss: 0.0022 - accuracy: 0.9999 - val_loss: 0.0341 - val_accuracy: 0.9900\n",
      "\n",
      "Epoch 00088: val_loss did not improve from 0.03344\n",
      "Epoch 89/100\n",
      "1500/1500 [==============================] - 10s 7ms/step - loss: 0.0021 - accuracy: 0.9999 - val_loss: 0.0342 - val_accuracy: 0.9899\n",
      "\n",
      "Epoch 00089: val_loss did not improve from 0.03344\n",
      "Epoch 90/100\n",
      "1500/1500 [==============================] - 10s 7ms/step - loss: 0.0022 - accuracy: 0.9999 - val_loss: 0.0341 - val_accuracy: 0.9902\n",
      "\n",
      "Epoch 00090: val_loss did not improve from 0.03344\n"
     ]
    }
   ],
   "source": [
    "lenet_history = lenet5.fit(\n",
    "    X_train.reshape(-1, 28, 28, 1),\n",
    "    y_train,\n",
    "    batch_size=batch_size,\n",
    "    epochs=epochs,\n",
    "    validation_split=0.2,  # use 0 to train on all data\n",
    "    callbacks=[checkpointer, early_stopping],\n",
    "    verbose=1,\n",
    "    shuffle=True)"
   ]
  },
  {
   "cell_type": "markdown",
   "metadata": {},
   "source": [
    "### Plot CV Results"
   ]
  },
  {
   "cell_type": "markdown",
   "metadata": {},
   "source": [
    "On a single GPU, 50 epochs take around 2.5 minutes, resulting in a test accuracy of 99.09%, slightly below the same result as for the original LeNet5:"
   ]
  },
  {
   "cell_type": "code",
   "execution_count": 31,
   "metadata": {
    "ExecuteTime": {
     "end_time": "2021-02-23T06:07:00.258532Z",
     "start_time": "2021-02-23T06:07:00.130868Z"
    }
   },
   "outputs": [
    {
     "data": {
      "image/png": "[encoded data removed]",
      "text/plain": [
       "<Figure size 1008x288 with 1 Axes>"
      ]
     },
     "metadata": {},
     "output_type": "display_data"
    }
   ],
   "source": [
    "pd.DataFrame(lenet_history.history)[['accuracy', 'val_accuracy']].plot(figsize=(14,4))\n",
    "sns.despine();"
   ]
  },
  {
   "cell_type": "markdown",
   "metadata": {},
   "source": [
    "### Test Classification Accuracy"
   ]
  },
  {
   "cell_type": "code",
   "execution_count": 32,
   "metadata": {
    "ExecuteTime": {
     "end_time": "2021-02-23T06:07:01.036227Z",
     "start_time": "2021-02-23T06:07:00.259583Z"
    }
   },
   "outputs": [
    {
     "name": "stdout",
     "output_type": "stream",
     "text": [
      "Test accuracy: 99.21%\n"
     ]
    }
   ],
   "source": [
    "# evaluate test accuracy\n",
    "lenet_accuracy = lenet5.evaluate(X_test.reshape(-1, 28, 28, 1), y_test, verbose=0)[1]\n",
    "print('Test accuracy: {:.2%}'.format(lenet_accuracy))"
   ]
  },
  {
   "cell_type": "markdown",
   "metadata": {},
   "source": [
    "## Summary"
   ]
  },
  {
   "cell_type": "markdown",
   "metadata": {},
   "source": [
    "For comparison, a simple two-layer feedforward network achieves only 37.36% test accuracy. \n",
    "\n",
    "The LeNet5 improvement on MNIST is, in fact, modest. Non-neural methods have also achieved classification accuracies greater than or equal to 99%, including K-Nearest Neighbours or Support Vector Machines. CNNs really shine with more challenging datasets as we will see next."
   ]
  }
 ],
 "metadata": {
  "kernelspec": {
   "display_name": "Python [conda env:tensorflow_env]",
   "language": "python",
   "name": "conda-env-tensorflow_env-py"
  },
  "language_info": {
   "codemirror_mode": {
    "name": "ipython",
    "version": 3
   },
   "file_extension": ".py",
   "mimetype": "text/x-python",
   "name": "python",
   "nbconvert_exporter": "python",
   "pygments_lexer": "ipython3",
   "version": "3.8.8"
  },
  "toc": {
   "base_numbering": 1,
   "nav_menu": {},
   "number_sections": true,
   "sideBar": true,
   "skip_h1_title": true,
   "title_cell": "Table of Contents",
   "title_sidebar": "Contents",
   "toc_cell": false,
   "toc_position": {
    "height": "calc(100% - 180px)",
    "left": "10px",
    "top": "150px",
    "width": "353.663px"
   },
   "toc_section_display": true,
   "toc_window_display": true
  }
 },
 "nbformat": 4,
 "nbformat_minor": 2
}
