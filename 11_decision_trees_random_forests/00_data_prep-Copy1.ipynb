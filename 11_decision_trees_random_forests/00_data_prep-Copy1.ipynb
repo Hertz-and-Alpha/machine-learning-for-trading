{
 "cells": [
  {
   "cell_type": "markdown",
   "metadata": {},
   "source": [
    "# How to transform data into factors"
   ]
  },
  {
   "cell_type": "markdown",
   "metadata": {},
   "source": [
    "Based on a conceptual understanding of key factor categories, their rationale and popular metrics, a key task is to identify new factors that may better capture the risks embodied by the return drivers laid out previously, or to find new ones. \n",
    "\n",
    "In either case, it will be important to compare the performance of innovative factors to that of known factors to identify incremental signal gains."
   ]
  },
  {
   "cell_type": "markdown",
   "metadata": {},
   "source": [
    "We create the dataset here and store it in our [data](../../data) folder to facilitate reuse in later chapters."
   ]
  },
  {
   "cell_type": "markdown",
   "metadata": {},
   "source": [
    "## Imports & Settings"
   ]
  },
  {
   "cell_type": "code",
   "execution_count": 1,
   "metadata": {
    "ExecuteTime": {
     "end_time": "2021-04-16T00:32:11.108720Z",
     "start_time": "2021-04-16T00:32:11.106680Z"
    }
   },
   "outputs": [],
   "source": [
    "import warnings\n",
    "warnings.filterwarnings('ignore')"
   ]
  },
  {
   "cell_type": "code",
   "execution_count": 2,
   "metadata": {
    "ExecuteTime": {
     "end_time": "2021-04-16T00:32:12.061911Z",
     "start_time": "2021-04-16T00:32:11.317486Z"
    }
   },
   "outputs": [],
   "source": [
    "%matplotlib inline\n",
    "\n",
    "import numpy as np\n",
    "import pandas as pd\n",
    "import pandas_datareader.data as web\n",
    "\n",
    "# from pyfinance.ols import PandasRollingOLS\n",
    "# replaces pyfinance.ols.PandasRollingOLS (no longer maintained)\n",
    "from statsmodels.regression.rolling import RollingOLS\n",
    "import statsmodels.api as sm\n",
    "from talib import RSI, BBANDS, MACD, NATR, ATR\n",
    "\n",
    "from sklearn.feature_selection import mutual_info_classif, mutual_info_regression\n",
    "\n",
    "import matplotlib.pyplot as plt\n",
    "import seaborn as sns"
   ]
  },
  {
   "cell_type": "code",
   "execution_count": 3,
   "metadata": {
    "ExecuteTime": {
     "end_time": "2021-04-16T00:32:12.066329Z",
     "start_time": "2021-04-16T00:32:12.063370Z"
    }
   },
   "outputs": [],
   "source": [
    "sns.set_style('whitegrid')\n",
    "idx = pd.IndexSlice"
   ]
  },
  {
   "cell_type": "markdown",
   "metadata": {},
   "source": [
    "## Load US equity OHLCV data"
   ]
  },
  {
   "cell_type": "markdown",
   "metadata": {},
   "source": [
    "The `assets.h5` store can be generated using the the notebook [create_datasets](../../data/create_datasets.ipynb) in the [data](../../data) directory in the root directory of this repo for instruction to download the following dataset."
   ]
  },
  {
   "cell_type": "markdown",
   "metadata": {},
   "source": [
    "We load the Quandl stock price datasets covering the US equity markets 2000-18 using `pd.IndexSlice` to perform a slice operation on the `pd.MultiIndex`, select the adjusted close price and unpivot the column to convert the DataFrame to wide format with tickers in the columns and timestamps in the rows:"
   ]
  },
  {
   "cell_type": "markdown",
   "metadata": {},
   "source": [
    "Set data store location:"
   ]
  },
  {
   "cell_type": "code",
   "execution_count": 4,
   "metadata": {
    "ExecuteTime": {
     "end_time": "2021-02-23T20:29:18.142415Z",
     "start_time": "2021-02-23T20:29:18.135503Z"
    }
   },
   "outputs": [],
   "source": [
    "DATA_STORE = '../data/assets.h5'"
   ]
  },
  {
   "cell_type": "code",
   "execution_count": 5,
   "metadata": {
    "ExecuteTime": {
     "end_time": "2021-02-23T20:29:18.154819Z",
     "start_time": "2021-02-23T20:29:18.143752Z"
    }
   },
   "outputs": [],
   "source": [
    "YEAR = 12"
   ]
  },
  {
   "cell_type": "code",
   "execution_count": 6,
   "metadata": {
    "ExecuteTime": {
     "end_time": "2021-02-23T20:29:18.164476Z",
     "start_time": "2021-02-23T20:29:18.155706Z"
    }
   },
   "outputs": [],
   "source": [
    "START = 1995\n",
    "END = 2017"
   ]
  },
  {
   "cell_type": "code",
   "execution_count": 7,
   "metadata": {
    "ExecuteTime": {
     "end_time": "2021-02-23T20:29:24.397333Z",
     "start_time": "2021-02-23T20:29:18.165527Z"
    }
   },
   "outputs": [],
   "source": [
    "with pd.HDFStore(DATA_STORE) as store:\n",
    "    prices = (store['quandl/wiki/prices']\n",
    "              .loc[idx[str(START):str(END), :], :]\n",
    "              .filter(like='adj_')\n",
    "              .dropna()\n",
    "              .swaplevel()\n",
    "              .rename(columns=lambda x: x.replace('adj_', ''))\n",
    "              .join(store['us_equities/stocks']\n",
    "                    .loc[:, ['sector']])\n",
    "              .dropna())"
   ]
  },
  {
   "cell_type": "code",
   "execution_count": 8,
   "metadata": {
    "ExecuteTime": {
     "end_time": "2021-02-23T20:29:24.888343Z",
     "start_time": "2021-02-23T20:29:24.398493Z"
    }
   },
   "outputs": [
    {
     "name": "stdout",
     "output_type": "stream",
     "text": [
      "<class 'pandas.core.frame.DataFrame'>\n",
      "MultiIndex: 9355738 entries, ('AAN', Timestamp('1995-01-03 00:00:00')) to ('UFI', Timestamp('2017-12-29 00:00:00'))\n",
      "Data columns (total 6 columns):\n",
      " #   Column  Non-Null Count    Dtype  \n",
      "---  ------  --------------    -----  \n",
      " 0   open    9355738 non-null  float64\n",
      " 1   high    9355738 non-null  float64\n",
      " 2   low     9355738 non-null  float64\n",
      " 3   close   9355738 non-null  float64\n",
      " 4   volume  9355738 non-null  float64\n",
      " 5   sector  9355738 non-null  object \n",
      "dtypes: float64(5), object(1)\n",
      "memory usage: 464.7+ MB\n"
     ]
    }
   ],
   "source": [
    "prices.info(null_counts=True)"
   ]
  },
  {
   "cell_type": "code",
   "execution_count": 9,
   "metadata": {
    "ExecuteTime": {
     "end_time": "2021-02-23T20:29:24.974142Z",
     "start_time": "2021-02-23T20:29:24.890337Z"
    }
   },
   "outputs": [
    {
     "data": {
      "text/plain": [
       "2165"
      ]
     },
     "execution_count": 9,
     "metadata": {},
     "output_type": "execute_result"
    }
   ],
   "source": [
    "len(prices.index.unique('ticker'))"
   ]
  },
  {
   "cell_type": "markdown",
   "metadata": {},
   "source": [
    "## Remove stocks with less than ten years of data"
   ]
  },
  {
   "cell_type": "code",
   "execution_count": 10,
   "metadata": {
    "ExecuteTime": {
     "end_time": "2021-02-23T20:30:10.981706Z",
     "start_time": "2021-02-23T20:29:24.975850Z"
    }
   },
   "outputs": [],
   "source": [
    "min_obs = 10 * 252\n",
    "nobs = prices.groupby(level='ticker').size()\n",
    "to_drop = nobs[nobs < min_obs].index\n",
    "prices = prices.drop(to_drop, level='ticker')"
   ]
  },
  {
   "cell_type": "code",
   "execution_count": 11,
   "metadata": {
    "ExecuteTime": {
     "end_time": "2021-02-23T20:30:11.434460Z",
     "start_time": "2021-02-23T20:30:10.982824Z"
    }
   },
   "outputs": [
    {
     "name": "stdout",
     "output_type": "stream",
     "text": [
      "<class 'pandas.core.frame.DataFrame'>\n",
      "MultiIndex: 8707837 entries, ('AAN', Timestamp('1995-01-03 00:00:00')) to ('UFI', Timestamp('2017-12-29 00:00:00'))\n",
      "Data columns (total 6 columns):\n",
      " #   Column  Non-Null Count    Dtype  \n",
      "---  ------  --------------    -----  \n",
      " 0   open    8707837 non-null  float64\n",
      " 1   high    8707837 non-null  float64\n",
      " 2   low     8707837 non-null  float64\n",
      " 3   close   8707837 non-null  float64\n",
      " 4   volume  8707837 non-null  float64\n",
      " 5   sector  8707837 non-null  object \n",
      "dtypes: float64(5), object(1)\n",
      "memory usage: 432.5+ MB\n"
     ]
    }
   ],
   "source": [
    "prices.info(null_counts=True)"
   ]
  },
  {
   "cell_type": "code",
   "execution_count": 12,
   "metadata": {
    "ExecuteTime": {
     "end_time": "2021-02-23T20:30:11.509683Z",
     "start_time": "2021-02-23T20:30:11.435475Z"
    }
   },
   "outputs": [
    {
     "data": {
      "text/plain": [
       "1722"
      ]
     },
     "execution_count": 12,
     "metadata": {},
     "output_type": "execute_result"
    }
   ],
   "source": [
    "len(prices.index.unique('ticker'))"
   ]
  },
  {
   "cell_type": "markdown",
   "metadata": {},
   "source": [
    "## Add some Basic Factors"
   ]
  },
  {
   "cell_type": "markdown",
   "metadata": {},
   "source": [
    "### Compute the Relative Strength Index"
   ]
  },
  {
   "cell_type": "code",
   "execution_count": 13,
   "metadata": {
    "ExecuteTime": {
     "end_time": "2021-02-23T20:30:58.402376Z",
     "start_time": "2021-02-23T20:30:11.510780Z"
    }
   },
   "outputs": [],
   "source": [
    "prices['rsi'] = prices.groupby(level='ticker').close.apply(RSI)"
   ]
  },
  {
   "cell_type": "code",
   "execution_count": 14,
   "metadata": {
    "ExecuteTime": {
     "end_time": "2021-02-23T20:31:21.858293Z",
     "start_time": "2021-02-23T20:30:58.403322Z"
    }
   },
   "outputs": [
    {
     "data": {
      "image/png": "[encoded data removed]",
      "text/plain": [
       "<Figure size 432x288 with 1 Axes>"
      ]
     },
     "metadata": {},
     "output_type": "display_data"
    }
   ],
   "source": [
    "sns.distplot(prices.rsi);"
   ]
  },
  {
   "cell_type": "markdown",
   "metadata": {},
   "source": [
    "### Compute Bollinger Bands"
   ]
  },
  {
   "cell_type": "code",
   "execution_count": 15,
   "metadata": {
    "ExecuteTime": {
     "end_time": "2021-02-23T20:31:21.862142Z",
     "start_time": "2021-02-23T20:31:21.859408Z"
    }
   },
   "outputs": [],
   "source": [
    "def compute_bb(close):\n",
    "    high, mid, low = BBANDS(np.log1p(close), timeperiod=20)\n",
    "    return pd.DataFrame({'bb_high': high,\n",
    "                         'bb_mid': mid,\n",
    "                         'bb_low': low}, index=close.index)"
   ]
  },
  {
   "cell_type": "code",
   "execution_count": 16,
   "metadata": {
    "ExecuteTime": {
     "end_time": "2021-02-23T20:32:27.635722Z",
     "start_time": "2021-02-23T20:31:21.863546Z"
    }
   },
   "outputs": [],
   "source": [
    "prices = (prices.join(prices\n",
    "                      .groupby(level='ticker')\n",
    "                      .close\n",
    "                      .apply(compute_bb)))"
   ]
  },
  {
   "cell_type": "code",
   "execution_count": 17,
   "metadata": {
    "ExecuteTime": {
     "end_time": "2021-02-23T20:32:28.025953Z",
     "start_time": "2021-02-23T20:32:27.636648Z"
    }
   },
   "outputs": [
    {
     "name": "stdout",
     "output_type": "stream",
     "text": [
      "<class 'pandas.core.frame.DataFrame'>\n",
      "MultiIndex: 8707837 entries, ('AAN', Timestamp('1995-01-03 00:00:00')) to ('UFI', Timestamp('2017-12-29 00:00:00'))\n",
      "Data columns (total 10 columns):\n",
      " #   Column   Non-Null Count    Dtype  \n",
      "---  ------   --------------    -----  \n",
      " 0   open     8707837 non-null  float64\n",
      " 1   high     8707837 non-null  float64\n",
      " 2   low      8707837 non-null  float64\n",
      " 3   close    8707837 non-null  float64\n",
      " 4   volume   8707837 non-null  float64\n",
      " 5   sector   8707837 non-null  object \n",
      " 6   rsi      8683729 non-null  float64\n",
      " 7   bb_high  8675119 non-null  float64\n",
      " 8   bb_mid   8675119 non-null  float64\n",
      " 9   bb_low   8675119 non-null  float64\n",
      "dtypes: float64(9), object(1)\n",
      "memory usage: 956.3+ MB\n"
     ]
    }
   ],
   "source": [
    "prices.info(null_counts=True)"
   ]
  },
  {
   "cell_type": "code",
   "execution_count": 18,
   "metadata": {
    "ExecuteTime": {
     "end_time": "2021-02-23T20:32:29.422206Z",
     "start_time": "2021-02-23T20:32:28.026886Z"
    }
   },
   "outputs": [
    {
     "data": {
      "text/html": [
       "<div>\n",
       "<style scoped>\n",
       "    .dataframe tbody tr th:only-of-type {\n",
       "        vertical-align: middle;\n",
       "    }\n",
       "\n",
       "    .dataframe tbody tr th {\n",
       "        vertical-align: top;\n",
       "    }\n",
       "\n",
       "    .dataframe thead th {\n",
       "        text-align: right;\n",
       "    }\n",
       "</style>\n",
       "<table border=\"1\" class=\"dataframe\">\n",
       "  <thead>\n",
       "    <tr style=\"text-align: right;\">\n",
       "      <th></th>\n",
       "      <th>bb_high</th>\n",
       "      <th>bb_mid</th>\n",
       "      <th>bb_low</th>\n",
       "    </tr>\n",
       "  </thead>\n",
       "  <tbody>\n",
       "    <tr>\n",
       "      <th>count</th>\n",
       "      <td>8.675119e+06</td>\n",
       "      <td>8.675119e+06</td>\n",
       "      <td>8.675119e+06</td>\n",
       "    </tr>\n",
       "    <tr>\n",
       "      <th>mean</th>\n",
       "      <td>2.936089e+00</td>\n",
       "      <td>2.862929e+00</td>\n",
       "      <td>2.789769e+00</td>\n",
       "    </tr>\n",
       "    <tr>\n",
       "      <th>std</th>\n",
       "      <td>1.001374e+00</td>\n",
       "      <td>1.004042e+00</td>\n",
       "      <td>1.010473e+00</td>\n",
       "    </tr>\n",
       "    <tr>\n",
       "      <th>min</th>\n",
       "      <td>9.950331e-03</td>\n",
       "      <td>9.950331e-03</td>\n",
       "      <td>-1.568426e+00</td>\n",
       "    </tr>\n",
       "    <tr>\n",
       "      <th>25%</th>\n",
       "      <td>2.291790e+00</td>\n",
       "      <td>2.213369e+00</td>\n",
       "      <td>2.133726e+00</td>\n",
       "    </tr>\n",
       "    <tr>\n",
       "      <th>50%</th>\n",
       "      <td>2.928385e+00</td>\n",
       "      <td>2.855487e+00</td>\n",
       "      <td>2.784200e+00</td>\n",
       "    </tr>\n",
       "    <tr>\n",
       "      <th>75%</th>\n",
       "      <td>3.539303e+00</td>\n",
       "      <td>3.470217e+00</td>\n",
       "      <td>3.403694e+00</td>\n",
       "    </tr>\n",
       "    <tr>\n",
       "      <th>max</th>\n",
       "      <td>1.376991e+01</td>\n",
       "      <td>1.358056e+01</td>\n",
       "      <td>1.346225e+01</td>\n",
       "    </tr>\n",
       "  </tbody>\n",
       "</table>\n",
       "</div>"
      ],
      "text/plain": [
       "            bb_high        bb_mid        bb_low\n",
       "count  8.675119e+06  8.675119e+06  8.675119e+06\n",
       "mean   2.936089e+00  2.862929e+00  2.789769e+00\n",
       "std    1.001374e+00  1.004042e+00  1.010473e+00\n",
       "min    9.950331e-03  9.950331e-03 -1.568426e+00\n",
       "25%    2.291790e+00  2.213369e+00  2.133726e+00\n",
       "50%    2.928385e+00  2.855487e+00  2.784200e+00\n",
       "75%    3.539303e+00  3.470217e+00  3.403694e+00\n",
       "max    1.376991e+01  1.358056e+01  1.346225e+01"
      ]
     },
     "execution_count": 18,
     "metadata": {},
     "output_type": "execute_result"
    }
   ],
   "source": [
    "prices.filter(like='bb_').describe()"
   ]
  },
  {
   "cell_type": "code",
   "execution_count": 19,
   "metadata": {
    "ExecuteTime": {
     "end_time": "2021-02-23T20:33:37.302678Z",
     "start_time": "2021-02-23T20:32:29.423220Z"
    }
   },
   "outputs": [
    {
     "data": {
      "image/png": "[encoded data removed]",
      "text/plain": [
       "<Figure size 1080x288 with 3 Axes>"
      ]
     },
     "metadata": {},
     "output_type": "display_data"
    }
   ],
   "source": [
    "fig, axes = plt.subplots(ncols=3, figsize=(15,4))\n",
    "for i, col in enumerate(['bb_low', 'bb_mid', 'bb_low']):\n",
    "    sns.distplot(prices[col], ax=axes[i])\n",
    "    axes[i].set_title(col);\n",
    "fig.tight_layout();"
   ]
  },
  {
   "cell_type": "code",
   "execution_count": 20,
   "metadata": {
    "ExecuteTime": {
     "end_time": "2021-02-23T20:33:37.614610Z",
     "start_time": "2021-02-23T20:33:37.303801Z"
    }
   },
   "outputs": [],
   "source": [
    "prices['bb_up'] = prices.bb_high.sub(np.log1p(prices.close))\n",
    "prices['bb_down'] = np.log1p(prices.close).sub(prices.bb_low)"
   ]
  },
  {
   "cell_type": "code",
   "execution_count": 21,
   "metadata": {
    "ExecuteTime": {
     "end_time": "2021-02-23T20:33:42.626284Z",
     "start_time": "2021-02-23T20:33:37.615839Z"
    }
   },
   "outputs": [
    {
     "data": {
      "image/png": "[encoded data removed]",
      "text/plain": [
       "<Figure size 720x288 with 2 Axes>"
      ]
     },
     "metadata": {},
     "output_type": "display_data"
    }
   ],
   "source": [
    "fig, axes = plt.subplots(ncols=2, figsize=(10,4))\n",
    "for i, col in enumerate(['bb_down', 'bb_up']):\n",
    "    sns.boxenplot(prices[col], ax=axes[i])\n",
    "    axes[i].set_title(col);\n",
    "fig.tight_layout();"
   ]
  },
  {
   "cell_type": "markdown",
   "metadata": {},
   "source": [
    "### Compute Average True Range"
   ]
  },
  {
   "cell_type": "markdown",
   "metadata": {},
   "source": [
    "Helper for indicators with multiple inputs:"
   ]
  },
  {
   "cell_type": "code",
   "execution_count": 22,
   "metadata": {
    "ExecuteTime": {
     "end_time": "2021-02-23T20:33:42.827296Z",
     "start_time": "2021-02-23T20:33:42.627221Z"
    }
   },
   "outputs": [],
   "source": [
    "by_ticker = prices.groupby('ticker', group_keys=False)"
   ]
  },
  {
   "cell_type": "code",
   "execution_count": 23,
   "metadata": {
    "ExecuteTime": {
     "end_time": "2021-02-23T20:33:42.831678Z",
     "start_time": "2021-02-23T20:33:42.828250Z"
    }
   },
   "outputs": [],
   "source": [
    "def compute_atr(stock_data):\n",
    "    atr = ATR(stock_data.high, \n",
    "              stock_data.low, \n",
    "              stock_data.close, \n",
    "              timeperiod=14)\n",
    "    return atr.sub(atr.mean()).div(atr.std())"
   ]
  },
  {
   "cell_type": "code",
   "execution_count": 24,
   "metadata": {
    "ExecuteTime": {
     "end_time": "2021-02-23T20:34:04.342244Z",
     "start_time": "2021-02-23T20:33:42.833588Z"
    }
   },
   "outputs": [],
   "source": [
    "prices['atr'] = by_ticker.apply(compute_atr)"
   ]
  },
  {
   "cell_type": "code",
   "execution_count": 25,
   "metadata": {
    "ExecuteTime": {
     "end_time": "2021-02-23T20:34:27.080212Z",
     "start_time": "2021-02-23T20:34:04.343606Z"
    }
   },
   "outputs": [
    {
     "data": {
      "image/png": "[encoded data removed]",
      "text/plain": [
       "<Figure size 432x288 with 1 Axes>"
      ]
     },
     "metadata": {},
     "output_type": "display_data"
    }
   ],
   "source": [
    "sns.distplot(prices.atr);"
   ]
  },
  {
   "cell_type": "code",
   "execution_count": 26,
   "metadata": {
    "ExecuteTime": {
     "end_time": "2021-02-23T20:34:48.557533Z",
     "start_time": "2021-02-23T20:34:27.081545Z"
    }
   },
   "outputs": [],
   "source": [
    "prices['natr'] = by_ticker.apply(lambda x: NATR(high=x.high, low=x.low, close=x.close))"
   ]
  },
  {
   "cell_type": "code",
   "execution_count": 27,
   "metadata": {
    "ExecuteTime": {
     "end_time": "2021-02-23T20:35:12.618207Z",
     "start_time": "2021-02-23T20:34:48.558475Z"
    }
   },
   "outputs": [
    {
     "data": {
      "image/png": "[encoded data removed]",
      "text/plain": [
       "<Figure size 432x288 with 1 Axes>"
      ]
     },
     "metadata": {},
     "output_type": "display_data"
    }
   ],
   "source": [
    "sns.distplot(prices.natr[prices.natr<10]);"
   ]
  },
  {
   "cell_type": "markdown",
   "metadata": {},
   "source": [
    "### Compute Moving Average Convergence/Divergence"
   ]
  },
  {
   "cell_type": "code",
   "execution_count": 28,
   "metadata": {
    "ExecuteTime": {
     "end_time": "2021-02-23T20:36:07.366887Z",
     "start_time": "2021-02-23T20:35:12.619395Z"
    },
    "scrolled": false
   },
   "outputs": [],
   "source": [
    "def compute_macd(close):\n",
    "    macd = MACD(close)[0]\n",
    "    return macd.sub(macd.mean()).div(macd.std())\n",
    "\n",
    "prices['macd'] = prices.groupby(level='ticker').close.apply(compute_macd)"
   ]
  },
  {
   "cell_type": "code",
   "execution_count": 29,
   "metadata": {
    "ExecuteTime": {
     "end_time": "2021-02-23T20:36:31.231218Z",
     "start_time": "2021-02-23T20:36:07.368084Z"
    }
   },
   "outputs": [
    {
     "data": {
      "image/png": "[encoded data removed]",
      "text/plain": [
       "<Figure size 432x288 with 1 Axes>"
      ]
     },
     "metadata": {},
     "output_type": "display_data"
    }
   ],
   "source": [
    "sns.distplot(prices.macd);"
   ]
  },
  {
   "cell_type": "markdown",
   "metadata": {},
   "source": [
    "## Compute dollar volume to determine universe"
   ]
  },
  {
   "cell_type": "code",
   "execution_count": 30,
   "metadata": {
    "ExecuteTime": {
     "end_time": "2021-02-23T20:36:31.308363Z",
     "start_time": "2021-02-23T20:36:31.232479Z"
    }
   },
   "outputs": [],
   "source": [
    "prices['dollar_volume'] = (prices.loc[:, 'close']\n",
    "                           .mul(prices.loc[:, 'volume'], axis=0))\n",
    "\n",
    "prices.dollar_volume /= 1e6"
   ]
  },
  {
   "cell_type": "code",
   "execution_count": 31,
   "metadata": {
    "ExecuteTime": {
     "end_time": "2021-02-23T20:36:32.915677Z",
     "start_time": "2021-02-23T20:36:31.309455Z"
    }
   },
   "outputs": [],
   "source": [
    "prices.to_hdf('data.h5', 'us/equities/prices')"
   ]
  },
  {
   "cell_type": "code",
   "execution_count": 32,
   "metadata": {
    "ExecuteTime": {
     "end_time": "2021-02-23T20:36:36.371266Z",
     "start_time": "2021-02-23T20:36:32.917114Z"
    }
   },
   "outputs": [
    {
     "name": "stdout",
     "output_type": "stream",
     "text": [
      "<class 'pandas.core.frame.DataFrame'>\n",
      "MultiIndex: 8707837 entries, ('AAN', Timestamp('1995-01-03 00:00:00')) to ('UFI', Timestamp('2017-12-29 00:00:00'))\n",
      "Data columns (total 16 columns):\n",
      " #   Column         Non-Null Count    Dtype  \n",
      "---  ------         --------------    -----  \n",
      " 0   open           8707837 non-null  float64\n",
      " 1   high           8707837 non-null  float64\n",
      " 2   low            8707837 non-null  float64\n",
      " 3   close          8707837 non-null  float64\n",
      " 4   volume         8707837 non-null  float64\n",
      " 5   sector         8707837 non-null  object \n",
      " 6   rsi            8683729 non-null  float64\n",
      " 7   bb_high        8675119 non-null  float64\n",
      " 8   bb_mid         8675119 non-null  float64\n",
      " 9   bb_low         8675119 non-null  float64\n",
      " 10  bb_up          8675119 non-null  float64\n",
      " 11  bb_down        8675119 non-null  float64\n",
      " 12  atr            8683729 non-null  float64\n",
      " 13  natr           8683729 non-null  float64\n",
      " 14  macd           8651011 non-null  float64\n",
      " 15  dollar_volume  8707837 non-null  float64\n",
      "dtypes: float64(15), object(1)\n",
      "memory usage: 1.1+ GB\n"
     ]
    }
   ],
   "source": [
    "prices = pd.read_hdf('data.h5', 'us/equities/prices')\n",
    "prices.info(null_counts=True)"
   ]
  },
  {
   "cell_type": "markdown",
   "metadata": {},
   "source": [
    "## Resample OHLCV prices to monthly frequency"
   ]
  },
  {
   "cell_type": "markdown",
   "metadata": {},
   "source": [
    "To reduce training time and experiment with strategies for longer time horizons, we convert the business-daily data to month-end frequency using the available adjusted close price:"
   ]
  },
  {
   "cell_type": "code",
   "execution_count": 33,
   "metadata": {
    "ExecuteTime": {
     "end_time": "2021-02-23T20:36:36.374719Z",
     "start_time": "2021-02-23T20:36:36.372390Z"
    }
   },
   "outputs": [],
   "source": [
    "last_cols = [c for c in prices.columns.unique(0) if c not in ['dollar_volume', 'volume',\n",
    "                                                              'open', 'high', 'low']]"
   ]
  },
  {
   "cell_type": "code",
   "execution_count": 34,
   "metadata": {
    "ExecuteTime": {
     "end_time": "2021-02-23T20:36:39.763558Z",
     "start_time": "2021-02-23T20:36:36.375717Z"
    }
   },
   "outputs": [],
   "source": [
    "prices = prices.unstack('ticker')"
   ]
  },
  {
   "cell_type": "code",
   "execution_count": 35,
   "metadata": {
    "ExecuteTime": {
     "end_time": "2021-02-23T20:36:46.968273Z",
     "start_time": "2021-02-23T20:36:39.764800Z"
    }
   },
   "outputs": [],
   "source": [
    "data = (pd.concat([prices.dollar_volume.resample('M').mean().stack('ticker').to_frame('dollar_volume'),\n",
    "                   prices[last_cols].resample('M').last().stack('ticker')],\n",
    "                  axis=1)\n",
    "        .swaplevel()\n",
    "        .dropna())"
   ]
  },
  {
   "cell_type": "code",
   "execution_count": 36,
   "metadata": {
    "ExecuteTime": {
     "end_time": "2021-02-23T20:36:47.009662Z",
     "start_time": "2021-02-23T20:36:46.969428Z"
    }
   },
   "outputs": [
    {
     "name": "stdout",
     "output_type": "stream",
     "text": [
      "<class 'pandas.core.frame.DataFrame'>\n",
      "MultiIndex: 413370 entries, ('AAN', Timestamp('1995-02-28 00:00:00')) to ('UFI', Timestamp('2017-12-31 00:00:00'))\n",
      "Data columns (total 12 columns):\n",
      " #   Column         Non-Null Count   Dtype  \n",
      "---  ------         --------------   -----  \n",
      " 0   dollar_volume  413370 non-null  float64\n",
      " 1   atr            413370 non-null  float64\n",
      " 2   bb_down        413370 non-null  float64\n",
      " 3   bb_high        413370 non-null  float64\n",
      " 4   bb_low         413370 non-null  float64\n",
      " 5   bb_mid         413370 non-null  float64\n",
      " 6   bb_up          413370 non-null  float64\n",
      " 7   close          413370 non-null  float64\n",
      " 8   macd           413370 non-null  float64\n",
      " 9   natr           413370 non-null  float64\n",
      " 10  rsi            413370 non-null  float64\n",
      " 11  sector         413370 non-null  object \n",
      "dtypes: float64(11), object(1)\n",
      "memory usage: 39.5+ MB\n"
     ]
    }
   ],
   "source": [
    "data.info()"
   ]
  },
  {
   "cell_type": "markdown",
   "metadata": {},
   "source": [
    "## Select 500 most-traded equities"
   ]
  },
  {
   "cell_type": "markdown",
   "metadata": {},
   "source": [
    "Select the 500 most-traded stocks based on a 5-year rolling average of dollar volume."
   ]
  },
  {
   "cell_type": "code",
   "execution_count": 37,
   "metadata": {
    "ExecuteTime": {
     "end_time": "2021-02-23T20:41:01.705623Z",
     "start_time": "2021-02-23T20:40:58.507121Z"
    }
   },
   "outputs": [],
   "source": [
    "data['dollar_volume'] = (data.loc[:, 'dollar_volume']\n",
    "                         .unstack('ticker')\n",
    "                         .rolling(window=5*12, min_periods=12)\n",
    "                         .mean()\n",
    "                         .stack()\n",
    "                         .swaplevel())"
   ]
  },
  {
   "cell_type": "code",
   "execution_count": 38,
   "metadata": {
    "ExecuteTime": {
     "end_time": "2021-02-23T20:41:01.887279Z",
     "start_time": "2021-02-23T20:41:01.740521Z"
    }
   },
   "outputs": [],
   "source": [
    "data['dollar_vol_rank'] = (data\n",
    "                           .groupby('date')\n",
    "                           .dollar_volume\n",
    "                           .rank(ascending=False))\n",
    "\n",
    "data = data[data.dollar_vol_rank < 500].drop(['dollar_volume', 'dollar_vol_rank'], axis=1)"
   ]
  },
  {
   "cell_type": "code",
   "execution_count": 39,
   "metadata": {
    "ExecuteTime": {
     "end_time": "2021-02-23T20:41:01.892527Z",
     "start_time": "2021-02-23T20:41:01.888455Z"
    }
   },
   "outputs": [
    {
     "data": {
      "text/plain": [
       "908"
      ]
     },
     "execution_count": 39,
     "metadata": {},
     "output_type": "execute_result"
    }
   ],
   "source": [
    "len(data.index.unique('ticker'))"
   ]
  },
  {
   "cell_type": "markdown",
   "metadata": {},
   "source": [
    "## Create monthly return series"
   ]
  },
  {
   "cell_type": "markdown",
   "metadata": {},
   "source": [
    "To capture time series dynamics that reflect, for example, momentum patterns, we compute historical returns using the method `.pct_change(n_periods)`, that is, returns over various monthly periods as identified by lags.\n",
    "\n",
    "We then convert the wide result back to long format with the `.stack()` method, use `.pipe()` to apply the `.clip()` method to the resulting `DataFrame`, and winsorize returns at the [1%, 99%] levels; that is, we cap outliers at these percentiles.\n",
    "\n",
    "Finally, we normalize returns using the geometric average. After using `.swaplevel()` to change the order of the `MultiIndex` levels, we obtain compounded monthly returns for six periods ranging from 1 to 12 months:"
   ]
  },
  {
   "cell_type": "code",
   "execution_count": 40,
   "metadata": {
    "ExecuteTime": {
     "end_time": "2021-02-23T20:41:01.905281Z",
     "start_time": "2021-02-23T20:41:01.894367Z"
    }
   },
   "outputs": [],
   "source": [
    "outlier_cutoff = 0.01\n",
    "lags = [1, 3, 6, 12]\n",
    "returns = []"
   ]
  },
  {
   "cell_type": "code",
   "execution_count": 41,
   "metadata": {
    "ExecuteTime": {
     "end_time": "2021-02-23T20:41:07.775321Z",
     "start_time": "2021-02-23T20:41:01.906659Z"
    }
   },
   "outputs": [
    {
     "name": "stdout",
     "output_type": "stream",
     "text": [
      "<class 'pandas.core.frame.DataFrame'>\n",
      "MultiIndex: 202743 entries, ('AAPL', Timestamp('1996-02-29 00:00:00')) to ('UFI', Timestamp('2017-12-31 00:00:00'))\n",
      "Data columns (total 4 columns):\n",
      " #   Column      Non-Null Count   Dtype  \n",
      "---  ------      --------------   -----  \n",
      " 0   return_1m   202743 non-null  float64\n",
      " 1   return_3m   200928 non-null  float64\n",
      " 2   return_6m   198212 non-null  float64\n",
      " 3   return_12m  192810 non-null  float64\n",
      "dtypes: float64(4)\n",
      "memory usage: 7.0+ MB\n"
     ]
    }
   ],
   "source": [
    "for lag in lags:\n",
    "    returns.append(data\n",
    "                   .close\n",
    "                   .unstack('ticker')\n",
    "                   .sort_index()\n",
    "                   .pct_change(lag)\n",
    "                   .stack('ticker')\n",
    "                   .pipe(lambda x: x.clip(lower=x.quantile(outlier_cutoff),\n",
    "                                          upper=x.quantile(1-outlier_cutoff)))\n",
    "                   .add(1)\n",
    "                   .pow(1/lag)\n",
    "                   .sub(1)\n",
    "                   .to_frame(f'return_{lag}m')\n",
    "                   )\n",
    "    \n",
    "returns = pd.concat(returns, axis=1).swaplevel()\n",
    "returns.info(null_counts=True)"
   ]
  },
  {
   "cell_type": "code",
   "execution_count": 42,
   "metadata": {
    "ExecuteTime": {
     "end_time": "2021-02-23T20:41:11.269318Z",
     "start_time": "2021-02-23T20:41:11.221582Z"
    }
   },
   "outputs": [
    {
     "data": {
      "text/html": [
       "<div>\n",
       "<style scoped>\n",
       "    .dataframe tbody tr th:only-of-type {\n",
       "        vertical-align: middle;\n",
       "    }\n",
       "\n",
       "    .dataframe tbody tr th {\n",
       "        vertical-align: top;\n",
       "    }\n",
       "\n",
       "    .dataframe thead th {\n",
       "        text-align: right;\n",
       "    }\n",
       "</style>\n",
       "<table border=\"1\" class=\"dataframe\">\n",
       "  <thead>\n",
       "    <tr style=\"text-align: right;\">\n",
       "      <th></th>\n",
       "      <th>return_1m</th>\n",
       "      <th>return_3m</th>\n",
       "      <th>return_6m</th>\n",
       "      <th>return_12m</th>\n",
       "    </tr>\n",
       "  </thead>\n",
       "  <tbody>\n",
       "    <tr>\n",
       "      <th>count</th>\n",
       "      <td>202743.000000</td>\n",
       "      <td>200928.000000</td>\n",
       "      <td>198212.000000</td>\n",
       "      <td>192810.000000</td>\n",
       "    </tr>\n",
       "    <tr>\n",
       "      <th>mean</th>\n",
       "      <td>0.007409</td>\n",
       "      <td>0.004989</td>\n",
       "      <td>0.004396</td>\n",
       "      <td>0.004252</td>\n",
       "    </tr>\n",
       "    <tr>\n",
       "      <th>std</th>\n",
       "      <td>0.086813</td>\n",
       "      <td>0.051447</td>\n",
       "      <td>0.037601</td>\n",
       "      <td>0.027593</td>\n",
       "    </tr>\n",
       "    <tr>\n",
       "      <th>min</th>\n",
       "      <td>-0.275361</td>\n",
       "      <td>-0.180373</td>\n",
       "      <td>-0.134558</td>\n",
       "      <td>-0.093586</td>\n",
       "    </tr>\n",
       "    <tr>\n",
       "      <th>25%</th>\n",
       "      <td>-0.012020</td>\n",
       "      <td>-0.003324</td>\n",
       "      <td>-0.000614</td>\n",
       "      <td>0.000000</td>\n",
       "    </tr>\n",
       "    <tr>\n",
       "      <th>50%</th>\n",
       "      <td>0.000000</td>\n",
       "      <td>0.000000</td>\n",
       "      <td>0.000000</td>\n",
       "      <td>0.000000</td>\n",
       "    </tr>\n",
       "    <tr>\n",
       "      <th>75%</th>\n",
       "      <td>0.033281</td>\n",
       "      <td>0.023888</td>\n",
       "      <td>0.018990</td>\n",
       "      <td>0.015527</td>\n",
       "    </tr>\n",
       "    <tr>\n",
       "      <th>max</th>\n",
       "      <td>0.334592</td>\n",
       "      <td>0.182711</td>\n",
       "      <td>0.134898</td>\n",
       "      <td>0.103482</td>\n",
       "    </tr>\n",
       "  </tbody>\n",
       "</table>\n",
       "</div>"
      ],
      "text/plain": [
       "           return_1m      return_3m      return_6m     return_12m\n",
       "count  202743.000000  200928.000000  198212.000000  192810.000000\n",
       "mean        0.007409       0.004989       0.004396       0.004252\n",
       "std         0.086813       0.051447       0.037601       0.027593\n",
       "min        -0.275361      -0.180373      -0.134558      -0.093586\n",
       "25%        -0.012020      -0.003324      -0.000614       0.000000\n",
       "50%         0.000000       0.000000       0.000000       0.000000\n",
       "75%         0.033281       0.023888       0.018990       0.015527\n",
       "max         0.334592       0.182711       0.134898       0.103482"
      ]
     },
     "execution_count": 42,
     "metadata": {},
     "output_type": "execute_result"
    }
   ],
   "source": [
    "returns.describe()"
   ]
  },
  {
   "cell_type": "code",
   "execution_count": 43,
   "metadata": {
    "ExecuteTime": {
     "end_time": "2021-02-23T20:41:14.718336Z",
     "start_time": "2021-02-23T20:41:14.046696Z"
    },
    "scrolled": false
   },
   "outputs": [
    {
     "data": {
      "image/png": "[encoded data removed]",
      "text/plain": [
       "<Figure size 720x720 with 4 Axes>"
      ]
     },
     "metadata": {},
     "output_type": "display_data"
    }
   ],
   "source": [
    "cmap = sns.diverging_palette(10, 220, as_cmap=True)\n",
    "sns.clustermap(returns.corr('spearman'), annot=True, center=0, cmap=cmap);"
   ]
  },
  {
   "cell_type": "code",
   "execution_count": 44,
   "metadata": {
    "ExecuteTime": {
     "end_time": "2021-02-23T20:41:18.324087Z",
     "start_time": "2021-02-23T20:41:17.783552Z"
    }
   },
   "outputs": [
    {
     "name": "stdout",
     "output_type": "stream",
     "text": [
      "<class 'pandas.core.frame.DataFrame'>\n",
      "MultiIndex: 121521 entries, ('AAPL', Timestamp('1997-01-31 00:00:00')) to ('UDR', Timestamp('2017-12-31 00:00:00'))\n",
      "Data columns (total 14 columns):\n",
      " #   Column      Non-Null Count   Dtype  \n",
      "---  ------      --------------   -----  \n",
      " 0   atr         121521 non-null  float64\n",
      " 1   bb_down     121521 non-null  float64\n",
      " 2   bb_high     121521 non-null  float64\n",
      " 3   bb_low      121521 non-null  float64\n",
      " 4   bb_mid      121521 non-null  float64\n",
      " 5   bb_up       121521 non-null  float64\n",
      " 6   macd        121521 non-null  float64\n",
      " 7   natr        121521 non-null  float64\n",
      " 8   rsi         121521 non-null  float64\n",
      " 9   sector      121521 non-null  object \n",
      " 10  return_1m   121521 non-null  float64\n",
      " 11  return_3m   121521 non-null  float64\n",
      " 12  return_6m   121521 non-null  float64\n",
      " 13  return_12m  121521 non-null  float64\n",
      "dtypes: float64(13), object(1)\n",
      "memory usage: 13.5+ MB\n"
     ]
    }
   ],
   "source": [
    "data = data.join(returns).drop('close', axis=1).dropna()\n",
    "data.info(null_counts=True)"
   ]
  },
  {
   "cell_type": "code",
   "execution_count": 45,
   "metadata": {
    "ExecuteTime": {
     "end_time": "2021-02-23T20:41:20.013017Z",
     "start_time": "2021-02-23T20:41:18.325557Z"
    }
   },
   "outputs": [],
   "source": [
    "min_obs = 5*12\n",
    "nobs = data.groupby(level='ticker').size()\n",
    "to_drop = nobs[nobs < min_obs].index\n",
    "data = data.drop(to_drop, level='ticker')"
   ]
  },
  {
   "cell_type": "code",
   "execution_count": 46,
   "metadata": {
    "ExecuteTime": {
     "end_time": "2021-02-23T20:41:20.018610Z",
     "start_time": "2021-02-23T20:41:20.014356Z"
    }
   },
   "outputs": [
    {
     "data": {
      "text/plain": [
       "625"
      ]
     },
     "execution_count": 46,
     "metadata": {},
     "output_type": "execute_result"
    }
   ],
   "source": [
    "len(data.index.unique('ticker'))"
   ]
  },
  {
   "cell_type": "markdown",
   "metadata": {},
   "source": [
    "We are left with 613 tickers."
   ]
  },
  {
   "cell_type": "markdown",
   "metadata": {},
   "source": [
    "## Rolling Factor Betas"
   ]
  },
  {
   "cell_type": "markdown",
   "metadata": {},
   "source": [
    "We will introduce the Fama—French data to estimate the exposure of assets to common risk factors using linear regression in [Chapter 8, Time Series Models]([](../../08_time_series_models))."
   ]
  },
  {
   "cell_type": "markdown",
   "metadata": {},
   "source": [
    "The five Fama—French factors, namely market risk, size, value, operating profitability, and investment have been shown empirically to explain asset returns and are commonly used to assess the risk/return profile of portfolios. Hence, it is natural to include past factor exposures as financial features in models that aim to predict future returns."
   ]
  },
  {
   "cell_type": "markdown",
   "metadata": {},
   "source": [
    "We can access the historical factor returns using the `pandas-datareader` and estimate historical exposures using the `PandasRollingOLS` rolling linear regression functionality in the `pyfinance` library as follows:"
   ]
  },
  {
   "cell_type": "markdown",
   "metadata": {},
   "source": [
    "Use Fama-French research factors to estimate the factor exposures of the stock in the dataset to the 5 factors market risk, size, value, operating profitability and investment."
   ]
  },
  {
   "cell_type": "code",
   "execution_count": 47,
   "metadata": {
    "ExecuteTime": {
     "end_time": "2021-02-23T20:42:11.097763Z",
     "start_time": "2021-02-23T20:42:10.880529Z"
    },
    "scrolled": false
   },
   "outputs": [
    {
     "name": "stdout",
     "output_type": "stream",
     "text": [
      "<class 'pandas.core.frame.DataFrame'>\n",
      "DatetimeIndex: 315 entries, 1995-01-31 to 2021-03-31\n",
      "Freq: M\n",
      "Data columns (total 5 columns):\n",
      " #   Column  Non-Null Count  Dtype  \n",
      "---  ------  --------------  -----  \n",
      " 0   Mkt-RF  315 non-null    float64\n",
      " 1   SMB     315 non-null    float64\n",
      " 2   HML     315 non-null    float64\n",
      " 3   RMW     315 non-null    float64\n",
      " 4   CMA     315 non-null    float64\n",
      "dtypes: float64(5)\n",
      "memory usage: 14.8 KB\n"
     ]
    }
   ],
   "source": [
    "factors = ['Mkt-RF', 'SMB', 'HML', 'RMW', 'CMA']\n",
    "factor_data = web.DataReader('F-F_Research_Data_5_Factors_2x3', \n",
    "                             'famafrench', \n",
    "                             start=START)[0].drop('RF', axis=1)\n",
    "factor_data.index = factor_data.index.to_timestamp()\n",
    "factor_data = factor_data.resample('M').last().div(100)\n",
    "factor_data.index.name = 'date'\n",
    "factor_data.info()"
   ]
  },
  {
   "cell_type": "code",
   "execution_count": 48,
   "metadata": {
    "ExecuteTime": {
     "end_time": "2021-02-23T20:42:12.481069Z",
     "start_time": "2021-02-23T20:42:12.417368Z"
    },
    "scrolled": true
   },
   "outputs": [
    {
     "name": "stdout",
     "output_type": "stream",
     "text": [
      "<class 'pandas.core.frame.DataFrame'>\n",
      "MultiIndex: 115557 entries, ('A', Timestamp('2001-12-31 00:00:00', freq='M')) to ('UDR', Timestamp('2017-12-31 00:00:00', freq='M'))\n",
      "Data columns (total 6 columns):\n",
      " #   Column     Non-Null Count   Dtype  \n",
      "---  ------     --------------   -----  \n",
      " 0   Mkt-RF     115557 non-null  float64\n",
      " 1   SMB        115557 non-null  float64\n",
      " 2   HML        115557 non-null  float64\n",
      " 3   RMW        115557 non-null  float64\n",
      " 4   CMA        115557 non-null  float64\n",
      " 5   return_1m  115557 non-null  float64\n",
      "dtypes: float64(6)\n",
      "memory usage: 5.8+ MB\n"
     ]
    }
   ],
   "source": [
    "factor_data = factor_data.join(data['return_1m']).dropna().sort_index()\n",
    "factor_data['return_1m'] -= factor_data['Mkt-RF']\n",
    "factor_data.info()"
   ]
  },
  {
   "cell_type": "code",
   "execution_count": 49,
   "metadata": {
    "ExecuteTime": {
     "end_time": "2021-02-23T20:42:12.761795Z",
     "start_time": "2021-02-23T20:42:12.722981Z"
    }
   },
   "outputs": [
    {
     "data": {
      "text/html": [
       "<div>\n",
       "<style scoped>\n",
       "    .dataframe tbody tr th:only-of-type {\n",
       "        vertical-align: middle;\n",
       "    }\n",
       "\n",
       "    .dataframe tbody tr th {\n",
       "        vertical-align: top;\n",
       "    }\n",
       "\n",
       "    .dataframe thead th {\n",
       "        text-align: right;\n",
       "    }\n",
       "</style>\n",
       "<table border=\"1\" class=\"dataframe\">\n",
       "  <thead>\n",
       "    <tr style=\"text-align: right;\">\n",
       "      <th></th>\n",
       "      <th>Mkt-RF</th>\n",
       "      <th>SMB</th>\n",
       "      <th>HML</th>\n",
       "      <th>RMW</th>\n",
       "      <th>CMA</th>\n",
       "      <th>return_1m</th>\n",
       "    </tr>\n",
       "  </thead>\n",
       "  <tbody>\n",
       "    <tr>\n",
       "      <th>count</th>\n",
       "      <td>115557.000000</td>\n",
       "      <td>115557.000000</td>\n",
       "      <td>115557.000000</td>\n",
       "      <td>115557.000000</td>\n",
       "      <td>115557.000000</td>\n",
       "      <td>115557.000000</td>\n",
       "    </tr>\n",
       "    <tr>\n",
       "      <th>mean</th>\n",
       "      <td>0.006170</td>\n",
       "      <td>0.002271</td>\n",
       "      <td>0.001919</td>\n",
       "      <td>0.003340</td>\n",
       "      <td>0.002420</td>\n",
       "      <td>0.005637</td>\n",
       "    </tr>\n",
       "    <tr>\n",
       "      <th>std</th>\n",
       "      <td>0.044299</td>\n",
       "      <td>0.031504</td>\n",
       "      <td>0.031266</td>\n",
       "      <td>0.029264</td>\n",
       "      <td>0.021485</td>\n",
       "      <td>0.093680</td>\n",
       "    </tr>\n",
       "    <tr>\n",
       "      <th>min</th>\n",
       "      <td>-0.172300</td>\n",
       "      <td>-0.148900</td>\n",
       "      <td>-0.111200</td>\n",
       "      <td>-0.184800</td>\n",
       "      <td>-0.068600</td>\n",
       "      <td>-0.388860</td>\n",
       "    </tr>\n",
       "    <tr>\n",
       "      <th>25%</th>\n",
       "      <td>-0.019700</td>\n",
       "      <td>-0.016900</td>\n",
       "      <td>-0.015100</td>\n",
       "      <td>-0.011600</td>\n",
       "      <td>-0.010600</td>\n",
       "      <td>-0.044413</td>\n",
       "    </tr>\n",
       "    <tr>\n",
       "      <th>50%</th>\n",
       "      <td>0.011700</td>\n",
       "      <td>0.001100</td>\n",
       "      <td>0.000200</td>\n",
       "      <td>0.004200</td>\n",
       "      <td>-0.000200</td>\n",
       "      <td>0.002648</td>\n",
       "    </tr>\n",
       "    <tr>\n",
       "      <th>75%</th>\n",
       "      <td>0.034900</td>\n",
       "      <td>0.022700</td>\n",
       "      <td>0.018000</td>\n",
       "      <td>0.014100</td>\n",
       "      <td>0.014300</td>\n",
       "      <td>0.051400</td>\n",
       "    </tr>\n",
       "    <tr>\n",
       "      <th>max</th>\n",
       "      <td>0.113500</td>\n",
       "      <td>0.180800</td>\n",
       "      <td>0.125800</td>\n",
       "      <td>0.133800</td>\n",
       "      <td>0.095600</td>\n",
       "      <td>0.506892</td>\n",
       "    </tr>\n",
       "  </tbody>\n",
       "</table>\n",
       "</div>"
      ],
      "text/plain": [
       "              Mkt-RF            SMB            HML            RMW  \\\n",
       "count  115557.000000  115557.000000  115557.000000  115557.000000   \n",
       "mean        0.006170       0.002271       0.001919       0.003340   \n",
       "std         0.044299       0.031504       0.031266       0.029264   \n",
       "min        -0.172300      -0.148900      -0.111200      -0.184800   \n",
       "25%        -0.019700      -0.016900      -0.015100      -0.011600   \n",
       "50%         0.011700       0.001100       0.000200       0.004200   \n",
       "75%         0.034900       0.022700       0.018000       0.014100   \n",
       "max         0.113500       0.180800       0.125800       0.133800   \n",
       "\n",
       "                 CMA      return_1m  \n",
       "count  115557.000000  115557.000000  \n",
       "mean        0.002420       0.005637  \n",
       "std         0.021485       0.093680  \n",
       "min        -0.068600      -0.388860  \n",
       "25%        -0.010600      -0.044413  \n",
       "50%        -0.000200       0.002648  \n",
       "75%         0.014300       0.051400  \n",
       "max         0.095600       0.506892  "
      ]
     },
     "execution_count": 49,
     "metadata": {},
     "output_type": "execute_result"
    }
   ],
   "source": [
    "factor_data.describe()"
   ]
  },
  {
   "cell_type": "code",
   "execution_count": 50,
   "metadata": {
    "ExecuteTime": {
     "end_time": "2021-02-23T20:42:17.214895Z",
     "start_time": "2021-02-23T20:42:15.331075Z"
    }
   },
   "outputs": [],
   "source": [
    "T = 60\n",
    "# betas = (factor_data\n",
    "#          .groupby(level='ticker', group_keys=False)\n",
    "#          .apply(lambda x: PandasRollingOLS(window=min(T, x.shape[0]-1), \n",
    "#                                            y=x.return_1m, \n",
    "#                                            x=x.drop('return_1m', axis=1)).beta)\n",
    "#         .rename(columns={'Mkt-RF': 'beta'}))\n",
    "betas = (factor_data.groupby(level='ticker',\n",
    "                             group_keys=False)\n",
    "         .apply(lambda x: RollingOLS(endog=x.return_1m,\n",
    "                                     exog=sm.add_constant(x.drop('return_1m', axis=1)),\n",
    "                                     window=min(T, x.shape[0]-1))\n",
    "                .fit(params_only=True)\n",
    "                .params\n",
    "                .rename(columns={'Mkt-RF': 'beta'})\n",
    "                .drop('const', axis=1)))"
   ]
  },
  {
   "cell_type": "code",
   "execution_count": 51,
   "metadata": {},
   "outputs": [
    {
     "data": {
      "text/html": [
       "<div>\n",
       "<style scoped>\n",
       "    .dataframe tbody tr th:only-of-type {\n",
       "        vertical-align: middle;\n",
       "    }\n",
       "\n",
       "    .dataframe tbody tr th {\n",
       "        vertical-align: top;\n",
       "    }\n",
       "\n",
       "    .dataframe thead th {\n",
       "        text-align: right;\n",
       "    }\n",
       "</style>\n",
       "<table border=\"1\" class=\"dataframe\">\n",
       "  <thead>\n",
       "    <tr style=\"text-align: right;\">\n",
       "      <th></th>\n",
       "      <th>beta</th>\n",
       "      <th>SMB</th>\n",
       "      <th>HML</th>\n",
       "      <th>RMW</th>\n",
       "      <th>CMA</th>\n",
       "      <th>total</th>\n",
       "    </tr>\n",
       "  </thead>\n",
       "  <tbody>\n",
       "    <tr>\n",
       "      <th>count</th>\n",
       "      <td>78685.000000</td>\n",
       "      <td>78685.000000</td>\n",
       "      <td>78685.000000</td>\n",
       "      <td>78685.000000</td>\n",
       "      <td>78685.000000</td>\n",
       "      <td>115557.000000</td>\n",
       "    </tr>\n",
       "    <tr>\n",
       "      <th>mean</th>\n",
       "      <td>0.073027</td>\n",
       "      <td>0.226600</td>\n",
       "      <td>0.105625</td>\n",
       "      <td>-0.003404</td>\n",
       "      <td>-0.007940</td>\n",
       "      <td>0.268220</td>\n",
       "    </tr>\n",
       "    <tr>\n",
       "      <th>std</th>\n",
       "      <td>0.489756</td>\n",
       "      <td>0.603368</td>\n",
       "      <td>0.816141</td>\n",
       "      <td>0.885050</td>\n",
       "      <td>0.987482</td>\n",
       "      <td>1.391089</td>\n",
       "    </tr>\n",
       "    <tr>\n",
       "      <th>min</th>\n",
       "      <td>-1.825339</td>\n",
       "      <td>-1.966124</td>\n",
       "      <td>-4.065352</td>\n",
       "      <td>-4.853710</td>\n",
       "      <td>-5.205895</td>\n",
       "      <td>-9.588326</td>\n",
       "    </tr>\n",
       "    <tr>\n",
       "      <th>25%</th>\n",
       "      <td>-0.257202</td>\n",
       "      <td>-0.180031</td>\n",
       "      <td>-0.415501</td>\n",
       "      <td>-0.489164</td>\n",
       "      <td>-0.555117</td>\n",
       "      <td>-0.106819</td>\n",
       "    </tr>\n",
       "    <tr>\n",
       "      <th>50%</th>\n",
       "      <td>0.049634</td>\n",
       "      <td>0.175815</td>\n",
       "      <td>0.056783</td>\n",
       "      <td>0.056799</td>\n",
       "      <td>0.042451</td>\n",
       "      <td>0.000000</td>\n",
       "    </tr>\n",
       "    <tr>\n",
       "      <th>75%</th>\n",
       "      <td>0.383480</td>\n",
       "      <td>0.583573</td>\n",
       "      <td>0.587879</td>\n",
       "      <td>0.552455</td>\n",
       "      <td>0.591722</td>\n",
       "      <td>0.856285</td>\n",
       "    </tr>\n",
       "    <tr>\n",
       "      <th>max</th>\n",
       "      <td>2.073125</td>\n",
       "      <td>4.498941</td>\n",
       "      <td>4.720304</td>\n",
       "      <td>4.109938</td>\n",
       "      <td>5.286068</td>\n",
       "      <td>10.652487</td>\n",
       "    </tr>\n",
       "  </tbody>\n",
       "</table>\n",
       "</div>"
      ],
      "text/plain": [
       "               beta           SMB           HML           RMW           CMA  \\\n",
       "count  78685.000000  78685.000000  78685.000000  78685.000000  78685.000000   \n",
       "mean       0.073027      0.226600      0.105625     -0.003404     -0.007940   \n",
       "std        0.489756      0.603368      0.816141      0.885050      0.987482   \n",
       "min       -1.825339     -1.966124     -4.065352     -4.853710     -5.205895   \n",
       "25%       -0.257202     -0.180031     -0.415501     -0.489164     -0.555117   \n",
       "50%        0.049634      0.175815      0.056783      0.056799      0.042451   \n",
       "75%        0.383480      0.583573      0.587879      0.552455      0.591722   \n",
       "max        2.073125      4.498941      4.720304      4.109938      5.286068   \n",
       "\n",
       "               total  \n",
       "count  115557.000000  \n",
       "mean        0.268220  \n",
       "std         1.391089  \n",
       "min        -9.588326  \n",
       "25%        -0.106819  \n",
       "50%         0.000000  \n",
       "75%         0.856285  \n",
       "max        10.652487  "
      ]
     },
     "execution_count": 51,
     "metadata": {},
     "output_type": "execute_result"
    }
   ],
   "source": [
    "betas.describe().join(betas.sum(1).describe().to_frame('total'))"
   ]
  },
  {
   "cell_type": "code",
   "execution_count": 52,
   "metadata": {
    "ExecuteTime": {
     "end_time": "2021-02-23T20:42:17.251480Z",
     "start_time": "2021-02-23T20:42:17.216084Z"
    }
   },
   "outputs": [
    {
     "data": {
      "text/html": [
       "<div>\n",
       "<style scoped>\n",
       "    .dataframe tbody tr th:only-of-type {\n",
       "        vertical-align: middle;\n",
       "    }\n",
       "\n",
       "    .dataframe tbody tr th {\n",
       "        vertical-align: top;\n",
       "    }\n",
       "\n",
       "    .dataframe thead th {\n",
       "        text-align: right;\n",
       "    }\n",
       "</style>\n",
       "<table border=\"1\" class=\"dataframe\">\n",
       "  <thead>\n",
       "    <tr style=\"text-align: right;\">\n",
       "      <th></th>\n",
       "      <th>beta</th>\n",
       "      <th>SMB</th>\n",
       "      <th>HML</th>\n",
       "      <th>RMW</th>\n",
       "      <th>CMA</th>\n",
       "      <th>total</th>\n",
       "    </tr>\n",
       "  </thead>\n",
       "  <tbody>\n",
       "    <tr>\n",
       "      <th>count</th>\n",
       "      <td>78685.000000</td>\n",
       "      <td>78685.000000</td>\n",
       "      <td>78685.000000</td>\n",
       "      <td>78685.000000</td>\n",
       "      <td>78685.000000</td>\n",
       "      <td>115557.000000</td>\n",
       "    </tr>\n",
       "    <tr>\n",
       "      <th>mean</th>\n",
       "      <td>0.073027</td>\n",
       "      <td>0.226600</td>\n",
       "      <td>0.105625</td>\n",
       "      <td>-0.003404</td>\n",
       "      <td>-0.007940</td>\n",
       "      <td>0.268220</td>\n",
       "    </tr>\n",
       "    <tr>\n",
       "      <th>std</th>\n",
       "      <td>0.489756</td>\n",
       "      <td>0.603368</td>\n",
       "      <td>0.816141</td>\n",
       "      <td>0.885050</td>\n",
       "      <td>0.987482</td>\n",
       "      <td>1.391089</td>\n",
       "    </tr>\n",
       "    <tr>\n",
       "      <th>min</th>\n",
       "      <td>-1.825339</td>\n",
       "      <td>-1.966124</td>\n",
       "      <td>-4.065352</td>\n",
       "      <td>-4.853710</td>\n",
       "      <td>-5.205895</td>\n",
       "      <td>-9.588326</td>\n",
       "    </tr>\n",
       "    <tr>\n",
       "      <th>25%</th>\n",
       "      <td>-0.257202</td>\n",
       "      <td>-0.180031</td>\n",
       "      <td>-0.415501</td>\n",
       "      <td>-0.489164</td>\n",
       "      <td>-0.555117</td>\n",
       "      <td>-0.106819</td>\n",
       "    </tr>\n",
       "    <tr>\n",
       "      <th>50%</th>\n",
       "      <td>0.049634</td>\n",
       "      <td>0.175815</td>\n",
       "      <td>0.056783</td>\n",
       "      <td>0.056799</td>\n",
       "      <td>0.042451</td>\n",
       "      <td>0.000000</td>\n",
       "    </tr>\n",
       "    <tr>\n",
       "      <th>75%</th>\n",
       "      <td>0.383480</td>\n",
       "      <td>0.583573</td>\n",
       "      <td>0.587879</td>\n",
       "      <td>0.552455</td>\n",
       "      <td>0.591722</td>\n",
       "      <td>0.856285</td>\n",
       "    </tr>\n",
       "    <tr>\n",
       "      <th>max</th>\n",
       "      <td>2.073125</td>\n",
       "      <td>4.498941</td>\n",
       "      <td>4.720304</td>\n",
       "      <td>4.109938</td>\n",
       "      <td>5.286068</td>\n",
       "      <td>10.652487</td>\n",
       "    </tr>\n",
       "  </tbody>\n",
       "</table>\n",
       "</div>"
      ],
      "text/plain": [
       "               beta           SMB           HML           RMW           CMA  \\\n",
       "count  78685.000000  78685.000000  78685.000000  78685.000000  78685.000000   \n",
       "mean       0.073027      0.226600      0.105625     -0.003404     -0.007940   \n",
       "std        0.489756      0.603368      0.816141      0.885050      0.987482   \n",
       "min       -1.825339     -1.966124     -4.065352     -4.853710     -5.205895   \n",
       "25%       -0.257202     -0.180031     -0.415501     -0.489164     -0.555117   \n",
       "50%        0.049634      0.175815      0.056783      0.056799      0.042451   \n",
       "75%        0.383480      0.583573      0.587879      0.552455      0.591722   \n",
       "max        2.073125      4.498941      4.720304      4.109938      5.286068   \n",
       "\n",
       "               total  \n",
       "count  115557.000000  \n",
       "mean        0.268220  \n",
       "std         1.391089  \n",
       "min        -9.588326  \n",
       "25%        -0.106819  \n",
       "50%         0.000000  \n",
       "75%         0.856285  \n",
       "max        10.652487  "
      ]
     },
     "execution_count": 52,
     "metadata": {},
     "output_type": "execute_result"
    }
   ],
   "source": [
    "betas.describe().join(betas.sum(1).describe().to_frame('total'))"
   ]
  },
  {
   "cell_type": "code",
   "execution_count": 53,
   "metadata": {
    "ExecuteTime": {
     "end_time": "2021-02-23T20:42:17.624730Z",
     "start_time": "2021-02-23T20:42:17.252923Z"
    }
   },
   "outputs": [
    {
     "data": {
      "image/png": "[encoded data removed]",
      "text/plain": [
       "<Figure size 720x720 with 4 Axes>"
      ]
     },
     "metadata": {},
     "output_type": "display_data"
    }
   ],
   "source": [
    "cmap = sns.diverging_palette(10, 220, as_cmap=True)\n",
    "sns.clustermap(betas.corr(), annot=True, cmap=cmap, center=0);"
   ]
  },
  {
   "cell_type": "code",
   "execution_count": 54,
   "metadata": {
    "ExecuteTime": {
     "end_time": "2021-02-23T20:42:20.852056Z",
     "start_time": "2021-02-23T20:42:20.613962Z"
    },
    "scrolled": true
   },
   "outputs": [],
   "source": [
    "data = (data\n",
    "        .join(betas\n",
    "              .groupby(level='ticker')\n",
    "              .shift())\n",
    "       .dropna()\n",
    "       .sort_index())"
   ]
  },
  {
   "cell_type": "code",
   "execution_count": 55,
   "metadata": {
    "ExecuteTime": {
     "end_time": "2021-02-23T20:42:21.019345Z",
     "start_time": "2021-02-23T20:42:21.005378Z"
    }
   },
   "outputs": [
    {
     "name": "stdout",
     "output_type": "stream",
     "text": [
      "<class 'pandas.core.frame.DataFrame'>\n",
      "MultiIndex: 78060 entries, ('A', Timestamp('2006-12-31 00:00:00')) to ('UDR', Timestamp('2017-12-31 00:00:00'))\n",
      "Data columns (total 19 columns):\n",
      " #   Column      Non-Null Count  Dtype  \n",
      "---  ------      --------------  -----  \n",
      " 0   atr         78060 non-null  float64\n",
      " 1   bb_down     78060 non-null  float64\n",
      " 2   bb_high     78060 non-null  float64\n",
      " 3   bb_low      78060 non-null  float64\n",
      " 4   bb_mid      78060 non-null  float64\n",
      " 5   bb_up       78060 non-null  float64\n",
      " 6   macd        78060 non-null  float64\n",
      " 7   natr        78060 non-null  float64\n",
      " 8   rsi         78060 non-null  float64\n",
      " 9   sector      78060 non-null  object \n",
      " 10  return_1m   78060 non-null  float64\n",
      " 11  return_3m   78060 non-null  float64\n",
      " 12  return_6m   78060 non-null  float64\n",
      " 13  return_12m  78060 non-null  float64\n",
      " 14  beta        78060 non-null  float64\n",
      " 15  SMB         78060 non-null  float64\n",
      " 16  HML         78060 non-null  float64\n",
      " 17  RMW         78060 non-null  float64\n",
      " 18  CMA         78060 non-null  float64\n",
      "dtypes: float64(18), object(1)\n",
      "memory usage: 11.7+ MB\n"
     ]
    }
   ],
   "source": [
    "data.info()"
   ]
  },
  {
   "cell_type": "markdown",
   "metadata": {},
   "source": [
    "## Momentum factors"
   ]
  },
  {
   "cell_type": "markdown",
   "metadata": {},
   "source": [
    "We can use these results to compute momentum factors based on the difference between returns over longer periods and the most recent monthly return, as well as for the difference between 3 and 12 month returns as follows:"
   ]
  },
  {
   "cell_type": "code",
   "execution_count": 56,
   "metadata": {
    "ExecuteTime": {
     "end_time": "2021-02-23T20:42:23.799079Z",
     "start_time": "2021-02-23T20:42:23.793520Z"
    }
   },
   "outputs": [],
   "source": [
    "for lag in [3, 6, 12]:\n",
    "    data[f'momentum_{lag}'] = data[f'return_{lag}m'].sub(data.return_1m)\n",
    "    if lag > 3:\n",
    "        data[f'momentum_3_{lag}'] = data[f'return_{lag}m'].sub(data.return_3m)    "
   ]
  },
  {
   "cell_type": "markdown",
   "metadata": {},
   "source": [
    "## Date Indicators"
   ]
  },
  {
   "cell_type": "code",
   "execution_count": 57,
   "metadata": {
    "ExecuteTime": {
     "end_time": "2021-02-23T20:42:24.107325Z",
     "start_time": "2021-02-23T20:42:24.092809Z"
    }
   },
   "outputs": [],
   "source": [
    "dates = data.index.get_level_values('date')\n",
    "data['year'] = dates.year\n",
    "data['month'] = dates.month"
   ]
  },
  {
   "cell_type": "markdown",
   "metadata": {},
   "source": [
    "## Target: Holding Period Returns"
   ]
  },
  {
   "cell_type": "markdown",
   "metadata": {},
   "source": [
    "To compute returns for our one-month target holding period, we use the returns computed previously and shift them back to align them with the current financial features."
   ]
  },
  {
   "cell_type": "code",
   "execution_count": 58,
   "metadata": {
    "ExecuteTime": {
     "end_time": "2021-02-23T20:42:26.197129Z",
     "start_time": "2021-02-23T20:42:26.187948Z"
    }
   },
   "outputs": [],
   "source": [
    "data['target'] = data.groupby(level='ticker')[f'return_1m'].shift(-1)"
   ]
  },
  {
   "cell_type": "code",
   "execution_count": 59,
   "metadata": {
    "ExecuteTime": {
     "end_time": "2021-02-23T20:42:26.392027Z",
     "start_time": "2021-02-23T20:42:26.374282Z"
    }
   },
   "outputs": [],
   "source": [
    "data = data.dropna()"
   ]
  },
  {
   "cell_type": "code",
   "execution_count": 60,
   "metadata": {
    "ExecuteTime": {
     "end_time": "2021-02-23T20:42:26.573080Z",
     "start_time": "2021-02-23T20:42:26.548680Z"
    },
    "scrolled": false
   },
   "outputs": [
    {
     "name": "stdout",
     "output_type": "stream",
     "text": [
      "<class 'pandas.core.frame.DataFrame'>\n",
      "MultiIndex: 77435 entries, ('A', Timestamp('2006-12-31 00:00:00')) to ('UDR', Timestamp('2017-11-30 00:00:00'))\n",
      "Data columns (total 27 columns):\n",
      " #   Column         Non-Null Count  Dtype  \n",
      "---  ------         --------------  -----  \n",
      " 0   atr            77435 non-null  float64\n",
      " 1   bb_down        77435 non-null  float64\n",
      " 2   bb_high        77435 non-null  float64\n",
      " 3   bb_low         77435 non-null  float64\n",
      " 4   bb_mid         77435 non-null  float64\n",
      " 5   bb_up          77435 non-null  float64\n",
      " 6   macd           77435 non-null  float64\n",
      " 7   natr           77435 non-null  float64\n",
      " 8   rsi            77435 non-null  float64\n",
      " 9   sector         77435 non-null  object \n",
      " 10  return_1m      77435 non-null  float64\n",
      " 11  return_3m      77435 non-null  float64\n",
      " 12  return_6m      77435 non-null  float64\n",
      " 13  return_12m     77435 non-null  float64\n",
      " 14  beta           77435 non-null  float64\n",
      " 15  SMB            77435 non-null  float64\n",
      " 16  HML            77435 non-null  float64\n",
      " 17  RMW            77435 non-null  float64\n",
      " 18  CMA            77435 non-null  float64\n",
      " 19  momentum_3     77435 non-null  float64\n",
      " 20  momentum_6     77435 non-null  float64\n",
      " 21  momentum_3_6   77435 non-null  float64\n",
      " 22  momentum_12    77435 non-null  float64\n",
      " 23  momentum_3_12  77435 non-null  float64\n",
      " 24  year           77435 non-null  int64  \n",
      " 25  month          77435 non-null  int64  \n",
      " 26  target         77435 non-null  float64\n",
      "dtypes: float64(24), int64(2), object(1)\n",
      "memory usage: 16.3+ MB\n"
     ]
    }
   ],
   "source": [
    "data.sort_index().info(null_counts=True)"
   ]
  },
  {
   "cell_type": "markdown",
   "metadata": {},
   "source": [
    "## Sector Breakdown"
   ]
  },
  {
   "cell_type": "code",
   "execution_count": 61,
   "metadata": {
    "ExecuteTime": {
     "end_time": "2021-02-23T20:42:27.081741Z",
     "start_time": "2021-02-23T20:42:26.879546Z"
    }
   },
   "outputs": [
    {
     "data": {
      "image/png": "[encoded data removed]",
      "text/plain": [
       "<Figure size 432x288 with 1 Axes>"
      ]
     },
     "metadata": {},
     "output_type": "display_data"
    }
   ],
   "source": [
    "ax = data.reset_index().groupby('sector').ticker.nunique().sort_values().plot.barh(title='Sector Breakdown')\n",
    "ax.set_ylabel('')\n",
    "ax.set_xlabel('# Tickers')\n",
    "sns.despine()\n",
    "plt.tight_layout();"
   ]
  },
  {
   "cell_type": "markdown",
   "metadata": {},
   "source": [
    "## Store data"
   ]
  },
  {
   "cell_type": "code",
   "execution_count": 62,
   "metadata": {
    "ExecuteTime": {
     "end_time": "2021-02-23T20:42:30.009591Z",
     "start_time": "2021-02-23T20:42:29.969076Z"
    },
    "scrolled": true
   },
   "outputs": [],
   "source": [
    "with pd.HDFStore('data.h5') as store:\n",
    "    store.put('us/equities/monthly', data)"
   ]
  },
  {
   "cell_type": "markdown",
   "metadata": {},
   "source": [
    "## Evaluate mutual information"
   ]
  },
  {
   "cell_type": "code",
   "execution_count": 63,
   "metadata": {
    "ExecuteTime": {
     "end_time": "2021-02-23T20:42:30.620609Z",
     "start_time": "2021-02-23T20:42:30.607499Z"
    },
    "scrolled": true
   },
   "outputs": [],
   "source": [
    "X = data.drop('target', axis=1)\n",
    "X.sector = pd.factorize(X.sector)[0]"
   ]
  },
  {
   "cell_type": "code",
   "execution_count": null,
   "metadata": {
    "ExecuteTime": {
     "end_time": "2021-02-23T20:42:45.996017Z",
     "start_time": "2021-02-23T20:42:30.768783Z"
    }
   },
   "outputs": [],
   "source": [
    "mi = mutual_info_regression(X=X, y=data.target)"
   ]
  },
  {
   "cell_type": "code",
   "execution_count": null,
   "metadata": {
    "ExecuteTime": {
     "end_time": "2021-02-23T20:42:46.001333Z",
     "start_time": "2021-02-23T20:42:45.997201Z"
    }
   },
   "outputs": [],
   "source": [
    "mi_reg = pd.Series(mi, index=X.columns)\n",
    "mi_reg.nlargest(10)"
   ]
  },
  {
   "cell_type": "code",
   "execution_count": null,
   "metadata": {
    "ExecuteTime": {
     "end_time": "2021-02-23T20:42:56.372539Z",
     "start_time": "2021-02-23T20:42:46.002764Z"
    }
   },
   "outputs": [],
   "source": [
    "mi = mutual_info_classif(X=X, y=(data.target>0).astype(int))"
   ]
  },
  {
   "cell_type": "code",
   "execution_count": null,
   "metadata": {
    "ExecuteTime": {
     "end_time": "2021-02-23T20:42:56.378061Z",
     "start_time": "2021-02-23T20:42:56.373817Z"
    }
   },
   "outputs": [],
   "source": [
    "mi_class = pd.Series(mi, index=X.columns)\n",
    "mi_class.nlargest(10)"
   ]
  },
  {
   "cell_type": "code",
   "execution_count": null,
   "metadata": {
    "ExecuteTime": {
     "end_time": "2021-02-23T20:42:56.402392Z",
     "start_time": "2021-02-23T20:42:56.379294Z"
    }
   },
   "outputs": [],
   "source": [
    "mi = mi_reg.to_frame('Regression').join(mi_class.to_frame('Classification'))"
   ]
  },
  {
   "cell_type": "code",
   "execution_count": null,
   "metadata": {
    "ExecuteTime": {
     "end_time": "2021-02-23T20:42:56.410287Z",
     "start_time": "2021-02-23T20:42:56.403851Z"
    }
   },
   "outputs": [],
   "source": [
    "mi.index = [' '.join(c.upper().split('_')) for c in mi.index]"
   ]
  },
  {
   "cell_type": "code",
   "execution_count": null,
   "metadata": {
    "ExecuteTime": {
     "end_time": "2021-02-23T20:42:56.986502Z",
     "start_time": "2021-02-23T20:42:56.411402Z"
    }
   },
   "outputs": [],
   "source": [
    "fig, axes = plt.subplots(ncols=2, figsize=(12, 4))\n",
    "for i, t in enumerate(['Regression', 'Classification']):\n",
    "    mi[t].nlargest(20).sort_values().plot.barh(title=t, ax=axes[i])\n",
    "    axes[i].set_xlabel('Mutual Information')\n",
    "fig.suptitle('Mutual Information', fontsize=14)\n",
    "sns.despine()\n",
    "fig.tight_layout()\n",
    "fig.subplots_adjust(top=.9)"
   ]
  }
 ],
 "metadata": {
  "kernelspec": {
   "display_name": "Python [conda env:ml4t]",
   "language": "python",
   "name": "conda-env-ml4t-py"
  },
  "language_info": {
   "codemirror_mode": {
    "name": "ipython",
    "version": 3
   },
   "file_extension": ".py",
   "mimetype": "text/x-python",
   "name": "python",
   "nbconvert_exporter": "python",
   "pygments_lexer": "ipython3",
   "version": "3.8.8"
  },
  "toc": {
   "base_numbering": 1,
   "nav_menu": {},
   "number_sections": true,
   "sideBar": true,
   "skip_h1_title": true,
   "title_cell": "Table of Contents",
   "title_sidebar": "Contents",
   "toc_cell": false,
   "toc_position": {
    "height": "calc(100% - 180px)",
    "left": "10px",
    "top": "150px",
    "width": "230.355px"
   },
   "toc_section_display": true,
   "toc_window_display": true
  }
 },
 "nbformat": 4,
 "nbformat_minor": 2
}
