{
 "cells": [
  {
   "cell_type": "markdown",
   "metadata": {},
   "source": [
    "# How to use decision trees to predict equity returns and price moves"
   ]
  },
  {
   "cell_type": "markdown",
   "metadata": {},
   "source": [
    "In this notebook, we illustrate how to use tree-based models to gain insight and make predictions. \n",
    "\n",
    "To demonstrate regression trees we predict returns, and for the classification case, we return to the example of positive and negative asset price moves."
   ]
  },
  {
   "cell_type": "markdown",
   "metadata": {},
   "source": [
    "## Imports & Settings"
   ]
  },
  {
   "cell_type": "code",
   "execution_count": 1,
   "metadata": {
    "ExecuteTime": {
     "end_time": "2021-04-16T00:32:25.352734Z",
     "start_time": "2021-04-16T00:32:25.350697Z"
    }
   },
   "outputs": [],
   "source": [
    "import warnings\n",
    "warnings.filterwarnings('ignore')"
   ]
  },
  {
   "cell_type": "code",
   "execution_count": 2,
   "metadata": {
    "ExecuteTime": {
     "end_time": "2021-04-16T00:32:26.702500Z",
     "start_time": "2021-04-16T00:32:25.552972Z"
    }
   },
   "outputs": [],
   "source": [
    "%matplotlib inline\n",
    "\n",
    "import os, sys\n",
    "from pathlib import Path\n",
    "\n",
    "import numpy as np\n",
    "from scipy.stats import spearmanr\n",
    "import pandas as pd\n",
    "\n",
    "import matplotlib.pyplot as plt\n",
    "from matplotlib.ticker import FuncFormatter\n",
    "from matplotlib import cm\n",
    "import seaborn as sns\n",
    "\n",
    "from sklearn.tree import DecisionTreeClassifier, DecisionTreeRegressor, export_graphviz, _tree\n",
    "from sklearn.linear_model import LinearRegression, LogisticRegression\n",
    "from sklearn.model_selection import train_test_split, GridSearchCV, learning_curve\n",
    "from sklearn.metrics import roc_auc_score, roc_curve, mean_squared_error, make_scorer\n",
    "import graphviz\n",
    "\n",
    "import statsmodels.api as sm"
   ]
  },
  {
   "cell_type": "code",
   "execution_count": 3,
   "metadata": {
    "ExecuteTime": {
     "end_time": "2021-04-16T00:32:26.708683Z",
     "start_time": "2021-04-16T00:32:26.703952Z"
    }
   },
   "outputs": [],
   "source": [
    "sys.path.insert(1, os.path.join(sys.path[0], '..'))\n",
    "from utils import MultipleTimeSeriesCV"
   ]
  },
  {
   "cell_type": "code",
   "execution_count": 4,
   "metadata": {
    "ExecuteTime": {
     "end_time": "2021-04-16T00:32:26.721121Z",
     "start_time": "2021-04-16T00:32:26.709927Z"
    }
   },
   "outputs": [],
   "source": [
    "sns.set_style('white')"
   ]
  },
  {
   "cell_type": "code",
   "execution_count": 5,
   "metadata": {
    "ExecuteTime": {
     "end_time": "2021-04-16T00:32:26.730830Z",
     "start_time": "2021-04-16T00:32:26.722176Z"
    }
   },
   "outputs": [],
   "source": [
    "results_path = Path('results', 'decision_trees')\n",
    "if not results_path.exists():\n",
    "    results_path.mkdir(parents=True)"
   ]
  },
  {
   "cell_type": "markdown",
   "metadata": {},
   "source": [
    "## Load Model Data"
   ]
  },
  {
   "cell_type": "markdown",
   "metadata": {},
   "source": [
    "We use a simplified version of the data set constructed in Chapter 4, Alpha factor research. It consists of daily stock prices provided by Quandl for the 2010-2017 period and various engineered features. The details can be found in the notebook [data_prep](00_data_prep.ipynb) in the GitHub repo for this chapter."
   ]
  },
  {
   "cell_type": "markdown",
   "metadata": {},
   "source": [
    "The decision tree models in this chapter are not equipped to handle missing or categorical variables, so we will apply dummy encoding to the latter after dropping any of the former."
   ]
  },
  {
   "cell_type": "code",
   "execution_count": 6,
   "metadata": {
    "ExecuteTime": {
     "end_time": "2021-04-16T00:32:30.995569Z",
     "start_time": "2021-04-16T00:32:30.805133Z"
    },
    "scrolled": true
   },
   "outputs": [
    {
     "name": "stdout",
     "output_type": "stream",
     "text": [
      "<class 'pandas.core.frame.DataFrame'>\n",
      "MultiIndex: 77435 entries, ('A', Timestamp('2006-12-31 00:00:00')) to ('UDR', Timestamp('2017-11-30 00:00:00'))\n",
      "Data columns (total 27 columns):\n",
      " #   Column         Non-Null Count  Dtype  \n",
      "---  ------         --------------  -----  \n",
      " 0   atr            77435 non-null  float64\n",
      " 1   bb_down        77435 non-null  float64\n",
      " 2   bb_high        77435 non-null  float64\n",
      " 3   bb_low         77435 non-null  float64\n",
      " 4   bb_mid         77435 non-null  float64\n",
      " 5   bb_up          77435 non-null  float64\n",
      " 6   macd           77435 non-null  float64\n",
      " 7   natr           77435 non-null  float64\n",
      " 8   rsi            77435 non-null  float64\n",
      " 9   sector         77435 non-null  object \n",
      " 10  return_1m      77435 non-null  float64\n",
      " 11  return_3m      77435 non-null  float64\n",
      " 12  return_6m      77435 non-null  float64\n",
      " 13  return_12m     77435 non-null  float64\n",
      " 14  beta           77435 non-null  float64\n",
      " 15  SMB            77435 non-null  float64\n",
      " 16  HML            77435 non-null  float64\n",
      " 17  RMW            77435 non-null  float64\n",
      " 18  CMA            77435 non-null  float64\n",
      " 19  momentum_3     77435 non-null  float64\n",
      " 20  momentum_6     77435 non-null  float64\n",
      " 21  momentum_3_6   77435 non-null  float64\n",
      " 22  momentum_12    77435 non-null  float64\n",
      " 23  momentum_3_12  77435 non-null  float64\n",
      " 24  year           77435 non-null  int64  \n",
      " 25  month          77435 non-null  int64  \n",
      " 26  target         77435 non-null  float64\n",
      "dtypes: float64(24), int64(2), object(1)\n",
      "memory usage: 16.3+ MB\n"
     ]
    }
   ],
   "source": [
    "with pd.HDFStore('data.h5') as store:\n",
    "    data = store['us/equities/monthly']\n",
    "data.info()"
   ]
  },
  {
   "cell_type": "markdown",
   "metadata": {},
   "source": [
    "## Simple Regression Tree with Time Series Data"
   ]
  },
  {
   "cell_type": "markdown",
   "metadata": {},
   "source": [
    "Regression trees make predictions based on the mean outcome value for the training samples assigned to a given node and typically rely on the mean-squared error to select optimal rules during recursive binary splitting.\n",
    "\n",
    "Given a training set, the algorithm iterates over the predictors, $X_1, X_2, ..., X_p$, and possible cutpoints, $s_1, s_2, ..., s_N$, to find an optimal combination. The optimal rule splits the feature space into two regions, $\\{X\\mid X_i < s_j\\}$ and $\\{X\\mid X_i > s_j\\}$, with values for the $X_i$ feature either below or above the $s_j$ threshold so that predictions based on the training subsets maximize the reduction of the squared residuals relative to the current node."
   ]
  },
  {
   "cell_type": "markdown",
   "metadata": {},
   "source": [
    "### Generate two lags of monthly returns"
   ]
  },
  {
   "cell_type": "code",
   "execution_count": 7,
   "metadata": {
    "ExecuteTime": {
     "end_time": "2021-04-16T00:32:38.965107Z",
     "start_time": "2021-04-16T00:32:38.942472Z"
    },
    "scrolled": true
   },
   "outputs": [
    {
     "name": "stdout",
     "output_type": "stream",
     "text": [
      "<class 'pandas.core.frame.DataFrame'>\n",
      "MultiIndex: 76816 entries, ('A', Timestamp('2007-01-31 00:00:00')) to ('UDR', Timestamp('2017-11-30 00:00:00'))\n",
      "Data columns (total 3 columns):\n",
      " #   Column  Non-Null Count  Dtype  \n",
      "---  ------  --------------  -----  \n",
      " 0   y       76816 non-null  float64\n",
      " 1   t-1     76816 non-null  float64\n",
      " 2   t-2     76816 non-null  float64\n",
      "dtypes: float64(3)\n",
      "memory usage: 2.1+ MB\n"
     ]
    }
   ],
   "source": [
    "X2 = data.loc[:, ['target', 'return_1m']]\n",
    "X2.columns = ['y', 't-1']\n",
    "X2['t-2'] = data.groupby(level='ticker').return_1m.shift()\n",
    "X2 = X2.dropna()\n",
    "X2.info()"
   ]
  },
  {
   "cell_type": "code",
   "execution_count": 8,
   "metadata": {
    "ExecuteTime": {
     "end_time": "2021-04-16T00:32:38.969598Z",
     "start_time": "2021-04-16T00:32:38.966574Z"
    }
   },
   "outputs": [],
   "source": [
    "y2 = X2.y\n",
    "X2 = X2.drop('y', axis=1)"
   ]
  },
  {
   "cell_type": "markdown",
   "metadata": {},
   "source": [
    "### Explore Data"
   ]
  },
  {
   "cell_type": "markdown",
   "metadata": {},
   "source": [
    "Note the small spike where we clipped the data."
   ]
  },
  {
   "cell_type": "code",
   "execution_count": 9,
   "metadata": {
    "ExecuteTime": {
     "end_time": "2021-04-16T00:32:39.517083Z",
     "start_time": "2021-04-16T00:32:38.970753Z"
    }
   },
   "outputs": [
    {
     "data": {
      "image/png": "[encoded data removed]",
      "text/plain": [
       "<Figure size 432x288 with 1 Axes>"
      ]
     },
     "metadata": {},
     "output_type": "display_data"
    }
   ],
   "source": [
    "sns.distplot(y2)\n",
    "sns.despine();"
   ]
  },
  {
   "cell_type": "markdown",
   "metadata": {},
   "source": [
    "### Configure Tree"
   ]
  },
  {
   "cell_type": "markdown",
   "metadata": {},
   "source": [
    "Let's start with a simplified example to facilitate visualization and only use two months of lagged returns to predict the following month, in the vein of an AR(2) model from the last chapter:"
   ]
  },
  {
   "cell_type": "code",
   "execution_count": 10,
   "metadata": {
    "ExecuteTime": {
     "end_time": "2021-04-16T00:32:39.521903Z",
     "start_time": "2021-04-16T00:32:39.518821Z"
    }
   },
   "outputs": [],
   "source": [
    "reg_tree_t2 = DecisionTreeRegressor(criterion='mse',\n",
    "                                    splitter='best',\n",
    "                                    max_depth=6,\n",
    "                                    min_samples_split=2,\n",
    "                                    min_samples_leaf=50,\n",
    "                                    min_weight_fraction_leaf=0.0,\n",
    "                                    max_features=None,\n",
    "                                    random_state=42,\n",
    "                                    max_leaf_nodes=None,\n",
    "                                    min_impurity_decrease=0.0,\n",
    "                                    min_impurity_split=None)"
   ]
  },
  {
   "cell_type": "markdown",
   "metadata": {},
   "source": [
    "### Train Decision Tree"
   ]
  },
  {
   "cell_type": "code",
   "execution_count": 11,
   "metadata": {
    "ExecuteTime": {
     "end_time": "2021-04-16T00:32:46.840780Z",
     "start_time": "2021-04-16T00:32:39.523207Z"
    }
   },
   "outputs": [
    {
     "name": "stdout",
     "output_type": "stream",
     "text": [
      "89 ms ± 1.65 ms per loop (mean ± std. dev. of 7 runs, 10 loops each)\n"
     ]
    }
   ],
   "source": [
    "%%timeit\n",
    "reg_tree_t2.fit(X=X2, y=y2)"
   ]
  },
  {
   "cell_type": "code",
   "execution_count": 12,
   "metadata": {
    "ExecuteTime": {
     "end_time": "2021-04-16T00:32:46.944042Z",
     "start_time": "2021-04-16T00:32:46.846638Z"
    }
   },
   "outputs": [
    {
     "data": {
      "text/plain": [
       "DecisionTreeRegressor(max_depth=6, min_samples_leaf=50, random_state=42)"
      ]
     },
     "execution_count": 12,
     "metadata": {},
     "output_type": "execute_result"
    }
   ],
   "source": [
    "reg_tree_t2.fit(X=X2, y=y2)"
   ]
  },
  {
   "cell_type": "markdown",
   "metadata": {},
   "source": [
    "### Visualize Tree"
   ]
  },
  {
   "cell_type": "markdown",
   "metadata": {},
   "source": [
    "You can visualize the tree using the graphviz library (see GitHub for installation instructions) because sklearn can output a description of the tree using the .dot language used by that library. \n",
    "\n",
    "You can configure the output to include feature and class labels and limit the number of levels to keep the chart readable, as follows:"
   ]
  },
  {
   "cell_type": "code",
   "execution_count": 13,
   "metadata": {
    "ExecuteTime": {
     "end_time": "2021-04-16T00:32:46.993321Z",
     "start_time": "2021-04-16T00:32:46.945531Z"
    }
   },
   "outputs": [
    {
     "data": {
      "image/svg+xml": [
       "<?xml version=\"1.0\" encoding=\"UTF-8\" standalone=\"no\"?>\r\n",
       "<!DOCTYPE svg PUBLIC \"-//W3C//DTD SVG 1.1//EN\"\r\n",
       " \"http://www.w3.org/Graphics/SVG/1.1/DTD/svg11.dtd\">\r\n",
       "<!-- Generated by graphviz version 2.47.1 (0)\r\n",
       " -->\r\n",
       "<!-- Title: Tree Pages: 1 -->\r\n",
       "<svg width=\"597pt\" height=\"356pt\"\r\n",
       " viewBox=\"0.00 0.00 597.00 356.00\" xmlns=\"http://www.w3.org/2000/svg\" xmlns:xlink=\"http://www.w3.org/1999/xlink\">\r\n",
       "<g id=\"graph0\" class=\"graph\" transform=\"scale(1 1) rotate(0) translate(4 352)\">\r\n",
       "<title>Tree</title>\r\n",
       "<polygon fill=\"white\" stroke=\"transparent\" points=\"-4,4 -4,-352 593,-352 593,4 -4,4\"/>\r\n",
       "<!-- 0 -->\r\n",
       "<g id=\"node1\" class=\"node\">\r\n",
       "<title>0</title>\r\n",
       "<path fill=\"#f2be99\" stroke=\"black\" d=\"M341,-348C341,-348 237,-348 237,-348 231,-348 225,-342 225,-336 225,-336 225,-292 225,-292 225,-286 231,-280 237,-280 237,-280 341,-280 341,-280 347,-280 353,-286 353,-292 353,-292 353,-336 353,-336 353,-342 347,-348 341,-348\"/>\r\n",
       "<text text-anchor=\"start\" x=\"252.5\" y=\"-332.8\" font-family=\"Helvetica,sans-Serif\" font-size=\"14.00\">t&#45;2 ≤ &#45;0.273</text>\r\n",
       "<text text-anchor=\"start\" x=\"248.5\" y=\"-317.8\" font-family=\"Helvetica,sans-Serif\" font-size=\"14.00\">mse = 0.008</text>\r\n",
       "<text text-anchor=\"start\" x=\"233\" y=\"-302.8\" font-family=\"Helvetica,sans-Serif\" font-size=\"14.00\">samples = 76816</text>\r\n",
       "<text text-anchor=\"start\" x=\"250\" y=\"-287.8\" font-family=\"Helvetica,sans-Serif\" font-size=\"14.00\">value = 0.01</text>\r\n",
       "</g>\r\n",
       "<!-- 1 -->\r\n",
       "<g id=\"node2\" class=\"node\">\r\n",
       "<title>1</title>\r\n",
       "<path fill=\"#eda977\" stroke=\"black\" d=\"M263.5,-244C263.5,-244 176.5,-244 176.5,-244 170.5,-244 164.5,-238 164.5,-232 164.5,-232 164.5,-188 164.5,-188 164.5,-182 170.5,-176 176.5,-176 176.5,-176 263.5,-176 263.5,-176 269.5,-176 275.5,-182 275.5,-188 275.5,-188 275.5,-232 275.5,-232 275.5,-238 269.5,-244 263.5,-244\"/>\r\n",
       "<text text-anchor=\"start\" x=\"183.5\" y=\"-228.8\" font-family=\"Helvetica,sans-Serif\" font-size=\"14.00\">t&#45;1 ≤ &#45;0.173</text>\r\n",
       "<text text-anchor=\"start\" x=\"179.5\" y=\"-213.8\" font-family=\"Helvetica,sans-Serif\" font-size=\"14.00\">mse = 0.035</text>\r\n",
       "<text text-anchor=\"start\" x=\"172.5\" y=\"-198.8\" font-family=\"Helvetica,sans-Serif\" font-size=\"14.00\">samples = 662</text>\r\n",
       "<text text-anchor=\"start\" x=\"181\" y=\"-183.8\" font-family=\"Helvetica,sans-Serif\" font-size=\"14.00\">value = 0.04</text>\r\n",
       "</g>\r\n",
       "<!-- 0&#45;&gt;1 -->\r\n",
       "<g id=\"edge1\" class=\"edge\">\r\n",
       "<title>0&#45;&gt;1</title>\r\n",
       "<path fill=\"none\" stroke=\"black\" d=\"M266.6,-279.88C260.75,-271.24 254.38,-261.82 248.27,-252.79\"/>\r\n",
       "<polygon fill=\"black\" stroke=\"black\" points=\"251.03,-250.62 242.53,-244.3 245.23,-254.54 251.03,-250.62\"/>\r\n",
       "<text text-anchor=\"middle\" x=\"237.79\" y=\"-265.15\" font-family=\"Helvetica,sans-Serif\" font-size=\"14.00\">True</text>\r\n",
       "</g>\r\n",
       "<!-- 14 -->\r\n",
       "<g id=\"node9\" class=\"node\">\r\n",
       "<title>14</title>\r\n",
       "<path fill=\"#f2be99\" stroke=\"black\" d=\"M410,-244C410,-244 306,-244 306,-244 300,-244 294,-238 294,-232 294,-232 294,-188 294,-188 294,-182 300,-176 306,-176 306,-176 410,-176 410,-176 416,-176 422,-182 422,-188 422,-188 422,-232 422,-232 422,-238 416,-244 410,-244\"/>\r\n",
       "<text text-anchor=\"start\" x=\"321.5\" y=\"-228.8\" font-family=\"Helvetica,sans-Serif\" font-size=\"14.00\">t&#45;1 ≤ &#45;0.264</text>\r\n",
       "<text text-anchor=\"start\" x=\"317.5\" y=\"-213.8\" font-family=\"Helvetica,sans-Serif\" font-size=\"14.00\">mse = 0.008</text>\r\n",
       "<text text-anchor=\"start\" x=\"302\" y=\"-198.8\" font-family=\"Helvetica,sans-Serif\" font-size=\"14.00\">samples = 76154</text>\r\n",
       "<text text-anchor=\"start\" x=\"319\" y=\"-183.8\" font-family=\"Helvetica,sans-Serif\" font-size=\"14.00\">value = 0.01</text>\r\n",
       "</g>\r\n",
       "<!-- 0&#45;&gt;14 -->\r\n",
       "<g id=\"edge8\" class=\"edge\">\r\n",
       "<title>0&#45;&gt;14</title>\r\n",
       "<path fill=\"none\" stroke=\"black\" d=\"M311.4,-279.88C317.25,-271.24 323.62,-261.82 329.73,-252.79\"/>\r\n",
       "<polygon fill=\"black\" stroke=\"black\" points=\"332.77,-254.54 335.47,-244.3 326.97,-250.62 332.77,-254.54\"/>\r\n",
       "<text text-anchor=\"middle\" x=\"340.21\" y=\"-265.15\" font-family=\"Helvetica,sans-Serif\" font-size=\"14.00\">False</text>\r\n",
       "</g>\r\n",
       "<!-- 2 -->\r\n",
       "<g id=\"node3\" class=\"node\">\r\n",
       "<title>2</title>\r\n",
       "<path fill=\"#e99559\" stroke=\"black\" d=\"M137.5,-140C137.5,-140 50.5,-140 50.5,-140 44.5,-140 38.5,-134 38.5,-128 38.5,-128 38.5,-84 38.5,-84 38.5,-78 44.5,-72 50.5,-72 50.5,-72 137.5,-72 137.5,-72 143.5,-72 149.5,-78 149.5,-84 149.5,-84 149.5,-128 149.5,-128 149.5,-134 143.5,-140 137.5,-140\"/>\r\n",
       "<text text-anchor=\"start\" x=\"57.5\" y=\"-124.8\" font-family=\"Helvetica,sans-Serif\" font-size=\"14.00\">t&#45;1 ≤ &#45;0.257</text>\r\n",
       "<text text-anchor=\"start\" x=\"53.5\" y=\"-109.8\" font-family=\"Helvetica,sans-Serif\" font-size=\"14.00\">mse = 0.041</text>\r\n",
       "<text text-anchor=\"start\" x=\"46.5\" y=\"-94.8\" font-family=\"Helvetica,sans-Serif\" font-size=\"14.00\">samples = 171</text>\r\n",
       "<text text-anchor=\"start\" x=\"51\" y=\"-79.8\" font-family=\"Helvetica,sans-Serif\" font-size=\"14.00\">value = 0.066</text>\r\n",
       "</g>\r\n",
       "<!-- 1&#45;&gt;2 -->\r\n",
       "<g id=\"edge2\" class=\"edge\">\r\n",
       "<title>1&#45;&gt;2</title>\r\n",
       "<path fill=\"none\" stroke=\"black\" d=\"M179.09,-175.88C167.65,-166.62 155.09,-156.45 143.22,-146.85\"/>\r\n",
       "<polygon fill=\"black\" stroke=\"black\" points=\"145.11,-143.87 135.13,-140.3 140.7,-149.31 145.11,-143.87\"/>\r\n",
       "</g>\r\n",
       "<!-- 5 -->\r\n",
       "<g id=\"node6\" class=\"node\">\r\n",
       "<title>5</title>\r\n",
       "<path fill=\"#efaf82\" stroke=\"black\" d=\"M266.5,-140C266.5,-140 179.5,-140 179.5,-140 173.5,-140 167.5,-134 167.5,-128 167.5,-128 167.5,-84 167.5,-84 167.5,-78 173.5,-72 179.5,-72 179.5,-72 266.5,-72 266.5,-72 272.5,-72 278.5,-78 278.5,-84 278.5,-84 278.5,-128 278.5,-128 278.5,-134 272.5,-140 266.5,-140\"/>\r\n",
       "<text text-anchor=\"start\" x=\"188.5\" y=\"-124.8\" font-family=\"Helvetica,sans-Serif\" font-size=\"14.00\">t&#45;1 ≤ 0.229</text>\r\n",
       "<text text-anchor=\"start\" x=\"182.5\" y=\"-109.8\" font-family=\"Helvetica,sans-Serif\" font-size=\"14.00\">mse = 0.033</text>\r\n",
       "<text text-anchor=\"start\" x=\"175.5\" y=\"-94.8\" font-family=\"Helvetica,sans-Serif\" font-size=\"14.00\">samples = 491</text>\r\n",
       "<text text-anchor=\"start\" x=\"180\" y=\"-79.8\" font-family=\"Helvetica,sans-Serif\" font-size=\"14.00\">value = 0.031</text>\r\n",
       "</g>\r\n",
       "<!-- 1&#45;&gt;5 -->\r\n",
       "<g id=\"edge5\" class=\"edge\">\r\n",
       "<title>1&#45;&gt;5</title>\r\n",
       "<path fill=\"none\" stroke=\"black\" d=\"M220.97,-175.88C221.21,-167.78 221.47,-158.98 221.72,-150.47\"/>\r\n",
       "<polygon fill=\"black\" stroke=\"black\" points=\"225.23,-150.4 222.02,-140.3 218.23,-150.19 225.23,-150.4\"/>\r\n",
       "</g>\r\n",
       "<!-- 3 -->\r\n",
       "<g id=\"node4\" class=\"node\">\r\n",
       "<title>3</title>\r\n",
       "<path fill=\"#c0c0c0\" stroke=\"black\" d=\"M42,-36C42,-36 12,-36 12,-36 6,-36 0,-30 0,-24 0,-24 0,-12 0,-12 0,-6 6,0 12,0 12,0 42,0 42,0 48,0 54,-6 54,-12 54,-12 54,-24 54,-24 54,-30 48,-36 42,-36\"/>\r\n",
       "<text text-anchor=\"middle\" x=\"27\" y=\"-14.3\" font-family=\"Helvetica,sans-Serif\" font-size=\"14.00\">(...)</text>\r\n",
       "</g>\r\n",
       "<!-- 2&#45;&gt;3 -->\r\n",
       "<g id=\"edge3\" class=\"edge\">\r\n",
       "<title>2&#45;&gt;3</title>\r\n",
       "<path fill=\"none\" stroke=\"black\" d=\"M68.29,-72C61.13,-62.81 53.47,-52.97 46.71,-44.3\"/>\r\n",
       "<polygon fill=\"black\" stroke=\"black\" points=\"49.47,-42.14 40.56,-36.4 43.94,-46.44 49.47,-42.14\"/>\r\n",
       "</g>\r\n",
       "<!-- 4 -->\r\n",
       "<g id=\"node5\" class=\"node\">\r\n",
       "<title>4</title>\r\n",
       "<path fill=\"#c0c0c0\" stroke=\"black\" d=\"M114,-36C114,-36 84,-36 84,-36 78,-36 72,-30 72,-24 72,-24 72,-12 72,-12 72,-6 78,0 84,0 84,0 114,0 114,0 120,0 126,-6 126,-12 126,-12 126,-24 126,-24 126,-30 120,-36 114,-36\"/>\r\n",
       "<text text-anchor=\"middle\" x=\"99\" y=\"-14.3\" font-family=\"Helvetica,sans-Serif\" font-size=\"14.00\">(...)</text>\r\n",
       "</g>\r\n",
       "<!-- 2&#45;&gt;4 -->\r\n",
       "<g id=\"edge4\" class=\"edge\">\r\n",
       "<title>2&#45;&gt;4</title>\r\n",
       "<path fill=\"none\" stroke=\"black\" d=\"M95.92,-72C96.41,-63.56 96.93,-54.59 97.4,-46.47\"/>\r\n",
       "<polygon fill=\"black\" stroke=\"black\" points=\"100.9,-46.59 97.99,-36.4 93.91,-46.18 100.9,-46.59\"/>\r\n",
       "</g>\r\n",
       "<!-- 6 -->\r\n",
       "<g id=\"node7\" class=\"node\">\r\n",
       "<title>6</title>\r\n",
       "<path fill=\"#c0c0c0\" stroke=\"black\" d=\"M204,-36C204,-36 174,-36 174,-36 168,-36 162,-30 162,-24 162,-24 162,-12 162,-12 162,-6 168,0 174,0 174,0 204,0 204,0 210,0 216,-6 216,-12 216,-12 216,-24 216,-24 216,-30 210,-36 204,-36\"/>\r\n",
       "<text text-anchor=\"middle\" x=\"189\" y=\"-14.3\" font-family=\"Helvetica,sans-Serif\" font-size=\"14.00\">(...)</text>\r\n",
       "</g>\r\n",
       "<!-- 5&#45;&gt;6 -->\r\n",
       "<g id=\"edge6\" class=\"edge\">\r\n",
       "<title>5&#45;&gt;6</title>\r\n",
       "<path fill=\"none\" stroke=\"black\" d=\"M209.95,-72C206.54,-63.38 202.91,-54.19 199.64,-45.92\"/>\r\n",
       "<polygon fill=\"black\" stroke=\"black\" points=\"202.81,-44.42 195.88,-36.4 196.3,-46.99 202.81,-44.42\"/>\r\n",
       "</g>\r\n",
       "<!-- 13 -->\r\n",
       "<g id=\"node8\" class=\"node\">\r\n",
       "<title>13</title>\r\n",
       "<path fill=\"#c0c0c0\" stroke=\"black\" d=\"M276,-36C276,-36 246,-36 246,-36 240,-36 234,-30 234,-24 234,-24 234,-12 234,-12 234,-6 240,0 246,0 246,0 276,0 276,0 282,0 288,-6 288,-12 288,-12 288,-24 288,-24 288,-30 282,-36 276,-36\"/>\r\n",
       "<text text-anchor=\"middle\" x=\"261\" y=\"-14.3\" font-family=\"Helvetica,sans-Serif\" font-size=\"14.00\">(...)</text>\r\n",
       "</g>\r\n",
       "<!-- 5&#45;&gt;13 -->\r\n",
       "<g id=\"edge7\" class=\"edge\">\r\n",
       "<title>5&#45;&gt;13</title>\r\n",
       "<path fill=\"none\" stroke=\"black\" d=\"M237.58,-72C241.43,-63.28 245.54,-53.98 249.22,-45.65\"/>\r\n",
       "<polygon fill=\"black\" stroke=\"black\" points=\"252.47,-46.96 253.31,-36.4 246.07,-44.14 252.47,-46.96\"/>\r\n",
       "</g>\r\n",
       "<!-- 15 -->\r\n",
       "<g id=\"node10\" class=\"node\">\r\n",
       "<title>15</title>\r\n",
       "<path fill=\"#f7d7c0\" stroke=\"black\" d=\"M399.5,-140C399.5,-140 312.5,-140 312.5,-140 306.5,-140 300.5,-134 300.5,-128 300.5,-128 300.5,-84 300.5,-84 300.5,-78 306.5,-72 312.5,-72 312.5,-72 399.5,-72 399.5,-72 405.5,-72 411.5,-78 411.5,-84 411.5,-84 411.5,-128 411.5,-128 411.5,-134 405.5,-140 399.5,-140\"/>\r\n",
       "<text text-anchor=\"start\" x=\"319.5\" y=\"-124.8\" font-family=\"Helvetica,sans-Serif\" font-size=\"14.00\">t&#45;2 ≤ &#45;0.171</text>\r\n",
       "<text text-anchor=\"start\" x=\"315.5\" y=\"-109.8\" font-family=\"Helvetica,sans-Serif\" font-size=\"14.00\">mse = 0.034</text>\r\n",
       "<text text-anchor=\"start\" x=\"308.5\" y=\"-94.8\" font-family=\"Helvetica,sans-Serif\" font-size=\"14.00\">samples = 652</text>\r\n",
       "<text text-anchor=\"start\" x=\"310.5\" y=\"-79.8\" font-family=\"Helvetica,sans-Serif\" font-size=\"14.00\">value = &#45;0.024</text>\r\n",
       "</g>\r\n",
       "<!-- 14&#45;&gt;15 -->\r\n",
       "<g id=\"edge9\" class=\"edge\">\r\n",
       "<title>14&#45;&gt;15</title>\r\n",
       "<path fill=\"none\" stroke=\"black\" d=\"M357.35,-175.88C357.19,-167.78 357.02,-158.98 356.85,-150.47\"/>\r\n",
       "<polygon fill=\"black\" stroke=\"black\" points=\"360.35,-150.23 356.65,-140.3 353.35,-150.37 360.35,-150.23\"/>\r\n",
       "</g>\r\n",
       "<!-- 26 -->\r\n",
       "<g id=\"node13\" class=\"node\">\r\n",
       "<title>26</title>\r\n",
       "<path fill=\"#f2be99\" stroke=\"black\" d=\"M546,-140C546,-140 442,-140 442,-140 436,-140 430,-134 430,-128 430,-128 430,-84 430,-84 430,-78 436,-72 442,-72 442,-72 546,-72 546,-72 552,-72 558,-78 558,-84 558,-84 558,-128 558,-128 558,-134 552,-140 546,-140\"/>\r\n",
       "<text text-anchor=\"start\" x=\"463.5\" y=\"-124.8\" font-family=\"Helvetica,sans-Serif\" font-size=\"14.00\">t&#45;1 ≤ 0.33</text>\r\n",
       "<text text-anchor=\"start\" x=\"453.5\" y=\"-109.8\" font-family=\"Helvetica,sans-Serif\" font-size=\"14.00\">mse = 0.008</text>\r\n",
       "<text text-anchor=\"start\" x=\"438\" y=\"-94.8\" font-family=\"Helvetica,sans-Serif\" font-size=\"14.00\">samples = 75502</text>\r\n",
       "<text text-anchor=\"start\" x=\"455\" y=\"-79.8\" font-family=\"Helvetica,sans-Serif\" font-size=\"14.00\">value = 0.01</text>\r\n",
       "</g>\r\n",
       "<!-- 14&#45;&gt;26 -->\r\n",
       "<g id=\"edge12\" class=\"edge\">\r\n",
       "<title>14&#45;&gt;26</title>\r\n",
       "<path fill=\"none\" stroke=\"black\" d=\"M402.16,-175.88C414.63,-166.53 428.32,-156.26 441.24,-146.57\"/>\r\n",
       "<polygon fill=\"black\" stroke=\"black\" points=\"443.7,-149.1 449.6,-140.3 439.5,-143.5 443.7,-149.1\"/>\r\n",
       "</g>\r\n",
       "<!-- 16 -->\r\n",
       "<g id=\"node11\" class=\"node\">\r\n",
       "<title>16</title>\r\n",
       "<path fill=\"#c0c0c0\" stroke=\"black\" d=\"M357,-36C357,-36 327,-36 327,-36 321,-36 315,-30 315,-24 315,-24 315,-12 315,-12 315,-6 321,0 327,0 327,0 357,0 357,0 363,0 369,-6 369,-12 369,-12 369,-24 369,-24 369,-30 363,-36 357,-36\"/>\r\n",
       "<text text-anchor=\"middle\" x=\"342\" y=\"-14.3\" font-family=\"Helvetica,sans-Serif\" font-size=\"14.00\">(...)</text>\r\n",
       "</g>\r\n",
       "<!-- 15&#45;&gt;16 -->\r\n",
       "<g id=\"edge10\" class=\"edge\">\r\n",
       "<title>15&#45;&gt;16</title>\r\n",
       "<path fill=\"none\" stroke=\"black\" d=\"M350.63,-72C349.25,-63.56 347.79,-54.59 346.47,-46.47\"/>\r\n",
       "<polygon fill=\"black\" stroke=\"black\" points=\"349.89,-45.71 344.83,-36.4 342.99,-46.84 349.89,-45.71\"/>\r\n",
       "</g>\r\n",
       "<!-- 19 -->\r\n",
       "<g id=\"node12\" class=\"node\">\r\n",
       "<title>19</title>\r\n",
       "<path fill=\"#c0c0c0\" stroke=\"black\" d=\"M429,-36C429,-36 399,-36 399,-36 393,-36 387,-30 387,-24 387,-24 387,-12 387,-12 387,-6 393,0 399,0 399,0 429,0 429,0 435,0 441,-6 441,-12 441,-12 441,-24 441,-24 441,-30 435,-36 429,-36\"/>\r\n",
       "<text text-anchor=\"middle\" x=\"414\" y=\"-14.3\" font-family=\"Helvetica,sans-Serif\" font-size=\"14.00\">(...)</text>\r\n",
       "</g>\r\n",
       "<!-- 15&#45;&gt;19 -->\r\n",
       "<g id=\"edge11\" class=\"edge\">\r\n",
       "<title>15&#45;&gt;19</title>\r\n",
       "<path fill=\"none\" stroke=\"black\" d=\"M378.26,-72C384.33,-63 390.82,-53.38 396.57,-44.84\"/>\r\n",
       "<polygon fill=\"black\" stroke=\"black\" points=\"399.57,-46.65 402.26,-36.4 393.77,-42.74 399.57,-46.65\"/>\r\n",
       "</g>\r\n",
       "<!-- 27 -->\r\n",
       "<g id=\"node14\" class=\"node\">\r\n",
       "<title>27</title>\r\n",
       "<path fill=\"#c0c0c0\" stroke=\"black\" d=\"M505,-36C505,-36 475,-36 475,-36 469,-36 463,-30 463,-24 463,-24 463,-12 463,-12 463,-6 469,0 475,0 475,0 505,0 505,0 511,0 517,-6 517,-12 517,-12 517,-24 517,-24 517,-30 511,-36 505,-36\"/>\r\n",
       "<text text-anchor=\"middle\" x=\"490\" y=\"-14.3\" font-family=\"Helvetica,sans-Serif\" font-size=\"14.00\">(...)</text>\r\n",
       "</g>\r\n",
       "<!-- 26&#45;&gt;27 -->\r\n",
       "<g id=\"edge13\" class=\"edge\">\r\n",
       "<title>26&#45;&gt;27</title>\r\n",
       "<path fill=\"none\" stroke=\"black\" d=\"M492.46,-72C492.07,-63.56 491.66,-54.59 491.28,-46.47\"/>\r\n",
       "<polygon fill=\"black\" stroke=\"black\" points=\"494.77,-46.23 490.81,-36.4 487.78,-46.56 494.77,-46.23\"/>\r\n",
       "</g>\r\n",
       "<!-- 40 -->\r\n",
       "<g id=\"node15\" class=\"node\">\r\n",
       "<title>40</title>\r\n",
       "<path fill=\"#c0c0c0\" stroke=\"black\" d=\"M577,-36C577,-36 547,-36 547,-36 541,-36 535,-30 535,-24 535,-24 535,-12 535,-12 535,-6 541,0 547,0 547,0 577,0 577,0 583,0 589,-6 589,-12 589,-12 589,-24 589,-24 589,-30 583,-36 577,-36\"/>\r\n",
       "<text text-anchor=\"middle\" x=\"562\" y=\"-14.3\" font-family=\"Helvetica,sans-Serif\" font-size=\"14.00\">(...)</text>\r\n",
       "</g>\r\n",
       "<!-- 26&#45;&gt;40 -->\r\n",
       "<g id=\"edge14\" class=\"edge\">\r\n",
       "<title>26&#45;&gt;40</title>\r\n",
       "<path fill=\"none\" stroke=\"black\" d=\"M520.1,-72C527.36,-62.81 535.14,-52.97 541.99,-44.3\"/>\r\n",
       "<polygon fill=\"black\" stroke=\"black\" points=\"544.78,-46.42 548.24,-36.4 539.29,-42.08 544.78,-46.42\"/>\r\n",
       "</g>\r\n",
       "</g>\r\n",
       "</svg>\r\n"
      ],
      "text/plain": [
       "<graphviz.files.Source at 0x23505dc65e0>"
      ]
     },
     "execution_count": 13,
     "metadata": {},
     "output_type": "execute_result"
    }
   ],
   "source": [
    "out_file = results_path / 'reg_tree_t2.dot'\n",
    "dot_data = export_graphviz(reg_tree_t2,\n",
    "                          out_file=out_file.as_posix(),\n",
    "                          feature_names=X2.columns,\n",
    "                          max_depth=2,\n",
    "                          filled=True,\n",
    "                          rounded=True,\n",
    "                          special_characters=True)\n",
    "if out_file is not None:\n",
    "    dot_data = Path(out_file).read_text()\n",
    "\n",
    "graphviz.Source(dot_data)"
   ]
  },
  {
   "cell_type": "markdown",
   "metadata": {},
   "source": [
    "### Compare with Linear Regression"
   ]
  },
  {
   "cell_type": "markdown",
   "metadata": {},
   "source": [
    "The OLS summary below and a visualization of the first two levels of the decision tree above reveal the striking differences between the models. The OLS model provides three parameters for the intercepts and the two features in line with the linear assumption.\n",
    "\n",
    "In contrast, the regression tree chart above displays for each node of the first two levels the feature and threshold used to split the data (note that features can be used repeatedly), as well as the current value of the mean-squared error (MSE), the number of samples, and predicted value based on these training samples."
   ]
  },
  {
   "cell_type": "markdown",
   "metadata": {},
   "source": [
    "The tree chart also highlights the uneven distribution of samples across the nodes as the numbers vary between 31,000 and 65,000 samples after only two splits."
   ]
  },
  {
   "cell_type": "markdown",
   "metadata": {},
   "source": [
    "#### statsmodels OLS"
   ]
  },
  {
   "cell_type": "code",
   "execution_count": 14,
   "metadata": {
    "ExecuteTime": {
     "end_time": "2021-04-16T00:32:47.020618Z",
     "start_time": "2021-04-16T00:32:46.994715Z"
    },
    "scrolled": true
   },
   "outputs": [],
   "source": [
    "ols_model = sm.OLS(endog=y2, exog=sm.add_constant(X2))"
   ]
  },
  {
   "cell_type": "code",
   "execution_count": 15,
   "metadata": {
    "ExecuteTime": {
     "end_time": "2021-04-16T00:32:50.247927Z",
     "start_time": "2021-04-16T00:32:47.021772Z"
    }
   },
   "outputs": [
    {
     "name": "stdout",
     "output_type": "stream",
     "text": [
      "24.4 µs ± 1.4 µs per loop (mean ± std. dev. of 7 runs, 10000 loops each)\n"
     ]
    }
   ],
   "source": [
    "%%timeit\n",
    "ols_model.fit()"
   ]
  },
  {
   "cell_type": "code",
   "execution_count": 16,
   "metadata": {
    "ExecuteTime": {
     "end_time": "2021-04-16T00:32:50.306911Z",
     "start_time": "2021-04-16T00:32:50.249060Z"
    }
   },
   "outputs": [
    {
     "name": "stdout",
     "output_type": "stream",
     "text": [
      "                            OLS Regression Results                            \n",
      "==============================================================================\n",
      "Dep. Variable:                      y   R-squared:                       0.001\n",
      "Model:                            OLS   Adj. R-squared:                  0.001\n",
      "Method:                 Least Squares   F-statistic:                     20.82\n",
      "Date:                Sun, 09 May 2021   Prob (F-statistic):           9.09e-10\n",
      "Time:                        15:45:55   Log-Likelihood:                 74867.\n",
      "No. Observations:               76816   AIC:                        -1.497e+05\n",
      "Df Residuals:                   76813   BIC:                        -1.497e+05\n",
      "Df Model:                           2                                         \n",
      "Covariance Type:            nonrobust                                         \n",
      "==============================================================================\n",
      "                 coef    std err          t      P>|t|      [0.025      0.975]\n",
      "------------------------------------------------------------------------------\n",
      "const          0.0101      0.000     30.415      0.000       0.009       0.011\n",
      "t-1            0.0185      0.004      5.139      0.000       0.011       0.026\n",
      "t-2           -0.0144      0.004     -3.995      0.000      -0.021      -0.007\n",
      "==============================================================================\n",
      "Omnibus:                     3367.729   Durbin-Watson:                   1.995\n",
      "Prob(Omnibus):                  0.000   Jarque-Bera (JB):            10819.261\n",
      "Skew:                           0.116   Prob(JB):                         0.00\n",
      "Kurtosis:                       4.824   Cond. No.                         11.0\n",
      "==============================================================================\n",
      "\n",
      "Notes:\n",
      "[1] Standard Errors assume that the covariance matrix of the errors is correctly specified.\n"
     ]
    }
   ],
   "source": [
    "result = ols_model.fit()\n",
    "print(result.summary())"
   ]
  },
  {
   "cell_type": "markdown",
   "metadata": {},
   "source": [
    "#### sklearn Linear Regression"
   ]
  },
  {
   "cell_type": "code",
   "execution_count": 17,
   "metadata": {
    "ExecuteTime": {
     "end_time": "2021-04-16T00:32:50.311548Z",
     "start_time": "2021-04-16T00:32:50.309603Z"
    }
   },
   "outputs": [],
   "source": [
    "lin_reg = LinearRegression()"
   ]
  },
  {
   "cell_type": "code",
   "execution_count": 18,
   "metadata": {
    "ExecuteTime": {
     "end_time": "2021-04-16T00:32:52.560013Z",
     "start_time": "2021-04-16T00:32:50.312750Z"
    }
   },
   "outputs": [
    {
     "name": "stdout",
     "output_type": "stream",
     "text": [
      "3.17 ms ± 148 µs per loop (mean ± std. dev. of 7 runs, 100 loops each)\n"
     ]
    }
   ],
   "source": [
    "%%timeit\n",
    "lin_reg.fit(X=X2,y=y2)"
   ]
  },
  {
   "cell_type": "code",
   "execution_count": 19,
   "metadata": {
    "ExecuteTime": {
     "end_time": "2021-04-16T00:32:52.647179Z",
     "start_time": "2021-04-16T00:32:52.560943Z"
    }
   },
   "outputs": [
    {
     "data": {
      "text/plain": [
       "LinearRegression()"
      ]
     },
     "execution_count": 19,
     "metadata": {},
     "output_type": "execute_result"
    }
   ],
   "source": [
    "lin_reg.fit(X=X2,y=y2)"
   ]
  },
  {
   "cell_type": "code",
   "execution_count": 20,
   "metadata": {
    "ExecuteTime": {
     "end_time": "2021-04-16T00:32:52.651998Z",
     "start_time": "2021-04-16T00:32:52.648519Z"
    }
   },
   "outputs": [
    {
     "data": {
      "text/plain": [
       "0.010137655715136749"
      ]
     },
     "execution_count": 20,
     "metadata": {},
     "output_type": "execute_result"
    }
   ],
   "source": [
    "lin_reg.intercept_"
   ]
  },
  {
   "cell_type": "code",
   "execution_count": 21,
   "metadata": {
    "ExecuteTime": {
     "end_time": "2021-04-16T00:32:52.681349Z",
     "start_time": "2021-04-16T00:32:52.653554Z"
    }
   },
   "outputs": [
    {
     "data": {
      "text/plain": [
       "array([ 0.01849832, -0.01437798])"
      ]
     },
     "execution_count": 21,
     "metadata": {},
     "output_type": "execute_result"
    }
   ],
   "source": [
    "lin_reg.coef_"
   ]
  },
  {
   "cell_type": "markdown",
   "metadata": {},
   "source": [
    "### Linear Regression vs Regression Tree Decision Surfaces"
   ]
  },
  {
   "cell_type": "markdown",
   "metadata": {},
   "source": [
    "To further illustrate the different assumptions about the functional form of the relationships between the input variables and the output, we can visualize current return predictions as a function of the feature space, that is, as a function of the range of values for the lagged returns. The following figure shows the current period return as a function of returns one and two periods ago for linear regression and the regression tree:\n",
    "\n",
    "The linear-regression model result on the right side underlines the linearity of the relationship between lagged and current returns, whereas the regression tree chart on the left illustrates the non-linear relationship encoded in the recursive partitioning of the feature space."
   ]
  },
  {
   "cell_type": "code",
   "execution_count": 22,
   "metadata": {
    "ExecuteTime": {
     "end_time": "2021-04-16T00:32:52.741131Z",
     "start_time": "2021-04-16T00:32:52.716930Z"
    }
   },
   "outputs": [],
   "source": [
    "t1, t2 = np.meshgrid(np.linspace(X2['t-1'].quantile(.01), X2['t-1'].quantile(.99), 100),\n",
    "                     np.linspace(X2['t-2'].quantile(.01), X2['t-2'].quantile(.99), 100))\n",
    "X_data = np.c_[t1.ravel(), t2.ravel()]"
   ]
  },
  {
   "cell_type": "code",
   "execution_count": 23,
   "metadata": {
    "ExecuteTime": {
     "end_time": "2021-04-16T00:32:53.406640Z",
     "start_time": "2021-04-16T00:32:52.742829Z"
    },
    "scrolled": false
   },
   "outputs": [
    {
     "data": {
      "image/png": "[encoded data removed]",
      "text/plain": [
       "<Figure size 864x360 with 4 Axes>"
      ]
     },
     "metadata": {},
     "output_type": "display_data"
    }
   ],
   "source": [
    "fig, axes = plt.subplots(ncols=2, figsize=(12,5))\n",
    "\n",
    "# Linear Regression\n",
    "ret1 = lin_reg.predict(X_data).reshape(t1.shape)\n",
    "surface1 = axes[0].contourf(t1, t2, ret1, cmap='Blues')\n",
    "plt.colorbar(mappable=surface1, ax=axes[0])\n",
    "\n",
    "# Regression Tree\n",
    "ret2 = reg_tree_t2.predict(X_data).reshape(t1.shape)\n",
    "surface2 = axes[1].contourf(t1, t2, ret2, cmap='Blues')\n",
    "plt.colorbar(mappable=surface2, ax=axes[1])\n",
    "\n",
    "# Format plots\n",
    "titles = ['Linear Regression', 'Regression Tree']\n",
    "for i, ax in enumerate(axes):\n",
    "    ax.set_xlabel('t-1')\n",
    "    ax.set_ylabel('t-2')\n",
    "    ax.set_title(titles[i])\n",
    "\n",
    "fig.suptitle('Decision Surfaces', fontsize=14)\n",
    "sns.despine()\n",
    "fig.tight_layout()\n",
    "fig.subplots_adjust(top=.9);"
   ]
  },
  {
   "cell_type": "markdown",
   "metadata": {},
   "source": [
    "## Simple Classification Tree with Time Series Data"
   ]
  },
  {
   "cell_type": "markdown",
   "metadata": {},
   "source": [
    "A classification tree works just like the regression version, except that categorical nature of the outcome requires a different approach to making predictions and measuring the loss. While a regression tree predicts the response for an observation assigned to a leaf node using the mean outcome of the associated training samples, a classification tree instead uses the mode, that is, the most common class among the training samples in the relevant region. A classification tree can also generate probabilistic predictions based on relative class frequencies."
   ]
  },
  {
   "cell_type": "markdown",
   "metadata": {},
   "source": [
    "### Loss Functions"
   ]
  },
  {
   "cell_type": "markdown",
   "metadata": {},
   "source": [
    "When growing a classification tree, we also use recursive binary splitting but, instead of evaluating the quality of a decision rule using the reduction of the mean-squared error, we can use the classification error rate, which is simply the fraction of the training samples in a given (leave) node that do not belong to the most common class."
   ]
  },
  {
   "cell_type": "markdown",
   "metadata": {},
   "source": [
    "However, the alternative measures, Gini Index or Cross-Entropy, are preferred because they are more sensitive to node purity than the classification error rate. Node purity refers to the extent of the preponderance of a single class in a node. A node that only contains samples with outcomes belonging to a single class is pure and imply successful classification for this particular region of the feature space. "
   ]
  },
  {
   "cell_type": "code",
   "execution_count": 24,
   "metadata": {
    "ExecuteTime": {
     "end_time": "2021-04-16T00:32:53.411641Z",
     "start_time": "2021-04-16T00:32:53.409446Z"
    }
   },
   "outputs": [],
   "source": [
    "def entropy(f):\n",
    "    return (-f*np.log2(f) - (1-f)*np.log2(1-f))/2"
   ]
  },
  {
   "cell_type": "code",
   "execution_count": 25,
   "metadata": {
    "ExecuteTime": {
     "end_time": "2021-04-16T00:32:53.426940Z",
     "start_time": "2021-04-16T00:32:53.414041Z"
    }
   },
   "outputs": [],
   "source": [
    "def gini(f):\n",
    "    return 2*f*(1-f)"
   ]
  },
  {
   "cell_type": "code",
   "execution_count": 26,
   "metadata": {
    "ExecuteTime": {
     "end_time": "2021-04-16T00:32:53.447019Z",
     "start_time": "2021-04-16T00:32:53.443818Z"
    }
   },
   "outputs": [],
   "source": [
    "def misclassification_rate(f):\n",
    "    return np.where(f<=.5, f, 1-f)"
   ]
  },
  {
   "cell_type": "markdown",
   "metadata": {},
   "source": [
    "Both the Gini Impurity and the Cross-Entropy measure take on smaller values when the class proportions approach zero or one, that is, when the child nodes become pure as a result of the split and are highest when the class proportions are even or 0.5 in the binary case. \n",
    "\n",
    "The chart below visualizes the values assumed by these two measures and the misclassification error rates across the [0, 1] interval of proportions."
   ]
  },
  {
   "cell_type": "code",
   "execution_count": 27,
   "metadata": {
    "ExecuteTime": {
     "end_time": "2021-04-16T00:32:53.721436Z",
     "start_time": "2021-04-16T00:32:53.452115Z"
    }
   },
   "outputs": [
    {
     "data": {
      "image/png": "[encoded data removed]",
      "text/plain": [
       "<Figure size 432x288 with 1 Axes>"
      ]
     },
     "metadata": {},
     "output_type": "display_data"
    }
   ],
   "source": [
    "x = np.linspace(0, 1, 10000)\n",
    "(pd.DataFrame({'Gini': gini(x), \n",
    "              'Entropy': entropy(x),\n",
    "             'Misclassification Rate': misclassification_rate(x)}, index=x)\n",
    " .plot(title='Classification Loss Functions', lw=2, style=['-', '--', ':']))\n",
    "sns.despine()\n",
    "plt.tight_layout();"
   ]
  },
  {
   "cell_type": "markdown",
   "metadata": {},
   "source": [
    "#### Compare computation time"
   ]
  },
  {
   "cell_type": "markdown",
   "metadata": {},
   "source": [
    "Gini is often preferred over entropy because it computes faster:"
   ]
  },
  {
   "cell_type": "code",
   "execution_count": 28,
   "metadata": {
    "ExecuteTime": {
     "end_time": "2021-04-16T00:33:08.588281Z",
     "start_time": "2021-04-16T00:32:53.723873Z"
    }
   },
   "outputs": [
    {
     "name": "stdout",
     "output_type": "stream",
     "text": [
      "16.3 µs ± 568 ns per loop (mean ± std. dev. of 7 runs, 100000 loops each)\n"
     ]
    }
   ],
   "source": [
    "%%timeit\n",
    "misclassification_rate(x)"
   ]
  },
  {
   "cell_type": "code",
   "execution_count": 29,
   "metadata": {
    "ExecuteTime": {
     "end_time": "2021-04-16T00:33:18.035051Z",
     "start_time": "2021-04-16T00:33:08.589304Z"
    }
   },
   "outputs": [
    {
     "name": "stdout",
     "output_type": "stream",
     "text": [
      "11.8 µs ± 309 ns per loop (mean ± std. dev. of 7 runs, 100000 loops each)\n"
     ]
    }
   ],
   "source": [
    "%%timeit\n",
    "gini(x)"
   ]
  },
  {
   "cell_type": "code",
   "execution_count": 30,
   "metadata": {
    "ExecuteTime": {
     "end_time": "2021-04-16T00:33:19.423307Z",
     "start_time": "2021-04-16T00:33:18.036362Z"
    }
   },
   "outputs": [
    {
     "name": "stdout",
     "output_type": "stream",
     "text": [
      "209 µs ± 4.69 µs per loop (mean ± std. dev. of 7 runs, 10000 loops each)\n"
     ]
    }
   ],
   "source": [
    "%%timeit\n",
    "entropy(x)"
   ]
  },
  {
   "cell_type": "markdown",
   "metadata": {},
   "source": [
    "### Configure Tree"
   ]
  },
  {
   "cell_type": "code",
   "execution_count": 31,
   "metadata": {
    "ExecuteTime": {
     "end_time": "2021-04-16T00:33:19.427483Z",
     "start_time": "2021-04-16T00:33:19.424763Z"
    }
   },
   "outputs": [],
   "source": [
    "clf_tree_t2 = DecisionTreeClassifier(criterion='gini',\n",
    "                                     splitter='best',\n",
    "                                     max_depth=5,\n",
    "                                     min_samples_split=1000,\n",
    "                                     min_samples_leaf=1,\n",
    "                                     min_weight_fraction_leaf=0.0,\n",
    "                                     max_features=None,\n",
    "                                     random_state=42,\n",
    "                                     max_leaf_nodes=None,\n",
    "                                     min_impurity_decrease=0.0,\n",
    "                                     min_impurity_split=None,\n",
    "                                     class_weight=None)"
   ]
  },
  {
   "cell_type": "markdown",
   "metadata": {},
   "source": [
    "### Train Tree"
   ]
  },
  {
   "cell_type": "code",
   "execution_count": 32,
   "metadata": {
    "ExecuteTime": {
     "end_time": "2021-04-16T00:33:19.460489Z",
     "start_time": "2021-04-16T00:33:19.428704Z"
    }
   },
   "outputs": [
    {
     "data": {
      "text/plain": [
       "1    43198\n",
       "0    33618\n",
       "Name: y, dtype: int64"
      ]
     },
     "execution_count": 32,
     "metadata": {},
     "output_type": "execute_result"
    }
   ],
   "source": [
    "y_binary = (y2>0).astype(int)\n",
    "y_binary.value_counts()"
   ]
  },
  {
   "cell_type": "code",
   "execution_count": 33,
   "metadata": {
    "ExecuteTime": {
     "end_time": "2021-04-16T00:33:26.269743Z",
     "start_time": "2021-04-16T00:33:19.461996Z"
    },
    "scrolled": true
   },
   "outputs": [
    {
     "name": "stdout",
     "output_type": "stream",
     "text": [
      "72.4 ms ± 1.11 ms per loop (mean ± std. dev. of 7 runs, 10 loops each)\n"
     ]
    }
   ],
   "source": [
    "%%timeit\n",
    "clf_tree_t2.fit(X=X2, y=y_binary)"
   ]
  },
  {
   "cell_type": "code",
   "execution_count": 34,
   "metadata": {
    "ExecuteTime": {
     "end_time": "2021-04-16T00:33:26.363009Z",
     "start_time": "2021-04-16T00:33:26.270887Z"
    }
   },
   "outputs": [
    {
     "data": {
      "text/plain": [
       "DecisionTreeClassifier(max_depth=5, min_samples_split=1000, random_state=42)"
      ]
     },
     "execution_count": 34,
     "metadata": {},
     "output_type": "execute_result"
    }
   ],
   "source": [
    "clf_tree_t2.fit(X=X2, y=y_binary)"
   ]
  },
  {
   "cell_type": "markdown",
   "metadata": {},
   "source": [
    "### Visualize Tree"
   ]
  },
  {
   "cell_type": "code",
   "execution_count": 35,
   "metadata": {
    "ExecuteTime": {
     "end_time": "2021-04-16T00:33:26.404932Z",
     "start_time": "2021-04-16T00:33:26.363983Z"
    }
   },
   "outputs": [
    {
     "data": {
      "image/svg+xml": [
       "<?xml version=\"1.0\" encoding=\"UTF-8\" standalone=\"no\"?>\r\n",
       "<!DOCTYPE svg PUBLIC \"-//W3C//DTD SVG 1.1//EN\"\r\n",
       " \"http://www.w3.org/Graphics/SVG/1.1/DTD/svg11.dtd\">\r\n",
       "<!-- Generated by graphviz version 2.47.1 (0)\r\n",
       " -->\r\n",
       "<!-- Title: Tree Pages: 1 -->\r\n",
       "<svg width=\"648pt\" height=\"401pt\"\r\n",
       " viewBox=\"0.00 0.00 648.00 401.00\" xmlns=\"http://www.w3.org/2000/svg\" xmlns:xlink=\"http://www.w3.org/1999/xlink\">\r\n",
       "<g id=\"graph0\" class=\"graph\" transform=\"scale(1 1) rotate(0) translate(4 397)\">\r\n",
       "<title>Tree</title>\r\n",
       "<polygon fill=\"white\" stroke=\"transparent\" points=\"-4,4 -4,-397 644,-397 644,4 -4,4\"/>\r\n",
       "<!-- 0 -->\r\n",
       "<g id=\"node1\" class=\"node\">\r\n",
       "<title>0</title>\r\n",
       "<path fill=\"#d3e9f9\" stroke=\"black\" d=\"M376.5,-393C376.5,-393 237.5,-393 237.5,-393 231.5,-393 225.5,-387 225.5,-381 225.5,-381 225.5,-322 225.5,-322 225.5,-316 231.5,-310 237.5,-310 237.5,-310 376.5,-310 376.5,-310 382.5,-310 388.5,-316 388.5,-322 388.5,-322 388.5,-381 388.5,-381 388.5,-387 382.5,-393 376.5,-393\"/>\r\n",
       "<text text-anchor=\"start\" x=\"270.5\" y=\"-377.8\" font-family=\"Helvetica,sans-Serif\" font-size=\"14.00\">t&#45;1 ≤ &#45;0.129</text>\r\n",
       "<text text-anchor=\"start\" x=\"269.5\" y=\"-362.8\" font-family=\"Helvetica,sans-Serif\" font-size=\"14.00\">gini = 0.492</text>\r\n",
       "<text text-anchor=\"start\" x=\"251\" y=\"-347.8\" font-family=\"Helvetica,sans-Serif\" font-size=\"14.00\">samples = 76816</text>\r\n",
       "<text text-anchor=\"start\" x=\"233.5\" y=\"-332.8\" font-family=\"Helvetica,sans-Serif\" font-size=\"14.00\">value = [33618, 43198]</text>\r\n",
       "<text text-anchor=\"start\" x=\"273.5\" y=\"-317.8\" font-family=\"Helvetica,sans-Serif\" font-size=\"14.00\">class = Up</text>\r\n",
       "</g>\r\n",
       "<!-- 1 -->\r\n",
       "<g id=\"node2\" class=\"node\">\r\n",
       "<title>1</title>\r\n",
       "<path fill=\"#fefeff\" stroke=\"black\" d=\"M282,-274C282,-274 160,-274 160,-274 154,-274 148,-268 148,-262 148,-262 148,-203 148,-203 148,-197 154,-191 160,-191 160,-191 282,-191 282,-191 288,-191 294,-197 294,-203 294,-203 294,-262 294,-262 294,-268 288,-274 282,-274\"/>\r\n",
       "<text text-anchor=\"start\" x=\"184.5\" y=\"-258.8\" font-family=\"Helvetica,sans-Serif\" font-size=\"14.00\">t&#45;1 ≤ &#45;0.275</text>\r\n",
       "<text text-anchor=\"start\" x=\"192\" y=\"-243.8\" font-family=\"Helvetica,sans-Serif\" font-size=\"14.00\">gini = 0.5</text>\r\n",
       "<text text-anchor=\"start\" x=\"169.5\" y=\"-228.8\" font-family=\"Helvetica,sans-Serif\" font-size=\"14.00\">samples = 4511</text>\r\n",
       "<text text-anchor=\"start\" x=\"156\" y=\"-213.8\" font-family=\"Helvetica,sans-Serif\" font-size=\"14.00\">value = [2248, 2263]</text>\r\n",
       "<text text-anchor=\"start\" x=\"187.5\" y=\"-198.8\" font-family=\"Helvetica,sans-Serif\" font-size=\"14.00\">class = Up</text>\r\n",
       "</g>\r\n",
       "<!-- 0&#45;&gt;1 -->\r\n",
       "<g id=\"edge1\" class=\"edge\">\r\n",
       "<title>0&#45;&gt;1</title>\r\n",
       "<path fill=\"none\" stroke=\"black\" d=\"M277.16,-309.91C270.63,-301.01 263.64,-291.51 256.89,-282.33\"/>\r\n",
       "<polygon fill=\"black\" stroke=\"black\" points=\"259.53,-280.01 250.78,-274.02 253.89,-284.15 259.53,-280.01\"/>\r\n",
       "<text text-anchor=\"middle\" x=\"247.01\" y=\"-295.03\" font-family=\"Helvetica,sans-Serif\" font-size=\"14.00\">True</text>\r\n",
       "</g>\r\n",
       "<!-- 10 -->\r\n",
       "<g id=\"node7\" class=\"node\">\r\n",
       "<title>10</title>\r\n",
       "<path fill=\"#d1e8f9\" stroke=\"black\" d=\"M463.5,-274C463.5,-274 324.5,-274 324.5,-274 318.5,-274 312.5,-268 312.5,-262 312.5,-262 312.5,-203 312.5,-203 312.5,-197 318.5,-191 324.5,-191 324.5,-191 463.5,-191 463.5,-191 469.5,-191 475.5,-197 475.5,-203 475.5,-203 475.5,-262 475.5,-262 475.5,-268 469.5,-274 463.5,-274\"/>\r\n",
       "<text text-anchor=\"start\" x=\"359.5\" y=\"-258.8\" font-family=\"Helvetica,sans-Serif\" font-size=\"14.00\">t&#45;2 ≤ 0.179</text>\r\n",
       "<text text-anchor=\"start\" x=\"356.5\" y=\"-243.8\" font-family=\"Helvetica,sans-Serif\" font-size=\"14.00\">gini = 0.491</text>\r\n",
       "<text text-anchor=\"start\" x=\"338\" y=\"-228.8\" font-family=\"Helvetica,sans-Serif\" font-size=\"14.00\">samples = 72305</text>\r\n",
       "<text text-anchor=\"start\" x=\"320.5\" y=\"-213.8\" font-family=\"Helvetica,sans-Serif\" font-size=\"14.00\">value = [31370, 40935]</text>\r\n",
       "<text text-anchor=\"start\" x=\"360.5\" y=\"-198.8\" font-family=\"Helvetica,sans-Serif\" font-size=\"14.00\">class = Up</text>\r\n",
       "</g>\r\n",
       "<!-- 0&#45;&gt;10 -->\r\n",
       "<g id=\"edge6\" class=\"edge\">\r\n",
       "<title>0&#45;&gt;10</title>\r\n",
       "<path fill=\"none\" stroke=\"black\" d=\"M337.18,-309.91C343.86,-300.92 351.01,-291.32 357.9,-282.05\"/>\r\n",
       "<polygon fill=\"black\" stroke=\"black\" points=\"360.71,-284.13 363.87,-274.02 355.09,-279.96 360.71,-284.13\"/>\r\n",
       "<text text-anchor=\"middle\" x=\"367.51\" y=\"-295.05\" font-family=\"Helvetica,sans-Serif\" font-size=\"14.00\">False</text>\r\n",
       "</g>\r\n",
       "<!-- 2 -->\r\n",
       "<g id=\"node3\" class=\"node\">\r\n",
       "<title>2</title>\r\n",
       "<path fill=\"#f9e1d0\" stroke=\"black\" d=\"M118,-147.5C118,-147.5 12,-147.5 12,-147.5 6,-147.5 0,-141.5 0,-135.5 0,-135.5 0,-91.5 0,-91.5 0,-85.5 6,-79.5 12,-79.5 12,-79.5 118,-79.5 118,-79.5 124,-79.5 130,-85.5 130,-91.5 130,-91.5 130,-135.5 130,-135.5 130,-141.5 124,-147.5 118,-147.5\"/>\r\n",
       "<text text-anchor=\"start\" x=\"27.5\" y=\"-132.3\" font-family=\"Helvetica,sans-Serif\" font-size=\"14.00\">gini = 0.491</text>\r\n",
       "<text text-anchor=\"start\" x=\"17.5\" y=\"-117.3\" font-family=\"Helvetica,sans-Serif\" font-size=\"14.00\">samples = 645</text>\r\n",
       "<text text-anchor=\"start\" x=\"8\" y=\"-102.3\" font-family=\"Helvetica,sans-Serif\" font-size=\"14.00\">value = [366, 279]</text>\r\n",
       "<text text-anchor=\"start\" x=\"22.5\" y=\"-87.3\" font-family=\"Helvetica,sans-Serif\" font-size=\"14.00\">class = Down</text>\r\n",
       "</g>\r\n",
       "<!-- 1&#45;&gt;2 -->\r\n",
       "<g id=\"edge2\" class=\"edge\">\r\n",
       "<title>1&#45;&gt;2</title>\r\n",
       "<path fill=\"none\" stroke=\"black\" d=\"M166.88,-190.91C150.84,-178.88 133.31,-165.73 117.39,-153.79\"/>\r\n",
       "<polygon fill=\"black\" stroke=\"black\" points=\"119.32,-150.87 109.22,-147.67 115.12,-156.47 119.32,-150.87\"/>\r\n",
       "</g>\r\n",
       "<!-- 3 -->\r\n",
       "<g id=\"node4\" class=\"node\">\r\n",
       "<title>3</title>\r\n",
       "<path fill=\"#f5fafe\" stroke=\"black\" d=\"M282,-155C282,-155 160,-155 160,-155 154,-155 148,-149 148,-143 148,-143 148,-84 148,-84 148,-78 154,-72 160,-72 160,-72 282,-72 282,-72 288,-72 294,-78 294,-84 294,-84 294,-143 294,-143 294,-149 288,-155 282,-155\"/>\r\n",
       "<text text-anchor=\"start\" x=\"192.5\" y=\"-139.8\" font-family=\"Helvetica,sans-Serif\" font-size=\"14.00\">t&#45;2 ≤ &#45;0.1</text>\r\n",
       "<text text-anchor=\"start\" x=\"192\" y=\"-124.8\" font-family=\"Helvetica,sans-Serif\" font-size=\"14.00\">gini = 0.5</text>\r\n",
       "<text text-anchor=\"start\" x=\"169.5\" y=\"-109.8\" font-family=\"Helvetica,sans-Serif\" font-size=\"14.00\">samples = 3866</text>\r\n",
       "<text text-anchor=\"start\" x=\"156\" y=\"-94.8\" font-family=\"Helvetica,sans-Serif\" font-size=\"14.00\">value = [1882, 1984]</text>\r\n",
       "<text text-anchor=\"start\" x=\"187.5\" y=\"-79.8\" font-family=\"Helvetica,sans-Serif\" font-size=\"14.00\">class = Up</text>\r\n",
       "</g>\r\n",
       "<!-- 1&#45;&gt;3 -->\r\n",
       "<g id=\"edge3\" class=\"edge\">\r\n",
       "<title>1&#45;&gt;3</title>\r\n",
       "<path fill=\"none\" stroke=\"black\" d=\"M221,-190.91C221,-182.65 221,-173.86 221,-165.3\"/>\r\n",
       "<polygon fill=\"black\" stroke=\"black\" points=\"224.5,-165.02 221,-155.02 217.5,-165.02 224.5,-165.02\"/>\r\n",
       "</g>\r\n",
       "<!-- 4 -->\r\n",
       "<g id=\"node5\" class=\"node\">\r\n",
       "<title>4</title>\r\n",
       "<path fill=\"#c0c0c0\" stroke=\"black\" d=\"M207,-36C207,-36 177,-36 177,-36 171,-36 165,-30 165,-24 165,-24 165,-12 165,-12 165,-6 171,0 177,0 177,0 207,0 207,0 213,0 219,-6 219,-12 219,-12 219,-24 219,-24 219,-30 213,-36 207,-36\"/>\r\n",
       "<text text-anchor=\"middle\" x=\"192\" y=\"-14.3\" font-family=\"Helvetica,sans-Serif\" font-size=\"14.00\">(...)</text>\r\n",
       "</g>\r\n",
       "<!-- 3&#45;&gt;4 -->\r\n",
       "<g id=\"edge4\" class=\"edge\">\r\n",
       "<title>3&#45;&gt;4</title>\r\n",
       "<path fill=\"none\" stroke=\"black\" d=\"M208.36,-71.76C205.66,-63.04 202.87,-54.04 200.37,-45.99\"/>\r\n",
       "<polygon fill=\"black\" stroke=\"black\" points=\"203.7,-44.92 197.4,-36.41 197.02,-46.99 203.7,-44.92\"/>\r\n",
       "</g>\r\n",
       "<!-- 5 -->\r\n",
       "<g id=\"node6\" class=\"node\">\r\n",
       "<title>5</title>\r\n",
       "<path fill=\"#c0c0c0\" stroke=\"black\" d=\"M279,-36C279,-36 249,-36 249,-36 243,-36 237,-30 237,-24 237,-24 237,-12 237,-12 237,-6 243,0 249,0 249,0 279,0 279,0 285,0 291,-6 291,-12 291,-12 291,-24 291,-24 291,-30 285,-36 279,-36\"/>\r\n",
       "<text text-anchor=\"middle\" x=\"264\" y=\"-14.3\" font-family=\"Helvetica,sans-Serif\" font-size=\"14.00\">(...)</text>\r\n",
       "</g>\r\n",
       "<!-- 3&#45;&gt;5 -->\r\n",
       "<g id=\"edge5\" class=\"edge\">\r\n",
       "<title>3&#45;&gt;5</title>\r\n",
       "<path fill=\"none\" stroke=\"black\" d=\"M239.74,-71.76C243.79,-62.94 247.98,-53.84 251.71,-45.72\"/>\r\n",
       "<polygon fill=\"black\" stroke=\"black\" points=\"255,-46.95 256,-36.41 248.64,-44.03 255,-46.95\"/>\r\n",
       "</g>\r\n",
       "<!-- 11 -->\r\n",
       "<g id=\"node8\" class=\"node\">\r\n",
       "<title>11</title>\r\n",
       "<path fill=\"#d0e7f9\" stroke=\"black\" d=\"M463.5,-155C463.5,-155 324.5,-155 324.5,-155 318.5,-155 312.5,-149 312.5,-143 312.5,-143 312.5,-84 312.5,-84 312.5,-78 318.5,-72 324.5,-72 324.5,-72 463.5,-72 463.5,-72 469.5,-72 475.5,-78 475.5,-84 475.5,-84 475.5,-143 475.5,-143 475.5,-149 469.5,-155 463.5,-155\"/>\r\n",
       "<text text-anchor=\"start\" x=\"357.5\" y=\"-139.8\" font-family=\"Helvetica,sans-Serif\" font-size=\"14.00\">t&#45;2 ≤ &#45;0.067</text>\r\n",
       "<text text-anchor=\"start\" x=\"356.5\" y=\"-124.8\" font-family=\"Helvetica,sans-Serif\" font-size=\"14.00\">gini = 0.491</text>\r\n",
       "<text text-anchor=\"start\" x=\"338\" y=\"-109.8\" font-family=\"Helvetica,sans-Serif\" font-size=\"14.00\">samples = 69856</text>\r\n",
       "<text text-anchor=\"start\" x=\"320.5\" y=\"-94.8\" font-family=\"Helvetica,sans-Serif\" font-size=\"14.00\">value = [30168, 39688]</text>\r\n",
       "<text text-anchor=\"start\" x=\"360.5\" y=\"-79.8\" font-family=\"Helvetica,sans-Serif\" font-size=\"14.00\">class = Up</text>\r\n",
       "</g>\r\n",
       "<!-- 10&#45;&gt;11 -->\r\n",
       "<g id=\"edge7\" class=\"edge\">\r\n",
       "<title>10&#45;&gt;11</title>\r\n",
       "<path fill=\"none\" stroke=\"black\" d=\"M394,-190.91C394,-182.65 394,-173.86 394,-165.3\"/>\r\n",
       "<polygon fill=\"black\" stroke=\"black\" points=\"397.5,-165.02 394,-155.02 390.5,-165.02 397.5,-165.02\"/>\r\n",
       "</g>\r\n",
       "<!-- 26 -->\r\n",
       "<g id=\"node11\" class=\"node\">\r\n",
       "<title>26</title>\r\n",
       "<path fill=\"#f8fbfe\" stroke=\"black\" d=\"M628,-155C628,-155 506,-155 506,-155 500,-155 494,-149 494,-143 494,-143 494,-84 494,-84 494,-78 500,-72 506,-72 506,-72 628,-72 628,-72 634,-72 640,-78 640,-84 640,-84 640,-143 640,-143 640,-149 634,-155 628,-155\"/>\r\n",
       "<text text-anchor=\"start\" x=\"532.5\" y=\"-139.8\" font-family=\"Helvetica,sans-Serif\" font-size=\"14.00\">t&#45;1 ≤ 0.054</text>\r\n",
       "<text text-anchor=\"start\" x=\"538\" y=\"-124.8\" font-family=\"Helvetica,sans-Serif\" font-size=\"14.00\">gini = 0.5</text>\r\n",
       "<text text-anchor=\"start\" x=\"515.5\" y=\"-109.8\" font-family=\"Helvetica,sans-Serif\" font-size=\"14.00\">samples = 2449</text>\r\n",
       "<text text-anchor=\"start\" x=\"502\" y=\"-94.8\" font-family=\"Helvetica,sans-Serif\" font-size=\"14.00\">value = [1202, 1247]</text>\r\n",
       "<text text-anchor=\"start\" x=\"533.5\" y=\"-79.8\" font-family=\"Helvetica,sans-Serif\" font-size=\"14.00\">class = Up</text>\r\n",
       "</g>\r\n",
       "<!-- 10&#45;&gt;26 -->\r\n",
       "<g id=\"edge10\" class=\"edge\">\r\n",
       "<title>10&#45;&gt;26</title>\r\n",
       "<path fill=\"none\" stroke=\"black\" d=\"M454.02,-190.91C468.38,-181.2 483.81,-170.76 498.52,-160.81\"/>\r\n",
       "<polygon fill=\"black\" stroke=\"black\" points=\"500.76,-163.52 507.08,-155.02 496.84,-157.72 500.76,-163.52\"/>\r\n",
       "</g>\r\n",
       "<!-- 12 -->\r\n",
       "<g id=\"node9\" class=\"node\">\r\n",
       "<title>12</title>\r\n",
       "<path fill=\"#c0c0c0\" stroke=\"black\" d=\"M380,-36C380,-36 350,-36 350,-36 344,-36 338,-30 338,-24 338,-24 338,-12 338,-12 338,-6 344,0 350,0 350,0 380,0 380,0 386,0 392,-6 392,-12 392,-12 392,-24 392,-24 392,-30 386,-36 380,-36\"/>\r\n",
       "<text text-anchor=\"middle\" x=\"365\" y=\"-14.3\" font-family=\"Helvetica,sans-Serif\" font-size=\"14.00\">(...)</text>\r\n",
       "</g>\r\n",
       "<!-- 11&#45;&gt;12 -->\r\n",
       "<g id=\"edge8\" class=\"edge\">\r\n",
       "<title>11&#45;&gt;12</title>\r\n",
       "<path fill=\"none\" stroke=\"black\" d=\"M381.36,-71.76C378.66,-63.04 375.87,-54.04 373.37,-45.99\"/>\r\n",
       "<polygon fill=\"black\" stroke=\"black\" points=\"376.7,-44.92 370.4,-36.41 370.02,-46.99 376.7,-44.92\"/>\r\n",
       "</g>\r\n",
       "<!-- 19 -->\r\n",
       "<g id=\"node10\" class=\"node\">\r\n",
       "<title>19</title>\r\n",
       "<path fill=\"#c0c0c0\" stroke=\"black\" d=\"M452,-36C452,-36 422,-36 422,-36 416,-36 410,-30 410,-24 410,-24 410,-12 410,-12 410,-6 416,0 422,0 422,0 452,0 452,0 458,0 464,-6 464,-12 464,-12 464,-24 464,-24 464,-30 458,-36 452,-36\"/>\r\n",
       "<text text-anchor=\"middle\" x=\"437\" y=\"-14.3\" font-family=\"Helvetica,sans-Serif\" font-size=\"14.00\">(...)</text>\r\n",
       "</g>\r\n",
       "<!-- 11&#45;&gt;19 -->\r\n",
       "<g id=\"edge9\" class=\"edge\">\r\n",
       "<title>11&#45;&gt;19</title>\r\n",
       "<path fill=\"none\" stroke=\"black\" d=\"M412.74,-71.76C416.79,-62.94 420.98,-53.84 424.71,-45.72\"/>\r\n",
       "<polygon fill=\"black\" stroke=\"black\" points=\"428,-46.95 429,-36.41 421.64,-44.03 428,-46.95\"/>\r\n",
       "</g>\r\n",
       "<!-- 27 -->\r\n",
       "<g id=\"node12\" class=\"node\">\r\n",
       "<title>27</title>\r\n",
       "<path fill=\"#c0c0c0\" stroke=\"black\" d=\"M538,-36C538,-36 508,-36 508,-36 502,-36 496,-30 496,-24 496,-24 496,-12 496,-12 496,-6 502,0 508,0 508,0 538,0 538,0 544,0 550,-6 550,-12 550,-12 550,-24 550,-24 550,-30 544,-36 538,-36\"/>\r\n",
       "<text text-anchor=\"middle\" x=\"523\" y=\"-14.3\" font-family=\"Helvetica,sans-Serif\" font-size=\"14.00\">(...)</text>\r\n",
       "</g>\r\n",
       "<!-- 26&#45;&gt;27 -->\r\n",
       "<g id=\"edge11\" class=\"edge\">\r\n",
       "<title>26&#45;&gt;27</title>\r\n",
       "<path fill=\"none\" stroke=\"black\" d=\"M547.83,-71.76C543.63,-62.85 539.3,-53.64 535.45,-45.46\"/>\r\n",
       "<polygon fill=\"black\" stroke=\"black\" points=\"538.62,-43.96 531.19,-36.41 532.28,-46.94 538.62,-43.96\"/>\r\n",
       "</g>\r\n",
       "<!-- 32 -->\r\n",
       "<g id=\"node13\" class=\"node\">\r\n",
       "<title>32</title>\r\n",
       "<path fill=\"#c0c0c0\" stroke=\"black\" d=\"M610,-36C610,-36 580,-36 580,-36 574,-36 568,-30 568,-24 568,-24 568,-12 568,-12 568,-6 574,0 580,0 580,0 610,0 610,0 616,0 622,-6 622,-12 622,-12 622,-24 622,-24 622,-30 616,-36 610,-36\"/>\r\n",
       "<text text-anchor=\"middle\" x=\"595\" y=\"-14.3\" font-family=\"Helvetica,sans-Serif\" font-size=\"14.00\">(...)</text>\r\n",
       "</g>\r\n",
       "<!-- 26&#45;&gt;32 -->\r\n",
       "<g id=\"edge12\" class=\"edge\">\r\n",
       "<title>26&#45;&gt;32</title>\r\n",
       "<path fill=\"none\" stroke=\"black\" d=\"M579.2,-71.76C581.81,-63.04 584.51,-54.04 586.92,-45.99\"/>\r\n",
       "<polygon fill=\"black\" stroke=\"black\" points=\"590.27,-46.99 589.79,-36.41 583.57,-44.98 590.27,-46.99\"/>\r\n",
       "</g>\r\n",
       "</g>\r\n",
       "</svg>\r\n"
      ],
      "text/plain": [
       "<graphviz.files.Source at 0x23506c74430>"
      ]
     },
     "execution_count": 35,
     "metadata": {},
     "output_type": "execute_result"
    }
   ],
   "source": [
    "out_file = results_path / 'clf_tree_t2.dot'\n",
    "dot_data = export_graphviz(clf_tree_t2,\n",
    "                           out_file=out_file.as_posix(),\n",
    "                           feature_names=X2.columns,\n",
    "                           class_names=['Down', 'Up'],\n",
    "                           max_depth=2,\n",
    "                           filled=True,\n",
    "                           rounded=True,\n",
    "                           special_characters=True)\n",
    "if out_file is not None:\n",
    "    dot_data = Path(out_file).read_text()\n",
    "\n",
    "graphviz.Source(dot_data)"
   ]
  },
  {
   "cell_type": "markdown",
   "metadata": {},
   "source": [
    "### Compare with Logistic Regression"
   ]
  },
  {
   "cell_type": "markdown",
   "metadata": {},
   "source": [
    "#### Statsmodels"
   ]
  },
  {
   "cell_type": "code",
   "execution_count": 36,
   "metadata": {
    "ExecuteTime": {
     "end_time": "2021-04-16T00:33:26.431166Z",
     "start_time": "2021-04-16T00:33:26.406282Z"
    }
   },
   "outputs": [],
   "source": [
    "log_reg_sm = sm.Logit(endog=y_binary, exog=sm.add_constant(X2))"
   ]
  },
  {
   "cell_type": "code",
   "execution_count": 37,
   "metadata": {
    "ExecuteTime": {
     "end_time": "2021-04-16T00:33:28.117793Z",
     "start_time": "2021-04-16T00:33:26.432422Z"
    },
    "scrolled": false
   },
   "outputs": [
    {
     "name": "stdout",
     "output_type": "stream",
     "text": [
      "19 ms ± 308 µs per loop (mean ± std. dev. of 7 runs, 100 loops each)\n"
     ]
    }
   ],
   "source": [
    "%%timeit\n",
    "log_reg_sm.fit(disp=False)"
   ]
  },
  {
   "cell_type": "code",
   "execution_count": 38,
   "metadata": {
    "ExecuteTime": {
     "end_time": "2021-04-16T00:33:28.199185Z",
     "start_time": "2021-04-16T00:33:28.119038Z"
    }
   },
   "outputs": [
    {
     "name": "stdout",
     "output_type": "stream",
     "text": [
      "Optimization terminated successfully.\n",
      "         Current function value: 0.685299\n",
      "         Iterations 4\n"
     ]
    }
   ],
   "source": [
    "log_result = log_reg_sm.fit()"
   ]
  },
  {
   "cell_type": "code",
   "execution_count": 39,
   "metadata": {
    "ExecuteTime": {
     "end_time": "2021-04-16T00:33:28.452764Z",
     "start_time": "2021-04-16T00:33:28.200353Z"
    }
   },
   "outputs": [
    {
     "name": "stdout",
     "output_type": "stream",
     "text": [
      "                           Logit Regression Results                           \n",
      "==============================================================================\n",
      "Dep. Variable:                      y   No. Observations:                76816\n",
      "Model:                          Logit   Df Residuals:                    76813\n",
      "Method:                           MLE   Df Model:                            2\n",
      "Date:                Sun, 09 May 2021   Pseudo R-squ.:               7.510e-05\n",
      "Time:                        15:47:00   Log-Likelihood:                -52642.\n",
      "converged:                       True   LL-Null:                       -52646.\n",
      "Covariance Type:            nonrobust   LLR p-value:                   0.01918\n",
      "==============================================================================\n",
      "                 coef    std err          z      P>|z|      [0.025      0.975]\n",
      "------------------------------------------------------------------------------\n",
      "const          0.2482      0.007     33.739      0.000       0.234       0.263\n",
      "t-1            0.2204      0.079      2.773      0.006       0.065       0.376\n",
      "t-2            0.0329      0.079      0.413      0.679      -0.123       0.189\n",
      "==============================================================================\n"
     ]
    }
   ],
   "source": [
    "print(log_result.summary())"
   ]
  },
  {
   "cell_type": "markdown",
   "metadata": {},
   "source": [
    "#### sklearn"
   ]
  },
  {
   "cell_type": "code",
   "execution_count": 40,
   "metadata": {
    "ExecuteTime": {
     "end_time": "2021-04-16T00:33:28.458948Z",
     "start_time": "2021-04-16T00:33:28.455385Z"
    }
   },
   "outputs": [],
   "source": [
    "log_reg_sk = LogisticRegression()"
   ]
  },
  {
   "cell_type": "code",
   "execution_count": 41,
   "metadata": {
    "ExecuteTime": {
     "end_time": "2021-04-16T00:33:33.909359Z",
     "start_time": "2021-04-16T00:33:28.461195Z"
    }
   },
   "outputs": [
    {
     "name": "stdout",
     "output_type": "stream",
     "text": [
      "43.6 ms ± 3 ms per loop (mean ± std. dev. of 7 runs, 10 loops each)\n"
     ]
    }
   ],
   "source": [
    "%%timeit\n",
    "log_reg_sk.fit(X=X2, y=y_binary)"
   ]
  },
  {
   "cell_type": "code",
   "execution_count": 42,
   "metadata": {
    "ExecuteTime": {
     "end_time": "2021-04-16T00:33:34.057197Z",
     "start_time": "2021-04-16T00:33:33.910465Z"
    }
   },
   "outputs": [
    {
     "data": {
      "text/plain": [
       "LogisticRegression()"
      ]
     },
     "execution_count": 42,
     "metadata": {},
     "output_type": "execute_result"
    }
   ],
   "source": [
    "log_reg_sk.fit(X=X2, y=y_binary)"
   ]
  },
  {
   "cell_type": "code",
   "execution_count": 43,
   "metadata": {
    "ExecuteTime": {
     "end_time": "2021-04-16T00:33:34.066180Z",
     "start_time": "2021-04-16T00:33:34.058359Z"
    }
   },
   "outputs": [
    {
     "data": {
      "text/plain": [
       "array([[0.21868246, 0.03497936]])"
      ]
     },
     "execution_count": 43,
     "metadata": {},
     "output_type": "execute_result"
    }
   ],
   "source": [
    "log_reg_sk.coef_"
   ]
  },
  {
   "cell_type": "markdown",
   "metadata": {},
   "source": [
    "### Decision Surfaces: Classifier Tree vs. Logistic Regression "
   ]
  },
  {
   "cell_type": "code",
   "execution_count": 44,
   "metadata": {
    "ExecuteTime": {
     "end_time": "2021-04-16T00:33:34.454616Z",
     "start_time": "2021-04-16T00:33:34.072296Z"
    }
   },
   "outputs": [
    {
     "data": {
      "image/png": "[encoded data removed]",
      "text/plain": [
       "<Figure size 864x360 with 4 Axes>"
      ]
     },
     "metadata": {},
     "output_type": "display_data"
    }
   ],
   "source": [
    "fig, axes = plt.subplots(ncols=2, figsize=(12,5))\n",
    "\n",
    "# Linear Regression\n",
    "ret1 = log_reg_sk.predict_proba(X_data)[:, 1].reshape(t1.shape)\n",
    "surface1 = axes[0].contourf(t1, t2, ret1, cmap='Blues')\n",
    "plt.colorbar(mappable=surface1, ax=axes[0])\n",
    "\n",
    "# Regression Tree\n",
    "ret2 = clf_tree_t2.predict_proba(X_data)[:, 1].reshape(t1.shape)\n",
    "surface2 = axes[1].contourf(t1, t2, ret2, cmap='Blues')\n",
    "plt.colorbar(mappable=surface2, ax=axes[1])\n",
    "\n",
    "# Format plots\n",
    "titles = ['Logistic Regression', 'Classification Tree']\n",
    "for i, ax in enumerate(axes):\n",
    "    ax.set_xlabel('t-1')\n",
    "    ax.set_ylabel('t-2')\n",
    "    ax.set_title(titles[i])\n",
    "\n",
    "fig.suptitle('Decision Surfaces', fontsize=20)\n",
    "sns.despine()\n",
    "fig.tight_layout()\n",
    "fig.subplots_adjust(top=.9);"
   ]
  },
  {
   "cell_type": "markdown",
   "metadata": {},
   "source": [
    "## Regression Tree with all Features"
   ]
  },
  {
   "cell_type": "markdown",
   "metadata": {},
   "source": [
    "We now train, visualize, and evaluate a regression tree with up to 5 consecutive splits using 80% of the samples for training to predict the remaining 20%.\n",
    "\n",
    "We are taking a shortcut here to simplify the illustration and use the built-in train_test_split, which does not protect against lookahead bias, as our custom iterator. The tree configuration implies up to $2^5=32$ leaf nodes that, on average in the balanced case, would contain over 4,300 of the training samples."
   ]
  },
  {
   "cell_type": "markdown",
   "metadata": {},
   "source": [
    "### Train-Test Split"
   ]
  },
  {
   "cell_type": "code",
   "execution_count": 45,
   "metadata": {
    "ExecuteTime": {
     "end_time": "2021-04-16T00:33:34.491936Z",
     "start_time": "2021-04-16T00:33:34.455838Z"
    }
   },
   "outputs": [],
   "source": [
    "X = pd.get_dummies(data.drop('target', axis=1))\n",
    "y = data.target"
   ]
  },
  {
   "cell_type": "code",
   "execution_count": 46,
   "metadata": {
    "ExecuteTime": {
     "end_time": "2021-04-16T00:33:34.529344Z",
     "start_time": "2021-04-16T00:33:34.493349Z"
    }
   },
   "outputs": [],
   "source": [
    "X_train, X_test, y_train, y_test = train_test_split(X, y, test_size=0.2, random_state=42)"
   ]
  },
  {
   "cell_type": "markdown",
   "metadata": {},
   "source": [
    "### Configure Tree"
   ]
  },
  {
   "cell_type": "markdown",
   "metadata": {},
   "source": [
    "The output after training the model displays all the DecisionTreeClassifier parameters that we will address in more detail in the next section when we discuss parameter-tuning. "
   ]
  },
  {
   "cell_type": "code",
   "execution_count": 47,
   "metadata": {
    "ExecuteTime": {
     "end_time": "2021-04-16T00:33:34.532666Z",
     "start_time": "2021-04-16T00:33:34.530505Z"
    }
   },
   "outputs": [],
   "source": [
    "regression_tree = DecisionTreeRegressor(criterion='mse',\n",
    "                                        splitter='best',\n",
    "                                        max_depth=5,\n",
    "                                        min_samples_split=2,\n",
    "                                        min_samples_leaf=1,\n",
    "                                        min_weight_fraction_leaf=0.0,\n",
    "                                        max_features=None,\n",
    "                                        random_state=42,\n",
    "                                        max_leaf_nodes=None,\n",
    "                                        min_impurity_decrease=0.0,\n",
    "                                        min_impurity_split=None)"
   ]
  },
  {
   "cell_type": "markdown",
   "metadata": {},
   "source": [
    "### Train Model"
   ]
  },
  {
   "cell_type": "code",
   "execution_count": 48,
   "metadata": {
    "ExecuteTime": {
     "end_time": "2021-04-16T00:33:35.266789Z",
     "start_time": "2021-04-16T00:33:34.534056Z"
    },
    "scrolled": false
   },
   "outputs": [
    {
     "data": {
      "text/plain": [
       "DecisionTreeRegressor(max_depth=5, random_state=42)"
      ]
     },
     "execution_count": 48,
     "metadata": {},
     "output_type": "execute_result"
    }
   ],
   "source": [
    "regression_tree.fit(X=X_train, y=y_train)"
   ]
  },
  {
   "cell_type": "markdown",
   "metadata": {},
   "source": [
    "### Visualize Tree"
   ]
  },
  {
   "cell_type": "markdown",
   "metadata": {},
   "source": [
    "The result shows that the model uses a variety of different features and indicates the split rules for both continuous and categorical (dummy) variables. "
   ]
  },
  {
   "cell_type": "code",
   "execution_count": 49,
   "metadata": {
    "ExecuteTime": {
     "end_time": "2021-04-16T00:33:35.332234Z",
     "start_time": "2021-04-16T00:33:35.267941Z"
    }
   },
   "outputs": [
    {
     "data": {
      "image/svg+xml": [
       "<?xml version=\"1.0\" encoding=\"UTF-8\" standalone=\"no\"?>\r\n",
       "<!DOCTYPE svg PUBLIC \"-//W3C//DTD SVG 1.1//EN\"\r\n",
       " \"http://www.w3.org/Graphics/SVG/1.1/DTD/svg11.dtd\">\r\n",
       "<!-- Generated by graphviz version 2.47.1 (0)\r\n",
       " -->\r\n",
       "<!-- Title: Tree Pages: 1 -->\r\n",
       "<svg width=\"1157pt\" height=\"460pt\"\r\n",
       " viewBox=\"0.00 0.00 1157.00 460.00\" xmlns=\"http://www.w3.org/2000/svg\" xmlns:xlink=\"http://www.w3.org/1999/xlink\">\r\n",
       "<g id=\"graph0\" class=\"graph\" transform=\"scale(1 1) rotate(0) translate(4 456)\">\r\n",
       "<title>Tree</title>\r\n",
       "<polygon fill=\"white\" stroke=\"transparent\" points=\"-4,4 -4,-456 1153,-456 1153,4 -4,4\"/>\r\n",
       "<!-- 0 -->\r\n",
       "<g id=\"node1\" class=\"node\">\r\n",
       "<title>0</title>\r\n",
       "<path fill=\"#f7d7c1\" stroke=\"black\" d=\"M608,-452C608,-452 504,-452 504,-452 498,-452 492,-446 492,-440 492,-440 492,-396 492,-396 492,-390 498,-384 504,-384 504,-384 608,-384 608,-384 614,-384 620,-390 620,-396 620,-396 620,-440 620,-440 620,-446 614,-452 608,-452\"/>\r\n",
       "<text text-anchor=\"start\" x=\"518.5\" y=\"-436.8\" font-family=\"Helvetica,sans-Serif\" font-size=\"14.00\">month ≤ 3.5</text>\r\n",
       "<text text-anchor=\"start\" x=\"515.5\" y=\"-421.8\" font-family=\"Helvetica,sans-Serif\" font-size=\"14.00\">mse = 0.008</text>\r\n",
       "<text text-anchor=\"start\" x=\"500\" y=\"-406.8\" font-family=\"Helvetica,sans-Serif\" font-size=\"14.00\">samples = 61948</text>\r\n",
       "<text text-anchor=\"start\" x=\"517\" y=\"-391.8\" font-family=\"Helvetica,sans-Serif\" font-size=\"14.00\">value = 0.01</text>\r\n",
       "</g>\r\n",
       "<!-- 1 -->\r\n",
       "<g id=\"node2\" class=\"node\">\r\n",
       "<title>1</title>\r\n",
       "<path fill=\"#f6d4bc\" stroke=\"black\" d=\"M483,-348C483,-348 361,-348 361,-348 355,-348 349,-342 349,-336 349,-336 349,-292 349,-292 349,-286 355,-280 361,-280 361,-280 483,-280 483,-280 489,-280 495,-286 495,-292 495,-292 495,-336 495,-336 495,-342 489,-348 483,-348\"/>\r\n",
       "<text text-anchor=\"start\" x=\"357\" y=\"-332.8\" font-family=\"Helvetica,sans-Serif\" font-size=\"14.00\">return_12m ≤ &#45;0.046</text>\r\n",
       "<text text-anchor=\"start\" x=\"381.5\" y=\"-317.8\" font-family=\"Helvetica,sans-Serif\" font-size=\"14.00\">mse = 0.007</text>\r\n",
       "<text text-anchor=\"start\" x=\"366\" y=\"-302.8\" font-family=\"Helvetica,sans-Serif\" font-size=\"14.00\">samples = 15587</text>\r\n",
       "<text text-anchor=\"start\" x=\"379\" y=\"-287.8\" font-family=\"Helvetica,sans-Serif\" font-size=\"14.00\">value = 0.021</text>\r\n",
       "</g>\r\n",
       "<!-- 0&#45;&gt;1 -->\r\n",
       "<g id=\"edge1\" class=\"edge\">\r\n",
       "<title>0&#45;&gt;1</title>\r\n",
       "<path fill=\"none\" stroke=\"black\" d=\"M512.49,-383.88C500.21,-374.53 486.71,-364.26 473.98,-354.57\"/>\r\n",
       "<polygon fill=\"black\" stroke=\"black\" points=\"475.82,-351.57 465.75,-348.3 471.58,-357.14 475.82,-351.57\"/>\r\n",
       "<text text-anchor=\"middle\" x=\"469.11\" y=\"-369.37\" font-family=\"Helvetica,sans-Serif\" font-size=\"14.00\">True</text>\r\n",
       "</g>\r\n",
       "<!-- 32 -->\r\n",
       "<g id=\"node17\" class=\"node\">\r\n",
       "<title>32</title>\r\n",
       "<path fill=\"#f7d9c3\" stroke=\"black\" d=\"M752,-348C752,-348 648,-348 648,-348 642,-348 636,-342 636,-336 636,-336 636,-292 636,-292 636,-286 642,-280 648,-280 648,-280 752,-280 752,-280 758,-280 764,-286 764,-292 764,-292 764,-336 764,-336 764,-342 758,-348 752,-348\"/>\r\n",
       "<text text-anchor=\"start\" x=\"656\" y=\"-332.8\" font-family=\"Helvetica,sans-Serif\" font-size=\"14.00\">year ≤ 2002.5</text>\r\n",
       "<text text-anchor=\"start\" x=\"659.5\" y=\"-317.8\" font-family=\"Helvetica,sans-Serif\" font-size=\"14.00\">mse = 0.009</text>\r\n",
       "<text text-anchor=\"start\" x=\"644\" y=\"-302.8\" font-family=\"Helvetica,sans-Serif\" font-size=\"14.00\">samples = 46361</text>\r\n",
       "<text text-anchor=\"start\" x=\"657\" y=\"-287.8\" font-family=\"Helvetica,sans-Serif\" font-size=\"14.00\">value = 0.006</text>\r\n",
       "</g>\r\n",
       "<!-- 0&#45;&gt;32 -->\r\n",
       "<g id=\"edge16\" class=\"edge\">\r\n",
       "<title>0&#45;&gt;32</title>\r\n",
       "<path fill=\"none\" stroke=\"black\" d=\"M602.75,-383.88C616.08,-374.44 630.73,-364.06 644.53,-354.29\"/>\r\n",
       "<polygon fill=\"black\" stroke=\"black\" points=\"646.85,-356.94 652.99,-348.3 642.81,-351.22 646.85,-356.94\"/>\r\n",
       "<text text-anchor=\"middle\" x=\"648.78\" y=\"-369.24\" font-family=\"Helvetica,sans-Serif\" font-size=\"14.00\">False</text>\r\n",
       "</g>\r\n",
       "<!-- 2 -->\r\n",
       "<g id=\"node3\" class=\"node\">\r\n",
       "<title>2</title>\r\n",
       "<path fill=\"#f3c6a5\" stroke=\"black\" d=\"M270.5,-244C270.5,-244 183.5,-244 183.5,-244 177.5,-244 171.5,-238 171.5,-232 171.5,-232 171.5,-188 171.5,-188 171.5,-182 177.5,-176 183.5,-176 183.5,-176 270.5,-176 270.5,-176 276.5,-176 282.5,-182 282.5,-188 282.5,-188 282.5,-232 282.5,-232 282.5,-238 276.5,-244 270.5,-244\"/>\r\n",
       "<text text-anchor=\"start\" x=\"189.5\" y=\"-228.8\" font-family=\"Helvetica,sans-Serif\" font-size=\"14.00\">month ≤ 1.5</text>\r\n",
       "<text text-anchor=\"start\" x=\"186.5\" y=\"-213.8\" font-family=\"Helvetica,sans-Serif\" font-size=\"14.00\">mse = 0.032</text>\r\n",
       "<text text-anchor=\"start\" x=\"179.5\" y=\"-198.8\" font-family=\"Helvetica,sans-Serif\" font-size=\"14.00\">samples = 952</text>\r\n",
       "<text text-anchor=\"start\" x=\"184\" y=\"-183.8\" font-family=\"Helvetica,sans-Serif\" font-size=\"14.00\">value = 0.073</text>\r\n",
       "</g>\r\n",
       "<!-- 1&#45;&gt;2 -->\r\n",
       "<g id=\"edge2\" class=\"edge\">\r\n",
       "<title>1&#45;&gt;2</title>\r\n",
       "<path fill=\"none\" stroke=\"black\" d=\"M358.69,-279.88C337.28,-268.69 313.36,-256.17 291.83,-244.91\"/>\r\n",
       "<polygon fill=\"black\" stroke=\"black\" points=\"293.25,-241.71 282.77,-240.17 290.01,-247.91 293.25,-241.71\"/>\r\n",
       "</g>\r\n",
       "<!-- 17 -->\r\n",
       "<g id=\"node10\" class=\"node\">\r\n",
       "<title>17</title>\r\n",
       "<path fill=\"#f6d5be\" stroke=\"black\" d=\"M474,-244C474,-244 370,-244 370,-244 364,-244 358,-238 358,-232 358,-232 358,-188 358,-188 358,-182 364,-176 370,-176 370,-176 474,-176 474,-176 480,-176 486,-182 486,-188 486,-188 486,-232 486,-232 486,-238 480,-244 474,-244\"/>\r\n",
       "<text text-anchor=\"start\" x=\"378\" y=\"-228.8\" font-family=\"Helvetica,sans-Serif\" font-size=\"14.00\">year ≤ 2008.5</text>\r\n",
       "<text text-anchor=\"start\" x=\"381.5\" y=\"-213.8\" font-family=\"Helvetica,sans-Serif\" font-size=\"14.00\">mse = 0.006</text>\r\n",
       "<text text-anchor=\"start\" x=\"366\" y=\"-198.8\" font-family=\"Helvetica,sans-Serif\" font-size=\"14.00\">samples = 14635</text>\r\n",
       "<text text-anchor=\"start\" x=\"379\" y=\"-183.8\" font-family=\"Helvetica,sans-Serif\" font-size=\"14.00\">value = 0.018</text>\r\n",
       "</g>\r\n",
       "<!-- 1&#45;&gt;17 -->\r\n",
       "<g id=\"edge9\" class=\"edge\">\r\n",
       "<title>1&#45;&gt;17</title>\r\n",
       "<path fill=\"none\" stroke=\"black\" d=\"M422,-279.88C422,-271.78 422,-262.98 422,-254.47\"/>\r\n",
       "<polygon fill=\"black\" stroke=\"black\" points=\"425.5,-254.3 422,-244.3 418.5,-254.3 425.5,-254.3\"/>\r\n",
       "</g>\r\n",
       "<!-- 3 -->\r\n",
       "<g id=\"node4\" class=\"node\">\r\n",
       "<title>3</title>\r\n",
       "<path fill=\"#fae5d6\" stroke=\"black\" d=\"M141.5,-140C141.5,-140 54.5,-140 54.5,-140 48.5,-140 42.5,-134 42.5,-128 42.5,-128 42.5,-84 42.5,-84 42.5,-78 48.5,-72 54.5,-72 54.5,-72 141.5,-72 141.5,-72 147.5,-72 153.5,-78 153.5,-84 153.5,-84 153.5,-128 153.5,-128 153.5,-134 147.5,-140 141.5,-140\"/>\r\n",
       "<text text-anchor=\"start\" x=\"54\" y=\"-124.8\" font-family=\"Helvetica,sans-Serif\" font-size=\"14.00\">year ≤ 2010.5</text>\r\n",
       "<text text-anchor=\"start\" x=\"57.5\" y=\"-109.8\" font-family=\"Helvetica,sans-Serif\" font-size=\"14.00\">mse = 0.028</text>\r\n",
       "<text text-anchor=\"start\" x=\"50.5\" y=\"-94.8\" font-family=\"Helvetica,sans-Serif\" font-size=\"14.00\">samples = 308</text>\r\n",
       "<text text-anchor=\"start\" x=\"52.5\" y=\"-79.8\" font-family=\"Helvetica,sans-Serif\" font-size=\"14.00\">value = &#45;0.037</text>\r\n",
       "</g>\r\n",
       "<!-- 2&#45;&gt;3 -->\r\n",
       "<g id=\"edge3\" class=\"edge\">\r\n",
       "<title>2&#45;&gt;3</title>\r\n",
       "<path fill=\"none\" stroke=\"black\" d=\"M185.12,-175.88C173.29,-166.53 160.3,-156.26 148.04,-146.57\"/>\r\n",
       "<polygon fill=\"black\" stroke=\"black\" points=\"150.13,-143.76 140.11,-140.3 145.79,-149.25 150.13,-143.76\"/>\r\n",
       "</g>\r\n",
       "<!-- 10 -->\r\n",
       "<g id=\"node7\" class=\"node\">\r\n",
       "<title>10</title>\r\n",
       "<path fill=\"#f0b78e\" stroke=\"black\" d=\"M270.5,-140C270.5,-140 183.5,-140 183.5,-140 177.5,-140 171.5,-134 171.5,-128 171.5,-128 171.5,-84 171.5,-84 171.5,-78 177.5,-72 183.5,-72 183.5,-72 270.5,-72 270.5,-72 276.5,-72 282.5,-78 282.5,-84 282.5,-84 282.5,-128 282.5,-128 282.5,-134 276.5,-140 270.5,-140\"/>\r\n",
       "<text text-anchor=\"start\" x=\"189\" y=\"-124.8\" font-family=\"Helvetica,sans-Serif\" font-size=\"14.00\">natr ≤ 6.131</text>\r\n",
       "<text text-anchor=\"start\" x=\"186.5\" y=\"-109.8\" font-family=\"Helvetica,sans-Serif\" font-size=\"14.00\">mse = 0.024</text>\r\n",
       "<text text-anchor=\"start\" x=\"179.5\" y=\"-94.8\" font-family=\"Helvetica,sans-Serif\" font-size=\"14.00\">samples = 644</text>\r\n",
       "<text text-anchor=\"start\" x=\"184\" y=\"-79.8\" font-family=\"Helvetica,sans-Serif\" font-size=\"14.00\">value = 0.126</text>\r\n",
       "</g>\r\n",
       "<!-- 2&#45;&gt;10 -->\r\n",
       "<g id=\"edge6\" class=\"edge\">\r\n",
       "<title>2&#45;&gt;10</title>\r\n",
       "<path fill=\"none\" stroke=\"black\" d=\"M227,-175.88C227,-167.78 227,-158.98 227,-150.47\"/>\r\n",
       "<polygon fill=\"black\" stroke=\"black\" points=\"230.5,-150.3 227,-140.3 223.5,-150.3 230.5,-150.3\"/>\r\n",
       "</g>\r\n",
       "<!-- 4 -->\r\n",
       "<g id=\"node5\" class=\"node\">\r\n",
       "<title>4</title>\r\n",
       "<path fill=\"#c0c0c0\" stroke=\"black\" d=\"M42,-36C42,-36 12,-36 12,-36 6,-36 0,-30 0,-24 0,-24 0,-12 0,-12 0,-6 6,0 12,0 12,0 42,0 42,0 48,0 54,-6 54,-12 54,-12 54,-24 54,-24 54,-30 48,-36 42,-36\"/>\r\n",
       "<text text-anchor=\"middle\" x=\"27\" y=\"-14.3\" font-family=\"Helvetica,sans-Serif\" font-size=\"14.00\">(...)</text>\r\n",
       "</g>\r\n",
       "<!-- 3&#45;&gt;4 -->\r\n",
       "<g id=\"edge4\" class=\"edge\">\r\n",
       "<title>3&#45;&gt;4</title>\r\n",
       "<path fill=\"none\" stroke=\"black\" d=\"M70.75,-72C63.17,-62.81 55.05,-52.97 47.89,-44.3\"/>\r\n",
       "<polygon fill=\"black\" stroke=\"black\" points=\"50.43,-41.89 41.37,-36.4 45.04,-46.34 50.43,-41.89\"/>\r\n",
       "</g>\r\n",
       "<!-- 7 -->\r\n",
       "<g id=\"node6\" class=\"node\">\r\n",
       "<title>7</title>\r\n",
       "<path fill=\"#c0c0c0\" stroke=\"black\" d=\"M114,-36C114,-36 84,-36 84,-36 78,-36 72,-30 72,-24 72,-24 72,-12 72,-12 72,-6 78,0 84,0 84,0 114,0 114,0 120,0 126,-6 126,-12 126,-12 126,-24 126,-24 126,-30 120,-36 114,-36\"/>\r\n",
       "<text text-anchor=\"middle\" x=\"99\" y=\"-14.3\" font-family=\"Helvetica,sans-Serif\" font-size=\"14.00\">(...)</text>\r\n",
       "</g>\r\n",
       "<!-- 3&#45;&gt;7 -->\r\n",
       "<g id=\"edge5\" class=\"edge\">\r\n",
       "<title>3&#45;&gt;7</title>\r\n",
       "<path fill=\"none\" stroke=\"black\" d=\"M98.38,-72C98.48,-63.56 98.59,-54.59 98.68,-46.47\"/>\r\n",
       "<polygon fill=\"black\" stroke=\"black\" points=\"102.18,-46.44 98.8,-36.4 95.18,-46.36 102.18,-46.44\"/>\r\n",
       "</g>\r\n",
       "<!-- 11 -->\r\n",
       "<g id=\"node8\" class=\"node\">\r\n",
       "<title>11</title>\r\n",
       "<path fill=\"#c0c0c0\" stroke=\"black\" d=\"M194,-36C194,-36 164,-36 164,-36 158,-36 152,-30 152,-24 152,-24 152,-12 152,-12 152,-6 158,0 164,0 164,0 194,0 194,0 200,0 206,-6 206,-12 206,-12 206,-24 206,-24 206,-30 200,-36 194,-36\"/>\r\n",
       "<text text-anchor=\"middle\" x=\"179\" y=\"-14.3\" font-family=\"Helvetica,sans-Serif\" font-size=\"14.00\">(...)</text>\r\n",
       "</g>\r\n",
       "<!-- 10&#45;&gt;11 -->\r\n",
       "<g id=\"edge7\" class=\"edge\">\r\n",
       "<title>10&#45;&gt;11</title>\r\n",
       "<path fill=\"none\" stroke=\"black\" d=\"M208.58,-72C203.66,-63.19 198.41,-53.78 193.72,-45.38\"/>\r\n",
       "<polygon fill=\"black\" stroke=\"black\" points=\"196.64,-43.43 188.71,-36.4 190.53,-46.84 196.64,-43.43\"/>\r\n",
       "</g>\r\n",
       "<!-- 14 -->\r\n",
       "<g id=\"node9\" class=\"node\">\r\n",
       "<title>14</title>\r\n",
       "<path fill=\"#c0c0c0\" stroke=\"black\" d=\"M266,-36C266,-36 236,-36 236,-36 230,-36 224,-30 224,-24 224,-24 224,-12 224,-12 224,-6 230,0 236,0 236,0 266,0 266,0 272,0 278,-6 278,-12 278,-12 278,-24 278,-24 278,-30 272,-36 266,-36\"/>\r\n",
       "<text text-anchor=\"middle\" x=\"251\" y=\"-14.3\" font-family=\"Helvetica,sans-Serif\" font-size=\"14.00\">(...)</text>\r\n",
       "</g>\r\n",
       "<!-- 10&#45;&gt;14 -->\r\n",
       "<g id=\"edge8\" class=\"edge\">\r\n",
       "<title>10&#45;&gt;14</title>\r\n",
       "<path fill=\"none\" stroke=\"black\" d=\"M236.21,-72C238.59,-63.47 241.12,-54.39 243.41,-46.2\"/>\r\n",
       "<polygon fill=\"black\" stroke=\"black\" points=\"246.83,-46.98 246.14,-36.4 240.08,-45.09 246.83,-46.98\"/>\r\n",
       "</g>\r\n",
       "<!-- 18 -->\r\n",
       "<g id=\"node11\" class=\"node\">\r\n",
       "<title>18</title>\r\n",
       "<path fill=\"#f7d8c2\" stroke=\"black\" d=\"M407.5,-140C407.5,-140 312.5,-140 312.5,-140 306.5,-140 300.5,-134 300.5,-128 300.5,-128 300.5,-84 300.5,-84 300.5,-78 306.5,-72 312.5,-72 312.5,-72 407.5,-72 407.5,-72 413.5,-72 419.5,-78 419.5,-84 419.5,-84 419.5,-128 419.5,-128 419.5,-134 413.5,-140 407.5,-140\"/>\r\n",
       "<text text-anchor=\"start\" x=\"322\" y=\"-124.8\" font-family=\"Helvetica,sans-Serif\" font-size=\"14.00\">natr ≤ 5.575</text>\r\n",
       "<text text-anchor=\"start\" x=\"319.5\" y=\"-109.8\" font-family=\"Helvetica,sans-Serif\" font-size=\"14.00\">mse = 0.006</text>\r\n",
       "<text text-anchor=\"start\" x=\"308.5\" y=\"-94.8\" font-family=\"Helvetica,sans-Serif\" font-size=\"14.00\">samples = 5983</text>\r\n",
       "<text text-anchor=\"start\" x=\"317\" y=\"-79.8\" font-family=\"Helvetica,sans-Serif\" font-size=\"14.00\">value = 0.008</text>\r\n",
       "</g>\r\n",
       "<!-- 17&#45;&gt;18 -->\r\n",
       "<g id=\"edge10\" class=\"edge\">\r\n",
       "<title>17&#45;&gt;18</title>\r\n",
       "<path fill=\"none\" stroke=\"black\" d=\"M401.87,-175.88C396.67,-167.33 391.01,-158.01 385.57,-149.07\"/>\r\n",
       "<polygon fill=\"black\" stroke=\"black\" points=\"388.43,-147.03 380.24,-140.3 382.44,-150.66 388.43,-147.03\"/>\r\n",
       "</g>\r\n",
       "<!-- 25 -->\r\n",
       "<g id=\"node14\" class=\"node\">\r\n",
       "<title>25</title>\r\n",
       "<path fill=\"#f6d3bb\" stroke=\"black\" d=\"M544.5,-140C544.5,-140 449.5,-140 449.5,-140 443.5,-140 437.5,-134 437.5,-128 437.5,-128 437.5,-84 437.5,-84 437.5,-78 443.5,-72 449.5,-72 449.5,-72 544.5,-72 544.5,-72 550.5,-72 556.5,-78 556.5,-84 556.5,-84 556.5,-128 556.5,-128 556.5,-134 550.5,-140 544.5,-140\"/>\r\n",
       "<text text-anchor=\"start\" x=\"453\" y=\"-124.8\" font-family=\"Helvetica,sans-Serif\" font-size=\"14.00\">year ≤ 2010.5</text>\r\n",
       "<text text-anchor=\"start\" x=\"456.5\" y=\"-109.8\" font-family=\"Helvetica,sans-Serif\" font-size=\"14.00\">mse = 0.005</text>\r\n",
       "<text text-anchor=\"start\" x=\"445.5\" y=\"-94.8\" font-family=\"Helvetica,sans-Serif\" font-size=\"14.00\">samples = 8652</text>\r\n",
       "<text text-anchor=\"start\" x=\"454\" y=\"-79.8\" font-family=\"Helvetica,sans-Serif\" font-size=\"14.00\">value = 0.024</text>\r\n",
       "</g>\r\n",
       "<!-- 17&#45;&gt;25 -->\r\n",
       "<g id=\"edge13\" class=\"edge\">\r\n",
       "<title>17&#45;&gt;25</title>\r\n",
       "<path fill=\"none\" stroke=\"black\" d=\"M446.35,-175.88C452.77,-167.15 459.78,-157.62 466.48,-148.51\"/>\r\n",
       "<polygon fill=\"black\" stroke=\"black\" points=\"469.41,-150.43 472.52,-140.3 463.77,-146.28 469.41,-150.43\"/>\r\n",
       "</g>\r\n",
       "<!-- 19 -->\r\n",
       "<g id=\"node12\" class=\"node\">\r\n",
       "<title>19</title>\r\n",
       "<path fill=\"#c0c0c0\" stroke=\"black\" d=\"M342,-36C342,-36 312,-36 312,-36 306,-36 300,-30 300,-24 300,-24 300,-12 300,-12 300,-6 306,0 312,0 312,0 342,0 342,0 348,0 354,-6 354,-12 354,-12 354,-24 354,-24 354,-30 348,-36 342,-36\"/>\r\n",
       "<text text-anchor=\"middle\" x=\"327\" y=\"-14.3\" font-family=\"Helvetica,sans-Serif\" font-size=\"14.00\">(...)</text>\r\n",
       "</g>\r\n",
       "<!-- 18&#45;&gt;19 -->\r\n",
       "<g id=\"edge11\" class=\"edge\">\r\n",
       "<title>18&#45;&gt;19</title>\r\n",
       "<path fill=\"none\" stroke=\"black\" d=\"M347.34,-72C344.03,-63.38 340.5,-54.19 337.33,-45.92\"/>\r\n",
       "<polygon fill=\"black\" stroke=\"black\" points=\"340.53,-44.49 333.68,-36.4 333.99,-46.99 340.53,-44.49\"/>\r\n",
       "</g>\r\n",
       "<!-- 22 -->\r\n",
       "<g id=\"node13\" class=\"node\">\r\n",
       "<title>22</title>\r\n",
       "<path fill=\"#c0c0c0\" stroke=\"black\" d=\"M414,-36C414,-36 384,-36 384,-36 378,-36 372,-30 372,-24 372,-24 372,-12 372,-12 372,-6 378,0 384,0 384,0 414,0 414,0 420,0 426,-6 426,-12 426,-12 426,-24 426,-24 426,-30 420,-36 414,-36\"/>\r\n",
       "<text text-anchor=\"middle\" x=\"399\" y=\"-14.3\" font-family=\"Helvetica,sans-Serif\" font-size=\"14.00\">(...)</text>\r\n",
       "</g>\r\n",
       "<!-- 18&#45;&gt;22 -->\r\n",
       "<g id=\"edge12\" class=\"edge\">\r\n",
       "<title>18&#45;&gt;22</title>\r\n",
       "<path fill=\"none\" stroke=\"black\" d=\"M374.97,-72C378.92,-63.28 383.13,-53.98 386.91,-45.65\"/>\r\n",
       "<polygon fill=\"black\" stroke=\"black\" points=\"390.17,-46.96 391.11,-36.4 383.79,-44.07 390.17,-46.96\"/>\r\n",
       "</g>\r\n",
       "<!-- 26 -->\r\n",
       "<g id=\"node15\" class=\"node\">\r\n",
       "<title>26</title>\r\n",
       "<path fill=\"#c0c0c0\" stroke=\"black\" d=\"M488,-36C488,-36 458,-36 458,-36 452,-36 446,-30 446,-24 446,-24 446,-12 446,-12 446,-6 452,0 458,0 458,0 488,0 488,0 494,0 500,-6 500,-12 500,-12 500,-24 500,-24 500,-30 494,-36 488,-36\"/>\r\n",
       "<text text-anchor=\"middle\" x=\"473\" y=\"-14.3\" font-family=\"Helvetica,sans-Serif\" font-size=\"14.00\">(...)</text>\r\n",
       "</g>\r\n",
       "<!-- 25&#45;&gt;26 -->\r\n",
       "<g id=\"edge14\" class=\"edge\">\r\n",
       "<title>25&#45;&gt;26</title>\r\n",
       "<path fill=\"none\" stroke=\"black\" d=\"M487.79,-72C485.41,-63.47 482.88,-54.39 480.59,-46.2\"/>\r\n",
       "<polygon fill=\"black\" stroke=\"black\" points=\"483.92,-45.09 477.86,-36.4 477.17,-46.98 483.92,-45.09\"/>\r\n",
       "</g>\r\n",
       "<!-- 29 -->\r\n",
       "<g id=\"node16\" class=\"node\">\r\n",
       "<title>29</title>\r\n",
       "<path fill=\"#c0c0c0\" stroke=\"black\" d=\"M560,-36C560,-36 530,-36 530,-36 524,-36 518,-30 518,-24 518,-24 518,-12 518,-12 518,-6 524,0 530,0 530,0 560,0 560,0 566,0 572,-6 572,-12 572,-12 572,-24 572,-24 572,-30 566,-36 560,-36\"/>\r\n",
       "<text text-anchor=\"middle\" x=\"545\" y=\"-14.3\" font-family=\"Helvetica,sans-Serif\" font-size=\"14.00\">(...)</text>\r\n",
       "</g>\r\n",
       "<!-- 25&#45;&gt;29 -->\r\n",
       "<g id=\"edge15\" class=\"edge\">\r\n",
       "<title>25&#45;&gt;29</title>\r\n",
       "<path fill=\"none\" stroke=\"black\" d=\"M515.42,-72C520.34,-63.19 525.59,-53.78 530.28,-45.38\"/>\r\n",
       "<polygon fill=\"black\" stroke=\"black\" points=\"533.47,-46.84 535.29,-36.4 527.36,-43.43 533.47,-46.84\"/>\r\n",
       "</g>\r\n",
       "<!-- 33 -->\r\n",
       "<g id=\"node18\" class=\"node\">\r\n",
       "<title>33</title>\r\n",
       "<path fill=\"#f9e1d0\" stroke=\"black\" d=\"M747.5,-244C747.5,-244 652.5,-244 652.5,-244 646.5,-244 640.5,-238 640.5,-232 640.5,-232 640.5,-188 640.5,-188 640.5,-182 646.5,-176 652.5,-176 652.5,-176 747.5,-176 747.5,-176 753.5,-176 759.5,-182 759.5,-188 759.5,-188 759.5,-232 759.5,-232 759.5,-238 753.5,-244 747.5,-244\"/>\r\n",
       "<text text-anchor=\"start\" x=\"662.5\" y=\"-228.8\" font-family=\"Helvetica,sans-Serif\" font-size=\"14.00\">month ≤ 8.5</text>\r\n",
       "<text text-anchor=\"start\" x=\"659.5\" y=\"-213.8\" font-family=\"Helvetica,sans-Serif\" font-size=\"14.00\">mse = 0.015</text>\r\n",
       "<text text-anchor=\"start\" x=\"648.5\" y=\"-198.8\" font-family=\"Helvetica,sans-Serif\" font-size=\"14.00\">samples = 2473</text>\r\n",
       "<text text-anchor=\"start\" x=\"654.5\" y=\"-183.8\" font-family=\"Helvetica,sans-Serif\" font-size=\"14.00\">value = &#45;0.023</text>\r\n",
       "</g>\r\n",
       "<!-- 32&#45;&gt;33 -->\r\n",
       "<g id=\"edge17\" class=\"edge\">\r\n",
       "<title>32&#45;&gt;33</title>\r\n",
       "<path fill=\"none\" stroke=\"black\" d=\"M700,-279.88C700,-271.78 700,-262.98 700,-254.47\"/>\r\n",
       "<polygon fill=\"black\" stroke=\"black\" points=\"703.5,-254.3 700,-244.3 696.5,-254.3 703.5,-254.3\"/>\r\n",
       "</g>\r\n",
       "<!-- 48 -->\r\n",
       "<g id=\"node25\" class=\"node\">\r\n",
       "<title>48</title>\r\n",
       "<path fill=\"#f7d8c2\" stroke=\"black\" d=\"M960,-244C960,-244 856,-244 856,-244 850,-244 844,-238 844,-232 844,-232 844,-188 844,-188 844,-182 850,-176 856,-176 856,-176 960,-176 960,-176 966,-176 972,-182 972,-188 972,-188 972,-232 972,-232 972,-238 966,-244 960,-244\"/>\r\n",
       "<text text-anchor=\"start\" x=\"864\" y=\"-228.8\" font-family=\"Helvetica,sans-Serif\" font-size=\"14.00\">year ≤ 2005.5</text>\r\n",
       "<text text-anchor=\"start\" x=\"867.5\" y=\"-213.8\" font-family=\"Helvetica,sans-Serif\" font-size=\"14.00\">mse = 0.008</text>\r\n",
       "<text text-anchor=\"start\" x=\"852\" y=\"-198.8\" font-family=\"Helvetica,sans-Serif\" font-size=\"14.00\">samples = 43888</text>\r\n",
       "<text text-anchor=\"start\" x=\"865\" y=\"-183.8\" font-family=\"Helvetica,sans-Serif\" font-size=\"14.00\">value = 0.008</text>\r\n",
       "</g>\r\n",
       "<!-- 32&#45;&gt;48 -->\r\n",
       "<g id=\"edge24\" class=\"edge\">\r\n",
       "<title>32&#45;&gt;48</title>\r\n",
       "<path fill=\"none\" stroke=\"black\" d=\"M764.1,-281.56C786.44,-270.61 811.68,-258.23 834.71,-246.94\"/>\r\n",
       "<polygon fill=\"black\" stroke=\"black\" points=\"836.31,-250.05 843.75,-242.51 833.23,-243.77 836.31,-250.05\"/>\r\n",
       "</g>\r\n",
       "<!-- 34 -->\r\n",
       "<g id=\"node19\" class=\"node\">\r\n",
       "<title>34</title>\r\n",
       "<path fill=\"#fbeadd\" stroke=\"black\" d=\"M681.5,-140C681.5,-140 586.5,-140 586.5,-140 580.5,-140 574.5,-134 574.5,-128 574.5,-128 574.5,-84 574.5,-84 574.5,-78 580.5,-72 586.5,-72 586.5,-72 681.5,-72 681.5,-72 687.5,-72 693.5,-78 693.5,-84 693.5,-84 693.5,-128 693.5,-128 693.5,-134 687.5,-140 681.5,-140\"/>\r\n",
       "<text text-anchor=\"start\" x=\"592\" y=\"-124.8\" font-family=\"Helvetica,sans-Serif\" font-size=\"14.00\">natr ≤ 20.107</text>\r\n",
       "<text text-anchor=\"start\" x=\"593.5\" y=\"-109.8\" font-family=\"Helvetica,sans-Serif\" font-size=\"14.00\">mse = 0.011</text>\r\n",
       "<text text-anchor=\"start\" x=\"582.5\" y=\"-94.8\" font-family=\"Helvetica,sans-Serif\" font-size=\"14.00\">samples = 1373</text>\r\n",
       "<text text-anchor=\"start\" x=\"588.5\" y=\"-79.8\" font-family=\"Helvetica,sans-Serif\" font-size=\"14.00\">value = &#45;0.054</text>\r\n",
       "</g>\r\n",
       "<!-- 33&#45;&gt;34 -->\r\n",
       "<g id=\"edge18\" class=\"edge\">\r\n",
       "<title>33&#45;&gt;34</title>\r\n",
       "<path fill=\"none\" stroke=\"black\" d=\"M678.57,-175.88C672.98,-167.24 666.88,-157.82 661.04,-148.79\"/>\r\n",
       "<polygon fill=\"black\" stroke=\"black\" points=\"663.92,-146.79 655.55,-140.3 658.04,-150.6 663.92,-146.79\"/>\r\n",
       "</g>\r\n",
       "<!-- 41 -->\r\n",
       "<g id=\"node22\" class=\"node\">\r\n",
       "<title>41</title>\r\n",
       "<path fill=\"#f7d6be\" stroke=\"black\" d=\"M818.5,-140C818.5,-140 723.5,-140 723.5,-140 717.5,-140 711.5,-134 711.5,-128 711.5,-128 711.5,-84 711.5,-84 711.5,-78 717.5,-72 723.5,-72 723.5,-72 818.5,-72 818.5,-72 824.5,-72 830.5,-78 830.5,-84 830.5,-84 830.5,-128 830.5,-128 830.5,-134 824.5,-140 818.5,-140\"/>\r\n",
       "<text text-anchor=\"start\" x=\"729.5\" y=\"-124.8\" font-family=\"Helvetica,sans-Serif\" font-size=\"14.00\">month ≤ 10.5</text>\r\n",
       "<text text-anchor=\"start\" x=\"730.5\" y=\"-109.8\" font-family=\"Helvetica,sans-Serif\" font-size=\"14.00\">mse = 0.016</text>\r\n",
       "<text text-anchor=\"start\" x=\"719.5\" y=\"-94.8\" font-family=\"Helvetica,sans-Serif\" font-size=\"14.00\">samples = 1100</text>\r\n",
       "<text text-anchor=\"start\" x=\"728\" y=\"-79.8\" font-family=\"Helvetica,sans-Serif\" font-size=\"14.00\">value = 0.015</text>\r\n",
       "</g>\r\n",
       "<!-- 33&#45;&gt;41 -->\r\n",
       "<g id=\"edge21\" class=\"edge\">\r\n",
       "<title>33&#45;&gt;41</title>\r\n",
       "<path fill=\"none\" stroke=\"black\" d=\"M723.05,-175.88C729.13,-167.15 735.76,-157.62 742.1,-148.51\"/>\r\n",
       "<polygon fill=\"black\" stroke=\"black\" points=\"744.98,-150.51 747.82,-140.3 739.24,-146.51 744.98,-150.51\"/>\r\n",
       "</g>\r\n",
       "<!-- 35 -->\r\n",
       "<g id=\"node20\" class=\"node\">\r\n",
       "<title>35</title>\r\n",
       "<path fill=\"#c0c0c0\" stroke=\"black\" d=\"M633,-36C633,-36 603,-36 603,-36 597,-36 591,-30 591,-24 591,-24 591,-12 591,-12 591,-6 597,0 603,0 603,0 633,0 633,0 639,0 645,-6 645,-12 645,-12 645,-24 645,-24 645,-30 639,-36 633,-36\"/>\r\n",
       "<text text-anchor=\"middle\" x=\"618\" y=\"-14.3\" font-family=\"Helvetica,sans-Serif\" font-size=\"14.00\">(...)</text>\r\n",
       "</g>\r\n",
       "<!-- 34&#45;&gt;35 -->\r\n",
       "<g id=\"edge19\" class=\"edge\">\r\n",
       "<title>34&#45;&gt;35</title>\r\n",
       "<path fill=\"none\" stroke=\"black\" d=\"M627.86,-72C626.29,-63.56 624.62,-54.59 623.11,-46.47\"/>\r\n",
       "<polygon fill=\"black\" stroke=\"black\" points=\"626.51,-45.59 621.24,-36.4 619.63,-46.87 626.51,-45.59\"/>\r\n",
       "</g>\r\n",
       "<!-- 38 -->\r\n",
       "<g id=\"node21\" class=\"node\">\r\n",
       "<title>38</title>\r\n",
       "<path fill=\"#c0c0c0\" stroke=\"black\" d=\"M705,-36C705,-36 675,-36 675,-36 669,-36 663,-30 663,-24 663,-24 663,-12 663,-12 663,-6 669,0 675,0 675,0 705,0 705,0 711,0 717,-6 717,-12 717,-12 717,-24 717,-24 717,-30 711,-36 705,-36\"/>\r\n",
       "<text text-anchor=\"middle\" x=\"690\" y=\"-14.3\" font-family=\"Helvetica,sans-Serif\" font-size=\"14.00\">(...)</text>\r\n",
       "</g>\r\n",
       "<!-- 34&#45;&gt;38 -->\r\n",
       "<g id=\"edge20\" class=\"edge\">\r\n",
       "<title>34&#45;&gt;38</title>\r\n",
       "<path fill=\"none\" stroke=\"black\" d=\"M655.49,-72C661.35,-63 667.61,-53.38 673.17,-44.84\"/>\r\n",
       "<polygon fill=\"black\" stroke=\"black\" points=\"676.14,-46.69 678.67,-36.4 670.28,-42.87 676.14,-46.69\"/>\r\n",
       "</g>\r\n",
       "<!-- 42 -->\r\n",
       "<g id=\"node23\" class=\"node\">\r\n",
       "<title>42</title>\r\n",
       "<path fill=\"#c0c0c0\" stroke=\"black\" d=\"M777,-36C777,-36 747,-36 747,-36 741,-36 735,-30 735,-24 735,-24 735,-12 735,-12 735,-6 741,0 747,0 747,0 777,0 777,0 783,0 789,-6 789,-12 789,-12 789,-24 789,-24 789,-30 783,-36 777,-36\"/>\r\n",
       "<text text-anchor=\"middle\" x=\"762\" y=\"-14.3\" font-family=\"Helvetica,sans-Serif\" font-size=\"14.00\">(...)</text>\r\n",
       "</g>\r\n",
       "<!-- 41&#45;&gt;42 -->\r\n",
       "<g id=\"edge22\" class=\"edge\">\r\n",
       "<title>41&#45;&gt;42</title>\r\n",
       "<path fill=\"none\" stroke=\"black\" d=\"M767.55,-72C766.66,-63.56 765.72,-54.59 764.87,-46.47\"/>\r\n",
       "<polygon fill=\"black\" stroke=\"black\" points=\"768.34,-45.98 763.82,-36.4 761.38,-46.71 768.34,-45.98\"/>\r\n",
       "</g>\r\n",
       "<!-- 45 -->\r\n",
       "<g id=\"node24\" class=\"node\">\r\n",
       "<title>45</title>\r\n",
       "<path fill=\"#c0c0c0\" stroke=\"black\" d=\"M849,-36C849,-36 819,-36 819,-36 813,-36 807,-30 807,-24 807,-24 807,-12 807,-12 807,-6 813,0 819,0 819,0 849,0 849,0 855,0 861,-6 861,-12 861,-12 861,-24 861,-24 861,-30 855,-36 849,-36\"/>\r\n",
       "<text text-anchor=\"middle\" x=\"834\" y=\"-14.3\" font-family=\"Helvetica,sans-Serif\" font-size=\"14.00\">(...)</text>\r\n",
       "</g>\r\n",
       "<!-- 41&#45;&gt;45 -->\r\n",
       "<g id=\"edge23\" class=\"edge\">\r\n",
       "<title>41&#45;&gt;45</title>\r\n",
       "<path fill=\"none\" stroke=\"black\" d=\"M795.18,-72C801.84,-62.9 808.96,-53.18 815.27,-44.57\"/>\r\n",
       "<polygon fill=\"black\" stroke=\"black\" points=\"818.16,-46.54 821.25,-36.4 812.52,-42.4 818.16,-46.54\"/>\r\n",
       "</g>\r\n",
       "<!-- 49 -->\r\n",
       "<g id=\"node26\" class=\"node\">\r\n",
       "<title>49</title>\r\n",
       "<path fill=\"#f6d3ba\" stroke=\"black\" d=\"M955.5,-140C955.5,-140 860.5,-140 860.5,-140 854.5,-140 848.5,-134 848.5,-128 848.5,-128 848.5,-84 848.5,-84 848.5,-78 854.5,-72 860.5,-72 860.5,-72 955.5,-72 955.5,-72 961.5,-72 967.5,-78 967.5,-84 967.5,-84 967.5,-128 967.5,-128 967.5,-134 961.5,-140 955.5,-140\"/>\r\n",
       "<text text-anchor=\"start\" x=\"870\" y=\"-124.8\" font-family=\"Helvetica,sans-Serif\" font-size=\"14.00\">natr ≤ 2.557</text>\r\n",
       "<text text-anchor=\"start\" x=\"867.5\" y=\"-109.8\" font-family=\"Helvetica,sans-Serif\" font-size=\"14.00\">mse = 0.007</text>\r\n",
       "<text text-anchor=\"start\" x=\"856.5\" y=\"-94.8\" font-family=\"Helvetica,sans-Serif\" font-size=\"14.00\">samples = 8104</text>\r\n",
       "<text text-anchor=\"start\" x=\"865\" y=\"-79.8\" font-family=\"Helvetica,sans-Serif\" font-size=\"14.00\">value = 0.025</text>\r\n",
       "</g>\r\n",
       "<!-- 48&#45;&gt;49 -->\r\n",
       "<g id=\"edge25\" class=\"edge\">\r\n",
       "<title>48&#45;&gt;49</title>\r\n",
       "<path fill=\"none\" stroke=\"black\" d=\"M908,-175.88C908,-167.78 908,-158.98 908,-150.47\"/>\r\n",
       "<polygon fill=\"black\" stroke=\"black\" points=\"911.5,-150.3 908,-140.3 904.5,-150.3 911.5,-150.3\"/>\r\n",
       "</g>\r\n",
       "<!-- 56 -->\r\n",
       "<g id=\"node29\" class=\"node\">\r\n",
       "<title>56</title>\r\n",
       "<path fill=\"#f7d9c4\" stroke=\"black\" d=\"M1102,-140C1102,-140 998,-140 998,-140 992,-140 986,-134 986,-128 986,-128 986,-84 986,-84 986,-78 992,-72 998,-72 998,-72 1102,-72 1102,-72 1108,-72 1114,-78 1114,-84 1114,-84 1114,-128 1114,-128 1114,-134 1108,-140 1102,-140\"/>\r\n",
       "<text text-anchor=\"start\" x=\"1006\" y=\"-124.8\" font-family=\"Helvetica,sans-Serif\" font-size=\"14.00\">year ≤ 2008.5</text>\r\n",
       "<text text-anchor=\"start\" x=\"1009.5\" y=\"-109.8\" font-family=\"Helvetica,sans-Serif\" font-size=\"14.00\">mse = 0.008</text>\r\n",
       "<text text-anchor=\"start\" x=\"994\" y=\"-94.8\" font-family=\"Helvetica,sans-Serif\" font-size=\"14.00\">samples = 35784</text>\r\n",
       "<text text-anchor=\"start\" x=\"1007\" y=\"-79.8\" font-family=\"Helvetica,sans-Serif\" font-size=\"14.00\">value = 0.004</text>\r\n",
       "</g>\r\n",
       "<!-- 48&#45;&gt;56 -->\r\n",
       "<g id=\"edge28\" class=\"edge\">\r\n",
       "<title>48&#45;&gt;56</title>\r\n",
       "<path fill=\"none\" stroke=\"black\" d=\"M954.1,-175.88C967.25,-166.44 981.7,-156.06 995.3,-146.29\"/>\r\n",
       "<polygon fill=\"black\" stroke=\"black\" points=\"997.56,-148.98 1003.64,-140.3 993.48,-143.29 997.56,-148.98\"/>\r\n",
       "</g>\r\n",
       "<!-- 50 -->\r\n",
       "<g id=\"node27\" class=\"node\">\r\n",
       "<title>50</title>\r\n",
       "<path fill=\"#c0c0c0\" stroke=\"black\" d=\"M921,-36C921,-36 891,-36 891,-36 885,-36 879,-30 879,-24 879,-24 879,-12 879,-12 879,-6 885,0 891,0 891,0 921,0 921,0 927,0 933,-6 933,-12 933,-12 933,-24 933,-24 933,-30 927,-36 921,-36\"/>\r\n",
       "<text text-anchor=\"middle\" x=\"906\" y=\"-14.3\" font-family=\"Helvetica,sans-Serif\" font-size=\"14.00\">(...)</text>\r\n",
       "</g>\r\n",
       "<!-- 49&#45;&gt;50 -->\r\n",
       "<g id=\"edge26\" class=\"edge\">\r\n",
       "<title>49&#45;&gt;50</title>\r\n",
       "<path fill=\"none\" stroke=\"black\" d=\"M907.23,-72C907.04,-63.56 906.83,-54.59 906.64,-46.47\"/>\r\n",
       "<polygon fill=\"black\" stroke=\"black\" points=\"910.14,-46.32 906.4,-36.4 903.14,-46.48 910.14,-46.32\"/>\r\n",
       "</g>\r\n",
       "<!-- 53 -->\r\n",
       "<g id=\"node28\" class=\"node\">\r\n",
       "<title>53</title>\r\n",
       "<path fill=\"#c0c0c0\" stroke=\"black\" d=\"M993,-36C993,-36 963,-36 963,-36 957,-36 951,-30 951,-24 951,-24 951,-12 951,-12 951,-6 957,0 963,0 963,0 993,0 993,0 999,0 1005,-6 1005,-12 1005,-12 1005,-24 1005,-24 1005,-30 999,-36 993,-36\"/>\r\n",
       "<text text-anchor=\"middle\" x=\"978\" y=\"-14.3\" font-family=\"Helvetica,sans-Serif\" font-size=\"14.00\">(...)</text>\r\n",
       "</g>\r\n",
       "<!-- 49&#45;&gt;53 -->\r\n",
       "<g id=\"edge27\" class=\"edge\">\r\n",
       "<title>49&#45;&gt;53</title>\r\n",
       "<path fill=\"none\" stroke=\"black\" d=\"M934.86,-72C942.34,-62.81 950.35,-52.97 957.41,-44.3\"/>\r\n",
       "<polygon fill=\"black\" stroke=\"black\" points=\"960.24,-46.37 963.83,-36.4 954.81,-41.95 960.24,-46.37\"/>\r\n",
       "</g>\r\n",
       "<!-- 57 -->\r\n",
       "<g id=\"node30\" class=\"node\">\r\n",
       "<title>57</title>\r\n",
       "<path fill=\"#c0c0c0\" stroke=\"black\" d=\"M1065,-36C1065,-36 1035,-36 1035,-36 1029,-36 1023,-30 1023,-24 1023,-24 1023,-12 1023,-12 1023,-6 1029,0 1035,0 1035,0 1065,0 1065,0 1071,0 1077,-6 1077,-12 1077,-12 1077,-24 1077,-24 1077,-30 1071,-36 1065,-36\"/>\r\n",
       "<text text-anchor=\"middle\" x=\"1050\" y=\"-14.3\" font-family=\"Helvetica,sans-Serif\" font-size=\"14.00\">(...)</text>\r\n",
       "</g>\r\n",
       "<!-- 56&#45;&gt;57 -->\r\n",
       "<g id=\"edge29\" class=\"edge\">\r\n",
       "<title>56&#45;&gt;57</title>\r\n",
       "<path fill=\"none\" stroke=\"black\" d=\"M1050,-72C1050,-63.56 1050,-54.59 1050,-46.47\"/>\r\n",
       "<polygon fill=\"black\" stroke=\"black\" points=\"1053.5,-46.4 1050,-36.4 1046.5,-46.4 1053.5,-46.4\"/>\r\n",
       "</g>\r\n",
       "<!-- 60 -->\r\n",
       "<g id=\"node31\" class=\"node\">\r\n",
       "<title>60</title>\r\n",
       "<path fill=\"#c0c0c0\" stroke=\"black\" d=\"M1137,-36C1137,-36 1107,-36 1107,-36 1101,-36 1095,-30 1095,-24 1095,-24 1095,-12 1095,-12 1095,-6 1101,0 1107,0 1107,0 1137,0 1137,0 1143,0 1149,-6 1149,-12 1149,-12 1149,-24 1149,-24 1149,-30 1143,-36 1137,-36\"/>\r\n",
       "<text text-anchor=\"middle\" x=\"1122\" y=\"-14.3\" font-family=\"Helvetica,sans-Serif\" font-size=\"14.00\">(...)</text>\r\n",
       "</g>\r\n",
       "<!-- 56&#45;&gt;60 -->\r\n",
       "<g id=\"edge30\" class=\"edge\">\r\n",
       "<title>56&#45;&gt;60</title>\r\n",
       "<path fill=\"none\" stroke=\"black\" d=\"M1077.63,-72C1085.32,-62.81 1093.56,-52.97 1100.82,-44.3\"/>\r\n",
       "<polygon fill=\"black\" stroke=\"black\" points=\"1103.69,-46.32 1107.43,-36.4 1098.33,-41.82 1103.69,-46.32\"/>\r\n",
       "</g>\r\n",
       "</g>\r\n",
       "</svg>\r\n"
      ],
      "text/plain": [
       "<graphviz.files.Source at 0x235084d4520>"
      ]
     },
     "execution_count": 49,
     "metadata": {},
     "output_type": "execute_result"
    }
   ],
   "source": [
    "out_file = results_path / 'reg_tree.dot'\n",
    "dot_data = export_graphviz(regression_tree,\n",
    "                           out_file=out_file.as_posix(),\n",
    "                           feature_names=X_train.columns,\n",
    "                           max_depth=3,\n",
    "                           filled=True,\n",
    "                           rounded=True,\n",
    "                           special_characters=True)\n",
    "if out_file is not None:\n",
    "    dot_data = Path(out_file).read_text()\n",
    "\n",
    "graphviz.Source(dot_data)"
   ]
  },
  {
   "cell_type": "markdown",
   "metadata": {},
   "source": [
    "### Evaluate Test Set"
   ]
  },
  {
   "cell_type": "code",
   "execution_count": 50,
   "metadata": {
    "ExecuteTime": {
     "end_time": "2021-04-16T00:33:35.355228Z",
     "start_time": "2021-04-16T00:33:35.333642Z"
    }
   },
   "outputs": [],
   "source": [
    "y_pred = regression_tree.predict(X_test)"
   ]
  },
  {
   "cell_type": "code",
   "execution_count": 51,
   "metadata": {
    "ExecuteTime": {
     "end_time": "2021-04-16T00:33:35.363324Z",
     "start_time": "2021-04-16T00:33:35.358601Z"
    }
   },
   "outputs": [
    {
     "data": {
      "text/plain": [
       "0.0879037345693426"
      ]
     },
     "execution_count": 51,
     "metadata": {},
     "output_type": "execute_result"
    }
   ],
   "source": [
    "np.sqrt(mean_squared_error(y_pred=y_pred, y_true=y_test))"
   ]
  },
  {
   "cell_type": "code",
   "execution_count": 52,
   "metadata": {
    "ExecuteTime": {
     "end_time": "2021-04-16T00:33:35.379470Z",
     "start_time": "2021-04-16T00:33:35.365615Z"
    }
   },
   "outputs": [
    {
     "name": "stdout",
     "output_type": "stream",
     "text": [
      "21.56 (p-value=0.00%)\n"
     ]
    }
   ],
   "source": [
    "r, p = spearmanr(y_pred, y_test)\n",
    "print(f'{r*100:.2f} (p-value={p:.2%})')"
   ]
  },
  {
   "cell_type": "markdown",
   "metadata": {},
   "source": [
    "## Classification Tree with all Features"
   ]
  },
  {
   "cell_type": "markdown",
   "metadata": {},
   "source": [
    "We will now train, visualize, and evaluate a classification tree with up to 5 consecutive splits using 80% of the samples for training to predict the remaining 20%. We are taking a shortcut here to simplify the illustration and use the built-in train_test_split, which does not protect against lookahead bias, as our custom iterator. The tree configuration implies up to $2^5=32$ leaf nodes that, on average in the balanced case, would contain over 4,300 of the training samples."
   ]
  },
  {
   "cell_type": "markdown",
   "metadata": {},
   "source": [
    "### Train-Test Split"
   ]
  },
  {
   "cell_type": "code",
   "execution_count": 53,
   "metadata": {
    "ExecuteTime": {
     "end_time": "2021-04-16T00:33:35.391198Z",
     "start_time": "2021-04-16T00:33:35.380409Z"
    },
    "scrolled": true
   },
   "outputs": [
    {
     "data": {
      "text/plain": [
       "1    43546\n",
       "0    33889\n",
       "Name: target, dtype: int64"
      ]
     },
     "execution_count": 53,
     "metadata": {},
     "output_type": "execute_result"
    }
   ],
   "source": [
    "y_binary = (y>0).astype(int)\n",
    "y_binary.value_counts()"
   ]
  },
  {
   "cell_type": "code",
   "execution_count": 54,
   "metadata": {
    "ExecuteTime": {
     "end_time": "2021-04-16T00:33:35.421858Z",
     "start_time": "2021-04-16T00:33:35.392557Z"
    }
   },
   "outputs": [],
   "source": [
    "X_train, X_test, y_train, y_test = train_test_split(X, y_binary, test_size=0.2, random_state=42)"
   ]
  },
  {
   "cell_type": "code",
   "execution_count": 55,
   "metadata": {
    "ExecuteTime": {
     "end_time": "2021-04-16T00:33:35.425897Z",
     "start_time": "2021-04-16T00:33:35.423388Z"
    }
   },
   "outputs": [],
   "source": [
    "clf = DecisionTreeClassifier(criterion='gini',\n",
    "                             max_depth=5,\n",
    "                             random_state=42)"
   ]
  },
  {
   "cell_type": "code",
   "execution_count": 56,
   "metadata": {
    "ExecuteTime": {
     "end_time": "2021-04-16T00:33:36.216311Z",
     "start_time": "2021-04-16T00:33:35.427617Z"
    }
   },
   "outputs": [
    {
     "data": {
      "text/plain": [
       "DecisionTreeClassifier(max_depth=5, random_state=42)"
      ]
     },
     "execution_count": 56,
     "metadata": {},
     "output_type": "execute_result"
    }
   ],
   "source": [
    "clf.fit(X=X_train, y=y_train)"
   ]
  },
  {
   "cell_type": "markdown",
   "metadata": {},
   "source": [
    "### Plot Tree"
   ]
  },
  {
   "cell_type": "code",
   "execution_count": 57,
   "metadata": {
    "ExecuteTime": {
     "end_time": "2021-04-16T00:33:36.260644Z",
     "start_time": "2021-04-16T00:33:36.219967Z"
    },
    "scrolled": false
   },
   "outputs": [
    {
     "data": {
      "image/svg+xml": [
       "<?xml version=\"1.0\" encoding=\"UTF-8\" standalone=\"no\"?>\r\n",
       "<!DOCTYPE svg PUBLIC \"-//W3C//DTD SVG 1.1//EN\"\r\n",
       " \"http://www.w3.org/Graphics/SVG/1.1/DTD/svg11.dtd\">\r\n",
       "<!-- Generated by graphviz version 2.47.1 (0)\r\n",
       " -->\r\n",
       "<!-- Title: Tree Pages: 1 -->\r\n",
       "<svg width=\"1276pt\" height=\"520pt\"\r\n",
       " viewBox=\"0.00 0.00 1275.50 520.00\" xmlns=\"http://www.w3.org/2000/svg\" xmlns:xlink=\"http://www.w3.org/1999/xlink\">\r\n",
       "<g id=\"graph0\" class=\"graph\" transform=\"scale(1 1) rotate(0) translate(4 516)\">\r\n",
       "<title>Tree</title>\r\n",
       "<polygon fill=\"white\" stroke=\"transparent\" points=\"-4,4 -4,-516 1271.5,-516 1271.5,4 -4,4\"/>\r\n",
       "<!-- 0 -->\r\n",
       "<g id=\"node1\" class=\"node\">\r\n",
       "<title>0</title>\r\n",
       "<path fill=\"#d3e9f9\" stroke=\"black\" d=\"M695.5,-512C695.5,-512 556.5,-512 556.5,-512 550.5,-512 544.5,-506 544.5,-500 544.5,-500 544.5,-441 544.5,-441 544.5,-435 550.5,-429 556.5,-429 556.5,-429 695.5,-429 695.5,-429 701.5,-429 707.5,-435 707.5,-441 707.5,-441 707.5,-500 707.5,-500 707.5,-506 701.5,-512 695.5,-512\"/>\r\n",
       "<text text-anchor=\"start\" x=\"588.5\" y=\"-496.8\" font-family=\"Helvetica,sans-Serif\" font-size=\"14.00\">month ≤ 2.5</text>\r\n",
       "<text text-anchor=\"start\" x=\"588.5\" y=\"-481.8\" font-family=\"Helvetica,sans-Serif\" font-size=\"14.00\">gini = 0.492</text>\r\n",
       "<text text-anchor=\"start\" x=\"570\" y=\"-466.8\" font-family=\"Helvetica,sans-Serif\" font-size=\"14.00\">samples = 61948</text>\r\n",
       "<text text-anchor=\"start\" x=\"552.5\" y=\"-451.8\" font-family=\"Helvetica,sans-Serif\" font-size=\"14.00\">value = [27130, 34818]</text>\r\n",
       "<text text-anchor=\"start\" x=\"592.5\" y=\"-436.8\" font-family=\"Helvetica,sans-Serif\" font-size=\"14.00\">class = Up</text>\r\n",
       "</g>\r\n",
       "<!-- 1 -->\r\n",
       "<g id=\"node2\" class=\"node\">\r\n",
       "<title>1</title>\r\n",
       "<path fill=\"#aed7f4\" stroke=\"black\" d=\"M529,-393C529,-393 407,-393 407,-393 401,-393 395,-387 395,-381 395,-381 395,-322 395,-322 395,-316 401,-310 407,-310 407,-310 529,-310 529,-310 535,-310 541,-316 541,-322 541,-322 541,-381 541,-381 541,-387 535,-393 529,-393\"/>\r\n",
       "<text text-anchor=\"start\" x=\"424\" y=\"-377.8\" font-family=\"Helvetica,sans-Serif\" font-size=\"14.00\">year ≤ 2009.5</text>\r\n",
       "<text text-anchor=\"start\" x=\"430.5\" y=\"-362.8\" font-family=\"Helvetica,sans-Serif\" font-size=\"14.00\">gini = 0.467</text>\r\n",
       "<text text-anchor=\"start\" x=\"412\" y=\"-347.8\" font-family=\"Helvetica,sans-Serif\" font-size=\"14.00\">samples = 10400</text>\r\n",
       "<text text-anchor=\"start\" x=\"403\" y=\"-332.8\" font-family=\"Helvetica,sans-Serif\" font-size=\"14.00\">value = [3863, 6537]</text>\r\n",
       "<text text-anchor=\"start\" x=\"434.5\" y=\"-317.8\" font-family=\"Helvetica,sans-Serif\" font-size=\"14.00\">class = Up</text>\r\n",
       "</g>\r\n",
       "<!-- 0&#45;&gt;1 -->\r\n",
       "<g id=\"edge1\" class=\"edge\">\r\n",
       "<title>0&#45;&gt;1</title>\r\n",
       "<path fill=\"none\" stroke=\"black\" d=\"M571.18,-428.91C558.19,-419.29 544.24,-408.95 530.92,-399.09\"/>\r\n",
       "<polygon fill=\"black\" stroke=\"black\" points=\"532.84,-396.16 522.72,-393.02 528.67,-401.78 532.84,-396.16\"/>\r\n",
       "<text text-anchor=\"middle\" x=\"526.41\" y=\"-414.05\" font-family=\"Helvetica,sans-Serif\" font-size=\"14.00\">True</text>\r\n",
       "</g>\r\n",
       "<!-- 32 -->\r\n",
       "<g id=\"node17\" class=\"node\">\r\n",
       "<title>32</title>\r\n",
       "<path fill=\"#dceefa\" stroke=\"black\" d=\"M847.5,-393C847.5,-393 708.5,-393 708.5,-393 702.5,-393 696.5,-387 696.5,-381 696.5,-381 696.5,-322 696.5,-322 696.5,-316 702.5,-310 708.5,-310 708.5,-310 847.5,-310 847.5,-310 853.5,-310 859.5,-316 859.5,-322 859.5,-322 859.5,-381 859.5,-381 859.5,-387 853.5,-393 847.5,-393\"/>\r\n",
       "<text text-anchor=\"start\" x=\"734\" y=\"-377.8\" font-family=\"Helvetica,sans-Serif\" font-size=\"14.00\">year ≤ 2002.5</text>\r\n",
       "<text text-anchor=\"start\" x=\"740.5\" y=\"-362.8\" font-family=\"Helvetica,sans-Serif\" font-size=\"14.00\">gini = 0.495</text>\r\n",
       "<text text-anchor=\"start\" x=\"722\" y=\"-347.8\" font-family=\"Helvetica,sans-Serif\" font-size=\"14.00\">samples = 51548</text>\r\n",
       "<text text-anchor=\"start\" x=\"704.5\" y=\"-332.8\" font-family=\"Helvetica,sans-Serif\" font-size=\"14.00\">value = [23267, 28281]</text>\r\n",
       "<text text-anchor=\"start\" x=\"744.5\" y=\"-317.8\" font-family=\"Helvetica,sans-Serif\" font-size=\"14.00\">class = Up</text>\r\n",
       "</g>\r\n",
       "<!-- 0&#45;&gt;32 -->\r\n",
       "<g id=\"edge16\" class=\"edge\">\r\n",
       "<title>0&#45;&gt;32</title>\r\n",
       "<path fill=\"none\" stroke=\"black\" d=\"M678.74,-428.91C691.12,-419.38 704.41,-409.15 717.11,-399.37\"/>\r\n",
       "<polygon fill=\"black\" stroke=\"black\" points=\"719.57,-401.89 725.36,-393.02 715.3,-396.35 719.57,-401.89\"/>\r\n",
       "<text text-anchor=\"middle\" x=\"722.13\" y=\"-414.11\" font-family=\"Helvetica,sans-Serif\" font-size=\"14.00\">False</text>\r\n",
       "</g>\r\n",
       "<!-- 2 -->\r\n",
       "<g id=\"node3\" class=\"node\">\r\n",
       "<title>2</title>\r\n",
       "<path fill=\"#dfeffb\" stroke=\"black\" d=\"M294,-274C294,-274 172,-274 172,-274 166,-274 160,-268 160,-262 160,-262 160,-203 160,-203 160,-197 166,-191 172,-191 172,-191 294,-191 294,-191 300,-191 306,-197 306,-203 306,-203 306,-262 306,-262 306,-268 300,-274 294,-274\"/>\r\n",
       "<text text-anchor=\"start\" x=\"195.5\" y=\"-258.8\" font-family=\"Helvetica,sans-Serif\" font-size=\"14.00\">month ≤ 1.5</text>\r\n",
       "<text text-anchor=\"start\" x=\"195.5\" y=\"-243.8\" font-family=\"Helvetica,sans-Serif\" font-size=\"14.00\">gini = 0.496</text>\r\n",
       "<text text-anchor=\"start\" x=\"181.5\" y=\"-228.8\" font-family=\"Helvetica,sans-Serif\" font-size=\"14.00\">samples = 4807</text>\r\n",
       "<text text-anchor=\"start\" x=\"168\" y=\"-213.8\" font-family=\"Helvetica,sans-Serif\" font-size=\"14.00\">value = [2192, 2615]</text>\r\n",
       "<text text-anchor=\"start\" x=\"199.5\" y=\"-198.8\" font-family=\"Helvetica,sans-Serif\" font-size=\"14.00\">class = Up</text>\r\n",
       "</g>\r\n",
       "<!-- 1&#45;&gt;2 -->\r\n",
       "<g id=\"edge2\" class=\"edge\">\r\n",
       "<title>1&#45;&gt;2</title>\r\n",
       "<path fill=\"none\" stroke=\"black\" d=\"M394.93,-314.12C369.62,-301.52 341.09,-287.31 315.1,-274.37\"/>\r\n",
       "<polygon fill=\"black\" stroke=\"black\" points=\"316.53,-271.18 306.02,-269.86 313.41,-277.45 316.53,-271.18\"/>\r\n",
       "</g>\r\n",
       "<!-- 17 -->\r\n",
       "<g id=\"node10\" class=\"node\">\r\n",
       "<title>17</title>\r\n",
       "<path fill=\"#8dc7f0\" stroke=\"black\" d=\"M529,-274C529,-274 407,-274 407,-274 401,-274 395,-268 395,-262 395,-262 395,-203 395,-203 395,-197 401,-191 407,-191 407,-191 529,-191 529,-191 535,-191 541,-197 541,-203 541,-203 541,-262 541,-262 541,-268 535,-274 529,-274\"/>\r\n",
       "<text text-anchor=\"start\" x=\"424\" y=\"-258.8\" font-family=\"Helvetica,sans-Serif\" font-size=\"14.00\">year ≤ 2010.5</text>\r\n",
       "<text text-anchor=\"start\" x=\"430.5\" y=\"-243.8\" font-family=\"Helvetica,sans-Serif\" font-size=\"14.00\">gini = 0.419</text>\r\n",
       "<text text-anchor=\"start\" x=\"416.5\" y=\"-228.8\" font-family=\"Helvetica,sans-Serif\" font-size=\"14.00\">samples = 5593</text>\r\n",
       "<text text-anchor=\"start\" x=\"403\" y=\"-213.8\" font-family=\"Helvetica,sans-Serif\" font-size=\"14.00\">value = [1671, 3922]</text>\r\n",
       "<text text-anchor=\"start\" x=\"434.5\" y=\"-198.8\" font-family=\"Helvetica,sans-Serif\" font-size=\"14.00\">class = Up</text>\r\n",
       "</g>\r\n",
       "<!-- 1&#45;&gt;17 -->\r\n",
       "<g id=\"edge9\" class=\"edge\">\r\n",
       "<title>1&#45;&gt;17</title>\r\n",
       "<path fill=\"none\" stroke=\"black\" d=\"M468,-309.91C468,-301.65 468,-292.86 468,-284.3\"/>\r\n",
       "<polygon fill=\"black\" stroke=\"black\" points=\"471.5,-284.02 468,-274.02 464.5,-284.02 471.5,-284.02\"/>\r\n",
       "</g>\r\n",
       "<!-- 3 -->\r\n",
       "<g id=\"node4\" class=\"node\">\r\n",
       "<title>3</title>\r\n",
       "<path fill=\"#fdf7f2\" stroke=\"black\" d=\"M134,-155C134,-155 12,-155 12,-155 6,-155 0,-149 0,-143 0,-143 0,-84 0,-84 0,-78 6,-72 12,-72 12,-72 134,-72 134,-72 140,-72 146,-78 146,-84 146,-84 146,-143 146,-143 146,-149 140,-155 134,-155\"/>\r\n",
       "<text text-anchor=\"start\" x=\"39\" y=\"-139.8\" font-family=\"Helvetica,sans-Serif\" font-size=\"14.00\">atr ≤ 0.159</text>\r\n",
       "<text text-anchor=\"start\" x=\"35.5\" y=\"-124.8\" font-family=\"Helvetica,sans-Serif\" font-size=\"14.00\">gini = 0.499</text>\r\n",
       "<text text-anchor=\"start\" x=\"21.5\" y=\"-109.8\" font-family=\"Helvetica,sans-Serif\" font-size=\"14.00\">samples = 2394</text>\r\n",
       "<text text-anchor=\"start\" x=\"8\" y=\"-94.8\" font-family=\"Helvetica,sans-Serif\" font-size=\"14.00\">value = [1238, 1156]</text>\r\n",
       "<text text-anchor=\"start\" x=\"30.5\" y=\"-79.8\" font-family=\"Helvetica,sans-Serif\" font-size=\"14.00\">class = Down</text>\r\n",
       "</g>\r\n",
       "<!-- 2&#45;&gt;3 -->\r\n",
       "<g id=\"edge3\" class=\"edge\">\r\n",
       "<title>2&#45;&gt;3</title>\r\n",
       "<path fill=\"none\" stroke=\"black\" d=\"M177.49,-190.91C164.33,-181.29 150.2,-170.95 136.71,-161.09\"/>\r\n",
       "<polygon fill=\"black\" stroke=\"black\" points=\"138.55,-158.1 128.41,-155.02 134.42,-163.75 138.55,-158.1\"/>\r\n",
       "</g>\r\n",
       "<!-- 10 -->\r\n",
       "<g id=\"node7\" class=\"node\">\r\n",
       "<title>10</title>\r\n",
       "<path fill=\"#baddf6\" stroke=\"black\" d=\"M290,-155C290,-155 176,-155 176,-155 170,-155 164,-149 164,-143 164,-143 164,-84 164,-84 164,-78 170,-72 176,-72 176,-72 290,-72 290,-72 296,-72 302,-78 302,-84 302,-84 302,-143 302,-143 302,-149 296,-155 290,-155\"/>\r\n",
       "<text text-anchor=\"start\" x=\"189\" y=\"-139.8\" font-family=\"Helvetica,sans-Serif\" font-size=\"14.00\">year ≤ 2008.5</text>\r\n",
       "<text text-anchor=\"start\" x=\"195.5\" y=\"-124.8\" font-family=\"Helvetica,sans-Serif\" font-size=\"14.00\">gini = 0.478</text>\r\n",
       "<text text-anchor=\"start\" x=\"181.5\" y=\"-109.8\" font-family=\"Helvetica,sans-Serif\" font-size=\"14.00\">samples = 2413</text>\r\n",
       "<text text-anchor=\"start\" x=\"172\" y=\"-94.8\" font-family=\"Helvetica,sans-Serif\" font-size=\"14.00\">value = [954, 1459]</text>\r\n",
       "<text text-anchor=\"start\" x=\"199.5\" y=\"-79.8\" font-family=\"Helvetica,sans-Serif\" font-size=\"14.00\">class = Up</text>\r\n",
       "</g>\r\n",
       "<!-- 2&#45;&gt;10 -->\r\n",
       "<g id=\"edge6\" class=\"edge\">\r\n",
       "<title>2&#45;&gt;10</title>\r\n",
       "<path fill=\"none\" stroke=\"black\" d=\"M233,-190.91C233,-182.65 233,-173.86 233,-165.3\"/>\r\n",
       "<polygon fill=\"black\" stroke=\"black\" points=\"236.5,-165.02 233,-155.02 229.5,-165.02 236.5,-165.02\"/>\r\n",
       "</g>\r\n",
       "<!-- 4 -->\r\n",
       "<g id=\"node5\" class=\"node\">\r\n",
       "<title>4</title>\r\n",
       "<path fill=\"#c0c0c0\" stroke=\"black\" d=\"M52,-36C52,-36 22,-36 22,-36 16,-36 10,-30 10,-24 10,-24 10,-12 10,-12 10,-6 16,0 22,0 22,0 52,0 52,0 58,0 64,-6 64,-12 64,-12 64,-24 64,-24 64,-30 58,-36 52,-36\"/>\r\n",
       "<text text-anchor=\"middle\" x=\"37\" y=\"-14.3\" font-family=\"Helvetica,sans-Serif\" font-size=\"14.00\">(...)</text>\r\n",
       "</g>\r\n",
       "<!-- 3&#45;&gt;4 -->\r\n",
       "<g id=\"edge4\" class=\"edge\">\r\n",
       "<title>3&#45;&gt;4</title>\r\n",
       "<path fill=\"none\" stroke=\"black\" d=\"M57.31,-71.76C53.96,-63.04 50.49,-54.04 47.39,-45.99\"/>\r\n",
       "<polygon fill=\"black\" stroke=\"black\" points=\"50.56,-44.48 43.7,-36.41 44.03,-46.99 50.56,-44.48\"/>\r\n",
       "</g>\r\n",
       "<!-- 7 -->\r\n",
       "<g id=\"node6\" class=\"node\">\r\n",
       "<title>7</title>\r\n",
       "<path fill=\"#c0c0c0\" stroke=\"black\" d=\"M124,-36C124,-36 94,-36 94,-36 88,-36 82,-30 82,-24 82,-24 82,-12 82,-12 82,-6 88,0 94,0 94,0 124,0 124,0 130,0 136,-6 136,-12 136,-12 136,-24 136,-24 136,-30 130,-36 124,-36\"/>\r\n",
       "<text text-anchor=\"middle\" x=\"109\" y=\"-14.3\" font-family=\"Helvetica,sans-Serif\" font-size=\"14.00\">(...)</text>\r\n",
       "</g>\r\n",
       "<!-- 3&#45;&gt;7 -->\r\n",
       "<g id=\"edge5\" class=\"edge\">\r\n",
       "<title>3&#45;&gt;7</title>\r\n",
       "<path fill=\"none\" stroke=\"black\" d=\"M88.69,-71.76C92.04,-63.04 95.51,-54.04 98.61,-45.99\"/>\r\n",
       "<polygon fill=\"black\" stroke=\"black\" points=\"101.97,-46.99 102.3,-36.41 95.44,-44.48 101.97,-46.99\"/>\r\n",
       "</g>\r\n",
       "<!-- 11 -->\r\n",
       "<g id=\"node8\" class=\"node\">\r\n",
       "<title>11</title>\r\n",
       "<path fill=\"#c0c0c0\" stroke=\"black\" d=\"M219,-36C219,-36 189,-36 189,-36 183,-36 177,-30 177,-24 177,-24 177,-12 177,-12 177,-6 183,0 189,0 189,0 219,0 219,0 225,0 231,-6 231,-12 231,-12 231,-24 231,-24 231,-30 225,-36 219,-36\"/>\r\n",
       "<text text-anchor=\"middle\" x=\"204\" y=\"-14.3\" font-family=\"Helvetica,sans-Serif\" font-size=\"14.00\">(...)</text>\r\n",
       "</g>\r\n",
       "<!-- 10&#45;&gt;11 -->\r\n",
       "<g id=\"edge7\" class=\"edge\">\r\n",
       "<title>10&#45;&gt;11</title>\r\n",
       "<path fill=\"none\" stroke=\"black\" d=\"M220.36,-71.76C217.66,-63.04 214.87,-54.04 212.37,-45.99\"/>\r\n",
       "<polygon fill=\"black\" stroke=\"black\" points=\"215.7,-44.92 209.4,-36.41 209.02,-46.99 215.7,-44.92\"/>\r\n",
       "</g>\r\n",
       "<!-- 14 -->\r\n",
       "<g id=\"node9\" class=\"node\">\r\n",
       "<title>14</title>\r\n",
       "<path fill=\"#c0c0c0\" stroke=\"black\" d=\"M291,-36C291,-36 261,-36 261,-36 255,-36 249,-30 249,-24 249,-24 249,-12 249,-12 249,-6 255,0 261,0 261,0 291,0 291,0 297,0 303,-6 303,-12 303,-12 303,-24 303,-24 303,-30 297,-36 291,-36\"/>\r\n",
       "<text text-anchor=\"middle\" x=\"276\" y=\"-14.3\" font-family=\"Helvetica,sans-Serif\" font-size=\"14.00\">(...)</text>\r\n",
       "</g>\r\n",
       "<!-- 10&#45;&gt;14 -->\r\n",
       "<g id=\"edge8\" class=\"edge\">\r\n",
       "<title>10&#45;&gt;14</title>\r\n",
       "<path fill=\"none\" stroke=\"black\" d=\"M251.74,-71.76C255.79,-62.94 259.98,-53.84 263.71,-45.72\"/>\r\n",
       "<polygon fill=\"black\" stroke=\"black\" points=\"267,-46.95 268,-36.41 260.64,-44.03 267,-46.95\"/>\r\n",
       "</g>\r\n",
       "<!-- 18 -->\r\n",
       "<g id=\"node11\" class=\"node\">\r\n",
       "<title>18</title>\r\n",
       "<path fill=\"#5dafea\" stroke=\"black\" d=\"M449.5,-155C449.5,-155 332.5,-155 332.5,-155 326.5,-155 320.5,-149 320.5,-143 320.5,-143 320.5,-84 320.5,-84 320.5,-78 326.5,-72 332.5,-72 332.5,-72 449.5,-72 449.5,-72 455.5,-72 461.5,-78 461.5,-84 461.5,-84 461.5,-143 461.5,-143 461.5,-149 455.5,-155 449.5,-155\"/>\r\n",
       "<text text-anchor=\"start\" x=\"328.5\" y=\"-139.8\" font-family=\"Helvetica,sans-Serif\" font-size=\"14.00\">return_12m ≤ 0.012</text>\r\n",
       "<text text-anchor=\"start\" x=\"353.5\" y=\"-124.8\" font-family=\"Helvetica,sans-Serif\" font-size=\"14.00\">gini = 0.262</text>\r\n",
       "<text text-anchor=\"start\" x=\"343.5\" y=\"-109.8\" font-family=\"Helvetica,sans-Serif\" font-size=\"14.00\">samples = 620</text>\r\n",
       "<text text-anchor=\"start\" x=\"338\" y=\"-94.8\" font-family=\"Helvetica,sans-Serif\" font-size=\"14.00\">value = [96, 524]</text>\r\n",
       "<text text-anchor=\"start\" x=\"357.5\" y=\"-79.8\" font-family=\"Helvetica,sans-Serif\" font-size=\"14.00\">class = Up</text>\r\n",
       "</g>\r\n",
       "<!-- 17&#45;&gt;18 -->\r\n",
       "<g id=\"edge10\" class=\"edge\">\r\n",
       "<title>17&#45;&gt;18</title>\r\n",
       "<path fill=\"none\" stroke=\"black\" d=\"M441.29,-190.91C435.49,-182.1 429.3,-172.7 423.32,-163.61\"/>\r\n",
       "<polygon fill=\"black\" stroke=\"black\" points=\"426.09,-161.45 417.67,-155.02 420.24,-165.3 426.09,-161.45\"/>\r\n",
       "</g>\r\n",
       "<!-- 25 -->\r\n",
       "<g id=\"node14\" class=\"node\">\r\n",
       "<title>25</title>\r\n",
       "<path fill=\"#95caf1\" stroke=\"black\" d=\"M614,-155C614,-155 492,-155 492,-155 486,-155 480,-149 480,-143 480,-143 480,-84 480,-84 480,-78 486,-72 492,-72 492,-72 614,-72 614,-72 620,-72 626,-78 626,-84 626,-84 626,-143 626,-143 626,-149 620,-155 614,-155\"/>\r\n",
       "<text text-anchor=\"start\" x=\"515.5\" y=\"-139.8\" font-family=\"Helvetica,sans-Serif\" font-size=\"14.00\">month ≤ 1.5</text>\r\n",
       "<text text-anchor=\"start\" x=\"515.5\" y=\"-124.8\" font-family=\"Helvetica,sans-Serif\" font-size=\"14.00\">gini = 0.433</text>\r\n",
       "<text text-anchor=\"start\" x=\"501.5\" y=\"-109.8\" font-family=\"Helvetica,sans-Serif\" font-size=\"14.00\">samples = 4973</text>\r\n",
       "<text text-anchor=\"start\" x=\"488\" y=\"-94.8\" font-family=\"Helvetica,sans-Serif\" font-size=\"14.00\">value = [1575, 3398]</text>\r\n",
       "<text text-anchor=\"start\" x=\"519.5\" y=\"-79.8\" font-family=\"Helvetica,sans-Serif\" font-size=\"14.00\">class = Up</text>\r\n",
       "</g>\r\n",
       "<!-- 17&#45;&gt;25 -->\r\n",
       "<g id=\"edge13\" class=\"edge\">\r\n",
       "<title>17&#45;&gt;25</title>\r\n",
       "<path fill=\"none\" stroke=\"black\" d=\"M497.49,-190.91C503.95,-182.01 510.86,-172.51 517.52,-163.33\"/>\r\n",
       "<polygon fill=\"black\" stroke=\"black\" points=\"520.52,-165.17 523.56,-155.02 514.85,-161.05 520.52,-165.17\"/>\r\n",
       "</g>\r\n",
       "<!-- 19 -->\r\n",
       "<g id=\"node12\" class=\"node\">\r\n",
       "<title>19</title>\r\n",
       "<path fill=\"#c0c0c0\" stroke=\"black\" d=\"M385,-36C385,-36 355,-36 355,-36 349,-36 343,-30 343,-24 343,-24 343,-12 343,-12 343,-6 349,0 355,0 355,0 385,0 385,0 391,0 397,-6 397,-12 397,-12 397,-24 397,-24 397,-30 391,-36 385,-36\"/>\r\n",
       "<text text-anchor=\"middle\" x=\"370\" y=\"-14.3\" font-family=\"Helvetica,sans-Serif\" font-size=\"14.00\">(...)</text>\r\n",
       "</g>\r\n",
       "<!-- 18&#45;&gt;19 -->\r\n",
       "<g id=\"edge11\" class=\"edge\">\r\n",
       "<title>18&#45;&gt;19</title>\r\n",
       "<path fill=\"none\" stroke=\"black\" d=\"M381.85,-71.76C379.91,-63.14 377.91,-54.24 376.12,-46.26\"/>\r\n",
       "<polygon fill=\"black\" stroke=\"black\" points=\"379.52,-45.4 373.91,-36.41 372.69,-46.93 379.52,-45.4\"/>\r\n",
       "</g>\r\n",
       "<!-- 22 -->\r\n",
       "<g id=\"node13\" class=\"node\">\r\n",
       "<title>22</title>\r\n",
       "<path fill=\"#c0c0c0\" stroke=\"black\" d=\"M457,-36C457,-36 427,-36 427,-36 421,-36 415,-30 415,-24 415,-24 415,-12 415,-12 415,-6 421,0 427,0 427,0 457,0 457,0 463,0 469,-6 469,-12 469,-12 469,-24 469,-24 469,-30 463,-36 457,-36\"/>\r\n",
       "<text text-anchor=\"middle\" x=\"442\" y=\"-14.3\" font-family=\"Helvetica,sans-Serif\" font-size=\"14.00\">(...)</text>\r\n",
       "</g>\r\n",
       "<!-- 18&#45;&gt;22 -->\r\n",
       "<g id=\"edge12\" class=\"edge\">\r\n",
       "<title>18&#45;&gt;22</title>\r\n",
       "<path fill=\"none\" stroke=\"black\" d=\"M413.22,-71.76C418.14,-62.75 423.22,-53.44 427.71,-45.19\"/>\r\n",
       "<polygon fill=\"black\" stroke=\"black\" points=\"430.79,-46.86 432.51,-36.41 424.65,-43.51 430.79,-46.86\"/>\r\n",
       "</g>\r\n",
       "<!-- 26 -->\r\n",
       "<g id=\"node15\" class=\"node\">\r\n",
       "<title>26</title>\r\n",
       "<path fill=\"#c0c0c0\" stroke=\"black\" d=\"M540,-36C540,-36 510,-36 510,-36 504,-36 498,-30 498,-24 498,-24 498,-12 498,-12 498,-6 504,0 510,0 510,0 540,0 540,0 546,0 552,-6 552,-12 552,-12 552,-24 552,-24 552,-30 546,-36 540,-36\"/>\r\n",
       "<text text-anchor=\"middle\" x=\"525\" y=\"-14.3\" font-family=\"Helvetica,sans-Serif\" font-size=\"14.00\">(...)</text>\r\n",
       "</g>\r\n",
       "<!-- 25&#45;&gt;26 -->\r\n",
       "<g id=\"edge14\" class=\"edge\">\r\n",
       "<title>25&#45;&gt;26</title>\r\n",
       "<path fill=\"none\" stroke=\"black\" d=\"M540.8,-71.76C538.19,-63.04 535.49,-54.04 533.08,-45.99\"/>\r\n",
       "<polygon fill=\"black\" stroke=\"black\" points=\"536.43,-44.98 530.21,-36.41 529.73,-46.99 536.43,-44.98\"/>\r\n",
       "</g>\r\n",
       "<!-- 29 -->\r\n",
       "<g id=\"node16\" class=\"node\">\r\n",
       "<title>29</title>\r\n",
       "<path fill=\"#c0c0c0\" stroke=\"black\" d=\"M612,-36C612,-36 582,-36 582,-36 576,-36 570,-30 570,-24 570,-24 570,-12 570,-12 570,-6 576,0 582,0 582,0 612,0 612,0 618,0 624,-6 624,-12 624,-12 624,-24 624,-24 624,-30 618,-36 612,-36\"/>\r\n",
       "<text text-anchor=\"middle\" x=\"597\" y=\"-14.3\" font-family=\"Helvetica,sans-Serif\" font-size=\"14.00\">(...)</text>\r\n",
       "</g>\r\n",
       "<!-- 25&#45;&gt;29 -->\r\n",
       "<g id=\"edge15\" class=\"edge\">\r\n",
       "<title>25&#45;&gt;29</title>\r\n",
       "<path fill=\"none\" stroke=\"black\" d=\"M572.17,-71.76C576.37,-62.85 580.7,-53.64 584.55,-45.46\"/>\r\n",
       "<polygon fill=\"black\" stroke=\"black\" points=\"587.72,-46.94 588.81,-36.41 581.38,-43.96 587.72,-46.94\"/>\r\n",
       "</g>\r\n",
       "<!-- 33 -->\r\n",
       "<g id=\"node18\" class=\"node\">\r\n",
       "<title>33</title>\r\n",
       "<path fill=\"#f6d3b9\" stroke=\"black\" d=\"M839,-274C839,-274 717,-274 717,-274 711,-274 705,-268 705,-262 705,-262 705,-203 705,-203 705,-197 711,-191 717,-191 717,-191 839,-191 839,-191 845,-191 851,-197 851,-203 851,-203 851,-262 851,-262 851,-268 845,-274 839,-274\"/>\r\n",
       "<text text-anchor=\"start\" x=\"740.5\" y=\"-258.8\" font-family=\"Helvetica,sans-Serif\" font-size=\"14.00\">month ≤ 8.5</text>\r\n",
       "<text text-anchor=\"start\" x=\"740.5\" y=\"-243.8\" font-family=\"Helvetica,sans-Serif\" font-size=\"14.00\">gini = 0.477</text>\r\n",
       "<text text-anchor=\"start\" x=\"726.5\" y=\"-228.8\" font-family=\"Helvetica,sans-Serif\" font-size=\"14.00\">samples = 2752</text>\r\n",
       "<text text-anchor=\"start\" x=\"713\" y=\"-213.8\" font-family=\"Helvetica,sans-Serif\" font-size=\"14.00\">value = [1669, 1083]</text>\r\n",
       "<text text-anchor=\"start\" x=\"735.5\" y=\"-198.8\" font-family=\"Helvetica,sans-Serif\" font-size=\"14.00\">class = Down</text>\r\n",
       "</g>\r\n",
       "<!-- 32&#45;&gt;33 -->\r\n",
       "<g id=\"edge17\" class=\"edge\">\r\n",
       "<title>32&#45;&gt;33</title>\r\n",
       "<path fill=\"none\" stroke=\"black\" d=\"M778,-309.91C778,-301.65 778,-292.86 778,-284.3\"/>\r\n",
       "<polygon fill=\"black\" stroke=\"black\" points=\"781.5,-284.02 778,-274.02 774.5,-284.02 781.5,-284.02\"/>\r\n",
       "</g>\r\n",
       "<!-- 48 -->\r\n",
       "<g id=\"node25\" class=\"node\">\r\n",
       "<title>48</title>\r\n",
       "<path fill=\"#d6ebfa\" stroke=\"black\" d=\"M1086.5,-274C1086.5,-274 947.5,-274 947.5,-274 941.5,-274 935.5,-268 935.5,-262 935.5,-262 935.5,-203 935.5,-203 935.5,-197 941.5,-191 947.5,-191 947.5,-191 1086.5,-191 1086.5,-191 1092.5,-191 1098.5,-197 1098.5,-203 1098.5,-203 1098.5,-262 1098.5,-262 1098.5,-268 1092.5,-274 1086.5,-274\"/>\r\n",
       "<text text-anchor=\"start\" x=\"973\" y=\"-258.8\" font-family=\"Helvetica,sans-Serif\" font-size=\"14.00\">year ≤ 2003.5</text>\r\n",
       "<text text-anchor=\"start\" x=\"979.5\" y=\"-243.8\" font-family=\"Helvetica,sans-Serif\" font-size=\"14.00\">gini = 0.493</text>\r\n",
       "<text text-anchor=\"start\" x=\"961\" y=\"-228.8\" font-family=\"Helvetica,sans-Serif\" font-size=\"14.00\">samples = 48796</text>\r\n",
       "<text text-anchor=\"start\" x=\"943.5\" y=\"-213.8\" font-family=\"Helvetica,sans-Serif\" font-size=\"14.00\">value = [21598, 27198]</text>\r\n",
       "<text text-anchor=\"start\" x=\"983.5\" y=\"-198.8\" font-family=\"Helvetica,sans-Serif\" font-size=\"14.00\">class = Up</text>\r\n",
       "</g>\r\n",
       "<!-- 32&#45;&gt;48 -->\r\n",
       "<g id=\"edge24\" class=\"edge\">\r\n",
       "<title>32&#45;&gt;48</title>\r\n",
       "<path fill=\"none\" stroke=\"black\" d=\"M859.58,-310.56C881.09,-300.03 904.44,-288.6 926.39,-277.86\"/>\r\n",
       "<polygon fill=\"black\" stroke=\"black\" points=\"927.94,-281 935.38,-273.46 924.86,-274.71 927.94,-281\"/>\r\n",
       "</g>\r\n",
       "<!-- 34 -->\r\n",
       "<g id=\"node19\" class=\"node\">\r\n",
       "<title>34</title>\r\n",
       "<path fill=\"#f1bc95\" stroke=\"black\" d=\"M770,-155C770,-155 656,-155 656,-155 650,-155 644,-149 644,-143 644,-143 644,-84 644,-84 644,-78 650,-72 656,-72 656,-72 770,-72 770,-72 776,-72 782,-78 782,-84 782,-84 782,-143 782,-143 782,-149 776,-155 770,-155\"/>\r\n",
       "<text text-anchor=\"start\" x=\"675.5\" y=\"-139.8\" font-family=\"Helvetica,sans-Serif\" font-size=\"14.00\">month ≤ 4.5</text>\r\n",
       "<text text-anchor=\"start\" x=\"675.5\" y=\"-124.8\" font-family=\"Helvetica,sans-Serif\" font-size=\"14.00\">gini = 0.434</text>\r\n",
       "<text text-anchor=\"start\" x=\"661.5\" y=\"-109.8\" font-family=\"Helvetica,sans-Serif\" font-size=\"14.00\">samples = 1652</text>\r\n",
       "<text text-anchor=\"start\" x=\"652\" y=\"-94.8\" font-family=\"Helvetica,sans-Serif\" font-size=\"14.00\">value = [1127, 525]</text>\r\n",
       "<text text-anchor=\"start\" x=\"670.5\" y=\"-79.8\" font-family=\"Helvetica,sans-Serif\" font-size=\"14.00\">class = Down</text>\r\n",
       "</g>\r\n",
       "<!-- 33&#45;&gt;34 -->\r\n",
       "<g id=\"edge18\" class=\"edge\">\r\n",
       "<title>33&#45;&gt;34</title>\r\n",
       "<path fill=\"none\" stroke=\"black\" d=\"M755.45,-190.91C750.61,-182.2 745.44,-172.9 740.44,-163.89\"/>\r\n",
       "<polygon fill=\"black\" stroke=\"black\" points=\"743.43,-162.06 735.51,-155.02 737.31,-165.46 743.43,-162.06\"/>\r\n",
       "</g>\r\n",
       "<!-- 41 -->\r\n",
       "<g id=\"node22\" class=\"node\">\r\n",
       "<title>41</title>\r\n",
       "<path fill=\"#f9fcfe\" stroke=\"black\" d=\"M918,-155C918,-155 812,-155 812,-155 806,-155 800,-149 800,-143 800,-143 800,-84 800,-84 800,-78 806,-72 812,-72 812,-72 918,-72 918,-72 924,-72 930,-78 930,-84 930,-84 930,-143 930,-143 930,-149 924,-155 918,-155\"/>\r\n",
       "<text text-anchor=\"start\" x=\"823.5\" y=\"-139.8\" font-family=\"Helvetica,sans-Serif\" font-size=\"14.00\">month ≤ 10.5</text>\r\n",
       "<text text-anchor=\"start\" x=\"836\" y=\"-124.8\" font-family=\"Helvetica,sans-Serif\" font-size=\"14.00\">gini = 0.5</text>\r\n",
       "<text text-anchor=\"start\" x=\"813.5\" y=\"-109.8\" font-family=\"Helvetica,sans-Serif\" font-size=\"14.00\">samples = 1100</text>\r\n",
       "<text text-anchor=\"start\" x=\"808\" y=\"-94.8\" font-family=\"Helvetica,sans-Serif\" font-size=\"14.00\">value = [542, 558]</text>\r\n",
       "<text text-anchor=\"start\" x=\"831.5\" y=\"-79.8\" font-family=\"Helvetica,sans-Serif\" font-size=\"14.00\">class = Up</text>\r\n",
       "</g>\r\n",
       "<!-- 33&#45;&gt;41 -->\r\n",
       "<g id=\"edge21\" class=\"edge\">\r\n",
       "<title>33&#45;&gt;41</title>\r\n",
       "<path fill=\"none\" stroke=\"black\" d=\"M808.18,-190.91C814.86,-181.92 822.01,-172.32 828.9,-163.05\"/>\r\n",
       "<polygon fill=\"black\" stroke=\"black\" points=\"831.71,-165.13 834.87,-155.02 826.09,-160.96 831.71,-165.13\"/>\r\n",
       "</g>\r\n",
       "<!-- 35 -->\r\n",
       "<g id=\"node20\" class=\"node\">\r\n",
       "<title>35</title>\r\n",
       "<path fill=\"#c0c0c0\" stroke=\"black\" d=\"M689,-36C689,-36 659,-36 659,-36 653,-36 647,-30 647,-24 647,-24 647,-12 647,-12 647,-6 653,0 659,0 659,0 689,0 689,0 695,0 701,-6 701,-12 701,-12 701,-24 701,-24 701,-30 695,-36 689,-36\"/>\r\n",
       "<text text-anchor=\"middle\" x=\"674\" y=\"-14.3\" font-family=\"Helvetica,sans-Serif\" font-size=\"14.00\">(...)</text>\r\n",
       "</g>\r\n",
       "<!-- 34&#45;&gt;35 -->\r\n",
       "<g id=\"edge19\" class=\"edge\">\r\n",
       "<title>34&#45;&gt;35</title>\r\n",
       "<path fill=\"none\" stroke=\"black\" d=\"M696.01,-71.76C692.33,-62.94 688.53,-53.84 685.15,-45.72\"/>\r\n",
       "<polygon fill=\"black\" stroke=\"black\" points=\"688.34,-44.29 681.26,-36.41 681.88,-46.98 688.34,-44.29\"/>\r\n",
       "</g>\r\n",
       "<!-- 38 -->\r\n",
       "<g id=\"node21\" class=\"node\">\r\n",
       "<title>38</title>\r\n",
       "<path fill=\"#c0c0c0\" stroke=\"black\" d=\"M761,-36C761,-36 731,-36 731,-36 725,-36 719,-30 719,-24 719,-24 719,-12 719,-12 719,-6 725,0 731,0 731,0 761,0 761,0 767,0 773,-6 773,-12 773,-12 773,-24 773,-24 773,-30 767,-36 761,-36\"/>\r\n",
       "<text text-anchor=\"middle\" x=\"746\" y=\"-14.3\" font-family=\"Helvetica,sans-Serif\" font-size=\"14.00\">(...)</text>\r\n",
       "</g>\r\n",
       "<!-- 34&#45;&gt;38 -->\r\n",
       "<g id=\"edge20\" class=\"edge\">\r\n",
       "<title>34&#45;&gt;38</title>\r\n",
       "<path fill=\"none\" stroke=\"black\" d=\"M727.38,-71.76C730.46,-63.04 733.63,-54.04 736.47,-45.99\"/>\r\n",
       "<polygon fill=\"black\" stroke=\"black\" points=\"739.83,-47 739.86,-36.41 733.23,-44.67 739.83,-47\"/>\r\n",
       "</g>\r\n",
       "<!-- 42 -->\r\n",
       "<g id=\"node23\" class=\"node\">\r\n",
       "<title>42</title>\r\n",
       "<path fill=\"#c0c0c0\" stroke=\"black\" d=\"M836,-36C836,-36 806,-36 806,-36 800,-36 794,-30 794,-24 794,-24 794,-12 794,-12 794,-6 800,0 806,0 806,0 836,0 836,0 842,0 848,-6 848,-12 848,-12 848,-24 848,-24 848,-30 842,-36 836,-36\"/>\r\n",
       "<text text-anchor=\"middle\" x=\"821\" y=\"-14.3\" font-family=\"Helvetica,sans-Serif\" font-size=\"14.00\">(...)</text>\r\n",
       "</g>\r\n",
       "<!-- 41&#45;&gt;42 -->\r\n",
       "<g id=\"edge22\" class=\"edge\">\r\n",
       "<title>41&#45;&gt;42</title>\r\n",
       "<path fill=\"none\" stroke=\"black\" d=\"M845.83,-71.76C841.63,-62.85 837.3,-53.64 833.45,-45.46\"/>\r\n",
       "<polygon fill=\"black\" stroke=\"black\" points=\"836.62,-43.96 829.19,-36.41 830.28,-46.94 836.62,-43.96\"/>\r\n",
       "</g>\r\n",
       "<!-- 45 -->\r\n",
       "<g id=\"node24\" class=\"node\">\r\n",
       "<title>45</title>\r\n",
       "<path fill=\"#c0c0c0\" stroke=\"black\" d=\"M908,-36C908,-36 878,-36 878,-36 872,-36 866,-30 866,-24 866,-24 866,-12 866,-12 866,-6 872,0 878,0 878,0 908,0 908,0 914,0 920,-6 920,-12 920,-12 920,-24 920,-24 920,-30 914,-36 908,-36\"/>\r\n",
       "<text text-anchor=\"middle\" x=\"893\" y=\"-14.3\" font-family=\"Helvetica,sans-Serif\" font-size=\"14.00\">(...)</text>\r\n",
       "</g>\r\n",
       "<!-- 41&#45;&gt;45 -->\r\n",
       "<g id=\"edge23\" class=\"edge\">\r\n",
       "<title>41&#45;&gt;45</title>\r\n",
       "<path fill=\"none\" stroke=\"black\" d=\"M877.2,-71.76C879.81,-63.04 882.51,-54.04 884.92,-45.99\"/>\r\n",
       "<polygon fill=\"black\" stroke=\"black\" points=\"888.27,-46.99 887.79,-36.41 881.57,-44.98 888.27,-46.99\"/>\r\n",
       "</g>\r\n",
       "<!-- 49 -->\r\n",
       "<g id=\"node26\" class=\"node\">\r\n",
       "<title>49</title>\r\n",
       "<path fill=\"#94caf1\" stroke=\"black\" d=\"M1074,-155C1074,-155 960,-155 960,-155 954,-155 948,-149 948,-143 948,-143 948,-84 948,-84 948,-78 954,-72 960,-72 960,-72 1074,-72 1074,-72 1080,-72 1086,-78 1086,-84 1086,-84 1086,-143 1086,-143 1086,-149 1080,-155 1074,-155\"/>\r\n",
       "<text text-anchor=\"start\" x=\"979.5\" y=\"-139.8\" font-family=\"Helvetica,sans-Serif\" font-size=\"14.00\">month ≤ 4.5</text>\r\n",
       "<text text-anchor=\"start\" x=\"979.5\" y=\"-124.8\" font-family=\"Helvetica,sans-Serif\" font-size=\"14.00\">gini = 0.431</text>\r\n",
       "<text text-anchor=\"start\" x=\"965.5\" y=\"-109.8\" font-family=\"Helvetica,sans-Serif\" font-size=\"14.00\">samples = 2902</text>\r\n",
       "<text text-anchor=\"start\" x=\"956\" y=\"-94.8\" font-family=\"Helvetica,sans-Serif\" font-size=\"14.00\">value = [913, 1989]</text>\r\n",
       "<text text-anchor=\"start\" x=\"983.5\" y=\"-79.8\" font-family=\"Helvetica,sans-Serif\" font-size=\"14.00\">class = Up</text>\r\n",
       "</g>\r\n",
       "<!-- 48&#45;&gt;49 -->\r\n",
       "<g id=\"edge25\" class=\"edge\">\r\n",
       "<title>48&#45;&gt;49</title>\r\n",
       "<path fill=\"none\" stroke=\"black\" d=\"M1017,-190.91C1017,-182.65 1017,-173.86 1017,-165.3\"/>\r\n",
       "<polygon fill=\"black\" stroke=\"black\" points=\"1020.5,-165.02 1017,-155.02 1013.5,-165.02 1020.5,-165.02\"/>\r\n",
       "</g>\r\n",
       "<!-- 56 -->\r\n",
       "<g id=\"node29\" class=\"node\">\r\n",
       "<title>56</title>\r\n",
       "<path fill=\"#dbedfa\" stroke=\"black\" d=\"M1255.5,-155C1255.5,-155 1116.5,-155 1116.5,-155 1110.5,-155 1104.5,-149 1104.5,-143 1104.5,-143 1104.5,-84 1104.5,-84 1104.5,-78 1110.5,-72 1116.5,-72 1116.5,-72 1255.5,-72 1255.5,-72 1261.5,-72 1267.5,-78 1267.5,-84 1267.5,-84 1267.5,-143 1267.5,-143 1267.5,-149 1261.5,-155 1255.5,-155\"/>\r\n",
       "<text text-anchor=\"start\" x=\"1130.5\" y=\"-139.8\" font-family=\"Helvetica,sans-Serif\" font-size=\"14.00\">bb_down ≤ 0.037</text>\r\n",
       "<text text-anchor=\"start\" x=\"1148.5\" y=\"-124.8\" font-family=\"Helvetica,sans-Serif\" font-size=\"14.00\">gini = 0.495</text>\r\n",
       "<text text-anchor=\"start\" x=\"1130\" y=\"-109.8\" font-family=\"Helvetica,sans-Serif\" font-size=\"14.00\">samples = 45894</text>\r\n",
       "<text text-anchor=\"start\" x=\"1112.5\" y=\"-94.8\" font-family=\"Helvetica,sans-Serif\" font-size=\"14.00\">value = [20685, 25209]</text>\r\n",
       "<text text-anchor=\"start\" x=\"1152.5\" y=\"-79.8\" font-family=\"Helvetica,sans-Serif\" font-size=\"14.00\">class = Up</text>\r\n",
       "</g>\r\n",
       "<!-- 48&#45;&gt;56 -->\r\n",
       "<g id=\"edge28\" class=\"edge\">\r\n",
       "<title>48&#45;&gt;56</title>\r\n",
       "<path fill=\"none\" stroke=\"black\" d=\"M1075.63,-190.91C1089.66,-181.2 1104.74,-170.76 1119.11,-160.81\"/>\r\n",
       "<polygon fill=\"black\" stroke=\"black\" points=\"1121.24,-163.59 1127.47,-155.02 1117.26,-157.84 1121.24,-163.59\"/>\r\n",
       "</g>\r\n",
       "<!-- 50 -->\r\n",
       "<g id=\"node27\" class=\"node\">\r\n",
       "<title>50</title>\r\n",
       "<path fill=\"#c0c0c0\" stroke=\"black\" d=\"M981,-36C981,-36 951,-36 951,-36 945,-36 939,-30 939,-24 939,-24 939,-12 939,-12 939,-6 945,0 951,0 951,0 981,0 981,0 987,0 993,-6 993,-12 993,-12 993,-24 993,-24 993,-30 987,-36 981,-36\"/>\r\n",
       "<text text-anchor=\"middle\" x=\"966\" y=\"-14.3\" font-family=\"Helvetica,sans-Serif\" font-size=\"14.00\">(...)</text>\r\n",
       "</g>\r\n",
       "<!-- 49&#45;&gt;50 -->\r\n",
       "<g id=\"edge26\" class=\"edge\">\r\n",
       "<title>49&#45;&gt;50</title>\r\n",
       "<path fill=\"none\" stroke=\"black\" d=\"M994.78,-71.76C989.86,-62.75 984.78,-53.44 980.29,-45.19\"/>\r\n",
       "<polygon fill=\"black\" stroke=\"black\" points=\"983.35,-43.51 975.49,-36.41 977.21,-46.86 983.35,-43.51\"/>\r\n",
       "</g>\r\n",
       "<!-- 53 -->\r\n",
       "<g id=\"node28\" class=\"node\">\r\n",
       "<title>53</title>\r\n",
       "<path fill=\"#c0c0c0\" stroke=\"black\" d=\"M1053,-36C1053,-36 1023,-36 1023,-36 1017,-36 1011,-30 1011,-24 1011,-24 1011,-12 1011,-12 1011,-6 1017,0 1023,0 1023,0 1053,0 1053,0 1059,0 1065,-6 1065,-12 1065,-12 1065,-24 1065,-24 1065,-30 1059,-36 1053,-36\"/>\r\n",
       "<text text-anchor=\"middle\" x=\"1038\" y=\"-14.3\" font-family=\"Helvetica,sans-Serif\" font-size=\"14.00\">(...)</text>\r\n",
       "</g>\r\n",
       "<!-- 49&#45;&gt;53 -->\r\n",
       "<g id=\"edge27\" class=\"edge\">\r\n",
       "<title>49&#45;&gt;53</title>\r\n",
       "<path fill=\"none\" stroke=\"black\" d=\"M1026.15,-71.76C1028.09,-63.14 1030.09,-54.24 1031.88,-46.26\"/>\r\n",
       "<polygon fill=\"black\" stroke=\"black\" points=\"1035.31,-46.93 1034.09,-36.41 1028.48,-45.4 1035.31,-46.93\"/>\r\n",
       "</g>\r\n",
       "<!-- 57 -->\r\n",
       "<g id=\"node30\" class=\"node\">\r\n",
       "<title>57</title>\r\n",
       "<path fill=\"#c0c0c0\" stroke=\"black\" d=\"M1165,-36C1165,-36 1135,-36 1135,-36 1129,-36 1123,-30 1123,-24 1123,-24 1123,-12 1123,-12 1123,-6 1129,0 1135,0 1135,0 1165,0 1165,0 1171,0 1177,-6 1177,-12 1177,-12 1177,-24 1177,-24 1177,-30 1171,-36 1165,-36\"/>\r\n",
       "<text text-anchor=\"middle\" x=\"1150\" y=\"-14.3\" font-family=\"Helvetica,sans-Serif\" font-size=\"14.00\">(...)</text>\r\n",
       "</g>\r\n",
       "<!-- 56&#45;&gt;57 -->\r\n",
       "<g id=\"edge29\" class=\"edge\">\r\n",
       "<title>56&#45;&gt;57</title>\r\n",
       "<path fill=\"none\" stroke=\"black\" d=\"M1170.31,-71.76C1166.96,-63.04 1163.49,-54.04 1160.39,-45.99\"/>\r\n",
       "<polygon fill=\"black\" stroke=\"black\" points=\"1163.56,-44.48 1156.7,-36.41 1157.03,-46.99 1163.56,-44.48\"/>\r\n",
       "</g>\r\n",
       "<!-- 60 -->\r\n",
       "<g id=\"node31\" class=\"node\">\r\n",
       "<title>60</title>\r\n",
       "<path fill=\"#c0c0c0\" stroke=\"black\" d=\"M1237,-36C1237,-36 1207,-36 1207,-36 1201,-36 1195,-30 1195,-24 1195,-24 1195,-12 1195,-12 1195,-6 1201,0 1207,0 1207,0 1237,0 1237,0 1243,0 1249,-6 1249,-12 1249,-12 1249,-24 1249,-24 1249,-30 1243,-36 1237,-36\"/>\r\n",
       "<text text-anchor=\"middle\" x=\"1222\" y=\"-14.3\" font-family=\"Helvetica,sans-Serif\" font-size=\"14.00\">(...)</text>\r\n",
       "</g>\r\n",
       "<!-- 56&#45;&gt;60 -->\r\n",
       "<g id=\"edge30\" class=\"edge\">\r\n",
       "<title>56&#45;&gt;60</title>\r\n",
       "<path fill=\"none\" stroke=\"black\" d=\"M1201.69,-71.76C1205.04,-63.04 1208.51,-54.04 1211.61,-45.99\"/>\r\n",
       "<polygon fill=\"black\" stroke=\"black\" points=\"1214.97,-46.99 1215.3,-36.41 1208.44,-44.48 1214.97,-46.99\"/>\r\n",
       "</g>\r\n",
       "</g>\r\n",
       "</svg>\r\n"
      ],
      "text/plain": [
       "<graphviz.files.Source at 0x235084c44f0>"
      ]
     },
     "execution_count": 57,
     "metadata": {},
     "output_type": "execute_result"
    }
   ],
   "source": [
    "out_file = results_path / 'clf_tree.dot'\n",
    "dot_data = export_graphviz(clf,\n",
    "                           out_file=out_file.as_posix(),\n",
    "                           feature_names=X.columns,\n",
    "                           class_names=['Down', 'Up'],\n",
    "                           max_depth=3,\n",
    "                           filled=True,\n",
    "                           rounded=True,\n",
    "                           special_characters=True)\n",
    "if out_file is not None:\n",
    "    dot_data = Path(out_file).read_text()\n",
    "\n",
    "graphviz.Source(dot_data)"
   ]
  },
  {
   "cell_type": "markdown",
   "metadata": {},
   "source": [
    "### Evaluate Test Set"
   ]
  },
  {
   "cell_type": "markdown",
   "metadata": {},
   "source": [
    "To evaluate the predictive accuracy of our first classification tree, we will use our test set to generate predicted class probabilities. \n",
    "\n",
    "The `.predict_proba()` method produces one probability for each class. In the binary class, these probabilities are complementary and sum to 1, so we only need the value for the positive class. "
   ]
  },
  {
   "cell_type": "code",
   "execution_count": 58,
   "metadata": {
    "ExecuteTime": {
     "end_time": "2021-04-16T00:33:36.270863Z",
     "start_time": "2021-04-16T00:33:36.262990Z"
    }
   },
   "outputs": [],
   "source": [
    "y_score = clf.predict_proba(X=X_test)[:, 1]"
   ]
  },
  {
   "cell_type": "markdown",
   "metadata": {},
   "source": [
    "To evaluate the generalization error, we will use the area under the curve based on the receiver-operating characteristic that we introduced in Chapter 6, The Machine Learning Process. The result indicates a significant improvement above and beyond the baseline value of 0.5 for a random prediction:"
   ]
  },
  {
   "cell_type": "code",
   "execution_count": 59,
   "metadata": {
    "ExecuteTime": {
     "end_time": "2021-04-16T00:33:36.283613Z",
     "start_time": "2021-04-16T00:33:36.272140Z"
    }
   },
   "outputs": [
    {
     "data": {
      "text/plain": [
       "0.5875447293753286"
      ]
     },
     "execution_count": 59,
     "metadata": {},
     "output_type": "execute_result"
    }
   ],
   "source": [
    "roc_auc_score(y_score=y_score, y_true=y_test)"
   ]
  },
  {
   "cell_type": "markdown",
   "metadata": {},
   "source": [
    "### Print Decision Path"
   ]
  },
  {
   "cell_type": "markdown",
   "metadata": {},
   "source": [
    "Inspired by https://stackoverflow.com/questions/20224526/how-to-extract-the-decision-rules-from-scikit-learn-decision-tree"
   ]
  },
  {
   "cell_type": "code",
   "execution_count": 60,
   "metadata": {
    "ExecuteTime": {
     "end_time": "2021-04-16T00:33:36.294116Z",
     "start_time": "2021-04-16T00:33:36.284877Z"
    }
   },
   "outputs": [
    {
     "name": "stdout",
     "output_type": "stream",
     "text": [
      "Help on class Tree in module sklearn.tree._tree:\n",
      "\n",
      "class Tree(builtins.object)\n",
      " |  Array-based representation of a binary decision tree.\n",
      " |  \n",
      " |  The binary tree is represented as a number of parallel arrays. The i-th\n",
      " |  element of each array holds information about the node `i`. Node 0 is the\n",
      " |  tree's root. You can find a detailed description of all arrays in\n",
      " |  `_tree.pxd`. NOTE: Some of the arrays only apply to either leaves or split\n",
      " |  nodes, resp. In this case the values of nodes of the other type are\n",
      " |  arbitrary!\n",
      " |  \n",
      " |  Attributes\n",
      " |  ----------\n",
      " |  node_count : int\n",
      " |      The number of nodes (internal nodes + leaves) in the tree.\n",
      " |  \n",
      " |  capacity : int\n",
      " |      The current capacity (i.e., size) of the arrays, which is at least as\n",
      " |      great as `node_count`.\n",
      " |  \n",
      " |  max_depth : int\n",
      " |      The depth of the tree, i.e. the maximum depth of its leaves.\n",
      " |  \n",
      " |  children_left : array of int, shape [node_count]\n",
      " |      children_left[i] holds the node id of the left child of node i.\n",
      " |      For leaves, children_left[i] == TREE_LEAF. Otherwise,\n",
      " |      children_left[i] > i. This child handles the case where\n",
      " |      X[:, feature[i]] <= threshold[i].\n",
      " |  \n",
      " |  children_right : array of int, shape [node_count]\n",
      " |      children_right[i] holds the node id of the right child of node i.\n",
      " |      For leaves, children_right[i] == TREE_LEAF. Otherwise,\n",
      " |      children_right[i] > i. This child handles the case where\n",
      " |      X[:, feature[i]] > threshold[i].\n",
      " |  \n",
      " |  feature : array of int, shape [node_count]\n",
      " |      feature[i] holds the feature to split on, for the internal node i.\n",
      " |  \n",
      " |  threshold : array of double, shape [node_count]\n",
      " |      threshold[i] holds the threshold for the internal node i.\n",
      " |  \n",
      " |  value : array of double, shape [node_count, n_outputs, max_n_classes]\n",
      " |      Contains the constant prediction value of each node.\n",
      " |  \n",
      " |  impurity : array of double, shape [node_count]\n",
      " |      impurity[i] holds the impurity (i.e., the value of the splitting\n",
      " |      criterion) at node i.\n",
      " |  \n",
      " |  n_node_samples : array of int, shape [node_count]\n",
      " |      n_node_samples[i] holds the number of training samples reaching node i.\n",
      " |  \n",
      " |  weighted_n_node_samples : array of int, shape [node_count]\n",
      " |      weighted_n_node_samples[i] holds the weighted number of training samples\n",
      " |      reaching node i.\n",
      " |  \n",
      " |  Methods defined here:\n",
      " |  \n",
      " |  __getstate__(...)\n",
      " |      Getstate re-implementation, for pickling.\n",
      " |  \n",
      " |  __reduce__(...)\n",
      " |      Reduce re-implementation, for pickling.\n",
      " |  \n",
      " |  __setstate__(...)\n",
      " |      Setstate re-implementation, for unpickling.\n",
      " |  \n",
      " |  apply(...)\n",
      " |      Finds the terminal region (=leaf node) for each sample in X.\n",
      " |  \n",
      " |  compute_feature_importances(...)\n",
      " |      Computes the importance of each feature (aka variable).\n",
      " |  \n",
      " |  compute_partial_dependence(...)\n",
      " |      Partial dependence of the response on the ``target_feature`` set.\n",
      " |      \n",
      " |      For each sample in ``X`` a tree traversal is performed.\n",
      " |      Each traversal starts from the root with weight 1.0.\n",
      " |      \n",
      " |      At each non-leaf node that splits on a target feature, either\n",
      " |      the left child or the right child is visited based on the feature\n",
      " |      value of the current sample, and the weight is not modified.\n",
      " |      At each non-leaf node that splits on a complementary feature,\n",
      " |      both children are visited and the weight is multiplied by the fraction\n",
      " |      of training samples which went to each child.\n",
      " |      \n",
      " |      At each leaf, the value of the node is multiplied by the current\n",
      " |      weight (weights sum to 1 for all visited terminal nodes).\n",
      " |      \n",
      " |      Parameters\n",
      " |      ----------\n",
      " |      X : view on 2d ndarray, shape (n_samples, n_target_features)\n",
      " |          The grid points on which the partial dependence should be\n",
      " |          evaluated.\n",
      " |      target_features : view on 1d ndarray, shape (n_target_features)\n",
      " |          The set of target features for which the partial dependence\n",
      " |          should be evaluated.\n",
      " |      out : view on 1d ndarray, shape (n_samples)\n",
      " |          The value of the partial dependence function on each grid\n",
      " |          point.\n",
      " |  \n",
      " |  decision_path(...)\n",
      " |      Finds the decision path (=node) for each sample in X.\n",
      " |  \n",
      " |  predict(...)\n",
      " |      Predict target for X.\n",
      " |  \n",
      " |  ----------------------------------------------------------------------\n",
      " |  Static methods defined here:\n",
      " |  \n",
      " |  __new__(*args, **kwargs) from builtins.type\n",
      " |      Create and return a new object.  See help(type) for accurate signature.\n",
      " |  \n",
      " |  ----------------------------------------------------------------------\n",
      " |  Data descriptors defined here:\n",
      " |  \n",
      " |  capacity\n",
      " |  \n",
      " |  children_left\n",
      " |  \n",
      " |  children_right\n",
      " |  \n",
      " |  feature\n",
      " |  \n",
      " |  impurity\n",
      " |  \n",
      " |  max_depth\n",
      " |  \n",
      " |  max_n_classes\n",
      " |  \n",
      " |  n_classes\n",
      " |  \n",
      " |  n_features\n",
      " |  \n",
      " |  n_leaves\n",
      " |  \n",
      " |  n_node_samples\n",
      " |  \n",
      " |  n_outputs\n",
      " |  \n",
      " |  node_count\n",
      " |  \n",
      " |  threshold\n",
      " |  \n",
      " |  value\n",
      " |  \n",
      " |  weighted_n_node_samples\n",
      " |  \n",
      " |  ----------------------------------------------------------------------\n",
      " |  Data and other attributes defined here:\n",
      " |  \n",
      " |  __pyx_vtable__ = <capsule object NULL>\n",
      "\n"
     ]
    }
   ],
   "source": [
    "from sklearn.tree._tree import Tree\n",
    "help(Tree)"
   ]
  },
  {
   "cell_type": "code",
   "execution_count": 61,
   "metadata": {
    "ExecuteTime": {
     "end_time": "2021-04-16T00:33:36.302800Z",
     "start_time": "2021-04-16T00:33:36.295041Z"
    }
   },
   "outputs": [],
   "source": [
    "def tree_to_code(tree, feature_names):\n",
    "    if isinstance(tree, DecisionTreeClassifier):\n",
    "        model = 'clf'\n",
    "    elif isinstance(tree, DecisionTreeRegressor):\n",
    "        model = 'reg'\n",
    "    else:\n",
    "        raise ValueError('Need Regression or Classification Tree')\n",
    "        \n",
    "    tree_ = tree.tree_\n",
    "    feature_name = [\n",
    "        feature_names[i] if i != _tree.TREE_UNDEFINED else \"undefined!\"\n",
    "        for i in tree_.feature\n",
    "    ]\n",
    "    print(\"def tree({}):\".format(\", \".join(feature_names)))\n",
    "\n",
    "    def recurse(node, depth):\n",
    "        indent = \"  \" * depth\n",
    "        if tree_.feature[node] != _tree.TREE_UNDEFINED:\n",
    "            name = feature_name[node]\n",
    "            threshold = tree_.threshold[node]\n",
    "            print(indent, f'if {name} <= {threshold:.2%}')\n",
    "            recurse(tree_.children_left[node], depth + 1)\n",
    "            print(indent, f'else:  # if {name} > {threshold:.2%}')\n",
    "            recurse(tree_.children_right[node], depth + 1)\n",
    "        else:\n",
    "            pred = tree_.value[node][0]\n",
    "            val = pred[1]/sum(pred) if model == 'clf' else pred[0]\n",
    "            print(indent, f'return {val:.2%}')\n",
    "    recurse(0, 1)"
   ]
  },
  {
   "cell_type": "code",
   "execution_count": 62,
   "metadata": {
    "ExecuteTime": {
     "end_time": "2021-04-16T00:33:36.322605Z",
     "start_time": "2021-04-16T00:33:36.304005Z"
    }
   },
   "outputs": [
    {
     "name": "stdout",
     "output_type": "stream",
     "text": [
      "def tree(t-1, t-2):\n",
      "   if t-1 <= -12.92%\n",
      "     if t-1 <= -27.51%\n",
      "       return 43.26%\n",
      "     else:  # if t-1 > -27.51%\n",
      "       if t-2 <= -9.99%\n",
      "         return 56.21%\n",
      "       else:  # if t-2 > -9.99%\n",
      "         if t-1 <= -27.27%\n",
      "           return 100.00%\n",
      "         else:  # if t-1 > -27.27%\n",
      "           if t-1 <= -12.95%\n",
      "             return 49.95%\n",
      "           else:  # if t-1 > -12.95%\n",
      "             return 9.09%\n",
      "   else:  # if t-1 > -12.92%\n",
      "     if t-2 <= 17.89%\n",
      "       if t-2 <= -6.66%\n",
      "         if t-2 <= -14.83%\n",
      "           if t-2 <= -15.98%\n",
      "             return 52.77%\n",
      "           else:  # if t-2 > -15.98%\n",
      "             return 47.36%\n",
      "         else:  # if t-2 > -14.83%\n",
      "           if t-1 <= -5.33%\n",
      "             return 57.96%\n",
      "           else:  # if t-1 > -5.33%\n",
      "             return 54.28%\n",
      "       else:  # if t-2 > -6.66%\n",
      "         if t-1 <= -6.57%\n",
      "           if t-2 <= 3.36%\n",
      "             return 52.85%\n",
      "           else:  # if t-2 > 3.36%\n",
      "             return 56.51%\n",
      "         else:  # if t-1 > -6.57%\n",
      "           if t-1 <= 6.12%\n",
      "             return 58.15%\n",
      "           else:  # if t-1 > 6.12%\n",
      "             return 56.13%\n",
      "     else:  # if t-2 > 17.89%\n",
      "       if t-1 <= 5.35%\n",
      "         if t-2 <= 17.91%\n",
      "           return 0.00%\n",
      "         else:  # if t-2 > 17.91%\n",
      "           if t-1 <= 5.32%\n",
      "             return 55.05%\n",
      "           else:  # if t-1 > 5.32%\n",
      "             return 100.00%\n",
      "       else:  # if t-1 > 5.35%\n",
      "         return 44.34%\n"
     ]
    }
   ],
   "source": [
    "tree_to_code(clf_tree_t2, X2.columns)"
   ]
  },
  {
   "cell_type": "markdown",
   "metadata": {},
   "source": [
    "## Overfitting, Regularization & Parameter Tuning"
   ]
  },
  {
   "cell_type": "markdown",
   "metadata": {},
   "source": [
    "Decision trees have a strong tendency to overfit, especially when a dataset has a large number of features relative to the number of samples. As discussed in previous chapters, overfitting increases the prediction error because the model does not only learn the signal contained in the training data, but also the noise.\n",
    "There are several ways to address the risk of overfitting."
   ]
  },
  {
   "cell_type": "markdown",
   "metadata": {},
   "source": [
    "Decision trees provide several regularization hyperparameters to limit the growth of a tree and the associated complexity. While every split increases the number of nodes, it also reduces the number of samples available per node to support a prediction. For each additional level, twice the number of samples is needed to populate the new nodes with the same sample density. "
   ]
  },
  {
   "cell_type": "markdown",
   "metadata": {},
   "source": [
    "### Decision Tree Parameters"
   ]
  },
  {
   "cell_type": "markdown",
   "metadata": {},
   "source": [
    "The following table lists key parameters available for this purpose in the sklearn decision tree implementation. After introducing the most important parameters, we will illustrate how to use cross-validation to optimize the hyperparameter settings with respect to the bias-variance tradeoff and lower prediction errors:"
   ]
  },
  {
   "cell_type": "markdown",
   "metadata": {},
   "source": [
    "| Parameter                | Default | Options                                                                                                                                                               | Description                                                                                                                                                                                                             |\n",
    "|--------------------------|---------|-----------------------------------------------------------------------------------------------------------------------------------------------------------------------|-------------------------------------------------------------------------------------------------------------------------------------------------------------------------------------------------------------------------|\n",
    "| criterion                | gini    | Regression: MSE, MAE Classification: Gini impurity, Cross Entropy                                                                                                     | Metric to evaluate split quality.                                                                                                                                                                                       |\n",
    "| splitter                 | best    | best, random                                                                                                                                                          | How to choose the split at each node. Supported strategies are “best” to choose the best split and “random” to choose the best random split.                                                                            |\n",
    "| max_depth                | None    | int                                                                                                                                                                   | Max # of levels in tree. Split nodes until max_depth is reached or all leaves are pure or all leaves contain less than min_samples_split samples.                                                                       |\n",
    "| max_features             | None    | None: max_features=n_features; int; float (fraction): int(max_features * n_features)  auto, sqrt: max_features=sqrt(n_features). log2: max_features=log2(n_features). | # of features to consider when evaluating split                                                                                                                                                                         |\n",
    "| max_leaf_nodes           | None    | None: unlimited # of leaf nodes int                                                                                                                                   | Continue to split nodes that reduce relative impurity the most until reaching max_leaf_nodes.                                                                                                                           |\n",
    "| min_impurity_decrease    | 0       | float                                                                                                                                                                 | Split node if impurity decreases by at least this value.                                                                                                                                                                |\n",
    "| min_samples_leaf         | 1       | int; float (as percentage of N)                                                                                                                                       | Minimum # of samples to be at a leaf node. A split will only be considered if there are at least min_samples_leaf training samples in each of the left and right branches. May smoothen the model, esp. for regression. |\n",
    "| min_samples_split        | 2       | int; float (as percentage of N)                                                                                                                                       | The minimum number of samples required to split an internal node:                                                                                                                                                       |\n",
    "| min_weight_fraction_leaf | 0       | NA                                                                                                                                                                    | The minimum weighted fraction of the sum total of weights (of all the input samples) required to be at a leaf node. Samples have equal weight when sample_weight is not provided (in fit method).                       |\n",
    "| class_weight             | None    | balanced: inversely proportional to class frequencies dict: {class_label: weight} list of dicts (for multi-output)                                                    | Weights associated with classes                                                                                                                                                                                         |"
   ]
  },
  {
   "cell_type": "markdown",
   "metadata": {},
   "source": [
    "The `max_depth` parameter imposes a hard limit on the number of consecutive splits and represents the most straightforward way to cap the growth of a tree.\n",
    "\n",
    "The m`in_samples_split` and `min_samples_leaf` parameters are alternative, data-driven ways to limit the growth of a tree. Rather than imposing a hard limit on the number of consecutive splits, these parameters control the minimum number of samples required to further split the data. The latter guarantees a certain number of samples per leaf, while the former can create very small leaves if a split results in a very uneven distribution. Small parameter values facilitate overfitting, while a high number may prevent the tree from learning the signal in the data. \n",
    "\n",
    "The default values are often quite low, and you should use cross-validation to explore a range of potential values. You can also use a float to indicate a percentage as opposed to an absolute number. "
   ]
  },
  {
   "cell_type": "markdown",
   "metadata": {},
   "source": [
    "### Cross-validation parameters"
   ]
  },
  {
   "cell_type": "code",
   "execution_count": 63,
   "metadata": {
    "ExecuteTime": {
     "end_time": "2021-04-16T00:33:36.328359Z",
     "start_time": "2021-04-16T00:33:36.323742Z"
    }
   },
   "outputs": [],
   "source": [
    "n_splits = 10\n",
    "train_period_length = 60\n",
    "test_period_length = 6\n",
    "lookahead = 1\n",
    "\n",
    "cv = MultipleTimeSeriesCV(n_splits=n_splits,\n",
    "                          train_period_length=train_period_length,\n",
    "                          test_period_length=test_period_length,\n",
    "                          lookahead=lookahead)"
   ]
  },
  {
   "cell_type": "code",
   "execution_count": 64,
   "metadata": {
    "ExecuteTime": {
     "end_time": "2021-04-16T00:33:36.334074Z",
     "start_time": "2021-04-16T00:33:36.329663Z"
    }
   },
   "outputs": [],
   "source": [
    "max_depths = range(1, 16)"
   ]
  },
  {
   "cell_type": "markdown",
   "metadata": {},
   "source": [
    "### Finding the best trees using GridSearchCV"
   ]
  },
  {
   "cell_type": "markdown",
   "metadata": {},
   "source": [
    "scikit-learn provides a method to define ranges of values for multiple hyperparameters. It automates the process of cross-validating the various combinations of these parameter values to identify the optimal configuration. Let's walk through the process of automatically tuning your model."
   ]
  },
  {
   "cell_type": "markdown",
   "metadata": {},
   "source": [
    "#### Define parameter grid"
   ]
  },
  {
   "cell_type": "markdown",
   "metadata": {},
   "source": [
    "The first step is to define a dictionary where the keywords name the hyperparameters, and the values list the parameter settings to be tested:"
   ]
  },
  {
   "cell_type": "code",
   "execution_count": 65,
   "metadata": {
    "ExecuteTime": {
     "end_time": "2021-04-16T00:33:36.346973Z",
     "start_time": "2021-04-16T00:33:36.335032Z"
    }
   },
   "outputs": [],
   "source": [
    "param_grid = {'max_depth': [2, 3, 4, 5, 6, 7, 8, 10, 12, 15],\n",
    "              'min_samples_leaf': [5, 25, 50, 100],\n",
    "              'max_features': ['sqrt', 'auto']}"
   ]
  },
  {
   "cell_type": "markdown",
   "metadata": {},
   "source": [
    "#### Classification Tree"
   ]
  },
  {
   "cell_type": "markdown",
   "metadata": {},
   "source": [
    "Then, we instantiate a model object:"
   ]
  },
  {
   "cell_type": "code",
   "execution_count": 66,
   "metadata": {
    "ExecuteTime": {
     "end_time": "2021-04-16T00:33:36.354743Z",
     "start_time": "2021-04-16T00:33:36.348117Z"
    }
   },
   "outputs": [],
   "source": [
    "clf = DecisionTreeClassifier(random_state=42)"
   ]
  },
  {
   "cell_type": "markdown",
   "metadata": {},
   "source": [
    "Now we instantiate the GridSearchCV object, providing the estimator object and parameter grid, as well as a scoring method and cross-validation choice to the initialization method. We'll use an object of our custom OneStepTimeSeriesSplit class, initialized to use ten folds for the cv parameter, and set the scoring to the roc_auc metric. We can parallelize the search using the n_jobs parameter and automatically obtain a trained model that uses the optimal hyperparameters by setting `refit=True`."
   ]
  },
  {
   "cell_type": "code",
   "execution_count": 67,
   "metadata": {
    "ExecuteTime": {
     "end_time": "2021-04-16T00:33:36.363000Z",
     "start_time": "2021-04-16T00:33:36.355848Z"
    }
   },
   "outputs": [],
   "source": [
    "gridsearch_clf = GridSearchCV(estimator=clf,\n",
    "                          param_grid=param_grid,\n",
    "                          scoring='roc_auc',\n",
    "                          n_jobs=-1,\n",
    "                          cv=cv,\n",
    "                          refit=True,\n",
    "                          return_train_score=True)"
   ]
  },
  {
   "cell_type": "markdown",
   "metadata": {},
   "source": [
    "With all settings in place, we can fit GridSearchCV just like any other model:"
   ]
  },
  {
   "cell_type": "code",
   "execution_count": null,
   "metadata": {
    "ExecuteTime": {
     "end_time": "2021-04-16T00:33:53.853282Z",
     "start_time": "2021-04-16T00:33:36.364001Z"
    }
   },
   "outputs": [],
   "source": [
    "gridsearch_clf.fit(X=X, y=y_binary)"
   ]
  },
  {
   "cell_type": "markdown",
   "metadata": {},
   "source": [
    "The training process produces some new attributes for our GridSearchCV object, most importantly the information about the optimal settings and the best cross-validation score (now using the proper setup that avoids lookahead bias).\n",
    "\n",
    "Setting `max_depth` to 10, `min_samples_leaf` to 750, and randomly selecting only a number corresponding to the square root of the total number of features when deciding on a split, produces the best results, with an AUC of 0.532:"
   ]
  },
  {
   "cell_type": "code",
   "execution_count": null,
   "metadata": {
    "ExecuteTime": {
     "end_time": "2021-04-16T00:33:53.857480Z",
     "start_time": "2021-04-16T00:33:53.854544Z"
    }
   },
   "outputs": [],
   "source": [
    "gridsearch_clf.best_params_"
   ]
  },
  {
   "cell_type": "code",
   "execution_count": null,
   "metadata": {
    "ExecuteTime": {
     "end_time": "2021-04-16T00:33:53.871480Z",
     "start_time": "2021-04-16T00:33:53.858438Z"
    }
   },
   "outputs": [],
   "source": [
    "gridsearch_clf.best_score_"
   ]
  },
  {
   "cell_type": "markdown",
   "metadata": {},
   "source": [
    "#### Define Custom IC score"
   ]
  },
  {
   "cell_type": "code",
   "execution_count": null,
   "metadata": {
    "ExecuteTime": {
     "end_time": "2021-04-16T00:33:53.880255Z",
     "start_time": "2021-04-16T00:33:53.872541Z"
    }
   },
   "outputs": [],
   "source": [
    "def rank_correl(y, y_pred):\n",
    "    return spearmanr(y, y_pred)[0]\n",
    "ic = make_scorer(rank_correl)"
   ]
  },
  {
   "cell_type": "markdown",
   "metadata": {},
   "source": [
    "#### Regression Tree"
   ]
  },
  {
   "cell_type": "code",
   "execution_count": null,
   "metadata": {
    "ExecuteTime": {
     "end_time": "2021-04-16T00:33:53.888614Z",
     "start_time": "2021-04-16T00:33:53.881766Z"
    }
   },
   "outputs": [],
   "source": [
    "reg_tree = DecisionTreeRegressor(random_state=42)"
   ]
  },
  {
   "cell_type": "code",
   "execution_count": null,
   "metadata": {
    "ExecuteTime": {
     "end_time": "2021-04-16T00:33:53.896846Z",
     "start_time": "2021-04-16T00:33:53.889580Z"
    }
   },
   "outputs": [],
   "source": [
    "gridsearch_reg = GridSearchCV(estimator=reg_tree,\n",
    "                              param_grid=param_grid,\n",
    "                              scoring=ic,\n",
    "                              n_jobs=-1,\n",
    "                              cv=cv,\n",
    "                              refit=True,\n",
    "                              return_train_score=True)"
   ]
  },
  {
   "cell_type": "code",
   "execution_count": null,
   "metadata": {
    "ExecuteTime": {
     "end_time": "2021-04-16T00:34:33.328283Z",
     "start_time": "2021-04-16T00:33:53.897801Z"
    }
   },
   "outputs": [],
   "source": [
    "gridsearch_reg.fit(X=X, y=y)"
   ]
  },
  {
   "cell_type": "code",
   "execution_count": null,
   "metadata": {
    "ExecuteTime": {
     "end_time": "2021-04-16T00:34:33.340010Z",
     "start_time": "2021-04-16T00:34:33.333245Z"
    }
   },
   "outputs": [],
   "source": [
    "gridsearch_reg.best_params_"
   ]
  },
  {
   "cell_type": "code",
   "execution_count": null,
   "metadata": {
    "ExecuteTime": {
     "end_time": "2021-04-16T00:34:33.351382Z",
     "start_time": "2021-04-16T00:34:33.341496Z"
    }
   },
   "outputs": [],
   "source": [
    "gridsearch_reg.best_score_"
   ]
  },
  {
   "cell_type": "code",
   "execution_count": null,
   "metadata": {
    "ExecuteTime": {
     "end_time": "2021-04-16T00:34:33.363598Z",
     "start_time": "2021-04-16T00:34:33.352847Z"
    }
   },
   "outputs": [],
   "source": [
    "pd.DataFrame({'Regression': pd.Series(gridsearch_reg.best_params_),\n",
    "              'Classification': pd.Series(gridsearch_clf.best_params_)})"
   ]
  },
  {
   "cell_type": "markdown",
   "metadata": {},
   "source": [
    "### Classifier Cross-Validation"
   ]
  },
  {
   "cell_type": "markdown",
   "metadata": {},
   "source": [
    "Cross-validation is the most important tool to obtain an unbiased estimate of the generalization error, which in turn permits an informed choice among the various configuration options. sklearn offers several tools to facilitate the process of cross-validating numerous parameter settings, namely the GridSearchCV convenience class that we will illustrate in the next section. "
   ]
  },
  {
   "cell_type": "markdown",
   "metadata": {},
   "source": [
    "The following code illustrates how to run cross-validation more manually to obtain custom tree attributes, such as the total number of nodes or leaf nodes associated with certain hyperparameter settings. \n",
    "\n",
    "The following function accesses the internal `.tree_` attribute to retrieve information about the total node count, and how many of these nodes are leaf nodes:"
   ]
  },
  {
   "cell_type": "code",
   "execution_count": null,
   "metadata": {
    "ExecuteTime": {
     "end_time": "2021-04-16T00:34:33.369594Z",
     "start_time": "2021-04-16T00:34:33.364452Z"
    }
   },
   "outputs": [],
   "source": [
    "def get_leaves_count(tree):\n",
    "    t = tree.tree_\n",
    "    n = t.node_count\n",
    "    leaves = len([i for i in range(t.node_count) if t.children_left[i]== -1])\n",
    "    return leaves"
   ]
  },
  {
   "cell_type": "markdown",
   "metadata": {},
   "source": [
    "We can combine this information with the train and test scores to gain detailed knowledge about the model behavior throughout the cross-validation process, as follows:"
   ]
  },
  {
   "cell_type": "code",
   "execution_count": null,
   "metadata": {
    "ExecuteTime": {
     "end_time": "2021-04-16T00:34:46.896130Z",
     "start_time": "2021-04-16T00:34:33.377385Z"
    },
    "scrolled": true
   },
   "outputs": [],
   "source": [
    "train_scores, val_scores, leaves = {}, {}, {}\n",
    "for max_depth in max_depths:\n",
    "    print(max_depth, end=' ', flush=True)\n",
    "    clf = DecisionTreeClassifier(criterion='gini', \n",
    "                                 max_depth=max_depth,\n",
    "                                 min_samples_leaf=5,\n",
    "                                 max_features='sqrt',\n",
    "                                 random_state=42)\n",
    "    train_scores[max_depth], val_scores[max_depth], leaves[max_depth] = [], [], []\n",
    "    for train_idx, test_idx in cv.split(X):\n",
    "        X_train, y_train,  = X.iloc[train_idx], y_binary.iloc[train_idx]\n",
    "        X_test, y_test = X.iloc[test_idx], y_binary.iloc[test_idx]\n",
    "        clf.fit(X=X_train, y=y_train)\n",
    "\n",
    "        train_pred = clf.predict_proba(X=X_train)[:, 1]\n",
    "        train_score = roc_auc_score(y_score=train_pred, y_true=y_train)\n",
    "        train_scores[max_depth].append(train_score)\n",
    "\n",
    "        test_pred = clf.predict_proba(X=X_test)[:, 1]\n",
    "        val_score = roc_auc_score(y_score=test_pred, y_true=y_test)\n",
    "        val_scores[max_depth].append(val_score)    \n",
    "        leaves[max_depth].append(get_leaves_count(clf))\n",
    "        \n",
    "clf_train_scores = pd.DataFrame(train_scores)\n",
    "clf_valid_scores = pd.DataFrame(val_scores)\n",
    "clf_leaves = pd.DataFrame(leaves)"
   ]
  },
  {
   "cell_type": "code",
   "execution_count": null,
   "metadata": {
    "ExecuteTime": {
     "end_time": "2021-04-16T00:34:46.906671Z",
     "start_time": "2021-04-16T00:34:46.898503Z"
    }
   },
   "outputs": [],
   "source": [
    "clf_cv_data = pd.concat([pd.melt(clf_train_scores,\n",
    "                                 var_name='Max. Depth',\n",
    "                                 value_name='ROC AUC').assign(Data='Train'),\n",
    "                         pd.melt(clf_valid_scores,\n",
    "                                 var_name='Max. Depth',\n",
    "                                 value_name='ROC AUC').assign(Data='Valid')])"
   ]
  },
  {
   "cell_type": "markdown",
   "metadata": {},
   "source": [
    "### Regression tree cross-validation"
   ]
  },
  {
   "cell_type": "markdown",
   "metadata": {},
   "source": [
    "#### Run cross-validation"
   ]
  },
  {
   "cell_type": "code",
   "execution_count": null,
   "metadata": {
    "ExecuteTime": {
     "end_time": "2021-04-16T00:34:58.712044Z",
     "start_time": "2021-04-16T00:34:46.907862Z"
    }
   },
   "outputs": [],
   "source": [
    "train_scores, val_scores, leaves = {}, {}, {}\n",
    "for max_depth in max_depths:\n",
    "    print(max_depth, end=' ', flush=True)\n",
    "    reg_tree = DecisionTreeRegressor(max_depth=max_depth,\n",
    "                                     min_samples_leaf=50,\n",
    "                                     max_features= 'sqrt',\n",
    "                                     random_state=42)\n",
    "    train_scores[max_depth], val_scores[max_depth], leaves[max_depth] = [], [], []\n",
    "    for train_idx, test_idx in cv.split(X):\n",
    "        X_train, y_train,  = X.iloc[train_idx], y.iloc[train_idx]\n",
    "        X_test, y_test = X.iloc[test_idx], y.iloc[test_idx]\n",
    "        reg_tree.fit(X=X_train, y=y_train)\n",
    "\n",
    "        train_pred = reg_tree.predict(X=X_train)\n",
    "        train_score = spearmanr(train_pred, y_train)[0]\n",
    "        train_scores[max_depth].append(train_score)\n",
    "\n",
    "        test_pred = reg_tree.predict(X=X_test)\n",
    "        val_score = spearmanr(test_pred, y_test)[0]\n",
    "        val_scores[max_depth].append(val_score)\n",
    "        leaves[max_depth].append(get_leaves_count(reg_tree))\n",
    "\n",
    "reg_train_scores = pd.DataFrame(train_scores)\n",
    "reg_valid_scores = pd.DataFrame(val_scores)\n",
    "reg_leaves = pd.DataFrame(leaves)"
   ]
  },
  {
   "cell_type": "code",
   "execution_count": null,
   "metadata": {
    "ExecuteTime": {
     "end_time": "2021-04-16T00:34:58.719502Z",
     "start_time": "2021-04-16T00:34:58.712895Z"
    }
   },
   "outputs": [],
   "source": [
    "reg_cv_data = (pd.melt(reg_train_scores, var_name='Max. Depth',\n",
    "                         value_name='IC').assign(Data='Train').append(\n",
    "    pd.melt(reg_valid_scores,\n",
    "            var_name='Max. Depth',\n",
    "            value_name='IC').assign(Data='Valid')))"
   ]
  },
  {
   "cell_type": "markdown",
   "metadata": {},
   "source": [
    "### Compare CV Results"
   ]
  },
  {
   "cell_type": "code",
   "execution_count": null,
   "metadata": {
    "ExecuteTime": {
     "end_time": "2021-04-16T00:35:00.042515Z",
     "start_time": "2021-04-16T00:34:58.720596Z"
    },
    "scrolled": true
   },
   "outputs": [],
   "source": [
    "fig, axes = plt.subplots(ncols=2, figsize=(14, 5))\n",
    "\n",
    "sns.lineplot(data=reg_cv_data,\n",
    "             x='Max. Depth', y='IC',\n",
    "             hue='Data', ci=95,\n",
    "             ax=axes[0], lw=2)\n",
    "\n",
    "axes[0].set_title('Regression Tree')\n",
    "axes[0].axvline(x=reg_valid_scores.mean().idxmax(), ls='--', c='k', lw=1)\n",
    "axes[0].axhline(y=0, ls='--', c='k', lw=1)\n",
    "\n",
    "sns.lineplot(data=clf_cv_data,\n",
    "             x='Max. Depth', y='ROC AUC',\n",
    "             hue='Data', ci=95,\n",
    "             ax=axes[1], lw=2)\n",
    "\n",
    "axes[1].set_title('Classification Tree')\n",
    "axes[1].axvline(x=clf_valid_scores.mean().idxmax(), ls='--', c='k', lw=1)\n",
    "axes[1].axhline(y=.5, ls='--', c='k', lw=1)\n",
    "for ax in axes:\n",
    "    ax.set_xlim(min(param_grid['max_depth']),\n",
    "                max(param_grid['max_depth']))\n",
    "\n",
    "fig.suptitle(f'Train-Validation Scores', fontsize=14)\n",
    "sns.despine()\n",
    "fig.tight_layout()\n",
    "fig.subplots_adjust(top=.91)"
   ]
  },
  {
   "cell_type": "markdown",
   "metadata": {},
   "source": [
    "### Learning Curves for best models"
   ]
  },
  {
   "cell_type": "markdown",
   "metadata": {},
   "source": [
    "A learning curve is a useful tool that displays how the validation and training score evolve as the number of training samples evolves.\n",
    "\n",
    "The purpose of the learning curve is to find out whether and how much the model would benefit from using more data during training. It is also useful to diagnose whether the model's generalization error is more likely driven by bias or variance.\n",
    "\n",
    "If, for example, both the validation score and the training score converge to a similarly low value despite an increasing training set size, the error is more likely due to bias, and additional training data is unlikely to help."
   ]
  },
  {
   "cell_type": "markdown",
   "metadata": {},
   "source": [
    "#### Classifier"
   ]
  },
  {
   "cell_type": "code",
   "execution_count": null,
   "metadata": {
    "ExecuteTime": {
     "end_time": "2021-04-16T00:35:00.045677Z",
     "start_time": "2021-04-16T00:35:00.043552Z"
    }
   },
   "outputs": [],
   "source": [
    "sizes = np.arange(.1, 1.01, .1)"
   ]
  },
  {
   "cell_type": "code",
   "execution_count": null,
   "metadata": {
    "ExecuteTime": {
     "end_time": "2021-04-16T00:35:01.724318Z",
     "start_time": "2021-04-16T00:35:00.052073Z"
    }
   },
   "outputs": [],
   "source": [
    "train_sizes, train_scores, valid_scores = learning_curve(gridsearch_clf.best_estimator_,\n",
    "                                                         X,\n",
    "                                                         y_binary,\n",
    "                                                         train_sizes=sizes,\n",
    "                                                         cv=cv,\n",
    "                                                         scoring='roc_auc',\n",
    "                                                         n_jobs=-1,\n",
    "                                                         shuffle=True,\n",
    "                                                         random_state=42)"
   ]
  },
  {
   "cell_type": "code",
   "execution_count": null,
   "metadata": {
    "ExecuteTime": {
     "end_time": "2021-04-16T00:35:01.738102Z",
     "start_time": "2021-04-16T00:35:01.725318Z"
    }
   },
   "outputs": [],
   "source": [
    "clf_lc_data = pd.concat([\n",
    "    pd.melt(pd.DataFrame(train_scores.T, columns=train_sizes),\n",
    "            var_name='Train Size',\n",
    "            value_name='ROC AUC').assign(Data='Train'),\n",
    "    pd.melt(pd.DataFrame(valid_scores.T, columns=train_sizes),\n",
    "            var_name='Train Size',\n",
    "            value_name='ROC AUC').assign(Data='Valid')])\n",
    "clf_lc_data.info()"
   ]
  },
  {
   "cell_type": "markdown",
   "metadata": {},
   "source": [
    "#### Regression Tree"
   ]
  },
  {
   "cell_type": "code",
   "execution_count": null,
   "metadata": {
    "ExecuteTime": {
     "end_time": "2021-04-16T00:35:03.354249Z",
     "start_time": "2021-04-16T00:35:01.739800Z"
    }
   },
   "outputs": [],
   "source": [
    "train_sizes, train_scores, valid_scores = learning_curve(gridsearch_reg.best_estimator_,\n",
    "                                                         X, y,\n",
    "                                                         train_sizes=sizes,\n",
    "                                                         cv=cv,\n",
    "                                                         scoring=ic,\n",
    "                                                         n_jobs=-1,\n",
    "                                                         shuffle=True,\n",
    "                                                         random_state=42)"
   ]
  },
  {
   "cell_type": "code",
   "execution_count": null,
   "metadata": {
    "ExecuteTime": {
     "end_time": "2021-04-16T00:35:03.370414Z",
     "start_time": "2021-04-16T00:35:03.355248Z"
    }
   },
   "outputs": [],
   "source": [
    "reg_lc_data = pd.concat([\n",
    "    pd.melt(pd.DataFrame(train_scores.T,\n",
    "                         columns=train_sizes),\n",
    "            var_name='Train Size',\n",
    "            value_name='IC').assign(Data='Train'),\n",
    "    pd.melt(pd.DataFrame(valid_scores.T,\n",
    "                         columns=train_sizes),\n",
    "            var_name='Train Size',\n",
    "            value_name='IC').assign(Data='Valid')])\n",
    "reg_lc_data.info()"
   ]
  },
  {
   "cell_type": "markdown",
   "metadata": {},
   "source": [
    "#### Compare Learning Curves"
   ]
  },
  {
   "cell_type": "code",
   "execution_count": null,
   "metadata": {
    "ExecuteTime": {
     "end_time": "2021-04-16T00:35:04.388657Z",
     "start_time": "2021-04-16T00:35:03.371672Z"
    }
   },
   "outputs": [],
   "source": [
    "fig, axes = plt.subplots(ncols=2, figsize=(14, 5))\n",
    "xmin, xmax = reg_lc_data['Train Size'].min(), reg_lc_data['Train Size'].max()\n",
    "\n",
    "sns.lineplot(data=reg_lc_data,\n",
    "             x='Train Size', y='IC',\n",
    "             hue='Data', ci=95,  ax=axes[0], lw=2)\n",
    "axes[0].set_title('Best Regression Tree')\n",
    "axes[0].set_ylabel('IC')\n",
    "\n",
    "axes[0].xaxis.set_major_formatter(\n",
    "    FuncFormatter(lambda x, _: '{:,.0f}'.format(x)))\n",
    "\n",
    "sns.lineplot(data=clf_lc_data,\n",
    "             x='Train Size',\n",
    "             y='ROC AUC',\n",
    "             hue='Data',\n",
    "             ci=95,\n",
    "             ax=axes[1],\n",
    "             lw=2)\n",
    "axes[1].set_title('Best Classification Tree')\n",
    "axes[1].set_ylabel('ROC AUC')\n",
    "axes[1].xaxis.set_major_formatter(\n",
    "    FuncFormatter(lambda x, _: '{:,.0f}'.format(x)))\n",
    "\n",
    "for i in [0, 1]:\n",
    "    axes[i].tick_params(axis='both', which='major', labelsize=10)\n",
    "    axes[i].tick_params(axis='both', which='minor', labelsize=8)\n",
    "    axes[i].set_xlim(xmin, xmax)\n",
    "\n",
    "fig.suptitle('Learning Curves', fontsize=14)\n",
    "sns.despine()\n",
    "fig.tight_layout()\n",
    "fig.subplots_adjust(top=.9)"
   ]
  },
  {
   "cell_type": "markdown",
   "metadata": {},
   "source": [
    "### Feature Importance"
   ]
  },
  {
   "cell_type": "markdown",
   "metadata": {},
   "source": [
    "Decision trees can not only be visualized to inspect the decision path for a given feature, but also provide a summary measure of the contribution of each feature to the model fit to the training data. \n",
    "\n",
    "The feature importance captures how much the splits produced by the feature helped to optimize the model's metric used to evaluate the split quality, which in our case is the Gini Impurity index. \n",
    "\n",
    "A feature's importance is computed as the (normalized) total reduction of this metric and takes into account the number of samples affected by a split. Hence, features used earlier in the tree where the nodes tend to contain more samples typically are considered of higher importance."
   ]
  },
  {
   "cell_type": "code",
   "execution_count": null,
   "metadata": {
    "ExecuteTime": {
     "end_time": "2021-04-16T00:35:04.395752Z",
     "start_time": "2021-04-16T00:35:04.389724Z"
    }
   },
   "outputs": [],
   "source": [
    "top_n = 15\n",
    "labels = X.columns.str.replace('_', ' ').str.upper()\n",
    "fi_clf = (pd.Series(gridsearch_clf.best_estimator_.feature_importances_, \n",
    "                    index=labels).sort_values(ascending=False).iloc[:top_n])\n",
    "fi_reg = (pd.Series(gridsearch_reg.best_estimator_.feature_importances_, \n",
    "                    index=labels).sort_values(ascending=False).iloc[:top_n])"
   ]
  },
  {
   "cell_type": "code",
   "execution_count": null,
   "metadata": {
    "ExecuteTime": {
     "end_time": "2021-04-16T00:35:04.714765Z",
     "start_time": "2021-04-16T00:35:04.396825Z"
    }
   },
   "outputs": [],
   "source": [
    "fig, axes= plt.subplots(ncols=2, figsize=(12,4), sharex=True)\n",
    "color = cm.Blues(np.linspace(.4,.9, top_n))\n",
    "fi_clf.sort_values().plot.barh(ax=axes[1], title='Classification Tree', color=color)\n",
    "fi_reg.sort_values().plot.barh(ax=axes[0], title='Regression Tree', color=color)\n",
    "axes[0].set_xlabel('Feature Importance')\n",
    "axes[1].set_xlabel('Feature Importance')\n",
    "fig.suptitle(f'Top {top_n} Features', fontsize=14)\n",
    "sns.despine()\n",
    "fig.tight_layout()\n",
    "fig.subplots_adjust(top=.9);"
   ]
  }
 ],
 "metadata": {
  "kernelspec": {
   "display_name": "Python [conda env:ml4t]",
   "language": "python",
   "name": "conda-env-ml4t-py"
  },
  "language_info": {
   "codemirror_mode": {
    "name": "ipython",
    "version": 3
   },
   "file_extension": ".py",
   "mimetype": "text/x-python",
   "name": "python",
   "nbconvert_exporter": "python",
   "pygments_lexer": "ipython3",
   "version": "3.8.8"
  },
  "toc": {
   "base_numbering": 1,
   "nav_menu": {},
   "number_sections": true,
   "sideBar": true,
   "skip_h1_title": true,
   "title_cell": "Table of Contents",
   "title_sidebar": "Contents",
   "toc_cell": false,
   "toc_position": {
    "height": "calc(100% - 180px)",
    "left": "10px",
    "top": "150px",
    "width": "343.837px"
   },
   "toc_section_display": true,
   "toc_window_display": true
  }
 },
 "nbformat": 4,
 "nbformat_minor": 2
}
