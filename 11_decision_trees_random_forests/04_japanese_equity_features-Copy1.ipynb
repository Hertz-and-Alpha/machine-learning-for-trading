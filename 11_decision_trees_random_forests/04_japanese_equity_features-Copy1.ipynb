{
 "cells": [
  {
   "cell_type": "markdown",
   "metadata": {},
   "source": [
    "# Japanese Equity Data - Feature Engineering"
   ]
  },
  {
   "cell_type": "markdown",
   "metadata": {},
   "source": [
    "## Imports & Settings"
   ]
  },
  {
   "cell_type": "code",
   "execution_count": 1,
   "metadata": {
    "ExecuteTime": {
     "end_time": "2021-04-16T00:36:28.219958Z",
     "start_time": "2021-04-16T00:36:28.216623Z"
    }
   },
   "outputs": [],
   "source": [
    "import warnings\n",
    "warnings.filterwarnings('ignore')"
   ]
  },
  {
   "cell_type": "code",
   "execution_count": 2,
   "metadata": {
    "ExecuteTime": {
     "end_time": "2021-04-16T00:36:28.906426Z",
     "start_time": "2021-04-16T00:36:28.380747Z"
    }
   },
   "outputs": [],
   "source": [
    "%matplotlib inline\n",
    "\n",
    "from pathlib import Path\n",
    "\n",
    "import numpy as np\n",
    "import pandas as pd\n",
    "import talib\n",
    "\n",
    "import matplotlib.pyplot as plt\n",
    "import seaborn as sns"
   ]
  },
  {
   "cell_type": "code",
   "execution_count": 3,
   "metadata": {
    "ExecuteTime": {
     "end_time": "2021-04-16T00:36:28.909816Z",
     "start_time": "2021-04-16T00:36:28.907451Z"
    }
   },
   "outputs": [],
   "source": [
    "sns.set_style('white')"
   ]
  },
  {
   "cell_type": "code",
   "execution_count": 4,
   "metadata": {
    "ExecuteTime": {
     "end_time": "2021-04-16T00:36:28.923605Z",
     "start_time": "2021-04-16T00:36:28.911339Z"
    }
   },
   "outputs": [],
   "source": [
    "idx = pd.IndexSlice"
   ]
  },
  {
   "cell_type": "markdown",
   "metadata": {},
   "source": [
    "## Get Data"
   ]
  },
  {
   "cell_type": "markdown",
   "metadata": {},
   "source": [
    "### Stooq Japanese Equity data 2014-2019"
   ]
  },
  {
   "cell_type": "code",
   "execution_count": 5,
   "metadata": {
    "ExecuteTime": {
     "end_time": "2021-04-16T00:36:29.953176Z",
     "start_time": "2021-04-16T00:36:29.951307Z"
    }
   },
   "outputs": [],
   "source": [
    "DATA_DIR = Path('..', 'data')"
   ]
  },
  {
   "cell_type": "code",
   "execution_count": 6,
   "metadata": {
    "ExecuteTime": {
     "end_time": "2021-04-16T00:36:40.985381Z",
     "start_time": "2021-04-16T00:36:30.597536Z"
    }
   },
   "outputs": [],
   "source": [
    "prices = (pd.read_hdf(DATA_DIR / 'assets.h5', 'stooq/jp/tse/stocks/prices')\n",
    "          .loc[idx[:, '2010': '2019'], :]\n",
    "          .loc[lambda df: ~df.index.duplicated(), :])"
   ]
  },
  {
   "cell_type": "code",
   "execution_count": 7,
   "metadata": {
    "ExecuteTime": {
     "end_time": "2021-04-16T00:36:41.143801Z",
     "start_time": "2021-04-16T00:36:40.986398Z"
    }
   },
   "outputs": [
    {
     "name": "stdout",
     "output_type": "stream",
     "text": [
      "<class 'pandas.core.frame.DataFrame'>\n",
      "MultiIndex: 7405525 entries, ('1301.JP', Timestamp('2010-01-04 00:00:00')) to ('9997.JP', Timestamp('2019-12-30 00:00:00'))\n",
      "Data columns (total 5 columns):\n",
      " #   Column  Non-Null Count    Dtype  \n",
      "---  ------  --------------    -----  \n",
      " 0   open    7405525 non-null  float64\n",
      " 1   high    7405525 non-null  float64\n",
      " 2   low     7405525 non-null  float64\n",
      " 3   close   7405525 non-null  float64\n",
      " 4   volume  7405525 non-null  int64  \n",
      "dtypes: float64(4), int64(1)\n",
      "memory usage: 311.1+ MB\n"
     ]
    }
   ],
   "source": [
    "prices.info(show_counts=True)"
   ]
  },
  {
   "cell_type": "code",
   "execution_count": 8,
   "metadata": {
    "ExecuteTime": {
     "end_time": "2021-04-16T00:36:41.189821Z",
     "start_time": "2021-04-16T00:36:41.145040Z"
    }
   },
   "outputs": [],
   "source": [
    "before = len(prices.index.unique('ticker').unique())"
   ]
  },
  {
   "cell_type": "markdown",
   "metadata": {},
   "source": [
    "### Remove symbols with missing values"
   ]
  },
  {
   "cell_type": "code",
   "execution_count": 9,
   "metadata": {
    "ExecuteTime": {
     "end_time": "2021-04-16T00:37:07.315496Z",
     "start_time": "2021-04-16T00:37:03.137924Z"
    }
   },
   "outputs": [
    {
     "name": "stdout",
     "output_type": "stream",
     "text": [
      "<class 'pandas.core.frame.DataFrame'>\n",
      "MultiIndex: 5515148 entries, ('1301.JP', Timestamp('2010-01-04 00:00:00')) to ('9997.JP', Timestamp('2019-12-30 00:00:00'))\n",
      "Data columns (total 5 columns):\n",
      " #   Column  Non-Null Count    Dtype  \n",
      "---  ------  --------------    -----  \n",
      " 0   open    5515148 non-null  float64\n",
      " 1   high    5515148 non-null  float64\n",
      " 2   low     5515148 non-null  float64\n",
      " 3   close   5515148 non-null  float64\n",
      " 4   volume  5515148 non-null  float64\n",
      "dtypes: float64(5)\n",
      "memory usage: 231.7+ MB\n"
     ]
    }
   ],
   "source": [
    "prices = (prices.unstack('ticker')\n",
    "        .sort_index()\n",
    "        .ffill(limit=5)\n",
    "        .dropna(axis=1)\n",
    "        .stack('ticker')\n",
    "        .swaplevel())\n",
    "prices.info(show_counts=True)"
   ]
  },
  {
   "cell_type": "code",
   "execution_count": 10,
   "metadata": {
    "ExecuteTime": {
     "end_time": "2021-04-16T00:37:07.364787Z",
     "start_time": "2021-04-16T00:37:07.316695Z"
    }
   },
   "outputs": [
    {
     "name": "stdout",
     "output_type": "stream",
     "text": [
      "Before: 3,623 after: 2,252\n"
     ]
    }
   ],
   "source": [
    "after = len(prices.index.unique('ticker').unique())\n",
    "print(f'Before: {before:,.0f} after: {after:,.0f}')"
   ]
  },
  {
   "cell_type": "markdown",
   "metadata": {},
   "source": [
    "### Keep most traded symbols"
   ]
  },
  {
   "cell_type": "code",
   "execution_count": 11,
   "metadata": {
    "ExecuteTime": {
     "end_time": "2021-04-16T00:37:11.450895Z",
     "start_time": "2021-04-16T00:37:11.125591Z"
    }
   },
   "outputs": [],
   "source": [
    "dv = prices.close.mul(prices.volume)\n",
    "keep = dv.groupby('ticker').median().nlargest(1000).index.tolist()"
   ]
  },
  {
   "cell_type": "code",
   "execution_count": 12,
   "metadata": {
    "ExecuteTime": {
     "end_time": "2021-04-16T00:38:35.220960Z",
     "start_time": "2021-04-16T00:38:35.194655Z"
    }
   },
   "outputs": [
    {
     "name": "stdout",
     "output_type": "stream",
     "text": [
      "<class 'pandas.core.frame.DataFrame'>\n",
      "MultiIndex: 2449000 entries, ('9984.JP', Timestamp('2010-01-04 00:00:00')) to ('8550.JP', Timestamp('2019-12-30 00:00:00'))\n",
      "Data columns (total 5 columns):\n",
      " #   Column  Non-Null Count    Dtype  \n",
      "---  ------  --------------    -----  \n",
      " 0   open    2449000 non-null  float64\n",
      " 1   high    2449000 non-null  float64\n",
      " 2   low     2449000 non-null  float64\n",
      " 3   close   2449000 non-null  float64\n",
      " 4   volume  2449000 non-null  float64\n",
      "dtypes: float64(5)\n",
      "memory usage: 103.0+ MB\n"
     ]
    }
   ],
   "source": [
    "prices = prices.loc[idx[keep, :], :]\n",
    "prices.info(show_counts=True)"
   ]
  },
  {
   "cell_type": "markdown",
   "metadata": {},
   "source": [
    "## Feature Engineering"
   ]
  },
  {
   "cell_type": "markdown",
   "metadata": {},
   "source": [
    "### Compute period returns"
   ]
  },
  {
   "cell_type": "code",
   "execution_count": 13,
   "metadata": {
    "ExecuteTime": {
     "end_time": "2021-04-16T00:38:42.398427Z",
     "start_time": "2021-04-16T00:38:42.396326Z"
    }
   },
   "outputs": [],
   "source": [
    "intervals = [1, 5, 10, 21, 63]"
   ]
  },
  {
   "cell_type": "code",
   "execution_count": 14,
   "metadata": {
    "ExecuteTime": {
     "end_time": "2021-04-16T00:38:44.156966Z",
     "start_time": "2021-04-16T00:38:42.559913Z"
    }
   },
   "outputs": [],
   "source": [
    "returns = []\n",
    "by_ticker = prices.groupby(level='ticker').close\n",
    "for t in intervals:\n",
    "    returns.append(by_ticker.pct_change(t).to_frame(f'ret_{t}'))\n",
    "returns = pd.concat(returns, axis=1)"
   ]
  },
  {
   "cell_type": "code",
   "execution_count": 15,
   "metadata": {
    "ExecuteTime": {
     "end_time": "2021-04-16T00:38:46.129268Z",
     "start_time": "2021-04-16T00:38:46.100045Z"
    }
   },
   "outputs": [
    {
     "name": "stdout",
     "output_type": "stream",
     "text": [
      "<class 'pandas.core.frame.DataFrame'>\n",
      "MultiIndex: 2449000 entries, ('9984.JP', Timestamp('2010-01-04 00:00:00')) to ('8550.JP', Timestamp('2019-12-30 00:00:00'))\n",
      "Data columns (total 5 columns):\n",
      " #   Column  Non-Null Count    Dtype  \n",
      "---  ------  --------------    -----  \n",
      " 0   ret_1   2448000 non-null  float64\n",
      " 1   ret_5   2444000 non-null  float64\n",
      " 2   ret_10  2439000 non-null  float64\n",
      " 3   ret_21  2428000 non-null  float64\n",
      " 4   ret_63  2386000 non-null  float64\n",
      "dtypes: float64(5)\n",
      "memory usage: 103.0+ MB\n"
     ]
    }
   ],
   "source": [
    "returns.info(show_counts=True)"
   ]
  },
  {
   "cell_type": "markdown",
   "metadata": {},
   "source": [
    "### Remove outliers"
   ]
  },
  {
   "cell_type": "code",
   "execution_count": 16,
   "metadata": {
    "ExecuteTime": {
     "end_time": "2021-02-23T20:55:08.850013Z",
     "start_time": "2021-02-23T20:55:08.655061Z"
    }
   },
   "outputs": [],
   "source": [
    "max_ret_by_sym = returns.groupby(level='ticker').max()"
   ]
  },
  {
   "cell_type": "code",
   "execution_count": 17,
   "metadata": {
    "ExecuteTime": {
     "end_time": "2021-02-23T20:55:08.871539Z",
     "start_time": "2021-02-23T20:55:08.851093Z"
    },
    "scrolled": false
   },
   "outputs": [
    {
     "data": {
      "text/html": [
       "<div>\n",
       "<style scoped>\n",
       "    .dataframe tbody tr th:only-of-type {\n",
       "        vertical-align: middle;\n",
       "    }\n",
       "\n",
       "    .dataframe tbody tr th {\n",
       "        vertical-align: top;\n",
       "    }\n",
       "\n",
       "    .dataframe thead th {\n",
       "        text-align: right;\n",
       "    }\n",
       "</style>\n",
       "<table border=\"1\" class=\"dataframe\">\n",
       "  <thead>\n",
       "    <tr style=\"text-align: right;\">\n",
       "      <th></th>\n",
       "      <th>ret_1</th>\n",
       "      <th>ret_5</th>\n",
       "      <th>ret_10</th>\n",
       "      <th>ret_21</th>\n",
       "      <th>ret_63</th>\n",
       "    </tr>\n",
       "  </thead>\n",
       "  <tbody>\n",
       "    <tr>\n",
       "      <th>count</th>\n",
       "      <td>1000.000000</td>\n",
       "      <td>1000.000000</td>\n",
       "      <td>1000.000000</td>\n",
       "      <td>1000.000000</td>\n",
       "      <td>1000.000000</td>\n",
       "    </tr>\n",
       "    <tr>\n",
       "      <th>mean</th>\n",
       "      <td>0.171569</td>\n",
       "      <td>0.350224</td>\n",
       "      <td>0.470135</td>\n",
       "      <td>0.623475</td>\n",
       "      <td>1.018064</td>\n",
       "    </tr>\n",
       "    <tr>\n",
       "      <th>std</th>\n",
       "      <td>0.085262</td>\n",
       "      <td>0.294997</td>\n",
       "      <td>0.525405</td>\n",
       "      <td>0.808769</td>\n",
       "      <td>1.501504</td>\n",
       "    </tr>\n",
       "    <tr>\n",
       "      <th>min</th>\n",
       "      <td>0.066822</td>\n",
       "      <td>0.105317</td>\n",
       "      <td>0.106830</td>\n",
       "      <td>0.130860</td>\n",
       "      <td>0.204479</td>\n",
       "    </tr>\n",
       "    <tr>\n",
       "      <th>50%</th>\n",
       "      <td>0.150560</td>\n",
       "      <td>0.253131</td>\n",
       "      <td>0.307138</td>\n",
       "      <td>0.389828</td>\n",
       "      <td>0.640128</td>\n",
       "    </tr>\n",
       "    <tr>\n",
       "      <th>90%</th>\n",
       "      <td>0.269886</td>\n",
       "      <td>0.620255</td>\n",
       "      <td>0.848460</td>\n",
       "      <td>1.061653</td>\n",
       "      <td>1.759173</td>\n",
       "    </tr>\n",
       "    <tr>\n",
       "      <th>95%</th>\n",
       "      <td>0.342345</td>\n",
       "      <td>0.934733</td>\n",
       "      <td>1.381337</td>\n",
       "      <td>1.643186</td>\n",
       "      <td>2.573662</td>\n",
       "    </tr>\n",
       "    <tr>\n",
       "      <th>97.5%</th>\n",
       "      <td>0.384632</td>\n",
       "      <td>1.354155</td>\n",
       "      <td>2.042885</td>\n",
       "      <td>2.863317</td>\n",
       "      <td>4.228995</td>\n",
       "    </tr>\n",
       "    <tr>\n",
       "      <th>99%</th>\n",
       "      <td>0.471793</td>\n",
       "      <td>1.641298</td>\n",
       "      <td>3.184961</td>\n",
       "      <td>4.627203</td>\n",
       "      <td>8.028316</td>\n",
       "    </tr>\n",
       "    <tr>\n",
       "      <th>99.5%</th>\n",
       "      <td>0.600000</td>\n",
       "      <td>1.958242</td>\n",
       "      <td>3.590278</td>\n",
       "      <td>5.666306</td>\n",
       "      <td>9.627482</td>\n",
       "    </tr>\n",
       "    <tr>\n",
       "      <th>99.9%</th>\n",
       "      <td>0.789489</td>\n",
       "      <td>2.166895</td>\n",
       "      <td>4.385537</td>\n",
       "      <td>8.049485</td>\n",
       "      <td>17.754620</td>\n",
       "    </tr>\n",
       "    <tr>\n",
       "      <th>max</th>\n",
       "      <td>0.826024</td>\n",
       "      <td>2.402364</td>\n",
       "      <td>5.336406</td>\n",
       "      <td>9.085616</td>\n",
       "      <td>22.067797</td>\n",
       "    </tr>\n",
       "  </tbody>\n",
       "</table>\n",
       "</div>"
      ],
      "text/plain": [
       "             ret_1        ret_5       ret_10       ret_21       ret_63\n",
       "count  1000.000000  1000.000000  1000.000000  1000.000000  1000.000000\n",
       "mean      0.171569     0.350224     0.470135     0.623475     1.018064\n",
       "std       0.085262     0.294997     0.525405     0.808769     1.501504\n",
       "min       0.066822     0.105317     0.106830     0.130860     0.204479\n",
       "50%       0.150560     0.253131     0.307138     0.389828     0.640128\n",
       "90%       0.269886     0.620255     0.848460     1.061653     1.759173\n",
       "95%       0.342345     0.934733     1.381337     1.643186     2.573662\n",
       "97.5%     0.384632     1.354155     2.042885     2.863317     4.228995\n",
       "99%       0.471793     1.641298     3.184961     4.627203     8.028316\n",
       "99.5%     0.600000     1.958242     3.590278     5.666306     9.627482\n",
       "99.9%     0.789489     2.166895     4.385537     8.049485    17.754620\n",
       "max       0.826024     2.402364     5.336406     9.085616    22.067797"
      ]
     },
     "execution_count": 17,
     "metadata": {},
     "output_type": "execute_result"
    }
   ],
   "source": [
    "percentiles = [0.001, .005, .01, .025, .05, .1]\n",
    "percentiles += [1-p for p in percentiles]\n",
    "max_ret_by_sym.describe(percentiles=sorted(percentiles)[6:])"
   ]
  },
  {
   "cell_type": "code",
   "execution_count": 18,
   "metadata": {
    "ExecuteTime": {
     "end_time": "2021-02-23T20:55:08.884025Z",
     "start_time": "2021-02-23T20:55:08.873299Z"
    },
    "scrolled": false
   },
   "outputs": [],
   "source": [
    "quantiles = max_ret_by_sym.quantile(.95)\n",
    "to_drop = []\n",
    "for ret, q in quantiles.items():\n",
    "    to_drop.extend(max_ret_by_sym[max_ret_by_sym[ret]>q].index.tolist()) "
   ]
  },
  {
   "cell_type": "code",
   "execution_count": 19,
   "metadata": {
    "ExecuteTime": {
     "end_time": "2021-02-23T20:55:08.899082Z",
     "start_time": "2021-02-23T20:55:08.885562Z"
    }
   },
   "outputs": [
    {
     "data": {
      "text/plain": [
       "59"
      ]
     },
     "execution_count": 19,
     "metadata": {},
     "output_type": "execute_result"
    }
   ],
   "source": [
    "to_drop = pd.Series(to_drop).value_counts()\n",
    "to_drop = to_drop[to_drop > 1].index.tolist()\n",
    "len(to_drop)"
   ]
  },
  {
   "cell_type": "code",
   "execution_count": 20,
   "metadata": {
    "ExecuteTime": {
     "end_time": "2021-02-23T20:55:20.739495Z",
     "start_time": "2021-02-23T20:55:08.900191Z"
    }
   },
   "outputs": [
    {
     "name": "stdout",
     "output_type": "stream",
     "text": [
      "<class 'pandas.core.frame.DataFrame'>\n",
      "MultiIndex: 2304509 entries, ('9984.JP', Timestamp('2010-01-04 00:00:00')) to ('8550.JP', Timestamp('2019-12-30 00:00:00'))\n",
      "Data columns (total 5 columns):\n",
      " #   Column  Non-Null Count    Dtype  \n",
      "---  ------  --------------    -----  \n",
      " 0   open    2304509 non-null  float64\n",
      " 1   high    2304509 non-null  float64\n",
      " 2   low     2304509 non-null  float64\n",
      " 3   close   2304509 non-null  float64\n",
      " 4   volume  2304509 non-null  float64\n",
      "dtypes: float64(5)\n",
      "memory usage: 96.9+ MB\n"
     ]
    }
   ],
   "source": [
    "prices = prices.drop(to_drop, level='ticker')\n",
    "prices.info(show_counts=True)"
   ]
  },
  {
   "cell_type": "markdown",
   "metadata": {},
   "source": [
    "### Calculate relative return percentiles"
   ]
  },
  {
   "cell_type": "code",
   "execution_count": 21,
   "metadata": {
    "ExecuteTime": {
     "end_time": "2021-02-23T20:56:35.060799Z",
     "start_time": "2021-02-23T20:55:20.740911Z"
    }
   },
   "outputs": [],
   "source": [
    "returns = []\n",
    "by_sym = prices.groupby(level='ticker').close\n",
    "for t in intervals:\n",
    "    ret = by_sym.pct_change(t)\n",
    "    rel_perc = (ret.groupby(level='date')\n",
    "             .apply(lambda x: pd.qcut(x, q=20, labels=False, duplicates='drop')))\n",
    "    returns.extend([ret.to_frame(f'ret_{t}'), rel_perc.to_frame(f'ret_rel_perc_{t}')])\n",
    "returns = pd.concat(returns, axis=1)"
   ]
  },
  {
   "cell_type": "markdown",
   "metadata": {},
   "source": [
    "### Technical Indicators"
   ]
  },
  {
   "cell_type": "markdown",
   "metadata": {},
   "source": [
    "#### Percentage Price Oscillator"
   ]
  },
  {
   "cell_type": "code",
   "execution_count": 22,
   "metadata": {
    "ExecuteTime": {
     "end_time": "2021-02-23T20:56:46.007693Z",
     "start_time": "2021-02-23T20:56:35.061783Z"
    }
   },
   "outputs": [],
   "source": [
    "ppo = prices.groupby(level='ticker').close.apply(talib.PPO).to_frame('PPO')"
   ]
  },
  {
   "cell_type": "markdown",
   "metadata": {},
   "source": [
    "#### Normalized Average True Range"
   ]
  },
  {
   "cell_type": "code",
   "execution_count": 23,
   "metadata": {
    "ExecuteTime": {
     "end_time": "2021-02-23T20:56:46.703740Z",
     "start_time": "2021-02-23T20:56:46.008746Z"
    }
   },
   "outputs": [],
   "source": [
    "natr = prices.groupby(level='ticker', group_keys=False).apply(lambda x: talib.NATR(x.high, x.low, x.close)).to_frame('NATR')"
   ]
  },
  {
   "cell_type": "markdown",
   "metadata": {},
   "source": [
    "#### Relative Strength Indicator"
   ]
  },
  {
   "cell_type": "code",
   "execution_count": 24,
   "metadata": {
    "ExecuteTime": {
     "end_time": "2021-02-23T20:56:56.951382Z",
     "start_time": "2021-02-23T20:56:46.704740Z"
    }
   },
   "outputs": [],
   "source": [
    "rsi = prices.groupby(level='ticker').close.apply(talib.RSI).to_frame('RSI')"
   ]
  },
  {
   "cell_type": "markdown",
   "metadata": {},
   "source": [
    "#### Bollinger Bands"
   ]
  },
  {
   "cell_type": "code",
   "execution_count": 25,
   "metadata": {
    "ExecuteTime": {
     "end_time": "2021-02-23T20:56:56.954648Z",
     "start_time": "2021-02-23T20:56:56.952318Z"
    }
   },
   "outputs": [],
   "source": [
    "def get_bollinger(x):\n",
    "    u, m, l = talib.BBANDS(x)\n",
    "    return pd.DataFrame({'u': u, 'm': m, 'l': l})"
   ]
  },
  {
   "cell_type": "code",
   "execution_count": null,
   "metadata": {
    "ExecuteTime": {
     "end_time": "2021-02-23T20:57:11.582203Z",
     "start_time": "2021-02-23T20:56:56.955779Z"
    }
   },
   "outputs": [],
   "source": [
    "bbands = prices.groupby(level='ticker').close.apply(get_bollinger)"
   ]
  },
  {
   "cell_type": "markdown",
   "metadata": {},
   "source": [
    "### Combine Features"
   ]
  },
  {
   "cell_type": "code",
   "execution_count": null,
   "metadata": {
    "ExecuteTime": {
     "end_time": "2021-02-23T20:58:21.465132Z",
     "start_time": "2021-02-23T20:57:11.583380Z"
    }
   },
   "outputs": [],
   "source": [
    "data = pd.concat([prices, returns, ppo, natr, rsi, bbands], axis=1)"
   ]
  },
  {
   "cell_type": "code",
   "execution_count": null,
   "metadata": {
    "ExecuteTime": {
     "end_time": "2021-02-23T20:58:21.670030Z",
     "start_time": "2021-02-23T20:58:21.466056Z"
    }
   },
   "outputs": [],
   "source": [
    "data['bbl'] = data.close.div(data.l)\n",
    "data['bbu'] = data.u.div(data.close)\n",
    "data = data.drop(['u', 'm', 'l'], axis=1)"
   ]
  },
  {
   "cell_type": "code",
   "execution_count": null,
   "metadata": {
    "ExecuteTime": {
     "end_time": "2021-02-23T20:58:22.489378Z",
     "start_time": "2021-02-23T20:58:21.671030Z"
    }
   },
   "outputs": [],
   "source": [
    "data.bbu.corr(data.bbl, method='spearman')"
   ]
  },
  {
   "cell_type": "markdown",
   "metadata": {},
   "source": [
    "### Plot Indicators for randomly sample ticker"
   ]
  },
  {
   "cell_type": "code",
   "execution_count": null,
   "metadata": {
    "ExecuteTime": {
     "end_time": "2021-02-23T20:58:23.603017Z",
     "start_time": "2021-02-23T20:58:22.490614Z"
    }
   },
   "outputs": [],
   "source": [
    "indicators = ['close', 'bbl', 'bbu', 'PPO', 'NATR', 'RSI']\n",
    "ticker = np.random.choice(data.index.get_level_values('ticker'))\n",
    "(data.loc[idx[ticker, :], indicators].reset_index('ticker', drop=True)\n",
    " .plot(lw=1, subplots=True, figsize=(16, 10), title=indicators, layout=(3, 2), legend=False))\n",
    "plt.suptitle(ticker, fontsize=14)\n",
    "sns.despine()\n",
    "plt.tight_layout()\n",
    "plt.subplots_adjust(top=.95)"
   ]
  },
  {
   "cell_type": "code",
   "execution_count": null,
   "metadata": {
    "ExecuteTime": {
     "end_time": "2021-02-23T20:58:23.651877Z",
     "start_time": "2021-02-23T20:58:23.603991Z"
    }
   },
   "outputs": [],
   "source": [
    "data = data.drop(prices.columns, axis=1)"
   ]
  },
  {
   "cell_type": "markdown",
   "metadata": {},
   "source": [
    "### Create time period indicators"
   ]
  },
  {
   "cell_type": "code",
   "execution_count": null,
   "metadata": {
    "ExecuteTime": {
     "end_time": "2021-02-23T20:58:24.065814Z",
     "start_time": "2021-02-23T20:58:23.653021Z"
    }
   },
   "outputs": [],
   "source": [
    "dates = data.index.get_level_values('date')\n",
    "data['weekday'] = dates.weekday\n",
    "data['month'] = dates.month\n",
    "data['year'] = dates.year"
   ]
  },
  {
   "cell_type": "markdown",
   "metadata": {},
   "source": [
    "## Compute forward returns"
   ]
  },
  {
   "cell_type": "code",
   "execution_count": null,
   "metadata": {
    "ExecuteTime": {
     "end_time": "2021-02-23T20:58:24.234580Z",
     "start_time": "2021-02-23T20:58:24.067745Z"
    }
   },
   "outputs": [],
   "source": [
    "outcomes = []\n",
    "by_ticker = data.groupby('ticker')\n",
    "for t in intervals:\n",
    "    k = f'fwd_ret_{t:02}'\n",
    "    outcomes.append(k)\n",
    "    data[k] = by_ticker[f'ret_{t}'].shift(-t)"
   ]
  },
  {
   "cell_type": "code",
   "execution_count": null,
   "metadata": {
    "ExecuteTime": {
     "end_time": "2021-02-23T20:58:24.334797Z",
     "start_time": "2021-02-23T20:58:24.235663Z"
    }
   },
   "outputs": [],
   "source": [
    "data.info(null_counts=True)"
   ]
  },
  {
   "cell_type": "code",
   "execution_count": null,
   "metadata": {
    "ExecuteTime": {
     "end_time": "2021-02-23T20:58:24.790841Z",
     "start_time": "2021-02-23T20:58:24.335874Z"
    }
   },
   "outputs": [],
   "source": [
    "data.to_hdf('data.h5', 'stooq/japan/equities')"
   ]
  }
 ],
 "metadata": {
  "kernelspec": {
   "display_name": "Python [conda env:ml4t]",
   "language": "python",
   "name": "conda-env-ml4t-py"
  },
  "language_info": {
   "codemirror_mode": {
    "name": "ipython",
    "version": 3
   },
   "file_extension": ".py",
   "mimetype": "text/x-python",
   "name": "python",
   "nbconvert_exporter": "python",
   "pygments_lexer": "ipython3",
   "version": "3.8.8"
  },
  "toc": {
   "base_numbering": 1,
   "nav_menu": {},
   "number_sections": true,
   "sideBar": true,
   "skip_h1_title": true,
   "title_cell": "Table of Contents",
   "title_sidebar": "Contents",
   "toc_cell": false,
   "toc_position": {
    "height": "calc(100% - 180px)",
    "left": "10px",
    "top": "150px",
    "width": "271.167px"
   },
   "toc_section_display": true,
   "toc_window_display": true
  }
 },
 "nbformat": 4,
 "nbformat_minor": 2
}
