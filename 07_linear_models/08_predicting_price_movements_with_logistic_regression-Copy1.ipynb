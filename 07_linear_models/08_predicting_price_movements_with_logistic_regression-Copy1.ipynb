{
 "cells": [
  {
   "cell_type": "markdown",
   "metadata": {},
   "source": [
    "# Predicting stock price moves with Logistic Regression"
   ]
  },
  {
   "cell_type": "markdown",
   "metadata": {},
   "source": [
    "## Imports & Settings"
   ]
  },
  {
   "cell_type": "code",
   "execution_count": 1,
   "metadata": {
    "ExecuteTime": {
     "end_time": "2021-04-15T20:17:11.301878Z",
     "start_time": "2021-04-15T20:17:11.299202Z"
    }
   },
   "outputs": [],
   "source": [
    "import warnings\n",
    "warnings.filterwarnings('ignore')"
   ]
  },
  {
   "cell_type": "code",
   "execution_count": 2,
   "metadata": {
    "ExecuteTime": {
     "end_time": "2021-04-15T20:17:11.924039Z",
     "start_time": "2021-04-15T20:17:11.308933Z"
    }
   },
   "outputs": [],
   "source": [
    "from pathlib import Path\n",
    "import sys, os\n",
    "from time import time\n",
    "\n",
    "import pandas as pd\n",
    "import numpy as np\n",
    "\n",
    "from scipy.stats import spearmanr\n",
    "\n",
    "from sklearn.metrics import roc_auc_score\n",
    "from sklearn.linear_model import LogisticRegression\n",
    "from sklearn.pipeline import Pipeline\n",
    "from sklearn.preprocessing import StandardScaler\n",
    "\n",
    "import seaborn as sns\n",
    "import matplotlib.pyplot as plt"
   ]
  },
  {
   "cell_type": "code",
   "execution_count": 3,
   "metadata": {
    "ExecuteTime": {
     "end_time": "2021-04-15T20:17:11.932987Z",
     "start_time": "2021-04-15T20:17:11.925127Z"
    }
   },
   "outputs": [],
   "source": [
    "sys.path.insert(1, os.path.join(sys.path[0], '..'))\n",
    "from utils import MultipleTimeSeriesCV"
   ]
  },
  {
   "cell_type": "code",
   "execution_count": 4,
   "metadata": {
    "ExecuteTime": {
     "end_time": "2021-04-15T20:17:11.947014Z",
     "start_time": "2021-04-15T20:17:11.934249Z"
    }
   },
   "outputs": [],
   "source": [
    "sns.set_style('darkgrid')\n",
    "idx = pd.IndexSlice"
   ]
  },
  {
   "cell_type": "code",
   "execution_count": 5,
   "metadata": {
    "ExecuteTime": {
     "end_time": "2021-04-15T20:17:11.966976Z",
     "start_time": "2021-04-15T20:17:11.948028Z"
    }
   },
   "outputs": [],
   "source": [
    "YEAR = 252"
   ]
  },
  {
   "cell_type": "markdown",
   "metadata": {},
   "source": [
    "## Load Data"
   ]
  },
  {
   "cell_type": "code",
   "execution_count": 6,
   "metadata": {
    "ExecuteTime": {
     "end_time": "2021-04-15T20:17:14.277183Z",
     "start_time": "2021-04-15T20:17:11.967819Z"
    }
   },
   "outputs": [],
   "source": [
    "with pd.HDFStore('data.h5') as store:\n",
    "    data = (store['model_data']\n",
    "            .dropna()\n",
    "            .drop(['open', 'close', 'low', 'high'], axis=1))\n",
    "data = data.drop([c for c in data.columns if 'year' in c or 'lag' in c], axis=1)"
   ]
  },
  {
   "cell_type": "markdown",
   "metadata": {},
   "source": [
    "### Select Investment Universe"
   ]
  },
  {
   "cell_type": "code",
   "execution_count": 7,
   "metadata": {
    "ExecuteTime": {
     "end_time": "2021-04-15T20:17:14.301403Z",
     "start_time": "2021-04-15T20:17:14.280282Z"
    }
   },
   "outputs": [],
   "source": [
    "data = data[data.dollar_vol_rank<100]"
   ]
  },
  {
   "cell_type": "markdown",
   "metadata": {},
   "source": [
    "### Create Model Data"
   ]
  },
  {
   "cell_type": "code",
   "execution_count": 8,
   "metadata": {
    "ExecuteTime": {
     "end_time": "2021-04-15T20:17:14.311605Z",
     "start_time": "2021-04-15T20:17:14.302306Z"
    }
   },
   "outputs": [],
   "source": [
    "y = data.filter(like='target')\n",
    "X = data.drop(y.columns, axis=1)\n",
    "X = X.drop(['dollar_vol', 'dollar_vol_rank', 'volume', 'consumer_durables'], axis=1)"
   ]
  },
  {
   "cell_type": "markdown",
   "metadata": {},
   "source": [
    "## Logistic Regression"
   ]
  },
  {
   "cell_type": "markdown",
   "metadata": {},
   "source": [
    "### Define cross-validation parameters"
   ]
  },
  {
   "cell_type": "code",
   "execution_count": 9,
   "metadata": {
    "ExecuteTime": {
     "end_time": "2021-04-15T20:17:14.322985Z",
     "start_time": "2021-04-15T20:17:14.312772Z"
    }
   },
   "outputs": [],
   "source": [
    "train_period_length = 63\n",
    "test_period_length = 10\n",
    "lookahead =1\n",
    "n_splits = int(3 * YEAR/test_period_length)\n",
    "\n",
    "cv = MultipleTimeSeriesCV(n_splits=n_splits,\n",
    "                          test_period_length=test_period_length,\n",
    "                          lookahead=lookahead,\n",
    "                          train_period_length=train_period_length)"
   ]
  },
  {
   "cell_type": "code",
   "execution_count": 10,
   "metadata": {
    "ExecuteTime": {
     "end_time": "2021-04-15T20:17:14.332416Z",
     "start_time": "2021-04-15T20:17:14.323914Z"
    }
   },
   "outputs": [],
   "source": [
    "target = f'target_{lookahead}d'"
   ]
  },
  {
   "cell_type": "code",
   "execution_count": 11,
   "metadata": {
    "ExecuteTime": {
     "end_time": "2021-04-15T20:17:14.911301Z",
     "start_time": "2021-04-15T20:17:14.333178Z"
    }
   },
   "outputs": [
    {
     "data": {
      "text/plain": [
       "1    56603\n",
       "0    53066\n",
       "Name: label, dtype: int64"
      ]
     },
     "execution_count": 11,
     "metadata": {},
     "output_type": "execute_result"
    }
   ],
   "source": [
    "y.loc[:, 'label'] = (y[target] > 0).astype(int)\n",
    "y.label.value_counts()"
   ]
  },
  {
   "cell_type": "code",
   "execution_count": 12,
   "metadata": {
    "ExecuteTime": {
     "end_time": "2021-04-15T20:17:14.914240Z",
     "start_time": "2021-04-15T20:17:14.912145Z"
    }
   },
   "outputs": [],
   "source": [
    "Cs = np.logspace(-5, 5, 11)"
   ]
  },
  {
   "cell_type": "code",
   "execution_count": 13,
   "metadata": {
    "ExecuteTime": {
     "end_time": "2021-04-15T20:17:14.927937Z",
     "start_time": "2021-04-15T20:17:14.915111Z"
    }
   },
   "outputs": [],
   "source": [
    "cols = ['C', 'date', 'auc', 'ic', 'pval']"
   ]
  },
  {
   "cell_type": "markdown",
   "metadata": {},
   "source": [
    "### Run cross-validation"
   ]
  },
  {
   "cell_type": "code",
   "execution_count": 14,
   "metadata": {
    "ExecuteTime": {
     "end_time": "2021-04-15T20:19:33.666469Z",
     "start_time": "2021-04-15T20:17:14.928766Z"
    },
    "scrolled": false
   },
   "outputs": [
    {
     "name": "stdout",
     "output_type": "stream",
     "text": [
      "1e-05\n",
      "\t 10.6 | 010 |  -0.91% |  49.98%\n",
      "\t 20.5 | 020 |   1.07% |  51.15%\n",
      "\t 26.5 | 030 |   2.48% |  51.65%\n",
      "\t 32.5 | 040 |   3.11% |  51.80%\n",
      "\t 38.4 | 050 |   3.79% |  52.27%\n",
      "\t 44.3 | 060 |   3.80% |  52.08%\n",
      "\t 50.3 | 070 |   4.55% |  52.42%\n",
      "0.0001\n",
      "\t  5.9 | 010 |  -0.63% |  50.22%\n",
      "\t 11.9 | 020 |   1.37% |  51.36%\n",
      "\t 17.8 | 030 |   2.85% |  51.93%\n",
      "\t 23.7 | 040 |   3.20% |  51.94%\n",
      "\t 29.7 | 050 |   3.88% |  52.40%\n",
      "\t 35.6 | 060 |   3.86% |  52.18%\n",
      "\t 41.5 | 070 |   4.66% |  52.54%\n",
      "0.001\n",
      "\t  5.9 | 010 |   0.04% |  50.65%\n",
      "\t 11.9 | 020 |   1.85% |  51.64%\n",
      "\t 17.8 | 030 |   3.43% |  52.28%\n",
      "\t 23.8 | 040 |   3.14% |  51.97%\n",
      "\t 29.7 | 050 |   3.86% |  52.45%\n",
      "\t 35.7 | 060 |   3.89% |  52.21%\n",
      "\t 41.6 | 070 |   4.69% |  52.59%\n",
      "0.01\n",
      "\t  6.1 | 010 |   0.30% |  50.83%\n",
      "\t 12.3 | 020 |   1.69% |  51.53%\n",
      "\t 18.4 | 030 |   3.38% |  52.19%\n",
      "\t 24.6 | 040 |   3.05% |  51.86%\n",
      "\t 30.7 | 050 |   3.92% |  52.40%\n",
      "\t 36.8 | 060 |   3.93% |  52.14%\n",
      "\t 42.9 | 070 |   4.59% |  52.46%\n",
      "0.1\n",
      "\t  6.4 | 010 |   0.31% |  50.85%\n",
      "\t 12.6 | 020 |   1.45% |  51.37%\n",
      "\t 18.9 | 030 |   3.20% |  52.07%\n",
      "\t 25.2 | 040 |   2.87% |  51.73%\n",
      "\t 31.5 | 050 |   3.75% |  52.28%\n",
      "\t 37.7 | 060 |   3.72% |  52.01%\n",
      "\t 44.0 | 070 |   4.28% |  52.29%\n",
      "1.0\n",
      "\t  6.3 | 010 |   0.31% |  50.84%\n",
      "\t 12.6 | 020 |   1.40% |  51.33%\n",
      "\t 18.9 | 030 |   3.16% |  52.04%\n",
      "\t 25.2 | 040 |   2.83% |  51.70%\n",
      "\t 31.6 | 050 |   3.71% |  52.25%\n",
      "\t 37.8 | 060 |   3.66% |  51.98%\n",
      "\t 44.1 | 070 |   4.20% |  52.25%\n",
      "10.0\n",
      "\t  6.4 | 010 |   0.31% |  50.83%\n",
      "\t 12.7 | 020 |   1.40% |  51.33%\n",
      "\t 19.0 | 030 |   3.16% |  52.03%\n",
      "\t 25.3 | 040 |   2.83% |  51.70%\n",
      "\t 31.7 | 050 |   3.70% |  52.24%\n",
      "\t 37.9 | 060 |   3.65% |  51.97%\n",
      "\t 44.2 | 070 |   4.19% |  52.25%\n",
      "100.0\n",
      "\t  6.4 | 010 |   0.31% |  50.83%\n",
      "\t 12.7 | 020 |   1.40% |  51.33%\n",
      "\t 19.0 | 030 |   3.16% |  52.03%\n",
      "\t 25.3 | 040 |   2.83% |  51.70%\n",
      "\t 31.6 | 050 |   3.70% |  52.24%\n",
      "\t 37.9 | 060 |   3.65% |  51.97%\n",
      "\t 44.2 | 070 |   4.19% |  52.25%\n",
      "1000.0\n",
      "\t  6.3 | 010 |   0.30% |  50.83%\n",
      "\t 12.6 | 020 |   1.40% |  51.33%\n",
      "\t 18.9 | 030 |   3.16% |  52.03%\n",
      "\t 25.2 | 040 |   2.83% |  51.70%\n",
      "\t 31.6 | 050 |   3.70% |  52.24%\n",
      "\t 37.8 | 060 |   3.65% |  51.97%\n",
      "\t 44.1 | 070 |   4.19% |  52.25%\n",
      "10000.0\n",
      "\t  6.3 | 010 |   0.31% |  50.83%\n",
      "\t 12.7 | 020 |   1.40% |  51.33%\n",
      "\t 19.0 | 030 |   3.16% |  52.03%\n",
      "\t 25.3 | 040 |   2.83% |  51.70%\n",
      "\t 31.7 | 050 |   3.70% |  52.24%\n",
      "\t 37.9 | 060 |   3.65% |  51.97%\n",
      "\t 44.2 | 070 |   4.19% |  52.25%\n",
      "100000.0\n",
      "\t  6.3 | 010 |   0.31% |  50.83%\n",
      "\t 60.9 | 020 |   1.40% |  51.33%\n",
      "\t117.3 | 030 |   3.16% |  52.03%\n",
      "\t123.6 | 040 |   2.83% |  51.70%\n",
      "\t129.9 | 050 |   3.70% |  52.24%\n",
      "\t136.2 | 060 |   3.65% |  51.97%\n",
      "\t142.5 | 070 |   4.19% |  52.25%\n",
      "Wall time: 10min 17s\n"
     ]
    }
   ],
   "source": [
    "%%time\n",
    "log_coeffs, log_scores, log_predictions = {}, [], []\n",
    "for C in Cs:\n",
    "    print(C)\n",
    "    model = LogisticRegression(C=C,\n",
    "                               fit_intercept=True,\n",
    "                               random_state=42,\n",
    "                               n_jobs=-1)\n",
    "\n",
    "    pipe = Pipeline([\n",
    "        ('scaler', StandardScaler()),\n",
    "        ('model', model)])\n",
    "    ics = aucs = 0\n",
    "    start = time()\n",
    "    coeffs = []\n",
    "    for i, (train_idx, test_idx) in enumerate(cv.split(X), 1):\n",
    "        X_train, y_train, = X.iloc[train_idx], y.label.iloc[train_idx]\n",
    "        pipe.fit(X=X_train, y=y_train)\n",
    "        X_test, y_test = X.iloc[test_idx], y.label.iloc[test_idx]\n",
    "        actuals = y[target].iloc[test_idx]\n",
    "        if len(y_test) < 10 or len(np.unique(y_test)) < 2:\n",
    "            continue\n",
    "        y_score = pipe.predict_proba(X_test)[:, 1]\n",
    "       \n",
    "        auc = roc_auc_score(y_score=y_score, y_true=y_test)\n",
    "        actuals = y[target].iloc[test_idx]\n",
    "        ic, pval = spearmanr(y_score, actuals)\n",
    "\n",
    "        log_predictions.append(y_test.to_frame('labels').assign(\n",
    "            predicted=y_score, C=C, actuals=actuals))\n",
    "        date = y_test.index.get_level_values('date').min()\n",
    "        log_scores.append([C, date, auc, ic * 100, pval])\n",
    "        coeffs.append(pipe.named_steps['model'].coef_)\n",
    "        ics += ic\n",
    "        aucs += auc\n",
    "        if i % 10 == 0:\n",
    "            print(f'\\t{time()-start:5.1f} | {i:03} | {ics/i:>7.2%} | {aucs/i:>7.2%}')\n",
    "\n",
    "    log_coeffs[C] = np.mean(coeffs, axis=0).squeeze()"
   ]
  },
  {
   "cell_type": "markdown",
   "metadata": {},
   "source": [
    "### Evaluate Results"
   ]
  },
  {
   "cell_type": "code",
   "execution_count": 15,
   "metadata": {
    "ExecuteTime": {
     "end_time": "2021-04-15T20:19:33.956450Z",
     "start_time": "2021-04-15T20:19:33.667672Z"
    }
   },
   "outputs": [],
   "source": [
    "log_scores = pd.DataFrame(log_scores, columns=cols)\n",
    "log_scores.to_hdf('data.h5', 'logistic/scores')\n",
    "\n",
    "log_coeffs = pd.DataFrame(log_coeffs, index=X.columns).T\n",
    "log_coeffs.to_hdf('data.h5', 'logistic/coeffs')\n",
    "\n",
    "log_predictions = pd.concat(log_predictions)\n",
    "log_predictions.to_hdf('data.h5', 'logistic/predictions')"
   ]
  },
  {
   "cell_type": "code",
   "execution_count": 16,
   "metadata": {
    "ExecuteTime": {
     "end_time": "2021-04-15T20:19:33.965130Z",
     "start_time": "2021-04-15T20:19:33.957366Z"
    }
   },
   "outputs": [],
   "source": [
    "log_scores = pd.read_hdf('data.h5', 'logistic/scores')"
   ]
  },
  {
   "cell_type": "code",
   "execution_count": 17,
   "metadata": {
    "ExecuteTime": {
     "end_time": "2021-04-15T20:19:33.977971Z",
     "start_time": "2021-04-15T20:19:33.966220Z"
    }
   },
   "outputs": [
    {
     "name": "stdout",
     "output_type": "stream",
     "text": [
      "<class 'pandas.core.frame.DataFrame'>\n",
      "Int64Index: 825 entries, 0 to 824\n",
      "Data columns (total 5 columns):\n",
      " #   Column  Non-Null Count  Dtype         \n",
      "---  ------  --------------  -----         \n",
      " 0   C       825 non-null    float64       \n",
      " 1   date    825 non-null    datetime64[ns]\n",
      " 2   auc     825 non-null    float64       \n",
      " 3   ic      825 non-null    float64       \n",
      " 4   pval    825 non-null    float64       \n",
      "dtypes: datetime64[ns](1), float64(4)\n",
      "memory usage: 38.7 KB\n"
     ]
    }
   ],
   "source": [
    "log_scores.info()"
   ]
  },
  {
   "cell_type": "code",
   "execution_count": 18,
   "metadata": {
    "ExecuteTime": {
     "end_time": "2021-04-15T20:19:34.020011Z",
     "start_time": "2021-04-15T20:19:33.979814Z"
    }
   },
   "outputs": [
    {
     "data": {
      "text/html": [
       "<div>\n",
       "<style scoped>\n",
       "    .dataframe tbody tr th:only-of-type {\n",
       "        vertical-align: middle;\n",
       "    }\n",
       "\n",
       "    .dataframe tbody tr th {\n",
       "        vertical-align: top;\n",
       "    }\n",
       "\n",
       "    .dataframe thead th {\n",
       "        text-align: right;\n",
       "    }\n",
       "</style>\n",
       "<table border=\"1\" class=\"dataframe\">\n",
       "  <thead>\n",
       "    <tr style=\"text-align: right;\">\n",
       "      <th></th>\n",
       "      <th>count</th>\n",
       "      <th>mean</th>\n",
       "      <th>std</th>\n",
       "      <th>min</th>\n",
       "      <th>25%</th>\n",
       "      <th>50%</th>\n",
       "      <th>75%</th>\n",
       "      <th>max</th>\n",
       "    </tr>\n",
       "    <tr>\n",
       "      <th>C</th>\n",
       "      <th></th>\n",
       "      <th></th>\n",
       "      <th></th>\n",
       "      <th></th>\n",
       "      <th></th>\n",
       "      <th></th>\n",
       "      <th></th>\n",
       "      <th></th>\n",
       "    </tr>\n",
       "  </thead>\n",
       "  <tbody>\n",
       "    <tr>\n",
       "      <th>0.00001</th>\n",
       "      <td>75.0</td>\n",
       "      <td>0.522580</td>\n",
       "      <td>0.037234</td>\n",
       "      <td>0.425046</td>\n",
       "      <td>0.498634</td>\n",
       "      <td>0.517385</td>\n",
       "      <td>0.544944</td>\n",
       "      <td>0.625780</td>\n",
       "    </tr>\n",
       "    <tr>\n",
       "      <th>0.00010</th>\n",
       "      <td>75.0</td>\n",
       "      <td>0.523675</td>\n",
       "      <td>0.036638</td>\n",
       "      <td>0.435987</td>\n",
       "      <td>0.499108</td>\n",
       "      <td>0.521862</td>\n",
       "      <td>0.541288</td>\n",
       "      <td>0.637992</td>\n",
       "    </tr>\n",
       "    <tr>\n",
       "      <th>0.00100</th>\n",
       "      <td>75.0</td>\n",
       "      <td>0.524453</td>\n",
       "      <td>0.036195</td>\n",
       "      <td>0.454677</td>\n",
       "      <td>0.501386</td>\n",
       "      <td>0.519270</td>\n",
       "      <td>0.544763</td>\n",
       "      <td>0.655059</td>\n",
       "    </tr>\n",
       "    <tr>\n",
       "      <th>0.01000</th>\n",
       "      <td>75.0</td>\n",
       "      <td>0.523634</td>\n",
       "      <td>0.035070</td>\n",
       "      <td>0.453444</td>\n",
       "      <td>0.499631</td>\n",
       "      <td>0.518151</td>\n",
       "      <td>0.544194</td>\n",
       "      <td>0.651834</td>\n",
       "    </tr>\n",
       "    <tr>\n",
       "      <th>0.10000</th>\n",
       "      <td>75.0</td>\n",
       "      <td>0.522231</td>\n",
       "      <td>0.034675</td>\n",
       "      <td>0.452050</td>\n",
       "      <td>0.499863</td>\n",
       "      <td>0.515475</td>\n",
       "      <td>0.542807</td>\n",
       "      <td>0.634638</td>\n",
       "    </tr>\n",
       "    <tr>\n",
       "      <th>1.00000</th>\n",
       "      <td>75.0</td>\n",
       "      <td>0.521880</td>\n",
       "      <td>0.034704</td>\n",
       "      <td>0.448326</td>\n",
       "      <td>0.499078</td>\n",
       "      <td>0.515708</td>\n",
       "      <td>0.542925</td>\n",
       "      <td>0.629705</td>\n",
       "    </tr>\n",
       "    <tr>\n",
       "      <th>10.00000</th>\n",
       "      <td>75.0</td>\n",
       "      <td>0.521846</td>\n",
       "      <td>0.034698</td>\n",
       "      <td>0.448195</td>\n",
       "      <td>0.499070</td>\n",
       "      <td>0.515761</td>\n",
       "      <td>0.542931</td>\n",
       "      <td>0.629139</td>\n",
       "    </tr>\n",
       "    <tr>\n",
       "      <th>100.00000</th>\n",
       "      <td>75.0</td>\n",
       "      <td>0.521841</td>\n",
       "      <td>0.034697</td>\n",
       "      <td>0.448195</td>\n",
       "      <td>0.499076</td>\n",
       "      <td>0.515786</td>\n",
       "      <td>0.542948</td>\n",
       "      <td>0.629126</td>\n",
       "    </tr>\n",
       "    <tr>\n",
       "      <th>1000.00000</th>\n",
       "      <td>75.0</td>\n",
       "      <td>0.521841</td>\n",
       "      <td>0.034699</td>\n",
       "      <td>0.448176</td>\n",
       "      <td>0.499078</td>\n",
       "      <td>0.515782</td>\n",
       "      <td>0.542946</td>\n",
       "      <td>0.629113</td>\n",
       "    </tr>\n",
       "    <tr>\n",
       "      <th>10000.00000</th>\n",
       "      <td>75.0</td>\n",
       "      <td>0.521841</td>\n",
       "      <td>0.034698</td>\n",
       "      <td>0.448181</td>\n",
       "      <td>0.499078</td>\n",
       "      <td>0.515786</td>\n",
       "      <td>0.542946</td>\n",
       "      <td>0.629113</td>\n",
       "    </tr>\n",
       "    <tr>\n",
       "      <th>100000.00000</th>\n",
       "      <td>75.0</td>\n",
       "      <td>0.521841</td>\n",
       "      <td>0.034698</td>\n",
       "      <td>0.448181</td>\n",
       "      <td>0.499078</td>\n",
       "      <td>0.515786</td>\n",
       "      <td>0.542946</td>\n",
       "      <td>0.629109</td>\n",
       "    </tr>\n",
       "  </tbody>\n",
       "</table>\n",
       "</div>"
      ],
      "text/plain": [
       "              count      mean       std       min       25%       50%  \\\n",
       "C                                                                       \n",
       "0.00001        75.0  0.522580  0.037234  0.425046  0.498634  0.517385   \n",
       "0.00010        75.0  0.523675  0.036638  0.435987  0.499108  0.521862   \n",
       "0.00100        75.0  0.524453  0.036195  0.454677  0.501386  0.519270   \n",
       "0.01000        75.0  0.523634  0.035070  0.453444  0.499631  0.518151   \n",
       "0.10000        75.0  0.522231  0.034675  0.452050  0.499863  0.515475   \n",
       "1.00000        75.0  0.521880  0.034704  0.448326  0.499078  0.515708   \n",
       "10.00000       75.0  0.521846  0.034698  0.448195  0.499070  0.515761   \n",
       "100.00000      75.0  0.521841  0.034697  0.448195  0.499076  0.515786   \n",
       "1000.00000     75.0  0.521841  0.034699  0.448176  0.499078  0.515782   \n",
       "10000.00000    75.0  0.521841  0.034698  0.448181  0.499078  0.515786   \n",
       "100000.00000   75.0  0.521841  0.034698  0.448181  0.499078  0.515786   \n",
       "\n",
       "                   75%       max  \n",
       "C                                 \n",
       "0.00001       0.544944  0.625780  \n",
       "0.00010       0.541288  0.637992  \n",
       "0.00100       0.544763  0.655059  \n",
       "0.01000       0.544194  0.651834  \n",
       "0.10000       0.542807  0.634638  \n",
       "1.00000       0.542925  0.629705  \n",
       "10.00000      0.542931  0.629139  \n",
       "100.00000     0.542948  0.629126  \n",
       "1000.00000    0.542946  0.629113  \n",
       "10000.00000   0.542946  0.629113  \n",
       "100000.00000  0.542946  0.629109  "
      ]
     },
     "execution_count": 18,
     "metadata": {},
     "output_type": "execute_result"
    }
   ],
   "source": [
    "log_scores.groupby('C').auc.describe()"
   ]
  },
  {
   "cell_type": "markdown",
   "metadata": {},
   "source": [
    "### Plot Validation Scores"
   ]
  },
  {
   "cell_type": "code",
   "execution_count": 19,
   "metadata": {
    "ExecuteTime": {
     "end_time": "2021-04-15T20:19:34.023860Z",
     "start_time": "2021-04-15T20:19:34.020958Z"
    }
   },
   "outputs": [],
   "source": [
    "def plot_ic_distribution(df, ax=None):\n",
    "    if ax is not None:\n",
    "        sns.distplot(df.ic, ax=ax)    \n",
    "    else:\n",
    "        ax = sns.distplot(df.ic)\n",
    "    mean, median = df.ic.mean(), df.ic.median()\n",
    "    ax.axvline(0, lw=1, ls='--', c='k')\n",
    "    ax.text(x=.05, y=.9, s=f'Mean: {mean:8.2f}\\nMedian: {median:5.2f}',\n",
    "            horizontalalignment='left',\n",
    "            verticalalignment='center',\n",
    "            transform=ax.transAxes)\n",
    "    ax.set_xlabel('Information Coefficient')\n",
    "    sns.despine()\n",
    "    plt.tight_layout()"
   ]
  },
  {
   "cell_type": "code",
   "execution_count": 20,
   "metadata": {
    "ExecuteTime": {
     "end_time": "2021-04-15T20:19:34.625209Z",
     "start_time": "2021-04-15T20:19:34.025174Z"
    }
   },
   "outputs": [
    {
     "data": {
      "image/png": "[encoded data removed]",
      "text/plain": [
       "<Figure size 1080x360 with 2 Axes>"
      ]
     },
     "metadata": {},
     "output_type": "display_data"
    }
   ],
   "source": [
    "fig, axes= plt.subplots(ncols=2, figsize=(15, 5))\n",
    "\n",
    "sns.lineplot(x='C', y='auc', data=log_scores, estimator=np.mean, label='Mean', ax=axes[0])\n",
    "by_alpha = log_scores.groupby('C').auc.agg(['mean', 'median'])\n",
    "best_auc = by_alpha['mean'].idxmax()\n",
    "by_alpha['median'].plot(logx=True, ax=axes[0], label='Median', xlim=(10e-6, 10e5))\n",
    "axes[0].axvline(best_auc, ls='--', c='k', lw=1, label='Max. Mean')\n",
    "axes[0].axvline(by_alpha['median'].idxmax(), ls='-.', c='k', lw=1, label='Max. Median')\n",
    "axes[0].legend()\n",
    "axes[0].set_ylabel('AUC')\n",
    "axes[0].set_xscale('log')\n",
    "axes[0].set_title('Area Under the Curve')\n",
    "\n",
    "plot_ic_distribution(log_scores[log_scores.C==best_auc], ax=axes[1])\n",
    "axes[1].set_title('Information Coefficient')\n",
    "\n",
    "fig.suptitle('Logistic Regression', fontsize=14)\n",
    "sns.despine()\n",
    "fig.tight_layout()\n",
    "fig.subplots_adjust(top=.9);"
   ]
  }
 ],
 "metadata": {
  "kernelspec": {
   "display_name": "Python [conda env:ml4t]",
   "language": "python",
   "name": "conda-env-ml4t-py"
  },
  "language_info": {
   "codemirror_mode": {
    "name": "ipython",
    "version": 3
   },
   "file_extension": ".py",
   "mimetype": "text/x-python",
   "name": "python",
   "nbconvert_exporter": "python",
   "pygments_lexer": "ipython3",
   "version": "3.8.8"
  },
  "toc": {
   "base_numbering": 1,
   "nav_menu": {},
   "number_sections": true,
   "sideBar": true,
   "skip_h1_title": true,
   "title_cell": "Table of Contents",
   "title_sidebar": "Contents",
   "toc_cell": false,
   "toc_position": {},
   "toc_section_display": true,
   "toc_window_display": true
  }
 },
 "nbformat": 4,
 "nbformat_minor": 2
}
