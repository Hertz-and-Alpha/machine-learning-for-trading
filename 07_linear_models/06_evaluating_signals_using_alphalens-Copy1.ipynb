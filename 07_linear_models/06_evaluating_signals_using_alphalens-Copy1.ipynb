{
 "cells": [
  {
   "cell_type": "markdown",
   "metadata": {},
   "source": [
    "# Alphalens Analysis"
   ]
  },
  {
   "cell_type": "code",
   "execution_count": 1,
   "metadata": {
    "ExecuteTime": {
     "end_time": "2021-04-15T20:14:34.737829Z",
     "start_time": "2021-04-15T20:14:34.735088Z"
    }
   },
   "outputs": [],
   "source": [
    "import warnings\n",
    "warnings.filterwarnings('ignore')"
   ]
  },
  {
   "cell_type": "code",
   "execution_count": 2,
   "metadata": {
    "ExecuteTime": {
     "end_time": "2021-04-15T20:14:35.351188Z",
     "start_time": "2021-04-15T20:14:34.744658Z"
    }
   },
   "outputs": [],
   "source": [
    "from pathlib import Path\n",
    "import pandas as pd\n",
    "from alphalens.tears import create_summary_tear_sheet\n",
    "from alphalens.utils import get_clean_factor_and_forward_returns"
   ]
  },
  {
   "cell_type": "code",
   "execution_count": 3,
   "metadata": {
    "ExecuteTime": {
     "end_time": "2021-04-15T20:14:35.354076Z",
     "start_time": "2021-04-15T20:14:35.352214Z"
    }
   },
   "outputs": [],
   "source": [
    "idx = pd.IndexSlice"
   ]
  },
  {
   "cell_type": "markdown",
   "metadata": {},
   "source": [
    "## Load Data"
   ]
  },
  {
   "cell_type": "code",
   "execution_count": 4,
   "metadata": {
    "ExecuteTime": {
     "end_time": "2021-04-15T20:14:35.680803Z",
     "start_time": "2021-04-15T20:14:35.355387Z"
    }
   },
   "outputs": [],
   "source": [
    "with pd.HDFStore('data.h5') as store:\n",
    "    lr_predictions = store['lr/predictions']\n",
    "    lasso_predictions = store['lasso/predictions']\n",
    "    lasso_scores = store['lasso/scores']\n",
    "    ridge_predictions = store['ridge/predictions']\n",
    "    ridge_scores = store['ridge/scores']"
   ]
  },
  {
   "cell_type": "code",
   "execution_count": 5,
   "metadata": {
    "ExecuteTime": {
     "end_time": "2021-04-15T20:14:35.683992Z",
     "start_time": "2021-04-15T20:14:35.681990Z"
    }
   },
   "outputs": [],
   "source": [
    "DATA_STORE = Path('..', 'data', 'assets.h5')"
   ]
  },
  {
   "cell_type": "code",
   "execution_count": 6,
   "metadata": {
    "ExecuteTime": {
     "end_time": "2021-04-15T20:14:35.694127Z",
     "start_time": "2021-04-15T20:14:35.684902Z"
    }
   },
   "outputs": [],
   "source": [
    "def get_trade_prices(tickers, start, stop):\n",
    "    prices = (pd.read_hdf(DATA_STORE, 'quandl/wiki/prices').swaplevel().sort_index())\n",
    "    prices.index.names = ['symbol', 'date']\n",
    "    prices = prices.loc[idx[tickers, str(start):str(stop)], 'adj_open']\n",
    "    return (prices\n",
    "            .unstack('symbol')\n",
    "            .sort_index()\n",
    "            .shift(-1)\n",
    "            .tz_localize('UTC'))"
   ]
  },
  {
   "cell_type": "code",
   "execution_count": 7,
   "metadata": {
    "ExecuteTime": {
     "end_time": "2021-04-15T20:14:35.702148Z",
     "start_time": "2021-04-15T20:14:35.695116Z"
    }
   },
   "outputs": [],
   "source": [
    "def get_best_alpha(scores):\n",
    "    return scores.groupby('alpha').ic.mean().idxmax()"
   ]
  },
  {
   "cell_type": "code",
   "execution_count": 8,
   "metadata": {
    "ExecuteTime": {
     "end_time": "2021-04-15T20:14:35.710457Z",
     "start_time": "2021-04-15T20:14:35.703034Z"
    }
   },
   "outputs": [],
   "source": [
    "def get_factor(predictions):\n",
    "    return (predictions.unstack('symbol')\n",
    "            .dropna(how='all')\n",
    "            .stack()\n",
    "            .tz_localize('UTC', level='date')\n",
    "            .sort_index())    "
   ]
  },
  {
   "cell_type": "markdown",
   "metadata": {},
   "source": [
    "## Linear Regression"
   ]
  },
  {
   "cell_type": "code",
   "execution_count": 9,
   "metadata": {
    "ExecuteTime": {
     "end_time": "2021-04-15T20:14:35.752043Z",
     "start_time": "2021-04-15T20:14:35.712768Z"
    }
   },
   "outputs": [
    {
     "data": {
      "text/plain": [
       "date                       symbol\n",
       "2014-12-09 00:00:00+00:00  AAL      -0.000176\n",
       "                           AAPL     -0.002003\n",
       "                           ABBV      0.001249\n",
       "                           AGN       0.002675\n",
       "                           AIG      -0.000867\n",
       "dtype: float64"
      ]
     },
     "execution_count": 9,
     "metadata": {},
     "output_type": "execute_result"
    }
   ],
   "source": [
    "lr_factor = get_factor(lr_predictions.predicted.swaplevel())\n",
    "lr_factor.head()"
   ]
  },
  {
   "cell_type": "code",
   "execution_count": 10,
   "metadata": {
    "ExecuteTime": {
     "end_time": "2021-04-15T20:14:35.757851Z",
     "start_time": "2021-04-15T20:14:35.752977Z"
    }
   },
   "outputs": [],
   "source": [
    "tickers = lr_factor.index.get_level_values('symbol').unique()"
   ]
  },
  {
   "cell_type": "code",
   "execution_count": 11,
   "metadata": {
    "ExecuteTime": {
     "end_time": "2021-04-15T20:14:58.118829Z",
     "start_time": "2021-04-15T20:14:35.758731Z"
    }
   },
   "outputs": [
    {
     "name": "stdout",
     "output_type": "stream",
     "text": [
      "<class 'pandas.core.frame.DataFrame'>\n",
      "DatetimeIndex: 1007 entries, 2014-01-02 00:00:00+00:00 to 2017-12-29 00:00:00+00:00\n",
      "Columns: 258 entries, AAL to MAT\n",
      "dtypes: float64(258)\n",
      "memory usage: 2.0 MB\n"
     ]
    }
   ],
   "source": [
    "trade_prices = get_trade_prices(tickers, 2014, 2017)\n",
    "trade_prices.info()"
   ]
  },
  {
   "cell_type": "code",
   "execution_count": 12,
   "metadata": {
    "ExecuteTime": {
     "end_time": "2021-04-15T20:14:59.198679Z",
     "start_time": "2021-04-15T20:14:58.119863Z"
    },
    "scrolled": false
   },
   "outputs": [
    {
     "name": "stdout",
     "output_type": "stream",
     "text": [
      "Dropped 0.0% entries from factor data: 0.0% in forward returns computation and 0.0% in binning phase (set max_loss=0 to see potentially suppressed Exceptions).\n",
      "max_loss is 35.0%, not exceeded: OK!\n",
      "<class 'pandas.core.frame.DataFrame'>\n",
      "MultiIndex: 74038 entries, (Timestamp('2014-12-09 00:00:00+0000', tz='UTC', freq='C'), 'AAL') to (Timestamp('2017-11-29 00:00:00+0000', tz='UTC', freq='C'), 'TXN')\n",
      "Data columns (total 6 columns):\n",
      " #   Column           Non-Null Count  Dtype  \n",
      "---  ------           --------------  -----  \n",
      " 0   1D               74038 non-null  float64\n",
      " 1   5D               74038 non-null  float64\n",
      " 2   10D              74038 non-null  float64\n",
      " 3   21D              74038 non-null  float64\n",
      " 4   factor           74038 non-null  float64\n",
      " 5   factor_quantile  74038 non-null  int64  \n",
      "dtypes: float64(5), int64(1)\n",
      "memory usage: 3.7+ MB\n"
     ]
    }
   ],
   "source": [
    "lr_factor_data = get_clean_factor_and_forward_returns(factor=lr_factor,\n",
    "                                                      prices=trade_prices,\n",
    "                                                      quantiles=5,\n",
    "                                                      periods=(1, 5, 10, 21))\n",
    "lr_factor_data.info()"
   ]
  },
  {
   "cell_type": "code",
   "execution_count": 13,
   "metadata": {
    "ExecuteTime": {
     "end_time": "2021-04-15T20:15:26.545662Z",
     "start_time": "2021-04-15T20:14:59.199526Z"
    },
    "scrolled": false
   },
   "outputs": [
    {
     "name": "stdout",
     "output_type": "stream",
     "text": [
      "Quantiles Statistics\n"
     ]
    },
    {
     "data": {
      "text/html": [
       "<div>\n",
       "<style scoped>\n",
       "    .dataframe tbody tr th:only-of-type {\n",
       "        vertical-align: middle;\n",
       "    }\n",
       "\n",
       "    .dataframe tbody tr th {\n",
       "        vertical-align: top;\n",
       "    }\n",
       "\n",
       "    .dataframe thead th {\n",
       "        text-align: right;\n",
       "    }\n",
       "</style>\n",
       "<table border=\"1\" class=\"dataframe\">\n",
       "  <thead>\n",
       "    <tr style=\"text-align: right;\">\n",
       "      <th></th>\n",
       "      <th>min</th>\n",
       "      <th>max</th>\n",
       "      <th>mean</th>\n",
       "      <th>std</th>\n",
       "      <th>count</th>\n",
       "      <th>count %</th>\n",
       "    </tr>\n",
       "    <tr>\n",
       "      <th>factor_quantile</th>\n",
       "      <th></th>\n",
       "      <th></th>\n",
       "      <th></th>\n",
       "      <th></th>\n",
       "      <th></th>\n",
       "      <th></th>\n",
       "    </tr>\n",
       "  </thead>\n",
       "  <tbody>\n",
       "    <tr>\n",
       "      <th>1</th>\n",
       "      <td>-0.043520</td>\n",
       "      <td>0.008755</td>\n",
       "      <td>-0.003163</td>\n",
       "      <td>0.003941</td>\n",
       "      <td>14982</td>\n",
       "      <td>20.235555</td>\n",
       "    </tr>\n",
       "    <tr>\n",
       "      <th>2</th>\n",
       "      <td>-0.014779</td>\n",
       "      <td>0.011103</td>\n",
       "      <td>-0.001028</td>\n",
       "      <td>0.003333</td>\n",
       "      <td>14863</td>\n",
       "      <td>20.074826</td>\n",
       "    </tr>\n",
       "    <tr>\n",
       "      <th>3</th>\n",
       "      <td>-0.012614</td>\n",
       "      <td>0.012602</td>\n",
       "      <td>0.000086</td>\n",
       "      <td>0.003335</td>\n",
       "      <td>14348</td>\n",
       "      <td>19.379238</td>\n",
       "    </tr>\n",
       "    <tr>\n",
       "      <th>4</th>\n",
       "      <td>-0.011262</td>\n",
       "      <td>0.014253</td>\n",
       "      <td>0.001150</td>\n",
       "      <td>0.003432</td>\n",
       "      <td>14863</td>\n",
       "      <td>20.074826</td>\n",
       "    </tr>\n",
       "    <tr>\n",
       "      <th>5</th>\n",
       "      <td>-0.008721</td>\n",
       "      <td>0.037225</td>\n",
       "      <td>0.003239</td>\n",
       "      <td>0.004181</td>\n",
       "      <td>14982</td>\n",
       "      <td>20.235555</td>\n",
       "    </tr>\n",
       "  </tbody>\n",
       "</table>\n",
       "</div>"
      ],
      "text/plain": [
       "                      min       max      mean       std  count    count %\n",
       "factor_quantile                                                          \n",
       "1               -0.043520  0.008755 -0.003163  0.003941  14982  20.235555\n",
       "2               -0.014779  0.011103 -0.001028  0.003333  14863  20.074826\n",
       "3               -0.012614  0.012602  0.000086  0.003335  14348  19.379238\n",
       "4               -0.011262  0.014253  0.001150  0.003432  14863  20.074826\n",
       "5               -0.008721  0.037225  0.003239  0.004181  14982  20.235555"
      ]
     },
     "metadata": {},
     "output_type": "display_data"
    },
    {
     "name": "stdout",
     "output_type": "stream",
     "text": [
      "Returns Analysis\n"
     ]
    },
    {
     "data": {
      "text/html": [
       "<div>\n",
       "<style scoped>\n",
       "    .dataframe tbody tr th:only-of-type {\n",
       "        vertical-align: middle;\n",
       "    }\n",
       "\n",
       "    .dataframe tbody tr th {\n",
       "        vertical-align: top;\n",
       "    }\n",
       "\n",
       "    .dataframe thead th {\n",
       "        text-align: right;\n",
       "    }\n",
       "</style>\n",
       "<table border=\"1\" class=\"dataframe\">\n",
       "  <thead>\n",
       "    <tr style=\"text-align: right;\">\n",
       "      <th></th>\n",
       "      <th>1D</th>\n",
       "      <th>5D</th>\n",
       "      <th>10D</th>\n",
       "      <th>21D</th>\n",
       "    </tr>\n",
       "  </thead>\n",
       "  <tbody>\n",
       "    <tr>\n",
       "      <th>Ann. alpha</th>\n",
       "      <td>0.026</td>\n",
       "      <td>0.033</td>\n",
       "      <td>0.037</td>\n",
       "      <td>0.018</td>\n",
       "    </tr>\n",
       "    <tr>\n",
       "      <th>beta</th>\n",
       "      <td>0.009</td>\n",
       "      <td>-0.049</td>\n",
       "      <td>-0.017</td>\n",
       "      <td>0.059</td>\n",
       "    </tr>\n",
       "    <tr>\n",
       "      <th>Mean Period Wise Return Top Quantile (bps)</th>\n",
       "      <td>2.278</td>\n",
       "      <td>1.825</td>\n",
       "      <td>1.670</td>\n",
       "      <td>1.612</td>\n",
       "    </tr>\n",
       "    <tr>\n",
       "      <th>Mean Period Wise Return Bottom Quantile (bps)</th>\n",
       "      <td>-1.410</td>\n",
       "      <td>-0.763</td>\n",
       "      <td>-1.014</td>\n",
       "      <td>-0.793</td>\n",
       "    </tr>\n",
       "    <tr>\n",
       "      <th>Mean Period Wise Spread (bps)</th>\n",
       "      <td>3.688</td>\n",
       "      <td>2.606</td>\n",
       "      <td>2.698</td>\n",
       "      <td>2.388</td>\n",
       "    </tr>\n",
       "  </tbody>\n",
       "</table>\n",
       "</div>"
      ],
      "text/plain": [
       "                                                  1D     5D    10D    21D\n",
       "Ann. alpha                                     0.026  0.033  0.037  0.018\n",
       "beta                                           0.009 -0.049 -0.017  0.059\n",
       "Mean Period Wise Return Top Quantile (bps)     2.278  1.825  1.670  1.612\n",
       "Mean Period Wise Return Bottom Quantile (bps) -1.410 -0.763 -1.014 -0.793\n",
       "Mean Period Wise Spread (bps)                  3.688  2.606  2.698  2.388"
      ]
     },
     "metadata": {},
     "output_type": "display_data"
    },
    {
     "name": "stdout",
     "output_type": "stream",
     "text": [
      "Information Analysis\n"
     ]
    },
    {
     "data": {
      "text/html": [
       "<div>\n",
       "<style scoped>\n",
       "    .dataframe tbody tr th:only-of-type {\n",
       "        vertical-align: middle;\n",
       "    }\n",
       "\n",
       "    .dataframe tbody tr th {\n",
       "        vertical-align: top;\n",
       "    }\n",
       "\n",
       "    .dataframe thead th {\n",
       "        text-align: right;\n",
       "    }\n",
       "</style>\n",
       "<table border=\"1\" class=\"dataframe\">\n",
       "  <thead>\n",
       "    <tr style=\"text-align: right;\">\n",
       "      <th></th>\n",
       "      <th>1D</th>\n",
       "      <th>5D</th>\n",
       "      <th>10D</th>\n",
       "      <th>21D</th>\n",
       "    </tr>\n",
       "  </thead>\n",
       "  <tbody>\n",
       "    <tr>\n",
       "      <th>IC Mean</th>\n",
       "      <td>0.020</td>\n",
       "      <td>0.018</td>\n",
       "      <td>0.024</td>\n",
       "      <td>0.028</td>\n",
       "    </tr>\n",
       "    <tr>\n",
       "      <th>IC Std.</th>\n",
       "      <td>0.184</td>\n",
       "      <td>0.176</td>\n",
       "      <td>0.176</td>\n",
       "      <td>0.167</td>\n",
       "    </tr>\n",
       "    <tr>\n",
       "      <th>Risk-Adjusted IC</th>\n",
       "      <td>0.108</td>\n",
       "      <td>0.102</td>\n",
       "      <td>0.134</td>\n",
       "      <td>0.169</td>\n",
       "    </tr>\n",
       "    <tr>\n",
       "      <th>t-stat(IC)</th>\n",
       "      <td>2.959</td>\n",
       "      <td>2.797</td>\n",
       "      <td>3.678</td>\n",
       "      <td>4.620</td>\n",
       "    </tr>\n",
       "    <tr>\n",
       "      <th>p-value(IC)</th>\n",
       "      <td>0.003</td>\n",
       "      <td>0.005</td>\n",
       "      <td>0.000</td>\n",
       "      <td>0.000</td>\n",
       "    </tr>\n",
       "    <tr>\n",
       "      <th>IC Skew</th>\n",
       "      <td>-0.054</td>\n",
       "      <td>-0.105</td>\n",
       "      <td>-0.127</td>\n",
       "      <td>-0.021</td>\n",
       "    </tr>\n",
       "    <tr>\n",
       "      <th>IC Kurtosis</th>\n",
       "      <td>-0.098</td>\n",
       "      <td>-0.136</td>\n",
       "      <td>-0.063</td>\n",
       "      <td>-0.291</td>\n",
       "    </tr>\n",
       "  </tbody>\n",
       "</table>\n",
       "</div>"
      ],
      "text/plain": [
       "                     1D     5D    10D    21D\n",
       "IC Mean           0.020  0.018  0.024  0.028\n",
       "IC Std.           0.184  0.176  0.176  0.167\n",
       "Risk-Adjusted IC  0.108  0.102  0.134  0.169\n",
       "t-stat(IC)        2.959  2.797  3.678  4.620\n",
       "p-value(IC)       0.003  0.005  0.000  0.000\n",
       "IC Skew          -0.054 -0.105 -0.127 -0.021\n",
       "IC Kurtosis      -0.098 -0.136 -0.063 -0.291"
      ]
     },
     "metadata": {},
     "output_type": "display_data"
    },
    {
     "name": "stdout",
     "output_type": "stream",
     "text": [
      "Turnover Analysis\n"
     ]
    },
    {
     "data": {
      "text/html": [
       "<div>\n",
       "<style scoped>\n",
       "    .dataframe tbody tr th:only-of-type {\n",
       "        vertical-align: middle;\n",
       "    }\n",
       "\n",
       "    .dataframe tbody tr th {\n",
       "        vertical-align: top;\n",
       "    }\n",
       "\n",
       "    .dataframe thead th {\n",
       "        text-align: right;\n",
       "    }\n",
       "</style>\n",
       "<table border=\"1\" class=\"dataframe\">\n",
       "  <thead>\n",
       "    <tr style=\"text-align: right;\">\n",
       "      <th></th>\n",
       "      <th>1D</th>\n",
       "      <th>5D</th>\n",
       "      <th>10D</th>\n",
       "      <th>21D</th>\n",
       "    </tr>\n",
       "  </thead>\n",
       "  <tbody>\n",
       "    <tr>\n",
       "      <th>Quantile 1 Mean Turnover</th>\n",
       "      <td>0.284</td>\n",
       "      <td>0.506</td>\n",
       "      <td>0.610</td>\n",
       "      <td>0.719</td>\n",
       "    </tr>\n",
       "    <tr>\n",
       "      <th>Quantile 2 Mean Turnover</th>\n",
       "      <td>0.503</td>\n",
       "      <td>0.692</td>\n",
       "      <td>0.753</td>\n",
       "      <td>0.793</td>\n",
       "    </tr>\n",
       "    <tr>\n",
       "      <th>Quantile 3 Mean Turnover</th>\n",
       "      <td>0.551</td>\n",
       "      <td>0.729</td>\n",
       "      <td>0.776</td>\n",
       "      <td>0.807</td>\n",
       "    </tr>\n",
       "    <tr>\n",
       "      <th>Quantile 4 Mean Turnover</th>\n",
       "      <td>0.504</td>\n",
       "      <td>0.694</td>\n",
       "      <td>0.749</td>\n",
       "      <td>0.785</td>\n",
       "    </tr>\n",
       "    <tr>\n",
       "      <th>Quantile 5 Mean Turnover</th>\n",
       "      <td>0.288</td>\n",
       "      <td>0.513</td>\n",
       "      <td>0.629</td>\n",
       "      <td>0.740</td>\n",
       "    </tr>\n",
       "  </tbody>\n",
       "</table>\n",
       "</div>"
      ],
      "text/plain": [
       "                              1D     5D    10D    21D\n",
       "Quantile 1 Mean Turnover   0.284  0.506  0.610  0.719\n",
       "Quantile 2 Mean Turnover   0.503  0.692  0.753  0.793\n",
       "Quantile 3 Mean Turnover   0.551  0.729  0.776  0.807\n",
       "Quantile 4 Mean Turnover   0.504  0.694  0.749  0.785\n",
       "Quantile 5 Mean Turnover   0.288  0.513  0.629  0.740"
      ]
     },
     "metadata": {},
     "output_type": "display_data"
    },
    {
     "data": {
      "text/html": [
       "<div>\n",
       "<style scoped>\n",
       "    .dataframe tbody tr th:only-of-type {\n",
       "        vertical-align: middle;\n",
       "    }\n",
       "\n",
       "    .dataframe tbody tr th {\n",
       "        vertical-align: top;\n",
       "    }\n",
       "\n",
       "    .dataframe thead th {\n",
       "        text-align: right;\n",
       "    }\n",
       "</style>\n",
       "<table border=\"1\" class=\"dataframe\">\n",
       "  <thead>\n",
       "    <tr style=\"text-align: right;\">\n",
       "      <th></th>\n",
       "      <th>1D</th>\n",
       "      <th>5D</th>\n",
       "      <th>10D</th>\n",
       "      <th>21D</th>\n",
       "    </tr>\n",
       "  </thead>\n",
       "  <tbody>\n",
       "    <tr>\n",
       "      <th>Mean Factor Rank Autocorrelation</th>\n",
       "      <td>0.836</td>\n",
       "      <td>0.575</td>\n",
       "      <td>0.418</td>\n",
       "      <td>0.249</td>\n",
       "    </tr>\n",
       "  </tbody>\n",
       "</table>\n",
       "</div>"
      ],
      "text/plain": [
       "                                     1D     5D    10D    21D\n",
       "Mean Factor Rank Autocorrelation  0.836  0.575  0.418  0.249"
      ]
     },
     "metadata": {},
     "output_type": "display_data"
    },
    {
     "data": {
      "text/plain": [
       "<Figure size 432x288 with 0 Axes>"
      ]
     },
     "metadata": {},
     "output_type": "display_data"
    },
    {
     "data": {
      "image/png": "[encoded data removed]",
      "text/plain": [
       "<Figure size 1008x7056 with 1 Axes>"
      ]
     },
     "metadata": {},
     "output_type": "display_data"
    }
   ],
   "source": [
    "create_summary_tear_sheet(lr_factor_data);"
   ]
  },
  {
   "cell_type": "markdown",
   "metadata": {},
   "source": [
    "## Ridge Regression"
   ]
  },
  {
   "cell_type": "code",
   "execution_count": 14,
   "metadata": {
    "ExecuteTime": {
     "end_time": "2021-04-15T20:15:26.552660Z",
     "start_time": "2021-04-15T20:15:26.546553Z"
    }
   },
   "outputs": [],
   "source": [
    "best_ridge_alpha = get_best_alpha(ridge_scores)\n",
    "ridge_predictions = ridge_predictions[ridge_predictions.alpha==best_ridge_alpha].drop('alpha', axis=1)"
   ]
  },
  {
   "cell_type": "code",
   "execution_count": 15,
   "metadata": {
    "ExecuteTime": {
     "end_time": "2021-04-15T20:15:26.585946Z",
     "start_time": "2021-04-15T20:15:26.553563Z"
    }
   },
   "outputs": [
    {
     "data": {
      "text/plain": [
       "date                       symbol\n",
       "2014-12-09 00:00:00+00:00  AAL       0.000284\n",
       "                           AAPL     -0.001743\n",
       "                           ABBV      0.001264\n",
       "                           AGN       0.002620\n",
       "                           AIG      -0.000775\n",
       "dtype: float64"
      ]
     },
     "execution_count": 15,
     "metadata": {},
     "output_type": "execute_result"
    }
   ],
   "source": [
    "ridge_factor = get_factor(ridge_predictions.predicted.swaplevel())\n",
    "ridge_factor.head()"
   ]
  },
  {
   "cell_type": "code",
   "execution_count": 16,
   "metadata": {
    "ExecuteTime": {
     "end_time": "2021-04-15T20:15:27.676523Z",
     "start_time": "2021-04-15T20:15:26.586838Z"
    }
   },
   "outputs": [
    {
     "name": "stdout",
     "output_type": "stream",
     "text": [
      "Dropped 0.0% entries from factor data: 0.0% in forward returns computation and 0.0% in binning phase (set max_loss=0 to see potentially suppressed Exceptions).\n",
      "max_loss is 35.0%, not exceeded: OK!\n",
      "<class 'pandas.core.frame.DataFrame'>\n",
      "MultiIndex: 74038 entries, (Timestamp('2014-12-09 00:00:00+0000', tz='UTC', freq='C'), 'AAL') to (Timestamp('2017-11-29 00:00:00+0000', tz='UTC', freq='C'), 'TXN')\n",
      "Data columns (total 6 columns):\n",
      " #   Column           Non-Null Count  Dtype  \n",
      "---  ------           --------------  -----  \n",
      " 0   1D               74038 non-null  float64\n",
      " 1   5D               74038 non-null  float64\n",
      " 2   10D              74038 non-null  float64\n",
      " 3   21D              74038 non-null  float64\n",
      " 4   factor           74038 non-null  float64\n",
      " 5   factor_quantile  74038 non-null  int64  \n",
      "dtypes: float64(5), int64(1)\n",
      "memory usage: 3.7+ MB\n"
     ]
    }
   ],
   "source": [
    "ridge_factor_data = get_clean_factor_and_forward_returns(factor=ridge_factor,\n",
    "                                                         prices=trade_prices,\n",
    "                                                         quantiles=5,\n",
    "                                                         periods=(1, 5, 10, 21))\n",
    "ridge_factor_data.info()"
   ]
  },
  {
   "cell_type": "code",
   "execution_count": 17,
   "metadata": {
    "ExecuteTime": {
     "end_time": "2021-04-15T20:15:54.846281Z",
     "start_time": "2021-04-15T20:15:27.677383Z"
    },
    "scrolled": false
   },
   "outputs": [
    {
     "name": "stdout",
     "output_type": "stream",
     "text": [
      "Quantiles Statistics\n"
     ]
    },
    {
     "data": {
      "text/html": [
       "<div>\n",
       "<style scoped>\n",
       "    .dataframe tbody tr th:only-of-type {\n",
       "        vertical-align: middle;\n",
       "    }\n",
       "\n",
       "    .dataframe tbody tr th {\n",
       "        vertical-align: top;\n",
       "    }\n",
       "\n",
       "    .dataframe thead th {\n",
       "        text-align: right;\n",
       "    }\n",
       "</style>\n",
       "<table border=\"1\" class=\"dataframe\">\n",
       "  <thead>\n",
       "    <tr style=\"text-align: right;\">\n",
       "      <th></th>\n",
       "      <th>min</th>\n",
       "      <th>max</th>\n",
       "      <th>mean</th>\n",
       "      <th>std</th>\n",
       "      <th>count</th>\n",
       "      <th>count %</th>\n",
       "    </tr>\n",
       "    <tr>\n",
       "      <th>factor_quantile</th>\n",
       "      <th></th>\n",
       "      <th></th>\n",
       "      <th></th>\n",
       "      <th></th>\n",
       "      <th></th>\n",
       "      <th></th>\n",
       "    </tr>\n",
       "  </thead>\n",
       "  <tbody>\n",
       "    <tr>\n",
       "      <th>1</th>\n",
       "      <td>-0.039578</td>\n",
       "      <td>0.009219</td>\n",
       "      <td>-0.003494</td>\n",
       "      <td>0.003628</td>\n",
       "      <td>14982</td>\n",
       "      <td>20.235555</td>\n",
       "    </tr>\n",
       "    <tr>\n",
       "      <th>2</th>\n",
       "      <td>-0.012613</td>\n",
       "      <td>0.011656</td>\n",
       "      <td>-0.001429</td>\n",
       "      <td>0.003104</td>\n",
       "      <td>14863</td>\n",
       "      <td>20.074826</td>\n",
       "    </tr>\n",
       "    <tr>\n",
       "      <th>3</th>\n",
       "      <td>-0.010515</td>\n",
       "      <td>0.012887</td>\n",
       "      <td>-0.000345</td>\n",
       "      <td>0.003148</td>\n",
       "      <td>14348</td>\n",
       "      <td>19.379238</td>\n",
       "    </tr>\n",
       "    <tr>\n",
       "      <th>4</th>\n",
       "      <td>-0.009288</td>\n",
       "      <td>0.014515</td>\n",
       "      <td>0.000686</td>\n",
       "      <td>0.003276</td>\n",
       "      <td>14863</td>\n",
       "      <td>20.074826</td>\n",
       "    </tr>\n",
       "    <tr>\n",
       "      <th>5</th>\n",
       "      <td>-0.007255</td>\n",
       "      <td>0.036538</td>\n",
       "      <td>0.002706</td>\n",
       "      <td>0.004064</td>\n",
       "      <td>14982</td>\n",
       "      <td>20.235555</td>\n",
       "    </tr>\n",
       "  </tbody>\n",
       "</table>\n",
       "</div>"
      ],
      "text/plain": [
       "                      min       max      mean       std  count    count %\n",
       "factor_quantile                                                          \n",
       "1               -0.039578  0.009219 -0.003494  0.003628  14982  20.235555\n",
       "2               -0.012613  0.011656 -0.001429  0.003104  14863  20.074826\n",
       "3               -0.010515  0.012887 -0.000345  0.003148  14348  19.379238\n",
       "4               -0.009288  0.014515  0.000686  0.003276  14863  20.074826\n",
       "5               -0.007255  0.036538  0.002706  0.004064  14982  20.235555"
      ]
     },
     "metadata": {},
     "output_type": "display_data"
    },
    {
     "name": "stdout",
     "output_type": "stream",
     "text": [
      "Returns Analysis\n"
     ]
    },
    {
     "data": {
      "text/html": [
       "<div>\n",
       "<style scoped>\n",
       "    .dataframe tbody tr th:only-of-type {\n",
       "        vertical-align: middle;\n",
       "    }\n",
       "\n",
       "    .dataframe tbody tr th {\n",
       "        vertical-align: top;\n",
       "    }\n",
       "\n",
       "    .dataframe thead th {\n",
       "        text-align: right;\n",
       "    }\n",
       "</style>\n",
       "<table border=\"1\" class=\"dataframe\">\n",
       "  <thead>\n",
       "    <tr style=\"text-align: right;\">\n",
       "      <th></th>\n",
       "      <th>1D</th>\n",
       "      <th>5D</th>\n",
       "      <th>10D</th>\n",
       "      <th>21D</th>\n",
       "    </tr>\n",
       "  </thead>\n",
       "  <tbody>\n",
       "    <tr>\n",
       "      <th>Ann. alpha</th>\n",
       "      <td>0.025</td>\n",
       "      <td>0.032</td>\n",
       "      <td>0.037</td>\n",
       "      <td>0.018</td>\n",
       "    </tr>\n",
       "    <tr>\n",
       "      <th>beta</th>\n",
       "      <td>0.010</td>\n",
       "      <td>-0.050</td>\n",
       "      <td>-0.018</td>\n",
       "      <td>0.062</td>\n",
       "    </tr>\n",
       "    <tr>\n",
       "      <th>Mean Period Wise Return Top Quantile (bps)</th>\n",
       "      <td>2.325</td>\n",
       "      <td>1.786</td>\n",
       "      <td>1.739</td>\n",
       "      <td>1.610</td>\n",
       "    </tr>\n",
       "    <tr>\n",
       "      <th>Mean Period Wise Return Bottom Quantile (bps)</th>\n",
       "      <td>-1.434</td>\n",
       "      <td>-0.824</td>\n",
       "      <td>-1.062</td>\n",
       "      <td>-0.852</td>\n",
       "    </tr>\n",
       "    <tr>\n",
       "      <th>Mean Period Wise Spread (bps)</th>\n",
       "      <td>3.760</td>\n",
       "      <td>2.628</td>\n",
       "      <td>2.819</td>\n",
       "      <td>2.448</td>\n",
       "    </tr>\n",
       "  </tbody>\n",
       "</table>\n",
       "</div>"
      ],
      "text/plain": [
       "                                                  1D     5D    10D    21D\n",
       "Ann. alpha                                     0.025  0.032  0.037  0.018\n",
       "beta                                           0.010 -0.050 -0.018  0.062\n",
       "Mean Period Wise Return Top Quantile (bps)     2.325  1.786  1.739  1.610\n",
       "Mean Period Wise Return Bottom Quantile (bps) -1.434 -0.824 -1.062 -0.852\n",
       "Mean Period Wise Spread (bps)                  3.760  2.628  2.819  2.448"
      ]
     },
     "metadata": {},
     "output_type": "display_data"
    },
    {
     "name": "stdout",
     "output_type": "stream",
     "text": [
      "Information Analysis\n"
     ]
    },
    {
     "data": {
      "text/html": [
       "<div>\n",
       "<style scoped>\n",
       "    .dataframe tbody tr th:only-of-type {\n",
       "        vertical-align: middle;\n",
       "    }\n",
       "\n",
       "    .dataframe tbody tr th {\n",
       "        vertical-align: top;\n",
       "    }\n",
       "\n",
       "    .dataframe thead th {\n",
       "        text-align: right;\n",
       "    }\n",
       "</style>\n",
       "<table border=\"1\" class=\"dataframe\">\n",
       "  <thead>\n",
       "    <tr style=\"text-align: right;\">\n",
       "      <th></th>\n",
       "      <th>1D</th>\n",
       "      <th>5D</th>\n",
       "      <th>10D</th>\n",
       "      <th>21D</th>\n",
       "    </tr>\n",
       "  </thead>\n",
       "  <tbody>\n",
       "    <tr>\n",
       "      <th>IC Mean</th>\n",
       "      <td>0.020</td>\n",
       "      <td>0.019</td>\n",
       "      <td>0.024</td>\n",
       "      <td>0.028</td>\n",
       "    </tr>\n",
       "    <tr>\n",
       "      <th>IC Std.</th>\n",
       "      <td>0.184</td>\n",
       "      <td>0.177</td>\n",
       "      <td>0.176</td>\n",
       "      <td>0.167</td>\n",
       "    </tr>\n",
       "    <tr>\n",
       "      <th>Risk-Adjusted IC</th>\n",
       "      <td>0.108</td>\n",
       "      <td>0.105</td>\n",
       "      <td>0.137</td>\n",
       "      <td>0.168</td>\n",
       "    </tr>\n",
       "    <tr>\n",
       "      <th>t-stat(IC)</th>\n",
       "      <td>2.960</td>\n",
       "      <td>2.864</td>\n",
       "      <td>3.746</td>\n",
       "      <td>4.596</td>\n",
       "    </tr>\n",
       "    <tr>\n",
       "      <th>p-value(IC)</th>\n",
       "      <td>0.003</td>\n",
       "      <td>0.004</td>\n",
       "      <td>0.000</td>\n",
       "      <td>0.000</td>\n",
       "    </tr>\n",
       "    <tr>\n",
       "      <th>IC Skew</th>\n",
       "      <td>-0.054</td>\n",
       "      <td>-0.109</td>\n",
       "      <td>-0.148</td>\n",
       "      <td>-0.042</td>\n",
       "    </tr>\n",
       "    <tr>\n",
       "      <th>IC Kurtosis</th>\n",
       "      <td>-0.105</td>\n",
       "      <td>-0.156</td>\n",
       "      <td>-0.037</td>\n",
       "      <td>-0.254</td>\n",
       "    </tr>\n",
       "  </tbody>\n",
       "</table>\n",
       "</div>"
      ],
      "text/plain": [
       "                     1D     5D    10D    21D\n",
       "IC Mean           0.020  0.019  0.024  0.028\n",
       "IC Std.           0.184  0.177  0.176  0.167\n",
       "Risk-Adjusted IC  0.108  0.105  0.137  0.168\n",
       "t-stat(IC)        2.960  2.864  3.746  4.596\n",
       "p-value(IC)       0.003  0.004  0.000  0.000\n",
       "IC Skew          -0.054 -0.109 -0.148 -0.042\n",
       "IC Kurtosis      -0.105 -0.156 -0.037 -0.254"
      ]
     },
     "metadata": {},
     "output_type": "display_data"
    },
    {
     "name": "stdout",
     "output_type": "stream",
     "text": [
      "Turnover Analysis\n"
     ]
    },
    {
     "data": {
      "text/html": [
       "<div>\n",
       "<style scoped>\n",
       "    .dataframe tbody tr th:only-of-type {\n",
       "        vertical-align: middle;\n",
       "    }\n",
       "\n",
       "    .dataframe tbody tr th {\n",
       "        vertical-align: top;\n",
       "    }\n",
       "\n",
       "    .dataframe thead th {\n",
       "        text-align: right;\n",
       "    }\n",
       "</style>\n",
       "<table border=\"1\" class=\"dataframe\">\n",
       "  <thead>\n",
       "    <tr style=\"text-align: right;\">\n",
       "      <th></th>\n",
       "      <th>1D</th>\n",
       "      <th>5D</th>\n",
       "      <th>10D</th>\n",
       "      <th>21D</th>\n",
       "    </tr>\n",
       "  </thead>\n",
       "  <tbody>\n",
       "    <tr>\n",
       "      <th>Quantile 1 Mean Turnover</th>\n",
       "      <td>0.279</td>\n",
       "      <td>0.500</td>\n",
       "      <td>0.606</td>\n",
       "      <td>0.716</td>\n",
       "    </tr>\n",
       "    <tr>\n",
       "      <th>Quantile 2 Mean Turnover</th>\n",
       "      <td>0.495</td>\n",
       "      <td>0.690</td>\n",
       "      <td>0.752</td>\n",
       "      <td>0.793</td>\n",
       "    </tr>\n",
       "    <tr>\n",
       "      <th>Quantile 3 Mean Turnover</th>\n",
       "      <td>0.548</td>\n",
       "      <td>0.729</td>\n",
       "      <td>0.775</td>\n",
       "      <td>0.806</td>\n",
       "    </tr>\n",
       "    <tr>\n",
       "      <th>Quantile 4 Mean Turnover</th>\n",
       "      <td>0.500</td>\n",
       "      <td>0.691</td>\n",
       "      <td>0.748</td>\n",
       "      <td>0.785</td>\n",
       "    </tr>\n",
       "    <tr>\n",
       "      <th>Quantile 5 Mean Turnover</th>\n",
       "      <td>0.283</td>\n",
       "      <td>0.508</td>\n",
       "      <td>0.626</td>\n",
       "      <td>0.738</td>\n",
       "    </tr>\n",
       "  </tbody>\n",
       "</table>\n",
       "</div>"
      ],
      "text/plain": [
       "                              1D     5D    10D    21D\n",
       "Quantile 1 Mean Turnover   0.279  0.500  0.606  0.716\n",
       "Quantile 2 Mean Turnover   0.495  0.690  0.752  0.793\n",
       "Quantile 3 Mean Turnover   0.548  0.729  0.775  0.806\n",
       "Quantile 4 Mean Turnover   0.500  0.691  0.748  0.785\n",
       "Quantile 5 Mean Turnover   0.283  0.508  0.626  0.738"
      ]
     },
     "metadata": {},
     "output_type": "display_data"
    },
    {
     "data": {
      "text/html": [
       "<div>\n",
       "<style scoped>\n",
       "    .dataframe tbody tr th:only-of-type {\n",
       "        vertical-align: middle;\n",
       "    }\n",
       "\n",
       "    .dataframe tbody tr th {\n",
       "        vertical-align: top;\n",
       "    }\n",
       "\n",
       "    .dataframe thead th {\n",
       "        text-align: right;\n",
       "    }\n",
       "</style>\n",
       "<table border=\"1\" class=\"dataframe\">\n",
       "  <thead>\n",
       "    <tr style=\"text-align: right;\">\n",
       "      <th></th>\n",
       "      <th>1D</th>\n",
       "      <th>5D</th>\n",
       "      <th>10D</th>\n",
       "      <th>21D</th>\n",
       "    </tr>\n",
       "  </thead>\n",
       "  <tbody>\n",
       "    <tr>\n",
       "      <th>Mean Factor Rank Autocorrelation</th>\n",
       "      <td>0.839</td>\n",
       "      <td>0.585</td>\n",
       "      <td>0.425</td>\n",
       "      <td>0.254</td>\n",
       "    </tr>\n",
       "  </tbody>\n",
       "</table>\n",
       "</div>"
      ],
      "text/plain": [
       "                                     1D     5D    10D    21D\n",
       "Mean Factor Rank Autocorrelation  0.839  0.585  0.425  0.254"
      ]
     },
     "metadata": {},
     "output_type": "display_data"
    },
    {
     "data": {
      "text/plain": [
       "<Figure size 432x288 with 0 Axes>"
      ]
     },
     "metadata": {},
     "output_type": "display_data"
    },
    {
     "data": {
      "image/png": "[encoded data removed]",
      "text/plain": [
       "<Figure size 1008x7056 with 1 Axes>"
      ]
     },
     "metadata": {},
     "output_type": "display_data"
    }
   ],
   "source": [
    "create_summary_tear_sheet(ridge_factor_data);"
   ]
  },
  {
   "cell_type": "markdown",
   "metadata": {},
   "source": [
    "## Lasso Regression"
   ]
  },
  {
   "cell_type": "code",
   "execution_count": 18,
   "metadata": {
    "ExecuteTime": {
     "end_time": "2021-04-15T20:15:54.852776Z",
     "start_time": "2021-04-15T20:15:54.847107Z"
    }
   },
   "outputs": [],
   "source": [
    "best_lasso_alpha = get_best_alpha(lasso_scores)\n",
    "lasso_predictions = lasso_predictions[lasso_predictions.alpha==best_lasso_alpha].drop('alpha', axis=1)"
   ]
  },
  {
   "cell_type": "code",
   "execution_count": 19,
   "metadata": {
    "ExecuteTime": {
     "end_time": "2021-04-15T20:15:54.896728Z",
     "start_time": "2021-04-15T20:15:54.853796Z"
    }
   },
   "outputs": [
    {
     "data": {
      "text/plain": [
       "date                       symbol\n",
       "2014-12-09 00:00:00+00:00  AAL       0.000108\n",
       "                           AAPL     -0.001775\n",
       "                           ABBV      0.001246\n",
       "                           AGN       0.002613\n",
       "                           AIG      -0.000849\n",
       "dtype: float64"
      ]
     },
     "execution_count": 19,
     "metadata": {},
     "output_type": "execute_result"
    }
   ],
   "source": [
    "lasso_factor = get_factor(lasso_predictions.predicted.swaplevel())\n",
    "lasso_factor.head()"
   ]
  },
  {
   "cell_type": "code",
   "execution_count": 20,
   "metadata": {
    "ExecuteTime": {
     "end_time": "2021-04-15T20:15:56.002215Z",
     "start_time": "2021-04-15T20:15:54.897452Z"
    }
   },
   "outputs": [
    {
     "name": "stdout",
     "output_type": "stream",
     "text": [
      "Dropped 0.0% entries from factor data: 0.0% in forward returns computation and 0.0% in binning phase (set max_loss=0 to see potentially suppressed Exceptions).\n",
      "max_loss is 35.0%, not exceeded: OK!\n",
      "<class 'pandas.core.frame.DataFrame'>\n",
      "MultiIndex: 74038 entries, (Timestamp('2014-12-09 00:00:00+0000', tz='UTC', freq='C'), 'AAL') to (Timestamp('2017-11-29 00:00:00+0000', tz='UTC', freq='C'), 'TXN')\n",
      "Data columns (total 6 columns):\n",
      " #   Column           Non-Null Count  Dtype  \n",
      "---  ------           --------------  -----  \n",
      " 0   1D               74038 non-null  float64\n",
      " 1   5D               74038 non-null  float64\n",
      " 2   10D              74038 non-null  float64\n",
      " 3   21D              74038 non-null  float64\n",
      " 4   factor           74038 non-null  float64\n",
      " 5   factor_quantile  74038 non-null  int64  \n",
      "dtypes: float64(5), int64(1)\n",
      "memory usage: 3.7+ MB\n"
     ]
    }
   ],
   "source": [
    "lasso_factor_data = get_clean_factor_and_forward_returns(factor=lasso_factor,\n",
    "                                                      prices=trade_prices,\n",
    "                                                      quantiles=5,\n",
    "                                                      periods=(1, 5, 10, 21))\n",
    "lasso_factor_data.info()"
   ]
  },
  {
   "cell_type": "code",
   "execution_count": 21,
   "metadata": {
    "ExecuteTime": {
     "end_time": "2021-04-15T20:16:22.806032Z",
     "start_time": "2021-04-15T20:15:56.003253Z"
    },
    "scrolled": false
   },
   "outputs": [
    {
     "name": "stdout",
     "output_type": "stream",
     "text": [
      "Quantiles Statistics\n"
     ]
    },
    {
     "data": {
      "text/html": [
       "<div>\n",
       "<style scoped>\n",
       "    .dataframe tbody tr th:only-of-type {\n",
       "        vertical-align: middle;\n",
       "    }\n",
       "\n",
       "    .dataframe tbody tr th {\n",
       "        vertical-align: top;\n",
       "    }\n",
       "\n",
       "    .dataframe thead th {\n",
       "        text-align: right;\n",
       "    }\n",
       "</style>\n",
       "<table border=\"1\" class=\"dataframe\">\n",
       "  <thead>\n",
       "    <tr style=\"text-align: right;\">\n",
       "      <th></th>\n",
       "      <th>min</th>\n",
       "      <th>max</th>\n",
       "      <th>mean</th>\n",
       "      <th>std</th>\n",
       "      <th>count</th>\n",
       "      <th>count %</th>\n",
       "    </tr>\n",
       "    <tr>\n",
       "      <th>factor_quantile</th>\n",
       "      <th></th>\n",
       "      <th></th>\n",
       "      <th></th>\n",
       "      <th></th>\n",
       "      <th></th>\n",
       "      <th></th>\n",
       "    </tr>\n",
       "  </thead>\n",
       "  <tbody>\n",
       "    <tr>\n",
       "      <th>1</th>\n",
       "      <td>-0.040391</td>\n",
       "      <td>0.009398</td>\n",
       "      <td>-0.003492</td>\n",
       "      <td>0.003725</td>\n",
       "      <td>14982</td>\n",
       "      <td>20.235555</td>\n",
       "    </tr>\n",
       "    <tr>\n",
       "      <th>2</th>\n",
       "      <td>-0.013994</td>\n",
       "      <td>0.011748</td>\n",
       "      <td>-0.001424</td>\n",
       "      <td>0.003216</td>\n",
       "      <td>14863</td>\n",
       "      <td>20.074826</td>\n",
       "    </tr>\n",
       "    <tr>\n",
       "      <th>3</th>\n",
       "      <td>-0.011899</td>\n",
       "      <td>0.013037</td>\n",
       "      <td>-0.000336</td>\n",
       "      <td>0.003278</td>\n",
       "      <td>14348</td>\n",
       "      <td>19.379238</td>\n",
       "    </tr>\n",
       "    <tr>\n",
       "      <th>4</th>\n",
       "      <td>-0.010599</td>\n",
       "      <td>0.014708</td>\n",
       "      <td>0.000694</td>\n",
       "      <td>0.003409</td>\n",
       "      <td>14863</td>\n",
       "      <td>20.074826</td>\n",
       "    </tr>\n",
       "    <tr>\n",
       "      <th>5</th>\n",
       "      <td>-0.007921</td>\n",
       "      <td>0.038398</td>\n",
       "      <td>0.002727</td>\n",
       "      <td>0.004220</td>\n",
       "      <td>14982</td>\n",
       "      <td>20.235555</td>\n",
       "    </tr>\n",
       "  </tbody>\n",
       "</table>\n",
       "</div>"
      ],
      "text/plain": [
       "                      min       max      mean       std  count    count %\n",
       "factor_quantile                                                          \n",
       "1               -0.040391  0.009398 -0.003492  0.003725  14982  20.235555\n",
       "2               -0.013994  0.011748 -0.001424  0.003216  14863  20.074826\n",
       "3               -0.011899  0.013037 -0.000336  0.003278  14348  19.379238\n",
       "4               -0.010599  0.014708  0.000694  0.003409  14863  20.074826\n",
       "5               -0.007921  0.038398  0.002727  0.004220  14982  20.235555"
      ]
     },
     "metadata": {},
     "output_type": "display_data"
    },
    {
     "name": "stdout",
     "output_type": "stream",
     "text": [
      "Returns Analysis\n"
     ]
    },
    {
     "data": {
      "text/html": [
       "<div>\n",
       "<style scoped>\n",
       "    .dataframe tbody tr th:only-of-type {\n",
       "        vertical-align: middle;\n",
       "    }\n",
       "\n",
       "    .dataframe tbody tr th {\n",
       "        vertical-align: top;\n",
       "    }\n",
       "\n",
       "    .dataframe thead th {\n",
       "        text-align: right;\n",
       "    }\n",
       "</style>\n",
       "<table border=\"1\" class=\"dataframe\">\n",
       "  <thead>\n",
       "    <tr style=\"text-align: right;\">\n",
       "      <th></th>\n",
       "      <th>1D</th>\n",
       "      <th>5D</th>\n",
       "      <th>10D</th>\n",
       "      <th>21D</th>\n",
       "    </tr>\n",
       "  </thead>\n",
       "  <tbody>\n",
       "    <tr>\n",
       "      <th>Ann. alpha</th>\n",
       "      <td>0.026</td>\n",
       "      <td>0.032</td>\n",
       "      <td>0.037</td>\n",
       "      <td>0.018</td>\n",
       "    </tr>\n",
       "    <tr>\n",
       "      <th>beta</th>\n",
       "      <td>0.009</td>\n",
       "      <td>-0.049</td>\n",
       "      <td>-0.015</td>\n",
       "      <td>0.064</td>\n",
       "    </tr>\n",
       "    <tr>\n",
       "      <th>Mean Period Wise Return Top Quantile (bps)</th>\n",
       "      <td>2.374</td>\n",
       "      <td>1.917</td>\n",
       "      <td>1.769</td>\n",
       "      <td>1.690</td>\n",
       "    </tr>\n",
       "    <tr>\n",
       "      <th>Mean Period Wise Return Bottom Quantile (bps)</th>\n",
       "      <td>-1.263</td>\n",
       "      <td>-0.874</td>\n",
       "      <td>-1.187</td>\n",
       "      <td>-0.814</td>\n",
       "    </tr>\n",
       "    <tr>\n",
       "      <th>Mean Period Wise Spread (bps)</th>\n",
       "      <td>3.637</td>\n",
       "      <td>2.812</td>\n",
       "      <td>2.973</td>\n",
       "      <td>2.490</td>\n",
       "    </tr>\n",
       "  </tbody>\n",
       "</table>\n",
       "</div>"
      ],
      "text/plain": [
       "                                                  1D     5D    10D    21D\n",
       "Ann. alpha                                     0.026  0.032  0.037  0.018\n",
       "beta                                           0.009 -0.049 -0.015  0.064\n",
       "Mean Period Wise Return Top Quantile (bps)     2.374  1.917  1.769  1.690\n",
       "Mean Period Wise Return Bottom Quantile (bps) -1.263 -0.874 -1.187 -0.814\n",
       "Mean Period Wise Spread (bps)                  3.637  2.812  2.973  2.490"
      ]
     },
     "metadata": {},
     "output_type": "display_data"
    },
    {
     "name": "stdout",
     "output_type": "stream",
     "text": [
      "Information Analysis\n"
     ]
    },
    {
     "data": {
      "text/html": [
       "<div>\n",
       "<style scoped>\n",
       "    .dataframe tbody tr th:only-of-type {\n",
       "        vertical-align: middle;\n",
       "    }\n",
       "\n",
       "    .dataframe tbody tr th {\n",
       "        vertical-align: top;\n",
       "    }\n",
       "\n",
       "    .dataframe thead th {\n",
       "        text-align: right;\n",
       "    }\n",
       "</style>\n",
       "<table border=\"1\" class=\"dataframe\">\n",
       "  <thead>\n",
       "    <tr style=\"text-align: right;\">\n",
       "      <th></th>\n",
       "      <th>1D</th>\n",
       "      <th>5D</th>\n",
       "      <th>10D</th>\n",
       "      <th>21D</th>\n",
       "    </tr>\n",
       "  </thead>\n",
       "  <tbody>\n",
       "    <tr>\n",
       "      <th>IC Mean</th>\n",
       "      <td>0.020</td>\n",
       "      <td>0.019</td>\n",
       "      <td>0.024</td>\n",
       "      <td>0.029</td>\n",
       "    </tr>\n",
       "    <tr>\n",
       "      <th>IC Std.</th>\n",
       "      <td>0.184</td>\n",
       "      <td>0.177</td>\n",
       "      <td>0.177</td>\n",
       "      <td>0.168</td>\n",
       "    </tr>\n",
       "    <tr>\n",
       "      <th>Risk-Adjusted IC</th>\n",
       "      <td>0.107</td>\n",
       "      <td>0.104</td>\n",
       "      <td>0.138</td>\n",
       "      <td>0.171</td>\n",
       "    </tr>\n",
       "    <tr>\n",
       "      <th>t-stat(IC)</th>\n",
       "      <td>2.935</td>\n",
       "      <td>2.861</td>\n",
       "      <td>3.771</td>\n",
       "      <td>4.692</td>\n",
       "    </tr>\n",
       "    <tr>\n",
       "      <th>p-value(IC)</th>\n",
       "      <td>0.003</td>\n",
       "      <td>0.004</td>\n",
       "      <td>0.000</td>\n",
       "      <td>0.000</td>\n",
       "    </tr>\n",
       "    <tr>\n",
       "      <th>IC Skew</th>\n",
       "      <td>-0.057</td>\n",
       "      <td>-0.117</td>\n",
       "      <td>-0.149</td>\n",
       "      <td>-0.044</td>\n",
       "    </tr>\n",
       "    <tr>\n",
       "      <th>IC Kurtosis</th>\n",
       "      <td>-0.092</td>\n",
       "      <td>-0.140</td>\n",
       "      <td>-0.046</td>\n",
       "      <td>-0.250</td>\n",
       "    </tr>\n",
       "  </tbody>\n",
       "</table>\n",
       "</div>"
      ],
      "text/plain": [
       "                     1D     5D    10D    21D\n",
       "IC Mean           0.020  0.019  0.024  0.029\n",
       "IC Std.           0.184  0.177  0.177  0.168\n",
       "Risk-Adjusted IC  0.107  0.104  0.138  0.171\n",
       "t-stat(IC)        2.935  2.861  3.771  4.692\n",
       "p-value(IC)       0.003  0.004  0.000  0.000\n",
       "IC Skew          -0.057 -0.117 -0.149 -0.044\n",
       "IC Kurtosis      -0.092 -0.140 -0.046 -0.250"
      ]
     },
     "metadata": {},
     "output_type": "display_data"
    },
    {
     "name": "stdout",
     "output_type": "stream",
     "text": [
      "Turnover Analysis\n"
     ]
    },
    {
     "data": {
      "text/html": [
       "<div>\n",
       "<style scoped>\n",
       "    .dataframe tbody tr th:only-of-type {\n",
       "        vertical-align: middle;\n",
       "    }\n",
       "\n",
       "    .dataframe tbody tr th {\n",
       "        vertical-align: top;\n",
       "    }\n",
       "\n",
       "    .dataframe thead th {\n",
       "        text-align: right;\n",
       "    }\n",
       "</style>\n",
       "<table border=\"1\" class=\"dataframe\">\n",
       "  <thead>\n",
       "    <tr style=\"text-align: right;\">\n",
       "      <th></th>\n",
       "      <th>1D</th>\n",
       "      <th>5D</th>\n",
       "      <th>10D</th>\n",
       "      <th>21D</th>\n",
       "    </tr>\n",
       "  </thead>\n",
       "  <tbody>\n",
       "    <tr>\n",
       "      <th>Quantile 1 Mean Turnover</th>\n",
       "      <td>0.281</td>\n",
       "      <td>0.503</td>\n",
       "      <td>0.607</td>\n",
       "      <td>0.717</td>\n",
       "    </tr>\n",
       "    <tr>\n",
       "      <th>Quantile 2 Mean Turnover</th>\n",
       "      <td>0.498</td>\n",
       "      <td>0.691</td>\n",
       "      <td>0.750</td>\n",
       "      <td>0.792</td>\n",
       "    </tr>\n",
       "    <tr>\n",
       "      <th>Quantile 3 Mean Turnover</th>\n",
       "      <td>0.547</td>\n",
       "      <td>0.729</td>\n",
       "      <td>0.775</td>\n",
       "      <td>0.808</td>\n",
       "    </tr>\n",
       "    <tr>\n",
       "      <th>Quantile 4 Mean Turnover</th>\n",
       "      <td>0.500</td>\n",
       "      <td>0.690</td>\n",
       "      <td>0.745</td>\n",
       "      <td>0.784</td>\n",
       "    </tr>\n",
       "    <tr>\n",
       "      <th>Quantile 5 Mean Turnover</th>\n",
       "      <td>0.284</td>\n",
       "      <td>0.509</td>\n",
       "      <td>0.625</td>\n",
       "      <td>0.741</td>\n",
       "    </tr>\n",
       "  </tbody>\n",
       "</table>\n",
       "</div>"
      ],
      "text/plain": [
       "                              1D     5D    10D    21D\n",
       "Quantile 1 Mean Turnover   0.281  0.503  0.607  0.717\n",
       "Quantile 2 Mean Turnover   0.498  0.691  0.750  0.792\n",
       "Quantile 3 Mean Turnover   0.547  0.729  0.775  0.808\n",
       "Quantile 4 Mean Turnover   0.500  0.690  0.745  0.784\n",
       "Quantile 5 Mean Turnover   0.284  0.509  0.625  0.741"
      ]
     },
     "metadata": {},
     "output_type": "display_data"
    },
    {
     "data": {
      "text/html": [
       "<div>\n",
       "<style scoped>\n",
       "    .dataframe tbody tr th:only-of-type {\n",
       "        vertical-align: middle;\n",
       "    }\n",
       "\n",
       "    .dataframe tbody tr th {\n",
       "        vertical-align: top;\n",
       "    }\n",
       "\n",
       "    .dataframe thead th {\n",
       "        text-align: right;\n",
       "    }\n",
       "</style>\n",
       "<table border=\"1\" class=\"dataframe\">\n",
       "  <thead>\n",
       "    <tr style=\"text-align: right;\">\n",
       "      <th></th>\n",
       "      <th>1D</th>\n",
       "      <th>5D</th>\n",
       "      <th>10D</th>\n",
       "      <th>21D</th>\n",
       "    </tr>\n",
       "  </thead>\n",
       "  <tbody>\n",
       "    <tr>\n",
       "      <th>Mean Factor Rank Autocorrelation</th>\n",
       "      <td>0.838</td>\n",
       "      <td>0.58</td>\n",
       "      <td>0.422</td>\n",
       "      <td>0.248</td>\n",
       "    </tr>\n",
       "  </tbody>\n",
       "</table>\n",
       "</div>"
      ],
      "text/plain": [
       "                                     1D    5D    10D    21D\n",
       "Mean Factor Rank Autocorrelation  0.838  0.58  0.422  0.248"
      ]
     },
     "metadata": {},
     "output_type": "display_data"
    },
    {
     "data": {
      "text/plain": [
       "<Figure size 432x288 with 0 Axes>"
      ]
     },
     "metadata": {},
     "output_type": "display_data"
    },
    {
     "data": {
      "image/png": "[encoded data removed]",
      "text/plain": [
       "<Figure size 1008x7056 with 1 Axes>"
      ]
     },
     "metadata": {},
     "output_type": "display_data"
    }
   ],
   "source": [
    "create_summary_tear_sheet(lasso_factor_data);"
   ]
  }
 ],
 "metadata": {
  "kernelspec": {
   "display_name": "Python [conda env:ml4t]",
   "language": "python",
   "name": "conda-env-ml4t-py"
  },
  "language_info": {
   "codemirror_mode": {
    "name": "ipython",
    "version": 3
   },
   "file_extension": ".py",
   "mimetype": "text/x-python",
   "name": "python",
   "nbconvert_exporter": "python",
   "pygments_lexer": "ipython3",
   "version": "3.8.8"
  },
  "toc": {
   "base_numbering": 1,
   "nav_menu": {},
   "number_sections": true,
   "sideBar": true,
   "skip_h1_title": false,
   "title_cell": "Table of Contents",
   "title_sidebar": "Contents",
   "toc_cell": false,
   "toc_position": {},
   "toc_section_display": true,
   "toc_window_display": false
  }
 },
 "nbformat": 4,
 "nbformat_minor": 4
}
