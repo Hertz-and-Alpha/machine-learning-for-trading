{
 "cells": [
  {
   "cell_type": "markdown",
   "metadata": {},
   "source": [
    "# How to build a linear factor model"
   ]
  },
  {
   "cell_type": "markdown",
   "metadata": {},
   "source": [
    "Algorithmic trading strategies use linear factor models to quantify the relationship between the return of an asset and the sources of risk that represent the main drivers of these returns. Each factor risk carries a premium, and the total asset return can be expected to correspond to a weighted average of these risk premia."
   ]
  },
  {
   "cell_type": "markdown",
   "metadata": {},
   "source": [
    "There are several practical applications of factor models across the portfolio management process from construction and asset selection to risk management and performance evaluation. The importance of factor models continues to grow as common risk factors are now tradeable:\n",
    "\n",
    "- A summary of the returns of many assets by a much smaller number of factors reduces the amount of data required to estimate the covariance matrix when optimizing a portfolio\n",
    "- An estimate of the exposure of an asset or a portfolio to these factors allows for the management of the resultant risk, for instance by entering suitable hedges when risk factors are themselves traded\n",
    "- A factor model also permits the assessment of the incremental signal content of new alpha factors\n",
    "- A factor model can also help assess whether a manager's performance relative to a benchmark is indeed due to skill in selecting assets and timing the market, or if instead, the performance can be explained by portfolio tilts towards known return drivers that can today be replicated as low-cost, passively managed funds without incurring active management fees"
   ]
  },
  {
   "cell_type": "markdown",
   "metadata": {},
   "source": [
    "## Imports & Settings"
   ]
  },
  {
   "cell_type": "code",
   "execution_count": 1,
   "metadata": {
    "ExecuteTime": {
     "end_time": "2021-04-15T19:55:07.984117Z",
     "start_time": "2021-04-15T19:55:07.982285Z"
    }
   },
   "outputs": [],
   "source": [
    "import warnings\n",
    "warnings.filterwarnings('ignore')"
   ]
  },
  {
   "cell_type": "code",
   "execution_count": 2,
   "metadata": {
    "ExecuteTime": {
     "end_time": "2021-04-15T19:55:09.073976Z",
     "start_time": "2021-04-15T19:55:08.102748Z"
    }
   },
   "outputs": [],
   "source": [
    "import pandas as pd\n",
    "import numpy as np\n",
    "\n",
    "from statsmodels.api import OLS, add_constant\n",
    "import pandas_datareader.data as web\n",
    "\n",
    "from linearmodels.asset_pricing import LinearFactorModel\n",
    "\n",
    "import matplotlib.pyplot as plt\n",
    "import seaborn as sns"
   ]
  },
  {
   "cell_type": "code",
   "execution_count": 3,
   "metadata": {
    "ExecuteTime": {
     "end_time": "2021-04-15T19:55:09.077317Z",
     "start_time": "2021-04-15T19:55:09.075045Z"
    }
   },
   "outputs": [],
   "source": [
    "sns.set_style('whitegrid')"
   ]
  },
  {
   "cell_type": "markdown",
   "metadata": {},
   "source": [
    "## Get Data"
   ]
  },
  {
   "cell_type": "markdown",
   "metadata": {},
   "source": [
    "Fama and French make updated risk factor and research portfolio data available through their [website](http://mba.tuck.dartmouth.edu/pages/faculty/ken.french/data_library.html), and you can use the `pandas_datareader` package to obtain the data."
   ]
  },
  {
   "cell_type": "markdown",
   "metadata": {},
   "source": [
    "### Risk Factors"
   ]
  },
  {
   "cell_type": "markdown",
   "metadata": {},
   "source": [
    "In particular, we will be using the five Fama—French factors that result from sorting stocks first into three size groups and then into two for each of the remaining three firm-specific factors. \n",
    "\n",
    "Hence, the factors involve three sets of value-weighted portfolios formed as 3 x 2 sorts on size and book-to-market, size and operating profitability, and size and investment. The risk factor values computed as the average returns of the portfolios (PF) as outlined in the following table:"
   ]
  },
  {
   "cell_type": "markdown",
   "metadata": {},
   "source": [
    "| Label | Name                          | Description                                                                                                                                                                               |\n",
    "|-------|-------------------------------|-------------------------------------------------------------------------------------------------------------------------------------------------------------------------------------------|\n",
    "| SMB   | Small Minus Big               | Average return on the nine small stock portfolios minus the average return on the nine big stock portfolios                                                                               |\n",
    "| HML   | High Minus Low                | Average return on the two value portfolios minus the average return on the two growth portfolios                                                                                          |\n",
    "| RMW   | Robust minus Weak             | Average return on the two robust operating profitability portfolios minus the average return on the two weak operating profitability portfolios                                           |\n",
    "| CMA   | Conservative Minus Aggressive | Average return on the two conservative investment portfolios minus the average return on the two aggressive investment portfolios                                                         |\n",
    "| Rm-Rf | Excess return on the market   | Value-weight return of all firms incorporated in the US and listed on the NYSE, AMEX, or NASDAQ at the beginning of month t with 'good' data for t minus the one-month Treasury bill rate |"
   ]
  },
  {
   "cell_type": "markdown",
   "metadata": {},
   "source": [
    "The Fama-French 5 factors are based on the 6 value-weight portfolios formed on size and book-to-market, the 6 value-weight portfolios formed on size and operating profitability, and the 6 value-weight portfolios formed on size and investment."
   ]
  },
  {
   "cell_type": "markdown",
   "metadata": {},
   "source": [
    "We will use returns at a monthly frequency that we obtain for the period 2010 – 2017 as follows:"
   ]
  },
  {
   "cell_type": "code",
   "execution_count": 4,
   "metadata": {
    "ExecuteTime": {
     "end_time": "2021-04-15T19:55:13.367412Z",
     "start_time": "2021-04-15T19:55:13.065455Z"
    }
   },
   "outputs": [
    {
     "name": "stdout",
     "output_type": "stream",
     "text": [
      "<class 'pandas.core.frame.DataFrame'>\n",
      "PeriodIndex: 96 entries, 2010-01 to 2017-12\n",
      "Freq: M\n",
      "Data columns (total 6 columns):\n",
      " #   Column  Non-Null Count  Dtype  \n",
      "---  ------  --------------  -----  \n",
      " 0   Mkt-RF  96 non-null     float64\n",
      " 1   SMB     96 non-null     float64\n",
      " 2   HML     96 non-null     float64\n",
      " 3   RMW     96 non-null     float64\n",
      " 4   CMA     96 non-null     float64\n",
      " 5   RF      96 non-null     float64\n",
      "dtypes: float64(6)\n",
      "memory usage: 5.2 KB\n"
     ]
    }
   ],
   "source": [
    "ff_factor = 'F-F_Research_Data_5_Factors_2x3'\n",
    "ff_factor_data = web.DataReader(ff_factor, 'famafrench', start='2010', end='2017-12')[0]\n",
    "ff_factor_data.info()"
   ]
  },
  {
   "cell_type": "code",
   "execution_count": 5,
   "metadata": {
    "ExecuteTime": {
     "end_time": "2021-04-15T19:55:13.386698Z",
     "start_time": "2021-04-15T19:55:13.368623Z"
    },
    "scrolled": true
   },
   "outputs": [
    {
     "data": {
      "text/html": [
       "<div>\n",
       "<style scoped>\n",
       "    .dataframe tbody tr th:only-of-type {\n",
       "        vertical-align: middle;\n",
       "    }\n",
       "\n",
       "    .dataframe tbody tr th {\n",
       "        vertical-align: top;\n",
       "    }\n",
       "\n",
       "    .dataframe thead th {\n",
       "        text-align: right;\n",
       "    }\n",
       "</style>\n",
       "<table border=\"1\" class=\"dataframe\">\n",
       "  <thead>\n",
       "    <tr style=\"text-align: right;\">\n",
       "      <th></th>\n",
       "      <th>Mkt-RF</th>\n",
       "      <th>SMB</th>\n",
       "      <th>HML</th>\n",
       "      <th>RMW</th>\n",
       "      <th>CMA</th>\n",
       "      <th>RF</th>\n",
       "    </tr>\n",
       "  </thead>\n",
       "  <tbody>\n",
       "    <tr>\n",
       "      <th>count</th>\n",
       "      <td>96.000000</td>\n",
       "      <td>96.000000</td>\n",
       "      <td>96.000000</td>\n",
       "      <td>96.000000</td>\n",
       "      <td>96.000000</td>\n",
       "      <td>96.000000</td>\n",
       "    </tr>\n",
       "    <tr>\n",
       "      <th>mean</th>\n",
       "      <td>1.158750</td>\n",
       "      <td>0.054063</td>\n",
       "      <td>-0.051771</td>\n",
       "      <td>0.126042</td>\n",
       "      <td>0.052917</td>\n",
       "      <td>0.012604</td>\n",
       "    </tr>\n",
       "    <tr>\n",
       "      <th>std</th>\n",
       "      <td>3.580187</td>\n",
       "      <td>2.290739</td>\n",
       "      <td>2.191621</td>\n",
       "      <td>1.591052</td>\n",
       "      <td>1.409791</td>\n",
       "      <td>0.022583</td>\n",
       "    </tr>\n",
       "    <tr>\n",
       "      <th>min</th>\n",
       "      <td>-7.890000</td>\n",
       "      <td>-4.510000</td>\n",
       "      <td>-4.520000</td>\n",
       "      <td>-3.930000</td>\n",
       "      <td>-3.350000</td>\n",
       "      <td>0.000000</td>\n",
       "    </tr>\n",
       "    <tr>\n",
       "      <th>25%</th>\n",
       "      <td>-0.917500</td>\n",
       "      <td>-1.660000</td>\n",
       "      <td>-1.627500</td>\n",
       "      <td>-1.160000</td>\n",
       "      <td>-0.965000</td>\n",
       "      <td>0.000000</td>\n",
       "    </tr>\n",
       "    <tr>\n",
       "      <th>50%</th>\n",
       "      <td>1.235000</td>\n",
       "      <td>0.190000</td>\n",
       "      <td>-0.305000</td>\n",
       "      <td>0.135000</td>\n",
       "      <td>-0.015000</td>\n",
       "      <td>0.000000</td>\n",
       "    </tr>\n",
       "    <tr>\n",
       "      <th>75%</th>\n",
       "      <td>3.197500</td>\n",
       "      <td>1.517500</td>\n",
       "      <td>1.142500</td>\n",
       "      <td>1.140000</td>\n",
       "      <td>0.927500</td>\n",
       "      <td>0.010000</td>\n",
       "    </tr>\n",
       "    <tr>\n",
       "      <th>max</th>\n",
       "      <td>11.350000</td>\n",
       "      <td>6.800000</td>\n",
       "      <td>8.220000</td>\n",
       "      <td>3.530000</td>\n",
       "      <td>3.780000</td>\n",
       "      <td>0.090000</td>\n",
       "    </tr>\n",
       "  </tbody>\n",
       "</table>\n",
       "</div>"
      ],
      "text/plain": [
       "          Mkt-RF        SMB        HML        RMW        CMA         RF\n",
       "count  96.000000  96.000000  96.000000  96.000000  96.000000  96.000000\n",
       "mean    1.158750   0.054063  -0.051771   0.126042   0.052917   0.012604\n",
       "std     3.580187   2.290739   2.191621   1.591052   1.409791   0.022583\n",
       "min    -7.890000  -4.510000  -4.520000  -3.930000  -3.350000   0.000000\n",
       "25%    -0.917500  -1.660000  -1.627500  -1.160000  -0.965000   0.000000\n",
       "50%     1.235000   0.190000  -0.305000   0.135000  -0.015000   0.000000\n",
       "75%     3.197500   1.517500   1.142500   1.140000   0.927500   0.010000\n",
       "max    11.350000   6.800000   8.220000   3.530000   3.780000   0.090000"
      ]
     },
     "execution_count": 5,
     "metadata": {},
     "output_type": "execute_result"
    }
   ],
   "source": [
    "ff_factor_data.describe()"
   ]
  },
  {
   "cell_type": "code",
   "execution_count": 6,
   "metadata": {},
   "outputs": [
    {
     "data": {
      "text/plain": [
       "<AxesSubplot:xlabel='Date'>"
      ]
     },
     "execution_count": 6,
     "metadata": {},
     "output_type": "execute_result"
    },
    {
     "data": {
      "image/png": "[encoded data removed]",
      "text/plain": [
       "<Figure size 432x288 with 1 Axes>"
      ]
     },
     "metadata": {},
     "output_type": "display_data"
    }
   ],
   "source": [
    "(ff_factor_data/100 + 1).cumprod().plot()"
   ]
  },
  {
   "cell_type": "markdown",
   "metadata": {},
   "source": [
    "### Portfolios"
   ]
  },
  {
   "cell_type": "markdown",
   "metadata": {},
   "source": [
    "Fama and French also make available numerous portfolios that we can illustrate the estimation of the factor exposures, as well as the value of the risk premia available in the market for a given time period. We will use a panel of the 17 industry portfolios at a monthly frequency. \n",
    "\n",
    "We will subtract the risk-free rate from the returns because the factor model works with excess returns:"
   ]
  },
  {
   "cell_type": "code",
   "execution_count": 7,
   "metadata": {
    "ExecuteTime": {
     "end_time": "2021-04-15T19:55:14.483710Z",
     "start_time": "2021-04-15T19:55:13.388307Z"
    }
   },
   "outputs": [
    {
     "name": "stdout",
     "output_type": "stream",
     "text": [
      "<class 'pandas.core.frame.DataFrame'>\n",
      "PeriodIndex: 96 entries, 2010-01 to 2017-12\n",
      "Freq: M\n",
      "Data columns (total 17 columns):\n",
      " #   Column  Non-Null Count  Dtype  \n",
      "---  ------  --------------  -----  \n",
      " 0   Food    96 non-null     float64\n",
      " 1   Mines   96 non-null     float64\n",
      " 2   Oil     96 non-null     float64\n",
      " 3   Clths   96 non-null     float64\n",
      " 4   Durbl   96 non-null     float64\n",
      " 5   Chems   96 non-null     float64\n",
      " 6   Cnsum   96 non-null     float64\n",
      " 7   Cnstr   96 non-null     float64\n",
      " 8   Steel   96 non-null     float64\n",
      " 9   FabPr   96 non-null     float64\n",
      " 10  Machn   96 non-null     float64\n",
      " 11  Cars    96 non-null     float64\n",
      " 12  Trans   96 non-null     float64\n",
      " 13  Utils   96 non-null     float64\n",
      " 14  Rtail   96 non-null     float64\n",
      " 15  Finan   96 non-null     float64\n",
      " 16  Other   96 non-null     float64\n",
      "dtypes: float64(17)\n",
      "memory usage: 13.5 KB\n"
     ]
    }
   ],
   "source": [
    "ff_portfolio = '17_Industry_Portfolios'\n",
    "ff_portfolio_data = web.DataReader(ff_portfolio, 'famafrench', start='2010', end='2017-12')[0]\n",
    "ff_portfolio_data = ff_portfolio_data.sub(ff_factor_data.RF, axis=0)\n",
    "ff_portfolio_data.info()"
   ]
  },
  {
   "cell_type": "code",
   "execution_count": 8,
   "metadata": {},
   "outputs": [
    {
     "data": {
      "text/html": [
       "<div>\n",
       "<style scoped>\n",
       "    .dataframe tbody tr th:only-of-type {\n",
       "        vertical-align: middle;\n",
       "    }\n",
       "\n",
       "    .dataframe tbody tr th {\n",
       "        vertical-align: top;\n",
       "    }\n",
       "\n",
       "    .dataframe thead th {\n",
       "        text-align: right;\n",
       "    }\n",
       "</style>\n",
       "<table border=\"1\" class=\"dataframe\">\n",
       "  <thead>\n",
       "    <tr style=\"text-align: right;\">\n",
       "      <th></th>\n",
       "      <th>Food</th>\n",
       "      <th>Mines</th>\n",
       "      <th>Oil</th>\n",
       "      <th>Clths</th>\n",
       "      <th>Durbl</th>\n",
       "      <th>Chems</th>\n",
       "      <th>Cnsum</th>\n",
       "      <th>Cnstr</th>\n",
       "      <th>Steel</th>\n",
       "      <th>FabPr</th>\n",
       "      <th>Machn</th>\n",
       "      <th>Cars</th>\n",
       "      <th>Trans</th>\n",
       "      <th>Utils</th>\n",
       "      <th>Rtail</th>\n",
       "      <th>Finan</th>\n",
       "      <th>Other</th>\n",
       "    </tr>\n",
       "    <tr>\n",
       "      <th>Date</th>\n",
       "      <th></th>\n",
       "      <th></th>\n",
       "      <th></th>\n",
       "      <th></th>\n",
       "      <th></th>\n",
       "      <th></th>\n",
       "      <th></th>\n",
       "      <th></th>\n",
       "      <th></th>\n",
       "      <th></th>\n",
       "      <th></th>\n",
       "      <th></th>\n",
       "      <th></th>\n",
       "      <th></th>\n",
       "      <th></th>\n",
       "      <th></th>\n",
       "      <th></th>\n",
       "    </tr>\n",
       "  </thead>\n",
       "  <tbody>\n",
       "    <tr>\n",
       "      <th>2010-01</th>\n",
       "      <td>-2.06</td>\n",
       "      <td>-12.88</td>\n",
       "      <td>-4.66</td>\n",
       "      <td>-3.48</td>\n",
       "      <td>-3.51</td>\n",
       "      <td>-4.43</td>\n",
       "      <td>-0.44</td>\n",
       "      <td>-2.76</td>\n",
       "      <td>-11.92</td>\n",
       "      <td>-2.98</td>\n",
       "      <td>-7.30</td>\n",
       "      <td>-0.15</td>\n",
       "      <td>-2.13</td>\n",
       "      <td>-4.50</td>\n",
       "      <td>-1.30</td>\n",
       "      <td>-1.19</td>\n",
       "      <td>-4.81</td>\n",
       "    </tr>\n",
       "    <tr>\n",
       "      <th>2010-02</th>\n",
       "      <td>1.86</td>\n",
       "      <td>12.37</td>\n",
       "      <td>2.12</td>\n",
       "      <td>6.71</td>\n",
       "      <td>9.85</td>\n",
       "      <td>5.79</td>\n",
       "      <td>1.39</td>\n",
       "      <td>5.81</td>\n",
       "      <td>4.20</td>\n",
       "      <td>7.32</td>\n",
       "      <td>7.23</td>\n",
       "      <td>6.52</td>\n",
       "      <td>5.91</td>\n",
       "      <td>-0.43</td>\n",
       "      <td>3.70</td>\n",
       "      <td>2.72</td>\n",
       "      <td>2.49</td>\n",
       "    </tr>\n",
       "    <tr>\n",
       "      <th>2010-03</th>\n",
       "      <td>5.05</td>\n",
       "      <td>7.23</td>\n",
       "      <td>3.13</td>\n",
       "      <td>11.14</td>\n",
       "      <td>5.58</td>\n",
       "      <td>7.50</td>\n",
       "      <td>3.26</td>\n",
       "      <td>5.35</td>\n",
       "      <td>12.03</td>\n",
       "      <td>5.29</td>\n",
       "      <td>7.73</td>\n",
       "      <td>8.87</td>\n",
       "      <td>9.02</td>\n",
       "      <td>3.09</td>\n",
       "      <td>6.46</td>\n",
       "      <td>8.13</td>\n",
       "      <td>6.49</td>\n",
       "    </tr>\n",
       "    <tr>\n",
       "      <th>2010-04</th>\n",
       "      <td>-1.29</td>\n",
       "      <td>-0.85</td>\n",
       "      <td>3.82</td>\n",
       "      <td>4.74</td>\n",
       "      <td>6.84</td>\n",
       "      <td>2.48</td>\n",
       "      <td>-1.97</td>\n",
       "      <td>10.91</td>\n",
       "      <td>-2.64</td>\n",
       "      <td>3.43</td>\n",
       "      <td>4.77</td>\n",
       "      <td>6.75</td>\n",
       "      <td>3.18</td>\n",
       "      <td>2.85</td>\n",
       "      <td>1.35</td>\n",
       "      <td>0.94</td>\n",
       "      <td>1.75</td>\n",
       "    </tr>\n",
       "    <tr>\n",
       "      <th>2010-05</th>\n",
       "      <td>-4.82</td>\n",
       "      <td>-7.97</td>\n",
       "      <td>-10.61</td>\n",
       "      <td>-5.98</td>\n",
       "      <td>-5.51</td>\n",
       "      <td>-10.57</td>\n",
       "      <td>-6.28</td>\n",
       "      <td>-8.01</td>\n",
       "      <td>-7.02</td>\n",
       "      <td>-9.00</td>\n",
       "      <td>-8.06</td>\n",
       "      <td>-6.89</td>\n",
       "      <td>-7.65</td>\n",
       "      <td>-6.32</td>\n",
       "      <td>-5.72</td>\n",
       "      <td>-9.15</td>\n",
       "      <td>-7.92</td>\n",
       "    </tr>\n",
       "    <tr>\n",
       "      <th>...</th>\n",
       "      <td>...</td>\n",
       "      <td>...</td>\n",
       "      <td>...</td>\n",
       "      <td>...</td>\n",
       "      <td>...</td>\n",
       "      <td>...</td>\n",
       "      <td>...</td>\n",
       "      <td>...</td>\n",
       "      <td>...</td>\n",
       "      <td>...</td>\n",
       "      <td>...</td>\n",
       "      <td>...</td>\n",
       "      <td>...</td>\n",
       "      <td>...</td>\n",
       "      <td>...</td>\n",
       "      <td>...</td>\n",
       "      <td>...</td>\n",
       "    </tr>\n",
       "    <tr>\n",
       "      <th>2017-08</th>\n",
       "      <td>-1.86</td>\n",
       "      <td>0.59</td>\n",
       "      <td>-5.29</td>\n",
       "      <td>-4.70</td>\n",
       "      <td>-3.87</td>\n",
       "      <td>1.49</td>\n",
       "      <td>-0.01</td>\n",
       "      <td>-0.45</td>\n",
       "      <td>1.56</td>\n",
       "      <td>-1.53</td>\n",
       "      <td>1.10</td>\n",
       "      <td>0.69</td>\n",
       "      <td>1.51</td>\n",
       "      <td>2.06</td>\n",
       "      <td>-1.43</td>\n",
       "      <td>-1.32</td>\n",
       "      <td>1.59</td>\n",
       "    </tr>\n",
       "    <tr>\n",
       "      <th>2017-09</th>\n",
       "      <td>-0.28</td>\n",
       "      <td>-1.15</td>\n",
       "      <td>11.08</td>\n",
       "      <td>0.94</td>\n",
       "      <td>4.56</td>\n",
       "      <td>6.92</td>\n",
       "      <td>0.19</td>\n",
       "      <td>7.73</td>\n",
       "      <td>3.63</td>\n",
       "      <td>7.29</td>\n",
       "      <td>5.30</td>\n",
       "      <td>7.44</td>\n",
       "      <td>4.69</td>\n",
       "      <td>-2.02</td>\n",
       "      <td>0.74</td>\n",
       "      <td>5.05</td>\n",
       "      <td>0.15</td>\n",
       "    </tr>\n",
       "    <tr>\n",
       "      <th>2017-10</th>\n",
       "      <td>0.90</td>\n",
       "      <td>1.35</td>\n",
       "      <td>0.08</td>\n",
       "      <td>3.15</td>\n",
       "      <td>-1.72</td>\n",
       "      <td>4.70</td>\n",
       "      <td>-3.88</td>\n",
       "      <td>3.93</td>\n",
       "      <td>2.14</td>\n",
       "      <td>1.63</td>\n",
       "      <td>5.97</td>\n",
       "      <td>1.08</td>\n",
       "      <td>-0.34</td>\n",
       "      <td>2.96</td>\n",
       "      <td>3.86</td>\n",
       "      <td>3.19</td>\n",
       "      <td>2.44</td>\n",
       "    </tr>\n",
       "    <tr>\n",
       "      <th>2017-11</th>\n",
       "      <td>4.19</td>\n",
       "      <td>0.77</td>\n",
       "      <td>2.81</td>\n",
       "      <td>7.37</td>\n",
       "      <td>3.56</td>\n",
       "      <td>2.34</td>\n",
       "      <td>2.57</td>\n",
       "      <td>6.88</td>\n",
       "      <td>-1.46</td>\n",
       "      <td>0.36</td>\n",
       "      <td>2.37</td>\n",
       "      <td>2.51</td>\n",
       "      <td>5.47</td>\n",
       "      <td>2.30</td>\n",
       "      <td>8.72</td>\n",
       "      <td>3.71</td>\n",
       "      <td>1.64</td>\n",
       "    </tr>\n",
       "    <tr>\n",
       "      <th>2017-12</th>\n",
       "      <td>1.18</td>\n",
       "      <td>11.24</td>\n",
       "      <td>5.06</td>\n",
       "      <td>3.81</td>\n",
       "      <td>-2.19</td>\n",
       "      <td>0.42</td>\n",
       "      <td>1.65</td>\n",
       "      <td>3.83</td>\n",
       "      <td>13.10</td>\n",
       "      <td>0.51</td>\n",
       "      <td>0.03</td>\n",
       "      <td>-0.60</td>\n",
       "      <td>2.93</td>\n",
       "      <td>-5.05</td>\n",
       "      <td>1.44</td>\n",
       "      <td>0.89</td>\n",
       "      <td>0.68</td>\n",
       "    </tr>\n",
       "  </tbody>\n",
       "</table>\n",
       "<p>96 rows × 17 columns</p>\n",
       "</div>"
      ],
      "text/plain": [
       "         Food   Mines  Oil    Clths  Durbl  Chems  Cnsum  Cnstr  Steel  FabPr  \\\n",
       "Date                                                                            \n",
       "2010-01  -2.06 -12.88  -4.66  -3.48  -3.51  -4.43  -0.44  -2.76 -11.92  -2.98   \n",
       "2010-02   1.86  12.37   2.12   6.71   9.85   5.79   1.39   5.81   4.20   7.32   \n",
       "2010-03   5.05   7.23   3.13  11.14   5.58   7.50   3.26   5.35  12.03   5.29   \n",
       "2010-04  -1.29  -0.85   3.82   4.74   6.84   2.48  -1.97  10.91  -2.64   3.43   \n",
       "2010-05  -4.82  -7.97 -10.61  -5.98  -5.51 -10.57  -6.28  -8.01  -7.02  -9.00   \n",
       "...        ...    ...    ...    ...    ...    ...    ...    ...    ...    ...   \n",
       "2017-08  -1.86   0.59  -5.29  -4.70  -3.87   1.49  -0.01  -0.45   1.56  -1.53   \n",
       "2017-09  -0.28  -1.15  11.08   0.94   4.56   6.92   0.19   7.73   3.63   7.29   \n",
       "2017-10   0.90   1.35   0.08   3.15  -1.72   4.70  -3.88   3.93   2.14   1.63   \n",
       "2017-11   4.19   0.77   2.81   7.37   3.56   2.34   2.57   6.88  -1.46   0.36   \n",
       "2017-12   1.18  11.24   5.06   3.81  -2.19   0.42   1.65   3.83  13.10   0.51   \n",
       "\n",
       "         Machn  Cars   Trans  Utils  Rtail  Finan  Other  \n",
       "Date                                                      \n",
       "2010-01  -7.30  -0.15  -2.13  -4.50  -1.30  -1.19  -4.81  \n",
       "2010-02   7.23   6.52   5.91  -0.43   3.70   2.72   2.49  \n",
       "2010-03   7.73   8.87   9.02   3.09   6.46   8.13   6.49  \n",
       "2010-04   4.77   6.75   3.18   2.85   1.35   0.94   1.75  \n",
       "2010-05  -8.06  -6.89  -7.65  -6.32  -5.72  -9.15  -7.92  \n",
       "...        ...    ...    ...    ...    ...    ...    ...  \n",
       "2017-08   1.10   0.69   1.51   2.06  -1.43  -1.32   1.59  \n",
       "2017-09   5.30   7.44   4.69  -2.02   0.74   5.05   0.15  \n",
       "2017-10   5.97   1.08  -0.34   2.96   3.86   3.19   2.44  \n",
       "2017-11   2.37   2.51   5.47   2.30   8.72   3.71   1.64  \n",
       "2017-12   0.03  -0.60   2.93  -5.05   1.44   0.89   0.68  \n",
       "\n",
       "[96 rows x 17 columns]"
      ]
     },
     "execution_count": 8,
     "metadata": {},
     "output_type": "execute_result"
    }
   ],
   "source": [
    "ff_portfolio_data"
   ]
  },
  {
   "cell_type": "code",
   "execution_count": 34,
   "metadata": {
    "ExecuteTime": {
     "end_time": "2021-04-15T19:55:14.519355Z",
     "start_time": "2021-04-15T19:55:14.484749Z"
    }
   },
   "outputs": [
    {
     "data": {
      "text/html": [
       "<div>\n",
       "<style scoped>\n",
       "    .dataframe tbody tr th:only-of-type {\n",
       "        vertical-align: middle;\n",
       "    }\n",
       "\n",
       "    .dataframe tbody tr th {\n",
       "        vertical-align: top;\n",
       "    }\n",
       "\n",
       "    .dataframe thead th {\n",
       "        text-align: right;\n",
       "    }\n",
       "</style>\n",
       "<table border=\"1\" class=\"dataframe\">\n",
       "  <thead>\n",
       "    <tr style=\"text-align: right;\">\n",
       "      <th></th>\n",
       "      <th>Food</th>\n",
       "      <th>Mines</th>\n",
       "      <th>Oil</th>\n",
       "      <th>Clths</th>\n",
       "      <th>Durbl</th>\n",
       "      <th>Chems</th>\n",
       "      <th>Cnsum</th>\n",
       "      <th>Cnstr</th>\n",
       "      <th>Steel</th>\n",
       "      <th>FabPr</th>\n",
       "      <th>Machn</th>\n",
       "      <th>Cars</th>\n",
       "      <th>Trans</th>\n",
       "      <th>Utils</th>\n",
       "      <th>Rtail</th>\n",
       "      <th>Finan</th>\n",
       "      <th>Other</th>\n",
       "    </tr>\n",
       "  </thead>\n",
       "  <tbody>\n",
       "    <tr>\n",
       "      <th>count</th>\n",
       "      <td>96.000000</td>\n",
       "      <td>96.000000</td>\n",
       "      <td>96.000000</td>\n",
       "      <td>96.000000</td>\n",
       "      <td>96.000000</td>\n",
       "      <td>96.000000</td>\n",
       "      <td>96.000000</td>\n",
       "      <td>96.000000</td>\n",
       "      <td>96.000000</td>\n",
       "      <td>96.000000</td>\n",
       "      <td>96.000000</td>\n",
       "      <td>96.000000</td>\n",
       "      <td>96.000000</td>\n",
       "      <td>96.000000</td>\n",
       "      <td>96.000000</td>\n",
       "      <td>96.000000</td>\n",
       "      <td>96.000000</td>\n",
       "    </tr>\n",
       "    <tr>\n",
       "      <th>mean</th>\n",
       "      <td>1.045625</td>\n",
       "      <td>0.197083</td>\n",
       "      <td>0.547917</td>\n",
       "      <td>1.396979</td>\n",
       "      <td>1.155208</td>\n",
       "      <td>1.303229</td>\n",
       "      <td>1.136250</td>\n",
       "      <td>1.731354</td>\n",
       "      <td>0.555625</td>\n",
       "      <td>1.350521</td>\n",
       "      <td>1.227604</td>\n",
       "      <td>1.278854</td>\n",
       "      <td>1.465000</td>\n",
       "      <td>0.890313</td>\n",
       "      <td>1.234375</td>\n",
       "      <td>1.241562</td>\n",
       "      <td>1.282396</td>\n",
       "    </tr>\n",
       "    <tr>\n",
       "      <th>std</th>\n",
       "      <td>2.795857</td>\n",
       "      <td>7.902185</td>\n",
       "      <td>5.577552</td>\n",
       "      <td>5.025167</td>\n",
       "      <td>5.137482</td>\n",
       "      <td>5.594216</td>\n",
       "      <td>3.174283</td>\n",
       "      <td>5.246518</td>\n",
       "      <td>7.389824</td>\n",
       "      <td>4.694408</td>\n",
       "      <td>4.811242</td>\n",
       "      <td>5.718887</td>\n",
       "      <td>4.150833</td>\n",
       "      <td>3.235140</td>\n",
       "      <td>3.508655</td>\n",
       "      <td>4.809791</td>\n",
       "      <td>3.708972</td>\n",
       "    </tr>\n",
       "    <tr>\n",
       "      <th>min</th>\n",
       "      <td>-5.170000</td>\n",
       "      <td>-24.380000</td>\n",
       "      <td>-12.010000</td>\n",
       "      <td>-10.000000</td>\n",
       "      <td>-13.210000</td>\n",
       "      <td>-17.390000</td>\n",
       "      <td>-7.300000</td>\n",
       "      <td>-13.960000</td>\n",
       "      <td>-20.490000</td>\n",
       "      <td>-11.960000</td>\n",
       "      <td>-9.080000</td>\n",
       "      <td>-11.650000</td>\n",
       "      <td>-8.560000</td>\n",
       "      <td>-6.990000</td>\n",
       "      <td>-9.180000</td>\n",
       "      <td>-11.040000</td>\n",
       "      <td>-7.920000</td>\n",
       "    </tr>\n",
       "    <tr>\n",
       "      <th>25%</th>\n",
       "      <td>-0.785000</td>\n",
       "      <td>-5.847500</td>\n",
       "      <td>-3.167500</td>\n",
       "      <td>-1.865000</td>\n",
       "      <td>-2.017500</td>\n",
       "      <td>-1.445000</td>\n",
       "      <td>-0.920000</td>\n",
       "      <td>-2.462500</td>\n",
       "      <td>-4.410000</td>\n",
       "      <td>-1.447500</td>\n",
       "      <td>-2.047500</td>\n",
       "      <td>-1.245000</td>\n",
       "      <td>-0.880000</td>\n",
       "      <td>-0.745000</td>\n",
       "      <td>-0.962500</td>\n",
       "      <td>-1.467500</td>\n",
       "      <td>-1.075000</td>\n",
       "    </tr>\n",
       "    <tr>\n",
       "      <th>50%</th>\n",
       "      <td>0.930000</td>\n",
       "      <td>-0.460000</td>\n",
       "      <td>1.040000</td>\n",
       "      <td>1.160000</td>\n",
       "      <td>1.205000</td>\n",
       "      <td>1.435000</td>\n",
       "      <td>1.470000</td>\n",
       "      <td>2.190000</td>\n",
       "      <td>0.660000</td>\n",
       "      <td>1.485000</td>\n",
       "      <td>1.545000</td>\n",
       "      <td>0.645000</td>\n",
       "      <td>1.505000</td>\n",
       "      <td>1.215000</td>\n",
       "      <td>0.880000</td>\n",
       "      <td>1.955000</td>\n",
       "      <td>1.575000</td>\n",
       "    </tr>\n",
       "    <tr>\n",
       "      <th>75%</th>\n",
       "      <td>3.187500</td>\n",
       "      <td>5.715000</td>\n",
       "      <td>3.915000</td>\n",
       "      <td>3.857500</td>\n",
       "      <td>4.322500</td>\n",
       "      <td>4.442500</td>\n",
       "      <td>3.317500</td>\n",
       "      <td>5.390000</td>\n",
       "      <td>4.220000</td>\n",
       "      <td>3.837500</td>\n",
       "      <td>4.657500</td>\n",
       "      <td>4.802500</td>\n",
       "      <td>4.235000</td>\n",
       "      <td>2.952500</td>\n",
       "      <td>3.355000</td>\n",
       "      <td>4.092500</td>\n",
       "      <td>3.517500</td>\n",
       "    </tr>\n",
       "    <tr>\n",
       "      <th>max</th>\n",
       "      <td>6.670000</td>\n",
       "      <td>21.920000</td>\n",
       "      <td>16.300000</td>\n",
       "      <td>17.200000</td>\n",
       "      <td>16.580000</td>\n",
       "      <td>18.370000</td>\n",
       "      <td>8.290000</td>\n",
       "      <td>15.550000</td>\n",
       "      <td>21.350000</td>\n",
       "      <td>17.660000</td>\n",
       "      <td>14.650000</td>\n",
       "      <td>20.860000</td>\n",
       "      <td>13.160000</td>\n",
       "      <td>7.900000</td>\n",
       "      <td>12.360000</td>\n",
       "      <td>13.480000</td>\n",
       "      <td>10.790000</td>\n",
       "    </tr>\n",
       "  </tbody>\n",
       "</table>\n",
       "</div>"
      ],
      "text/plain": [
       "           Food       Mines      Oil        Clths      Durbl      Chems  \\\n",
       "count  96.000000  96.000000  96.000000  96.000000  96.000000  96.000000   \n",
       "mean    1.045625   0.197083   0.547917   1.396979   1.155208   1.303229   \n",
       "std     2.795857   7.902185   5.577552   5.025167   5.137482   5.594216   \n",
       "min    -5.170000 -24.380000 -12.010000 -10.000000 -13.210000 -17.390000   \n",
       "25%    -0.785000  -5.847500  -3.167500  -1.865000  -2.017500  -1.445000   \n",
       "50%     0.930000  -0.460000   1.040000   1.160000   1.205000   1.435000   \n",
       "75%     3.187500   5.715000   3.915000   3.857500   4.322500   4.442500   \n",
       "max     6.670000  21.920000  16.300000  17.200000  16.580000  18.370000   \n",
       "\n",
       "           Cnsum      Cnstr      Steel      FabPr      Machn      Cars   \\\n",
       "count  96.000000  96.000000  96.000000  96.000000  96.000000  96.000000   \n",
       "mean    1.136250   1.731354   0.555625   1.350521   1.227604   1.278854   \n",
       "std     3.174283   5.246518   7.389824   4.694408   4.811242   5.718887   \n",
       "min    -7.300000 -13.960000 -20.490000 -11.960000  -9.080000 -11.650000   \n",
       "25%    -0.920000  -2.462500  -4.410000  -1.447500  -2.047500  -1.245000   \n",
       "50%     1.470000   2.190000   0.660000   1.485000   1.545000   0.645000   \n",
       "75%     3.317500   5.390000   4.220000   3.837500   4.657500   4.802500   \n",
       "max     8.290000  15.550000  21.350000  17.660000  14.650000  20.860000   \n",
       "\n",
       "           Trans      Utils      Rtail      Finan      Other  \n",
       "count  96.000000  96.000000  96.000000  96.000000  96.000000  \n",
       "mean    1.465000   0.890313   1.234375   1.241562   1.282396  \n",
       "std     4.150833   3.235140   3.508655   4.809791   3.708972  \n",
       "min    -8.560000  -6.990000  -9.180000 -11.040000  -7.920000  \n",
       "25%    -0.880000  -0.745000  -0.962500  -1.467500  -1.075000  \n",
       "50%     1.505000   1.215000   0.880000   1.955000   1.575000  \n",
       "75%     4.235000   2.952500   3.355000   4.092500   3.517500  \n",
       "max    13.160000   7.900000  12.360000  13.480000  10.790000  "
      ]
     },
     "execution_count": 34,
     "metadata": {},
     "output_type": "execute_result"
    }
   ],
   "source": [
    "ff_portfolio_data.describe()"
   ]
  },
  {
   "cell_type": "markdown",
   "metadata": {},
   "source": [
    "### Equity Data"
   ]
  },
  {
   "cell_type": "code",
   "execution_count": 35,
   "metadata": {
    "ExecuteTime": {
     "end_time": "2021-04-15T19:55:20.200618Z",
     "start_time": "2021-04-15T19:55:14.520935Z"
    }
   },
   "outputs": [],
   "source": [
    "with pd.HDFStore('../data/assets.h5') as store:\n",
    "    prices = store['/quandl/wiki/prices'].adj_close.unstack().loc['2010':'2017']\n",
    "    equities = store['/us_equities/stocks'].drop_duplicates()"
   ]
  },
  {
   "cell_type": "code",
   "execution_count": 36,
   "metadata": {
    "ExecuteTime": {
     "end_time": "2021-04-15T19:55:20.245270Z",
     "start_time": "2021-04-15T19:55:20.201602Z"
    }
   },
   "outputs": [],
   "source": [
    "sectors = equities.filter(prices.columns, axis=0).sector.to_dict()\n",
    "prices = prices.filter(sectors.keys()).dropna(how='all', axis=1)"
   ]
  },
  {
   "cell_type": "code",
   "execution_count": 37,
   "metadata": {
    "ExecuteTime": {
     "end_time": "2021-04-15T19:55:20.330305Z",
     "start_time": "2021-04-15T19:55:20.246605Z"
    }
   },
   "outputs": [
    {
     "name": "stdout",
     "output_type": "stream",
     "text": [
      "<class 'pandas.core.frame.DataFrame'>\n",
      "PeriodIndex: 95 entries, 2010-02 to 2017-12\n",
      "Freq: M\n",
      "Columns: 1818 entries, A to UFI\n",
      "dtypes: float64(1818)\n",
      "memory usage: 1.3 MB\n"
     ]
    }
   ],
   "source": [
    "returns = prices.resample('M').last().pct_change().mul(100).to_period('M')\n",
    "returns = returns.dropna(how='all').dropna(axis=1)\n",
    "returns.info()"
   ]
  },
  {
   "cell_type": "markdown",
   "metadata": {},
   "source": [
    "### Align data"
   ]
  },
  {
   "cell_type": "code",
   "execution_count": 38,
   "metadata": {
    "ExecuteTime": {
     "end_time": "2021-04-15T19:55:20.336370Z",
     "start_time": "2021-04-15T19:55:20.332866Z"
    }
   },
   "outputs": [],
   "source": [
    "ff_factor_data = ff_factor_data.loc[returns.index]\n",
    "ff_portfolio_data = ff_portfolio_data.loc[returns.index]"
   ]
  },
  {
   "cell_type": "code",
   "execution_count": 39,
   "metadata": {
    "ExecuteTime": {
     "end_time": "2021-04-15T19:55:20.370190Z",
     "start_time": "2021-04-15T19:55:20.338297Z"
    }
   },
   "outputs": [
    {
     "data": {
      "text/html": [
       "<div>\n",
       "<style scoped>\n",
       "    .dataframe tbody tr th:only-of-type {\n",
       "        vertical-align: middle;\n",
       "    }\n",
       "\n",
       "    .dataframe tbody tr th {\n",
       "        vertical-align: top;\n",
       "    }\n",
       "\n",
       "    .dataframe thead th {\n",
       "        text-align: right;\n",
       "    }\n",
       "</style>\n",
       "<table border=\"1\" class=\"dataframe\">\n",
       "  <thead>\n",
       "    <tr style=\"text-align: right;\">\n",
       "      <th></th>\n",
       "      <th>Mkt-RF</th>\n",
       "      <th>SMB</th>\n",
       "      <th>HML</th>\n",
       "      <th>RMW</th>\n",
       "      <th>CMA</th>\n",
       "      <th>RF</th>\n",
       "    </tr>\n",
       "  </thead>\n",
       "  <tbody>\n",
       "    <tr>\n",
       "      <th>count</th>\n",
       "      <td>95.000000</td>\n",
       "      <td>95.000000</td>\n",
       "      <td>95.000000</td>\n",
       "      <td>95.000000</td>\n",
       "      <td>95.000000</td>\n",
       "      <td>95.000000</td>\n",
       "    </tr>\n",
       "    <tr>\n",
       "      <th>mean</th>\n",
       "      <td>1.206316</td>\n",
       "      <td>0.051053</td>\n",
       "      <td>-0.055789</td>\n",
       "      <td>0.139789</td>\n",
       "      <td>0.048842</td>\n",
       "      <td>0.012737</td>\n",
       "    </tr>\n",
       "    <tr>\n",
       "      <th>std</th>\n",
       "      <td>3.568555</td>\n",
       "      <td>2.302701</td>\n",
       "      <td>2.202892</td>\n",
       "      <td>1.593750</td>\n",
       "      <td>1.416798</td>\n",
       "      <td>0.022665</td>\n",
       "    </tr>\n",
       "    <tr>\n",
       "      <th>min</th>\n",
       "      <td>-7.890000</td>\n",
       "      <td>-4.510000</td>\n",
       "      <td>-4.520000</td>\n",
       "      <td>-3.930000</td>\n",
       "      <td>-3.350000</td>\n",
       "      <td>0.000000</td>\n",
       "    </tr>\n",
       "    <tr>\n",
       "      <th>25%</th>\n",
       "      <td>-0.565000</td>\n",
       "      <td>-1.670000</td>\n",
       "      <td>-1.655000</td>\n",
       "      <td>-0.965000</td>\n",
       "      <td>-0.990000</td>\n",
       "      <td>0.000000</td>\n",
       "    </tr>\n",
       "    <tr>\n",
       "      <th>50%</th>\n",
       "      <td>1.290000</td>\n",
       "      <td>0.150000</td>\n",
       "      <td>-0.360000</td>\n",
       "      <td>0.140000</td>\n",
       "      <td>-0.020000</td>\n",
       "      <td>0.000000</td>\n",
       "    </tr>\n",
       "    <tr>\n",
       "      <th>75%</th>\n",
       "      <td>3.265000</td>\n",
       "      <td>1.555000</td>\n",
       "      <td>1.165000</td>\n",
       "      <td>1.140000</td>\n",
       "      <td>0.935000</td>\n",
       "      <td>0.010000</td>\n",
       "    </tr>\n",
       "    <tr>\n",
       "      <th>max</th>\n",
       "      <td>11.350000</td>\n",
       "      <td>6.800000</td>\n",
       "      <td>8.220000</td>\n",
       "      <td>3.530000</td>\n",
       "      <td>3.780000</td>\n",
       "      <td>0.090000</td>\n",
       "    </tr>\n",
       "  </tbody>\n",
       "</table>\n",
       "</div>"
      ],
      "text/plain": [
       "          Mkt-RF        SMB        HML        RMW        CMA         RF\n",
       "count  95.000000  95.000000  95.000000  95.000000  95.000000  95.000000\n",
       "mean    1.206316   0.051053  -0.055789   0.139789   0.048842   0.012737\n",
       "std     3.568555   2.302701   2.202892   1.593750   1.416798   0.022665\n",
       "min    -7.890000  -4.510000  -4.520000  -3.930000  -3.350000   0.000000\n",
       "25%    -0.565000  -1.670000  -1.655000  -0.965000  -0.990000   0.000000\n",
       "50%     1.290000   0.150000  -0.360000   0.140000  -0.020000   0.000000\n",
       "75%     3.265000   1.555000   1.165000   1.140000   0.935000   0.010000\n",
       "max    11.350000   6.800000   8.220000   3.530000   3.780000   0.090000"
      ]
     },
     "execution_count": 39,
     "metadata": {},
     "output_type": "execute_result"
    }
   ],
   "source": [
    "ff_factor_data.describe()"
   ]
  },
  {
   "cell_type": "markdown",
   "metadata": {},
   "source": [
    "### Compute excess Returns"
   ]
  },
  {
   "cell_type": "code",
   "execution_count": 40,
   "metadata": {
    "ExecuteTime": {
     "end_time": "2021-04-15T19:55:20.493870Z",
     "start_time": "2021-04-15T19:55:20.371460Z"
    }
   },
   "outputs": [
    {
     "name": "stdout",
     "output_type": "stream",
     "text": [
      "<class 'pandas.core.frame.DataFrame'>\n",
      "PeriodIndex: 95 entries, 2010-02 to 2017-12\n",
      "Freq: M\n",
      "Columns: 1818 entries, A to UFI\n",
      "dtypes: float64(1818)\n",
      "memory usage: 1.3 MB\n"
     ]
    }
   ],
   "source": [
    "excess_returns = returns.sub(ff_factor_data.RF, axis=0)\n",
    "excess_returns.info()"
   ]
  },
  {
   "cell_type": "code",
   "execution_count": 41,
   "metadata": {
    "ExecuteTime": {
     "end_time": "2021-04-15T19:55:20.510527Z",
     "start_time": "2021-04-15T19:55:20.495111Z"
    }
   },
   "outputs": [],
   "source": [
    "excess_returns = excess_returns.clip(lower=np.percentile(excess_returns, 1),\n",
    "                                     upper=np.percentile(excess_returns, 99))"
   ]
  },
  {
   "cell_type": "markdown",
   "metadata": {},
   "source": [
    "## Fama-Macbeth Regression"
   ]
  },
  {
   "cell_type": "markdown",
   "metadata": {},
   "source": [
    "Given data on risk factors and portfolio returns, it is useful to estimate the portfolio's exposure, that is, how much the risk factors drive portfolio returns, as well as how much the exposure to a given factor is worth, that is, the what market's risk factor premium is. The risk premium then permits to estimate the return for any portfolio provided the factor exposure is known or can be assumed."
   ]
  },
  {
   "cell_type": "code",
   "execution_count": 42,
   "metadata": {
    "ExecuteTime": {
     "end_time": "2021-04-15T19:55:20.520870Z",
     "start_time": "2021-04-15T19:55:20.511704Z"
    }
   },
   "outputs": [
    {
     "name": "stdout",
     "output_type": "stream",
     "text": [
      "<class 'pandas.core.frame.DataFrame'>\n",
      "PeriodIndex: 95 entries, 2010-02 to 2017-12\n",
      "Freq: M\n",
      "Data columns (total 17 columns):\n",
      " #   Column  Non-Null Count  Dtype  \n",
      "---  ------  --------------  -----  \n",
      " 0   Food    95 non-null     float64\n",
      " 1   Mines   95 non-null     float64\n",
      " 2   Oil     95 non-null     float64\n",
      " 3   Clths   95 non-null     float64\n",
      " 4   Durbl   95 non-null     float64\n",
      " 5   Chems   95 non-null     float64\n",
      " 6   Cnsum   95 non-null     float64\n",
      " 7   Cnstr   95 non-null     float64\n",
      " 8   Steel   95 non-null     float64\n",
      " 9   FabPr   95 non-null     float64\n",
      " 10  Machn   95 non-null     float64\n",
      " 11  Cars    95 non-null     float64\n",
      " 12  Trans   95 non-null     float64\n",
      " 13  Utils   95 non-null     float64\n",
      " 14  Rtail   95 non-null     float64\n",
      " 15  Finan   95 non-null     float64\n",
      " 16  Other   95 non-null     float64\n",
      "dtypes: float64(17)\n",
      "memory usage: 13.4 KB\n"
     ]
    }
   ],
   "source": [
    "ff_portfolio_data.info()"
   ]
  },
  {
   "cell_type": "code",
   "execution_count": 43,
   "metadata": {
    "ExecuteTime": {
     "end_time": "2021-04-15T19:55:20.538124Z",
     "start_time": "2021-04-15T19:55:20.521998Z"
    }
   },
   "outputs": [
    {
     "name": "stdout",
     "output_type": "stream",
     "text": [
      "<class 'pandas.core.frame.DataFrame'>\n",
      "PeriodIndex: 95 entries, 2010-02 to 2017-12\n",
      "Freq: M\n",
      "Data columns (total 5 columns):\n",
      " #   Column  Non-Null Count  Dtype  \n",
      "---  ------  --------------  -----  \n",
      " 0   Mkt-RF  95 non-null     float64\n",
      " 1   SMB     95 non-null     float64\n",
      " 2   HML     95 non-null     float64\n",
      " 3   RMW     95 non-null     float64\n",
      " 4   CMA     95 non-null     float64\n",
      "dtypes: float64(5)\n",
      "memory usage: 4.5 KB\n"
     ]
    }
   ],
   "source": [
    "ff_factor_data = ff_factor_data.drop('RF', axis=1)\n",
    "ff_factor_data.info()"
   ]
  },
  {
   "cell_type": "markdown",
   "metadata": {},
   "source": [
    "To address the inference problem caused by the correlation of the residuals, Fama and MacBeth proposed a two-step methodology for a cross-sectional regression of returns on factors. The two-stage Fama—Macbeth regression is designed to estimate the premium rewarded for the exposure to a particular risk factor by the market. The two stages consist of:\n",
    "\n",
    "- First stage: N time-series regression, one for each asset or portfolio, of its excess returns on the factors to estimate the factor loadings.\n",
    "\n",
    "- Second stage: T cross-sectional regression, one for each time period, to estimate the risk premium.\n",
    "\n",
    "See corresponding section in Chapter 7 of [Machine Learning for Trading](https://www.amazon.com/Hands-Machine-Learning-Algorithmic-Trading-ebook/dp/B07JLFH7C5/ref=sr_1_2?ie=UTF8&qid=1548455634&sr=8-2&keywords=machine+learning+algorithmic+trading) for details."
   ]
  },
  {
   "cell_type": "markdown",
   "metadata": {},
   "source": [
    "Now we can compute the factor risk premia as the time average and get t-statistic to assess their individual significance, using the assumption that the risk premia estimates are independent over time.\n",
    "\n",
    "If we had a very large and representative data sample on traded risk factors we could use the sample mean as a risk premium estimate. However, we typically do not have a sufficiently long history to and the margin of error around the sample mean could be quite large. \n",
    "\n",
    "The Fama—Macbeth methodology leverages the covariance of the factors with other assets to determine the factor premia. The second moment of asset returns is easier to estimate than the first moment, and obtaining more granular data improves estimation considerably, which is not true of mean estimation."
   ]
  },
  {
   "cell_type": "markdown",
   "metadata": {},
   "source": [
    "### Step 1: Factor Exposures"
   ]
  },
  {
   "cell_type": "markdown",
   "metadata": {},
   "source": [
    "We can implement the first stage to obtain the 17 factor loading estimates as follows:"
   ]
  },
  {
   "cell_type": "code",
   "execution_count": 44,
   "metadata": {
    "ExecuteTime": {
     "end_time": "2021-04-15T19:55:20.643488Z",
     "start_time": "2021-04-15T19:55:20.539304Z"
    }
   },
   "outputs": [],
   "source": [
    "betas = []\n",
    "for industry in ff_portfolio_data:\n",
    "    step1 = OLS(endog=ff_portfolio_data.loc[ff_factor_data.index, industry], \n",
    "                exog=add_constant(ff_factor_data)).fit()\n",
    "    betas.append(step1.params.drop('const'))"
   ]
  },
  {
   "cell_type": "code",
   "execution_count": 45,
   "metadata": {
    "ExecuteTime": {
     "end_time": "2021-04-15T19:55:20.658189Z",
     "start_time": "2021-04-15T19:55:20.646568Z"
    }
   },
   "outputs": [
    {
     "name": "stdout",
     "output_type": "stream",
     "text": [
      "<class 'pandas.core.frame.DataFrame'>\n",
      "Index: 17 entries, Food  to Other\n",
      "Data columns (total 5 columns):\n",
      " #   Column  Non-Null Count  Dtype  \n",
      "---  ------  --------------  -----  \n",
      " 0   Mkt-RF  17 non-null     float64\n",
      " 1   SMB     17 non-null     float64\n",
      " 2   HML     17 non-null     float64\n",
      " 3   RMW     17 non-null     float64\n",
      " 4   CMA     17 non-null     float64\n",
      "dtypes: float64(5)\n",
      "memory usage: 1.3+ KB\n"
     ]
    }
   ],
   "source": [
    "betas = pd.DataFrame(betas, \n",
    "                     columns=ff_factor_data.columns, \n",
    "                     index=ff_portfolio_data.columns)\n",
    "betas.info()"
   ]
  },
  {
   "cell_type": "markdown",
   "metadata": {},
   "source": [
    "### Step 2: Risk Premia"
   ]
  },
  {
   "cell_type": "markdown",
   "metadata": {},
   "source": [
    "For the second stage, we run 96 regressions of the period returns for the cross section of portfolios on the factor loadings"
   ]
  },
  {
   "cell_type": "code",
   "execution_count": 46,
   "metadata": {
    "ExecuteTime": {
     "end_time": "2021-04-15T19:55:20.759883Z",
     "start_time": "2021-04-15T19:55:20.659165Z"
    }
   },
   "outputs": [],
   "source": [
    "lambdas = []\n",
    "for period in ff_portfolio_data.index:\n",
    "    step2 = OLS(endog=ff_portfolio_data.loc[period, betas.index], \n",
    "                exog=betas).fit()\n",
    "    lambdas.append(step2.params)"
   ]
  },
  {
   "cell_type": "code",
   "execution_count": 47,
   "metadata": {
    "ExecuteTime": {
     "end_time": "2021-04-15T19:55:20.780931Z",
     "start_time": "2021-04-15T19:55:20.760976Z"
    }
   },
   "outputs": [
    {
     "name": "stdout",
     "output_type": "stream",
     "text": [
      "<class 'pandas.core.frame.DataFrame'>\n",
      "PeriodIndex: 95 entries, 2010-02 to 2017-12\n",
      "Freq: M\n",
      "Data columns (total 5 columns):\n",
      " #   Column  Non-Null Count  Dtype  \n",
      "---  ------  --------------  -----  \n",
      " 0   Mkt-RF  95 non-null     float64\n",
      " 1   SMB     95 non-null     float64\n",
      " 2   HML     95 non-null     float64\n",
      " 3   RMW     95 non-null     float64\n",
      " 4   CMA     95 non-null     float64\n",
      "dtypes: float64(5)\n",
      "memory usage: 9.3 KB\n"
     ]
    }
   ],
   "source": [
    "lambdas = pd.DataFrame(lambdas, \n",
    "                       index=ff_portfolio_data.index,\n",
    "                       columns=betas.columns.tolist())\n",
    "lambdas.info()"
   ]
  },
  {
   "cell_type": "code",
   "execution_count": 48,
   "metadata": {
    "ExecuteTime": {
     "end_time": "2021-04-15T19:55:20.902217Z",
     "start_time": "2021-04-15T19:55:20.781976Z"
    }
   },
   "outputs": [
    {
     "data": {
      "image/png": "[encoded data removed]",
      "text/plain": [
       "<Figure size 864x288 with 1 Axes>"
      ]
     },
     "metadata": {},
     "output_type": "display_data"
    }
   ],
   "source": [
    "lambdas.mean().sort_values().plot.barh(figsize=(12, 4))\n",
    "sns.despine()\n",
    "plt.tight_layout();"
   ]
  },
  {
   "cell_type": "code",
   "execution_count": 49,
   "metadata": {
    "ExecuteTime": {
     "end_time": "2021-04-15T19:55:20.908357Z",
     "start_time": "2021-04-15T19:55:20.903193Z"
    }
   },
   "outputs": [
    {
     "data": {
      "text/plain": [
       "Mkt-RF    0.340179\n",
       "SMB      -0.013216\n",
       "HML      -0.261636\n",
       "RMW      -0.035186\n",
       "CMA      -0.172461\n",
       "dtype: float64"
      ]
     },
     "execution_count": 49,
     "metadata": {},
     "output_type": "execute_result"
    }
   ],
   "source": [
    "t = lambdas.mean().div(lambdas.std())\n",
    "t"
   ]
  },
  {
   "cell_type": "markdown",
   "metadata": {},
   "source": [
    "#### Results"
   ]
  },
  {
   "cell_type": "code",
   "execution_count": 50,
   "metadata": {
    "ExecuteTime": {
     "end_time": "2021-04-15T19:55:21.278124Z",
     "start_time": "2021-04-15T19:55:20.909336Z"
    },
    "scrolled": false
   },
   "outputs": [
    {
     "data": {
      "image/png": "[encoded data removed]",
      "text/plain": [
       "<Figure size 1008x360 with 2 Axes>"
      ]
     },
     "metadata": {},
     "output_type": "display_data"
    }
   ],
   "source": [
    "window = 24  # months\n",
    "ax1 = plt.subplot2grid((1, 3), (0, 0))\n",
    "ax2 = plt.subplot2grid((1, 3), (0, 1), colspan=2)\n",
    "lambdas.mean().sort_values().plot.barh(ax=ax1)\n",
    "lambdas.rolling(window).mean().dropna().plot(lw=1,\n",
    "                                             figsize=(14, 5),\n",
    "                                             sharey=True,\n",
    "                                             ax=ax2)\n",
    "sns.despine()\n",
    "plt.tight_layout()"
   ]
  },
  {
   "cell_type": "code",
   "execution_count": 51,
   "metadata": {
    "ExecuteTime": {
     "end_time": "2021-04-15T19:55:21.839217Z",
     "start_time": "2021-04-15T19:55:21.279210Z"
    }
   },
   "outputs": [
    {
     "data": {
      "image/png": "[encoded data removed]",
      "text/plain": [
       "<Figure size 1008x504 with 5 Axes>"
      ]
     },
     "metadata": {},
     "output_type": "display_data"
    }
   ],
   "source": [
    "window = 24  # months\n",
    "lambdas.rolling(window).mean().dropna().plot(lw=2,\n",
    "                                             figsize=(14, 7),\n",
    "                                             subplots=True,\n",
    "                                             sharey=True)\n",
    "sns.despine()\n",
    "plt.tight_layout()"
   ]
  },
  {
   "cell_type": "markdown",
   "metadata": {},
   "source": [
    "## Fama-Macbeth with the LinearModels library"
   ]
  },
  {
   "cell_type": "markdown",
   "metadata": {},
   "source": [
    "The linear_models library extends statsmodels with various models for panel data and also implements the two-stage Fama—MacBeth procedure:"
   ]
  },
  {
   "cell_type": "code",
   "execution_count": 52,
   "metadata": {
    "ExecuteTime": {
     "end_time": "2021-04-15T19:55:21.859424Z",
     "start_time": "2021-04-15T19:55:21.840019Z"
    }
   },
   "outputs": [
    {
     "name": "stdout",
     "output_type": "stream",
     "text": [
      "                      LinearFactorModel Estimation Summary                      \n",
      "================================================================================\n",
      "No. Test Portfolios:                 17   R-squared:                      0.6885\n",
      "No. Factors:                          5   J-statistic:                    17.038\n",
      "No. Observations:                    95   P-value                         0.1482\n",
      "Date:                  Mon, May 17 2021   Distribution:                 chi2(12)\n",
      "Time:                          12:06:05                                         \n",
      "Cov. Estimator:                  robust                                         \n",
      "                                                                                \n",
      "                            Risk Premia Estimates                             \n",
      "==============================================================================\n",
      "            Parameter  Std. Err.     T-stat    P-value    Lower CI    Upper CI\n",
      "------------------------------------------------------------------------------\n",
      "Mkt-RF         1.2208     0.4076     2.9951     0.0027      0.4219      2.0197\n",
      "SMB           -0.0523     0.7979    -0.0656     0.9477     -1.6161      1.5115\n",
      "HML           -1.0316     0.6332    -1.6292     0.1033     -2.2726      0.2094\n",
      "RMW           -0.1044     0.7738    -0.1350     0.8926     -1.6210      1.4121\n",
      "CMA           -0.6252     0.5222    -1.1973     0.2312     -1.6488      0.3983\n",
      "==============================================================================\n",
      "\n",
      "Covariance estimator:\n",
      "HeteroskedasticCovariance\n",
      "See full_summary for complete results\n"
     ]
    }
   ],
   "source": [
    "mod = LinearFactorModel(portfolios=ff_portfolio_data, \n",
    "                        factors=ff_factor_data)\n",
    "res = mod.fit()\n",
    "print(res)"
   ]
  },
  {
   "cell_type": "code",
   "execution_count": 53,
   "metadata": {
    "ExecuteTime": {
     "end_time": "2021-04-15T19:55:21.921756Z",
     "start_time": "2021-04-15T19:55:21.861590Z"
    },
    "scrolled": false
   },
   "outputs": [
    {
     "name": "stdout",
     "output_type": "stream",
     "text": [
      "                      LinearFactorModel Estimation Summary                      \n",
      "================================================================================\n",
      "No. Test Portfolios:                 17   R-squared:                      0.6885\n",
      "No. Factors:                          5   J-statistic:                    17.038\n",
      "No. Observations:                    95   P-value                         0.1482\n",
      "Date:                  Mon, May 17 2021   Distribution:                 chi2(12)\n",
      "Time:                          12:06:05                                         \n",
      "Cov. Estimator:                  robust                                         \n",
      "                                                                                \n",
      "                            Risk Premia Estimates                             \n",
      "==============================================================================\n",
      "            Parameter  Std. Err.     T-stat    P-value    Lower CI    Upper CI\n",
      "------------------------------------------------------------------------------\n",
      "Mkt-RF         1.2208     0.4076     2.9951     0.0027      0.4219      2.0197\n",
      "SMB           -0.0523     0.7979    -0.0656     0.9477     -1.6161      1.5115\n",
      "HML           -1.0316     0.6332    -1.6292     0.1033     -2.2726      0.2094\n",
      "RMW           -0.1044     0.7738    -0.1350     0.8926     -1.6210      1.4121\n",
      "CMA           -0.6252     0.5222    -1.1973     0.2312     -1.6488      0.3983\n",
      "\n",
      "\n",
      "                              Food  Coefficients                              \n",
      "==============================================================================\n",
      "            Parameter  Std. Err.     T-stat    P-value    Lower CI    Upper CI\n",
      "------------------------------------------------------------------------------\n",
      "alpha          0.1874     0.2393     0.7831     0.4336     -0.2816      0.6563\n",
      "Mkt-RF         0.6866     0.0465     14.773     0.0000      0.5955      0.7777\n",
      "SMB           -0.3100     0.1126    -2.7532     1.9941     -0.5307     -0.0893\n",
      "HML           -0.3493     0.1420    -2.4595     1.9861     -0.6277     -0.0710\n",
      "RMW            0.3075     0.1243     2.4747     0.0133      0.0640      0.5510\n",
      "CMA            0.4666     0.1636     2.8517     0.0043      0.1459      0.7873\n",
      "\n",
      "\n",
      "                              Mines Coefficients                              \n",
      "==============================================================================\n",
      "alpha         -0.6490     0.5444    -1.1922     1.7668     -1.7159      0.4180\n",
      "Mkt-RF         1.2987     0.1950     6.6584     0.0000      0.9164      1.6810\n",
      "SMB            0.1805     0.3380     0.5341     0.5933     -0.4819      0.8429\n",
      "HML            0.1891     0.3305     0.5721     0.5673     -0.4587      0.8368\n",
      "RMW            0.1449     0.4295     0.3375     0.7358     -0.6968      0.9867\n",
      "CMA            0.6112     0.5507     1.1098     0.2671     -0.4682      1.6905\n",
      "\n",
      "\n",
      "                              Oil   Coefficients                              \n",
      "==============================================================================\n",
      "alpha          0.2044     0.3452     0.5922     0.5537     -0.4722      0.8811\n",
      "Mkt-RF         1.0553     0.1027     10.273     0.0000      0.8540      1.2567\n",
      "SMB            0.1554     0.1941     0.8005     0.4234     -0.2251      0.5359\n",
      "HML            0.6685     0.2048     3.2642     0.0011      0.2671      1.0698\n",
      "RMW           -0.0247     0.2326    -0.1064     1.0847     -0.4806      0.4311\n",
      "CMA            0.3117     0.2831     1.1010     0.2709     -0.2432      0.8666\n",
      "\n",
      "\n",
      "                              Clths Coefficients                              \n",
      "==============================================================================\n",
      "alpha          0.1726     0.3388     0.5093     0.6105     -0.4915      0.8367\n",
      "Mkt-RF         0.9685     0.1214     7.9776     0.0000      0.7306      1.2065\n",
      "SMB            0.3430     0.1966     1.7450     0.0810     -0.0422      0.7282\n",
      "HML           -0.1882     0.2098    -0.8969     1.6302     -0.5993      0.2230\n",
      "RMW            0.5649     0.2720     2.0767     0.0378      0.0318      1.0980\n",
      "CMA            0.0381     0.3163     0.1205     0.9040     -0.5818      0.6581\n",
      "\n",
      "\n",
      "                              Durbl Coefficients                              \n",
      "==============================================================================\n",
      "alpha         -0.1564     0.3204    -0.4883     1.3747     -0.7843      0.4715\n",
      "Mkt-RF         1.1740     0.0834     14.072     0.0000      1.0105      1.3375\n",
      "SMB            0.5378     0.1194     4.5035     0.0000      0.3037      0.7719\n",
      "HML            0.0706     0.1480     0.4771     0.6333     -0.2195      0.3607\n",
      "RMW            0.5117     0.1940     2.6380     0.0083      0.1315      0.8919\n",
      "CMA           -0.1310     0.2655    -0.4936     1.3784     -0.6514      0.3893\n",
      "\n",
      "\n",
      "                              Chems Coefficients                              \n",
      "==============================================================================\n",
      "alpha         -0.2048     0.3111    -0.6584     1.4897     -0.8145      0.4049\n",
      "Mkt-RF         1.3510     0.1063     12.704     0.0000      1.1426      1.5594\n",
      "SMB            0.1660     0.1489     1.1154     0.2647     -0.1257      0.4578\n",
      "HML            0.1952     0.1480     1.3189     0.1872     -0.0949      0.4852\n",
      "RMW            0.1410     0.1912     0.7374     0.4609     -0.2338      0.5158\n",
      "CMA           -0.2301     0.2633    -0.8738     1.6178     -0.7462      0.2860\n",
      "\n",
      "\n",
      "                              Cnsum Coefficients                              \n",
      "==============================================================================\n",
      "alpha         -0.0380     0.3566    -0.1065     1.0848     -0.7368      0.6609\n",
      "Mkt-RF         0.7625     0.0591     12.897     0.0000      0.6466      0.8784\n",
      "SMB           -0.3327     0.1006    -3.3088     1.9991     -0.5298     -0.1356\n",
      "HML           -0.5773     0.1259    -4.5845     2.0000     -0.8241     -0.3305\n",
      "RMW           -0.0606     0.1316    -0.4603     1.3547     -0.3186      0.1974\n",
      "CMA            0.5748     0.2271     2.5306     0.0114      0.1296      1.0199\n",
      "\n",
      "\n",
      "                              Cnstr Coefficients                              \n",
      "==============================================================================\n",
      "alpha          0.6213     0.3917     1.5862     0.1127     -0.1464      1.3890\n",
      "Mkt-RF         1.1161     0.0828     13.478     0.0000      0.9538      1.2784\n",
      "SMB            0.4463     0.1337     3.3389     0.0008      0.1843      0.7083\n",
      "HML            0.0920     0.1892     0.4861     0.6269     -0.2789      0.4629\n",
      "RMW           -0.0107     0.2232    -0.0482     1.0384     -0.4482      0.4267\n",
      "CMA            0.1409     0.2425     0.5811     0.5612     -0.3344      0.6162\n",
      "\n",
      "\n",
      "                              Steel Coefficients                              \n",
      "==============================================================================\n",
      "alpha         -0.3503     0.4030    -0.8692     1.6153     -1.1403      0.4396\n",
      "Mkt-RF         1.4647     0.1381     10.604     0.0000      1.1940      1.7355\n",
      "SMB            0.4104     0.2548     1.6103     0.1073     -0.0891      0.9098\n",
      "HML            0.4000     0.2653     1.5076     0.1317     -0.1200      0.9200\n",
      "RMW            0.1355     0.3342     0.4054     0.6852     -0.5196      0.7906\n",
      "CMA            0.4840     0.4192     1.1547     0.2482     -0.3376      1.3056\n",
      "\n",
      "\n",
      "                              FabPr Coefficients                              \n",
      "==============================================================================\n",
      "alpha          0.2168     0.2831     0.7659     0.4437     -0.3381      0.7718\n",
      "Mkt-RF         1.0695     0.0734     14.573     0.0000      0.9257      1.2133\n",
      "SMB            0.4602     0.0979     4.7024     0.0000      0.2684      0.6520\n",
      "HML           -0.0294     0.1111    -0.2646     1.2087     -0.2471      0.1883\n",
      "RMW            0.1531     0.1456     1.0510     0.2933     -0.1324      0.4385\n",
      "CMA            0.1865     0.1855     1.0055     0.3147     -0.1771      0.5502\n",
      "\n",
      "\n",
      "                              Machn Coefficients                              \n",
      "==============================================================================\n",
      "alpha         -0.3139     0.2688    -1.1677     1.7571     -0.8409      0.2130\n",
      "Mkt-RF         1.1883     0.0582     20.424     0.0000      1.0742      1.3023\n",
      "SMB            0.1817     0.1074     1.6922     0.0906     -0.0287      0.3921\n",
      "HML            0.0384     0.1060     0.3621     0.7173     -0.1694      0.2462\n",
      "RMW            0.0540     0.1581     0.3416     0.7327     -0.2559      0.3639\n",
      "CMA           -0.3765     0.1786    -2.1079     1.9650     -0.7266     -0.0264\n",
      "\n",
      "\n",
      "                              Cars  Coefficients                              \n",
      "==============================================================================\n",
      "alpha         -0.0952     0.3906    -0.2436     1.1925     -0.8607      0.6704\n",
      "Mkt-RF         1.1895     0.0996     11.949     0.0000      0.9944      1.3846\n",
      "SMB            0.5941     0.1290     4.6069     0.0000      0.3414      0.8469\n",
      "HML            0.0213     0.1757     0.1214     0.9034     -0.3231      0.3658\n",
      "RMW            0.0223     0.2201     0.1012     0.9194     -0.4091      0.4537\n",
      "CMA            0.0123     0.2993     0.0412     0.9671     -0.5743      0.5990\n",
      "\n",
      "\n",
      "                              Trans Coefficients                              \n",
      "==============================================================================\n",
      "alpha          0.4814     0.3269     1.4725     0.1409     -0.1594      1.1221\n",
      "Mkt-RF         1.0248     0.0508     20.161     0.0000      0.9251      1.1244\n",
      "SMB            0.2537     0.1030     2.4641     0.0137      0.0519      0.4556\n",
      "HML            0.0117     0.1222     0.0961     0.9235     -0.2278      0.2512\n",
      "RMW            0.3778     0.1606     2.3525     0.0186      0.0630      0.6926\n",
      "CMA            0.2634     0.2018     1.3056     0.1917     -0.1320      0.6589\n",
      "\n",
      "\n",
      "                              Utils Coefficients                              \n",
      "==============================================================================\n",
      "alpha          0.3695     0.3118     1.1849     0.2361     -0.2417      0.9807\n",
      "Mkt-RF         0.5022     0.0911     5.5126     0.0000      0.3237      0.6808\n",
      "SMB           -0.2454     0.1567    -1.5664     1.8827     -0.5525      0.0617\n",
      "HML           -0.2932     0.1772    -1.6549     1.9021     -0.6405      0.0540\n",
      "RMW            0.2424     0.1949     1.2435     0.2137     -0.1396      0.6244\n",
      "CMA            0.5207     0.2955     1.7621     0.0781     -0.0585      1.0998\n",
      "\n",
      "\n",
      "                              Rtail Coefficients                              \n",
      "==============================================================================\n",
      "alpha         -0.0421     0.2681    -0.1570     1.1247     -0.5676      0.4834\n",
      "Mkt-RF         0.9087     0.0689     13.192     0.0000      0.7737      1.0437\n",
      "SMB            0.1316     0.0994     1.3235     0.1857     -0.0633      0.3265\n",
      "HML           -0.3830     0.1296    -2.9560     1.9969     -0.6370     -0.1291\n",
      "RMW            0.6884     0.1610     4.2748     0.0000      0.3728      1.0041\n",
      "CMA            0.1961     0.1741     1.1259     0.2602     -0.1452      0.5373\n",
      "\n",
      "\n",
      "                              Finan Coefficients                              \n",
      "==============================================================================\n",
      "alpha          0.3752     0.3715     1.0097     0.3126     -0.3530      1.1034\n",
      "Mkt-RF         1.0565     0.0426     24.782     0.0000      0.9730      1.1401\n",
      "SMB            0.0756     0.0856     0.8825     0.3775     -0.0923      0.2434\n",
      "HML            0.7333     0.0878     8.3550     0.0000      0.5613      0.9054\n",
      "RMW           -0.4296     0.1061    -4.0490     1.9999     -0.6376     -0.2216\n",
      "CMA           -0.5083     0.1124    -4.5216     2.0000     -0.7286     -0.2879\n",
      "\n",
      "\n",
      "                              Other Coefficients                              \n",
      "==============================================================================\n",
      "alpha         -0.1368     0.2280    -0.5998     1.4513     -0.5837      0.3102\n",
      "Mkt-RF         1.0416     0.0244     42.676     0.0000      0.9937      1.0894\n",
      "SMB           -0.1150     0.0397    -2.8966     1.9962     -0.1927     -0.0372\n",
      "HML           -0.2042     0.0379    -5.3820     2.0000     -0.2786     -0.1299\n",
      "RMW           -0.0685     0.0626    -1.0934     1.7258     -0.1912      0.0543\n",
      "CMA            0.0194     0.0657     0.2945     0.7684     -0.1095      0.1482\n",
      "==============================================================================\n",
      "\n",
      "Covariance estimator:\n",
      "HeteroskedasticCovariance\n",
      "See full_summary for complete results\n"
     ]
    }
   ],
   "source": [
    "print(res.full_summary)"
   ]
  },
  {
   "cell_type": "markdown",
   "metadata": {},
   "source": [
    "This provides us with the same result:"
   ]
  },
  {
   "cell_type": "code",
   "execution_count": 54,
   "metadata": {
    "ExecuteTime": {
     "end_time": "2021-04-15T19:55:21.926652Z",
     "start_time": "2021-04-15T19:55:21.922840Z"
    }
   },
   "outputs": [
    {
     "data": {
      "text/plain": [
       "Mkt-RF    1.220797\n",
       "SMB      -0.052301\n",
       "HML      -1.031603\n",
       "RMW      -0.104427\n",
       "CMA      -0.625245\n",
       "dtype: float64"
      ]
     },
     "execution_count": 54,
     "metadata": {},
     "output_type": "execute_result"
    }
   ],
   "source": [
    "lambdas.mean()"
   ]
  }
 ],
 "metadata": {
  "kernelspec": {
   "display_name": "Python [conda env:ml4t]",
   "language": "python",
   "name": "conda-env-ml4t-py"
  },
  "language_info": {
   "codemirror_mode": {
    "name": "ipython",
    "version": 3
   },
   "file_extension": ".py",
   "mimetype": "text/x-python",
   "name": "python",
   "nbconvert_exporter": "python",
   "pygments_lexer": "ipython3",
   "version": "3.8.8"
  },
  "toc": {
   "base_numbering": 1,
   "nav_menu": {},
   "number_sections": true,
   "sideBar": true,
   "skip_h1_title": true,
   "title_cell": "Table of Contents",
   "title_sidebar": "Contents",
   "toc_cell": false,
   "toc_position": {},
   "toc_section_display": true,
   "toc_window_display": true
  }
 },
 "nbformat": 4,
 "nbformat_minor": 2
}
