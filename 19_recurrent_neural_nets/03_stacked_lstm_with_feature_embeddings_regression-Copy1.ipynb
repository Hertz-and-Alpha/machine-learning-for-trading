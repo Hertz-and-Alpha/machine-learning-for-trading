{
 "cells": [
  {
   "cell_type": "markdown",
   "metadata": {},
   "source": [
    "# Stacked LSTMs for Time Series Regression"
   ]
  },
  {
   "cell_type": "markdown",
   "metadata": {},
   "source": [
    "We'll now build a slightly deeper model by stacking two LSTM layers using the Quandl stock price data (see the stacked_lstm_with_feature_embeddings notebook for implementation details). Furthermore, we will include features that are not sequential in nature, namely indicator variables for identifying the equity and the month."
   ]
  },
  {
   "cell_type": "markdown",
   "metadata": {},
   "source": [
    "## Imports"
   ]
  },
  {
   "cell_type": "code",
   "execution_count": 1,
   "metadata": {
    "ExecuteTime": {
     "end_time": "2021-02-23T15:29:23.302492Z",
     "start_time": "2021-02-23T15:29:23.296947Z"
    }
   },
   "outputs": [],
   "source": [
    "import warnings\n",
    "warnings.filterwarnings('ignore')"
   ]
  },
  {
   "cell_type": "code",
   "execution_count": 1,
   "metadata": {},
   "outputs": [
    {
     "data": {
      "text/plain": [
       "'1.2.4'"
      ]
     },
     "execution_count": 1,
     "metadata": {},
     "output_type": "execute_result"
    }
   ],
   "source": [
    "import pandas as pd \n",
    "pd.__version__"
   ]
  },
  {
   "cell_type": "code",
   "execution_count": 2,
   "metadata": {
    "ExecuteTime": {
     "end_time": "2021-02-23T15:29:26.637163Z",
     "start_time": "2021-02-23T15:29:23.303884Z"
    }
   },
   "outputs": [
    {
     "name": "stdout",
     "output_type": "stream",
     "text": [
      "INFO:tensorflow:Enabling eager execution\n",
      "INFO:tensorflow:Enabling v2 tensorshape\n",
      "INFO:tensorflow:Enabling resource variables\n",
      "INFO:tensorflow:Enabling tensor equality\n",
      "INFO:tensorflow:Enabling control flow v2\n"
     ]
    }
   ],
   "source": [
    "%matplotlib inline\n",
    "\n",
    "from pathlib import Path\n",
    "import numpy as np\n",
    "import pandas as pd\n",
    "\n",
    "from scipy.stats import spearmanr\n",
    "\n",
    "import tensorflow as tf\n",
    "from tensorflow.keras.callbacks import ModelCheckpoint, EarlyStopping\n",
    "from tensorflow.keras.models import Sequential, Model\n",
    "from tensorflow.keras.layers import Dense, LSTM, Input, concatenate, Embedding, Reshape, BatchNormalization\n",
    "import tensorflow.keras.backend as K\n",
    "\n",
    "import matplotlib.pyplot as plt\n",
    "from matplotlib.ticker import FuncFormatter\n",
    "import seaborn as sns"
   ]
  },
  {
   "cell_type": "code",
   "execution_count": 3,
   "metadata": {
    "ExecuteTime": {
     "end_time": "2021-02-23T15:29:26.726762Z",
     "start_time": "2021-02-23T15:29:26.638982Z"
    }
   },
   "outputs": [
    {
     "name": "stdout",
     "output_type": "stream",
     "text": [
      "Using GPU\n"
     ]
    }
   ],
   "source": [
    "gpu_devices = tf.config.experimental.list_physical_devices('GPU')\n",
    "if gpu_devices:\n",
    "    print('Using GPU')\n",
    "    tf.config.experimental.set_memory_growth(gpu_devices[0], True)\n",
    "else:\n",
    "    print('Using CPU')"
   ]
  },
  {
   "cell_type": "code",
   "execution_count": 4,
   "metadata": {
    "ExecuteTime": {
     "end_time": "2021-02-23T15:29:26.739917Z",
     "start_time": "2021-02-23T15:29:26.728641Z"
    }
   },
   "outputs": [],
   "source": [
    "idx = pd.IndexSlice\n",
    "sns.set_style('whitegrid')\n",
    "np.random.seed(42)"
   ]
  },
  {
   "cell_type": "code",
   "execution_count": 5,
   "metadata": {
    "ExecuteTime": {
     "end_time": "2021-02-23T15:29:26.748039Z",
     "start_time": "2021-02-23T15:29:26.741529Z"
    }
   },
   "outputs": [],
   "source": [
    "results_path = Path('results', 'lstm_embeddings')\n",
    "if not results_path.exists():\n",
    "    results_path.mkdir(parents=True)"
   ]
  },
  {
   "cell_type": "markdown",
   "metadata": {},
   "source": [
    "## Data"
   ]
  },
  {
   "cell_type": "markdown",
   "metadata": {},
   "source": [
    "Data produced by the notebook [build_dataset](00_build_dataset.ipynb)."
   ]
  },
  {
   "cell_type": "code",
   "execution_count": 6,
   "metadata": {
    "ExecuteTime": {
     "end_time": "2021-02-23T15:29:28.423610Z",
     "start_time": "2021-02-23T15:29:26.749508Z"
    }
   },
   "outputs": [],
   "source": [
    "data = pd.read_hdf('data.h5', 'returns_weekly').drop('label', axis=1)"
   ]
  },
  {
   "cell_type": "code",
   "execution_count": 7,
   "metadata": {
    "ExecuteTime": {
     "end_time": "2021-02-23T15:29:28.550230Z",
     "start_time": "2021-02-23T15:29:28.430049Z"
    }
   },
   "outputs": [],
   "source": [
    "data['ticker'] = pd.factorize(data.index.get_level_values('ticker'))[0]"
   ]
  },
  {
   "cell_type": "code",
   "execution_count": 8,
   "metadata": {
    "ExecuteTime": {
     "end_time": "2021-02-23T15:29:29.449108Z",
     "start_time": "2021-02-23T15:29:28.553713Z"
    }
   },
   "outputs": [],
   "source": [
    "data['month'] = data.index.get_level_values('date').month\n",
    "data = pd.get_dummies(data, columns=['month'], prefix='month')"
   ]
  },
  {
   "cell_type": "code",
   "execution_count": 9,
   "metadata": {
    "ExecuteTime": {
     "end_time": "2021-02-23T15:29:29.655702Z",
     "start_time": "2021-02-23T15:29:29.461668Z"
    }
   },
   "outputs": [
    {
     "name": "stdout",
     "output_type": "stream",
     "text": [
      "<class 'pandas.core.frame.DataFrame'>\n",
      "MultiIndex: 1066975 entries, ('A', Timestamp('2009-01-11 00:00:00')) to ('UFPI', Timestamp('2017-12-31 00:00:00'))\n",
      "Data columns (total 66 columns):\n",
      " #   Column       Non-Null Count    Dtype  \n",
      "---  ------       --------------    -----  \n",
      " 0   fwd_returns  1066975 non-null  float64\n",
      " 1   1            1066975 non-null  float64\n",
      " 2   2            1066975 non-null  float64\n",
      " 3   3            1066975 non-null  float64\n",
      " 4   4            1066975 non-null  float64\n",
      " 5   5            1066975 non-null  float64\n",
      " 6   6            1066975 non-null  float64\n",
      " 7   7            1066975 non-null  float64\n",
      " 8   8            1066975 non-null  float64\n",
      " 9   9            1066975 non-null  float64\n",
      " 10  10           1066975 non-null  float64\n",
      " 11  11           1066975 non-null  float64\n",
      " 12  12           1066975 non-null  float64\n",
      " 13  13           1066975 non-null  float64\n",
      " 14  14           1066975 non-null  float64\n",
      " 15  15           1066975 non-null  float64\n",
      " 16  16           1066975 non-null  float64\n",
      " 17  17           1066975 non-null  float64\n",
      " 18  18           1066975 non-null  float64\n",
      " 19  19           1066975 non-null  float64\n",
      " 20  20           1066975 non-null  float64\n",
      " 21  21           1066975 non-null  float64\n",
      " 22  22           1066975 non-null  float64\n",
      " 23  23           1066975 non-null  float64\n",
      " 24  24           1066975 non-null  float64\n",
      " 25  25           1066975 non-null  float64\n",
      " 26  26           1066975 non-null  float64\n",
      " 27  27           1066975 non-null  float64\n",
      " 28  28           1066975 non-null  float64\n",
      " 29  29           1066975 non-null  float64\n",
      " 30  30           1066975 non-null  float64\n",
      " 31  31           1066975 non-null  float64\n",
      " 32  32           1066975 non-null  float64\n",
      " 33  33           1066975 non-null  float64\n",
      " 34  34           1066975 non-null  float64\n",
      " 35  35           1066975 non-null  float64\n",
      " 36  36           1066975 non-null  float64\n",
      " 37  37           1066975 non-null  float64\n",
      " 38  38           1066975 non-null  float64\n",
      " 39  39           1066975 non-null  float64\n",
      " 40  40           1066975 non-null  float64\n",
      " 41  41           1066975 non-null  float64\n",
      " 42  42           1066975 non-null  float64\n",
      " 43  43           1066975 non-null  float64\n",
      " 44  44           1066975 non-null  float64\n",
      " 45  45           1066975 non-null  float64\n",
      " 46  46           1066975 non-null  float64\n",
      " 47  47           1066975 non-null  float64\n",
      " 48  48           1066975 non-null  float64\n",
      " 49  49           1066975 non-null  float64\n",
      " 50  50           1066975 non-null  float64\n",
      " 51  51           1066975 non-null  float64\n",
      " 52  52           1066975 non-null  float64\n",
      " 53  ticker       1066975 non-null  int64  \n",
      " 54  month_1      1066975 non-null  uint8  \n",
      " 55  month_2      1066975 non-null  uint8  \n",
      " 56  month_3      1066975 non-null  uint8  \n",
      " 57  month_4      1066975 non-null  uint8  \n",
      " 58  month_5      1066975 non-null  uint8  \n",
      " 59  month_6      1066975 non-null  uint8  \n",
      " 60  month_7      1066975 non-null  uint8  \n",
      " 61  month_8      1066975 non-null  uint8  \n",
      " 62  month_9      1066975 non-null  uint8  \n",
      " 63  month_10     1066975 non-null  uint8  \n",
      " 64  month_11     1066975 non-null  uint8  \n",
      " 65  month_12     1066975 non-null  uint8  \n",
      "dtypes: float64(53), int64(1), uint8(12)\n",
      "memory usage: 456.0+ MB\n"
     ]
    }
   ],
   "source": [
    "data.info()"
   ]
  },
  {
   "cell_type": "markdown",
   "metadata": {},
   "source": [
    "## Train-test split\n",
    "\n",
    "To respect the time series nature of the data, we set aside the data at the end of the sample as hold-out or test set. More specifically, we'll use the data for 2017."
   ]
  },
  {
   "cell_type": "code",
   "execution_count": 10,
   "metadata": {
    "ExecuteTime": {
     "end_time": "2021-02-23T15:29:29.682212Z",
     "start_time": "2021-02-23T15:29:29.657615Z"
    }
   },
   "outputs": [],
   "source": [
    "window_size=52\n",
    "sequence = list(range(1, window_size+1))\n",
    "ticker = 1\n",
    "months = 12\n",
    "n_tickers = data.ticker.nunique()"
   ]
  },
  {
   "cell_type": "code",
   "execution_count": 11,
   "metadata": {
    "ExecuteTime": {
     "end_time": "2021-02-23T15:29:30.406099Z",
     "start_time": "2021-02-23T15:29:29.684563Z"
    }
   },
   "outputs": [],
   "source": [
    "train_data = data.loc[idx[:, :'2016'], :]\n",
    "test_data = data.loc[idx[:, '2017'],:]"
   ]
  },
  {
   "cell_type": "markdown",
   "metadata": {},
   "source": [
    "For each train and test dataset, we generate a list with three input arrays containing the return series, the stock ticker (converted to integer values), and the month (as an integer), as shown here:"
   ]
  },
  {
   "cell_type": "code",
   "execution_count": 12,
   "metadata": {
    "ExecuteTime": {
     "end_time": "2021-02-23T15:29:30.552484Z",
     "start_time": "2021-02-23T15:29:30.407957Z"
    }
   },
   "outputs": [
    {
     "data": {
      "text/plain": [
       "([(946400, 52, 1), (946400,), (946400, 12)], (946400,))"
      ]
     },
     "execution_count": 12,
     "metadata": {},
     "output_type": "execute_result"
    }
   ],
   "source": [
    "X_train = [\n",
    "    train_data.loc[:, sequence].values.reshape(-1, window_size , 1),\n",
    "    train_data.ticker,\n",
    "    train_data.filter(like='month')\n",
    "]\n",
    "y_train = train_data.fwd_returns\n",
    "[x.shape for x in X_train], y_train.shape"
   ]
  },
  {
   "cell_type": "code",
   "execution_count": 13,
   "metadata": {
    "ExecuteTime": {
     "end_time": "2021-02-23T15:29:30.590915Z",
     "start_time": "2021-02-23T15:29:30.561271Z"
    }
   },
   "outputs": [
    {
     "data": {
      "text/plain": [
       "([(120575, 52, 1), (120575,), (120575, 12)], (120575,))"
      ]
     },
     "execution_count": 13,
     "metadata": {},
     "output_type": "execute_result"
    }
   ],
   "source": [
    "# keep the last year for testing\n",
    "X_test = [\n",
    "    test_data.loc[:, list(range(1, window_size+1))].values.reshape(-1, window_size , 1),\n",
    "    test_data.ticker,\n",
    "    test_data.filter(like='month')\n",
    "]\n",
    "y_test = test_data.fwd_returns\n",
    "[x.shape for x in X_test], y_test.shape"
   ]
  },
  {
   "cell_type": "markdown",
   "metadata": {},
   "source": [
    "##  Define the Model Architecture"
   ]
  },
  {
   "cell_type": "markdown",
   "metadata": {},
   "source": [
    "The functional API of Keras makes it easy to design architectures with multiple inputs and outputs. This example illustrates a network with three inputs, as follows:\n",
    "\n",
    "- A two stacked LSTM layers with 25 and 10 units respectively\n",
    "- An embedding layer that learns a 10-dimensional real-valued representation of the equities\n",
    "- A one-hot encoded representation of the month\n",
    "\n",
    "This can be constructed using just a few lines - see e.g., \n",
    "- the [general Keras documentation](https://keras.io/getting-started/sequential-model-guide/), \n",
    "- the [LTSM documentation](https://keras.io/layers/recurrent/).\n",
    "\n",
    "Make sure you are initializing your optimizer given the [keras-recommended approach for RNNs](https://keras.io/optimizers/) \n",
    "\n",
    "We begin by defining the three inputs with their respective shapes, as described here:"
   ]
  },
  {
   "cell_type": "code",
   "execution_count": 14,
   "metadata": {
    "ExecuteTime": {
     "end_time": "2021-02-23T15:29:30.606216Z",
     "start_time": "2021-02-23T15:29:30.596705Z"
    }
   },
   "outputs": [],
   "source": [
    "K.clear_session()"
   ]
  },
  {
   "cell_type": "code",
   "execution_count": 15,
   "metadata": {
    "ExecuteTime": {
     "end_time": "2021-02-23T15:29:30.618304Z",
     "start_time": "2021-02-23T15:29:30.613958Z"
    }
   },
   "outputs": [],
   "source": [
    "n_features = 1"
   ]
  },
  {
   "cell_type": "code",
   "execution_count": 16,
   "metadata": {
    "ExecuteTime": {
     "end_time": "2021-02-23T15:29:30.637478Z",
     "start_time": "2021-02-23T15:29:30.624846Z"
    }
   },
   "outputs": [],
   "source": [
    "returns = Input(shape=(window_size, n_features), name='Returns')\n",
    "tickers = Input(shape=(1,), name='Tickers')\n",
    "months = Input(shape=(12,), name='Months')"
   ]
  },
  {
   "cell_type": "markdown",
   "metadata": {},
   "source": [
    "### LSTM Layers"
   ]
  },
  {
   "cell_type": "markdown",
   "metadata": {},
   "source": [
    "To define stacked LSTM layers, we set the `return_sequences` keyword to `True`. This ensures that the first layer produces an output that conforms to the expected three-dimensional input format. Note that we also use dropout regularization and how the functional API passes the tensor outputs from one layer to the subsequent layer:"
   ]
  },
  {
   "cell_type": "code",
   "execution_count": 17,
   "metadata": {
    "ExecuteTime": {
     "end_time": "2021-02-23T15:29:30.647719Z",
     "start_time": "2021-02-23T15:29:30.643290Z"
    }
   },
   "outputs": [],
   "source": [
    "lstm1_units = 25\n",
    "lstm2_units = 10"
   ]
  },
  {
   "cell_type": "code",
   "execution_count": 18,
   "metadata": {
    "ExecuteTime": {
     "end_time": "2021-02-23T15:29:32.231584Z",
     "start_time": "2021-02-23T15:29:30.653536Z"
    }
   },
   "outputs": [],
   "source": [
    "lstm1 = LSTM(units=lstm1_units, \n",
    "             input_shape=(window_size, \n",
    "                          n_features), \n",
    "             name='LSTM1', \n",
    "             dropout=.2,\n",
    "             return_sequences=True)(returns)\n",
    "\n",
    "lstm_model = LSTM(units=lstm2_units, \n",
    "             dropout=.2,\n",
    "             name='LSTM2')(lstm1)"
   ]
  },
  {
   "cell_type": "markdown",
   "metadata": {},
   "source": [
    "### Embedding Layer"
   ]
  },
  {
   "cell_type": "markdown",
   "metadata": {},
   "source": [
    "The embedding layer requires the `input_dim` keyword, which defines how many embeddings the layer will learn, the `output_dim` keyword, which defines the size of the embedding, and the `input_length` keyword to set the number of elements passed to the layer (here only one ticker per sample). \n",
    "\n",
    "To combine the embedding layer with the LSTM layer and the months input, we need to reshape (or flatten) it, as follows:"
   ]
  },
  {
   "cell_type": "code",
   "execution_count": 19,
   "metadata": {
    "ExecuteTime": {
     "end_time": "2021-02-23T15:29:32.272379Z",
     "start_time": "2021-02-23T15:29:32.237436Z"
    }
   },
   "outputs": [],
   "source": [
    "ticker_embedding = Embedding(input_dim=n_tickers, \n",
    "                             output_dim=5, \n",
    "                             input_length=1)(tickers)\n",
    "ticker_embedding = Reshape(target_shape=(5,))(ticker_embedding)"
   ]
  },
  {
   "cell_type": "markdown",
   "metadata": {},
   "source": [
    "### Concatenate Model components"
   ]
  },
  {
   "cell_type": "markdown",
   "metadata": {},
   "source": [
    "Now we can concatenate the three tensors and add fully-connected layers to learn a mapping from these learned time series, ticker, and month indicators to the outcome, a positive or negative return in the following week, as shown here:"
   ]
  },
  {
   "cell_type": "code",
   "execution_count": 20,
   "metadata": {
    "ExecuteTime": {
     "end_time": "2021-02-23T15:29:32.389423Z",
     "start_time": "2021-02-23T15:29:32.274098Z"
    }
   },
   "outputs": [],
   "source": [
    "merged = concatenate([lstm_model, \n",
    "                      ticker_embedding, \n",
    "                      months], name='Merged')\n",
    "\n",
    "bn = BatchNormalization()(merged)\n",
    "hidden_dense = Dense(10, name='FC1')(bn)\n",
    "\n",
    "output = Dense(1, name='Output')(hidden_dense)\n",
    "\n",
    "rnn = Model(inputs=[returns, tickers, months], outputs=output)"
   ]
  },
  {
   "cell_type": "markdown",
   "metadata": {},
   "source": [
    "The summary lays out this slightly more sophisticated architecture with 29,371 parameters, as follows:"
   ]
  },
  {
   "cell_type": "code",
   "execution_count": 21,
   "metadata": {
    "ExecuteTime": {
     "end_time": "2021-02-23T15:29:32.411733Z",
     "start_time": "2021-02-23T15:29:32.392264Z"
    }
   },
   "outputs": [
    {
     "name": "stdout",
     "output_type": "stream",
     "text": [
      "Model: \"model\"\n",
      "__________________________________________________________________________________________________\n",
      "Layer (type)                    Output Shape         Param #     Connected to                     \n",
      "==================================================================================================\n",
      "Returns (InputLayer)            [(None, 52, 1)]      0                                            \n",
      "__________________________________________________________________________________________________\n",
      "Tickers (InputLayer)            [(None, 1)]          0                                            \n",
      "__________________________________________________________________________________________________\n",
      "LSTM1 (LSTM)                    (None, 52, 25)       2700        Returns[0][0]                    \n",
      "__________________________________________________________________________________________________\n",
      "embedding (Embedding)           (None, 1, 5)         11375       Tickers[0][0]                    \n",
      "__________________________________________________________________________________________________\n",
      "LSTM2 (LSTM)                    (None, 10)           1440        LSTM1[0][0]                      \n",
      "__________________________________________________________________________________________________\n",
      "reshape (Reshape)               (None, 5)            0           embedding[0][0]                  \n",
      "__________________________________________________________________________________________________\n",
      "Months (InputLayer)             [(None, 12)]         0                                            \n",
      "__________________________________________________________________________________________________\n",
      "Merged (Concatenate)            (None, 27)           0           LSTM2[0][0]                      \n",
      "                                                                 reshape[0][0]                    \n",
      "                                                                 Months[0][0]                     \n",
      "__________________________________________________________________________________________________\n",
      "batch_normalization (BatchNorma (None, 27)           108         Merged[0][0]                     \n",
      "__________________________________________________________________________________________________\n",
      "FC1 (Dense)                     (None, 10)           280         batch_normalization[0][0]        \n",
      "__________________________________________________________________________________________________\n",
      "Output (Dense)                  (None, 1)            11          FC1[0][0]                        \n",
      "==================================================================================================\n",
      "Total params: 15,914\n",
      "Trainable params: 15,860\n",
      "Non-trainable params: 54\n",
      "__________________________________________________________________________________________________\n"
     ]
    }
   ],
   "source": [
    "rnn.summary()"
   ]
  },
  {
   "cell_type": "markdown",
   "metadata": {},
   "source": [
    "## Train the Model"
   ]
  },
  {
   "cell_type": "code",
   "execution_count": 22,
   "metadata": {
    "ExecuteTime": {
     "end_time": "2021-02-23T15:29:32.437880Z",
     "start_time": "2021-02-23T15:29:32.414970Z"
    }
   },
   "outputs": [],
   "source": [
    "optimizer =tf.keras.optimizers.Adam()\n",
    "\n",
    "rnn.compile(loss='mse',\n",
    "            optimizer=optimizer)"
   ]
  },
  {
   "cell_type": "code",
   "execution_count": 23,
   "metadata": {
    "ExecuteTime": {
     "end_time": "2021-02-23T15:29:32.444988Z",
     "start_time": "2021-02-23T15:29:32.441560Z"
    }
   },
   "outputs": [],
   "source": [
    "lstm_path = (results_path / 'lstm.regression.h5').as_posix()\n",
    "\n",
    "checkpointer = ModelCheckpoint(filepath=lstm_path,\n",
    "                               verbose=1,\n",
    "                               monitor='val_loss',\n",
    "                               mode='min',\n",
    "                               save_best_only=True)"
   ]
  },
  {
   "cell_type": "code",
   "execution_count": 24,
   "metadata": {
    "ExecuteTime": {
     "end_time": "2021-02-23T15:29:32.455704Z",
     "start_time": "2021-02-23T15:29:32.447090Z"
    }
   },
   "outputs": [],
   "source": [
    "early_stopping = EarlyStopping(monitor='val_loss', \n",
    "                              patience=5,\n",
    "                              restore_best_weights=True)"
   ]
  },
  {
   "cell_type": "code",
   "execution_count": 25,
   "metadata": {
    "ExecuteTime": {
     "end_time": "2021-02-23T16:14:30.033273Z",
     "start_time": "2021-02-23T15:29:32.461185Z"
    }
   },
   "outputs": [
    {
     "name": "stdout",
     "output_type": "stream",
     "text": [
      "Epoch 1/50\n",
      "14788/14788 [==============================] - 644s 43ms/step - loss: 0.0517 - val_loss: 0.0019\n",
      "\n",
      "Epoch 00001: val_loss improved from inf to 0.00186, saving model to results/lstm_embeddings\\lstm.regression.h5\n",
      "Epoch 2/50\n",
      "14788/14788 [==============================] - 616s 42ms/step - loss: 0.0029 - val_loss: 0.0016\n",
      "\n",
      "Epoch 00002: val_loss improved from 0.00186 to 0.00162, saving model to results/lstm_embeddings\\lstm.regression.h5\n",
      "Epoch 3/50\n",
      "14788/14788 [==============================] - 761s 51ms/step - loss: 0.0029 - val_loss: 0.0016\n",
      "\n",
      "Epoch 00003: val_loss improved from 0.00162 to 0.00159, saving model to results/lstm_embeddings\\lstm.regression.h5\n",
      "Epoch 4/50\n",
      "14788/14788 [==============================] - 624s 42ms/step - loss: 0.0029 - val_loss: 0.0016\n",
      "\n",
      "Epoch 00004: val_loss improved from 0.00159 to 0.00155, saving model to results/lstm_embeddings\\lstm.regression.h5\n",
      "Epoch 5/50\n",
      "14788/14788 [==============================] - 857s 58ms/step - loss: 0.0028 - val_loss: 0.0015\n",
      "\n",
      "Epoch 00005: val_loss improved from 0.00155 to 0.00154, saving model to results/lstm_embeddings\\lstm.regression.h5\n",
      "Epoch 6/50\n",
      "14788/14788 [==============================] - 859s 58ms/step - loss: 0.0028 - val_loss: 0.0016\n",
      "\n",
      "Epoch 00006: val_loss did not improve from 0.00154\n",
      "Epoch 7/50\n",
      "14788/14788 [==============================] - 910s 62ms/step - loss: 0.0028 - val_loss: 0.0016\n",
      "\n",
      "Epoch 00007: val_loss did not improve from 0.00154\n",
      "Epoch 8/50\n",
      "14788/14788 [==============================] - 899s 61ms/step - loss: 0.0028 - val_loss: 0.0016\n",
      "\n",
      "Epoch 00008: val_loss did not improve from 0.00154\n",
      "Epoch 9/50\n",
      "14788/14788 [==============================] - 889s 60ms/step - loss: 0.0028 - val_loss: 0.0015\n",
      "\n",
      "Epoch 00009: val_loss did not improve from 0.00154\n",
      "Epoch 10/50\n",
      "14788/14788 [==============================] - 839s 57ms/step - loss: 0.0028 - val_loss: 0.0016\n",
      "\n",
      "Epoch 00010: val_loss did not improve from 0.00154\n"
     ]
    }
   ],
   "source": [
    "training = rnn.fit(X_train,\n",
    "                   y_train,\n",
    "                   epochs=50,\n",
    "                   batch_size=64,\n",
    "                   validation_data=(X_test, y_test),\n",
    "                   callbacks=[early_stopping, checkpointer],\n",
    "                   verbose=1)"
   ]
  },
  {
   "cell_type": "code",
   "execution_count": 26,
   "metadata": {
    "ExecuteTime": {
     "end_time": "2021-02-23T16:14:30.036935Z",
     "start_time": "2021-02-23T16:14:30.034326Z"
    }
   },
   "outputs": [],
   "source": [
    "loss_history = pd.DataFrame(training.history)"
   ]
  },
  {
   "cell_type": "markdown",
   "metadata": {},
   "source": [
    "## Evaluate model performance"
   ]
  },
  {
   "cell_type": "code",
   "execution_count": 27,
   "metadata": {
    "ExecuteTime": {
     "end_time": "2021-02-23T16:14:42.958710Z",
     "start_time": "2021-02-23T16:14:30.037834Z"
    }
   },
   "outputs": [],
   "source": [
    "test_predict = pd.Series(rnn.predict(X_test).squeeze(), index=y_test.index)"
   ]
  },
  {
   "cell_type": "code",
   "execution_count": 28,
   "metadata": {
    "ExecuteTime": {
     "end_time": "2021-02-23T16:14:42.962812Z",
     "start_time": "2021-02-23T16:14:42.959684Z"
    }
   },
   "outputs": [],
   "source": [
    "df = y_test.to_frame('ret').assign(y_pred=test_predict)"
   ]
  },
  {
   "cell_type": "code",
   "execution_count": 29,
   "metadata": {
    "ExecuteTime": {
     "end_time": "2021-02-23T16:14:43.718332Z",
     "start_time": "2021-02-23T16:14:42.964026Z"
    }
   },
   "outputs": [],
   "source": [
    "by_date = df.groupby(level='date')\n",
    "df['deciles'] = by_date.y_pred.apply(pd.qcut, q=5, labels=False, duplicates='drop')"
   ]
  },
  {
   "cell_type": "code",
   "execution_count": 30,
   "metadata": {
    "ExecuteTime": {
     "end_time": "2021-02-23T16:14:43.794833Z",
     "start_time": "2021-02-23T16:14:43.719283Z"
    }
   },
   "outputs": [],
   "source": [
    "ic = by_date.apply(lambda x: spearmanr(x.ret, x.y_pred)[0]).mul(100)"
   ]
  },
  {
   "cell_type": "code",
   "execution_count": 31,
   "metadata": {
    "ExecuteTime": {
     "end_time": "2021-02-23T16:14:43.806226Z",
     "start_time": "2021-02-23T16:14:43.795842Z"
    }
   },
   "outputs": [
    {
     "name": "stdout",
     "output_type": "stream",
     "text": [
      "<class 'pandas.core.frame.DataFrame'>\n",
      "MultiIndex: 120575 entries, ('A', Timestamp('2017-01-01 00:00:00')) to ('UFPI', Timestamp('2017-12-31 00:00:00'))\n",
      "Data columns (total 3 columns):\n",
      " #   Column   Non-Null Count   Dtype  \n",
      "---  ------   --------------   -----  \n",
      " 0   ret      120575 non-null  float64\n",
      " 1   y_pred   120575 non-null  float32\n",
      " 2   deciles  120575 non-null  int64  \n",
      "dtypes: float32(1), float64(1), int64(1)\n",
      "memory usage: 2.9+ MB\n"
     ]
    }
   ],
   "source": [
    "df.info()"
   ]
  },
  {
   "cell_type": "code",
   "execution_count": 32,
   "metadata": {
    "ExecuteTime": {
     "end_time": "2021-02-23T16:14:43.819760Z",
     "start_time": "2021-02-23T16:14:43.807323Z"
    }
   },
   "outputs": [],
   "source": [
    "test_predict = test_predict.to_frame('prediction')\n",
    "test_predict.index.names = ['symbol', 'date']\n",
    "test_predict.to_hdf(results_path / 'predictions.h5', 'predictions')"
   ]
  },
  {
   "cell_type": "code",
   "execution_count": 33,
   "metadata": {
    "ExecuteTime": {
     "end_time": "2021-02-23T16:14:43.850328Z",
     "start_time": "2021-02-23T16:14:43.820787Z"
    }
   },
   "outputs": [
    {
     "name": "stdout",
     "output_type": "stream",
     "text": [
      "3.84 (0.00%)\n"
     ]
    }
   ],
   "source": [
    "rho, p = spearmanr(df.ret, df.y_pred)\n",
    "print(f'{rho*100:.2f} ({p:.2%})')"
   ]
  },
  {
   "cell_type": "code",
   "execution_count": 34,
   "metadata": {
    "ExecuteTime": {
     "end_time": "2021-02-23T16:14:45.074381Z",
     "start_time": "2021-02-23T16:14:43.851646Z"
    }
   },
   "outputs": [
    {
     "data": {
      "image/png": "[encoded data removed]",
      "text/plain": [
       "<Figure size 1008x288 with 2 Axes>"
      ]
     },
     "metadata": {},
     "output_type": "display_data"
    }
   ],
   "source": [
    "fig, axes = plt.subplots(ncols=2, figsize=(14,4))\n",
    "sns.barplot(x='deciles', y='ret', data=df, ax=axes[0])\n",
    "axes[0].set_title('Weekly Fwd Returns by Predicted Quintile')\n",
    "axes[0].yaxis.set_major_formatter(FuncFormatter(lambda y, _: '{:.2%}'.format(y))) \n",
    "axes[0].set_ylabel('Weekly Returns')\n",
    "axes[0].set_xlabel('Quintiles')\n",
    "\n",
    "avg_ic = ic.mean()\n",
    "title = f'4-Week Rolling IC | Weekly avg: {avg_ic:.2f} | Overall: {rho*100:.2f}'\n",
    "ic.rolling(4).mean().dropna().plot(ax=axes[1], title=title)\n",
    "axes[1].axhline(avg_ic, ls='--', c='k', lw=1)\n",
    "axes[1].axhline(0, c='k', lw=1)\n",
    "axes[1].set_ylabel('IC')\n",
    "axes[1].set_xlabel('Date')\n",
    "\n",
    "sns.despine()\n",
    "fig.tight_layout()\n",
    "fig.savefig(results_path / 'lstm_reg');"
   ]
  }
 ],
 "metadata": {
  "anaconda-cloud": {},
  "kernelspec": {
   "display_name": "Python [conda env:tensorflow_env]",
   "language": "python",
   "name": "conda-env-tensorflow_env-py"
  },
  "language_info": {
   "codemirror_mode": {
    "name": "ipython",
    "version": 3
   },
   "file_extension": ".py",
   "mimetype": "text/x-python",
   "name": "python",
   "nbconvert_exporter": "python",
   "pygments_lexer": "ipython3",
   "version": "3.8.8"
  },
  "toc": {
   "base_numbering": 1,
   "nav_menu": {},
   "number_sections": true,
   "sideBar": true,
   "skip_h1_title": true,
   "title_cell": "Table of Contents",
   "title_sidebar": "Contents",
   "toc_cell": false,
   "toc_position": {},
   "toc_section_display": true,
   "toc_window_display": true
  }
 },
 "nbformat": 4,
 "nbformat_minor": 4
}
