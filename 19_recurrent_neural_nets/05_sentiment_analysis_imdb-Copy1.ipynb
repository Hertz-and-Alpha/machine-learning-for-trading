{
 "cells": [
  {
   "cell_type": "markdown",
   "metadata": {},
   "source": [
    "# LSTM & Word Embeddings for Sentiment Classification"
   ]
  },
  {
   "cell_type": "markdown",
   "metadata": {},
   "source": [
    "RNNs are commonly applied to various natural language processing tasks. We've already encountered sentiment analysis using text data in part three of this book.\n",
    "\n",
    "We are now going to illustrate how to apply an RNN model to text data to detect positive or negative sentiment (which can easily be extended to a finer-grained sentiment scale). We are going to use word embeddings to represent the tokens in the documents. We covered word embeddings in Chapter 15, Word Embeddings. They are an excellent technique to convert text into a continuous vector representation such that the relative location of words in the latent space encodes useful semantic aspects based on the words' usage in context.\n",
    "\n",
    "We saw in the previous RNN example that Keras has a built-in embedding layer that allows us to train vector representations specific to the task at hand. Alternatively, we can use pretrained vectors."
   ]
  },
  {
   "cell_type": "markdown",
   "metadata": {},
   "source": [
    "## Imports & Settings"
   ]
  },
  {
   "cell_type": "code",
   "execution_count": 1,
   "metadata": {
    "ExecuteTime": {
     "end_time": "2021-02-23T16:46:35.422202Z",
     "start_time": "2021-02-23T16:46:35.420277Z"
    }
   },
   "outputs": [],
   "source": [
    "import warnings\n",
    "warnings.filterwarnings('ignore')"
   ]
  },
  {
   "cell_type": "code",
   "execution_count": 2,
   "metadata": {
    "ExecuteTime": {
     "end_time": "2021-02-23T16:46:36.902418Z",
     "start_time": "2021-02-23T16:46:35.423915Z"
    }
   },
   "outputs": [
    {
     "name": "stdout",
     "output_type": "stream",
     "text": [
      "INFO:tensorflow:Enabling eager execution\n",
      "INFO:tensorflow:Enabling v2 tensorshape\n",
      "INFO:tensorflow:Enabling resource variables\n",
      "INFO:tensorflow:Enabling tensor equality\n",
      "INFO:tensorflow:Enabling control flow v2\n"
     ]
    }
   ],
   "source": [
    "%matplotlib inline\n",
    "\n",
    "from pathlib import Path\n",
    "\n",
    "import numpy as np\n",
    "import pandas as pd\n",
    "from sklearn.metrics import roc_auc_score\n",
    "\n",
    "import tensorflow as tf\n",
    "from tensorflow.keras.callbacks import ModelCheckpoint, EarlyStopping\n",
    "from tensorflow.keras.datasets import imdb\n",
    "from tensorflow.keras.models import Sequential\n",
    "from tensorflow.keras.layers import Dense, GRU, Embedding\n",
    "from tensorflow.keras.preprocessing.sequence import pad_sequences\n",
    "import tensorflow.keras.backend as K\n",
    "\n",
    "import matplotlib.pyplot as plt\n",
    "import seaborn as sns"
   ]
  },
  {
   "cell_type": "code",
   "execution_count": 3,
   "metadata": {
    "ExecuteTime": {
     "end_time": "2021-02-23T16:46:36.938942Z",
     "start_time": "2021-02-23T16:46:36.903401Z"
    }
   },
   "outputs": [
    {
     "name": "stdout",
     "output_type": "stream",
     "text": [
      "Using GPU\n"
     ]
    }
   ],
   "source": [
    "gpu_devices = tf.config.experimental.list_physical_devices('GPU')\n",
    "if gpu_devices:\n",
    "    print('Using GPU')\n",
    "    tf.config.experimental.set_memory_growth(gpu_devices[0], True)\n",
    "else:\n",
    "    print('Using CPU')"
   ]
  },
  {
   "cell_type": "code",
   "execution_count": 4,
   "metadata": {
    "ExecuteTime": {
     "end_time": "2021-02-23T16:46:36.952017Z",
     "start_time": "2021-02-23T16:46:36.940222Z"
    }
   },
   "outputs": [],
   "source": [
    "sns.set_style('whitegrid')\n",
    "np.random.seed(42)"
   ]
  },
  {
   "cell_type": "code",
   "execution_count": 5,
   "metadata": {
    "ExecuteTime": {
     "end_time": "2021-02-23T16:46:36.960141Z",
     "start_time": "2021-02-23T16:46:36.953733Z"
    }
   },
   "outputs": [],
   "source": [
    "results_path = Path('results', 'sentiment_imdb')\n",
    "if not results_path.exists():\n",
    "    results_path.mkdir(parents=True)"
   ]
  },
  {
   "cell_type": "markdown",
   "metadata": {},
   "source": [
    "## Load Reviews"
   ]
  },
  {
   "cell_type": "markdown",
   "metadata": {},
   "source": [
    "To keep the data manageable, we will illustrate this use case with the IMDB reviews dataset, which contains 50,000 positive and negative movie reviews evenly split into a train and a test set, and with balanced labels in each dataset. The vocabulary consists of 88,586 tokens.\n",
    "\n",
    "The dataset is bundled into Keras and can be loaded so that each review is represented as an integer-encoded sequence. We can limit the vocabulary to num_words while filtering out frequent and likely less informative words using skip_top, as well as sentences longer than maxlen. We can also choose oov_char, which represents tokens we chose to exclude from the vocabulary on frequency grounds, as follows:"
   ]
  },
  {
   "cell_type": "code",
   "execution_count": 6,
   "metadata": {
    "ExecuteTime": {
     "end_time": "2021-02-23T16:46:36.967985Z",
     "start_time": "2021-02-23T16:46:36.961210Z"
    }
   },
   "outputs": [],
   "source": [
    "vocab_size = 20000"
   ]
  },
  {
   "cell_type": "code",
   "execution_count": 7,
   "metadata": {
    "ExecuteTime": {
     "end_time": "2021-02-23T16:46:39.920943Z",
     "start_time": "2021-02-23T16:46:36.970408Z"
    }
   },
   "outputs": [
    {
     "name": "stdout",
     "output_type": "stream",
     "text": [
      "Downloading data from https://storage.googleapis.com/tensorflow/tf-keras-datasets/imdb.npz\n",
      "17465344/17464789 [==============================] - 1s 0us/step\n"
     ]
    }
   ],
   "source": [
    "(X_train, y_train), (X_test, y_test) = imdb.load_data(seed=42, \n",
    "                                                      skip_top=0,\n",
    "                                                      maxlen=None, \n",
    "                                                      oov_char=2, \n",
    "                                                      index_from=3,\n",
    "                                                      num_words=vocab_size)"
   ]
  },
  {
   "cell_type": "code",
   "execution_count": 8,
   "metadata": {
    "ExecuteTime": {
     "end_time": "2021-02-23T16:46:40.737546Z",
     "start_time": "2021-02-23T16:46:39.922130Z"
    },
    "scrolled": true
   },
   "outputs": [
    {
     "data": {
      "image/png": "[encoded data removed]",
      "text/plain": [
       "<Figure size 360x360 with 1 Axes>"
      ]
     },
     "metadata": {},
     "output_type": "display_data"
    }
   ],
   "source": [
    "ax = sns.displot([len(review) for review in X_train])\n",
    "ax.set(xscale='log');"
   ]
  },
  {
   "cell_type": "markdown",
   "metadata": {},
   "source": [
    "## Prepare Data"
   ]
  },
  {
   "cell_type": "markdown",
   "metadata": {},
   "source": [
    "In the second step, convert the lists of integers into fixed-size arrays that we can stack and provide as input to our RNN. The pad_sequence function produces arrays of equal length, truncated, and padded to conform to maxlen, as follows:"
   ]
  },
  {
   "cell_type": "code",
   "execution_count": 9,
   "metadata": {
    "ExecuteTime": {
     "end_time": "2021-02-23T16:46:40.740230Z",
     "start_time": "2021-02-23T16:46:40.738607Z"
    }
   },
   "outputs": [],
   "source": [
    "maxlen = 100"
   ]
  },
  {
   "cell_type": "code",
   "execution_count": 10,
   "metadata": {
    "ExecuteTime": {
     "end_time": "2021-02-23T16:46:41.144907Z",
     "start_time": "2021-02-23T16:46:40.741137Z"
    }
   },
   "outputs": [],
   "source": [
    "X_train_padded = pad_sequences(X_train, \n",
    "                        truncating='pre', \n",
    "                        padding='pre', \n",
    "                        maxlen=maxlen)\n",
    "\n",
    "X_test_padded = pad_sequences(X_test, \n",
    "                       truncating='pre', \n",
    "                       padding='pre', \n",
    "                       maxlen=maxlen)"
   ]
  },
  {
   "cell_type": "code",
   "execution_count": 11,
   "metadata": {
    "ExecuteTime": {
     "end_time": "2021-02-23T16:46:41.148423Z",
     "start_time": "2021-02-23T16:46:41.145788Z"
    }
   },
   "outputs": [
    {
     "data": {
      "text/plain": [
       "((25000, 100), (25000, 100))"
      ]
     },
     "execution_count": 11,
     "metadata": {},
     "output_type": "execute_result"
    }
   ],
   "source": [
    "X_train_padded.shape, X_test_padded.shape"
   ]
  },
  {
   "cell_type": "markdown",
   "metadata": {},
   "source": [
    "## Define Model Architecture"
   ]
  },
  {
   "cell_type": "markdown",
   "metadata": {},
   "source": [
    "Now we can define our RNN architecture. The first layer learns the word embeddings. We define the embedding dimension as previously using the input_dim keyword to set the number of tokens that we need to embed, the output_dim keyword, which defines the size of each embedding, and how long each input sequence is going to be."
   ]
  },
  {
   "cell_type": "code",
   "execution_count": 12,
   "metadata": {
    "ExecuteTime": {
     "end_time": "2021-02-23T16:46:41.161746Z",
     "start_time": "2021-02-23T16:46:41.149384Z"
    }
   },
   "outputs": [],
   "source": [
    "K.clear_session()"
   ]
  },
  {
   "cell_type": "markdown",
   "metadata": {},
   "source": [
    "### Custom Loss Metric"
   ]
  },
  {
   "cell_type": "code",
   "execution_count": 13,
   "metadata": {
    "ExecuteTime": {
     "end_time": "2021-02-23T16:46:41.168825Z",
     "start_time": "2021-02-23T16:46:41.162609Z"
    }
   },
   "outputs": [],
   "source": [
    "embedding_size = 100"
   ]
  },
  {
   "cell_type": "markdown",
   "metadata": {},
   "source": [
    "Note that we are using GRUs this time, which train faster and perform better on smaller data. We are also using dropout for regularization, as follows:"
   ]
  },
  {
   "cell_type": "code",
   "execution_count": 14,
   "metadata": {
    "ExecuteTime": {
     "end_time": "2021-02-23T16:46:41.630876Z",
     "start_time": "2021-02-23T16:46:41.169634Z"
    }
   },
   "outputs": [
    {
     "name": "stdout",
     "output_type": "stream",
     "text": [
      "WARNING:tensorflow:Layer gru will not use cuDNN kernels since it doesn't meet the criteria. It will use a generic GPU kernel as fallback when running on GPU.\n",
      "Model: \"sequential\"\n",
      "_________________________________________________________________\n",
      "Layer (type)                 Output Shape              Param #   \n",
      "=================================================================\n",
      "embedding (Embedding)        (None, 100, 100)          2000000   \n",
      "_________________________________________________________________\n",
      "gru (GRU)                    (None, 32)                12864     \n",
      "_________________________________________________________________\n",
      "dense (Dense)                (None, 1)                 33        \n",
      "=================================================================\n",
      "Total params: 2,012,897\n",
      "Trainable params: 2,012,897\n",
      "Non-trainable params: 0\n",
      "_________________________________________________________________\n"
     ]
    }
   ],
   "source": [
    "rnn = Sequential([\n",
    "    Embedding(input_dim=vocab_size, \n",
    "              output_dim= embedding_size, \n",
    "              input_length=maxlen),\n",
    "    GRU(units=32,  \n",
    "        dropout=0.2, # comment out to use optimized GPU implementation\n",
    "        recurrent_dropout=0.2),\n",
    "    Dense(1, activation='sigmoid')\n",
    "])\n",
    "rnn.summary()"
   ]
  },
  {
   "cell_type": "markdown",
   "metadata": {},
   "source": [
    "The resulting model has over 2 million parameters."
   ]
  },
  {
   "cell_type": "markdown",
   "metadata": {},
   "source": [
    "We compile the model to use our custom AUC metric, which we introduced previously, and train with early stopping:"
   ]
  },
  {
   "cell_type": "code",
   "execution_count": 15,
   "metadata": {
    "ExecuteTime": {
     "end_time": "2021-02-23T16:46:41.650602Z",
     "start_time": "2021-02-23T16:46:41.632196Z"
    }
   },
   "outputs": [],
   "source": [
    "rnn.compile(loss='binary_crossentropy', \n",
    "            optimizer='RMSProp', \n",
    "            metrics=['accuracy', \n",
    "                     tf.keras.metrics.AUC(name='AUC')])"
   ]
  },
  {
   "cell_type": "code",
   "execution_count": 16,
   "metadata": {
    "ExecuteTime": {
     "end_time": "2021-02-23T16:46:41.654062Z",
     "start_time": "2021-02-23T16:46:41.651830Z"
    }
   },
   "outputs": [],
   "source": [
    "rnn_path = (results_path / 'lstm.h5').as_posix()\n",
    "\n",
    "checkpointer = ModelCheckpoint(filepath=rnn_path,\n",
    "                               verbose=1,\n",
    "                               monitor='val_AUC',\n",
    "                               mode='max',\n",
    "                               save_best_only=True)"
   ]
  },
  {
   "cell_type": "code",
   "execution_count": 17,
   "metadata": {
    "ExecuteTime": {
     "end_time": "2021-02-23T16:46:41.662536Z",
     "start_time": "2021-02-23T16:46:41.656135Z"
    }
   },
   "outputs": [],
   "source": [
    "early_stopping = EarlyStopping(monitor='val_AUC', \n",
    "                               mode='max',\n",
    "                              patience=5,\n",
    "                              restore_best_weights=True)"
   ]
  },
  {
   "cell_type": "markdown",
   "metadata": {},
   "source": [
    "Training stops after eight epochs and we recover the weights for the best models to find a high test AUC of 0.9346:"
   ]
  },
  {
   "cell_type": "code",
   "execution_count": 18,
   "metadata": {
    "ExecuteTime": {
     "end_time": "2021-02-23T17:06:11.002545Z",
     "start_time": "2021-02-23T16:46:41.663341Z"
    }
   },
   "outputs": [
    {
     "name": "stdout",
     "output_type": "stream",
     "text": [
      "Epoch 1/100\n",
      "782/782 [==============================] - 1745s 2s/step - loss: 0.5256 - accuracy: 0.7164 - AUC: 0.7925 - val_loss: 0.3712 - val_accuracy: 0.8421 - val_AUC: 0.9216\n",
      "\n",
      "Epoch 00001: val_AUC improved from -inf to 0.92162, saving model to results/sentiment_imdb\\lstm.h5\n",
      "Epoch 2/100\n",
      "782/782 [==============================] - 1806s 2s/step - loss: 0.2876 - accuracy: 0.8837 - AUC: 0.9497 - val_loss: 0.3839 - val_accuracy: 0.8270 - val_AUC: 0.9336\n",
      "\n",
      "Epoch 00002: val_AUC improved from 0.92162 to 0.93359, saving model to results/sentiment_imdb\\lstm.h5\n",
      "Epoch 3/100\n",
      "782/782 [==============================] - 1754s 2s/step - loss: 0.2394 - accuracy: 0.9065 - AUC: 0.9648 - val_loss: 0.3494 - val_accuracy: 0.8554 - val_AUC: 0.9365\n",
      "\n",
      "Epoch 00003: val_AUC improved from 0.93359 to 0.93646, saving model to results/sentiment_imdb\\lstm.h5\n",
      "Epoch 4/100\n",
      "782/782 [==============================] - 1285s 2s/step - loss: 0.2039 - accuracy: 0.9218 - AUC: 0.9742 - val_loss: 0.3913 - val_accuracy: 0.8396 - val_AUC: 0.9406\n",
      "\n",
      "Epoch 00004: val_AUC improved from 0.93646 to 0.94057, saving model to results/sentiment_imdb\\lstm.h5\n",
      "Epoch 5/100\n",
      "782/782 [==============================] - 1309s 2s/step - loss: 0.1799 - accuracy: 0.9326 - AUC: 0.9798 - val_loss: 0.3197 - val_accuracy: 0.8649 - val_AUC: 0.9424\n",
      "\n",
      "Epoch 00005: val_AUC improved from 0.94057 to 0.94239, saving model to results/sentiment_imdb\\lstm.h5\n",
      "Epoch 6/100\n",
      "782/782 [==============================] - 1360s 2s/step - loss: 0.1588 - accuracy: 0.9418 - AUC: 0.9838 - val_loss: 0.3753 - val_accuracy: 0.8595 - val_AUC: 0.9380\n",
      "\n",
      "Epoch 00006: val_AUC did not improve from 0.94239\n",
      "Epoch 7/100\n",
      "782/782 [==============================] - 1364s 2s/step - loss: 0.1425 - accuracy: 0.9489 - AUC: 0.9866 - val_loss: 0.3444 - val_accuracy: 0.8603 - val_AUC: 0.9385\n",
      "\n",
      "Epoch 00007: val_AUC did not improve from 0.94239\n",
      "Epoch 8/100\n",
      "782/782 [==============================] - 1356s 2s/step - loss: 0.1171 - accuracy: 0.9574 - AUC: 0.9907 - val_loss: 0.3564 - val_accuracy: 0.8548 - val_AUC: 0.9351\n",
      "\n",
      "Epoch 00008: val_AUC did not improve from 0.94239\n",
      "Epoch 9/100\n",
      "782/782 [==============================] - 1339s 2s/step - loss: 0.1050 - accuracy: 0.9630 - AUC: 0.9925 - val_loss: 0.3889 - val_accuracy: 0.8464 - val_AUC: 0.9301\n",
      "\n",
      "Epoch 00009: val_AUC did not improve from 0.94239\n",
      "Epoch 10/100\n",
      "782/782 [==============================] - 1338s 2s/step - loss: 0.0945 - accuracy: 0.9669 - AUC: 0.9938 - val_loss: 0.4222 - val_accuracy: 0.8482 - val_AUC: 0.9270\n",
      "\n",
      "Epoch 00010: val_AUC did not improve from 0.94239\n"
     ]
    }
   ],
   "source": [
    "training = rnn.fit(X_train_padded,\n",
    "                   y_train,\n",
    "                   batch_size=32,\n",
    "                   epochs=100,\n",
    "                   validation_data=(X_test_padded, y_test),\n",
    "                   callbacks=[early_stopping, checkpointer],\n",
    "                   verbose=1)"
   ]
  },
  {
   "cell_type": "markdown",
   "metadata": {},
   "source": [
    "## Evaluate Results"
   ]
  },
  {
   "cell_type": "code",
   "execution_count": 19,
   "metadata": {
    "ExecuteTime": {
     "end_time": "2021-02-23T17:06:11.006806Z",
     "start_time": "2021-02-23T17:06:11.003730Z"
    }
   },
   "outputs": [],
   "source": [
    "history = pd.DataFrame(training.history)\n",
    "history.index += 1"
   ]
  },
  {
   "cell_type": "code",
   "execution_count": 20,
   "metadata": {
    "ExecuteTime": {
     "end_time": "2021-02-23T17:07:49.772399Z",
     "start_time": "2021-02-23T17:07:49.119899Z"
    }
   },
   "outputs": [
    {
     "data": {
      "image/png": "[encoded data removed]",
      "text/plain": [
       "<Figure size 1008x288 with 2 Axes>"
      ]
     },
     "metadata": {},
     "output_type": "display_data"
    }
   ],
   "source": [
    "fig, axes = plt.subplots(ncols=2, figsize=(14, 4))\n",
    "df1 = (history[['accuracy', 'val_accuracy']]\n",
    "       .rename(columns={'accuracy': 'Training',\n",
    "                        'val_accuracy': 'Validation'}))\n",
    "df1.plot(ax=axes[0], title='Accuracy', xlim=(1, len(history)))\n",
    "\n",
    "axes[0].axvline(df1.Validation.idxmax(), ls='--', lw=1, c='k')\n",
    "\n",
    "df2 = (history[['AUC', 'val_AUC']]\n",
    "       .rename(columns={'AUC': 'Training',\n",
    "                        'val_AUC': 'Validation'}))\n",
    "df2.plot(ax=axes[1], title='Area under the ROC Curve', xlim=(1, len(history)))\n",
    "\n",
    "axes[1].axvline(df2.Validation.idxmax(), ls='--', lw=1, c='k')\n",
    "\n",
    "for i in [0, 1]:\n",
    "    axes[i].set_xlabel('Epoch')\n",
    "\n",
    "sns.despine()\n",
    "fig.tight_layout()\n",
    "fig.savefig(results_path / 'rnn_imdb_cv', dpi=300)"
   ]
  },
  {
   "cell_type": "code",
   "execution_count": 21,
   "metadata": {
    "ExecuteTime": {
     "end_time": "2021-02-23T17:08:02.501972Z",
     "start_time": "2021-02-23T17:07:52.180763Z"
    }
   },
   "outputs": [
    {
     "data": {
      "text/plain": [
       "(25000, 1)"
      ]
     },
     "execution_count": 21,
     "metadata": {},
     "output_type": "execute_result"
    }
   ],
   "source": [
    "y_score = rnn.predict(X_test_padded)\n",
    "y_score.shape"
   ]
  },
  {
   "cell_type": "code",
   "execution_count": 22,
   "metadata": {
    "ExecuteTime": {
     "end_time": "2021-02-23T17:08:02.513650Z",
     "start_time": "2021-02-23T17:08:02.503355Z"
    }
   },
   "outputs": [
    {
     "data": {
      "text/plain": [
       "0.9424095071999999"
      ]
     },
     "execution_count": 22,
     "metadata": {},
     "output_type": "execute_result"
    }
   ],
   "source": [
    "roc_auc_score(y_score=y_score.squeeze(), y_true=y_test)"
   ]
  }
 ],
 "metadata": {
  "kernelspec": {
   "display_name": "Python [conda env:tensorflow_env]",
   "language": "python",
   "name": "conda-env-tensorflow_env-py"
  },
  "language_info": {
   "codemirror_mode": {
    "name": "ipython",
    "version": 3
   },
   "file_extension": ".py",
   "mimetype": "text/x-python",
   "name": "python",
   "nbconvert_exporter": "python",
   "pygments_lexer": "ipython3",
   "version": "3.8.8"
  },
  "toc": {
   "base_numbering": 1,
   "nav_menu": {},
   "number_sections": true,
   "sideBar": true,
   "skip_h1_title": true,
   "title_cell": "Table of Contents",
   "title_sidebar": "Contents",
   "toc_cell": false,
   "toc_position": {},
   "toc_section_display": true,
   "toc_window_display": true
  }
 },
 "nbformat": 4,
 "nbformat_minor": 4
}
