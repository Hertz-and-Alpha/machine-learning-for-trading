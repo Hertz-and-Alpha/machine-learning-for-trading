{
 "cells": [
  {
   "cell_type": "markdown",
   "metadata": {},
   "source": [
    "# Sentiment analysis with pretrained word vectors"
   ]
  },
  {
   "cell_type": "markdown",
   "metadata": {},
   "source": [
    "In Chapter 15, Word Embeddings, we discussed how to learn domain-specific word embeddings. Word2vec, and related learning algorithms, produce high-quality word vectors, but require large datasets. Hence, it is common that research groups share word vectors trained on large datasets, similar to the weights for pretrained deep learning models that we encountered in the section on transfer learning in the previous chapter.\n",
    "\n",
    "We are now going to illustrate how to use pretrained Global Vectors for Word Representation (GloVe) provided by the Stanford NLP group with the IMDB review dataset."
   ]
  },
  {
   "cell_type": "code",
   "execution_count": 1,
   "metadata": {
    "ExecuteTime": {
     "end_time": "2021-02-23T17:14:54.294593Z",
     "start_time": "2021-02-23T17:14:52.919376Z"
    }
   },
   "outputs": [
    {
     "name": "stdout",
     "output_type": "stream",
     "text": [
      "INFO:tensorflow:Enabling eager execution\n",
      "INFO:tensorflow:Enabling v2 tensorshape\n",
      "INFO:tensorflow:Enabling resource variables\n",
      "INFO:tensorflow:Enabling tensor equality\n",
      "INFO:tensorflow:Enabling control flow v2\n"
     ]
    }
   ],
   "source": [
    "%matplotlib inline\n",
    "\n",
    "from pathlib import Path\n",
    "\n",
    "import numpy as np\n",
    "import pandas as pd\n",
    "\n",
    "from sklearn.metrics import roc_auc_score\n",
    "\n",
    "import tensorflow as tf\n",
    "from tensorflow.keras.callbacks import ModelCheckpoint, EarlyStopping\n",
    "from tensorflow.keras.models import Sequential\n",
    "from tensorflow.keras.layers import Dense, GRU, Embedding\n",
    "from tensorflow.keras.preprocessing.sequence import pad_sequences\n",
    "from tensorflow.keras.preprocessing.text import Tokenizer\n",
    "import tensorflow.keras.backend as K\n",
    "\n",
    "import matplotlib.pyplot as plt\n",
    "import seaborn as sns"
   ]
  },
  {
   "cell_type": "code",
   "execution_count": 2,
   "metadata": {
    "ExecuteTime": {
     "end_time": "2021-02-23T17:14:54.335324Z",
     "start_time": "2021-02-23T17:14:54.295781Z"
    }
   },
   "outputs": [
    {
     "name": "stdout",
     "output_type": "stream",
     "text": [
      "Using GPU\n"
     ]
    }
   ],
   "source": [
    "gpu_devices = tf.config.experimental.list_physical_devices('GPU')\n",
    "if gpu_devices:\n",
    "    print('Using GPU')\n",
    "    tf.config.experimental.set_memory_growth(gpu_devices[0], True)\n",
    "else:\n",
    "    print('Using CPU')"
   ]
  },
  {
   "cell_type": "code",
   "execution_count": 3,
   "metadata": {
    "ExecuteTime": {
     "end_time": "2021-02-23T17:14:54.343605Z",
     "start_time": "2021-02-23T17:14:54.336878Z"
    }
   },
   "outputs": [],
   "source": [
    "sns.set_style('whitegrid')\n",
    "np.random.seed(42)"
   ]
  },
  {
   "cell_type": "code",
   "execution_count": 4,
   "metadata": {
    "ExecuteTime": {
     "end_time": "2021-02-23T17:14:54.356444Z",
     "start_time": "2021-02-23T17:14:54.344420Z"
    }
   },
   "outputs": [],
   "source": [
    "results_path = Path('results', 'sentiment_imdb')\n",
    "if not results_path.exists():\n",
    "    results_path.mkdir(parents=True)"
   ]
  },
  {
   "cell_type": "markdown",
   "metadata": {},
   "source": [
    "## Load Reviews"
   ]
  },
  {
   "cell_type": "markdown",
   "metadata": {},
   "source": [
    "We are going to load the IMDB dataset from the source for manual preprocessing."
   ]
  },
  {
   "cell_type": "markdown",
   "metadata": {},
   "source": [
    "Data source: [Stanford IMDB Reviews Dataset](http://ai.stanford.edu/~amaas/data/sentiment/)"
   ]
  },
  {
   "cell_type": "markdown",
   "metadata": {},
   "source": [
    "Dowload extract, and place the content in a newly created `data` folder so that your directory structure looks as follows:\n",
    "```\n",
    "19_recurrent_neural_nets\n",
    " |-data\n",
    "     |-aclimdb\n",
    "          |-train\n",
    "              |-neg\n",
    "              |-pos\n",
    "              ...\n",
    "          |-test\n",
    "          |-imdb.vocab\n",
    "```"
   ]
  },
  {
   "cell_type": "code",
   "execution_count": 5,
   "metadata": {
    "ExecuteTime": {
     "end_time": "2021-02-23T17:14:54.364726Z",
     "start_time": "2021-02-23T17:14:54.357689Z"
    }
   },
   "outputs": [],
   "source": [
    "path = Path('data', 'aclImdb')"
   ]
  },
  {
   "cell_type": "code",
   "execution_count": 6,
   "metadata": {
    "ExecuteTime": {
     "end_time": "2021-02-23T17:14:54.629329Z",
     "start_time": "2021-02-23T17:14:54.366279Z"
    }
   },
   "outputs": [
    {
     "data": {
      "text/plain": [
       "100006"
      ]
     },
     "execution_count": 6,
     "metadata": {},
     "output_type": "execute_result"
    }
   ],
   "source": [
    "files = path.glob('**/*.txt')\n",
    "len(list(files))"
   ]
  },
  {
   "cell_type": "code",
   "execution_count": 7,
   "metadata": {
    "ExecuteTime": {
     "end_time": "2021-02-23T17:14:56.111490Z",
     "start_time": "2021-02-23T17:14:54.631782Z"
    }
   },
   "outputs": [],
   "source": [
    "files = path.glob('*/**/*.txt')\n",
    "outcomes = set()\n",
    "data = []\n",
    "for f in files:\n",
    "    if f.stem.startswith(('urls_', 'imdbEr')):\n",
    "        continue\n",
    "    _, _, data_set, outcome = f.parent.as_posix().split('/')\n",
    "    if outcome == 'unsup':\n",
    "        continue\n",
    "    data.append([data_set, int(outcome == 'pos'),\n",
    "                 f.read_text(encoding='latin1')])"
   ]
  },
  {
   "cell_type": "code",
   "execution_count": 8,
   "metadata": {
    "ExecuteTime": {
     "end_time": "2021-02-23T17:14:56.139785Z",
     "start_time": "2021-02-23T17:14:56.112577Z"
    }
   },
   "outputs": [],
   "source": [
    "data = pd.DataFrame(data, columns=['dataset', 'label', 'review'])"
   ]
  },
  {
   "cell_type": "code",
   "execution_count": 9,
   "metadata": {
    "ExecuteTime": {
     "end_time": "2021-02-23T17:14:56.178373Z",
     "start_time": "2021-02-23T17:14:56.140713Z"
    }
   },
   "outputs": [
    {
     "name": "stdout",
     "output_type": "stream",
     "text": [
      "<class 'pandas.core.frame.DataFrame'>\n",
      "RangeIndex: 50000 entries, 0 to 49999\n",
      "Data columns (total 3 columns):\n",
      " #   Column   Non-Null Count  Dtype \n",
      "---  ------   --------------  ----- \n",
      " 0   dataset  50000 non-null  object\n",
      " 1   label    50000 non-null  int64 \n",
      " 2   review   50000 non-null  object\n",
      "dtypes: int64(1), object(2)\n",
      "memory usage: 1.1+ MB\n"
     ]
    }
   ],
   "source": [
    "data.info()"
   ]
  },
  {
   "cell_type": "code",
   "execution_count": 10,
   "metadata": {
    "ExecuteTime": {
     "end_time": "2021-02-23T17:14:56.191606Z",
     "start_time": "2021-02-23T17:14:56.179291Z"
    }
   },
   "outputs": [],
   "source": [
    "train_data = data.loc[data.dataset=='train', ['label', 'review']]\n",
    "test_data = data.loc[data.dataset=='test', ['label', 'review']]"
   ]
  },
  {
   "cell_type": "code",
   "execution_count": 11,
   "metadata": {
    "ExecuteTime": {
     "end_time": "2021-02-23T17:14:56.196955Z",
     "start_time": "2021-02-23T17:14:56.192500Z"
    }
   },
   "outputs": [
    {
     "data": {
      "text/plain": [
       "0    12500\n",
       "1    12500\n",
       "Name: label, dtype: int64"
      ]
     },
     "execution_count": 11,
     "metadata": {},
     "output_type": "execute_result"
    }
   ],
   "source": [
    "train_data.label.value_counts()"
   ]
  },
  {
   "cell_type": "code",
   "execution_count": 12,
   "metadata": {
    "ExecuteTime": {
     "end_time": "2021-02-23T17:14:56.206787Z",
     "start_time": "2021-02-23T17:14:56.198458Z"
    }
   },
   "outputs": [
    {
     "data": {
      "text/plain": [
       "0    12500\n",
       "1    12500\n",
       "Name: label, dtype: int64"
      ]
     },
     "execution_count": 12,
     "metadata": {},
     "output_type": "execute_result"
    }
   ],
   "source": [
    "test_data.label.value_counts()"
   ]
  },
  {
   "cell_type": "markdown",
   "metadata": {},
   "source": [
    "## Prepare Data"
   ]
  },
  {
   "cell_type": "markdown",
   "metadata": {},
   "source": [
    "### Tokenizer"
   ]
  },
  {
   "cell_type": "markdown",
   "metadata": {},
   "source": [
    "Keras provides a tokenizer that we use to convert the text documents to integer-encoded sequences, as shown here:"
   ]
  },
  {
   "cell_type": "code",
   "execution_count": 13,
   "metadata": {
    "ExecuteTime": {
     "end_time": "2021-02-23T17:14:58.986540Z",
     "start_time": "2021-02-23T17:14:56.208686Z"
    }
   },
   "outputs": [],
   "source": [
    "num_words = 10000\n",
    "t = Tokenizer(num_words=num_words, \n",
    "              lower=True, \n",
    "              oov_token=2)\n",
    "t.fit_on_texts(train_data.review)"
   ]
  },
  {
   "cell_type": "code",
   "execution_count": 14,
   "metadata": {
    "ExecuteTime": {
     "end_time": "2021-02-23T17:14:58.989919Z",
     "start_time": "2021-02-23T17:14:58.987445Z"
    }
   },
   "outputs": [
    {
     "data": {
      "text/plain": [
       "88586"
      ]
     },
     "execution_count": 14,
     "metadata": {},
     "output_type": "execute_result"
    }
   ],
   "source": [
    "vocab_size = len(t.word_index) + 1\n",
    "vocab_size"
   ]
  },
  {
   "cell_type": "code",
   "execution_count": 15,
   "metadata": {
    "ExecuteTime": {
     "end_time": "2021-02-23T17:15:02.913481Z",
     "start_time": "2021-02-23T17:14:58.991167Z"
    }
   },
   "outputs": [],
   "source": [
    "train_data_encoded = t.texts_to_sequences(train_data.review)\n",
    "test_data_encoded = t.texts_to_sequences(test_data.review)"
   ]
  },
  {
   "cell_type": "code",
   "execution_count": 16,
   "metadata": {
    "ExecuteTime": {
     "end_time": "2021-02-23T17:15:02.916314Z",
     "start_time": "2021-02-23T17:15:02.914473Z"
    }
   },
   "outputs": [],
   "source": [
    "max_length = 100"
   ]
  },
  {
   "cell_type": "markdown",
   "metadata": {},
   "source": [
    "### Pad Sequences"
   ]
  },
  {
   "cell_type": "markdown",
   "metadata": {},
   "source": [
    "We also use the pad_sequences function to convert the list of lists (of unequal length) to stacked sets of padded and truncated arrays for both the train and test datasets:"
   ]
  },
  {
   "cell_type": "code",
   "execution_count": 17,
   "metadata": {
    "ExecuteTime": {
     "end_time": "2021-02-23T17:15:03.128188Z",
     "start_time": "2021-02-23T17:15:02.917344Z"
    }
   },
   "outputs": [
    {
     "data": {
      "text/plain": [
       "(25000, 100)"
      ]
     },
     "execution_count": 17,
     "metadata": {},
     "output_type": "execute_result"
    }
   ],
   "source": [
    "X_train_padded = pad_sequences(train_data_encoded, \n",
    "                            maxlen=max_length, \n",
    "                            padding='post',\n",
    "                           truncating='post')\n",
    "y_train = train_data['label']\n",
    "X_train_padded.shape"
   ]
  },
  {
   "cell_type": "code",
   "execution_count": 18,
   "metadata": {
    "ExecuteTime": {
     "end_time": "2021-02-23T17:15:03.343442Z",
     "start_time": "2021-02-23T17:15:03.130324Z"
    },
    "scrolled": true
   },
   "outputs": [
    {
     "data": {
      "text/plain": [
       "(25000, 100)"
      ]
     },
     "execution_count": 18,
     "metadata": {},
     "output_type": "execute_result"
    }
   ],
   "source": [
    "X_test_padded = pad_sequences(test_data_encoded, \n",
    "                            maxlen=max_length, \n",
    "                            padding='post',\n",
    "                           truncating='post')\n",
    "y_test = test_data['label']\n",
    "X_test_padded.shape"
   ]
  },
  {
   "cell_type": "markdown",
   "metadata": {},
   "source": [
    "## Load Embeddings"
   ]
  },
  {
   "cell_type": "markdown",
   "metadata": {},
   "source": [
    "Assuming we have downloaded and unzipped the GloVe data to the location indicated in the code, we now create a dictionary that maps GloVe tokens to 100-dimensional real-valued vectors, as follows:"
   ]
  },
  {
   "cell_type": "code",
   "execution_count": 19,
   "metadata": {
    "ExecuteTime": {
     "end_time": "2021-02-23T17:15:09.664986Z",
     "start_time": "2021-02-23T17:15:03.344584Z"
    }
   },
   "outputs": [],
   "source": [
    "# load the whole embedding into memory\n",
    "glove_path = Path('..', 'data', 'glove', 'glove.6B.100d.txt')\n",
    "embeddings_index = dict()\n",
    "\n",
    "for line in glove_path.open(encoding='latin1'):\n",
    "    values = line.split()\n",
    "    word = values[0]\n",
    "    try:\n",
    "        coefs = np.asarray(values[1:], dtype='float32')\n",
    "    except:\n",
    "        continue\n",
    "    embeddings_index[word] = coefs"
   ]
  },
  {
   "cell_type": "code",
   "execution_count": 20,
   "metadata": {
    "ExecuteTime": {
     "end_time": "2021-02-23T17:15:09.668022Z",
     "start_time": "2021-02-23T17:15:09.665862Z"
    }
   },
   "outputs": [
    {
     "name": "stdout",
     "output_type": "stream",
     "text": [
      "Loaded 399,883 word vectors.\n"
     ]
    }
   ],
   "source": [
    "print('Loaded {:,d} word vectors.'.format(len(embeddings_index)))"
   ]
  },
  {
   "cell_type": "markdown",
   "metadata": {},
   "source": [
    "There are around 340,000 word vectors that we use to create an embedding matrix that matches the vocabulary so that the RNN model can access embeddings by the token index:"
   ]
  },
  {
   "cell_type": "code",
   "execution_count": 21,
   "metadata": {
    "ExecuteTime": {
     "end_time": "2021-02-23T17:15:09.770408Z",
     "start_time": "2021-02-23T17:15:09.669142Z"
    }
   },
   "outputs": [],
   "source": [
    "embedding_matrix = np.zeros((vocab_size, 100))\n",
    "for word, i in t.word_index.items():\n",
    "    embedding_vector = embeddings_index.get(word)\n",
    "    if embedding_vector is not None:\n",
    "        embedding_matrix[i] = embedding_vector"
   ]
  },
  {
   "cell_type": "code",
   "execution_count": 22,
   "metadata": {
    "ExecuteTime": {
     "end_time": "2021-02-23T17:15:09.774652Z",
     "start_time": "2021-02-23T17:15:09.772236Z"
    }
   },
   "outputs": [
    {
     "data": {
      "text/plain": [
       "(88586, 100)"
      ]
     },
     "execution_count": 22,
     "metadata": {},
     "output_type": "execute_result"
    }
   ],
   "source": [
    "embedding_matrix.shape"
   ]
  },
  {
   "cell_type": "markdown",
   "metadata": {},
   "source": [
    "## Define Model Architecture"
   ]
  },
  {
   "cell_type": "markdown",
   "metadata": {},
   "source": [
    "The difference between this and the RNN setup in the previous example is that we are going to pass the embedding matrix to the embedding layer and set it to non-trainable, so that the weights remain fixed during training:"
   ]
  },
  {
   "cell_type": "code",
   "execution_count": 23,
   "metadata": {
    "ExecuteTime": {
     "end_time": "2021-02-23T17:15:09.783915Z",
     "start_time": "2021-02-23T17:15:09.775763Z"
    }
   },
   "outputs": [],
   "source": [
    "embedding_size = 100"
   ]
  },
  {
   "cell_type": "code",
   "execution_count": 24,
   "metadata": {
    "ExecuteTime": {
     "end_time": "2021-02-23T17:15:10.504198Z",
     "start_time": "2021-02-23T17:15:09.784990Z"
    }
   },
   "outputs": [
    {
     "name": "stdout",
     "output_type": "stream",
     "text": [
      "WARNING:tensorflow:Layer gru will not use cuDNN kernels since it doesn't meet the criteria. It will use a generic GPU kernel as fallback when running on GPU.\n",
      "Model: \"sequential\"\n",
      "_________________________________________________________________\n",
      "Layer (type)                 Output Shape              Param #   \n",
      "=================================================================\n",
      "embedding (Embedding)        (None, 100, 100)          8858600   \n",
      "_________________________________________________________________\n",
      "gru (GRU)                    (None, 32)                12864     \n",
      "_________________________________________________________________\n",
      "dense (Dense)                (None, 1)                 33        \n",
      "=================================================================\n",
      "Total params: 8,871,497\n",
      "Trainable params: 12,897\n",
      "Non-trainable params: 8,858,600\n",
      "_________________________________________________________________\n"
     ]
    }
   ],
   "source": [
    "rnn = Sequential([\n",
    "    Embedding(input_dim=vocab_size, \n",
    "              output_dim= embedding_size, \n",
    "              input_length=max_length,\n",
    "              weights=[embedding_matrix], \n",
    "              trainable=False),\n",
    "    GRU(units=32,  dropout=0.2, recurrent_dropout=0.2),\n",
    "    Dense(1, activation='sigmoid')\n",
    "])\n",
    "rnn.summary()"
   ]
  },
  {
   "cell_type": "code",
   "execution_count": 25,
   "metadata": {
    "ExecuteTime": {
     "end_time": "2021-02-23T17:15:10.518063Z",
     "start_time": "2021-02-23T17:15:10.505197Z"
    }
   },
   "outputs": [],
   "source": [
    "rnn.compile(loss='binary_crossentropy',\n",
    "            optimizer='RMSProp',\n",
    "            metrics=['accuracy', \n",
    "                     tf.keras.metrics.AUC(name='AUC')])"
   ]
  },
  {
   "cell_type": "code",
   "execution_count": 26,
   "metadata": {
    "ExecuteTime": {
     "end_time": "2021-02-23T17:15:10.524265Z",
     "start_time": "2021-02-23T17:15:10.519172Z"
    }
   },
   "outputs": [],
   "source": [
    "rnn_path = (results_path / 'lstm.pretrained.h5').as_posix()\n",
    "\n",
    "checkpointer = ModelCheckpoint(filepath=rnn_path,\n",
    "                               verbose=1,\n",
    "                               monitor='val_AUC',\n",
    "                               mode='max',\n",
    "                               save_best_only=True)"
   ]
  },
  {
   "cell_type": "code",
   "execution_count": 27,
   "metadata": {
    "ExecuteTime": {
     "end_time": "2021-02-23T17:15:10.532489Z",
     "start_time": "2021-02-23T17:15:10.525759Z"
    }
   },
   "outputs": [],
   "source": [
    "early_stopping = EarlyStopping(monitor='val_AUC',\n",
    "                               patience=5,\n",
    "                               mode='max',\n",
    "                               restore_best_weights=True)"
   ]
  },
  {
   "cell_type": "code",
   "execution_count": 28,
   "metadata": {
    "ExecuteTime": {
     "end_time": "2021-02-23T18:05:39.642268Z",
     "start_time": "2021-02-23T17:15:10.534115Z"
    },
    "scrolled": false
   },
   "outputs": [
    {
     "name": "stdout",
     "output_type": "stream",
     "text": [
      "Epoch 1/100\n",
      "98/98 [==============================] - 56s 547ms/step - loss: 0.6970 - accuracy: 0.5359 - AUC: 0.5368 - val_loss: 0.6739 - val_accuracy: 0.5779 - val_AUC: 0.6265\n",
      "\n",
      "Epoch 00001: val_AUC improved from -inf to 0.62650, saving model to results/sentiment_imdb\\lstm.pretrained.h5\n",
      "Epoch 2/100\n",
      "98/98 [==============================] - 53s 542ms/step - loss: 0.6425 - accuracy: 0.6273 - AUC: 0.6783 - val_loss: 0.5498 - val_accuracy: 0.7264 - val_AUC: 0.7964\n",
      "\n",
      "Epoch 00002: val_AUC improved from 0.62650 to 0.79642, saving model to results/sentiment_imdb\\lstm.pretrained.h5\n",
      "Epoch 3/100\n",
      "98/98 [==============================] - 53s 543ms/step - loss: 0.5579 - accuracy: 0.7235 - AUC: 0.7874 - val_loss: 0.5327 - val_accuracy: 0.7401 - val_AUC: 0.8290\n",
      "\n",
      "Epoch 00003: val_AUC improved from 0.79642 to 0.82903, saving model to results/sentiment_imdb\\lstm.pretrained.h5\n",
      "Epoch 4/100\n",
      "98/98 [==============================] - 53s 544ms/step - loss: 0.5175 - accuracy: 0.7493 - AUC: 0.8234 - val_loss: 0.5325 - val_accuracy: 0.7383 - val_AUC: 0.8507\n",
      "\n",
      "Epoch 00004: val_AUC improved from 0.82903 to 0.85070, saving model to results/sentiment_imdb\\lstm.pretrained.h5\n",
      "Epoch 5/100\n",
      "98/98 [==============================] - 53s 546ms/step - loss: 0.4901 - accuracy: 0.7688 - AUC: 0.8448 - val_loss: 0.4897 - val_accuracy: 0.7637 - val_AUC: 0.8624\n",
      "\n",
      "Epoch 00005: val_AUC improved from 0.85070 to 0.86244, saving model to results/sentiment_imdb\\lstm.pretrained.h5\n",
      "Epoch 6/100\n",
      "98/98 [==============================] - 54s 547ms/step - loss: 0.4733 - accuracy: 0.7778 - AUC: 0.8559 - val_loss: 0.4626 - val_accuracy: 0.7797 - val_AUC: 0.8715\n",
      "\n",
      "Epoch 00006: val_AUC improved from 0.86244 to 0.87146, saving model to results/sentiment_imdb\\lstm.pretrained.h5\n",
      "Epoch 7/100\n",
      "98/98 [==============================] - 53s 542ms/step - loss: 0.4594 - accuracy: 0.7837 - AUC: 0.8652 - val_loss: 0.4438 - val_accuracy: 0.7883 - val_AUC: 0.8789\n",
      "\n",
      "Epoch 00007: val_AUC improved from 0.87146 to 0.87892, saving model to results/sentiment_imdb\\lstm.pretrained.h5\n",
      "Epoch 8/100\n",
      "98/98 [==============================] - 53s 544ms/step - loss: 0.4514 - accuracy: 0.7861 - AUC: 0.8699 - val_loss: 0.4517 - val_accuracy: 0.7815 - val_AUC: 0.8830\n",
      "\n",
      "Epoch 00008: val_AUC improved from 0.87892 to 0.88299, saving model to results/sentiment_imdb\\lstm.pretrained.h5\n",
      "Epoch 9/100\n",
      "98/98 [==============================] - 53s 541ms/step - loss: 0.4412 - accuracy: 0.7933 - AUC: 0.8761 - val_loss: 0.4381 - val_accuracy: 0.7901 - val_AUC: 0.8868\n",
      "\n",
      "Epoch 00009: val_AUC improved from 0.88299 to 0.88681, saving model to results/sentiment_imdb\\lstm.pretrained.h5\n",
      "Epoch 10/100\n",
      "98/98 [==============================] - 54s 551ms/step - loss: 0.4380 - accuracy: 0.7903 - AUC: 0.8776 - val_loss: 0.4175 - val_accuracy: 0.8032 - val_AUC: 0.8900\n",
      "\n",
      "Epoch 00010: val_AUC improved from 0.88681 to 0.88999, saving model to results/sentiment_imdb\\lstm.pretrained.h5\n",
      "Epoch 11/100\n",
      "98/98 [==============================] - 54s 553ms/step - loss: 0.4290 - accuracy: 0.8026 - AUC: 0.8832 - val_loss: 0.4223 - val_accuracy: 0.7989 - val_AUC: 0.8934\n",
      "\n",
      "Epoch 00011: val_AUC improved from 0.88999 to 0.89338, saving model to results/sentiment_imdb\\lstm.pretrained.h5\n",
      "Epoch 12/100\n",
      "98/98 [==============================] - 54s 553ms/step - loss: 0.4258 - accuracy: 0.8029 - AUC: 0.8852 - val_loss: 0.4082 - val_accuracy: 0.8107 - val_AUC: 0.8951\n",
      "\n",
      "Epoch 00012: val_AUC improved from 0.89338 to 0.89514, saving model to results/sentiment_imdb\\lstm.pretrained.h5\n",
      "Epoch 13/100\n",
      "98/98 [==============================] - 57s 581ms/step - loss: 0.4114 - accuracy: 0.8113 - AUC: 0.8934 - val_loss: 0.4106 - val_accuracy: 0.8073 - val_AUC: 0.8967\n",
      "\n",
      "Epoch 00013: val_AUC improved from 0.89514 to 0.89666, saving model to results/sentiment_imdb\\lstm.pretrained.h5\n",
      "Epoch 14/100\n",
      "98/98 [==============================] - 54s 547ms/step - loss: 0.4143 - accuracy: 0.8069 - AUC: 0.8915 - val_loss: 0.4124 - val_accuracy: 0.8066 - val_AUC: 0.8970\n",
      "\n",
      "Epoch 00014: val_AUC improved from 0.89666 to 0.89704, saving model to results/sentiment_imdb\\lstm.pretrained.h5\n",
      "Epoch 15/100\n",
      "98/98 [==============================] - 53s 541ms/step - loss: 0.4167 - accuracy: 0.8056 - AUC: 0.8901 - val_loss: 0.4007 - val_accuracy: 0.8129 - val_AUC: 0.8992\n",
      "\n",
      "Epoch 00015: val_AUC improved from 0.89704 to 0.89921, saving model to results/sentiment_imdb\\lstm.pretrained.h5\n",
      "Epoch 16/100\n",
      "98/98 [==============================] - 53s 542ms/step - loss: 0.4052 - accuracy: 0.8140 - AUC: 0.8962 - val_loss: 0.3984 - val_accuracy: 0.8145 - val_AUC: 0.9009\n",
      "\n",
      "Epoch 00016: val_AUC improved from 0.89921 to 0.90095, saving model to results/sentiment_imdb\\lstm.pretrained.h5\n",
      "Epoch 17/100\n",
      "98/98 [==============================] - 54s 549ms/step - loss: 0.4040 - accuracy: 0.8129 - AUC: 0.8976 - val_loss: 0.3991 - val_accuracy: 0.8131 - val_AUC: 0.9008\n",
      "\n",
      "Epoch 00017: val_AUC did not improve from 0.90095\n",
      "Epoch 18/100\n",
      "98/98 [==============================] - 54s 553ms/step - loss: 0.4006 - accuracy: 0.8152 - AUC: 0.8985 - val_loss: 0.3978 - val_accuracy: 0.8148 - val_AUC: 0.9014\n",
      "\n",
      "Epoch 00018: val_AUC improved from 0.90095 to 0.90145, saving model to results/sentiment_imdb\\lstm.pretrained.h5\n",
      "Epoch 19/100\n",
      "98/98 [==============================] - 59s 599ms/step - loss: 0.4003 - accuracy: 0.8163 - AUC: 0.8991 - val_loss: 0.4197 - val_accuracy: 0.7998 - val_AUC: 0.9021\n",
      "\n",
      "Epoch 00019: val_AUC improved from 0.90145 to 0.90210, saving model to results/sentiment_imdb\\lstm.pretrained.h5\n",
      "Epoch 20/100\n",
      "98/98 [==============================] - 53s 547ms/step - loss: 0.3908 - accuracy: 0.8178 - AUC: 0.9041 - val_loss: 0.3901 - val_accuracy: 0.8178 - val_AUC: 0.9043\n",
      "\n",
      "Epoch 00020: val_AUC improved from 0.90210 to 0.90426, saving model to results/sentiment_imdb\\lstm.pretrained.h5\n",
      "Epoch 21/100\n",
      "98/98 [==============================] - 53s 537ms/step - loss: 0.3913 - accuracy: 0.8176 - AUC: 0.9038 - val_loss: 0.3912 - val_accuracy: 0.8173 - val_AUC: 0.9051\n",
      "\n",
      "Epoch 00021: val_AUC improved from 0.90426 to 0.90505, saving model to results/sentiment_imdb\\lstm.pretrained.h5\n",
      "Epoch 22/100\n",
      "98/98 [==============================] - 54s 553ms/step - loss: 0.3889 - accuracy: 0.8219 - AUC: 0.9052 - val_loss: 0.3908 - val_accuracy: 0.8166 - val_AUC: 0.9039\n",
      "\n",
      "Epoch 00022: val_AUC did not improve from 0.90505\n",
      "Epoch 23/100\n",
      "98/98 [==============================] - 55s 566ms/step - loss: 0.3879 - accuracy: 0.8228 - AUC: 0.9058 - val_loss: 0.3925 - val_accuracy: 0.8160 - val_AUC: 0.9045\n",
      "\n",
      "Epoch 00023: val_AUC did not improve from 0.90505\n",
      "Epoch 24/100\n",
      "98/98 [==============================] - 57s 579ms/step - loss: 0.3873 - accuracy: 0.8202 - AUC: 0.9059 - val_loss: 0.3898 - val_accuracy: 0.8185 - val_AUC: 0.9053\n",
      "\n",
      "Epoch 00024: val_AUC improved from 0.90505 to 0.90530, saving model to results/sentiment_imdb\\lstm.pretrained.h5\n",
      "Epoch 25/100\n",
      "98/98 [==============================] - 57s 580ms/step - loss: 0.3812 - accuracy: 0.8249 - AUC: 0.9091 - val_loss: 0.3856 - val_accuracy: 0.8203 - val_AUC: 0.9066\n",
      "\n",
      "Epoch 00025: val_AUC improved from 0.90530 to 0.90658, saving model to results/sentiment_imdb\\lstm.pretrained.h5\n",
      "Epoch 26/100\n",
      "98/98 [==============================] - 57s 579ms/step - loss: 0.3803 - accuracy: 0.8252 - AUC: 0.9096 - val_loss: 0.4104 - val_accuracy: 0.8072 - val_AUC: 0.9061\n",
      "\n",
      "Epoch 00026: val_AUC did not improve from 0.90658\n",
      "Epoch 27/100\n",
      "98/98 [==============================] - 57s 585ms/step - loss: 0.3783 - accuracy: 0.8245 - AUC: 0.9105 - val_loss: 0.3838 - val_accuracy: 0.8206 - val_AUC: 0.9073\n",
      "\n",
      "Epoch 00027: val_AUC improved from 0.90658 to 0.90727, saving model to results/sentiment_imdb\\lstm.pretrained.h5\n",
      "Epoch 28/100\n",
      "98/98 [==============================] - 54s 556ms/step - loss: 0.3760 - accuracy: 0.8304 - AUC: 0.9116 - val_loss: 0.3830 - val_accuracy: 0.8210 - val_AUC: 0.9076\n",
      "\n",
      "Epoch 00028: val_AUC improved from 0.90727 to 0.90761, saving model to results/sentiment_imdb\\lstm.pretrained.h5\n",
      "Epoch 29/100\n",
      "98/98 [==============================] - 55s 558ms/step - loss: 0.3665 - accuracy: 0.8311 - AUC: 0.9164 - val_loss: 0.3823 - val_accuracy: 0.8215 - val_AUC: 0.9083\n",
      "\n",
      "Epoch 00029: val_AUC improved from 0.90761 to 0.90835, saving model to results/sentiment_imdb\\lstm.pretrained.h5\n",
      "Epoch 30/100\n"
     ]
    },
    {
     "name": "stdout",
     "output_type": "stream",
     "text": [
      "98/98 [==============================] - 54s 555ms/step - loss: 0.3687 - accuracy: 0.8322 - AUC: 0.9154 - val_loss: 0.3828 - val_accuracy: 0.8213 - val_AUC: 0.9079\n",
      "\n",
      "Epoch 00030: val_AUC did not improve from 0.90835\n",
      "Epoch 31/100\n",
      "98/98 [==============================] - 53s 539ms/step - loss: 0.3708 - accuracy: 0.8315 - AUC: 0.9145 - val_loss: 0.3848 - val_accuracy: 0.8198 - val_AUC: 0.9087\n",
      "\n",
      "Epoch 00031: val_AUC improved from 0.90835 to 0.90867, saving model to results/sentiment_imdb\\lstm.pretrained.h5\n",
      "Epoch 32/100\n",
      "98/98 [==============================] - 52s 531ms/step - loss: 0.3677 - accuracy: 0.8339 - AUC: 0.9160 - val_loss: 0.4000 - val_accuracy: 0.8140 - val_AUC: 0.9085\n",
      "\n",
      "Epoch 00032: val_AUC did not improve from 0.90867\n",
      "Epoch 33/100\n",
      "98/98 [==============================] - 52s 532ms/step - loss: 0.3632 - accuracy: 0.8367 - AUC: 0.9181 - val_loss: 0.3819 - val_accuracy: 0.8233 - val_AUC: 0.9092\n",
      "\n",
      "Epoch 00033: val_AUC improved from 0.90867 to 0.90924, saving model to results/sentiment_imdb\\lstm.pretrained.h5\n",
      "Epoch 34/100\n",
      "98/98 [==============================] - 52s 531ms/step - loss: 0.3570 - accuracy: 0.8399 - AUC: 0.9207 - val_loss: 0.3868 - val_accuracy: 0.8212 - val_AUC: 0.9095\n",
      "\n",
      "Epoch 00034: val_AUC improved from 0.90924 to 0.90951, saving model to results/sentiment_imdb\\lstm.pretrained.h5\n",
      "Epoch 35/100\n",
      "98/98 [==============================] - 52s 536ms/step - loss: 0.3635 - accuracy: 0.8359 - AUC: 0.9177 - val_loss: 0.3862 - val_accuracy: 0.8209 - val_AUC: 0.9098\n",
      "\n",
      "Epoch 00035: val_AUC improved from 0.90951 to 0.90979, saving model to results/sentiment_imdb\\lstm.pretrained.h5\n",
      "Epoch 36/100\n",
      "98/98 [==============================] - 68s 694ms/step - loss: 0.3657 - accuracy: 0.8326 - AUC: 0.9171 - val_loss: 0.4191 - val_accuracy: 0.8005 - val_AUC: 0.9076\n",
      "\n",
      "Epoch 00036: val_AUC did not improve from 0.90979\n",
      "Epoch 37/100\n",
      "98/98 [==============================] - 92s 945ms/step - loss: 0.3585 - accuracy: 0.8393 - AUC: 0.9204 - val_loss: 0.3784 - val_accuracy: 0.8237 - val_AUC: 0.9103\n",
      "\n",
      "Epoch 00037: val_AUC improved from 0.90979 to 0.91032, saving model to results/sentiment_imdb\\lstm.pretrained.h5\n",
      "Epoch 38/100\n",
      "98/98 [==============================] - 93s 950ms/step - loss: 0.3515 - accuracy: 0.8423 - AUC: 0.9232 - val_loss: 0.3893 - val_accuracy: 0.8228 - val_AUC: 0.9104\n",
      "\n",
      "Epoch 00038: val_AUC improved from 0.91032 to 0.91041, saving model to results/sentiment_imdb\\lstm.pretrained.h5\n",
      "Epoch 39/100\n",
      "98/98 [==============================] - 92s 937ms/step - loss: 0.3608 - accuracy: 0.8367 - AUC: 0.9191 - val_loss: 0.3795 - val_accuracy: 0.8238 - val_AUC: 0.9103\n",
      "\n",
      "Epoch 00039: val_AUC did not improve from 0.91041\n",
      "Epoch 40/100\n",
      "98/98 [==============================] - 57s 578ms/step - loss: 0.3506 - accuracy: 0.8435 - AUC: 0.9240 - val_loss: 0.4054 - val_accuracy: 0.8132 - val_AUC: 0.9101\n",
      "\n",
      "Epoch 00040: val_AUC did not improve from 0.91041\n",
      "Epoch 41/100\n",
      "98/98 [==============================] - 56s 568ms/step - loss: 0.3558 - accuracy: 0.8380 - AUC: 0.9214 - val_loss: 0.3826 - val_accuracy: 0.8241 - val_AUC: 0.9107\n",
      "\n",
      "Epoch 00041: val_AUC improved from 0.91041 to 0.91075, saving model to results/sentiment_imdb\\lstm.pretrained.h5\n",
      "Epoch 42/100\n",
      "98/98 [==============================] - 55s 565ms/step - loss: 0.3564 - accuracy: 0.8392 - AUC: 0.9211 - val_loss: 0.4048 - val_accuracy: 0.8101 - val_AUC: 0.9097\n",
      "\n",
      "Epoch 00042: val_AUC did not improve from 0.91075\n",
      "Epoch 43/100\n",
      "98/98 [==============================] - 55s 567ms/step - loss: 0.3499 - accuracy: 0.8447 - AUC: 0.9241 - val_loss: 0.4285 - val_accuracy: 0.8006 - val_AUC: 0.9101\n",
      "\n",
      "Epoch 00043: val_AUC did not improve from 0.91075\n",
      "Epoch 44/100\n",
      "98/98 [==============================] - 56s 569ms/step - loss: 0.3562 - accuracy: 0.8375 - AUC: 0.9213 - val_loss: 0.3809 - val_accuracy: 0.8248 - val_AUC: 0.9114\n",
      "\n",
      "Epoch 00044: val_AUC improved from 0.91075 to 0.91136, saving model to results/sentiment_imdb\\lstm.pretrained.h5\n",
      "Epoch 45/100\n",
      "98/98 [==============================] - 57s 578ms/step - loss: 0.3493 - accuracy: 0.8454 - AUC: 0.9243 - val_loss: 0.3826 - val_accuracy: 0.8230 - val_AUC: 0.9114\n",
      "\n",
      "Epoch 00045: val_AUC improved from 0.91136 to 0.91138, saving model to results/sentiment_imdb\\lstm.pretrained.h5\n",
      "Epoch 46/100\n",
      "98/98 [==============================] - 57s 577ms/step - loss: 0.3455 - accuracy: 0.8465 - AUC: 0.9258 - val_loss: 0.3925 - val_accuracy: 0.8196 - val_AUC: 0.9118\n",
      "\n",
      "Epoch 00046: val_AUC improved from 0.91138 to 0.91182, saving model to results/sentiment_imdb\\lstm.pretrained.h5\n",
      "Epoch 47/100\n",
      "98/98 [==============================] - 60s 614ms/step - loss: 0.3456 - accuracy: 0.8453 - AUC: 0.9258 - val_loss: 0.3791 - val_accuracy: 0.8262 - val_AUC: 0.9118\n",
      "\n",
      "Epoch 00047: val_AUC improved from 0.91182 to 0.91182, saving model to results/sentiment_imdb\\lstm.pretrained.h5\n",
      "Epoch 48/100\n",
      "98/98 [==============================] - 86s 877ms/step - loss: 0.3466 - accuracy: 0.8452 - AUC: 0.9254 - val_loss: 0.3805 - val_accuracy: 0.8248 - val_AUC: 0.9121\n",
      "\n",
      "Epoch 00048: val_AUC improved from 0.91182 to 0.91208, saving model to results/sentiment_imdb\\lstm.pretrained.h5\n",
      "Epoch 49/100\n",
      "98/98 [==============================] - 83s 843ms/step - loss: 0.3420 - accuracy: 0.8482 - AUC: 0.9273 - val_loss: 0.3823 - val_accuracy: 0.8254 - val_AUC: 0.9115\n",
      "\n",
      "Epoch 00049: val_AUC did not improve from 0.91208\n",
      "Epoch 50/100\n",
      "98/98 [==============================] - 91s 927ms/step - loss: 0.3392 - accuracy: 0.8465 - AUC: 0.9289 - val_loss: 0.3853 - val_accuracy: 0.8224 - val_AUC: 0.9110\n",
      "\n",
      "Epoch 00050: val_AUC did not improve from 0.91208\n",
      "Epoch 51/100\n",
      "98/98 [==============================] - 95s 975ms/step - loss: 0.3394 - accuracy: 0.8479 - AUC: 0.9286 - val_loss: 0.3809 - val_accuracy: 0.8239 - val_AUC: 0.9108\n",
      "\n",
      "Epoch 00051: val_AUC did not improve from 0.91208\n",
      "Epoch 52/100\n",
      "98/98 [==============================] - 96s 980ms/step - loss: 0.3373 - accuracy: 0.8479 - AUC: 0.9293 - val_loss: 0.3827 - val_accuracy: 0.8274 - val_AUC: 0.9112\n",
      "\n",
      "Epoch 00052: val_AUC did not improve from 0.91208\n",
      "Epoch 53/100\n",
      "98/98 [==============================] - 95s 973ms/step - loss: 0.3380 - accuracy: 0.8491 - AUC: 0.9294 - val_loss: 0.3831 - val_accuracy: 0.8218 - val_AUC: 0.9119\n",
      "\n",
      "Epoch 00053: val_AUC did not improve from 0.91208\n"
     ]
    }
   ],
   "source": [
    "training = rnn.fit(X_train_padded,\n",
    "                   y_train,\n",
    "                   batch_size=256,\n",
    "                   epochs=100,\n",
    "                   validation_data=(X_test_padded,\n",
    "                                    y_test),\n",
    "                   callbacks=[early_stopping,\n",
    "                              checkpointer],\n",
    "                   verbose=1)"
   ]
  },
  {
   "cell_type": "code",
   "execution_count": 29,
   "metadata": {
    "ExecuteTime": {
     "end_time": "2021-02-23T18:05:51.382125Z",
     "start_time": "2021-02-23T18:05:39.643359Z"
    }
   },
   "outputs": [
    {
     "data": {
      "text/plain": [
       "0.9121198848000001"
      ]
     },
     "execution_count": 29,
     "metadata": {},
     "output_type": "execute_result"
    }
   ],
   "source": [
    "y_score = rnn.predict(X_test_padded)\n",
    "roc_auc_score(y_score=y_score.squeeze(), y_true=y_test)"
   ]
  },
  {
   "cell_type": "code",
   "execution_count": 30,
   "metadata": {
    "ExecuteTime": {
     "end_time": "2021-02-23T18:05:52.075335Z",
     "start_time": "2021-02-23T18:05:51.383093Z"
    }
   },
   "outputs": [
    {
     "data": {
      "image/png": "[encoded data removed]",
      "text/plain": [
       "<Figure size 1008x288 with 2 Axes>"
      ]
     },
     "metadata": {},
     "output_type": "display_data"
    }
   ],
   "source": [
    "df = pd.DataFrame(training.history)\n",
    "best_auc = df.val_AUC.max()\n",
    "best_acc = df.val_accuracy.max()\n",
    "\n",
    "fig, axes = plt.subplots(ncols=2, figsize=(14,4))\n",
    "df.index = df.index.to_series().add(1)\n",
    "df[['AUC', 'val_AUC']].plot(ax=axes[0], \n",
    "                            title=f'AUC | Best: {best_auc:.4f}', \n",
    "                            legend=False, \n",
    "                            xlim=(1, 33),\n",
    "                            ylim=(.7, .95))\n",
    "\n",
    "axes[0].axvline(df.val_AUC.idxmax(), ls='--', lw=1, c='k')\n",
    "df[['accuracy', 'val_accuracy']].plot(ax=axes[1], \n",
    "                                              title=f'Accuracy | Best: {best_acc:.2%}', \n",
    "                                              legend=False, \n",
    "                                              xlim=(1, 33),\n",
    "                                      ylim=(.7, .9))\n",
    "axes[1].axvline(df.val_accuracy.idxmax(), ls='--', lw=1, c='k')\n",
    "axes[0].set_xlabel('Epoch')\n",
    "axes[0].set_ylabel('AUC')\n",
    "axes[1].set_xlabel('Epoch')\n",
    "axes[1].set_ylabel('Accuracy')\n",
    "fig.suptitle('Sentiment Analysis - Pretrained Vectors', fontsize=14)\n",
    "fig.legend(['Train', 'Validation'], loc='center right')\n",
    "\n",
    "sns.despine()\n",
    "fig.tight_layout()\n",
    "fig.subplots_adjust(top=.9)\n",
    "fig.savefig(results_path / 'imdb_pretrained', dpi=300);"
   ]
  }
 ],
 "metadata": {
  "kernelspec": {
   "display_name": "Python [conda env:tensorflow_env]",
   "language": "python",
   "name": "conda-env-tensorflow_env-py"
  },
  "language_info": {
   "codemirror_mode": {
    "name": "ipython",
    "version": 3
   },
   "file_extension": ".py",
   "mimetype": "text/x-python",
   "name": "python",
   "nbconvert_exporter": "python",
   "pygments_lexer": "ipython3",
   "version": "3.8.8"
  },
  "toc": {
   "base_numbering": 1,
   "nav_menu": {},
   "number_sections": true,
   "sideBar": true,
   "skip_h1_title": true,
   "title_cell": "Table of Contents",
   "title_sidebar": "Contents",
   "toc_cell": false,
   "toc_position": {},
   "toc_section_display": true,
   "toc_window_display": true
  }
 },
 "nbformat": 4,
 "nbformat_minor": 4
}
