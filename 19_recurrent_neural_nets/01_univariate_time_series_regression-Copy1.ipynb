{
 "cells": [
  {
   "cell_type": "markdown",
   "metadata": {
    "pycharm": {}
   },
   "source": [
    "# Recurrent Neural Networks"
   ]
  },
  {
   "cell_type": "markdown",
   "metadata": {
    "pycharm": {}
   },
   "source": [
    "## Univariate Time Series Regression"
   ]
  },
  {
   "cell_type": "markdown",
   "metadata": {
    "pycharm": {}
   },
   "source": [
    "This notebook demonstrates how to forecast the S&P 500 index using a Recurrent Neural Network."
   ]
  },
  {
   "cell_type": "markdown",
   "metadata": {
    "pycharm": {}
   },
   "source": [
    "## Imports & Settings"
   ]
  },
  {
   "cell_type": "code",
   "execution_count": 1,
   "metadata": {
    "ExecuteTime": {
     "end_time": "2021-02-23T06:36:30.844209Z",
     "start_time": "2021-02-23T06:36:30.842448Z"
    }
   },
   "outputs": [],
   "source": [
    "import warnings\n",
    "warnings.filterwarnings('ignore')"
   ]
  },
  {
   "cell_type": "code",
   "execution_count": 2,
   "metadata": {
    "ExecuteTime": {
     "end_time": "2021-02-23T06:36:30.861089Z",
     "start_time": "2021-02-23T06:36:30.848187Z"
    },
    "pycharm": {}
   },
   "outputs": [
    {
     "name": "stdout",
     "output_type": "stream",
     "text": [
      "INFO:tensorflow:Enabling eager execution\n",
      "INFO:tensorflow:Enabling v2 tensorshape\n",
      "INFO:tensorflow:Enabling resource variables\n",
      "INFO:tensorflow:Enabling tensor equality\n",
      "INFO:tensorflow:Enabling control flow v2\n"
     ]
    }
   ],
   "source": [
    "%matplotlib inline\n",
    "\n",
    "from pathlib import Path\n",
    "\n",
    "import numpy as np\n",
    "import pandas as pd\n",
    "import pandas_datareader.data as web\n",
    "from scipy.stats import spearmanr\n",
    "\n",
    "from sklearn.metrics import mean_squared_error\n",
    "from sklearn.preprocessing import MinMaxScaler\n",
    "\n",
    "import tensorflow as tf\n",
    "from tensorflow.keras.callbacks import ModelCheckpoint, EarlyStopping\n",
    "from tensorflow.keras.models import Sequential\n",
    "from tensorflow.keras.layers import Dense, LSTM\n",
    "from tensorflow import keras\n",
    "\n",
    "import matplotlib.pyplot as plt\n",
    "import seaborn as sns"
   ]
  },
  {
   "cell_type": "code",
   "execution_count": 3,
   "metadata": {
    "ExecuteTime": {
     "end_time": "2021-02-23T06:36:30.871046Z",
     "start_time": "2021-02-23T06:36:30.862297Z"
    }
   },
   "outputs": [
    {
     "name": "stdout",
     "output_type": "stream",
     "text": [
      "Using GPU\n"
     ]
    }
   ],
   "source": [
    "gpu_devices = tf.config.experimental.list_physical_devices('GPU')\n",
    "if gpu_devices:\n",
    "    print('Using GPU')\n",
    "    tf.config.experimental.set_memory_growth(gpu_devices[0], True)\n",
    "else:\n",
    "    print('Using CPU')"
   ]
  },
  {
   "cell_type": "code",
   "execution_count": 4,
   "metadata": {
    "ExecuteTime": {
     "end_time": "2021-02-23T06:36:30.878498Z",
     "start_time": "2021-02-23T06:36:30.872701Z"
    },
    "pycharm": {}
   },
   "outputs": [],
   "source": [
    "sns.set_style('whitegrid')\n",
    "np.random.seed(42)"
   ]
  },
  {
   "cell_type": "code",
   "execution_count": 5,
   "metadata": {
    "ExecuteTime": {
     "end_time": "2021-02-23T06:36:30.886656Z",
     "start_time": "2021-02-23T06:36:30.880270Z"
    }
   },
   "outputs": [],
   "source": [
    "results_path = Path('results', 'univariate_time_series')\n",
    "if not results_path.exists():\n",
    "    results_path.mkdir(parents=True)"
   ]
  },
  {
   "cell_type": "markdown",
   "metadata": {
    "pycharm": {}
   },
   "source": [
    "## Get Data"
   ]
  },
  {
   "cell_type": "markdown",
   "metadata": {
    "pycharm": {}
   },
   "source": [
    "We obtain data for 2010-2018 from the Federal Reserve Bank’s Data Service [FRED](https://fred.stlouisfed.org/) using the [pandas_datareader](https://pandas-datareader.readthedocs.io/) library in introduced in [Chapter 2 on Market and Fundamental Data](../02_market_and_fundamental_data)."
   ]
  },
  {
   "cell_type": "code",
   "execution_count": 6,
   "metadata": {
    "ExecuteTime": {
     "end_time": "2021-02-23T06:36:31.318516Z",
     "start_time": "2021-02-23T06:36:30.888059Z"
    },
    "pycharm": {}
   },
   "outputs": [
    {
     "data": {
      "image/png": "[encoded data removed]",
      "text/plain": [
       "<Figure size 1008x288 with 1 Axes>"
      ]
     },
     "metadata": {},
     "output_type": "display_data"
    }
   ],
   "source": [
    "sp500 = web.DataReader('SP500', 'fred', start='2010', end='2020').dropna()\n",
    "ax = sp500.plot(title='S&P 500',\n",
    "           legend=False,\n",
    "           figsize=(14, 4),\n",
    "           rot=0)\n",
    "ax.set_xlabel('')\n",
    "sns.despine()"
   ]
  },
  {
   "cell_type": "markdown",
   "metadata": {
    "pycharm": {}
   },
   "source": [
    "## Preprocessing"
   ]
  },
  {
   "cell_type": "code",
   "execution_count": 7,
   "metadata": {
    "ExecuteTime": {
     "end_time": "2021-02-23T06:36:31.322036Z",
     "start_time": "2021-02-23T06:36:31.319768Z"
    }
   },
   "outputs": [],
   "source": [
    "scaler = MinMaxScaler()"
   ]
  },
  {
   "cell_type": "code",
   "execution_count": 8,
   "metadata": {
    "ExecuteTime": {
     "end_time": "2021-02-23T06:36:31.337265Z",
     "start_time": "2021-02-23T06:36:31.323341Z"
    },
    "pycharm": {}
   },
   "outputs": [
    {
     "data": {
      "text/plain": [
       "count    2169.000000\n",
       "mean        0.461209\n",
       "std         0.251324\n",
       "min         0.000000\n",
       "25%         0.259689\n",
       "50%         0.451852\n",
       "75%         0.680127\n",
       "max         1.000000\n",
       "dtype: float64"
      ]
     },
     "execution_count": 8,
     "metadata": {},
     "output_type": "execute_result"
    }
   ],
   "source": [
    "sp500_scaled = pd.Series(scaler.fit_transform(sp500).squeeze(), \n",
    "                         index=sp500.index)\n",
    "sp500_scaled.describe()"
   ]
  },
  {
   "cell_type": "markdown",
   "metadata": {
    "pycharm": {}
   },
   "source": [
    "## Generating recurrent sequences from our time series\n",
    "\n",
    "Our time series is a sequence of numbers indexed by time:\n",
    "\n",
    "$$x_{0},x_{1},x_{2},...,x_{T}$$\n",
    "\n",
    "where $\\{x_t\\}$ is the numerical value in period $t$ and  $T$ is the total length of the series. \n",
    "\n",
    "To apply a RNN for regression of classification, we use a sliding window to construct a rolling set of input/output pairs for our model to learn from as animated below.\n",
    "\n",
    "<img src=\"../assets/timeseries_windowing.gif\" width=600 height=600/>"
   ]
  },
  {
   "cell_type": "markdown",
   "metadata": {
    "pycharm": {}
   },
   "source": [
    "We will generate sequences of 63 trading days, approximately three months, and use a single LSTM layer with 20 hidden units to predict the index value one timestep ahead. \n",
    "The input to every LSTM layer must have three dimensions, namely:\n",
    "- **Samples**: One sequence is one sample. A batch contains one or more samples.\n",
    "- **Time Steps**: One time step is one point of observation in the sample.\n",
    "- **Features**: One feature is one observation at a time step.\n",
    "\n",
    "Our S&P 500 sample has 2,264 observations or time steps. We will create overlapping sequences using a window of 63 observations each.\n",
    "For a simpler window of size T = 5, we obtain input-output pairs as shown in the following table:"
   ]
  },
  {
   "cell_type": "markdown",
   "metadata": {
    "pycharm": {}
   },
   "source": [
    "$$\\begin{array}{c|c}\n",
    "\\text{Input} & \\text{Output}\\\\\n",
    "\\hline  {\\langle x_1,x_2,x_3,x_4,x_5\\rangle} & { x_6} \\\\\n",
    "\\ {\\langle x_{2},x_{3},x_{4},x_{5},x_{6} \\rangle } & {x_{7} } \\\\\n",
    "  {\\vdots} & {\\vdots}\\\\\n",
    " { \\langle x_{T-5},x_{T-4},x_{T-3},x_{T-2},x_{T-1} \\rangle } &  {x_{T}}\n",
    "\\end{array}$$"
   ]
  },
  {
   "cell_type": "markdown",
   "metadata": {
    "pycharm": {}
   },
   "source": [
    "Generally speaking, for window size S, the relationship takes the form \n",
    "\n",
    "$$x_t = f( x_{t-1}, x_{t-2}, ..., x_{t-S}) \\quad\\forall t=S, S+1, ..., T$$\n",
    "\n",
    "Each of the $T-S$ lagged input sequence or vector is of length S with a corresponding scalar output."
   ]
  },
  {
   "cell_type": "markdown",
   "metadata": {
    "pycharm": {}
   },
   "source": [
    "We can use the function create_univariate_rnn_data() to stack sequences selected using a rolling windows:"
   ]
  },
  {
   "cell_type": "code",
   "execution_count": 9,
   "metadata": {
    "ExecuteTime": {
     "end_time": "2021-02-23T06:36:31.343430Z",
     "start_time": "2021-02-23T06:36:31.338826Z"
    },
    "pycharm": {}
   },
   "outputs": [],
   "source": [
    "def create_univariate_rnn_data(data, window_size):\n",
    "    n = len(data)\n",
    "    y = data[window_size:]\n",
    "    data = data.values.reshape(-1, 1) # make 2D\n",
    "    X = np.hstack(tuple([data[i: n-j, :] for i, j in enumerate(range(window_size, 0, -1))]))\n",
    "    return pd.DataFrame(X, index=y.index), y"
   ]
  },
  {
   "cell_type": "markdown",
   "metadata": {
    "pycharm": {}
   },
   "source": [
    "We apply this function to the rescaled stock index for a window_size=63 to obtain a two-dimensional dataset of shape number of samples x number of timesteps:"
   ]
  },
  {
   "cell_type": "code",
   "execution_count": 10,
   "metadata": {
    "ExecuteTime": {
     "end_time": "2021-02-23T06:36:31.351064Z",
     "start_time": "2021-02-23T06:36:31.344858Z"
    },
    "pycharm": {}
   },
   "outputs": [],
   "source": [
    "window_size = 63"
   ]
  },
  {
   "cell_type": "code",
   "execution_count": 11,
   "metadata": {
    "ExecuteTime": {
     "end_time": "2021-02-23T06:36:31.364327Z",
     "start_time": "2021-02-23T06:36:31.352204Z"
    },
    "pycharm": {}
   },
   "outputs": [],
   "source": [
    "X, y = create_univariate_rnn_data(sp500_scaled, window_size=window_size)"
   ]
  },
  {
   "cell_type": "code",
   "execution_count": 12,
   "metadata": {
    "ExecuteTime": {
     "end_time": "2021-02-23T06:36:31.386219Z",
     "start_time": "2021-02-23T06:36:31.365399Z"
    },
    "pycharm": {}
   },
   "outputs": [
    {
     "data": {
      "text/html": [
       "<div>\n",
       "<style scoped>\n",
       "    .dataframe tbody tr th:only-of-type {\n",
       "        vertical-align: middle;\n",
       "    }\n",
       "\n",
       "    .dataframe tbody tr th {\n",
       "        vertical-align: top;\n",
       "    }\n",
       "\n",
       "    .dataframe thead th {\n",
       "        text-align: right;\n",
       "    }\n",
       "</style>\n",
       "<table border=\"1\" class=\"dataframe\">\n",
       "  <thead>\n",
       "    <tr style=\"text-align: right;\">\n",
       "      <th></th>\n",
       "      <th>0</th>\n",
       "      <th>1</th>\n",
       "      <th>2</th>\n",
       "      <th>3</th>\n",
       "      <th>4</th>\n",
       "      <th>5</th>\n",
       "      <th>6</th>\n",
       "      <th>7</th>\n",
       "      <th>8</th>\n",
       "      <th>9</th>\n",
       "      <th>...</th>\n",
       "      <th>53</th>\n",
       "      <th>54</th>\n",
       "      <th>55</th>\n",
       "      <th>56</th>\n",
       "      <th>57</th>\n",
       "      <th>58</th>\n",
       "      <th>59</th>\n",
       "      <th>60</th>\n",
       "      <th>61</th>\n",
       "      <th>62</th>\n",
       "    </tr>\n",
       "    <tr>\n",
       "      <th>DATE</th>\n",
       "      <th></th>\n",
       "      <th></th>\n",
       "      <th></th>\n",
       "      <th></th>\n",
       "      <th></th>\n",
       "      <th></th>\n",
       "      <th></th>\n",
       "      <th></th>\n",
       "      <th></th>\n",
       "      <th></th>\n",
       "      <th></th>\n",
       "      <th></th>\n",
       "      <th></th>\n",
       "      <th></th>\n",
       "      <th></th>\n",
       "      <th></th>\n",
       "      <th></th>\n",
       "      <th></th>\n",
       "      <th></th>\n",
       "      <th></th>\n",
       "      <th></th>\n",
       "    </tr>\n",
       "  </thead>\n",
       "  <tbody>\n",
       "    <tr>\n",
       "      <th>2011-08-18</th>\n",
       "      <td>0.114149</td>\n",
       "      <td>0.109324</td>\n",
       "      <td>0.101897</td>\n",
       "      <td>0.101388</td>\n",
       "      <td>0.103345</td>\n",
       "      <td>0.105783</td>\n",
       "      <td>0.108310</td>\n",
       "      <td>0.114897</td>\n",
       "      <td>0.100580</td>\n",
       "      <td>0.099828</td>\n",
       "      <td>...</td>\n",
       "      <td>0.047104</td>\n",
       "      <td>0.046782</td>\n",
       "      <td>0.009450</td>\n",
       "      <td>0.034240</td>\n",
       "      <td>0.010057</td>\n",
       "      <td>0.034291</td>\n",
       "      <td>0.037173</td>\n",
       "      <td>0.049169</td>\n",
       "      <td>0.043689</td>\n",
       "      <td>0.044217</td>\n",
       "    </tr>\n",
       "    <tr>\n",
       "      <th>2011-08-19</th>\n",
       "      <td>0.109324</td>\n",
       "      <td>0.101897</td>\n",
       "      <td>0.101388</td>\n",
       "      <td>0.103345</td>\n",
       "      <td>0.105783</td>\n",
       "      <td>0.108310</td>\n",
       "      <td>0.114897</td>\n",
       "      <td>0.100580</td>\n",
       "      <td>0.099828</td>\n",
       "      <td>0.093858</td>\n",
       "      <td>...</td>\n",
       "      <td>0.046782</td>\n",
       "      <td>0.009450</td>\n",
       "      <td>0.034240</td>\n",
       "      <td>0.010057</td>\n",
       "      <td>0.034291</td>\n",
       "      <td>0.037173</td>\n",
       "      <td>0.049169</td>\n",
       "      <td>0.043689</td>\n",
       "      <td>0.044217</td>\n",
       "      <td>0.019348</td>\n",
       "    </tr>\n",
       "    <tr>\n",
       "      <th>2011-08-22</th>\n",
       "      <td>0.101897</td>\n",
       "      <td>0.101388</td>\n",
       "      <td>0.103345</td>\n",
       "      <td>0.105783</td>\n",
       "      <td>0.108310</td>\n",
       "      <td>0.114897</td>\n",
       "      <td>0.100580</td>\n",
       "      <td>0.099828</td>\n",
       "      <td>0.093858</td>\n",
       "      <td>0.087323</td>\n",
       "      <td>...</td>\n",
       "      <td>0.009450</td>\n",
       "      <td>0.034240</td>\n",
       "      <td>0.010057</td>\n",
       "      <td>0.034291</td>\n",
       "      <td>0.037173</td>\n",
       "      <td>0.049169</td>\n",
       "      <td>0.043689</td>\n",
       "      <td>0.044217</td>\n",
       "      <td>0.019348</td>\n",
       "      <td>0.011351</td>\n",
       "    </tr>\n",
       "    <tr>\n",
       "      <th>2011-08-23</th>\n",
       "      <td>0.101388</td>\n",
       "      <td>0.103345</td>\n",
       "      <td>0.105783</td>\n",
       "      <td>0.108310</td>\n",
       "      <td>0.114897</td>\n",
       "      <td>0.100580</td>\n",
       "      <td>0.099828</td>\n",
       "      <td>0.093858</td>\n",
       "      <td>0.087323</td>\n",
       "      <td>0.086748</td>\n",
       "      <td>...</td>\n",
       "      <td>0.034240</td>\n",
       "      <td>0.010057</td>\n",
       "      <td>0.034291</td>\n",
       "      <td>0.037173</td>\n",
       "      <td>0.049169</td>\n",
       "      <td>0.043689</td>\n",
       "      <td>0.044217</td>\n",
       "      <td>0.019348</td>\n",
       "      <td>0.011351</td>\n",
       "      <td>0.011486</td>\n",
       "    </tr>\n",
       "    <tr>\n",
       "      <th>2011-08-24</th>\n",
       "      <td>0.103345</td>\n",
       "      <td>0.105783</td>\n",
       "      <td>0.108310</td>\n",
       "      <td>0.114897</td>\n",
       "      <td>0.100580</td>\n",
       "      <td>0.099828</td>\n",
       "      <td>0.093858</td>\n",
       "      <td>0.087323</td>\n",
       "      <td>0.086748</td>\n",
       "      <td>0.084235</td>\n",
       "      <td>...</td>\n",
       "      <td>0.010057</td>\n",
       "      <td>0.034291</td>\n",
       "      <td>0.037173</td>\n",
       "      <td>0.049169</td>\n",
       "      <td>0.043689</td>\n",
       "      <td>0.044217</td>\n",
       "      <td>0.019348</td>\n",
       "      <td>0.011351</td>\n",
       "      <td>0.011486</td>\n",
       "      <td>0.029484</td>\n",
       "    </tr>\n",
       "  </tbody>\n",
       "</table>\n",
       "<p>5 rows × 63 columns</p>\n",
       "</div>"
      ],
      "text/plain": [
       "                  0         1         2         3         4         5   \\\n",
       "DATE                                                                     \n",
       "2011-08-18  0.114149  0.109324  0.101897  0.101388  0.103345  0.105783   \n",
       "2011-08-19  0.109324  0.101897  0.101388  0.103345  0.105783  0.108310   \n",
       "2011-08-22  0.101897  0.101388  0.103345  0.105783  0.108310  0.114897   \n",
       "2011-08-23  0.101388  0.103345  0.105783  0.108310  0.114897  0.100580   \n",
       "2011-08-24  0.103345  0.105783  0.108310  0.114897  0.100580  0.099828   \n",
       "\n",
       "                  6         7         8         9   ...        53        54  \\\n",
       "DATE                                                ...                       \n",
       "2011-08-18  0.108310  0.114897  0.100580  0.099828  ...  0.047104  0.046782   \n",
       "2011-08-19  0.114897  0.100580  0.099828  0.093858  ...  0.046782  0.009450   \n",
       "2011-08-22  0.100580  0.099828  0.093858  0.087323  ...  0.009450  0.034240   \n",
       "2011-08-23  0.099828  0.093858  0.087323  0.086748  ...  0.034240  0.010057   \n",
       "2011-08-24  0.093858  0.087323  0.086748  0.084235  ...  0.010057  0.034291   \n",
       "\n",
       "                  55        56        57        58        59        60  \\\n",
       "DATE                                                                     \n",
       "2011-08-18  0.009450  0.034240  0.010057  0.034291  0.037173  0.049169   \n",
       "2011-08-19  0.034240  0.010057  0.034291  0.037173  0.049169  0.043689   \n",
       "2011-08-22  0.010057  0.034291  0.037173  0.049169  0.043689  0.044217   \n",
       "2011-08-23  0.034291  0.037173  0.049169  0.043689  0.044217  0.019348   \n",
       "2011-08-24  0.037173  0.049169  0.043689  0.044217  0.019348  0.011351   \n",
       "\n",
       "                  61        62  \n",
       "DATE                            \n",
       "2011-08-18  0.043689  0.044217  \n",
       "2011-08-19  0.044217  0.019348  \n",
       "2011-08-22  0.019348  0.011351  \n",
       "2011-08-23  0.011351  0.011486  \n",
       "2011-08-24  0.011486  0.029484  \n",
       "\n",
       "[5 rows x 63 columns]"
      ]
     },
     "execution_count": 12,
     "metadata": {},
     "output_type": "execute_result"
    }
   ],
   "source": [
    "X.head()"
   ]
  },
  {
   "cell_type": "code",
   "execution_count": 13,
   "metadata": {
    "ExecuteTime": {
     "end_time": "2021-02-23T06:36:31.390988Z",
     "start_time": "2021-02-23T06:36:31.387303Z"
    },
    "pycharm": {}
   },
   "outputs": [
    {
     "data": {
      "text/plain": [
       "DATE\n",
       "2011-08-18    0.019348\n",
       "2011-08-19    0.011351\n",
       "2011-08-22    0.011486\n",
       "2011-08-23    0.029484\n",
       "2011-08-24    0.036608\n",
       "dtype: float64"
      ]
     },
     "execution_count": 13,
     "metadata": {},
     "output_type": "execute_result"
    }
   ],
   "source": [
    "y.head()"
   ]
  },
  {
   "cell_type": "code",
   "execution_count": 14,
   "metadata": {
    "ExecuteTime": {
     "end_time": "2021-02-23T06:36:31.399459Z",
     "start_time": "2021-02-23T06:36:31.392960Z"
    },
    "pycharm": {}
   },
   "outputs": [
    {
     "data": {
      "text/plain": [
       "(2106, 63)"
      ]
     },
     "execution_count": 14,
     "metadata": {},
     "output_type": "execute_result"
    }
   ],
   "source": [
    "X.shape"
   ]
  },
  {
   "cell_type": "markdown",
   "metadata": {
    "pycharm": {}
   },
   "source": [
    "## Train-test split\n",
    "\n",
    "To respect the time series nature of the data, we set aside the data at the end of the sample as hold-out or test set. More specifically, we'll use the data for 2018."
   ]
  },
  {
   "cell_type": "code",
   "execution_count": 15,
   "metadata": {
    "ExecuteTime": {
     "end_time": "2021-02-23T06:36:31.649966Z",
     "start_time": "2021-02-23T06:36:31.400418Z"
    },
    "pycharm": {}
   },
   "outputs": [
    {
     "data": {
      "image/png": "[encoded data removed]",
      "text/plain": [
       "<Figure size 1008x288 with 1 Axes>"
      ]
     },
     "metadata": {},
     "output_type": "display_data"
    }
   ],
   "source": [
    "ax = sp500_scaled.plot(lw=2, figsize=(14, 4), rot=0)\n",
    "ax.set_xlabel('')\n",
    "sns.despine()"
   ]
  },
  {
   "cell_type": "code",
   "execution_count": 16,
   "metadata": {
    "ExecuteTime": {
     "end_time": "2021-02-23T06:36:31.658244Z",
     "start_time": "2021-02-23T06:36:31.651319Z"
    },
    "pycharm": {}
   },
   "outputs": [],
   "source": [
    "X_train = X[:'2018'].values.reshape(-1, window_size, 1)\n",
    "y_train = y[:'2018']\n",
    "\n",
    "# keep the last year for testing\n",
    "X_test = X['2019'].values.reshape(-1, window_size, 1)\n",
    "y_test = y['2019']"
   ]
  },
  {
   "cell_type": "code",
   "execution_count": 17,
   "metadata": {
    "ExecuteTime": {
     "end_time": "2021-02-23T06:36:31.664101Z",
     "start_time": "2021-02-23T06:36:31.659546Z"
    },
    "pycharm": {}
   },
   "outputs": [],
   "source": [
    "n_obs, window_size, n_features = X_train.shape"
   ]
  },
  {
   "cell_type": "code",
   "execution_count": 18,
   "metadata": {
    "ExecuteTime": {
     "end_time": "2021-02-23T06:36:31.674631Z",
     "start_time": "2021-02-23T06:36:31.665281Z"
    },
    "pycharm": {}
   },
   "outputs": [
    {
     "data": {
      "text/plain": [
       "(1854,)"
      ]
     },
     "execution_count": 18,
     "metadata": {},
     "output_type": "execute_result"
    }
   ],
   "source": [
    "y_train.shape"
   ]
  },
  {
   "cell_type": "markdown",
   "metadata": {
    "pycharm": {}
   },
   "source": [
    "## Keras LSTM Layer"
   ]
  },
  {
   "cell_type": "markdown",
   "metadata": {
    "pycharm": {}
   },
   "source": [
    "Keras has several built-in RNN layers with various configuration options described in detail in the [documentation](https://keras.io/layers/recurrent/)."
   ]
  },
  {
   "cell_type": "markdown",
   "metadata": {
    "ExecuteTime": {
     "end_time": "2020-03-23T18:41:32.906454Z",
     "start_time": "2020-03-23T18:41:32.655189Z"
    },
    "pycharm": {}
   },
   "source": [
    "```\n",
    "LSTM(units,\n",
    "     activation='tanh',\n",
    "     recurrent_activation='hard_sigmoid',\n",
    "     use_bias=True,\n",
    "     kernel_initializer='glorot_uniform',\n",
    "     recurrent_initializer='orthogonal',\n",
    "     bias_initializer='zeros',\n",
    "     unit_forget_bias=True,\n",
    "     kernel_regularizer=None,\n",
    "     recurrent_regularizer=None,\n",
    "     bias_regularizer=None,\n",
    "     activity_regularizer=None,\n",
    "     kernel_constraint=None,\n",
    "     recurrent_constraint=None,\n",
    "     bias_constraint=None,\n",
    "     dropout=0.0,\n",
    "     recurrent_dropout=0.0,\n",
    "     implementation=1,\n",
    "     return_sequences=False,\n",
    "     return_state=False,\n",
    "     go_backwards=False,\n",
    "     stateful=False,\n",
    "     unroll=False)\n",
    " ```"
   ]
  },
  {
   "cell_type": "markdown",
   "metadata": {
    "pycharm": {}
   },
   "source": [
    "##  Define the Model Architecture\n",
    "\n",
    "Having created input/output pairs out of our time series and cut this into training/testing sets, we can now begin setting up our RNN.  We use Keras to quickly build a two hidden layer RNN of the following specifications\n",
    "\n",
    "- layer 1 uses an LSTM module with 20 hidden units (note here the input_shape = (window_size,1))\n",
    "- layer 2 uses a fully connected module with one unit\n",
    "- the 'mean_squared_error' loss should be used (remember: we are performing regression here)\n",
    "\n",
    "This can be constructed using just a few lines - see e.g., the [general Keras documentation](https://keras.io/getting-started/sequential-model-guide/) and the [LSTM documentation in particular](https://keras.io/layers/recurrent/) for examples of how to quickly use Keras to build neural network models.  Make sure you are initializing your optimizer given the [keras-recommended approach for RNNs](https://keras.io/optimizers/) "
   ]
  },
  {
   "cell_type": "code",
   "execution_count": 19,
   "metadata": {
    "ExecuteTime": {
     "end_time": "2021-02-23T06:36:31.921646Z",
     "start_time": "2021-02-23T06:36:31.676694Z"
    },
    "pycharm": {}
   },
   "outputs": [],
   "source": [
    "rnn = Sequential([\n",
    "    LSTM(units=10, \n",
    "         input_shape=(window_size, n_features), name='LSTM'),\n",
    "    Dense(1, name='Output')\n",
    "])"
   ]
  },
  {
   "cell_type": "markdown",
   "metadata": {
    "pycharm": {}
   },
   "source": [
    "The summary shows that the model has 1,781 parameters:"
   ]
  },
  {
   "cell_type": "code",
   "execution_count": 20,
   "metadata": {
    "ExecuteTime": {
     "end_time": "2021-02-23T06:36:31.927298Z",
     "start_time": "2021-02-23T06:36:31.922780Z"
    },
    "pycharm": {},
    "scrolled": true
   },
   "outputs": [
    {
     "name": "stdout",
     "output_type": "stream",
     "text": [
      "Model: \"sequential\"\n",
      "_________________________________________________________________\n",
      "Layer (type)                 Output Shape              Param #   \n",
      "=================================================================\n",
      "LSTM (LSTM)                  (None, 10)                480       \n",
      "_________________________________________________________________\n",
      "Output (Dense)               (None, 1)                 11        \n",
      "=================================================================\n",
      "Total params: 491\n",
      "Trainable params: 491\n",
      "Non-trainable params: 0\n",
      "_________________________________________________________________\n"
     ]
    }
   ],
   "source": [
    "rnn.summary()"
   ]
  },
  {
   "cell_type": "markdown",
   "metadata": {
    "pycharm": {}
   },
   "source": [
    "## Train the Model"
   ]
  },
  {
   "cell_type": "markdown",
   "metadata": {
    "pycharm": {}
   },
   "source": [
    "We train the model using the RMSProp optimizer recommended for RNN with default settings and compile the model with mean squared error for this regression problem:"
   ]
  },
  {
   "cell_type": "code",
   "execution_count": 21,
   "metadata": {
    "ExecuteTime": {
     "end_time": "2021-02-23T06:36:31.936019Z",
     "start_time": "2021-02-23T06:36:31.928473Z"
    },
    "pycharm": {}
   },
   "outputs": [],
   "source": [
    "optimizer = keras.optimizers.RMSprop(lr=0.001,\n",
    "                                     rho=0.9,\n",
    "                                     epsilon=1e-08,\n",
    "                                     decay=0.0)"
   ]
  },
  {
   "cell_type": "code",
   "execution_count": 22,
   "metadata": {
    "ExecuteTime": {
     "end_time": "2021-02-23T06:36:31.948987Z",
     "start_time": "2021-02-23T06:36:31.937213Z"
    },
    "pycharm": {}
   },
   "outputs": [],
   "source": [
    "rnn.compile(loss='mean_squared_error', \n",
    "            optimizer=optimizer)"
   ]
  },
  {
   "cell_type": "markdown",
   "metadata": {
    "pycharm": {}
   },
   "source": [
    "We define an EarlyStopping callback and train the model for up to 100 episodes. "
   ]
  },
  {
   "cell_type": "code",
   "execution_count": 23,
   "metadata": {
    "ExecuteTime": {
     "end_time": "2021-02-23T06:36:31.956938Z",
     "start_time": "2021-02-23T06:36:31.949937Z"
    }
   },
   "outputs": [],
   "source": [
    "rnn_path = (results_path / 'rnn.h5').as_posix()\n",
    "checkpointer = ModelCheckpoint(filepath=rnn_path,\n",
    "                               verbose=1,\n",
    "                               monitor='val_loss',\n",
    "                               save_best_only=True)"
   ]
  },
  {
   "cell_type": "code",
   "execution_count": 24,
   "metadata": {
    "ExecuteTime": {
     "end_time": "2021-02-23T06:36:31.964790Z",
     "start_time": "2021-02-23T06:36:31.960370Z"
    },
    "pycharm": {}
   },
   "outputs": [],
   "source": [
    "early_stopping = EarlyStopping(monitor='val_loss', \n",
    "                              patience=20,\n",
    "                              restore_best_weights=True)"
   ]
  },
  {
   "cell_type": "code",
   "execution_count": 25,
   "metadata": {
    "ExecuteTime": {
     "end_time": "2021-02-23T06:38:24.570692Z",
     "start_time": "2021-02-23T06:36:31.966149Z"
    },
    "pycharm": {},
    "scrolled": false
   },
   "outputs": [
    {
     "name": "stdout",
     "output_type": "stream",
     "text": [
      "Epoch 1/150\n",
      "93/93 [==============================] - 8s 12ms/step - loss: 0.0071 - val_loss: 0.0031\n",
      "\n",
      "Epoch 00001: val_loss improved from inf to 0.00312, saving model to results/univariate_time_series\\rnn.h5\n",
      "Epoch 2/150\n",
      "93/93 [==============================] - 1s 9ms/step - loss: 4.2420e-04 - val_loss: 0.0012\n",
      "\n",
      "Epoch 00002: val_loss improved from 0.00312 to 0.00117, saving model to results/univariate_time_series\\rnn.h5\n",
      "Epoch 3/150\n",
      "93/93 [==============================] - ETA: 0s - loss: 3.0800e-0 - 1s 9ms/step - loss: 3.0804e-04 - val_loss: 8.5335e-04\n",
      "\n",
      "Epoch 00003: val_loss improved from 0.00117 to 0.00085, saving model to results/univariate_time_series\\rnn.h5\n",
      "Epoch 4/150\n",
      "93/93 [==============================] - 1s 10ms/step - loss: 2.8524e-04 - val_loss: 6.3402e-04\n",
      "\n",
      "Epoch 00004: val_loss improved from 0.00085 to 0.00063, saving model to results/univariate_time_series\\rnn.h5\n",
      "Epoch 5/150\n",
      "93/93 [==============================] - 1s 8ms/step - loss: 2.9654e-04 - val_loss: 0.0011\n",
      "\n",
      "Epoch 00005: val_loss did not improve from 0.00063\n",
      "Epoch 6/150\n",
      "93/93 [==============================] - 1s 8ms/step - loss: 2.8983e-04 - val_loss: 9.6146e-04\n",
      "\n",
      "Epoch 00006: val_loss did not improve from 0.00063\n",
      "Epoch 7/150\n",
      "93/93 [==============================] - 1s 7ms/step - loss: 2.5492e-04 - val_loss: 7.9825e-04\n",
      "\n",
      "Epoch 00007: val_loss did not improve from 0.00063\n",
      "Epoch 8/150\n",
      "93/93 [==============================] - 1s 9ms/step - loss: 2.3388e-04 - val_loss: 0.0016\n",
      "\n",
      "Epoch 00008: val_loss did not improve from 0.00063\n",
      "Epoch 9/150\n",
      "93/93 [==============================] - 1s 8ms/step - loss: 2.5864e-04 - val_loss: 0.0010\n",
      "\n",
      "Epoch 00009: val_loss did not improve from 0.00063\n",
      "Epoch 10/150\n",
      "93/93 [==============================] - 1s 8ms/step - loss: 2.1950e-04 - val_loss: 2.7179e-04\n",
      "\n",
      "Epoch 00010: val_loss improved from 0.00063 to 0.00027, saving model to results/univariate_time_series\\rnn.h5\n",
      "Epoch 11/150\n",
      "93/93 [==============================] - 1s 8ms/step - loss: 2.2096e-04 - val_loss: 3.4490e-04\n",
      "\n",
      "Epoch 00011: val_loss did not improve from 0.00027\n",
      "Epoch 12/150\n",
      "93/93 [==============================] - 1s 8ms/step - loss: 1.8847e-04 - val_loss: 6.0166e-04\n",
      "\n",
      "Epoch 00012: val_loss did not improve from 0.00027\n",
      "Epoch 13/150\n",
      "93/93 [==============================] - 1s 8ms/step - loss: 2.3151e-04 - val_loss: 5.1487e-04\n",
      "\n",
      "Epoch 00013: val_loss did not improve from 0.00027\n",
      "Epoch 14/150\n",
      "93/93 [==============================] - 1s 8ms/step - loss: 2.0128e-04 - val_loss: 2.8498e-04\n",
      "\n",
      "Epoch 00014: val_loss did not improve from 0.00027\n",
      "Epoch 15/150\n",
      "93/93 [==============================] - 1s 9ms/step - loss: 1.8425e-04 - val_loss: 2.4905e-04\n",
      "\n",
      "Epoch 00015: val_loss improved from 0.00027 to 0.00025, saving model to results/univariate_time_series\\rnn.h5\n",
      "Epoch 16/150\n",
      "93/93 [==============================] - 1s 9ms/step - loss: 1.7537e-04 - val_loss: 4.4258e-04\n",
      "\n",
      "Epoch 00016: val_loss did not improve from 0.00025\n",
      "Epoch 17/150\n",
      "93/93 [==============================] - 1s 7ms/step - loss: 1.8901e-04 - val_loss: 2.2166e-04\n",
      "\n",
      "Epoch 00017: val_loss improved from 0.00025 to 0.00022, saving model to results/univariate_time_series\\rnn.h5\n",
      "Epoch 18/150\n",
      "93/93 [==============================] - 1s 8ms/step - loss: 1.7576e-04 - val_loss: 3.2702e-04\n",
      "\n",
      "Epoch 00018: val_loss did not improve from 0.00022\n",
      "Epoch 19/150\n",
      "93/93 [==============================] - 1s 8ms/step - loss: 1.6546e-04 - val_loss: 0.0012\n",
      "\n",
      "Epoch 00019: val_loss did not improve from 0.00022\n",
      "Epoch 20/150\n",
      "93/93 [==============================] - 1s 9ms/step - loss: 1.8087e-04 - val_loss: 2.2429e-04\n",
      "\n",
      "Epoch 00020: val_loss did not improve from 0.00022\n",
      "Epoch 21/150\n",
      "93/93 [==============================] - 1s 8ms/step - loss: 1.5878e-04 - val_loss: 7.2557e-04\n",
      "\n",
      "Epoch 00021: val_loss did not improve from 0.00022\n",
      "Epoch 22/150\n",
      "93/93 [==============================] - 1s 9ms/step - loss: 1.5918e-04 - val_loss: 5.9344e-04\n",
      "\n",
      "Epoch 00022: val_loss did not improve from 0.00022\n",
      "Epoch 23/150\n",
      "93/93 [==============================] - 1s 7ms/step - loss: 1.5184e-04 - val_loss: 3.7471e-04\n",
      "\n",
      "Epoch 00023: val_loss did not improve from 0.00022\n",
      "Epoch 24/150\n",
      "93/93 [==============================] - 1s 8ms/step - loss: 1.6359e-04 - val_loss: 3.2067e-04\n",
      "\n",
      "Epoch 00024: val_loss did not improve from 0.00022\n",
      "Epoch 25/150\n",
      "93/93 [==============================] - 1s 8ms/step - loss: 1.4486e-04 - val_loss: 1.4595e-04\n",
      "\n",
      "Epoch 00025: val_loss improved from 0.00022 to 0.00015, saving model to results/univariate_time_series\\rnn.h5\n",
      "Epoch 26/150\n",
      "93/93 [==============================] - 1s 8ms/step - loss: 1.5276e-04 - val_loss: 2.4364e-04\n",
      "\n",
      "Epoch 00026: val_loss did not improve from 0.00015\n",
      "Epoch 27/150\n",
      "93/93 [==============================] - 1s 9ms/step - loss: 1.5151e-04 - val_loss: 2.1891e-04\n",
      "\n",
      "Epoch 00027: val_loss did not improve from 0.00015\n",
      "Epoch 28/150\n",
      "93/93 [==============================] - 1s 9ms/step - loss: 1.4022e-04 - val_loss: 1.4838e-04\n",
      "\n",
      "Epoch 00028: val_loss did not improve from 0.00015\n",
      "Epoch 29/150\n",
      "93/93 [==============================] - 1s 8ms/step - loss: 1.3660e-04 - val_loss: 1.4632e-04\n",
      "\n",
      "Epoch 00029: val_loss did not improve from 0.00015\n",
      "Epoch 30/150\n",
      "93/93 [==============================] - 1s 9ms/step - loss: 1.1971e-04 - val_loss: 5.4514e-04\n",
      "\n",
      "Epoch 00030: val_loss did not improve from 0.00015\n",
      "Epoch 31/150\n",
      "93/93 [==============================] - 1s 9ms/step - loss: 1.2311e-04 - val_loss: 3.4825e-04\n",
      "\n",
      "Epoch 00031: val_loss did not improve from 0.00015\n",
      "Epoch 32/150\n",
      "93/93 [==============================] - 1s 9ms/step - loss: 1.2101e-04 - val_loss: 2.2272e-04\n",
      "\n",
      "Epoch 00032: val_loss did not improve from 0.00015\n",
      "Epoch 33/150\n",
      "93/93 [==============================] - 1s 9ms/step - loss: 1.1597e-04 - val_loss: 2.5508e-04\n",
      "\n",
      "Epoch 00033: val_loss did not improve from 0.00015\n",
      "Epoch 34/150\n",
      "93/93 [==============================] - 1s 8ms/step - loss: 1.2956e-04 - val_loss: 1.3767e-04\n",
      "\n",
      "Epoch 00034: val_loss improved from 0.00015 to 0.00014, saving model to results/univariate_time_series\\rnn.h5\n",
      "Epoch 35/150\n",
      "93/93 [==============================] - 1s 8ms/step - loss: 1.1763e-04 - val_loss: 1.3255e-04\n",
      "\n",
      "Epoch 00035: val_loss improved from 0.00014 to 0.00013, saving model to results/univariate_time_series\\rnn.h5\n",
      "Epoch 36/150\n",
      "93/93 [==============================] - 1s 9ms/step - loss: 1.0698e-04 - val_loss: 3.8741e-04\n",
      "\n",
      "Epoch 00036: val_loss did not improve from 0.00013\n",
      "Epoch 37/150\n",
      "93/93 [==============================] - 1s 9ms/step - loss: 1.1808e-04 - val_loss: 1.7483e-04\n",
      "\n",
      "Epoch 00037: val_loss did not improve from 0.00013\n",
      "Epoch 38/150\n",
      "93/93 [==============================] - 1s 9ms/step - loss: 1.0747e-04 - val_loss: 4.1486e-04\n",
      "\n",
      "Epoch 00038: val_loss did not improve from 0.00013\n",
      "Epoch 39/150\n",
      "93/93 [==============================] - 1s 8ms/step - loss: 1.1339e-04 - val_loss: 1.3820e-04\n",
      "\n",
      "Epoch 00039: val_loss did not improve from 0.00013\n",
      "Epoch 40/150\n",
      "93/93 [==============================] - 1s 9ms/step - loss: 1.0471e-04 - val_loss: 1.3714e-04\n",
      "\n",
      "Epoch 00040: val_loss did not improve from 0.00013\n",
      "Epoch 41/150\n",
      "93/93 [==============================] - 1s 8ms/step - loss: 9.4309e-05 - val_loss: 1.6431e-04\n",
      "\n",
      "Epoch 00041: val_loss did not improve from 0.00013\n",
      "Epoch 42/150\n",
      "93/93 [==============================] - 1s 9ms/step - loss: 1.1023e-04 - val_loss: 2.2997e-04\n",
      "\n",
      "Epoch 00042: val_loss did not improve from 0.00013\n",
      "Epoch 43/150\n",
      "93/93 [==============================] - 1s 8ms/step - loss: 9.8665e-05 - val_loss: 1.2026e-04\n",
      "\n",
      "Epoch 00043: val_loss improved from 0.00013 to 0.00012, saving model to results/univariate_time_series\\rnn.h5\n",
      "Epoch 44/150\n",
      "93/93 [==============================] - 1s 9ms/step - loss: 1.0460e-04 - val_loss: 1.3398e-04\n",
      "\n",
      "Epoch 00044: val_loss did not improve from 0.00012\n",
      "Epoch 45/150\n",
      "93/93 [==============================] - 1s 8ms/step - loss: 1.0667e-04 - val_loss: 1.2184e-04\n",
      "\n",
      "Epoch 00045: val_loss did not improve from 0.00012\n",
      "Epoch 46/150\n",
      "93/93 [==============================] - 1s 8ms/step - loss: 1.0094e-04 - val_loss: 6.1203e-04\n",
      "\n",
      "Epoch 00046: val_loss did not improve from 0.00012\n",
      "Epoch 47/150\n",
      "93/93 [==============================] - 1s 9ms/step - loss: 1.0237e-04 - val_loss: 1.3922e-04\n",
      "\n",
      "Epoch 00047: val_loss did not improve from 0.00012\n",
      "Epoch 48/150\n"
     ]
    },
    {
     "name": "stdout",
     "output_type": "stream",
     "text": [
      "93/93 [==============================] - 1s 9ms/step - loss: 9.7766e-05 - val_loss: 1.7990e-04\n",
      "\n",
      "Epoch 00048: val_loss did not improve from 0.00012\n",
      "Epoch 49/150\n",
      "93/93 [==============================] - 1s 7ms/step - loss: 1.0239e-04 - val_loss: 1.1566e-04\n",
      "\n",
      "Epoch 00049: val_loss improved from 0.00012 to 0.00012, saving model to results/univariate_time_series\\rnn.h5\n",
      "Epoch 50/150\n",
      "93/93 [==============================] - 1s 8ms/step - loss: 9.9187e-05 - val_loss: 3.1427e-04\n",
      "\n",
      "Epoch 00050: val_loss did not improve from 0.00012\n",
      "Epoch 51/150\n",
      "93/93 [==============================] - 1s 8ms/step - loss: 1.0410e-04 - val_loss: 1.5660e-04\n",
      "\n",
      "Epoch 00051: val_loss did not improve from 0.00012\n",
      "Epoch 52/150\n",
      "93/93 [==============================] - 1s 8ms/step - loss: 9.7520e-05 - val_loss: 1.5071e-04\n",
      "\n",
      "Epoch 00052: val_loss did not improve from 0.00012\n",
      "Epoch 53/150\n",
      "93/93 [==============================] - 1s 9ms/step - loss: 9.9780e-05 - val_loss: 1.6807e-04\n",
      "\n",
      "Epoch 00053: val_loss did not improve from 0.00012\n",
      "Epoch 54/150\n",
      "93/93 [==============================] - 1s 9ms/step - loss: 9.4426e-05 - val_loss: 1.5484e-04\n",
      "\n",
      "Epoch 00054: val_loss did not improve from 0.00012\n",
      "Epoch 55/150\n",
      "93/93 [==============================] - 1s 7ms/step - loss: 1.0407e-04 - val_loss: 1.3186e-04\n",
      "\n",
      "Epoch 00055: val_loss did not improve from 0.00012\n",
      "Epoch 56/150\n",
      "93/93 [==============================] - 1s 8ms/step - loss: 9.7873e-05 - val_loss: 2.2013e-04\n",
      "\n",
      "Epoch 00056: val_loss did not improve from 0.00012\n",
      "Epoch 57/150\n",
      "93/93 [==============================] - 1s 8ms/step - loss: 9.8984e-05 - val_loss: 1.1317e-04\n",
      "\n",
      "Epoch 00057: val_loss improved from 0.00012 to 0.00011, saving model to results/univariate_time_series\\rnn.h5\n",
      "Epoch 58/150\n",
      "93/93 [==============================] - 1s 9ms/step - loss: 9.9258e-05 - val_loss: 1.2909e-04\n",
      "\n",
      "Epoch 00058: val_loss did not improve from 0.00011\n",
      "Epoch 59/150\n",
      "93/93 [==============================] - 1s 9ms/step - loss: 8.7324e-05 - val_loss: 1.5055e-04\n",
      "\n",
      "Epoch 00059: val_loss did not improve from 0.00011\n",
      "Epoch 60/150\n",
      "93/93 [==============================] - 1s 8ms/step - loss: 9.0946e-05 - val_loss: 1.3314e-04\n",
      "\n",
      "Epoch 00060: val_loss did not improve from 0.00011\n",
      "Epoch 61/150\n",
      "93/93 [==============================] - 1s 8ms/step - loss: 8.9173e-05 - val_loss: 2.5483e-04\n",
      "\n",
      "Epoch 00061: val_loss did not improve from 0.00011\n",
      "Epoch 62/150\n",
      "93/93 [==============================] - 1s 7ms/step - loss: 9.8910e-05 - val_loss: 1.4882e-04\n",
      "\n",
      "Epoch 00062: val_loss did not improve from 0.00011\n",
      "Epoch 63/150\n",
      "93/93 [==============================] - 1s 8ms/step - loss: 9.0720e-05 - val_loss: 1.1241e-04\n",
      "\n",
      "Epoch 00063: val_loss improved from 0.00011 to 0.00011, saving model to results/univariate_time_series\\rnn.h5\n",
      "Epoch 64/150\n",
      "93/93 [==============================] - 1s 8ms/step - loss: 1.0113e-04 - val_loss: 1.1047e-04\n",
      "\n",
      "Epoch 00064: val_loss improved from 0.00011 to 0.00011, saving model to results/univariate_time_series\\rnn.h5\n",
      "Epoch 65/150\n",
      "93/93 [==============================] - 1s 8ms/step - loss: 1.0028e-04 - val_loss: 3.8624e-04\n",
      "\n",
      "Epoch 00065: val_loss did not improve from 0.00011\n",
      "Epoch 66/150\n",
      "93/93 [==============================] - 1s 7ms/step - loss: 8.9285e-05 - val_loss: 1.1034e-04\n",
      "\n",
      "Epoch 00066: val_loss improved from 0.00011 to 0.00011, saving model to results/univariate_time_series\\rnn.h5\n",
      "Epoch 67/150\n",
      "93/93 [==============================] - 1s 8ms/step - loss: 1.0398e-04 - val_loss: 1.4778e-04\n",
      "\n",
      "Epoch 00067: val_loss did not improve from 0.00011\n",
      "Epoch 68/150\n",
      "93/93 [==============================] - 1s 8ms/step - loss: 9.5066e-05 - val_loss: 1.1967e-04\n",
      "\n",
      "Epoch 00068: val_loss did not improve from 0.00011\n",
      "Epoch 69/150\n",
      "93/93 [==============================] - 1s 8ms/step - loss: 9.1083e-05 - val_loss: 1.4274e-04\n",
      "\n",
      "Epoch 00069: val_loss did not improve from 0.00011\n",
      "Epoch 70/150\n",
      "93/93 [==============================] - 1s 9ms/step - loss: 9.7960e-05 - val_loss: 1.8078e-04\n",
      "\n",
      "Epoch 00070: val_loss did not improve from 0.00011\n",
      "Epoch 71/150\n",
      "93/93 [==============================] - 1s 9ms/step - loss: 9.1085e-05 - val_loss: 1.1694e-04\n",
      "\n",
      "Epoch 00071: val_loss did not improve from 0.00011\n",
      "Epoch 72/150\n",
      "93/93 [==============================] - 1s 9ms/step - loss: 9.3899e-05 - val_loss: 1.6318e-04\n",
      "\n",
      "Epoch 00072: val_loss did not improve from 0.00011\n",
      "Epoch 73/150\n",
      "93/93 [==============================] - 1s 8ms/step - loss: 8.6379e-05 - val_loss: 2.4641e-04\n",
      "\n",
      "Epoch 00073: val_loss did not improve from 0.00011\n",
      "Epoch 74/150\n",
      "93/93 [==============================] - 1s 9ms/step - loss: 9.2440e-05 - val_loss: 1.2225e-04\n",
      "\n",
      "Epoch 00074: val_loss did not improve from 0.00011\n",
      "Epoch 75/150\n",
      "93/93 [==============================] - 1s 8ms/step - loss: 9.1865e-05 - val_loss: 1.1719e-04\n",
      "\n",
      "Epoch 00075: val_loss did not improve from 0.00011\n",
      "Epoch 76/150\n",
      "93/93 [==============================] - 1s 9ms/step - loss: 8.6210e-05 - val_loss: 4.3263e-04\n",
      "\n",
      "Epoch 00076: val_loss did not improve from 0.00011\n",
      "Epoch 77/150\n",
      "93/93 [==============================] - 1s 9ms/step - loss: 9.5134e-05 - val_loss: 2.0420e-04\n",
      "\n",
      "Epoch 00077: val_loss did not improve from 0.00011\n",
      "Epoch 78/150\n",
      "93/93 [==============================] - 1s 8ms/step - loss: 9.6679e-05 - val_loss: 1.1713e-04\n",
      "\n",
      "Epoch 00078: val_loss did not improve from 0.00011\n",
      "Epoch 79/150\n",
      "93/93 [==============================] - 1s 7ms/step - loss: 8.2479e-05 - val_loss: 2.7582e-04\n",
      "\n",
      "Epoch 00079: val_loss did not improve from 0.00011\n",
      "Epoch 80/150\n",
      "93/93 [==============================] - 1s 8ms/step - loss: 8.4590e-05 - val_loss: 1.6394e-04\n",
      "\n",
      "Epoch 00080: val_loss did not improve from 0.00011\n",
      "Epoch 81/150\n",
      "93/93 [==============================] - 1s 9ms/step - loss: 9.4164e-05 - val_loss: 1.1963e-04\n",
      "\n",
      "Epoch 00081: val_loss did not improve from 0.00011\n",
      "Epoch 82/150\n",
      "93/93 [==============================] - 1s 8ms/step - loss: 9.7924e-05 - val_loss: 1.1065e-04\n",
      "\n",
      "Epoch 00082: val_loss did not improve from 0.00011\n",
      "Epoch 83/150\n",
      "93/93 [==============================] - 1s 9ms/step - loss: 8.3912e-05 - val_loss: 1.0822e-04\n",
      "\n",
      "Epoch 00083: val_loss improved from 0.00011 to 0.00011, saving model to results/univariate_time_series\\rnn.h5\n",
      "Epoch 84/150\n",
      "93/93 [==============================] - 1s 7ms/step - loss: 8.9409e-05 - val_loss: 2.1592e-04\n",
      "\n",
      "Epoch 00084: val_loss did not improve from 0.00011\n",
      "Epoch 85/150\n",
      "93/93 [==============================] - 1s 8ms/step - loss: 8.1743e-05 - val_loss: 2.2365e-04\n",
      "\n",
      "Epoch 00085: val_loss did not improve from 0.00011\n",
      "Epoch 86/150\n",
      "93/93 [==============================] - 1s 8ms/step - loss: 8.3556e-05 - val_loss: 4.8380e-04\n",
      "\n",
      "Epoch 00086: val_loss did not improve from 0.00011\n",
      "Epoch 87/150\n",
      "93/93 [==============================] - 1s 8ms/step - loss: 8.7934e-05 - val_loss: 1.1381e-04\n",
      "\n",
      "Epoch 00087: val_loss did not improve from 0.00011\n",
      "Epoch 88/150\n",
      "93/93 [==============================] - 1s 8ms/step - loss: 8.1923e-05 - val_loss: 3.0701e-04\n",
      "\n",
      "Epoch 00088: val_loss did not improve from 0.00011\n",
      "Epoch 89/150\n",
      "93/93 [==============================] - 1s 8ms/step - loss: 9.1779e-05 - val_loss: 1.1746e-04\n",
      "\n",
      "Epoch 00089: val_loss did not improve from 0.00011\n",
      "Epoch 90/150\n",
      "93/93 [==============================] - 1s 8ms/step - loss: 8.6647e-05 - val_loss: 1.5144e-04\n",
      "\n",
      "Epoch 00090: val_loss did not improve from 0.00011\n",
      "Epoch 91/150\n",
      "93/93 [==============================] - 1s 8ms/step - loss: 8.2854e-05 - val_loss: 2.1313e-04\n",
      "\n",
      "Epoch 00091: val_loss did not improve from 0.00011\n",
      "Epoch 92/150\n",
      "93/93 [==============================] - 1s 8ms/step - loss: 8.3384e-05 - val_loss: 1.0968e-04\n",
      "\n",
      "Epoch 00092: val_loss did not improve from 0.00011\n",
      "Epoch 93/150\n",
      "93/93 [==============================] - 1s 7ms/step - loss: 7.8446e-05 - val_loss: 1.3920e-04\n",
      "\n",
      "Epoch 00093: val_loss did not improve from 0.00011\n",
      "Epoch 94/150\n",
      "93/93 [==============================] - 1s 8ms/step - loss: 8.5381e-05 - val_loss: 2.8517e-04\n",
      "\n",
      "Epoch 00094: val_loss did not improve from 0.00011\n",
      "Epoch 95/150\n",
      "93/93 [==============================] - 1s 9ms/step - loss: 9.4192e-05 - val_loss: 1.6826e-04\n",
      "\n",
      "Epoch 00095: val_loss did not improve from 0.00011\n",
      "Epoch 96/150\n",
      "93/93 [==============================] - 1s 8ms/step - loss: 7.7549e-05 - val_loss: 1.1274e-04\n",
      "\n",
      "Epoch 00096: val_loss did not improve from 0.00011\n",
      "Epoch 97/150\n"
     ]
    },
    {
     "name": "stdout",
     "output_type": "stream",
     "text": [
      "93/93 [==============================] - 1s 9ms/step - loss: 8.2181e-05 - val_loss: 1.5486e-04\n",
      "\n",
      "Epoch 00097: val_loss did not improve from 0.00011\n",
      "Epoch 98/150\n",
      "93/93 [==============================] - 1s 8ms/step - loss: 8.2825e-05 - val_loss: 1.0741e-04\n",
      "\n",
      "Epoch 00098: val_loss improved from 0.00011 to 0.00011, saving model to results/univariate_time_series\\rnn.h5\n",
      "Epoch 99/150\n",
      "93/93 [==============================] - 1s 10ms/step - loss: 8.6510e-05 - val_loss: 1.6065e-04\n",
      "\n",
      "Epoch 00099: val_loss did not improve from 0.00011\n",
      "Epoch 100/150\n",
      "93/93 [==============================] - 1s 9ms/step - loss: 8.7849e-05 - val_loss: 3.2995e-04\n",
      "\n",
      "Epoch 00100: val_loss did not improve from 0.00011\n",
      "Epoch 101/150\n",
      "93/93 [==============================] - 1s 8ms/step - loss: 8.6279e-05 - val_loss: 1.0980e-04\n",
      "\n",
      "Epoch 00101: val_loss did not improve from 0.00011\n",
      "Epoch 102/150\n",
      "93/93 [==============================] - 1s 9ms/step - loss: 9.0480e-05 - val_loss: 1.1138e-04\n",
      "\n",
      "Epoch 00102: val_loss did not improve from 0.00011\n",
      "Epoch 103/150\n",
      "93/93 [==============================] - 1s 7ms/step - loss: 7.7136e-05 - val_loss: 1.7732e-04\n",
      "\n",
      "Epoch 00103: val_loss did not improve from 0.00011\n",
      "Epoch 104/150\n",
      "93/93 [==============================] - 1s 7ms/step - loss: 8.3266e-05 - val_loss: 5.1179e-04\n",
      "\n",
      "Epoch 00104: val_loss did not improve from 0.00011\n",
      "Epoch 105/150\n",
      "93/93 [==============================] - 1s 9ms/step - loss: 8.5666e-05 - val_loss: 1.5769e-04\n",
      "\n",
      "Epoch 00105: val_loss did not improve from 0.00011\n",
      "Epoch 106/150\n",
      "93/93 [==============================] - 1s 8ms/step - loss: 8.7100e-05 - val_loss: 1.3896e-04\n",
      "\n",
      "Epoch 00106: val_loss did not improve from 0.00011\n",
      "Epoch 107/150\n",
      "93/93 [==============================] - 1s 8ms/step - loss: 8.4051e-05 - val_loss: 1.0842e-04\n",
      "\n",
      "Epoch 00107: val_loss did not improve from 0.00011\n",
      "Epoch 108/150\n",
      "93/93 [==============================] - 1s 8ms/step - loss: 8.4062e-05 - val_loss: 1.6621e-04\n",
      "\n",
      "Epoch 00108: val_loss did not improve from 0.00011\n",
      "Epoch 109/150\n",
      "93/93 [==============================] - 1s 8ms/step - loss: 7.4668e-05 - val_loss: 1.0732e-04\n",
      "\n",
      "Epoch 00109: val_loss improved from 0.00011 to 0.00011, saving model to results/univariate_time_series\\rnn.h5\n",
      "Epoch 110/150\n",
      "93/93 [==============================] - 1s 8ms/step - loss: 8.5661e-05 - val_loss: 1.2950e-04\n",
      "\n",
      "Epoch 00110: val_loss did not improve from 0.00011\n",
      "Epoch 111/150\n",
      "93/93 [==============================] - 1s 7ms/step - loss: 8.5134e-05 - val_loss: 2.2766e-04\n",
      "\n",
      "Epoch 00111: val_loss did not improve from 0.00011\n",
      "Epoch 112/150\n",
      "93/93 [==============================] - 1s 8ms/step - loss: 8.0171e-05 - val_loss: 1.0760e-04\n",
      "\n",
      "Epoch 00112: val_loss did not improve from 0.00011\n",
      "Epoch 113/150\n",
      "93/93 [==============================] - 1s 8ms/step - loss: 7.9138e-05 - val_loss: 1.5746e-04\n",
      "\n",
      "Epoch 00113: val_loss did not improve from 0.00011\n",
      "Epoch 114/150\n",
      "93/93 [==============================] - 1s 8ms/step - loss: 9.0433e-05 - val_loss: 1.9575e-04\n",
      "\n",
      "Epoch 00114: val_loss did not improve from 0.00011\n",
      "Epoch 115/150\n",
      "93/93 [==============================] - 1s 7ms/step - loss: 9.8935e-05 - val_loss: 2.1997e-04\n",
      "\n",
      "Epoch 00115: val_loss did not improve from 0.00011\n",
      "Epoch 116/150\n",
      "93/93 [==============================] - 1s 7ms/step - loss: 8.0034e-05 - val_loss: 1.5216e-04\n",
      "\n",
      "Epoch 00116: val_loss did not improve from 0.00011\n",
      "Epoch 117/150\n",
      "93/93 [==============================] - 1s 8ms/step - loss: 8.1905e-05 - val_loss: 2.2271e-04\n",
      "\n",
      "Epoch 00117: val_loss did not improve from 0.00011\n",
      "Epoch 118/150\n",
      "93/93 [==============================] - 1s 8ms/step - loss: 7.9925e-05 - val_loss: 1.7600e-04\n",
      "\n",
      "Epoch 00118: val_loss did not improve from 0.00011\n",
      "Epoch 119/150\n",
      "93/93 [==============================] - 1s 7ms/step - loss: 8.5261e-05 - val_loss: 1.2530e-04\n",
      "\n",
      "Epoch 00119: val_loss did not improve from 0.00011\n",
      "Epoch 120/150\n",
      "93/93 [==============================] - 1s 8ms/step - loss: 8.6779e-05 - val_loss: 1.1525e-04\n",
      "\n",
      "Epoch 00120: val_loss did not improve from 0.00011\n",
      "Epoch 121/150\n",
      "93/93 [==============================] - 1s 8ms/step - loss: 7.8612e-05 - val_loss: 1.0863e-04\n",
      "\n",
      "Epoch 00121: val_loss did not improve from 0.00011\n",
      "Epoch 122/150\n",
      "93/93 [==============================] - 1s 8ms/step - loss: 7.6960e-05 - val_loss: 1.2519e-04\n",
      "\n",
      "Epoch 00122: val_loss did not improve from 0.00011\n",
      "Epoch 123/150\n",
      "93/93 [==============================] - 1s 8ms/step - loss: 8.1040e-05 - val_loss: 3.1222e-04\n",
      "\n",
      "Epoch 00123: val_loss did not improve from 0.00011\n",
      "Epoch 124/150\n",
      "93/93 [==============================] - 1s 8ms/step - loss: 8.7987e-05 - val_loss: 1.1016e-04\n",
      "\n",
      "Epoch 00124: val_loss did not improve from 0.00011\n",
      "Epoch 125/150\n",
      "93/93 [==============================] - 1s 7ms/step - loss: 7.7799e-05 - val_loss: 1.1956e-04\n",
      "\n",
      "Epoch 00125: val_loss did not improve from 0.00011\n",
      "Epoch 126/150\n",
      "93/93 [==============================] - 1s 8ms/step - loss: 7.7397e-05 - val_loss: 1.4642e-04\n",
      "\n",
      "Epoch 00126: val_loss did not improve from 0.00011\n",
      "Epoch 127/150\n",
      "93/93 [==============================] - 1s 8ms/step - loss: 8.2489e-05 - val_loss: 1.7579e-04\n",
      "\n",
      "Epoch 00127: val_loss did not improve from 0.00011\n",
      "Epoch 128/150\n",
      "93/93 [==============================] - 1s 9ms/step - loss: 8.1687e-05 - val_loss: 1.6275e-04\n",
      "\n",
      "Epoch 00128: val_loss did not improve from 0.00011\n",
      "Epoch 129/150\n",
      "93/93 [==============================] - 1s 9ms/step - loss: 8.8596e-05 - val_loss: 1.0861e-04\n",
      "\n",
      "Epoch 00129: val_loss did not improve from 0.00011\n"
     ]
    }
   ],
   "source": [
    "lstm_training = rnn.fit(X_train,\n",
    "                        y_train,\n",
    "                        epochs=150,\n",
    "                        batch_size=20,\n",
    "                        shuffle=True,\n",
    "                        validation_data=(X_test, y_test),\n",
    "                        callbacks=[early_stopping, checkpointer],\n",
    "                        verbose=1)"
   ]
  },
  {
   "cell_type": "markdown",
   "metadata": {
    "pycharm": {}
   },
   "source": [
    "Training stops after 51 epochs; the `early_stopping` callback restores the weights for the best model (after 41 epochs)"
   ]
  },
  {
   "cell_type": "markdown",
   "metadata": {
    "pycharm": {}
   },
   "source": [
    "## Evaluate model performance"
   ]
  },
  {
   "cell_type": "code",
   "execution_count": 26,
   "metadata": {
    "ExecuteTime": {
     "end_time": "2021-02-23T06:38:25.321655Z",
     "start_time": "2021-02-23T06:38:24.572172Z"
    },
    "pycharm": {}
   },
   "outputs": [
    {
     "data": {
      "image/png": "[encoded data removed]",
      "text/plain": [
       "<Figure size 864x288 with 1 Axes>"
      ]
     },
     "metadata": {},
     "output_type": "display_data"
    }
   ],
   "source": [
    "fig, ax = plt.subplots(figsize=(12, 4))\n",
    "\n",
    "loss_history = pd.DataFrame(lstm_training.history).pow(.5)\n",
    "loss_history.index += 1\n",
    "best_rmse = loss_history.val_loss.min()\n",
    "\n",
    "best_epoch = loss_history.val_loss.idxmin()\n",
    "\n",
    "title = f'5-Epoch Rolling RMSE (Best Validation RMSE: {best_rmse:.4%})'\n",
    "loss_history.columns=['Training RMSE', 'Validation RMSE']\n",
    "loss_history.rolling(5).mean().plot(logy=True, lw=2, title=title, ax=ax)\n",
    "\n",
    "ax.axvline(best_epoch, ls='--', lw=1, c='k')\n",
    "\n",
    "sns.despine()\n",
    "fig.tight_layout()\n",
    "fig.savefig(results_path / 'rnn_sp500_error', dpi=300);"
   ]
  },
  {
   "cell_type": "code",
   "execution_count": 27,
   "metadata": {
    "ExecuteTime": {
     "end_time": "2021-02-23T06:38:25.532463Z",
     "start_time": "2021-02-23T06:38:25.322584Z"
    },
    "pycharm": {}
   },
   "outputs": [
    {
     "name": "stdout",
     "output_type": "stream",
     "text": [
      "Train RMSE: 0.0082 | Test RMSE: 0.0104\n"
     ]
    }
   ],
   "source": [
    "train_rmse_scaled = np.sqrt(rnn.evaluate(X_train, y_train, verbose=0))\n",
    "test_rmse_scaled = np.sqrt(rnn.evaluate(X_test, y_test, verbose=0))\n",
    "print(f'Train RMSE: {train_rmse_scaled:.4f} | Test RMSE: {test_rmse_scaled:.4f}')"
   ]
  },
  {
   "cell_type": "code",
   "execution_count": 28,
   "metadata": {
    "ExecuteTime": {
     "end_time": "2021-02-23T06:38:25.963989Z",
     "start_time": "2021-02-23T06:38:25.533710Z"
    }
   },
   "outputs": [],
   "source": [
    "train_predict_scaled = rnn.predict(X_train)\n",
    "test_predict_scaled = rnn.predict(X_test)"
   ]
  },
  {
   "cell_type": "code",
   "execution_count": 29,
   "metadata": {
    "ExecuteTime": {
     "end_time": "2021-02-23T06:38:25.971051Z",
     "start_time": "2021-02-23T06:38:25.964993Z"
    }
   },
   "outputs": [
    {
     "name": "stdout",
     "output_type": "stream",
     "text": [
      "Train IC: 0.9985 | Test IC: 0.9818\n"
     ]
    }
   ],
   "source": [
    "train_ic = spearmanr(y_train, train_predict_scaled)[0]\n",
    "test_ic = spearmanr(y_test, test_predict_scaled)[0]\n",
    "print(f'Train IC: {train_ic:.4f} | Test IC: {test_ic:.4f}')"
   ]
  },
  {
   "cell_type": "markdown",
   "metadata": {},
   "source": [
    "### Rescale predictions"
   ]
  },
  {
   "cell_type": "code",
   "execution_count": 30,
   "metadata": {
    "ExecuteTime": {
     "end_time": "2021-02-23T06:38:25.979481Z",
     "start_time": "2021-02-23T06:38:25.972762Z"
    }
   },
   "outputs": [],
   "source": [
    "train_predict = pd.Series(scaler.inverse_transform(train_predict_scaled).squeeze(), index=y_train.index)\n",
    "test_predict = (pd.Series(scaler.inverse_transform(test_predict_scaled)\n",
    "                          .squeeze(), \n",
    "                          index=y_test.index))"
   ]
  },
  {
   "cell_type": "code",
   "execution_count": 31,
   "metadata": {
    "ExecuteTime": {
     "end_time": "2021-02-23T06:38:25.991927Z",
     "start_time": "2021-02-23T06:38:25.981050Z"
    }
   },
   "outputs": [],
   "source": [
    "y_train_rescaled = scaler.inverse_transform(y_train.to_frame()).squeeze()\n",
    "y_test_rescaled = scaler.inverse_transform(y_test.to_frame()).squeeze()"
   ]
  },
  {
   "cell_type": "code",
   "execution_count": 32,
   "metadata": {
    "ExecuteTime": {
     "end_time": "2021-02-23T06:38:26.008431Z",
     "start_time": "2021-02-23T06:38:26.002713Z"
    }
   },
   "outputs": [
    {
     "data": {
      "text/plain": [
       "'Train RMSE: 17.54 | Test RMSE: 22.16'"
      ]
     },
     "execution_count": 32,
     "metadata": {},
     "output_type": "execute_result"
    }
   ],
   "source": [
    "train_rmse = np.sqrt(mean_squared_error(train_predict, y_train_rescaled))\n",
    "test_rmse = np.sqrt(mean_squared_error(test_predict, y_test_rescaled))\n",
    "f'Train RMSE: {train_rmse:.2f} | Test RMSE: {test_rmse:.2f}'"
   ]
  },
  {
   "cell_type": "code",
   "execution_count": 33,
   "metadata": {
    "ExecuteTime": {
     "end_time": "2021-02-23T06:38:26.024417Z",
     "start_time": "2021-02-23T06:38:26.010162Z"
    }
   },
   "outputs": [],
   "source": [
    "sp500['Train Predictions'] = train_predict\n",
    "sp500['Test Predictions'] = test_predict\n",
    "sp500 = sp500.join(train_predict.to_frame('predictions').assign(data='Train')\n",
    "                        .append(test_predict.to_frame('predictions').assign(data='Test')))"
   ]
  },
  {
   "cell_type": "markdown",
   "metadata": {},
   "source": [
    "### Plot Results"
   ]
  },
  {
   "cell_type": "code",
   "execution_count": 34,
   "metadata": {
    "ExecuteTime": {
     "end_time": "2021-02-23T06:38:27.512613Z",
     "start_time": "2021-02-23T06:38:26.026008Z"
    },
    "pycharm": {},
    "scrolled": false
   },
   "outputs": [
    {
     "data": {
      "image/png": "[encoded data removed]",
      "text/plain": [
       "<Figure size 1008x504 with 4 Axes>"
      ]
     },
     "metadata": {},
     "output_type": "display_data"
    }
   ],
   "source": [
    "fig=plt.figure(figsize=(14,7))\n",
    "ax1 = plt.subplot(221)\n",
    "\n",
    "sp500.loc['2015':, 'SP500'].plot(lw=4, ax=ax1, c='k')\n",
    "sp500.loc['2015':, ['Test Predictions', 'Train Predictions']].plot(lw=1, ax=ax1, ls='--')\n",
    "ax1.set_title('In- and Out-of-sample Predictions')\n",
    "\n",
    "\n",
    "with sns.axes_style(\"white\"):\n",
    "    ax3 = plt.subplot(223)\n",
    "    sns.scatterplot(x='SP500', y='predictions', data=sp500, hue='data', ax=ax3)\n",
    "    ax3.text(x=.02, y=.95, s=f'Test IC ={test_ic:.2%}', transform=ax3.transAxes)\n",
    "    ax3.text(x=.02, y=.87, s=f'Train IC={train_ic:.2%}', transform=ax3.transAxes)\n",
    "    ax3.set_title('Correlation')\n",
    "    ax3.legend(loc='lower right')\n",
    "    \n",
    "    ax2 = plt.subplot(222)\n",
    "    ax4 = plt.subplot(224, sharex = ax2, sharey=ax2)\n",
    "    sns.distplot(train_predict.squeeze()- y_train_rescaled, ax=ax2)\n",
    "    ax2.set_title('Train Error')\n",
    "    ax2.text(x=.03, y=.92, s=f'Train RMSE ={train_rmse:.4f}', transform=ax2.transAxes)\n",
    "    sns.distplot(test_predict.squeeze()-y_test_rescaled, ax=ax4)\n",
    "    ax4.set_title('Test Error')\n",
    "    ax4.text(x=.03, y=.92, s=f'Test RMSE ={test_rmse:.4f}', transform=ax4.transAxes)\n",
    "\n",
    "sns.despine()\n",
    "fig.tight_layout()\n",
    "fig.savefig(results_path / 'rnn_sp500_regression', dpi=300);"
   ]
  },
  {
   "cell_type": "code",
   "execution_count": null,
   "metadata": {},
   "outputs": [],
   "source": []
  }
 ],
 "metadata": {
  "anaconda-cloud": {},
  "kernelspec": {
   "display_name": "Python [conda env:tensorflow_env]",
   "language": "python",
   "name": "conda-env-tensorflow_env-py"
  },
  "language_info": {
   "codemirror_mode": {
    "name": "ipython",
    "version": 3
   },
   "file_extension": ".py",
   "mimetype": "text/x-python",
   "name": "python",
   "nbconvert_exporter": "python",
   "pygments_lexer": "ipython3",
   "version": "3.8.8"
  },
  "toc": {
   "base_numbering": 1,
   "nav_menu": {},
   "number_sections": true,
   "sideBar": true,
   "skip_h1_title": true,
   "title_cell": "Table of Contents",
   "title_sidebar": "Contents",
   "toc_cell": false,
   "toc_position": {
    "height": "calc(100% - 180px)",
    "left": "10px",
    "top": "150px",
    "width": "318.55px"
   },
   "toc_section_display": true,
   "toc_window_display": true
  }
 },
 "nbformat": 4,
 "nbformat_minor": 4
}
