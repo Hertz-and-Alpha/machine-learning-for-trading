{
 "cells": [
  {
   "cell_type": "markdown",
   "metadata": {},
   "source": [
    "# Stacked LSTMs for Time Series Classification with TensorFlow"
   ]
  },
  {
   "cell_type": "markdown",
   "metadata": {},
   "source": [
    "We'll now build a slightly deeper model by stacking two LSTM layers using the Quandl stock price data. Furthermore, we will include features that are not sequential in nature, namely indicator variables for identifying the equity and the month."
   ]
  },
  {
   "cell_type": "markdown",
   "metadata": {},
   "source": [
    "## Imports"
   ]
  },
  {
   "cell_type": "code",
   "execution_count": 1,
   "metadata": {
    "ExecuteTime": {
     "end_time": "2021-02-23T15:28:42.482106Z",
     "start_time": "2021-02-23T15:28:42.479679Z"
    }
   },
   "outputs": [],
   "source": [
    "import warnings\n",
    "warnings.filterwarnings('ignore')"
   ]
  },
  {
   "cell_type": "code",
   "execution_count": 2,
   "metadata": {
    "ExecuteTime": {
     "end_time": "2021-02-23T15:28:45.750453Z",
     "start_time": "2021-02-23T15:28:42.646677Z"
    }
   },
   "outputs": [
    {
     "name": "stdout",
     "output_type": "stream",
     "text": [
      "INFO:tensorflow:Enabling eager execution\n",
      "INFO:tensorflow:Enabling v2 tensorshape\n",
      "INFO:tensorflow:Enabling resource variables\n",
      "INFO:tensorflow:Enabling tensor equality\n",
      "INFO:tensorflow:Enabling control flow v2\n"
     ]
    }
   ],
   "source": [
    "%matplotlib inline\n",
    "\n",
    "from pathlib import Path\n",
    "import numpy as np\n",
    "import pandas as pd\n",
    "from scipy.stats import spearmanr\n",
    "from sklearn.metrics import roc_auc_score\n",
    "\n",
    "import tensorflow as tf\n",
    "from tensorflow.keras.callbacks import ModelCheckpoint, EarlyStopping\n",
    "from tensorflow.keras.models import Model\n",
    "from tensorflow.keras.layers import Dense, LSTM, Input, concatenate, Embedding, Reshape, BatchNormalization\n",
    "import tensorflow.keras.backend as K\n",
    "\n",
    "import matplotlib.pyplot as plt\n",
    "import seaborn as sns"
   ]
  },
  {
   "cell_type": "code",
   "execution_count": 3,
   "metadata": {
    "ExecuteTime": {
     "end_time": "2021-02-23T15:28:45.829343Z",
     "start_time": "2021-02-23T15:28:45.752524Z"
    }
   },
   "outputs": [
    {
     "name": "stdout",
     "output_type": "stream",
     "text": [
      "Using GPU\n"
     ]
    }
   ],
   "source": [
    "gpu_devices = tf.config.experimental.list_physical_devices('GPU')\n",
    "if gpu_devices:\n",
    "    print('Using GPU')\n",
    "    tf.config.experimental.set_memory_growth(gpu_devices[0], True)\n",
    "else:\n",
    "    print('Using CPU')"
   ]
  },
  {
   "cell_type": "code",
   "execution_count": 4,
   "metadata": {
    "ExecuteTime": {
     "end_time": "2021-02-23T15:28:45.838328Z",
     "start_time": "2021-02-23T15:28:45.831137Z"
    }
   },
   "outputs": [],
   "source": [
    "idx = pd.IndexSlice\n",
    "sns.set_style('whitegrid')\n",
    "np.random.seed(42)"
   ]
  },
  {
   "cell_type": "code",
   "execution_count": 5,
   "metadata": {
    "ExecuteTime": {
     "end_time": "2021-02-23T15:28:46.890619Z",
     "start_time": "2021-02-23T15:28:46.887596Z"
    }
   },
   "outputs": [],
   "source": [
    "results_path = Path('results', 'lstm_embeddings')\n",
    "if not results_path.exists():\n",
    "    results_path.mkdir(parents=True)"
   ]
  },
  {
   "cell_type": "markdown",
   "metadata": {},
   "source": [
    "## Data"
   ]
  },
  {
   "cell_type": "markdown",
   "metadata": {},
   "source": [
    "Data produced by the notebook [build_dataset](00_build_dataset.ipynb)."
   ]
  },
  {
   "cell_type": "code",
   "execution_count": 6,
   "metadata": {
    "ExecuteTime": {
     "end_time": "2021-02-23T15:28:55.202828Z",
     "start_time": "2021-02-23T15:28:53.833048Z"
    }
   },
   "outputs": [],
   "source": [
    "data = pd.read_hdf('data.h5', 'returns_weekly')"
   ]
  },
  {
   "cell_type": "code",
   "execution_count": 7,
   "metadata": {
    "ExecuteTime": {
     "end_time": "2021-02-23T15:28:55.296142Z",
     "start_time": "2021-02-23T15:28:55.207089Z"
    }
   },
   "outputs": [],
   "source": [
    "data['ticker'] = pd.factorize(data.index.get_level_values('ticker'))[0]"
   ]
  },
  {
   "cell_type": "code",
   "execution_count": 8,
   "metadata": {
    "ExecuteTime": {
     "end_time": "2021-02-23T15:28:55.897764Z",
     "start_time": "2021-02-23T15:28:55.301600Z"
    }
   },
   "outputs": [],
   "source": [
    "data['month'] = data.index.get_level_values('date').month\n",
    "data = pd.get_dummies(data, columns=['month'], prefix='month')"
   ]
  },
  {
   "cell_type": "code",
   "execution_count": 9,
   "metadata": {
    "ExecuteTime": {
     "end_time": "2021-02-23T15:28:56.149790Z",
     "start_time": "2021-02-23T15:28:55.904970Z"
    }
   },
   "outputs": [
    {
     "name": "stdout",
     "output_type": "stream",
     "text": [
      "<class 'pandas.core.frame.DataFrame'>\n",
      "MultiIndex: 1066975 entries, ('A', Timestamp('2009-01-11 00:00:00')) to ('UFPI', Timestamp('2017-12-31 00:00:00'))\n",
      "Data columns (total 67 columns):\n",
      " #   Column       Non-Null Count    Dtype  \n",
      "---  ------       --------------    -----  \n",
      " 0   fwd_returns  1066975 non-null  float64\n",
      " 1   1            1066975 non-null  float64\n",
      " 2   2            1066975 non-null  float64\n",
      " 3   3            1066975 non-null  float64\n",
      " 4   4            1066975 non-null  float64\n",
      " 5   5            1066975 non-null  float64\n",
      " 6   6            1066975 non-null  float64\n",
      " 7   7            1066975 non-null  float64\n",
      " 8   8            1066975 non-null  float64\n",
      " 9   9            1066975 non-null  float64\n",
      " 10  10           1066975 non-null  float64\n",
      " 11  11           1066975 non-null  float64\n",
      " 12  12           1066975 non-null  float64\n",
      " 13  13           1066975 non-null  float64\n",
      " 14  14           1066975 non-null  float64\n",
      " 15  15           1066975 non-null  float64\n",
      " 16  16           1066975 non-null  float64\n",
      " 17  17           1066975 non-null  float64\n",
      " 18  18           1066975 non-null  float64\n",
      " 19  19           1066975 non-null  float64\n",
      " 20  20           1066975 non-null  float64\n",
      " 21  21           1066975 non-null  float64\n",
      " 22  22           1066975 non-null  float64\n",
      " 23  23           1066975 non-null  float64\n",
      " 24  24           1066975 non-null  float64\n",
      " 25  25           1066975 non-null  float64\n",
      " 26  26           1066975 non-null  float64\n",
      " 27  27           1066975 non-null  float64\n",
      " 28  28           1066975 non-null  float64\n",
      " 29  29           1066975 non-null  float64\n",
      " 30  30           1066975 non-null  float64\n",
      " 31  31           1066975 non-null  float64\n",
      " 32  32           1066975 non-null  float64\n",
      " 33  33           1066975 non-null  float64\n",
      " 34  34           1066975 non-null  float64\n",
      " 35  35           1066975 non-null  float64\n",
      " 36  36           1066975 non-null  float64\n",
      " 37  37           1066975 non-null  float64\n",
      " 38  38           1066975 non-null  float64\n",
      " 39  39           1066975 non-null  float64\n",
      " 40  40           1066975 non-null  float64\n",
      " 41  41           1066975 non-null  float64\n",
      " 42  42           1066975 non-null  float64\n",
      " 43  43           1066975 non-null  float64\n",
      " 44  44           1066975 non-null  float64\n",
      " 45  45           1066975 non-null  float64\n",
      " 46  46           1066975 non-null  float64\n",
      " 47  47           1066975 non-null  float64\n",
      " 48  48           1066975 non-null  float64\n",
      " 49  49           1066975 non-null  float64\n",
      " 50  50           1066975 non-null  float64\n",
      " 51  51           1066975 non-null  float64\n",
      " 52  52           1066975 non-null  float64\n",
      " 53  label        1066975 non-null  int32  \n",
      " 54  ticker       1066975 non-null  int64  \n",
      " 55  month_1      1066975 non-null  uint8  \n",
      " 56  month_2      1066975 non-null  uint8  \n",
      " 57  month_3      1066975 non-null  uint8  \n",
      " 58  month_4      1066975 non-null  uint8  \n",
      " 59  month_5      1066975 non-null  uint8  \n",
      " 60  month_6      1066975 non-null  uint8  \n",
      " 61  month_7      1066975 non-null  uint8  \n",
      " 62  month_8      1066975 non-null  uint8  \n",
      " 63  month_9      1066975 non-null  uint8  \n",
      " 64  month_10     1066975 non-null  uint8  \n",
      " 65  month_11     1066975 non-null  uint8  \n",
      " 66  month_12     1066975 non-null  uint8  \n",
      "dtypes: float64(53), int32(1), int64(1), uint8(12)\n",
      "memory usage: 460.0+ MB\n"
     ]
    }
   ],
   "source": [
    "data.info()"
   ]
  },
  {
   "cell_type": "markdown",
   "metadata": {},
   "source": [
    "## Train-test split\n",
    "\n",
    "To respect the time series nature of the data, we set aside the data at the end of the sample as hold-out or test set. More specifically, we'll use the data for 2017."
   ]
  },
  {
   "cell_type": "code",
   "execution_count": 10,
   "metadata": {
    "ExecuteTime": {
     "end_time": "2021-02-23T15:28:56.219667Z",
     "start_time": "2021-02-23T15:28:56.153146Z"
    }
   },
   "outputs": [],
   "source": [
    "window_size=52\n",
    "sequence = list(range(1, window_size+1))\n",
    "ticker = 1\n",
    "months = 12\n",
    "n_tickers = data.ticker.nunique()"
   ]
  },
  {
   "cell_type": "code",
   "execution_count": 11,
   "metadata": {
    "ExecuteTime": {
     "end_time": "2021-02-23T15:28:57.038843Z",
     "start_time": "2021-02-23T15:28:56.221179Z"
    }
   },
   "outputs": [],
   "source": [
    "train_data = data.drop('fwd_returns', axis=1).loc[idx[:, :'2016'], :]\n",
    "test_data = data.drop('fwd_returns', axis=1).loc[idx[:, '2017'],:]"
   ]
  },
  {
   "cell_type": "markdown",
   "metadata": {},
   "source": [
    "For each train and test dataset, we generate a list with three input arrays containing the return series, the stock ticker (converted to integer values), and the month (as an integer), as shown here:"
   ]
  },
  {
   "cell_type": "code",
   "execution_count": 12,
   "metadata": {
    "ExecuteTime": {
     "end_time": "2021-02-23T15:28:57.140100Z",
     "start_time": "2021-02-23T15:28:57.039880Z"
    }
   },
   "outputs": [
    {
     "data": {
      "text/plain": [
       "([(946400, 52, 1), (946400,), (946400, 12)], (946400,))"
      ]
     },
     "execution_count": 12,
     "metadata": {},
     "output_type": "execute_result"
    }
   ],
   "source": [
    "X_train = [\n",
    "    train_data.loc[:, sequence].values.reshape(-1, window_size , 1),\n",
    "    train_data.ticker,\n",
    "    train_data.filter(like='month')\n",
    "]\n",
    "y_train = train_data.label\n",
    "[x.shape for x in X_train], y_train.shape"
   ]
  },
  {
   "cell_type": "code",
   "execution_count": 13,
   "metadata": {
    "ExecuteTime": {
     "end_time": "2021-02-23T15:28:57.160607Z",
     "start_time": "2021-02-23T15:28:57.143176Z"
    }
   },
   "outputs": [
    {
     "data": {
      "text/plain": [
       "([(120575, 52, 1), (120575,), (120575, 12)], (120575,))"
      ]
     },
     "execution_count": 13,
     "metadata": {},
     "output_type": "execute_result"
    }
   ],
   "source": [
    "# keep the last year for testing\n",
    "X_test = [\n",
    "    test_data.loc[:, list(range(1, window_size+1))].values.reshape(-1, window_size , 1),\n",
    "    test_data.ticker,\n",
    "    test_data.filter(like='month')\n",
    "]\n",
    "y_test = test_data.label\n",
    "[x.shape for x in X_test], y_test.shape"
   ]
  },
  {
   "cell_type": "markdown",
   "metadata": {},
   "source": [
    "##  Define the Model Architecture"
   ]
  },
  {
   "cell_type": "markdown",
   "metadata": {},
   "source": [
    "The functional API of Keras makes it easy to design architectures with multiple inputs and outputs. This example illustrates a network with three inputs, as follows:\n",
    "\n",
    "- A two stacked LSTM layers with 25 and 10 units respectively\n",
    "- An embedding layer that learns a 10-dimensional real-valued representation of the equities\n",
    "- A one-hot encoded representation of the month\n",
    "\n",
    "This can be constructed using just a few lines - see e.g., \n",
    "- the [general Keras documentation](https://keras.io/getting-started/sequential-model-guide/), \n",
    "- the [LSTM documentation](https://keras.io/layers/recurrent/).\n",
    "\n",
    "Make sure you are initializing your optimizer given the [keras-recommended approach for RNNs](https://keras.io/optimizers/) \n",
    "\n",
    "We begin by defining the three inputs with their respective shapes, as described here:"
   ]
  },
  {
   "cell_type": "code",
   "execution_count": 14,
   "metadata": {
    "ExecuteTime": {
     "end_time": "2021-02-23T15:28:57.167073Z",
     "start_time": "2021-02-23T15:28:57.162712Z"
    }
   },
   "outputs": [],
   "source": [
    "K.clear_session()"
   ]
  },
  {
   "cell_type": "code",
   "execution_count": 15,
   "metadata": {
    "ExecuteTime": {
     "end_time": "2021-02-23T15:28:57.189183Z",
     "start_time": "2021-02-23T15:28:57.168941Z"
    }
   },
   "outputs": [],
   "source": [
    "n_features = 1"
   ]
  },
  {
   "cell_type": "code",
   "execution_count": 16,
   "metadata": {
    "ExecuteTime": {
     "end_time": "2021-02-23T15:28:57.208667Z",
     "start_time": "2021-02-23T15:28:57.191030Z"
    }
   },
   "outputs": [],
   "source": [
    "returns = Input(shape=(window_size, n_features),\n",
    "                name='Returns')\n",
    "\n",
    "tickers = Input(shape=(1,),\n",
    "                name='Tickers')\n",
    "\n",
    "months = Input(shape=(12,),\n",
    "               name='Months')"
   ]
  },
  {
   "cell_type": "markdown",
   "metadata": {},
   "source": [
    "### LSTM Layers"
   ]
  },
  {
   "cell_type": "markdown",
   "metadata": {},
   "source": [
    "To define stacked LSTM layers, we set the `return_sequences` keyword to `True`. This ensures that the first layer produces an output that conforms to the expected three-dimensional input format. Note that we also use dropout regularization and how the functional API passes the tensor outputs from one layer to the subsequent layer:"
   ]
  },
  {
   "cell_type": "code",
   "execution_count": 17,
   "metadata": {
    "ExecuteTime": {
     "end_time": "2021-02-23T15:28:57.213641Z",
     "start_time": "2021-02-23T15:28:57.210584Z"
    }
   },
   "outputs": [],
   "source": [
    "lstm1_units = 25\n",
    "lstm2_units = 10"
   ]
  },
  {
   "cell_type": "code",
   "execution_count": 18,
   "metadata": {
    "ExecuteTime": {
     "end_time": "2021-02-23T15:28:58.418915Z",
     "start_time": "2021-02-23T15:28:57.215252Z"
    }
   },
   "outputs": [],
   "source": [
    "lstm1 = LSTM(units=lstm1_units, \n",
    "             input_shape=(window_size, \n",
    "                          n_features), \n",
    "             name='LSTM1', \n",
    "             dropout=.2,\n",
    "             return_sequences=True)(returns)\n",
    "\n",
    "lstm_model = LSTM(units=lstm2_units, \n",
    "             dropout=.2,\n",
    "             name='LSTM2')(lstm1)"
   ]
  },
  {
   "cell_type": "markdown",
   "metadata": {},
   "source": [
    "### Embedding Layer"
   ]
  },
  {
   "cell_type": "markdown",
   "metadata": {},
   "source": [
    "The embedding layer requires the `input_dim` keyword, which defines how many embeddings the layer will learn, the `output_dim` keyword, which defines the size of the embedding, and the `input_length` keyword to set the number of elements passed to the layer (here only one ticker per sample). \n",
    "\n",
    "To combine the embedding layer with the LSTM layer and the months input, we need to reshape (or flatten) it, as follows:"
   ]
  },
  {
   "cell_type": "code",
   "execution_count": 19,
   "metadata": {
    "ExecuteTime": {
     "end_time": "2021-02-23T15:28:58.442744Z",
     "start_time": "2021-02-23T15:28:58.424522Z"
    }
   },
   "outputs": [],
   "source": [
    "ticker_embedding = Embedding(input_dim=n_tickers, \n",
    "                             output_dim=5, \n",
    "                             input_length=1)(tickers)\n",
    "ticker_embedding = Reshape(target_shape=(5,))(ticker_embedding)"
   ]
  },
  {
   "cell_type": "markdown",
   "metadata": {},
   "source": [
    "### Concatenate Model components"
   ]
  },
  {
   "cell_type": "markdown",
   "metadata": {},
   "source": [
    "Now we can concatenate the three tensors and add fully-connected layers to learn a mapping from these learned time series, ticker, and month indicators to the outcome, a positive or negative return in the following week, as shown here:"
   ]
  },
  {
   "cell_type": "code",
   "execution_count": 20,
   "metadata": {
    "ExecuteTime": {
     "end_time": "2021-02-23T15:28:58.516368Z",
     "start_time": "2021-02-23T15:28:58.448375Z"
    }
   },
   "outputs": [],
   "source": [
    "merged = concatenate([lstm_model, \n",
    "                      ticker_embedding, \n",
    "                      months], name='Merged')\n",
    "\n",
    "bn = BatchNormalization()(merged)\n",
    "hidden_dense = Dense(10, name='FC1')(bn)\n",
    "\n",
    "output = Dense(1, name='Output', activation='sigmoid')(hidden_dense)\n",
    "\n",
    "rnn = Model(inputs=[returns, tickers, months], outputs=output)"
   ]
  },
  {
   "cell_type": "markdown",
   "metadata": {},
   "source": [
    "The summary lays out this slightly more sophisticated architecture with 29,371 parameters, as follows:"
   ]
  },
  {
   "cell_type": "code",
   "execution_count": 21,
   "metadata": {
    "ExecuteTime": {
     "end_time": "2021-02-23T15:28:58.533718Z",
     "start_time": "2021-02-23T15:28:58.522029Z"
    }
   },
   "outputs": [
    {
     "name": "stdout",
     "output_type": "stream",
     "text": [
      "Model: \"model\"\n",
      "__________________________________________________________________________________________________\n",
      "Layer (type)                    Output Shape         Param #     Connected to                     \n",
      "==================================================================================================\n",
      "Returns (InputLayer)            [(None, 52, 1)]      0                                            \n",
      "__________________________________________________________________________________________________\n",
      "Tickers (InputLayer)            [(None, 1)]          0                                            \n",
      "__________________________________________________________________________________________________\n",
      "LSTM1 (LSTM)                    (None, 52, 25)       2700        Returns[0][0]                    \n",
      "__________________________________________________________________________________________________\n",
      "embedding (Embedding)           (None, 1, 5)         11375       Tickers[0][0]                    \n",
      "__________________________________________________________________________________________________\n",
      "LSTM2 (LSTM)                    (None, 10)           1440        LSTM1[0][0]                      \n",
      "__________________________________________________________________________________________________\n",
      "reshape (Reshape)               (None, 5)            0           embedding[0][0]                  \n",
      "__________________________________________________________________________________________________\n",
      "Months (InputLayer)             [(None, 12)]         0                                            \n",
      "__________________________________________________________________________________________________\n",
      "Merged (Concatenate)            (None, 27)           0           LSTM2[0][0]                      \n",
      "                                                                 reshape[0][0]                    \n",
      "                                                                 Months[0][0]                     \n",
      "__________________________________________________________________________________________________\n",
      "batch_normalization (BatchNorma (None, 27)           108         Merged[0][0]                     \n",
      "__________________________________________________________________________________________________\n",
      "FC1 (Dense)                     (None, 10)           280         batch_normalization[0][0]        \n",
      "__________________________________________________________________________________________________\n",
      "Output (Dense)                  (None, 1)            11          FC1[0][0]                        \n",
      "==================================================================================================\n",
      "Total params: 15,914\n",
      "Trainable params: 15,860\n",
      "Non-trainable params: 54\n",
      "__________________________________________________________________________________________________\n"
     ]
    }
   ],
   "source": [
    "rnn.summary()"
   ]
  },
  {
   "cell_type": "markdown",
   "metadata": {},
   "source": [
    "## Train the Model"
   ]
  },
  {
   "cell_type": "markdown",
   "metadata": {},
   "source": [
    "We compile the model to compute a custom auc metric as follows:"
   ]
  },
  {
   "cell_type": "code",
   "execution_count": 22,
   "metadata": {
    "ExecuteTime": {
     "end_time": "2021-02-23T15:28:58.543044Z",
     "start_time": "2021-02-23T15:28:58.537703Z"
    }
   },
   "outputs": [],
   "source": [
    "optimizer = tf.keras.optimizers.RMSprop(lr=0.001,\n",
    "                                        rho=0.9,\n",
    "                                        epsilon=1e-08,\n",
    "                                        decay=0.0)"
   ]
  },
  {
   "cell_type": "code",
   "execution_count": 23,
   "metadata": {
    "ExecuteTime": {
     "end_time": "2021-02-23T15:28:58.673804Z",
     "start_time": "2021-02-23T15:28:58.546460Z"
    }
   },
   "outputs": [],
   "source": [
    "rnn.compile(loss='binary_crossentropy',\n",
    "            optimizer=optimizer,\n",
    "            metrics=['accuracy', \n",
    "                     tf.keras.metrics.AUC(name='AUC')])"
   ]
  },
  {
   "cell_type": "code",
   "execution_count": 24,
   "metadata": {
    "ExecuteTime": {
     "end_time": "2021-02-23T15:28:58.682620Z",
     "start_time": "2021-02-23T15:28:58.675306Z"
    }
   },
   "outputs": [],
   "source": [
    "lstm_path = (results_path / 'lstm.classification.h5').as_posix()\n",
    "\n",
    "checkpointer = ModelCheckpoint(filepath=lstm_path,\n",
    "                               verbose=1,\n",
    "                               monitor='val_AUC',\n",
    "                               mode='max',\n",
    "                               save_best_only=True)"
   ]
  },
  {
   "cell_type": "code",
   "execution_count": 25,
   "metadata": {
    "ExecuteTime": {
     "end_time": "2021-02-23T15:28:58.689723Z",
     "start_time": "2021-02-23T15:28:58.683968Z"
    }
   },
   "outputs": [],
   "source": [
    "early_stopping = EarlyStopping(monitor='val_AUC', \n",
    "                              patience=5,\n",
    "                              restore_best_weights=True,\n",
    "                              mode='max')"
   ]
  },
  {
   "cell_type": "code",
   "execution_count": null,
   "metadata": {
    "ExecuteTime": {
     "end_time": "2021-02-23T16:17:13.725627Z",
     "start_time": "2021-02-23T15:28:58.691174Z"
    }
   },
   "outputs": [
    {
     "name": "stdout",
     "output_type": "stream",
     "text": [
      "Epoch 1/50\n",
      "29575/29575 [==============================] - 1611s 54ms/step - loss: 0.6927 - accuracy: 0.5302 - AUC: 0.5397 - val_loss: 0.6768 - val_accuracy: 0.5747 - val_AUC: 0.6030\n",
      "\n",
      "Epoch 00001: val_AUC improved from -inf to 0.60295, saving model to results/lstm_embeddings\\lstm.classification.h5\n",
      "Epoch 2/50\n",
      "29575/29575 [==============================] - 1612s 55ms/step - loss: 0.6857 - accuracy: 0.5485 - AUC: 0.5667 - val_loss: 0.6838 - val_accuracy: 0.5605 - val_AUC: 0.6165\n",
      "\n",
      "Epoch 00002: val_AUC improved from 0.60295 to 0.61654, saving model to results/lstm_embeddings\\lstm.classification.h5\n",
      "Epoch 3/50\n",
      "29575/29575 [==============================] - 1844s 62ms/step - loss: 0.6846 - accuracy: 0.5516 - AUC: 0.5712 - val_loss: 0.5834 - val_accuracy: 0.6085 - val_AUC: 0.6781\n",
      "\n",
      "Epoch 00003: val_AUC improved from 0.61654 to 0.67808, saving model to results/lstm_embeddings\\lstm.classification.h5\n",
      "Epoch 4/50\n",
      "29575/29575 [==============================] - 1845s 62ms/step - loss: 0.6778 - accuracy: 0.5492 - AUC: 0.5704 - val_loss: 0.5804 - val_accuracy: 0.6167 - val_AUC: 0.6761\n",
      "\n",
      "Epoch 00004: val_AUC did not improve from 0.67808\n",
      "Epoch 5/50\n",
      "29575/29575 [==============================] - 1893s 64ms/step - loss: 0.6755 - accuracy: 0.5531 - AUC: 0.5754 - val_loss: 0.5820 - val_accuracy: 0.6065 - val_AUC: 0.6743\n",
      "\n",
      "Epoch 00005: val_AUC did not improve from 0.67808\n",
      "Epoch 6/50\n",
      "29575/29575 [==============================] - 1535s 52ms/step - loss: 0.6767 - accuracy: 0.5525 - AUC: 0.5735 - val_loss: 0.5833 - val_accuracy: 0.6185 - val_AUC: 0.6790\n",
      "\n",
      "Epoch 00006: val_AUC improved from 0.67808 to 0.67896, saving model to results/lstm_embeddings\\lstm.classification.h5\n",
      "Epoch 7/50\n",
      "29575/29575 [==============================] - 1147s 39ms/step - loss: 0.6768 - accuracy: 0.5541 - AUC: 0.5775 - val_loss: 0.5824 - val_accuracy: 0.6107 - val_AUC: 0.6759\n",
      "\n",
      "Epoch 00007: val_AUC did not improve from 0.67896\n",
      "Epoch 8/50\n",
      "29575/29575 [==============================] - 1186s 40ms/step - loss: 0.6787 - accuracy: 0.5527 - AUC: 0.5759 - val_loss: 0.6559 - val_accuracy: 0.6101 - val_AUC: 0.6728\n",
      "\n",
      "Epoch 00008: val_AUC did not improve from 0.67896\n",
      "Epoch 9/50\n",
      "29575/29575 [==============================] - 1196s 40ms/step - loss: 0.6773 - accuracy: 0.5534 - AUC: 0.5774 - val_loss: 0.5718 - val_accuracy: 0.6158 - val_AUC: 0.6814\n",
      "\n",
      "Epoch 00009: val_AUC improved from 0.67896 to 0.68137, saving model to results/lstm_embeddings\\lstm.classification.h5\n",
      "Epoch 10/50\n",
      "27404/29575 [==========================>...] - ETA: 1:15 - loss: 0.6752 - accuracy: 0.5552 - AUC: 0.5788"
     ]
    }
   ],
   "source": [
    "training = rnn.fit(X_train,\n",
    "                   y_train,\n",
    "                   epochs=50,\n",
    "                   batch_size=32,\n",
    "                   validation_data=(X_test, y_test),\n",
    "                   callbacks=[early_stopping, checkpointer],\n",
    "                   verbose=1)"
   ]
  },
  {
   "cell_type": "markdown",
   "metadata": {},
   "source": [
    "Training stops after 18 epochs, producing a test area under the curve (AUC) of 0.63 for the best model with 13 rounds of training (each of which takes around three minutes on a single GPU)."
   ]
  },
  {
   "cell_type": "code",
   "execution_count": 34,
   "metadata": {
    "ExecuteTime": {
     "end_time": "2021-02-23T16:17:13.729165Z",
     "start_time": "2021-02-23T16:17:13.726733Z"
    }
   },
   "outputs": [],
   "source": [
    "loss_history = pd.DataFrame(training.history)"
   ]
  },
  {
   "cell_type": "code",
   "execution_count": 35,
   "metadata": {
    "ExecuteTime": {
     "end_time": "2021-02-23T16:17:13.744015Z",
     "start_time": "2021-02-23T16:17:13.730655Z"
    }
   },
   "outputs": [],
   "source": [
    "def which_metric(m):\n",
    "    return m.split('_')[-1]"
   ]
  },
  {
   "cell_type": "code",
   "execution_count": 36,
   "metadata": {
    "ExecuteTime": {
     "end_time": "2021-02-23T16:17:14.585829Z",
     "start_time": "2021-02-23T16:17:13.744917Z"
    }
   },
   "outputs": [
    {
     "data": {
      "image/png": "[encoded data removed]",
      "text/plain": [
       "<Figure size 1296x288 with 3 Axes>"
      ]
     },
     "metadata": {},
     "output_type": "display_data"
    }
   ],
   "source": [
    "fig, axes = plt.subplots(ncols=3, figsize=(18,4))\n",
    "for i, (metric, hist) in enumerate(loss_history.groupby(which_metric, axis=1)):\n",
    "    hist.plot(ax=axes[i], title=metric)\n",
    "    axes[i].legend(['Training', 'Validation'])\n",
    "\n",
    "sns.despine()\n",
    "fig.tight_layout()\n",
    "fig.savefig(results_path / 'lstm_stacked_classification', dpi=300);"
   ]
  },
  {
   "cell_type": "markdown",
   "metadata": {},
   "source": [
    "## Evaluate model performance"
   ]
  },
  {
   "cell_type": "code",
   "execution_count": 37,
   "metadata": {
    "ExecuteTime": {
     "end_time": "2021-02-23T16:17:20.427831Z",
     "start_time": "2021-02-23T16:17:14.586859Z"
    }
   },
   "outputs": [],
   "source": [
    "test_predict = pd.Series(rnn.predict(X_test).squeeze(), index=y_test.index)"
   ]
  },
  {
   "cell_type": "code",
   "execution_count": 38,
   "metadata": {
    "ExecuteTime": {
     "end_time": "2021-02-23T16:17:20.456084Z",
     "start_time": "2021-02-23T16:17:20.428744Z"
    }
   },
   "outputs": [
    {
     "data": {
      "text/plain": [
       "0.6832239603959649"
      ]
     },
     "execution_count": 38,
     "metadata": {},
     "output_type": "execute_result"
    }
   ],
   "source": [
    "roc_auc_score(y_score=test_predict, y_true=y_test)"
   ]
  },
  {
   "cell_type": "code",
   "execution_count": 39,
   "metadata": {
    "ExecuteTime": {
     "end_time": "2021-02-23T16:17:20.461598Z",
     "start_time": "2021-02-23T16:17:20.456961Z"
    }
   },
   "outputs": [
    {
     "data": {
      "text/plain": [
       "0.6200041467965997"
      ]
     },
     "execution_count": 39,
     "metadata": {},
     "output_type": "execute_result"
    }
   ],
   "source": [
    "((test_predict>.5) == y_test).astype(int).mean()"
   ]
  },
  {
   "cell_type": "code",
   "execution_count": 40,
   "metadata": {
    "ExecuteTime": {
     "end_time": "2021-02-23T16:17:20.484800Z",
     "start_time": "2021-02-23T16:17:20.462606Z"
    }
   },
   "outputs": [
    {
     "data": {
      "text/plain": [
       "0.31349223222639616"
      ]
     },
     "execution_count": 40,
     "metadata": {},
     "output_type": "execute_result"
    }
   ],
   "source": [
    "spearmanr(test_predict, y_test)[0]"
   ]
  }
 ],
 "metadata": {
  "anaconda-cloud": {},
  "kernelspec": {
   "display_name": "Python [conda env:tensorflow_env]",
   "language": "python",
   "name": "conda-env-tensorflow_env-py"
  },
  "language_info": {
   "codemirror_mode": {
    "name": "ipython",
    "version": 3
   },
   "file_extension": ".py",
   "mimetype": "text/x-python",
   "name": "python",
   "nbconvert_exporter": "python",
   "pygments_lexer": "ipython3",
   "version": "3.8.8"
  },
  "toc": {
   "base_numbering": 1,
   "nav_menu": {},
   "number_sections": true,
   "sideBar": true,
   "skip_h1_title": true,
   "title_cell": "Table of Contents",
   "title_sidebar": "Contents",
   "toc_cell": false,
   "toc_position": {},
   "toc_section_display": true,
   "toc_window_display": true
  }
 },
 "nbformat": 4,
 "nbformat_minor": 4
}
