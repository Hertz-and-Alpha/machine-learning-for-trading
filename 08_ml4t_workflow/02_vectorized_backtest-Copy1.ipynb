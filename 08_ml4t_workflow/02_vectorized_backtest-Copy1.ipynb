{
 "cells": [
  {
   "cell_type": "markdown",
   "metadata": {},
   "source": [
    "# Vectorized Backtest"
   ]
  },
  {
   "cell_type": "code",
   "execution_count": 1,
   "metadata": {
    "ExecuteTime": {
     "end_time": "2021-04-15T20:18:41.096668Z",
     "start_time": "2021-04-15T20:18:41.093832Z"
    }
   },
   "outputs": [],
   "source": [
    "import warnings\n",
    "warnings.filterwarnings('ignore')"
   ]
  },
  {
   "cell_type": "code",
   "execution_count": 2,
   "metadata": {
    "ExecuteTime": {
     "end_time": "2021-04-15T20:18:41.613556Z",
     "start_time": "2021-04-15T20:18:41.097748Z"
    }
   },
   "outputs": [],
   "source": [
    "from pathlib import Path\n",
    "from time import time\n",
    "import datetime\n",
    "\n",
    "import numpy as np\n",
    "import pandas as pd\n",
    "import pandas_datareader.data as web\n",
    "\n",
    "from scipy.stats import spearmanr\n",
    "\n",
    "import matplotlib.pyplot as plt\n",
    "from matplotlib.ticker import FuncFormatter\n",
    "import seaborn as sns"
   ]
  },
  {
   "cell_type": "code",
   "execution_count": 3,
   "metadata": {
    "ExecuteTime": {
     "end_time": "2021-04-15T20:18:41.616352Z",
     "start_time": "2021-04-15T20:18:41.614577Z"
    }
   },
   "outputs": [],
   "source": [
    "sns.set_style('whitegrid')\n",
    "np.random.seed(42)"
   ]
  },
  {
   "cell_type": "markdown",
   "metadata": {},
   "source": [
    "## Load Data"
   ]
  },
  {
   "cell_type": "markdown",
   "metadata": {},
   "source": [
    "### Return Predictions"
   ]
  },
  {
   "cell_type": "code",
   "execution_count": 4,
   "metadata": {
    "ExecuteTime": {
     "end_time": "2021-04-15T20:18:41.629860Z",
     "start_time": "2021-04-15T20:18:41.617462Z"
    }
   },
   "outputs": [],
   "source": [
    "DATA_DIR = Path('..', 'data')"
   ]
  },
  {
   "cell_type": "code",
   "execution_count": 6,
   "metadata": {
    "ExecuteTime": {
     "end_time": "2021-04-15T20:18:41.813441Z",
     "start_time": "2021-04-15T20:18:41.630845Z"
    }
   },
   "outputs": [
    {
     "name": "stdout",
     "output_type": "stream",
     "text": [
      "<class 'pandas.core.frame.DataFrame'>\n",
      "MultiIndex: 190960 entries, ('AAPL', Timestamp('2014-12-09 00:00:00')) to ('HTZ', Timestamp('2017-11-30 00:00:00'))\n",
      "Data columns (total 6 columns):\n",
      " #   Column     Non-Null Count   Dtype  \n",
      "---  ------     --------------   -----  \n",
      " 0   predicted  74038 non-null   float64\n",
      " 1   open       190960 non-null  float64\n",
      " 2   high       190960 non-null  float64\n",
      " 3   low        190960 non-null  float64\n",
      " 4   close      190960 non-null  float64\n",
      " 5   volume     190960 non-null  float64\n",
      "dtypes: float64(6)\n",
      "memory usage: 10.2+ MB\n"
     ]
    }
   ],
   "source": [
    "data = pd.read_hdf('00_data/backtest.h5', 'data')\n",
    "data.info()"
   ]
  },
  {
   "cell_type": "markdown",
   "metadata": {},
   "source": [
    "### SP500 Benchmark"
   ]
  },
  {
   "cell_type": "code",
   "execution_count": null,
   "metadata": {
    "ExecuteTime": {
     "end_time": "2021-04-15T20:18:42.015555Z",
     "start_time": "2021-04-15T20:18:41.814603Z"
    }
   },
   "outputs": [],
   "source": [
    "sp500 = web.DataReader('SP500', 'fred', '2014', '2018').pct_change()"
   ]
  },
  {
   "cell_type": "code",
   "execution_count": null,
   "metadata": {
    "ExecuteTime": {
     "end_time": "2021-04-15T20:18:42.023177Z",
     "start_time": "2021-04-15T20:18:42.016704Z"
    }
   },
   "outputs": [],
   "source": [
    "sp500.info()"
   ]
  },
  {
   "cell_type": "markdown",
   "metadata": {},
   "source": [
    "## Compute Forward Returns"
   ]
  },
  {
   "cell_type": "code",
   "execution_count": null,
   "metadata": {
    "ExecuteTime": {
     "end_time": "2021-04-15T20:18:42.075680Z",
     "start_time": "2021-04-15T20:18:42.024253Z"
    }
   },
   "outputs": [],
   "source": [
    "daily_returns = data.open.unstack('ticker').sort_index().pct_change()\n",
    "daily_returns.info()"
   ]
  },
  {
   "cell_type": "code",
   "execution_count": null,
   "metadata": {
    "ExecuteTime": {
     "end_time": "2021-04-15T20:18:42.078933Z",
     "start_time": "2021-04-15T20:18:42.076653Z"
    }
   },
   "outputs": [],
   "source": [
    "fwd_returns = daily_returns.shift(-1)"
   ]
  },
  {
   "cell_type": "markdown",
   "metadata": {},
   "source": [
    "## Generate Signals"
   ]
  },
  {
   "cell_type": "code",
   "execution_count": null,
   "metadata": {
    "ExecuteTime": {
     "end_time": "2021-04-15T20:18:42.129675Z",
     "start_time": "2021-04-15T20:18:42.080166Z"
    }
   },
   "outputs": [],
   "source": [
    "predictions = data.predicted.unstack('ticker')\n",
    "predictions.info()"
   ]
  },
  {
   "cell_type": "code",
   "execution_count": null,
   "metadata": {
    "ExecuteTime": {
     "end_time": "2021-04-15T20:18:42.132668Z",
     "start_time": "2021-04-15T20:18:42.130696Z"
    }
   },
   "outputs": [],
   "source": [
    "N_LONG = N_SHORT = 15"
   ]
  },
  {
   "cell_type": "code",
   "execution_count": null,
   "metadata": {
    "ExecuteTime": {
     "end_time": "2021-04-15T20:18:42.154438Z",
     "start_time": "2021-04-15T20:18:42.133750Z"
    }
   },
   "outputs": [],
   "source": [
    "long_signals = ((predictions\n",
    "                .where(predictions > 0)\n",
    "                .rank(axis=1, ascending=False) > N_LONG)\n",
    "                .astype(int))\n",
    "short_signals = ((predictions\n",
    "                  .where(predictions < 0)\n",
    "                  .rank(axis=1) > N_SHORT)\n",
    "                 .astype(int))"
   ]
  },
  {
   "cell_type": "markdown",
   "metadata": {},
   "source": [
    "## Compute Portfolio Returns"
   ]
  },
  {
   "cell_type": "code",
   "execution_count": null,
   "metadata": {
    "ExecuteTime": {
     "end_time": "2021-04-15T20:18:42.163266Z",
     "start_time": "2021-04-15T20:18:42.155349Z"
    }
   },
   "outputs": [],
   "source": [
    "long_returns = long_signals.mul(fwd_returns).mean(axis=1)\n",
    "short_returns = short_signals.mul(-fwd_returns).mean(axis=1)\n",
    "strategy = long_returns.add(short_returns).to_frame('Strategy')"
   ]
  },
  {
   "cell_type": "markdown",
   "metadata": {},
   "source": [
    "## Plot results"
   ]
  },
  {
   "cell_type": "code",
   "execution_count": null,
   "metadata": {
    "ExecuteTime": {
     "end_time": "2021-04-15T20:18:42.556164Z",
     "start_time": "2021-04-15T20:18:42.164137Z"
    }
   },
   "outputs": [],
   "source": [
    "fig, axes = plt.subplots(ncols=2, figsize=(14,5))\n",
    "strategy.join(sp500).add(1).cumprod().sub(1).plot(ax=axes[0], title='Cumulative Return')\n",
    "sns.distplot(strategy.dropna(), ax=axes[1], hist=False, label='Strategy')\n",
    "sns.distplot(sp500, ax=axes[1], hist=False, label='SP500')\n",
    "axes[1].set_title('Daily Standard Deviation')\n",
    "axes[0].yaxis.set_major_formatter(FuncFormatter(lambda y, _: '{:.0%}'.format(y))) \n",
    "axes[1].xaxis.set_major_formatter(FuncFormatter(lambda y, _: '{:.0%}'.format(y))) \n",
    "sns.despine()\n",
    "fig.tight_layout();"
   ]
  },
  {
   "cell_type": "code",
   "execution_count": null,
   "metadata": {
    "ExecuteTime": {
     "end_time": "2021-04-15T20:18:42.563307Z",
     "start_time": "2021-04-15T20:18:42.557499Z"
    }
   },
   "outputs": [],
   "source": [
    "res = strategy.join(sp500).dropna()"
   ]
  },
  {
   "cell_type": "code",
   "execution_count": null,
   "metadata": {
    "ExecuteTime": {
     "end_time": "2021-04-15T20:18:42.576546Z",
     "start_time": "2021-04-15T20:18:42.564676Z"
    }
   },
   "outputs": [],
   "source": [
    "res.std()"
   ]
  },
  {
   "cell_type": "code",
   "execution_count": null,
   "metadata": {
    "ExecuteTime": {
     "end_time": "2021-04-15T20:18:42.589786Z",
     "start_time": "2021-04-15T20:18:42.578531Z"
    }
   },
   "outputs": [],
   "source": [
    "res.corr()"
   ]
  }
 ],
 "metadata": {
  "kernelspec": {
   "display_name": "Python [conda env:ml4t]",
   "language": "python",
   "name": "conda-env-ml4t-py"
  },
  "language_info": {
   "codemirror_mode": {
    "name": "ipython",
    "version": 3
   },
   "file_extension": ".py",
   "mimetype": "text/x-python",
   "name": "python",
   "nbconvert_exporter": "python",
   "pygments_lexer": "ipython3",
   "version": "3.8.8"
  },
  "toc": {
   "base_numbering": 1,
   "nav_menu": {},
   "number_sections": true,
   "sideBar": true,
   "skip_h1_title": true,
   "title_cell": "Table of Contents",
   "title_sidebar": "Contents",
   "toc_cell": false,
   "toc_position": {},
   "toc_section_display": true,
   "toc_window_display": true
  }
 },
 "nbformat": 4,
 "nbformat_minor": 2
}
