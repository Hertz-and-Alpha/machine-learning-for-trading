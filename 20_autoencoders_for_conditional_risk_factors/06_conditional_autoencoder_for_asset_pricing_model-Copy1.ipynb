{
 "cells": [
  {
   "cell_type": "markdown",
   "metadata": {},
   "source": [
    "# Conditional Autoencoder for Asset Pricing - Part 2: The Model"
   ]
  },
  {
   "cell_type": "markdown",
   "metadata": {},
   "source": [
    "This notebook uses a dataset created using `yfinance` in the notebook [conditional_autoencoder_for_asset_pricing_data](05_conditional_autoencoder_for_asset_pricing_data.ipynb). The results will vary depending on which ticker downloads succeeded."
   ]
  },
  {
   "cell_type": "code",
   "execution_count": 1,
   "metadata": {
    "ExecuteTime": {
     "end_time": "2021-02-25T02:19:34.605450Z",
     "start_time": "2021-02-25T02:19:34.603752Z"
    }
   },
   "outputs": [],
   "source": [
    "import warnings\n",
    "warnings.filterwarnings('ignore')"
   ]
  },
  {
   "cell_type": "code",
   "execution_count": 2,
   "metadata": {
    "ExecuteTime": {
     "end_time": "2021-02-25T02:19:36.827983Z",
     "start_time": "2021-02-25T02:19:34.779105Z"
    }
   },
   "outputs": [],
   "source": [
    "import sys, os\n",
    "from time import time\n",
    "from pathlib import Path\n",
    "from itertools import product\n",
    "from tqdm import tqdm \n",
    "\n",
    "import numpy as np\n",
    "import pandas as pd\n",
    "\n",
    "import matplotlib.pyplot as plt\n",
    "import seaborn as sns\n",
    "\n",
    "import tensorflow as tf\n",
    "from tensorflow.keras.layers import Input, Dense, Dot, Reshape, BatchNormalization\n",
    "from tensorflow.keras.models import Model\n",
    "from tensorflow.keras.callbacks import TensorBoard\n",
    "\n",
    "from sklearn.preprocessing import quantile_transform\n",
    "\n",
    "from scipy.stats import spearmanr"
   ]
  },
  {
   "cell_type": "code",
   "execution_count": 3,
   "metadata": {
    "ExecuteTime": {
     "end_time": "2021-02-25T02:19:36.921304Z",
     "start_time": "2021-02-25T02:19:36.829045Z"
    }
   },
   "outputs": [
    {
     "name": "stdout",
     "output_type": "stream",
     "text": [
      "Using GPU\n"
     ]
    }
   ],
   "source": [
    "gpu_devices = tf.config.experimental.list_physical_devices('GPU')\n",
    "if gpu_devices:\n",
    "    print('Using GPU')\n",
    "    tf.config.experimental.set_memory_growth(gpu_devices[0], True)\n",
    "else:\n",
    "    print('Using CPU')"
   ]
  },
  {
   "cell_type": "code",
   "execution_count": 4,
   "metadata": {},
   "outputs": [
    {
     "data": {
      "text/plain": [
       "[PhysicalDevice(name='/physical_device:GPU:0', device_type='GPU')]"
      ]
     },
     "execution_count": 4,
     "metadata": {},
     "output_type": "execute_result"
    }
   ],
   "source": [
    "gpu_devices"
   ]
  },
  {
   "cell_type": "code",
   "execution_count": 5,
   "metadata": {
    "ExecuteTime": {
     "end_time": "2021-02-25T02:19:36.936409Z",
     "start_time": "2021-02-25T02:19:36.923157Z"
    }
   },
   "outputs": [],
   "source": [
    "sys.path.insert(1, os.path.join(sys.path[0], '..'))\n",
    "from utils import MultipleTimeSeriesCV, format_time"
   ]
  },
  {
   "cell_type": "code",
   "execution_count": 6,
   "metadata": {
    "ExecuteTime": {
     "end_time": "2021-02-25T02:19:36.941712Z",
     "start_time": "2021-02-25T02:19:36.937278Z"
    }
   },
   "outputs": [],
   "source": [
    "idx = pd.IndexSlice\n",
    "sns.set_style('whitegrid')\n",
    "np.random.seed(42)"
   ]
  },
  {
   "cell_type": "code",
   "execution_count": 7,
   "metadata": {
    "ExecuteTime": {
     "end_time": "2021-02-25T02:19:37.833897Z",
     "start_time": "2021-02-25T02:19:37.830039Z"
    }
   },
   "outputs": [],
   "source": [
    "results_path = Path('results', 'asset_pricing')\n",
    "if not results_path.exists():\n",
    "    results_path.mkdir(parents=True)"
   ]
  },
  {
   "cell_type": "code",
   "execution_count": 8,
   "metadata": {
    "ExecuteTime": {
     "end_time": "2021-02-25T02:19:38.033251Z",
     "start_time": "2021-02-25T02:19:38.027838Z"
    }
   },
   "outputs": [],
   "source": [
    "characteristics = ['beta', 'betasq', 'chmom', 'dolvol', 'idiovol', 'ill', 'indmom',\n",
    "                   'maxret', 'mom12m', 'mom1m', 'mom36m', 'mvel', 'retvol', 'turn', 'turn_std']"
   ]
  },
  {
   "cell_type": "markdown",
   "metadata": {},
   "source": [
    "## Load Data"
   ]
  },
  {
   "cell_type": "code",
   "execution_count": 9,
   "metadata": {
    "ExecuteTime": {
     "end_time": "2021-02-24T18:50:13.572501Z",
     "start_time": "2021-02-24T18:50:13.512736Z"
    }
   },
   "outputs": [
    {
     "name": "stdout",
     "output_type": "stream",
     "text": [
      "<class 'pandas.io.pytables.HDFStore'>\n",
      "File path: results\\asset_pricing\\autoencoder.h5\n",
      "/close                      frame        (shape->[7559,2784]) \n",
      "/factor/beta                frame        (shape->[1857868,1]) \n",
      "/factor/betasq              frame        (shape->[1857868,1]) \n",
      "/factor/chmom               frame        (shape->[2112739,1]) \n",
      "/factor/dolvol              frame        (shape->[2217436,1]) \n",
      "/factor/idiovol             frame        (shape->[1857868,1]) \n",
      "/factor/ill                 frame        (shape->[2109879,1]) \n",
      "/factor/indmom              frame        (shape->[2221733,1]) \n",
      "/factor/maxret              frame        (shape->[2230537,1]) \n",
      "/factor/mom12m              frame        (shape->[2112739,1]) \n",
      "/factor/mom1m               series       (shape->[2242019])   \n",
      "/factor/mom36m              frame        (shape->[1856586,1]) \n",
      "/factor/mvel                frame        (shape->[2252977,1]) \n",
      "/factor/retvol              frame        (shape->[2242019,1]) \n",
      "/factor/turn                frame        (shape->[2201533,1]) \n",
      "/factor/turn_std            frame        (shape->[2227011,1]) \n",
      "/metadata                   frame        (shape->[1,3])       \n",
      "/model_data                 frame        (shape->[3922656,17])\n",
      "/returns                    frame        (shape->[1565,2784]) \n",
      "/volume                     frame        (shape->[7559,2784]) \n"
     ]
    }
   ],
   "source": [
    "with pd.HDFStore(results_path / 'autoencoder.h5') as store:\n",
    "    print(store.info())"
   ]
  },
  {
   "cell_type": "markdown",
   "metadata": {},
   "source": [
    "### Weekly returns"
   ]
  },
  {
   "cell_type": "code",
   "execution_count": 10,
   "metadata": {
    "ExecuteTime": {
     "end_time": "2021-02-25T01:26:06.206795Z",
     "start_time": "2021-02-25T01:26:04.882874Z"
    }
   },
   "outputs": [],
   "source": [
    "data = (pd.read_hdf(results_path / 'autoencoder.h5', 'returns')\n",
    "        .stack(dropna=False)\n",
    "        .to_frame('returns')\n",
    "        .loc[idx['1993':, :], :])"
   ]
  },
  {
   "cell_type": "code",
   "execution_count": 11,
   "metadata": {
    "ExecuteTime": {
     "end_time": "2021-02-25T01:31:04.871050Z",
     "start_time": "2021-02-25T01:26:29.547812Z"
    }
   },
   "outputs": [],
   "source": [
    "with pd.HDFStore(results_path / 'autoencoder.h5') as store:\n",
    "    keys = [k[1:] for k in store.keys() if k[1:].startswith('factor')]\n",
    "    for key in keys:\n",
    "        data[key.split('/')[-1]] = store[key].squeeze()"
   ]
  },
  {
   "cell_type": "code",
   "execution_count": 12,
   "metadata": {
    "ExecuteTime": {
     "end_time": "2021-02-25T01:31:05.500857Z",
     "start_time": "2021-02-25T01:31:04.872471Z"
    }
   },
   "outputs": [],
   "source": [
    "characteristics = data.drop('returns', axis=1).columns.tolist()"
   ]
  },
  {
   "cell_type": "code",
   "execution_count": 13,
   "metadata": {
    "ExecuteTime": {
     "end_time": "2021-02-25T01:31:20.675618Z",
     "start_time": "2021-02-25T01:31:05.506982Z"
    }
   },
   "outputs": [],
   "source": [
    "data['returns_fwd'] = data.returns.unstack('ticker').shift(-1).stack()"
   ]
  },
  {
   "cell_type": "code",
   "execution_count": 14,
   "metadata": {
    "ExecuteTime": {
     "end_time": "2021-02-25T01:31:21.117546Z",
     "start_time": "2021-02-25T01:31:20.677182Z"
    }
   },
   "outputs": [
    {
     "name": "stdout",
     "output_type": "stream",
     "text": [
      "<class 'pandas.core.frame.DataFrame'>\n",
      "MultiIndex: 3925440 entries, (Timestamp('1993-01-01 00:00:00', freq='W-FRI'), 'ABB') to (Timestamp('2020-01-03 00:00:00', freq='W-FRI'), 'ZDGE')\n",
      "Data columns (total 17 columns):\n",
      " #   Column       Non-Null Count    Dtype  \n",
      "---  ------       --------------    -----  \n",
      " 0   returns      2156270 non-null  float64\n",
      " 1   beta         1857868 non-null  float64\n",
      " 2   betasq       1857868 non-null  float64\n",
      " 3   chmom        2051136 non-null  float64\n",
      " 4   dolvol       2129382 non-null  float64\n",
      " 5   idiovol      1857868 non-null  float64\n",
      " 6   ill          2035939 non-null  float64\n",
      " 7   indmom       2156180 non-null  float64\n",
      " 8   maxret       2140214 non-null  float64\n",
      " 9   mom12m       2051136 non-null  float64\n",
      " 10  mom1m        2148979 non-null  float64\n",
      " 11  mom36m       1856586 non-null  float64\n",
      " 12  mvel         2157384 non-null  float64\n",
      " 13  retvol       2148979 non-null  float64\n",
      " 14  turn         2116798 non-null  float64\n",
      " 15  turn_std     2134059 non-null  float64\n",
      " 16  returns_fwd  2155591 non-null  float64\n",
      "dtypes: float64(17)\n",
      "memory usage: 524.2+ MB\n"
     ]
    }
   ],
   "source": [
    "data.info(null_counts=True)"
   ]
  },
  {
   "cell_type": "code",
   "execution_count": 15,
   "metadata": {
    "ExecuteTime": {
     "end_time": "2021-02-24T18:52:55.851733Z",
     "start_time": "2021-02-24T18:52:54.472212Z"
    }
   },
   "outputs": [],
   "source": [
    "nobs_by_date = data.groupby(level='date').count().max(1)\n",
    "nobs_by_characteristic = pd.melt(data[characteristics].groupby(level='date').count(),\n",
    "                                 value_name='# Observations',\n",
    "                                 var_name=['Characteristic'])"
   ]
  },
  {
   "cell_type": "code",
   "execution_count": 16,
   "metadata": {
    "ExecuteTime": {
     "end_time": "2021-02-24T18:52:56.259184Z",
     "start_time": "2021-02-24T18:52:55.852633Z"
    }
   },
   "outputs": [
    {
     "data": {
      "image/png": "[encoded data removed]",
      "text/plain": [
       "<Figure size 1008x288 with 2 Axes>"
      ]
     },
     "metadata": {},
     "output_type": "display_data"
    }
   ],
   "source": [
    "with sns.axes_style(\"white\"):\n",
    "    fig, axes = plt.subplots(ncols=2, figsize=(14, 4))\n",
    "    sns.distplot(nobs_by_date, kde=False, ax=axes[0])\n",
    "    axes[0].set_title('# of Stocks per Week')\n",
    "    axes[0].set_xlabel('# of Observations')\n",
    "    sns.boxplot(x='Characteristic',\n",
    "                y='# Observations',\n",
    "                data=nobs_by_characteristic,\n",
    "                ax=axes[1],\n",
    "                palette='Blues')\n",
    "    axes[1].set_xticklabels(axes[1].get_xticklabels(),\n",
    "                            rotation=25,\n",
    "                            ha='right')\n",
    "    axes[1].set_title('# of Observation per Stock Characteristic')\n",
    "    sns.despine()\n",
    "    fig.tight_layout()"
   ]
  },
  {
   "cell_type": "markdown",
   "metadata": {},
   "source": [
    "### Rank-normalize characteristics"
   ]
  },
  {
   "cell_type": "code",
   "execution_count": 17,
   "metadata": {
    "ExecuteTime": {
     "end_time": "2021-02-24T18:54:46.798214Z",
     "start_time": "2021-02-24T18:52:56.260370Z"
    }
   },
   "outputs": [],
   "source": [
    "data.loc[:, characteristics] = (data.loc[:, characteristics]\n",
    "                                .groupby(level='date')\n",
    "                                .apply(lambda x: pd.DataFrame(quantile_transform(x, \n",
    "                                                                                 copy=True, \n",
    "                                                                                 n_quantiles=x.shape[0]),\n",
    "                                                              columns=characteristics,\n",
    "                                                              index=x.index.get_level_values('ticker')))\n",
    "                               .mul(2).sub(1))"
   ]
  },
  {
   "cell_type": "code",
   "execution_count": 18,
   "metadata": {
    "ExecuteTime": {
     "end_time": "2021-02-24T18:54:46.944271Z",
     "start_time": "2021-02-24T18:54:46.799110Z"
    }
   },
   "outputs": [
    {
     "name": "stdout",
     "output_type": "stream",
     "text": [
      "<class 'pandas.core.frame.DataFrame'>\n",
      "MultiIndex: 3925440 entries, (Timestamp('1993-01-01 00:00:00', freq='W-FRI'), 'ABB') to (Timestamp('2020-01-03 00:00:00', freq='W-FRI'), 'ZDGE')\n",
      "Data columns (total 17 columns):\n",
      " #   Column       Non-Null Count    Dtype  \n",
      "---  ------       --------------    -----  \n",
      " 0   returns      2156270 non-null  float64\n",
      " 1   beta         1857868 non-null  float64\n",
      " 2   betasq       1857868 non-null  float64\n",
      " 3   chmom        2051136 non-null  float64\n",
      " 4   dolvol       2129382 non-null  float64\n",
      " 5   idiovol      1857868 non-null  float64\n",
      " 6   ill          2035939 non-null  float64\n",
      " 7   indmom       2156180 non-null  float64\n",
      " 8   maxret       2140214 non-null  float64\n",
      " 9   mom12m       2051136 non-null  float64\n",
      " 10  mom1m        2148979 non-null  float64\n",
      " 11  mom36m       1856586 non-null  float64\n",
      " 12  mvel         2157384 non-null  float64\n",
      " 13  retvol       2148979 non-null  float64\n",
      " 14  turn         2116798 non-null  float64\n",
      " 15  turn_std     2134059 non-null  float64\n",
      " 16  returns_fwd  2155591 non-null  float64\n",
      "dtypes: float64(17)\n",
      "memory usage: 524.2+ MB\n"
     ]
    }
   ],
   "source": [
    "data.info(null_counts=True)"
   ]
  },
  {
   "cell_type": "code",
   "execution_count": 19,
   "metadata": {
    "ExecuteTime": {
     "end_time": "2021-02-24T18:54:46.948950Z",
     "start_time": "2021-02-24T18:54:46.945523Z"
    }
   },
   "outputs": [
    {
     "data": {
      "text/plain": [
       "FrozenList(['date', 'ticker'])"
      ]
     },
     "execution_count": 19,
     "metadata": {},
     "output_type": "execute_result"
    }
   ],
   "source": [
    "data.index.names"
   ]
  },
  {
   "cell_type": "code",
   "execution_count": 20,
   "metadata": {
    "ExecuteTime": {
     "end_time": "2021-02-24T18:54:50.852191Z",
     "start_time": "2021-02-24T18:54:46.950191Z"
    }
   },
   "outputs": [
    {
     "data": {
      "text/html": [
       "<div>\n",
       "<style scoped>\n",
       "    .dataframe tbody tr th:only-of-type {\n",
       "        vertical-align: middle;\n",
       "    }\n",
       "\n",
       "    .dataframe tbody tr th {\n",
       "        vertical-align: top;\n",
       "    }\n",
       "\n",
       "    .dataframe thead th {\n",
       "        text-align: right;\n",
       "    }\n",
       "</style>\n",
       "<table border=\"1\" class=\"dataframe\">\n",
       "  <thead>\n",
       "    <tr style=\"text-align: right;\">\n",
       "      <th></th>\n",
       "      <th>returns</th>\n",
       "      <th>beta</th>\n",
       "      <th>betasq</th>\n",
       "      <th>chmom</th>\n",
       "      <th>dolvol</th>\n",
       "      <th>idiovol</th>\n",
       "      <th>ill</th>\n",
       "      <th>indmom</th>\n",
       "      <th>maxret</th>\n",
       "      <th>mom12m</th>\n",
       "      <th>mom1m</th>\n",
       "      <th>mom36m</th>\n",
       "      <th>mvel</th>\n",
       "      <th>retvol</th>\n",
       "      <th>turn</th>\n",
       "      <th>turn_std</th>\n",
       "      <th>returns_fwd</th>\n",
       "    </tr>\n",
       "  </thead>\n",
       "  <tbody>\n",
       "    <tr>\n",
       "      <th>count</th>\n",
       "      <td>2.156270e+06</td>\n",
       "      <td>1.857868e+06</td>\n",
       "      <td>1.857868e+06</td>\n",
       "      <td>2.051136e+06</td>\n",
       "      <td>2.129382e+06</td>\n",
       "      <td>1.857868e+06</td>\n",
       "      <td>2.035939e+06</td>\n",
       "      <td>2.156180e+06</td>\n",
       "      <td>2.140214e+06</td>\n",
       "      <td>2.051136e+06</td>\n",
       "      <td>2.148979e+06</td>\n",
       "      <td>1.856586e+06</td>\n",
       "      <td>2.157384e+06</td>\n",
       "      <td>2.148979e+06</td>\n",
       "      <td>2.116798e+06</td>\n",
       "      <td>2.134059e+06</td>\n",
       "      <td>2.155591e+06</td>\n",
       "    </tr>\n",
       "    <tr>\n",
       "      <th>mean</th>\n",
       "      <td>3.309533e-03</td>\n",
       "      <td>-9.376256e-08</td>\n",
       "      <td>-7.963778e-07</td>\n",
       "      <td>3.258167e-08</td>\n",
       "      <td>-3.809044e-07</td>\n",
       "      <td>-1.692967e-07</td>\n",
       "      <td>-9.685771e-07</td>\n",
       "      <td>2.806068e-03</td>\n",
       "      <td>-1.925129e-07</td>\n",
       "      <td>-2.734315e-07</td>\n",
       "      <td>2.102313e-08</td>\n",
       "      <td>-3.920051e-07</td>\n",
       "      <td>-1.357738e-07</td>\n",
       "      <td>-5.273609e-07</td>\n",
       "      <td>-8.604963e-07</td>\n",
       "      <td>-1.453622e-06</td>\n",
       "      <td>3.306790e-03</td>\n",
       "    </tr>\n",
       "    <tr>\n",
       "      <th>std</th>\n",
       "      <td>6.556445e-02</td>\n",
       "      <td>5.777876e-01</td>\n",
       "      <td>5.777885e-01</td>\n",
       "      <td>5.777460e-01</td>\n",
       "      <td>5.777329e-01</td>\n",
       "      <td>5.777877e-01</td>\n",
       "      <td>5.777492e-01</td>\n",
       "      <td>5.978149e-01</td>\n",
       "      <td>5.777293e-01</td>\n",
       "      <td>5.777462e-01</td>\n",
       "      <td>5.777267e-01</td>\n",
       "      <td>5.777879e-01</td>\n",
       "      <td>5.777268e-01</td>\n",
       "      <td>5.777289e-01</td>\n",
       "      <td>5.777346e-01</td>\n",
       "      <td>5.777315e-01</td>\n",
       "      <td>6.556966e-02</td>\n",
       "    </tr>\n",
       "    <tr>\n",
       "      <th>min</th>\n",
       "      <td>-9.269350e-01</td>\n",
       "      <td>-1.000000e+00</td>\n",
       "      <td>-1.000000e+00</td>\n",
       "      <td>-1.000000e+00</td>\n",
       "      <td>-1.000000e+00</td>\n",
       "      <td>-1.000000e+00</td>\n",
       "      <td>-1.000000e+00</td>\n",
       "      <td>-1.000000e+00</td>\n",
       "      <td>-1.000000e+00</td>\n",
       "      <td>-1.000000e+00</td>\n",
       "      <td>-1.000000e+00</td>\n",
       "      <td>-1.000000e+00</td>\n",
       "      <td>-1.000000e+00</td>\n",
       "      <td>-1.000000e+00</td>\n",
       "      <td>-1.000000e+00</td>\n",
       "      <td>-1.000000e+00</td>\n",
       "      <td>-9.269350e-01</td>\n",
       "    </tr>\n",
       "    <tr>\n",
       "      <th>25%</th>\n",
       "      <td>-2.465594e-02</td>\n",
       "      <td>-5.004476e-01</td>\n",
       "      <td>-5.004513e-01</td>\n",
       "      <td>-5.004080e-01</td>\n",
       "      <td>-5.003835e-01</td>\n",
       "      <td>-5.004278e-01</td>\n",
       "      <td>-5.004156e-01</td>\n",
       "      <td>-4.901186e-01</td>\n",
       "      <td>-5.003786e-01</td>\n",
       "      <td>-5.004113e-01</td>\n",
       "      <td>-5.003141e-01</td>\n",
       "      <td>-5.004662e-01</td>\n",
       "      <td>-5.003800e-01</td>\n",
       "      <td>-5.003823e-01</td>\n",
       "      <td>-5.004120e-01</td>\n",
       "      <td>-5.003853e-01</td>\n",
       "      <td>-2.466186e-02</td>\n",
       "    </tr>\n",
       "    <tr>\n",
       "      <th>50%</th>\n",
       "      <td>1.314707e-03</td>\n",
       "      <td>1.026584e-05</td>\n",
       "      <td>6.826282e-06</td>\n",
       "      <td>-2.145832e-05</td>\n",
       "      <td>-9.663654e-06</td>\n",
       "      <td>7.629519e-06</td>\n",
       "      <td>-3.139078e-06</td>\n",
       "      <td>-3.233920e-03</td>\n",
       "      <td>0.000000e+00</td>\n",
       "      <td>6.806038e-06</td>\n",
       "      <td>-1.155841e-05</td>\n",
       "      <td>-1.058744e-05</td>\n",
       "      <td>-1.424108e-05</td>\n",
       "      <td>7.657149e-06</td>\n",
       "      <td>4.315825e-06</td>\n",
       "      <td>-1.228399e-05</td>\n",
       "      <td>1.313649e-03</td>\n",
       "    </tr>\n",
       "    <tr>\n",
       "      <th>75%</th>\n",
       "      <td>2.857145e-02</td>\n",
       "      <td>5.004404e-01</td>\n",
       "      <td>5.004425e-01</td>\n",
       "      <td>5.004013e-01</td>\n",
       "      <td>5.003990e-01</td>\n",
       "      <td>5.004399e-01</td>\n",
       "      <td>5.004131e-01</td>\n",
       "      <td>5.080848e-01</td>\n",
       "      <td>5.004162e-01</td>\n",
       "      <td>5.004014e-01</td>\n",
       "      <td>5.003870e-01</td>\n",
       "      <td>5.004373e-01</td>\n",
       "      <td>5.003956e-01</td>\n",
       "      <td>5.003874e-01</td>\n",
       "      <td>5.004144e-01</td>\n",
       "      <td>5.003641e-01</td>\n",
       "      <td>2.857145e-02</td>\n",
       "    </tr>\n",
       "    <tr>\n",
       "      <th>max</th>\n",
       "      <td>4.000000e+00</td>\n",
       "      <td>1.000000e+00</td>\n",
       "      <td>1.000000e+00</td>\n",
       "      <td>1.000000e+00</td>\n",
       "      <td>1.000000e+00</td>\n",
       "      <td>1.000000e+00</td>\n",
       "      <td>1.000000e+00</td>\n",
       "      <td>1.000000e+00</td>\n",
       "      <td>1.000000e+00</td>\n",
       "      <td>1.000000e+00</td>\n",
       "      <td>1.000000e+00</td>\n",
       "      <td>1.000000e+00</td>\n",
       "      <td>1.000000e+00</td>\n",
       "      <td>1.000000e+00</td>\n",
       "      <td>1.000000e+00</td>\n",
       "      <td>1.000000e+00</td>\n",
       "      <td>4.000000e+00</td>\n",
       "    </tr>\n",
       "  </tbody>\n",
       "</table>\n",
       "</div>"
      ],
      "text/plain": [
       "            returns          beta        betasq         chmom        dolvol  \\\n",
       "count  2.156270e+06  1.857868e+06  1.857868e+06  2.051136e+06  2.129382e+06   \n",
       "mean   3.309533e-03 -9.376256e-08 -7.963778e-07  3.258167e-08 -3.809044e-07   \n",
       "std    6.556445e-02  5.777876e-01  5.777885e-01  5.777460e-01  5.777329e-01   \n",
       "min   -9.269350e-01 -1.000000e+00 -1.000000e+00 -1.000000e+00 -1.000000e+00   \n",
       "25%   -2.465594e-02 -5.004476e-01 -5.004513e-01 -5.004080e-01 -5.003835e-01   \n",
       "50%    1.314707e-03  1.026584e-05  6.826282e-06 -2.145832e-05 -9.663654e-06   \n",
       "75%    2.857145e-02  5.004404e-01  5.004425e-01  5.004013e-01  5.003990e-01   \n",
       "max    4.000000e+00  1.000000e+00  1.000000e+00  1.000000e+00  1.000000e+00   \n",
       "\n",
       "            idiovol           ill        indmom        maxret        mom12m  \\\n",
       "count  1.857868e+06  2.035939e+06  2.156180e+06  2.140214e+06  2.051136e+06   \n",
       "mean  -1.692967e-07 -9.685771e-07  2.806068e-03 -1.925129e-07 -2.734315e-07   \n",
       "std    5.777877e-01  5.777492e-01  5.978149e-01  5.777293e-01  5.777462e-01   \n",
       "min   -1.000000e+00 -1.000000e+00 -1.000000e+00 -1.000000e+00 -1.000000e+00   \n",
       "25%   -5.004278e-01 -5.004156e-01 -4.901186e-01 -5.003786e-01 -5.004113e-01   \n",
       "50%    7.629519e-06 -3.139078e-06 -3.233920e-03  0.000000e+00  6.806038e-06   \n",
       "75%    5.004399e-01  5.004131e-01  5.080848e-01  5.004162e-01  5.004014e-01   \n",
       "max    1.000000e+00  1.000000e+00  1.000000e+00  1.000000e+00  1.000000e+00   \n",
       "\n",
       "              mom1m        mom36m          mvel        retvol          turn  \\\n",
       "count  2.148979e+06  1.856586e+06  2.157384e+06  2.148979e+06  2.116798e+06   \n",
       "mean   2.102313e-08 -3.920051e-07 -1.357738e-07 -5.273609e-07 -8.604963e-07   \n",
       "std    5.777267e-01  5.777879e-01  5.777268e-01  5.777289e-01  5.777346e-01   \n",
       "min   -1.000000e+00 -1.000000e+00 -1.000000e+00 -1.000000e+00 -1.000000e+00   \n",
       "25%   -5.003141e-01 -5.004662e-01 -5.003800e-01 -5.003823e-01 -5.004120e-01   \n",
       "50%   -1.155841e-05 -1.058744e-05 -1.424108e-05  7.657149e-06  4.315825e-06   \n",
       "75%    5.003870e-01  5.004373e-01  5.003956e-01  5.003874e-01  5.004144e-01   \n",
       "max    1.000000e+00  1.000000e+00  1.000000e+00  1.000000e+00  1.000000e+00   \n",
       "\n",
       "           turn_std   returns_fwd  \n",
       "count  2.134059e+06  2.155591e+06  \n",
       "mean  -1.453622e-06  3.306790e-03  \n",
       "std    5.777315e-01  6.556966e-02  \n",
       "min   -1.000000e+00 -9.269350e-01  \n",
       "25%   -5.003853e-01 -2.466186e-02  \n",
       "50%   -1.228399e-05  1.313649e-03  \n",
       "75%    5.003641e-01  2.857145e-02  \n",
       "max    1.000000e+00  4.000000e+00  "
      ]
     },
     "execution_count": 20,
     "metadata": {},
     "output_type": "execute_result"
    }
   ],
   "source": [
    "data.describe()"
   ]
  },
  {
   "cell_type": "code",
   "execution_count": 21,
   "metadata": {
    "ExecuteTime": {
     "end_time": "2021-02-24T18:54:51.653434Z",
     "start_time": "2021-02-24T18:54:50.853071Z"
    }
   },
   "outputs": [],
   "source": [
    "data = data.loc[idx[:'2019', :], :]"
   ]
  },
  {
   "cell_type": "code",
   "execution_count": 22,
   "metadata": {
    "ExecuteTime": {
     "end_time": "2021-02-24T18:54:52.175796Z",
     "start_time": "2021-02-24T18:54:51.654300Z"
    }
   },
   "outputs": [],
   "source": [
    "data.loc[:, ['returns', 'returns_fwd']] = data.loc[:, ['returns', 'returns_fwd']].clip(lower=-1, upper=1.0)"
   ]
  },
  {
   "cell_type": "code",
   "execution_count": 23,
   "metadata": {
    "ExecuteTime": {
     "end_time": "2021-02-24T18:54:52.551139Z",
     "start_time": "2021-02-24T18:54:52.176641Z"
    }
   },
   "outputs": [],
   "source": [
    "data = data.fillna(-2)"
   ]
  },
  {
   "cell_type": "code",
   "execution_count": 24,
   "metadata": {
    "ExecuteTime": {
     "end_time": "2021-02-24T18:54:53.177682Z",
     "start_time": "2021-02-24T18:54:52.551965Z"
    }
   },
   "outputs": [],
   "source": [
    "data.to_hdf(results_path / 'autoencoder.h5', 'model_data')"
   ]
  },
  {
   "cell_type": "markdown",
   "metadata": {},
   "source": [
    "## Architecture"
   ]
  },
  {
   "cell_type": "code",
   "execution_count": 25,
   "metadata": {
    "ExecuteTime": {
     "end_time": "2021-02-25T02:19:55.884348Z",
     "start_time": "2021-02-25T02:19:54.229906Z"
    }
   },
   "outputs": [],
   "source": [
    "data = pd.read_hdf(results_path / 'autoencoder.h5', 'model_data')"
   ]
  },
  {
   "cell_type": "markdown",
   "metadata": {},
   "source": [
    "### Key parameters"
   ]
  },
  {
   "cell_type": "code",
   "execution_count": 26,
   "metadata": {
    "ExecuteTime": {
     "end_time": "2021-02-25T02:19:56.938323Z",
     "start_time": "2021-02-25T02:19:56.887604Z"
    }
   },
   "outputs": [],
   "source": [
    "n_factors = 3\n",
    "n_characteristics = len(characteristics)\n",
    "n_tickers = len(data.index.unique('ticker'))"
   ]
  },
  {
   "cell_type": "code",
   "execution_count": 27,
   "metadata": {
    "ExecuteTime": {
     "end_time": "2021-02-25T02:19:57.066339Z",
     "start_time": "2021-02-25T02:19:57.056425Z"
    }
   },
   "outputs": [
    {
     "data": {
      "text/plain": [
       "2784"
      ]
     },
     "execution_count": 27,
     "metadata": {},
     "output_type": "execute_result"
    }
   ],
   "source": [
    "n_tickers"
   ]
  },
  {
   "cell_type": "code",
   "execution_count": 28,
   "metadata": {
    "ExecuteTime": {
     "end_time": "2021-02-25T02:19:57.769420Z",
     "start_time": "2021-02-25T02:19:57.761574Z"
    }
   },
   "outputs": [
    {
     "data": {
      "text/plain": [
       "15"
      ]
     },
     "execution_count": 28,
     "metadata": {},
     "output_type": "execute_result"
    }
   ],
   "source": [
    "n_characteristics"
   ]
  },
  {
   "cell_type": "markdown",
   "metadata": {},
   "source": [
    "### Input Layer"
   ]
  },
  {
   "cell_type": "code",
   "execution_count": 29,
   "metadata": {
    "ExecuteTime": {
     "end_time": "2021-02-24T18:54:54.294252Z",
     "start_time": "2021-02-24T18:54:54.279343Z"
    }
   },
   "outputs": [],
   "source": [
    "input_beta = Input((n_tickers, n_characteristics), name='input_beta')\n",
    "input_factor = Input((n_tickers,), name='input_factor')"
   ]
  },
  {
   "cell_type": "markdown",
   "metadata": {},
   "source": [
    "### Stock Characteristics Network"
   ]
  },
  {
   "cell_type": "code",
   "execution_count": 30,
   "metadata": {
    "ExecuteTime": {
     "end_time": "2021-02-24T18:54:55.015972Z",
     "start_time": "2021-02-24T18:54:54.295081Z"
    }
   },
   "outputs": [],
   "source": [
    "hidden_layer = Dense(units=8, activation='relu', name='hidden_layer')(input_beta)\n",
    "batch_norm = BatchNormalization(name='batch_norm')(hidden_layer)\n",
    "output_beta = Dense(units=n_factors, name='output_beta')(batch_norm)"
   ]
  },
  {
   "cell_type": "markdown",
   "metadata": {},
   "source": [
    "### Factor Network"
   ]
  },
  {
   "cell_type": "code",
   "execution_count": 31,
   "metadata": {
    "ExecuteTime": {
     "end_time": "2021-02-24T18:54:55.023022Z",
     "start_time": "2021-02-24T18:54:55.016867Z"
    }
   },
   "outputs": [],
   "source": [
    "output_factor = Dense(units=n_factors, name='output_factor')(input_factor)"
   ]
  },
  {
   "cell_type": "markdown",
   "metadata": {},
   "source": [
    "### Output Layer"
   ]
  },
  {
   "cell_type": "code",
   "execution_count": 32,
   "metadata": {
    "ExecuteTime": {
     "end_time": "2021-02-24T18:54:55.030563Z",
     "start_time": "2021-02-24T18:54:55.024006Z"
    }
   },
   "outputs": [],
   "source": [
    "output = Dot(axes=(2,1), name='output_layer')([output_beta, output_factor])"
   ]
  },
  {
   "cell_type": "markdown",
   "metadata": {},
   "source": [
    "### Compile Layer"
   ]
  },
  {
   "cell_type": "code",
   "execution_count": 33,
   "metadata": {
    "ExecuteTime": {
     "end_time": "2021-02-24T18:54:55.044843Z",
     "start_time": "2021-02-24T18:54:55.031505Z"
    }
   },
   "outputs": [],
   "source": [
    "model = Model(inputs=[input_beta, input_factor], outputs=output)\n",
    "model.compile(loss='mse', optimizer='adam')"
   ]
  },
  {
   "cell_type": "markdown",
   "metadata": {},
   "source": [
    "### Automate model generation"
   ]
  },
  {
   "cell_type": "code",
   "execution_count": 34,
   "metadata": {
    "ExecuteTime": {
     "end_time": "2021-02-25T02:20:24.943542Z",
     "start_time": "2021-02-25T02:20:24.940487Z"
    }
   },
   "outputs": [],
   "source": [
    "def make_model(hidden_units=8, n_factors=3):\n",
    "    input_beta = Input((n_tickers, n_characteristics), name='input_beta')\n",
    "    input_factor = Input((n_tickers,), name='input_factor')\n",
    "\n",
    "    hidden_layer = Dense(units=hidden_units, activation='relu', name='hidden_layer')(input_beta)\n",
    "    batch_norm = BatchNormalization(name='batch_norm')(hidden_layer)\n",
    "    \n",
    "    output_beta = Dense(units=n_factors, name='output_beta')(batch_norm)\n",
    "\n",
    "    output_factor = Dense(units=n_factors, name='output_factor')(input_factor)\n",
    "\n",
    "    output = Dot(axes=(2,1), name='output_layer')([output_beta, output_factor])\n",
    "\n",
    "    model = Model(inputs=[input_beta, input_factor], outputs=output)\n",
    "    model.compile(loss='mse', optimizer='adam')\n",
    "    return model"
   ]
  },
  {
   "cell_type": "markdown",
   "metadata": {},
   "source": [
    "### Model Summary"
   ]
  },
  {
   "cell_type": "code",
   "execution_count": 35,
   "metadata": {
    "ExecuteTime": {
     "end_time": "2021-02-24T18:54:55.060992Z",
     "start_time": "2021-02-24T18:54:55.051617Z"
    }
   },
   "outputs": [
    {
     "name": "stdout",
     "output_type": "stream",
     "text": [
      "Model: \"functional_1\"\n",
      "__________________________________________________________________________________________________\n",
      "Layer (type)                    Output Shape         Param #     Connected to                     \n",
      "==================================================================================================\n",
      "input_beta (InputLayer)         [(None, 2784, 15)]   0                                            \n",
      "__________________________________________________________________________________________________\n",
      "hidden_layer (Dense)            (None, 2784, 8)      128         input_beta[0][0]                 \n",
      "__________________________________________________________________________________________________\n",
      "batch_norm (BatchNormalization) (None, 2784, 8)      32          hidden_layer[0][0]               \n",
      "__________________________________________________________________________________________________\n",
      "input_factor (InputLayer)       [(None, 2784)]       0                                            \n",
      "__________________________________________________________________________________________________\n",
      "output_beta (Dense)             (None, 2784, 3)      27          batch_norm[0][0]                 \n",
      "__________________________________________________________________________________________________\n",
      "output_factor (Dense)           (None, 3)            8355        input_factor[0][0]               \n",
      "__________________________________________________________________________________________________\n",
      "output_layer (Dot)              (None, 2784)         0           output_beta[0][0]                \n",
      "                                                                 output_factor[0][0]              \n",
      "==================================================================================================\n",
      "Total params: 8,542\n",
      "Trainable params: 8,526\n",
      "Non-trainable params: 16\n",
      "__________________________________________________________________________________________________\n"
     ]
    }
   ],
   "source": [
    "model.summary()"
   ]
  },
  {
   "cell_type": "markdown",
   "metadata": {},
   "source": [
    "## Train Model"
   ]
  },
  {
   "cell_type": "markdown",
   "metadata": {},
   "source": [
    "### Cross-validation parameters"
   ]
  },
  {
   "cell_type": "code",
   "execution_count": 36,
   "metadata": {
    "ExecuteTime": {
     "end_time": "2021-02-25T02:20:29.903066Z",
     "start_time": "2021-02-25T02:20:29.897417Z"
    }
   },
   "outputs": [],
   "source": [
    "YEAR = 52"
   ]
  },
  {
   "cell_type": "code",
   "execution_count": 37,
   "metadata": {
    "ExecuteTime": {
     "end_time": "2021-02-25T02:20:30.091049Z",
     "start_time": "2021-02-25T02:20:30.086342Z"
    }
   },
   "outputs": [],
   "source": [
    "cv = MultipleTimeSeriesCV(n_splits=5, \n",
    "                          train_period_length=20*YEAR,\n",
    "                          test_period_length=1*YEAR,\n",
    "                          lookahead=1)"
   ]
  },
  {
   "cell_type": "code",
   "execution_count": 38,
   "metadata": {
    "ExecuteTime": {
     "end_time": "2021-02-25T02:20:30.241815Z",
     "start_time": "2021-02-25T02:20:30.232493Z"
    }
   },
   "outputs": [],
   "source": [
    "def get_train_valid_data(data, train_idx, val_idx):\n",
    "    train, val = data.iloc[train_idx], data.iloc[val_idx]\n",
    "    X1_train = train.loc[:, characteristics].values.reshape(-1, n_tickers, n_characteristics)\n",
    "    X1_val = val.loc[:, characteristics].values.reshape(-1, n_tickers, n_characteristics)\n",
    "    X2_train = train.loc[:, 'returns'].unstack('ticker')\n",
    "    X2_val = val.loc[:, 'returns'].unstack('ticker')\n",
    "    y_train = train.returns_fwd.unstack('ticker')\n",
    "    y_val = val.returns_fwd.unstack('ticker')\n",
    "    return X1_train, X2_train, y_train, X1_val, X2_val, y_val"
   ]
  },
  {
   "cell_type": "markdown",
   "metadata": {},
   "source": [
    "### Hyperparameter Options"
   ]
  },
  {
   "cell_type": "code",
   "execution_count": 39,
   "metadata": {
    "ExecuteTime": {
     "end_time": "2021-02-25T02:20:33.307625Z",
     "start_time": "2021-02-25T02:20:33.301301Z"
    }
   },
   "outputs": [],
   "source": [
    "factor_opts = [2, 3, 4, 5, 6]\n",
    "unit_opts = [8, 16, 32]"
   ]
  },
  {
   "cell_type": "code",
   "execution_count": 40,
   "metadata": {
    "ExecuteTime": {
     "end_time": "2021-02-25T02:20:33.390923Z",
     "start_time": "2021-02-25T02:20:33.389108Z"
    }
   },
   "outputs": [],
   "source": [
    "param_grid = list(product(unit_opts, factor_opts))"
   ]
  },
  {
   "cell_type": "markdown",
   "metadata": {},
   "source": [
    "### Run Cross-Validation"
   ]
  },
  {
   "cell_type": "code",
   "execution_count": 41,
   "metadata": {
    "ExecuteTime": {
     "end_time": "2021-02-24T18:54:55.113516Z",
     "start_time": "2021-02-24T18:54:55.104687Z"
    }
   },
   "outputs": [],
   "source": [
    "batch_size = 256"
   ]
  },
  {
   "cell_type": "code",
   "execution_count": 42,
   "metadata": {
    "ExecuteTime": {
     "end_time": "2021-02-24T18:54:55.121852Z",
     "start_time": "2021-02-24T18:54:55.114344Z"
    }
   },
   "outputs": [],
   "source": [
    "cols = ['units', 'n_factors', 'fold', 'epoch', 'ic_mean', \n",
    "        'ic_daily_mean', 'ic_daily_std', 'ic_daily_median']"
   ]
  },
  {
   "cell_type": "code",
   "execution_count": 43,
   "metadata": {
    "ExecuteTime": {
     "end_time": "2021-02-24T21:42:03.285087Z",
     "start_time": "2021-02-24T18:54:55.123067Z"
    },
    "scrolled": false
   },
   "outputs": [
    {
     "name": "stdout",
     "output_type": "stream",
     "text": [
      "00:01:43 | 2 | 08 | 00-000 |  2.26% | -0.79% | -0.61%\n",
      "00:02:16 | 2 | 08 | 00-050 | -0.11% | -1.19% | -0.44%\n",
      "00:02:52 | 2 | 08 | 00-100 | -0.32% | -1.44% | -0.94%\n",
      "00:03:28 | 2 | 08 | 00-150 | -0.51% | -1.57% | -2.20%\n",
      "00:04:06 | 2 | 08 | 00-200 | -0.58% | -1.60% | -2.18%\n",
      "00:04:49 | 2 | 08 | 01-000 |  0.26% |  0.56% |  1.57%\n",
      "00:05:28 | 2 | 08 | 01-050 |  0.64% |  0.56% |  1.11%\n",
      "00:06:08 | 2 | 08 | 01-100 |  0.54% |  0.48% |  0.66%\n",
      "00:06:46 | 2 | 08 | 01-150 |  0.48% |  0.40% |  0.86%\n",
      "00:07:25 | 2 | 08 | 01-200 |  0.83% |  0.34% |  0.82%\n",
      "00:08:08 | 2 | 08 | 02-000 |  0.89% |  1.25% |  0.35%\n",
      "00:08:49 | 2 | 08 | 02-050 |  0.68% |  1.08% |  0.52%\n",
      "00:09:28 | 2 | 08 | 02-100 |  0.63% |  1.07% |  0.33%\n",
      "00:10:07 | 2 | 08 | 02-150 |  0.53% |  0.97% |  1.66%\n",
      "00:10:46 | 2 | 08 | 02-200 |  0.43% |  0.72% |  1.03%\n",
      "00:11:28 | 2 | 08 | 03-000 |  0.07% | -0.54% |  0.76%\n",
      "00:12:08 | 2 | 08 | 03-050 | -0.56% | -1.07% |  0.20%\n",
      "00:12:47 | 2 | 08 | 03-100 | -0.52% | -0.41% | -0.07%\n",
      "00:13:26 | 2 | 08 | 03-150 | -0.90% | -1.17% | -0.04%\n",
      "00:14:07 | 2 | 08 | 03-200 | -0.15% |  0.04% | -1.01%\n",
      "00:14:49 | 2 | 08 | 04-000 | -0.19% | -0.74% | -2.92%\n",
      "00:15:29 | 2 | 08 | 04-050 | -1.02% | -0.76% | -0.19%\n",
      "00:16:09 | 2 | 08 | 04-100 | -1.31% | -0.62% | -0.85%\n",
      "00:16:48 | 2 | 08 | 04-150 | -2.69% | -0.27% | -1.13%\n",
      "00:17:27 | 2 | 08 | 04-200 | -2.18% | -0.34% | -0.95%\n",
      "00:18:13 | 3 | 08 | 00-000 | -2.48% | -0.64% | -1.61%\n",
      "00:18:53 | 3 | 08 | 00-050 |  5.15% |  0.90% |  0.33%\n",
      "00:19:32 | 3 | 08 | 00-100 |  4.21% |  0.68% | -0.22%\n",
      "00:20:13 | 3 | 08 | 00-150 |  4.06% |  0.55% | -0.29%\n",
      "00:20:53 | 3 | 08 | 00-200 |  4.33% |  0.60% |  0.93%\n",
      "00:21:37 | 3 | 08 | 01-000 | -1.57% | -2.25% | -3.56%\n",
      "00:22:17 | 3 | 08 | 01-050 | -2.28% | -2.90% | -4.09%\n",
      "00:22:57 | 3 | 08 | 01-100 | -2.36% | -2.64% | -3.93%\n",
      "00:23:37 | 3 | 08 | 01-150 | -2.57% | -3.01% | -3.75%\n",
      "00:24:17 | 3 | 08 | 01-200 | -2.88% | -2.90% | -4.38%\n",
      "00:24:60 | 3 | 08 | 02-000 |  0.98% |  0.35% |  0.44%\n",
      "00:25:37 | 3 | 08 | 02-050 |  1.15% |  0.72% |  1.61%\n",
      "00:26:10 | 3 | 08 | 02-100 |  1.00% |  0.70% |  1.08%\n",
      "00:26:43 | 3 | 08 | 02-150 |  1.02% |  0.81% |  1.77%\n",
      "00:27:15 | 3 | 08 | 02-200 |  1.31% |  1.01% |  0.86%\n",
      "00:27:49 | 3 | 08 | 03-000 |  3.08% |  0.59% |  1.12%\n",
      "00:28:22 | 3 | 08 | 03-050 |  1.20% | -0.16% | -0.56%\n",
      "00:28:55 | 3 | 08 | 03-100 |  2.58% |  0.60% |  1.68%\n",
      "00:29:27 | 3 | 08 | 03-150 |  0.72% | -0.64% | -0.35%\n",
      "00:29:58 | 3 | 08 | 03-200 |  1.39% | -0.20% | -0.41%\n",
      "00:30:22 | 3 | 08 | 04-000 |  1.95% | -0.67% | -2.41%\n",
      "00:30:46 | 3 | 08 | 04-050 |  2.06% |  0.71% |  1.66%\n",
      "00:31:11 | 3 | 08 | 04-100 |  1.85% |  1.09% |  0.97%\n",
      "00:31:35 | 3 | 08 | 04-150 |  1.30% |  0.36% |  1.55%\n",
      "00:31:58 | 3 | 08 | 04-200 |  1.23% |  0.29% |  0.05%\n",
      "00:32:25 | 4 | 08 | 00-000 | -6.83% | -2.09% | -1.34%\n",
      "00:32:48 | 4 | 08 | 00-050 | -2.56% | -3.05% | -2.84%\n",
      "00:33:12 | 4 | 08 | 00-100 | -2.31% | -3.08% | -2.37%\n",
      "00:33:36 | 4 | 08 | 00-150 | -1.83% | -2.89% | -2.30%\n",
      "00:33:59 | 4 | 08 | 00-200 | -1.58% | -2.73% | -2.11%\n",
      "00:34:25 | 4 | 08 | 01-000 |  0.72% | -0.19% |  0.33%\n",
      "00:34:49 | 4 | 08 | 01-050 |  0.72% | -0.08% |  0.09%\n",
      "00:35:12 | 4 | 08 | 01-100 |  0.99% |  0.30% |  0.21%\n",
      "00:35:36 | 4 | 08 | 01-150 |  0.43% | -0.07% | -0.57%\n",
      "00:35:60 | 4 | 08 | 01-200 |  0.51% |  0.06% | -1.28%\n",
      "00:36:25 | 4 | 08 | 02-000 | -2.39% | -1.85% | -1.08%\n",
      "00:36:49 | 4 | 08 | 02-050 | -1.67% | -0.92% | -1.03%\n",
      "00:37:12 | 4 | 08 | 02-100 | -2.62% | -1.92% | -1.14%\n",
      "00:37:35 | 4 | 08 | 02-150 | -2.25% | -1.61% | -1.06%\n",
      "00:37:58 | 4 | 08 | 02-200 | -1.34% | -0.90% | -0.22%\n",
      "00:38:23 | 4 | 08 | 03-000 |  0.93% | -0.16% |  1.11%\n",
      "00:38:47 | 4 | 08 | 03-050 |  1.20% |  0.23% |  0.75%\n",
      "00:39:10 | 4 | 08 | 03-100 |  1.03% |  0.41% |  1.27%\n",
      "00:39:33 | 4 | 08 | 03-150 |  2.01% |  2.37% |  3.73%\n",
      "00:39:56 | 4 | 08 | 03-200 |  2.64% |  2.71% |  3.70%\n",
      "00:40:22 | 4 | 08 | 04-000 |  3.86% |  2.10% |  3.41%\n",
      "00:40:45 | 4 | 08 | 04-050 |  1.86% |  1.53% |  1.44%\n",
      "00:41:09 | 4 | 08 | 04-100 |  1.73% |  1.94% |  4.42%\n",
      "00:41:33 | 4 | 08 | 04-150 |  1.64% |  1.69% |  3.89%\n",
      "00:41:57 | 4 | 08 | 04-200 |  0.67% |  1.64% | -0.36%\n",
      "00:42:23 | 5 | 08 | 00-000 | -1.24% | -0.60% | -1.57%\n",
      "00:42:46 | 5 | 08 | 00-050 |  0.27% |  0.08% | -0.13%\n",
      "00:43:11 | 5 | 08 | 00-100 |  0.27% |  0.35% |  0.90%\n",
      "00:43:34 | 5 | 08 | 00-150 |  0.37% |  0.54% |  0.73%\n",
      "00:43:58 | 5 | 08 | 00-200 |  0.58% |  0.57% |  0.66%\n",
      "00:44:24 | 5 | 08 | 01-000 | -0.11% |  0.22% | -0.89%\n",
      "00:44:47 | 5 | 08 | 01-050 |  0.03% | -0.05% | -1.22%\n",
      "00:45:13 | 5 | 08 | 01-100 |  0.63% |  0.21% | -0.04%\n",
      "00:45:37 | 5 | 08 | 01-150 |  0.43% |  0.06% | -0.66%\n",
      "00:46:01 | 5 | 08 | 01-200 |  0.81% |  0.25% |  0.24%\n",
      "00:46:27 | 5 | 08 | 02-000 | -0.09% |  0.36% |  0.71%\n",
      "00:46:51 | 5 | 08 | 02-050 | -0.07% |  0.83% |  0.82%\n",
      "00:47:16 | 5 | 08 | 02-100 | -0.36% |  0.76% |  1.29%\n",
      "00:47:40 | 5 | 08 | 02-150 | -0.21% |  0.73% |  0.57%\n",
      "00:48:03 | 5 | 08 | 02-200 | -0.62% |  0.06% | -0.05%\n",
      "00:48:27 | 5 | 08 | 03-000 |  2.84% |  0.74% |  1.13%\n",
      "00:48:52 | 5 | 08 | 03-050 |  1.73% |  0.17% |  0.88%\n",
      "00:49:16 | 5 | 08 | 03-100 |  0.31% | -0.41% | -0.71%\n",
      "00:49:40 | 5 | 08 | 03-150 |  0.77% |  0.28% |  0.54%\n",
      "00:50:04 | 5 | 08 | 03-200 |  1.07% | -0.41% |  0.03%\n",
      "00:50:30 | 5 | 08 | 04-000 |  5.68% |  2.78% |  1.81%\n",
      "00:50:55 | 5 | 08 | 04-050 |  5.02% |  3.27% |  2.03%\n",
      "00:51:19 | 5 | 08 | 04-100 |  3.42% |  1.16% | -0.18%\n",
      "00:51:43 | 5 | 08 | 04-150 |  4.76% |  2.96% |  3.43%\n",
      "00:52:08 | 5 | 08 | 04-200 |  0.58% |  0.65% |  0.97%\n",
      "00:52:38 | 6 | 08 | 00-000 |  2.66% |  2.82% |  2.18%\n",
      "00:53:04 | 6 | 08 | 00-050 |  1.65% |  1.62% |  0.06%\n",
      "00:53:31 | 6 | 08 | 00-100 |  1.35% |  1.36% | -0.14%\n",
      "00:53:58 | 6 | 08 | 00-150 |  1.19% |  1.24% |  0.00%\n",
      "00:54:25 | 6 | 08 | 00-200 |  1.06% |  1.09% | -0.40%\n",
      "00:54:54 | 6 | 08 | 01-000 | -0.56% |  0.89% |  1.56%\n",
      "00:55:22 | 6 | 08 | 01-050 | -1.21% |  0.26% |  0.56%\n",
      "00:55:51 | 6 | 08 | 01-100 | -1.67% |  0.12% |  0.38%\n",
      "00:56:20 | 6 | 08 | 01-150 | -1.96% | -0.06% |  0.08%\n",
      "00:56:48 | 6 | 08 | 01-200 | -1.64% |  0.29% |  0.04%\n",
      "00:57:18 | 6 | 08 | 02-000 | -0.12% | -0.51% | -0.66%\n",
      "00:57:46 | 6 | 08 | 02-050 |  2.78% |  2.32% |  2.93%\n",
      "00:58:13 | 6 | 08 | 02-100 |  1.31% |  0.83% |  1.83%\n",
      "00:58:41 | 6 | 08 | 02-150 |  1.75% |  1.37% |  2.43%\n",
      "00:59:09 | 6 | 08 | 02-200 |  1.55% |  0.93% |  1.55%\n",
      "00:59:37 | 6 | 08 | 03-000 |  1.35% |  1.09% |  1.35%\n",
      "01:00:05 | 6 | 08 | 03-050 |  2.36% |  1.92% |  1.66%\n",
      "01:00:32 | 6 | 08 | 03-100 |  1.10% |  1.48% |  1.54%\n",
      "01:00:59 | 6 | 08 | 03-150 |  1.32% |  0.79% |  0.44%\n",
      "01:01:26 | 6 | 08 | 03-200 |  0.61% |  0.84% |  0.32%\n",
      "01:01:55 | 6 | 08 | 04-000 |  4.28% | -0.08% | -0.90%\n",
      "01:02:23 | 6 | 08 | 04-050 |  6.66% |  0.31% |  1.54%\n",
      "01:02:50 | 6 | 08 | 04-100 |  4.33% | -0.99% | -0.21%\n",
      "01:03:18 | 6 | 08 | 04-150 |  6.33% |  2.65% |  3.57%\n",
      "01:03:45 | 6 | 08 | 04-200 |  4.86% |  0.36% |  1.10%\n",
      "01:04:15 | 2 | 16 | 00-000 |  1.80% |  1.25% |  0.82%\n",
      "01:04:44 | 2 | 16 | 00-050 |  2.74% |  1.07% |  1.29%\n",
      "01:05:12 | 2 | 16 | 00-100 |  1.31% |  0.26% |  0.00%\n",
      "01:05:41 | 2 | 16 | 00-150 |  0.55% | -0.23% | -0.28%\n",
      "01:06:09 | 2 | 16 | 00-200 |  0.28% | -0.33% | -0.65%\n",
      "01:06:39 | 2 | 16 | 01-000 |  0.52% |  0.03% |  0.20%\n",
      "01:07:07 | 2 | 16 | 01-050 |  0.30% | -0.08% | -0.44%\n",
      "01:07:36 | 2 | 16 | 01-100 |  0.13% | -0.16% | -0.55%\n",
      "01:08:04 | 2 | 16 | 01-150 | -0.00% | -0.39% | -1.19%\n",
      "01:08:32 | 2 | 16 | 01-200 | -0.09% | -0.39% | -0.90%\n",
      "01:09:02 | 2 | 16 | 02-000 |  0.12% | -0.03% | -0.54%\n",
      "01:09:30 | 2 | 16 | 02-050 |  0.22% |  0.26% |  1.39%\n",
      "01:09:56 | 2 | 16 | 02-100 | -0.47% | -0.28% |  0.15%\n",
      "01:10:22 | 2 | 16 | 02-150 | -0.32% | -0.12% | -0.44%\n",
      "01:10:49 | 2 | 16 | 02-200 | -0.52% | -0.40% | -0.30%\n",
      "01:11:17 | 2 | 16 | 03-000 |  2.17% |  1.06% | -0.07%\n",
      "01:11:45 | 2 | 16 | 03-050 |  1.97% |  1.06% | -0.03%\n",
      "01:12:12 | 2 | 16 | 03-100 |  1.40% |  0.17% |  0.78%\n",
      "01:12:39 | 2 | 16 | 03-150 |  1.76% | -0.54% | -0.38%\n",
      "01:13:06 | 2 | 16 | 03-200 |  1.89% | -0.50% | -0.04%\n",
      "01:13:34 | 2 | 16 | 04-000 | -0.32% | -1.54% | -1.96%\n",
      "01:14:01 | 2 | 16 | 04-050 |  0.55% | -1.15% | -0.91%\n",
      "01:14:28 | 2 | 16 | 04-100 |  4.04% |  3.01% |  3.36%\n",
      "01:14:56 | 2 | 16 | 04-150 |  1.82% |  0.91% |  1.30%\n",
      "01:15:23 | 2 | 16 | 04-200 |  2.68% |  2.24% |  3.43%\n",
      "01:15:53 | 3 | 16 | 00-000 | -0.84% | -1.56% | -1.13%\n",
      "01:16:21 | 3 | 16 | 00-050 | -1.39% | -1.70% | -1.35%\n"
     ]
    },
    {
     "name": "stdout",
     "output_type": "stream",
     "text": [
      "01:16:48 | 3 | 16 | 00-100 | -0.73% | -1.17% | -0.86%\n",
      "01:17:14 | 3 | 16 | 00-150 | -0.20% | -0.54% | -0.48%\n",
      "01:17:41 | 3 | 16 | 00-200 | -0.09% | -0.31% |  0.12%\n",
      "01:18:09 | 3 | 16 | 01-000 | -0.05% | -0.36% | -0.58%\n",
      "01:18:36 | 3 | 16 | 01-050 |  0.01% | -0.22% | -0.26%\n",
      "01:19:03 | 3 | 16 | 01-100 |  0.03% | -0.22% | -0.42%\n",
      "01:19:29 | 3 | 16 | 01-150 |  0.07% | -0.04% |  0.49%\n",
      "01:19:56 | 3 | 16 | 01-200 |  0.18% |  0.09% |  1.23%\n",
      "01:20:24 | 3 | 16 | 02-000 |  0.40% |  0.23% | -0.14%\n",
      "01:20:50 | 3 | 16 | 02-050 |  1.03% |  0.19% |  0.34%\n",
      "01:21:16 | 3 | 16 | 02-100 |  0.97% |  0.08% | -0.14%\n",
      "01:21:43 | 3 | 16 | 02-150 |  0.70% | -0.21% | -0.52%\n",
      "01:22:09 | 3 | 16 | 02-200 |  0.35% | -0.34% | -0.54%\n",
      "01:22:37 | 3 | 16 | 03-000 |  0.31% | -0.43% | -0.12%\n",
      "01:23:03 | 3 | 16 | 03-050 |  0.07% | -0.79% | -0.30%\n",
      "01:23:29 | 3 | 16 | 03-100 | -0.02% | -0.90% | -0.04%\n",
      "01:23:55 | 3 | 16 | 03-150 |  0.22% | -0.49% |  0.23%\n",
      "01:24:22 | 3 | 16 | 03-200 |  0.16% | -0.70% | -0.45%\n",
      "01:24:50 | 3 | 16 | 04-000 |  0.72% | -0.04% |  0.01%\n",
      "01:25:17 | 3 | 16 | 04-050 |  0.54% | -0.04% |  0.20%\n",
      "01:25:43 | 3 | 16 | 04-100 | -0.42% | -1.17% | -1.56%\n",
      "01:26:09 | 3 | 16 | 04-150 |  0.89% |  0.17% |  0.17%\n",
      "01:26:36 | 3 | 16 | 04-200 |  0.55% | -0.45% | -1.68%\n",
      "01:27:06 | 4 | 16 | 00-000 | -4.22% | -3.72% | -3.29%\n",
      "01:27:32 | 4 | 16 | 00-050 | -3.02% | -2.65% | -3.49%\n",
      "01:27:58 | 4 | 16 | 00-100 | -3.33% | -2.92% | -3.75%\n",
      "01:28:25 | 4 | 16 | 00-150 | -3.46% | -3.01% | -3.57%\n",
      "01:28:51 | 4 | 16 | 00-200 | -3.56% | -3.09% | -3.41%\n",
      "01:29:19 | 4 | 16 | 01-000 |  1.37% |  0.96% |  0.02%\n",
      "01:29:46 | 4 | 16 | 01-050 |  1.18% |  0.78% | -0.05%\n",
      "01:30:14 | 4 | 16 | 01-100 |  1.70% |  0.69% |  0.17%\n",
      "01:30:41 | 4 | 16 | 01-150 |  1.96% |  1.48% |  1.15%\n",
      "01:31:08 | 4 | 16 | 01-200 |  1.51% |  0.82% |  0.38%\n",
      "01:31:38 | 4 | 16 | 02-000 |  0.57% | -0.15% | -0.14%\n",
      "01:32:05 | 4 | 16 | 02-050 |  0.90% |  0.03% |  0.65%\n",
      "01:32:31 | 4 | 16 | 02-100 |  1.02% |  0.24% | -0.79%\n",
      "01:32:58 | 4 | 16 | 02-150 |  1.06% |  0.21% |  1.02%\n",
      "01:33:25 | 4 | 16 | 02-200 |  1.29% |  0.39% |  0.87%\n",
      "01:33:53 | 4 | 16 | 03-000 |  1.52% |  1.30% |  1.00%\n",
      "01:34:20 | 4 | 16 | 03-050 |  1.02% |  1.01% |  2.39%\n",
      "01:34:48 | 4 | 16 | 03-100 |  0.45% |  0.70% |  0.47%\n",
      "01:35:17 | 4 | 16 | 03-150 | -0.15% | -0.28% |  0.15%\n",
      "01:35:45 | 4 | 16 | 03-200 |  1.58% |  1.78% |  1.45%\n",
      "01:36:15 | 4 | 16 | 04-000 | -0.28% | -0.28% | -0.85%\n",
      "01:36:43 | 4 | 16 | 04-050 |  0.58% |  0.35% |  0.67%\n",
      "01:37:11 | 4 | 16 | 04-100 |  0.72% |  0.95% |  1.42%\n",
      "01:37:39 | 4 | 16 | 04-150 | -0.88% | -0.69% | -1.42%\n",
      "01:38:07 | 4 | 16 | 04-200 | -0.45% | -0.36% | -1.07%\n",
      "01:38:39 | 5 | 16 | 00-000 | -4.52% | -0.88% | -2.50%\n",
      "01:39:07 | 5 | 16 | 00-050 |  1.02% |  1.51% |  0.92%\n",
      "01:39:34 | 5 | 16 | 00-100 |  0.76% |  1.70% |  0.14%\n",
      "01:40:01 | 5 | 16 | 00-150 |  0.99% |  1.94% |  0.22%\n",
      "01:40:29 | 5 | 16 | 00-200 |  1.08% |  1.96% |  1.00%\n",
      "01:40:58 | 5 | 16 | 01-000 |  0.51% |  0.12% |  1.11%\n",
      "01:41:25 | 5 | 16 | 01-050 |  0.40% |  0.34% |  0.06%\n",
      "01:41:51 | 5 | 16 | 01-100 |  0.49% |  0.38% |  0.42%\n",
      "01:42:19 | 5 | 16 | 01-150 |  0.15% |  0.29% |  0.81%\n",
      "01:42:46 | 5 | 16 | 01-200 | -0.17% |  0.16% | -0.13%\n",
      "01:43:15 | 5 | 16 | 02-000 |  1.34% |  0.22% |  0.13%\n",
      "01:43:42 | 5 | 16 | 02-050 |  1.83% |  0.70% |  1.85%\n",
      "01:44:10 | 5 | 16 | 02-100 |  2.46% |  1.22% |  1.34%\n",
      "01:44:39 | 5 | 16 | 02-150 |  2.55% |  1.26% |  1.08%\n",
      "01:45:08 | 5 | 16 | 02-200 |  1.50% |  0.52% |  0.52%\n",
      "01:45:38 | 5 | 16 | 03-000 |  5.13% |  1.68% |  2.33%\n",
      "01:46:07 | 5 | 16 | 03-050 |  4.26% |  1.17% |  1.69%\n",
      "01:46:37 | 5 | 16 | 03-100 |  4.66% |  1.76% |  1.59%\n",
      "01:47:05 | 5 | 16 | 03-150 |  3.96% |  1.64% |  1.29%\n",
      "01:47:34 | 5 | 16 | 03-200 |  3.53% |  1.71% |  0.22%\n",
      "01:48:05 | 5 | 16 | 04-000 |  2.58% | -0.51% | -1.66%\n",
      "01:48:34 | 5 | 16 | 04-050 |  4.02% |  1.80% |  1.99%\n",
      "01:49:03 | 5 | 16 | 04-100 |  2.82% |  1.11% |  1.30%\n",
      "01:49:33 | 5 | 16 | 04-150 |  2.60% |  0.66% |  1.36%\n",
      "01:50:03 | 5 | 16 | 04-200 |  3.28% |  1.59% |  3.05%\n",
      "01:50:38 | 6 | 16 | 00-000 | -3.75% | -3.72% | -4.21%\n",
      "01:51:08 | 6 | 16 | 00-050 | -1.48% | -2.98% | -4.04%\n",
      "01:51:38 | 6 | 16 | 00-100 | -2.95% | -2.96% | -2.73%\n",
      "01:52:08 | 6 | 16 | 00-150 | -3.01% | -2.73% | -2.66%\n",
      "01:52:37 | 6 | 16 | 00-200 | -2.98% | -2.61% | -2.75%\n",
      "01:53:09 | 6 | 16 | 01-000 |  1.38% |  1.28% |  1.39%\n",
      "01:53:40 | 6 | 16 | 01-050 |  1.60% |  1.67% |  1.77%\n",
      "01:54:10 | 6 | 16 | 01-100 |  1.04% |  0.88% |  2.13%\n",
      "01:54:42 | 6 | 16 | 01-150 |  1.01% |  1.18% |  1.25%\n",
      "01:55:13 | 6 | 16 | 01-200 |  0.66% |  1.46% |  2.22%\n",
      "01:55:46 | 6 | 16 | 02-000 | -1.06% | -1.29% | -1.36%\n",
      "01:56:16 | 6 | 16 | 02-050 |  0.03% | -0.30% | -0.56%\n",
      "01:56:47 | 6 | 16 | 02-100 |  0.97% |  0.56% |  0.50%\n",
      "01:57:17 | 6 | 16 | 02-150 | -1.20% | -1.39% | -1.20%\n",
      "01:57:48 | 6 | 16 | 02-200 | -1.16% | -1.38% | -1.07%\n",
      "01:58:20 | 6 | 16 | 03-000 |  0.87% |  1.25% |  0.05%\n",
      "01:58:51 | 6 | 16 | 03-050 |  2.28% |  2.40% |  2.10%\n",
      "01:59:22 | 6 | 16 | 03-100 |  2.57% |  2.19% |  1.91%\n",
      "01:59:52 | 6 | 16 | 03-150 |  2.74% |  1.66% |  0.56%\n",
      "02:00:23 | 6 | 16 | 03-200 |  1.76% |  1.58% |  2.19%\n",
      "02:00:56 | 6 | 16 | 04-000 |  0.94% |  0.99% | -0.22%\n",
      "02:01:27 | 6 | 16 | 04-050 |  1.22% |  1.28% |  0.48%\n",
      "02:01:57 | 6 | 16 | 04-100 |  2.01% |  2.13% |  0.25%\n",
      "02:02:28 | 6 | 16 | 04-150 |  2.88% |  2.89% |  2.32%\n",
      "02:02:58 | 6 | 16 | 04-200 |  2.24% |  1.97% |  1.74%\n",
      "02:03:33 | 2 | 32 | 00-000 |  0.91% | -0.81% | -1.93%\n",
      "02:04:05 | 2 | 32 | 00-050 | -1.26% | -1.43% | -2.08%\n",
      "02:04:38 | 2 | 32 | 00-100 | -0.51% | -0.77% | -0.99%\n",
      "02:05:11 | 2 | 32 | 00-150 | -0.85% | -1.07% | -1.33%\n",
      "02:05:44 | 2 | 32 | 00-200 | -0.51% | -0.81% | -0.79%\n",
      "02:06:20 | 2 | 32 | 01-000 |  0.05% | -0.21% | -0.53%\n",
      "02:06:53 | 2 | 32 | 01-050 | -0.02% | -0.36% | -0.98%\n",
      "02:07:26 | 2 | 32 | 01-100 |  0.04% | -0.21% | -0.45%\n",
      "02:07:60 | 2 | 32 | 01-150 |  0.21% | -0.05% |  0.30%\n",
      "02:08:34 | 2 | 32 | 01-200 |  0.30% | -0.01% |  0.13%\n",
      "02:09:09 | 2 | 32 | 02-000 |  0.41% |  0.56% |  0.24%\n",
      "02:09:41 | 2 | 32 | 02-050 |  0.73% |  0.93% |  0.80%\n",
      "02:10:13 | 2 | 32 | 02-100 | -0.02% |  0.33% |  0.37%\n",
      "02:10:46 | 2 | 32 | 02-150 |  0.09% |  0.48% |  0.31%\n",
      "02:11:18 | 2 | 32 | 02-200 | -0.14% |  0.28% |  0.26%\n",
      "02:11:52 | 2 | 32 | 03-000 |  0.71% |  0.40% |  0.35%\n",
      "02:12:24 | 2 | 32 | 03-050 |  0.90% |  0.47% |  0.80%\n",
      "02:12:57 | 2 | 32 | 03-100 | -0.16% | -0.17% |  0.17%\n",
      "02:13:30 | 2 | 32 | 03-150 |  0.12% | -0.10% |  0.42%\n",
      "02:14:02 | 2 | 32 | 03-200 |  0.34% |  0.29% |  0.07%\n",
      "02:14:37 | 2 | 32 | 04-000 |  2.13% |  1.41% |  1.33%\n",
      "02:15:08 | 2 | 32 | 04-050 |  0.53% | -0.47% | -0.29%\n",
      "02:15:41 | 2 | 32 | 04-100 |  1.75% |  0.84% |  0.80%\n",
      "02:16:14 | 2 | 32 | 04-150 |  0.41% | -0.69% | -1.21%\n",
      "02:16:46 | 2 | 32 | 04-200 |  0.44% |  0.01% | -0.14%\n",
      "02:17:22 | 3 | 32 | 00-000 |  0.15% | -0.09% |  0.42%\n",
      "02:17:54 | 3 | 32 | 00-050 |  1.46% |  2.08% |  2.32%\n",
      "02:18:27 | 3 | 32 | 00-100 |  0.89% |  2.10% |  2.37%\n",
      "02:18:60 | 3 | 32 | 00-150 |  0.53% |  1.98% |  2.20%\n",
      "02:19:33 | 3 | 32 | 00-200 |  0.35% |  1.74% |  1.33%\n",
      "02:20:07 | 3 | 32 | 01-000 | -1.30% | -0.49% |  0.12%\n",
      "02:20:40 | 3 | 32 | 01-050 | -1.28% | -0.43% |  0.00%\n",
      "02:21:13 | 3 | 32 | 01-100 | -1.35% | -0.50% | -0.08%\n",
      "02:21:46 | 3 | 32 | 01-150 | -1.45% | -0.58% |  0.15%\n",
      "02:22:18 | 3 | 32 | 01-200 | -1.34% | -0.55% | -0.21%\n",
      "02:22:52 | 3 | 32 | 02-000 | -0.60% | -0.85% | -0.47%\n",
      "02:23:25 | 3 | 32 | 02-050 | -0.65% | -0.87% | -0.77%\n",
      "02:23:58 | 3 | 32 | 02-100 | -0.76% | -0.92% | -1.05%\n",
      "02:24:30 | 3 | 32 | 02-150 | -0.76% | -0.82% | -0.68%\n",
      "02:25:02 | 3 | 32 | 02-200 | -0.74% | -0.86% | -0.78%\n",
      "02:25:36 | 3 | 32 | 03-000 | -0.78% | -0.92% | -1.55%\n",
      "02:26:08 | 3 | 32 | 03-050 | -0.75% | -0.68% | -1.87%\n",
      "02:26:41 | 3 | 32 | 03-100 | -1.03% | -0.88% | -1.71%\n",
      "02:27:13 | 3 | 32 | 03-150 | -1.02% | -0.88% | -1.74%\n",
      "02:27:46 | 3 | 32 | 03-200 | -1.08% | -0.86% | -2.00%\n",
      "02:28:20 | 3 | 32 | 04-000 | -0.64% | -1.02% | -0.58%\n",
      "02:28:52 | 3 | 32 | 04-050 |  0.35% | -0.17% |  0.26%\n",
      "02:29:24 | 3 | 32 | 04-100 | -1.06% | -1.48% | -1.87%\n",
      "02:29:57 | 3 | 32 | 04-150 | -0.42% | -0.68% | -0.74%\n",
      "02:30:30 | 3 | 32 | 04-200 |  0.26% | -0.18% | -0.32%\n",
      "02:31:05 | 4 | 32 | 00-000 | -0.27% | -0.43% |  1.17%\n",
      "02:31:38 | 4 | 32 | 00-050 | -0.30% |  0.27% |  1.28%\n",
      "02:32:11 | 4 | 32 | 00-100 | -1.55% |  0.33% |  0.77%\n",
      "02:32:43 | 4 | 32 | 00-150 | -1.87% | -0.06% |  0.76%\n"
     ]
    },
    {
     "name": "stdout",
     "output_type": "stream",
     "text": [
      "02:33:17 | 4 | 32 | 00-200 | -1.50% | -0.17% |  0.82%\n",
      "02:33:52 | 4 | 32 | 01-000 | -0.16% | -0.25% | -0.19%\n",
      "02:34:25 | 4 | 32 | 01-050 | -0.56% | -0.21% | -0.28%\n",
      "02:34:57 | 4 | 32 | 01-100 | -0.48% | -0.13% |  0.04%\n",
      "02:35:29 | 4 | 32 | 01-150 | -0.62% |  0.01% |  0.20%\n",
      "02:36:02 | 4 | 32 | 01-200 | -0.64% |  0.13% | -0.31%\n",
      "02:36:37 | 4 | 32 | 02-000 |  0.07% |  0.57% |  0.07%\n",
      "02:37:09 | 4 | 32 | 02-050 | -0.09% |  0.60% | -0.21%\n",
      "02:37:41 | 4 | 32 | 02-100 | -0.16% |  0.67% | -0.03%\n",
      "02:38:13 | 4 | 32 | 02-150 | -0.26% |  0.68% | -0.16%\n",
      "02:38:45 | 4 | 32 | 02-200 | -0.45% |  0.53% |  0.36%\n",
      "02:39:20 | 4 | 32 | 03-000 | -0.01% |  0.10% | -0.31%\n",
      "02:39:52 | 4 | 32 | 03-050 | -0.11% | -0.11% | -0.22%\n",
      "02:40:25 | 4 | 32 | 03-100 |  0.16% |  0.33% |  0.27%\n",
      "02:40:57 | 4 | 32 | 03-150 |  0.01% | -0.04% |  0.20%\n",
      "02:41:29 | 4 | 32 | 03-200 |  0.18% |  0.34% |  1.05%\n",
      "02:42:04 | 4 | 32 | 04-000 |  2.72% |  2.18% |  2.00%\n",
      "02:42:37 | 4 | 32 | 04-050 |  1.76% |  1.12% |  0.43%\n",
      "02:43:09 | 4 | 32 | 04-100 |  1.96% |  1.37% |  1.81%\n",
      "02:43:42 | 4 | 32 | 04-150 |  1.73% |  1.22% |  0.99%\n",
      "02:44:15 | 4 | 32 | 04-200 |  0.96% |  0.49% |  0.57%\n",
      "02:44:51 | 5 | 32 | 00-000 | -4.21% | -2.91% | -2.38%\n",
      "02:45:24 | 5 | 32 | 00-050 | -1.75% |  0.49% |  0.26%\n",
      "02:45:57 | 5 | 32 | 00-100 | -0.59% |  0.83% |  0.89%\n",
      "02:46:30 | 5 | 32 | 00-150 |  0.04% |  0.99% |  1.04%\n",
      "02:47:03 | 5 | 32 | 00-200 |  0.06% |  0.98% |  0.61%\n",
      "02:47:37 | 5 | 32 | 01-000 |  1.25% |  0.38% | -0.11%\n",
      "02:48:11 | 5 | 32 | 01-050 |  0.49% |  0.28% |  0.54%\n",
      "02:48:43 | 5 | 32 | 01-100 |  0.42% |  0.22% |  0.48%\n",
      "02:49:17 | 5 | 32 | 01-150 |  0.25% |  0.22% |  0.66%\n",
      "02:49:50 | 5 | 32 | 01-200 | -0.06% |  0.04% |  0.51%\n",
      "02:50:25 | 5 | 32 | 02-000 |  0.78% |  0.46% |  0.27%\n",
      "02:50:57 | 5 | 32 | 02-050 |  0.65% |  0.27% | -0.15%\n",
      "02:51:31 | 5 | 32 | 02-100 | -0.03% | -0.31% | -0.28%\n",
      "02:52:03 | 5 | 32 | 02-150 |  0.31% |  0.05% | -0.83%\n",
      "02:52:35 | 5 | 32 | 02-200 | -0.26% | -0.54% | -1.25%\n",
      "02:53:10 | 5 | 32 | 03-000 |  0.25% | -0.36% |  0.24%\n",
      "02:53:42 | 5 | 32 | 03-050 |  0.88% |  0.43% |  0.49%\n",
      "02:54:15 | 5 | 32 | 03-100 |  1.15% |  0.90% |  0.99%\n",
      "02:54:48 | 5 | 32 | 03-150 |  0.24% |  0.28% | -0.10%\n",
      "02:55:21 | 5 | 32 | 03-200 |  0.62% |  0.42% |  0.18%\n",
      "02:55:55 | 5 | 32 | 04-000 |  1.14% |  0.76% |  0.11%\n",
      "02:56:28 | 5 | 32 | 04-050 |  1.40% |  0.47% | -0.26%\n",
      "02:57:00 | 5 | 32 | 04-100 |  2.11% |  0.80% |  0.50%\n",
      "02:57:33 | 5 | 32 | 04-150 |  3.64% |  1.62% |  1.50%\n",
      "02:58:06 | 5 | 32 | 04-200 |  2.19% |  0.97% | -0.04%\n",
      "02:58:42 | 6 | 32 | 00-000 |  1.13% |  0.13% |  0.93%\n",
      "02:59:14 | 6 | 32 | 00-050 |  1.61% | -0.17% |  0.76%\n",
      "02:59:48 | 6 | 32 | 00-100 |  1.94% |  0.17% |  1.28%\n",
      "03:00:21 | 6 | 32 | 00-150 |  2.02% |  0.35% |  2.17%\n",
      "03:00:54 | 6 | 32 | 00-200 |  2.03% |  0.58% |  1.99%\n",
      "03:01:28 | 6 | 32 | 01-000 |  1.30% | -0.42% | -0.03%\n",
      "03:02:01 | 6 | 32 | 01-050 |  0.35% | -0.78% | -0.26%\n",
      "03:02:34 | 6 | 32 | 01-100 |  0.22% | -1.02% | -1.68%\n",
      "03:03:07 | 6 | 32 | 01-150 |  0.02% | -0.98% | -0.82%\n",
      "03:03:40 | 6 | 32 | 01-200 |  0.72% | -0.82% | -0.11%\n",
      "03:04:14 | 6 | 32 | 02-000 |  1.02% |  1.15% |  0.89%\n",
      "03:04:46 | 6 | 32 | 02-050 |  1.52% |  1.48% |  1.43%\n",
      "03:05:19 | 6 | 32 | 02-100 |  1.05% |  1.23% |  0.99%\n",
      "03:05:52 | 6 | 32 | 02-150 |  0.76% |  0.94% |  0.67%\n",
      "03:06:24 | 6 | 32 | 02-200 |  0.88% |  0.99% |  1.20%\n",
      "03:06:58 | 6 | 32 | 03-000 |  0.85% |  1.74% |  2.51%\n",
      "03:07:30 | 6 | 32 | 03-050 |  1.57% |  1.22% |  1.62%\n",
      "03:08:00 | 6 | 32 | 03-100 |  2.46% |  2.70% |  3.06%\n",
      "03:08:30 | 6 | 32 | 03-150 |  2.42% |  2.43% |  3.19%\n",
      "03:08:59 | 6 | 32 | 03-200 |  1.37% |  1.53% |  1.21%\n",
      "03:09:29 | 6 | 32 | 04-000 |  3.41% |  2.16% |  1.58%\n",
      "03:09:58 | 6 | 32 | 04-050 |  4.68% |  3.28% |  4.46%\n",
      "03:10:27 | 6 | 32 | 04-100 |  1.83% |  1.18% |  1.72%\n",
      "03:10:56 | 6 | 32 | 04-150 |  2.56% |  0.43% |  0.42%\n",
      "03:11:25 | 6 | 32 | 04-200 |  1.12% | -0.31% | -0.25%\n"
     ]
    }
   ],
   "source": [
    "start = time()\n",
    "for units, n_factors in param_grid:\n",
    "    scores = []\n",
    "    model = make_model(hidden_units=units, n_factors=n_factors)\n",
    "    for fold, (train_idx, val_idx) in enumerate(cv.split(data)):\n",
    "        X1_train, X2_train, y_train, X1_val, X2_val, y_val = get_train_valid_data(data,\n",
    "                                                                                  train_idx,\n",
    "                                                                                  val_idx)\n",
    "        for epoch in range(250):\n",
    "            model.fit([X1_train, X2_train], y_train,\n",
    "                      batch_size=batch_size,\n",
    "                      validation_data=([X1_val, X2_val], y_val),\n",
    "                      epochs=epoch + 1,\n",
    "                      initial_epoch=epoch,\n",
    "                      verbose=0, shuffle=True)\n",
    "            result = (pd.DataFrame({'y_pred': model.predict([X1_val,\n",
    "                                                             X2_val]).reshape(-1),\n",
    "                                    'y_true': y_val.stack().values},\n",
    "                                   index=y_val.stack().index)\n",
    "                      .replace(-2, np.nan).dropna())\n",
    "            r0 = spearmanr(result.y_true, result.y_pred)[0]\n",
    "            r1 = result.groupby(level='date').apply(lambda x: spearmanr(x.y_pred,\n",
    "                                                                        x.y_true)[0])\n",
    "\n",
    "            scores.append([units, n_factors, fold, epoch, r0,\n",
    "                           r1.mean(), r1.std(), r1.median()])\n",
    "            if epoch % 50 == 0:\n",
    "                print(f'{format_time(time()-start)} | {n_factors} | {units:02} | {fold:02}-{epoch:03} | {r0:6.2%} | '\n",
    "                  f'{r1.mean():6.2%} | {r1.median():6.2%}')            \n",
    "    scores = pd.DataFrame(scores, columns=cols)\n",
    "    scores.to_hdf(results_path / 'scores.h5', f'{units}/{n_factors}')"
   ]
  },
  {
   "cell_type": "markdown",
   "metadata": {},
   "source": [
    "### Evaluate Results"
   ]
  },
  {
   "cell_type": "code",
   "execution_count": 44,
   "metadata": {
    "ExecuteTime": {
     "end_time": "2021-02-25T01:24:37.645031Z",
     "start_time": "2021-02-25T01:24:37.472670Z"
    }
   },
   "outputs": [],
   "source": [
    "scores = []\n",
    "with pd.HDFStore(results_path / 'scores.h5') as store:\n",
    "    for key in store.keys():\n",
    "        scores.append(store[key])\n",
    "scores = pd.concat(scores)"
   ]
  },
  {
   "cell_type": "code",
   "execution_count": 45,
   "metadata": {
    "ExecuteTime": {
     "end_time": "2021-02-25T01:24:38.690579Z",
     "start_time": "2021-02-25T01:24:38.680750Z"
    }
   },
   "outputs": [
    {
     "name": "stdout",
     "output_type": "stream",
     "text": [
      "<class 'pandas.core.frame.DataFrame'>\n",
      "Int64Index: 18750 entries, 0 to 1249\n",
      "Data columns (total 8 columns):\n",
      " #   Column           Non-Null Count  Dtype  \n",
      "---  ------           --------------  -----  \n",
      " 0   units            18750 non-null  int64  \n",
      " 1   n_factors        18750 non-null  int64  \n",
      " 2   fold             18750 non-null  int64  \n",
      " 3   epoch            18750 non-null  int64  \n",
      " 4   ic_mean          18750 non-null  float64\n",
      " 5   ic_daily_mean    18750 non-null  float64\n",
      " 6   ic_daily_std     18750 non-null  float64\n",
      " 7   ic_daily_median  18750 non-null  float64\n",
      "dtypes: float64(4), int64(4)\n",
      "memory usage: 1.3 MB\n"
     ]
    }
   ],
   "source": [
    "scores.info()"
   ]
  },
  {
   "cell_type": "code",
   "execution_count": 46,
   "metadata": {
    "ExecuteTime": {
     "end_time": "2021-02-25T01:24:40.755460Z",
     "start_time": "2021-02-25T01:24:40.737523Z"
    }
   },
   "outputs": [],
   "source": [
    "avg = (scores.groupby(['n_factors', 'units', 'epoch'])\n",
    "       ['ic_mean', 'ic_daily_mean', 'ic_daily_median']\n",
    "       .mean()\n",
    "      .reset_index())"
   ]
  },
  {
   "cell_type": "code",
   "execution_count": 47,
   "metadata": {
    "ExecuteTime": {
     "end_time": "2021-02-25T01:24:40.967622Z",
     "start_time": "2021-02-25T01:24:40.946156Z"
    }
   },
   "outputs": [
    {
     "data": {
      "text/html": [
       "<div>\n",
       "<style scoped>\n",
       "    .dataframe tbody tr th:only-of-type {\n",
       "        vertical-align: middle;\n",
       "    }\n",
       "\n",
       "    .dataframe tbody tr th {\n",
       "        vertical-align: top;\n",
       "    }\n",
       "\n",
       "    .dataframe thead th {\n",
       "        text-align: right;\n",
       "    }\n",
       "</style>\n",
       "<table border=\"1\" class=\"dataframe\">\n",
       "  <thead>\n",
       "    <tr style=\"text-align: right;\">\n",
       "      <th></th>\n",
       "      <th>n_factors</th>\n",
       "      <th>units</th>\n",
       "      <th>epoch</th>\n",
       "      <th>ic_mean</th>\n",
       "      <th>ic_daily_mean</th>\n",
       "      <th>ic_daily_median</th>\n",
       "    </tr>\n",
       "  </thead>\n",
       "  <tbody>\n",
       "    <tr>\n",
       "      <th>3677</th>\n",
       "      <td>6</td>\n",
       "      <td>32</td>\n",
       "      <td>177</td>\n",
       "      <td>0.017459</td>\n",
       "      <td>0.010529</td>\n",
       "      <td>0.020403</td>\n",
       "    </tr>\n",
       "    <tr>\n",
       "      <th>3536</th>\n",
       "      <td>6</td>\n",
       "      <td>32</td>\n",
       "      <td>36</td>\n",
       "      <td>0.018779</td>\n",
       "      <td>0.012097</td>\n",
       "      <td>0.020252</td>\n",
       "    </tr>\n",
       "    <tr>\n",
       "      <th>3719</th>\n",
       "      <td>6</td>\n",
       "      <td>32</td>\n",
       "      <td>219</td>\n",
       "      <td>0.015723</td>\n",
       "      <td>0.011697</td>\n",
       "      <td>0.019695</td>\n",
       "    </tr>\n",
       "    <tr>\n",
       "      <th>3643</th>\n",
       "      <td>6</td>\n",
       "      <td>32</td>\n",
       "      <td>143</td>\n",
       "      <td>0.017609</td>\n",
       "      <td>0.009729</td>\n",
       "      <td>0.019490</td>\n",
       "    </tr>\n",
       "    <tr>\n",
       "      <th>3503</th>\n",
       "      <td>6</td>\n",
       "      <td>32</td>\n",
       "      <td>3</td>\n",
       "      <td>0.020168</td>\n",
       "      <td>0.016571</td>\n",
       "      <td>0.018448</td>\n",
       "    </tr>\n",
       "    <tr>\n",
       "      <th>3697</th>\n",
       "      <td>6</td>\n",
       "      <td>32</td>\n",
       "      <td>197</td>\n",
       "      <td>0.017300</td>\n",
       "      <td>0.009420</td>\n",
       "      <td>0.018404</td>\n",
       "    </tr>\n",
       "    <tr>\n",
       "      <th>3699</th>\n",
       "      <td>6</td>\n",
       "      <td>32</td>\n",
       "      <td>199</td>\n",
       "      <td>0.017799</td>\n",
       "      <td>0.011242</td>\n",
       "      <td>0.018051</td>\n",
       "    </tr>\n",
       "    <tr>\n",
       "      <th>3669</th>\n",
       "      <td>6</td>\n",
       "      <td>32</td>\n",
       "      <td>169</td>\n",
       "      <td>0.016463</td>\n",
       "      <td>0.008991</td>\n",
       "      <td>0.017947</td>\n",
       "    </tr>\n",
       "    <tr>\n",
       "      <th>3516</th>\n",
       "      <td>6</td>\n",
       "      <td>32</td>\n",
       "      <td>16</td>\n",
       "      <td>0.018123</td>\n",
       "      <td>0.012883</td>\n",
       "      <td>0.017712</td>\n",
       "    </tr>\n",
       "    <tr>\n",
       "      <th>3521</th>\n",
       "      <td>6</td>\n",
       "      <td>32</td>\n",
       "      <td>21</td>\n",
       "      <td>0.017278</td>\n",
       "      <td>0.010284</td>\n",
       "      <td>0.017521</td>\n",
       "    </tr>\n",
       "    <tr>\n",
       "      <th>3525</th>\n",
       "      <td>6</td>\n",
       "      <td>32</td>\n",
       "      <td>25</td>\n",
       "      <td>0.018910</td>\n",
       "      <td>0.011995</td>\n",
       "      <td>0.017495</td>\n",
       "    </tr>\n",
       "    <tr>\n",
       "      <th>3031</th>\n",
       "      <td>6</td>\n",
       "      <td>8</td>\n",
       "      <td>31</td>\n",
       "      <td>0.023957</td>\n",
       "      <td>0.017972</td>\n",
       "      <td>0.017287</td>\n",
       "    </tr>\n",
       "    <tr>\n",
       "      <th>2502</th>\n",
       "      <td>5</td>\n",
       "      <td>16</td>\n",
       "      <td>2</td>\n",
       "      <td>0.020971</td>\n",
       "      <td>0.010943</td>\n",
       "      <td>0.017251</td>\n",
       "    </tr>\n",
       "    <tr>\n",
       "      <th>2504</th>\n",
       "      <td>5</td>\n",
       "      <td>16</td>\n",
       "      <td>4</td>\n",
       "      <td>0.024249</td>\n",
       "      <td>0.012856</td>\n",
       "      <td>0.017215</td>\n",
       "    </tr>\n",
       "    <tr>\n",
       "      <th>3634</th>\n",
       "      <td>6</td>\n",
       "      <td>32</td>\n",
       "      <td>134</td>\n",
       "      <td>0.017334</td>\n",
       "      <td>0.009605</td>\n",
       "      <td>0.017134</td>\n",
       "    </tr>\n",
       "    <tr>\n",
       "      <th>2526</th>\n",
       "      <td>5</td>\n",
       "      <td>16</td>\n",
       "      <td>26</td>\n",
       "      <td>0.026702</td>\n",
       "      <td>0.013911</td>\n",
       "      <td>0.017043</td>\n",
       "    </tr>\n",
       "    <tr>\n",
       "      <th>3703</th>\n",
       "      <td>6</td>\n",
       "      <td>32</td>\n",
       "      <td>203</td>\n",
       "      <td>0.015868</td>\n",
       "      <td>0.008666</td>\n",
       "      <td>0.016993</td>\n",
       "    </tr>\n",
       "    <tr>\n",
       "      <th>3004</th>\n",
       "      <td>6</td>\n",
       "      <td>8</td>\n",
       "      <td>4</td>\n",
       "      <td>0.018597</td>\n",
       "      <td>0.015862</td>\n",
       "      <td>0.016848</td>\n",
       "    </tr>\n",
       "    <tr>\n",
       "      <th>3507</th>\n",
       "      <td>6</td>\n",
       "      <td>32</td>\n",
       "      <td>7</td>\n",
       "      <td>0.019260</td>\n",
       "      <td>0.012765</td>\n",
       "      <td>0.016810</td>\n",
       "    </tr>\n",
       "    <tr>\n",
       "      <th>2528</th>\n",
       "      <td>5</td>\n",
       "      <td>16</td>\n",
       "      <td>28</td>\n",
       "      <td>0.025177</td>\n",
       "      <td>0.012627</td>\n",
       "      <td>0.016575</td>\n",
       "    </tr>\n",
       "  </tbody>\n",
       "</table>\n",
       "</div>"
      ],
      "text/plain": [
       "      n_factors  units  epoch   ic_mean  ic_daily_mean  ic_daily_median\n",
       "3677          6     32    177  0.017459       0.010529         0.020403\n",
       "3536          6     32     36  0.018779       0.012097         0.020252\n",
       "3719          6     32    219  0.015723       0.011697         0.019695\n",
       "3643          6     32    143  0.017609       0.009729         0.019490\n",
       "3503          6     32      3  0.020168       0.016571         0.018448\n",
       "3697          6     32    197  0.017300       0.009420         0.018404\n",
       "3699          6     32    199  0.017799       0.011242         0.018051\n",
       "3669          6     32    169  0.016463       0.008991         0.017947\n",
       "3516          6     32     16  0.018123       0.012883         0.017712\n",
       "3521          6     32     21  0.017278       0.010284         0.017521\n",
       "3525          6     32     25  0.018910       0.011995         0.017495\n",
       "3031          6      8     31  0.023957       0.017972         0.017287\n",
       "2502          5     16      2  0.020971       0.010943         0.017251\n",
       "2504          5     16      4  0.024249       0.012856         0.017215\n",
       "3634          6     32    134  0.017334       0.009605         0.017134\n",
       "2526          5     16     26  0.026702       0.013911         0.017043\n",
       "3703          6     32    203  0.015868       0.008666         0.016993\n",
       "3004          6      8      4  0.018597       0.015862         0.016848\n",
       "3507          6     32      7  0.019260       0.012765         0.016810\n",
       "2528          5     16     28  0.025177       0.012627         0.016575"
      ]
     },
     "execution_count": 47,
     "metadata": {},
     "output_type": "execute_result"
    }
   ],
   "source": [
    "avg.nlargest(n=20, columns=['ic_daily_median'])"
   ]
  },
  {
   "cell_type": "code",
   "execution_count": 48,
   "metadata": {
    "ExecuteTime": {
     "end_time": "2021-02-25T01:24:42.905824Z",
     "start_time": "2021-02-25T01:24:42.868325Z"
    }
   },
   "outputs": [
    {
     "data": {
      "text/html": [
       "<div>\n",
       "<style scoped>\n",
       "    .dataframe tbody tr th:only-of-type {\n",
       "        vertical-align: middle;\n",
       "    }\n",
       "\n",
       "    .dataframe tbody tr th {\n",
       "        vertical-align: top;\n",
       "    }\n",
       "\n",
       "    .dataframe thead th {\n",
       "        text-align: right;\n",
       "    }\n",
       "</style>\n",
       "<table border=\"1\" class=\"dataframe\">\n",
       "  <thead>\n",
       "    <tr style=\"text-align: right;\">\n",
       "      <th></th>\n",
       "      <th></th>\n",
       "      <th>n_factors</th>\n",
       "      <th>units</th>\n",
       "      <th>epoch</th>\n",
       "      <th>ic_mean</th>\n",
       "      <th>ic_daily_mean</th>\n",
       "      <th>ic_daily_median</th>\n",
       "    </tr>\n",
       "    <tr>\n",
       "      <th>n_factors</th>\n",
       "      <th>units</th>\n",
       "      <th></th>\n",
       "      <th></th>\n",
       "      <th></th>\n",
       "      <th></th>\n",
       "      <th></th>\n",
       "      <th></th>\n",
       "    </tr>\n",
       "  </thead>\n",
       "  <tbody>\n",
       "    <tr>\n",
       "      <th rowspan=\"5\" valign=\"top\">6</th>\n",
       "      <th>32</th>\n",
       "      <td>6</td>\n",
       "      <td>32</td>\n",
       "      <td>177</td>\n",
       "      <td>0.017459</td>\n",
       "      <td>0.010529</td>\n",
       "      <td>0.020403</td>\n",
       "    </tr>\n",
       "    <tr>\n",
       "      <th>32</th>\n",
       "      <td>6</td>\n",
       "      <td>32</td>\n",
       "      <td>36</td>\n",
       "      <td>0.018779</td>\n",
       "      <td>0.012097</td>\n",
       "      <td>0.020252</td>\n",
       "    </tr>\n",
       "    <tr>\n",
       "      <th>32</th>\n",
       "      <td>6</td>\n",
       "      <td>32</td>\n",
       "      <td>219</td>\n",
       "      <td>0.015723</td>\n",
       "      <td>0.011697</td>\n",
       "      <td>0.019695</td>\n",
       "    </tr>\n",
       "    <tr>\n",
       "      <th>32</th>\n",
       "      <td>6</td>\n",
       "      <td>32</td>\n",
       "      <td>143</td>\n",
       "      <td>0.017609</td>\n",
       "      <td>0.009729</td>\n",
       "      <td>0.019490</td>\n",
       "    </tr>\n",
       "    <tr>\n",
       "      <th>32</th>\n",
       "      <td>6</td>\n",
       "      <td>32</td>\n",
       "      <td>3</td>\n",
       "      <td>0.020168</td>\n",
       "      <td>0.016571</td>\n",
       "      <td>0.018448</td>\n",
       "    </tr>\n",
       "  </tbody>\n",
       "</table>\n",
       "</div>"
      ],
      "text/plain": [
       "                 n_factors  units  epoch   ic_mean  ic_daily_mean  \\\n",
       "n_factors units                                                     \n",
       "6         32             6     32    177  0.017459       0.010529   \n",
       "          32             6     32     36  0.018779       0.012097   \n",
       "          32             6     32    219  0.015723       0.011697   \n",
       "          32             6     32    143  0.017609       0.009729   \n",
       "          32             6     32      3  0.020168       0.016571   \n",
       "\n",
       "                 ic_daily_median  \n",
       "n_factors units                   \n",
       "6         32            0.020403  \n",
       "          32            0.020252  \n",
       "          32            0.019695  \n",
       "          32            0.019490  \n",
       "          32            0.018448  "
      ]
     },
     "execution_count": 48,
     "metadata": {},
     "output_type": "execute_result"
    }
   ],
   "source": [
    "top = (avg.groupby(['n_factors', 'units'])\n",
    "       .apply(lambda x: x.nlargest(n=5, columns=['ic_daily_median']))\n",
    "       .reset_index(-1, drop=True))\n",
    "\n",
    "top.nlargest(n=5, columns=['ic_daily_median'])"
   ]
  },
  {
   "cell_type": "code",
   "execution_count": 49,
   "metadata": {
    "ExecuteTime": {
     "end_time": "2021-02-24T21:42:05.316440Z",
     "start_time": "2021-02-24T21:42:03.450732Z"
    }
   },
   "outputs": [
    {
     "data": {
      "image/png": "[encoded data removed]",
      "text/plain": [
       "<Figure size 1440x576 with 10 Axes>"
      ]
     },
     "metadata": {},
     "output_type": "display_data"
    }
   ],
   "source": [
    "fig, axes = plt.subplots(ncols=5, nrows=2, figsize=(20, 8), sharey='row', sharex=True)\n",
    "\n",
    "for n in range(2, 7):\n",
    "    df = avg[avg.n_factors==n].pivot(index='epoch', columns='units', values='ic_mean')\n",
    "    df.rolling(10).mean().loc[:200].plot(ax=axes[0][n-2], lw=1, title=f'{n} Factors')\n",
    "    axes[0][n-2].axhline(0, ls='--', c='k', lw=1)\n",
    "    axes[0][n-2].get_legend().remove()\n",
    "    axes[0][n-2].set_ylabel('IC (10-epoch rolling mean)')\n",
    "\n",
    "    df = avg[avg.n_factors==n].pivot(index='epoch', columns='units', values='ic_daily_median')\n",
    "    df.rolling(10).mean().loc[:200].plot(ax=axes[1][n-2], lw=1)\n",
    "    axes[1][n-2].axhline(0, ls='--', c='k', lw=1)\n",
    "    axes[1][n-2].get_legend().remove()\n",
    "    axes[1][n-2].set_ylabel('IC, Daily Median (10-epoch rolling mean)')\n",
    "\n",
    "handles, labels = axes[0][0].get_legend_handles_labels()\n",
    "fig.legend(handles, labels, loc='center right', title='# Units')\n",
    "fig.suptitle('Cross-Validation Performance (2015-2019)', fontsize=16)\n",
    "fig.tight_layout()\n",
    "fig.subplots_adjust(top=.9)\n",
    "fig.savefig(results_path / 'cv_performance', dpi=300);"
   ]
  },
  {
   "cell_type": "markdown",
   "metadata": {},
   "source": [
    "## Generate Predictions"
   ]
  },
  {
   "cell_type": "markdown",
   "metadata": {},
   "source": [
    "We'll average over a range of epochs that appears to deliver good predictions."
   ]
  },
  {
   "cell_type": "code",
   "execution_count": 50,
   "metadata": {
    "ExecuteTime": {
     "end_time": "2021-02-25T02:20:39.334590Z",
     "start_time": "2021-02-25T02:20:39.328174Z"
    }
   },
   "outputs": [],
   "source": [
    "n_factors = 4\n",
    "units = 32\n",
    "batch_size = 32\n",
    "first_epoch = 50\n",
    "last_epoch = 80"
   ]
  },
  {
   "cell_type": "code",
   "execution_count": 51,
   "metadata": {
    "ExecuteTime": {
     "end_time": "2021-02-25T02:53:07.097416Z",
     "start_time": "2021-02-25T02:20:39.526027Z"
    },
    "scrolled": false
   },
   "outputs": [
    {
     "name": "stderr",
     "output_type": "stream",
     "text": [
      "\r",
      "  0%|                                                                                           | 0/30 [00:00<?, ?it/s]"
     ]
    },
    {
     "name": "stdout",
     "output_type": "stream",
     "text": [
      "WARNING:tensorflow:5 out of the last 2507 calls to <function Model.make_predict_function.<locals>.predict_function at 0x000002C7DEEAC670> triggered tf.function retracing. Tracing is expensive and the excessive number of tracings could be due to (1) creating @tf.function repeatedly in a loop, (2) passing tensors with different shapes, (3) passing Python objects instead of tensors. For (1), please define your @tf.function outside of the loop. For (2), @tf.function has experimental_relax_shapes=True option that relaxes argument shapes that can avoid unnecessary retracing. For (3), please refer to https://www.tensorflow.org/tutorials/customization/performance#python_or_tensor_args and https://www.tensorflow.org/api_docs/python/tf/function for  more details.\n",
      "WARNING:tensorflow:6 out of the last 2509 calls to <function Model.make_predict_function.<locals>.predict_function at 0x000002C8FC131CA0> triggered tf.function retracing. Tracing is expensive and the excessive number of tracings could be due to (1) creating @tf.function repeatedly in a loop, (2) passing tensors with different shapes, (3) passing Python objects instead of tensors. For (1), please define your @tf.function outside of the loop. For (2), @tf.function has experimental_relax_shapes=True option that relaxes argument shapes that can avoid unnecessary retracing. For (3), please refer to https://www.tensorflow.org/tutorials/customization/performance#python_or_tensor_args and https://www.tensorflow.org/api_docs/python/tf/function for  more details.\n"
     ]
    },
    {
     "name": "stderr",
     "output_type": "stream",
     "text": [
      "\r",
      "  3%|██▊                                                                                | 1/30 [01:16<37:04, 76.71s/it]"
     ]
    },
    {
     "name": "stdout",
     "output_type": "stream",
     "text": [
      "WARNING:tensorflow:6 out of the last 11 calls to <function Model.make_predict_function.<locals>.predict_function at 0x000002C7FF6668B0> triggered tf.function retracing. Tracing is expensive and the excessive number of tracings could be due to (1) creating @tf.function repeatedly in a loop, (2) passing tensors with different shapes, (3) passing Python objects instead of tensors. For (1), please define your @tf.function outside of the loop. For (2), @tf.function has experimental_relax_shapes=True option that relaxes argument shapes that can avoid unnecessary retracing. For (3), please refer to https://www.tensorflow.org/tutorials/customization/performance#python_or_tensor_args and https://www.tensorflow.org/api_docs/python/tf/function for  more details.\n",
      "WARNING:tensorflow:6 out of the last 11 calls to <function Model.make_predict_function.<locals>.predict_function at 0x000002C7EC7AB820> triggered tf.function retracing. Tracing is expensive and the excessive number of tracings could be due to (1) creating @tf.function repeatedly in a loop, (2) passing tensors with different shapes, (3) passing Python objects instead of tensors. For (1), please define your @tf.function outside of the loop. For (2), @tf.function has experimental_relax_shapes=True option that relaxes argument shapes that can avoid unnecessary retracing. For (3), please refer to https://www.tensorflow.org/tutorials/customization/performance#python_or_tensor_args and https://www.tensorflow.org/api_docs/python/tf/function for  more details.\n",
      "WARNING:tensorflow:6 out of the last 11 calls to <function Model.make_predict_function.<locals>.predict_function at 0x000002C78A5D14C0> triggered tf.function retracing. Tracing is expensive and the excessive number of tracings could be due to (1) creating @tf.function repeatedly in a loop, (2) passing tensors with different shapes, (3) passing Python objects instead of tensors. For (1), please define your @tf.function outside of the loop. For (2), @tf.function has experimental_relax_shapes=True option that relaxes argument shapes that can avoid unnecessary retracing. For (3), please refer to https://www.tensorflow.org/tutorials/customization/performance#python_or_tensor_args and https://www.tensorflow.org/api_docs/python/tf/function for  more details.\n",
      "WARNING:tensorflow:6 out of the last 11 calls to <function Model.make_predict_function.<locals>.predict_function at 0x000002C8FC131940> triggered tf.function retracing. Tracing is expensive and the excessive number of tracings could be due to (1) creating @tf.function repeatedly in a loop, (2) passing tensors with different shapes, (3) passing Python objects instead of tensors. For (1), please define your @tf.function outside of the loop. For (2), @tf.function has experimental_relax_shapes=True option that relaxes argument shapes that can avoid unnecessary retracing. For (3), please refer to https://www.tensorflow.org/tutorials/customization/performance#python_or_tensor_args and https://www.tensorflow.org/api_docs/python/tf/function for  more details.\n",
      "WARNING:tensorflow:6 out of the last 11 calls to <function Model.make_predict_function.<locals>.predict_function at 0x000002C7AA5F3C10> triggered tf.function retracing. Tracing is expensive and the excessive number of tracings could be due to (1) creating @tf.function repeatedly in a loop, (2) passing tensors with different shapes, (3) passing Python objects instead of tensors. For (1), please define your @tf.function outside of the loop. For (2), @tf.function has experimental_relax_shapes=True option that relaxes argument shapes that can avoid unnecessary retracing. For (3), please refer to https://www.tensorflow.org/tutorials/customization/performance#python_or_tensor_args and https://www.tensorflow.org/api_docs/python/tf/function for  more details.\n"
     ]
    },
    {
     "name": "stderr",
     "output_type": "stream",
     "text": [
      "\r",
      "  7%|█████▌                                                                             | 2/30 [02:36<36:37, 78.48s/it]"
     ]
    },
    {
     "name": "stdout",
     "output_type": "stream",
     "text": [
      "WARNING:tensorflow:6 out of the last 11 calls to <function Model.make_predict_function.<locals>.predict_function at 0x000002C8027DECA0> triggered tf.function retracing. Tracing is expensive and the excessive number of tracings could be due to (1) creating @tf.function repeatedly in a loop, (2) passing tensors with different shapes, (3) passing Python objects instead of tensors. For (1), please define your @tf.function outside of the loop. For (2), @tf.function has experimental_relax_shapes=True option that relaxes argument shapes that can avoid unnecessary retracing. For (3), please refer to https://www.tensorflow.org/tutorials/customization/performance#python_or_tensor_args and https://www.tensorflow.org/api_docs/python/tf/function for  more details.\n",
      "WARNING:tensorflow:6 out of the last 11 calls to <function Model.make_predict_function.<locals>.predict_function at 0x000002C7B2C415E0> triggered tf.function retracing. Tracing is expensive and the excessive number of tracings could be due to (1) creating @tf.function repeatedly in a loop, (2) passing tensors with different shapes, (3) passing Python objects instead of tensors. For (1), please define your @tf.function outside of the loop. For (2), @tf.function has experimental_relax_shapes=True option that relaxes argument shapes that can avoid unnecessary retracing. For (3), please refer to https://www.tensorflow.org/tutorials/customization/performance#python_or_tensor_args and https://www.tensorflow.org/api_docs/python/tf/function for  more details.\n",
      "WARNING:tensorflow:6 out of the last 11 calls to <function Model.make_predict_function.<locals>.predict_function at 0x000002C7C7FF5820> triggered tf.function retracing. Tracing is expensive and the excessive number of tracings could be due to (1) creating @tf.function repeatedly in a loop, (2) passing tensors with different shapes, (3) passing Python objects instead of tensors. For (1), please define your @tf.function outside of the loop. For (2), @tf.function has experimental_relax_shapes=True option that relaxes argument shapes that can avoid unnecessary retracing. For (3), please refer to https://www.tensorflow.org/tutorials/customization/performance#python_or_tensor_args and https://www.tensorflow.org/api_docs/python/tf/function for  more details.\n",
      "WARNING:tensorflow:6 out of the last 11 calls to <function Model.make_predict_function.<locals>.predict_function at 0x000002C7AA600D30> triggered tf.function retracing. Tracing is expensive and the excessive number of tracings could be due to (1) creating @tf.function repeatedly in a loop, (2) passing tensors with different shapes, (3) passing Python objects instead of tensors. For (1), please define your @tf.function outside of the loop. For (2), @tf.function has experimental_relax_shapes=True option that relaxes argument shapes that can avoid unnecessary retracing. For (3), please refer to https://www.tensorflow.org/tutorials/customization/performance#python_or_tensor_args and https://www.tensorflow.org/api_docs/python/tf/function for  more details.\n",
      "WARNING:tensorflow:6 out of the last 11 calls to <function Model.make_predict_function.<locals>.predict_function at 0x000002C78A5D1040> triggered tf.function retracing. Tracing is expensive and the excessive number of tracings could be due to (1) creating @tf.function repeatedly in a loop, (2) passing tensors with different shapes, (3) passing Python objects instead of tensors. For (1), please define your @tf.function outside of the loop. For (2), @tf.function has experimental_relax_shapes=True option that relaxes argument shapes that can avoid unnecessary retracing. For (3), please refer to https://www.tensorflow.org/tutorials/customization/performance#python_or_tensor_args and https://www.tensorflow.org/api_docs/python/tf/function for  more details.\n"
     ]
    },
    {
     "name": "stderr",
     "output_type": "stream",
     "text": [
      "\r",
      " 10%|████████▎                                                                          | 3/30 [03:59<36:18, 80.69s/it]"
     ]
    },
    {
     "name": "stdout",
     "output_type": "stream",
     "text": [
      "WARNING:tensorflow:6 out of the last 11 calls to <function Model.make_predict_function.<locals>.predict_function at 0x000002C8FC131B80> triggered tf.function retracing. Tracing is expensive and the excessive number of tracings could be due to (1) creating @tf.function repeatedly in a loop, (2) passing tensors with different shapes, (3) passing Python objects instead of tensors. For (1), please define your @tf.function outside of the loop. For (2), @tf.function has experimental_relax_shapes=True option that relaxes argument shapes that can avoid unnecessary retracing. For (3), please refer to https://www.tensorflow.org/tutorials/customization/performance#python_or_tensor_args and https://www.tensorflow.org/api_docs/python/tf/function for  more details.\n",
      "WARNING:tensorflow:6 out of the last 11 calls to <function Model.make_predict_function.<locals>.predict_function at 0x000002C7AA600550> triggered tf.function retracing. Tracing is expensive and the excessive number of tracings could be due to (1) creating @tf.function repeatedly in a loop, (2) passing tensors with different shapes, (3) passing Python objects instead of tensors. For (1), please define your @tf.function outside of the loop. For (2), @tf.function has experimental_relax_shapes=True option that relaxes argument shapes that can avoid unnecessary retracing. For (3), please refer to https://www.tensorflow.org/tutorials/customization/performance#python_or_tensor_args and https://www.tensorflow.org/api_docs/python/tf/function for  more details.\n",
      "WARNING:tensorflow:6 out of the last 11 calls to <function Model.make_predict_function.<locals>.predict_function at 0x000002C7C7FF5940> triggered tf.function retracing. Tracing is expensive and the excessive number of tracings could be due to (1) creating @tf.function repeatedly in a loop, (2) passing tensors with different shapes, (3) passing Python objects instead of tensors. For (1), please define your @tf.function outside of the loop. For (2), @tf.function has experimental_relax_shapes=True option that relaxes argument shapes that can avoid unnecessary retracing. For (3), please refer to https://www.tensorflow.org/tutorials/customization/performance#python_or_tensor_args and https://www.tensorflow.org/api_docs/python/tf/function for  more details.\n",
      "WARNING:tensorflow:6 out of the last 11 calls to <function Model.make_predict_function.<locals>.predict_function at 0x000002C7DEEACD30> triggered tf.function retracing. Tracing is expensive and the excessive number of tracings could be due to (1) creating @tf.function repeatedly in a loop, (2) passing tensors with different shapes, (3) passing Python objects instead of tensors. For (1), please define your @tf.function outside of the loop. For (2), @tf.function has experimental_relax_shapes=True option that relaxes argument shapes that can avoid unnecessary retracing. For (3), please refer to https://www.tensorflow.org/tutorials/customization/performance#python_or_tensor_args and https://www.tensorflow.org/api_docs/python/tf/function for  more details.\n",
      "WARNING:tensorflow:6 out of the last 11 calls to <function Model.make_predict_function.<locals>.predict_function at 0x000002C7EC7AB550> triggered tf.function retracing. Tracing is expensive and the excessive number of tracings could be due to (1) creating @tf.function repeatedly in a loop, (2) passing tensors with different shapes, (3) passing Python objects instead of tensors. For (1), please define your @tf.function outside of the loop. For (2), @tf.function has experimental_relax_shapes=True option that relaxes argument shapes that can avoid unnecessary retracing. For (3), please refer to https://www.tensorflow.org/tutorials/customization/performance#python_or_tensor_args and https://www.tensorflow.org/api_docs/python/tf/function for  more details.\n"
     ]
    },
    {
     "name": "stderr",
     "output_type": "stream",
     "text": [
      "\r",
      " 13%|███████████                                                                        | 4/30 [05:23<35:24, 81.73s/it]"
     ]
    },
    {
     "name": "stdout",
     "output_type": "stream",
     "text": [
      "WARNING:tensorflow:6 out of the last 11 calls to <function Model.make_predict_function.<locals>.predict_function at 0x000002C7FF6669D0> triggered tf.function retracing. Tracing is expensive and the excessive number of tracings could be due to (1) creating @tf.function repeatedly in a loop, (2) passing tensors with different shapes, (3) passing Python objects instead of tensors. For (1), please define your @tf.function outside of the loop. For (2), @tf.function has experimental_relax_shapes=True option that relaxes argument shapes that can avoid unnecessary retracing. For (3), please refer to https://www.tensorflow.org/tutorials/customization/performance#python_or_tensor_args and https://www.tensorflow.org/api_docs/python/tf/function for  more details.\n",
      "WARNING:tensorflow:6 out of the last 11 calls to <function Model.make_predict_function.<locals>.predict_function at 0x000002C7B2A90160> triggered tf.function retracing. Tracing is expensive and the excessive number of tracings could be due to (1) creating @tf.function repeatedly in a loop, (2) passing tensors with different shapes, (3) passing Python objects instead of tensors. For (1), please define your @tf.function outside of the loop. For (2), @tf.function has experimental_relax_shapes=True option that relaxes argument shapes that can avoid unnecessary retracing. For (3), please refer to https://www.tensorflow.org/tutorials/customization/performance#python_or_tensor_args and https://www.tensorflow.org/api_docs/python/tf/function for  more details.\n",
      "WARNING:tensorflow:6 out of the last 11 calls to <function Model.make_predict_function.<locals>.predict_function at 0x000002C78A5D1310> triggered tf.function retracing. Tracing is expensive and the excessive number of tracings could be due to (1) creating @tf.function repeatedly in a loop, (2) passing tensors with different shapes, (3) passing Python objects instead of tensors. For (1), please define your @tf.function outside of the loop. For (2), @tf.function has experimental_relax_shapes=True option that relaxes argument shapes that can avoid unnecessary retracing. For (3), please refer to https://www.tensorflow.org/tutorials/customization/performance#python_or_tensor_args and https://www.tensorflow.org/api_docs/python/tf/function for  more details.\n",
      "WARNING:tensorflow:6 out of the last 11 calls to <function Model.make_predict_function.<locals>.predict_function at 0x000002C7AA6001F0> triggered tf.function retracing. Tracing is expensive and the excessive number of tracings could be due to (1) creating @tf.function repeatedly in a loop, (2) passing tensors with different shapes, (3) passing Python objects instead of tensors. For (1), please define your @tf.function outside of the loop. For (2), @tf.function has experimental_relax_shapes=True option that relaxes argument shapes that can avoid unnecessary retracing. For (3), please refer to https://www.tensorflow.org/tutorials/customization/performance#python_or_tensor_args and https://www.tensorflow.org/api_docs/python/tf/function for  more details.\n",
      "WARNING:tensorflow:6 out of the last 11 calls to <function Model.make_predict_function.<locals>.predict_function at 0x000002C8FC131040> triggered tf.function retracing. Tracing is expensive and the excessive number of tracings could be due to (1) creating @tf.function repeatedly in a loop, (2) passing tensors with different shapes, (3) passing Python objects instead of tensors. For (1), please define your @tf.function outside of the loop. For (2), @tf.function has experimental_relax_shapes=True option that relaxes argument shapes that can avoid unnecessary retracing. For (3), please refer to https://www.tensorflow.org/tutorials/customization/performance#python_or_tensor_args and https://www.tensorflow.org/api_docs/python/tf/function for  more details.\n"
     ]
    },
    {
     "name": "stderr",
     "output_type": "stream",
     "text": [
      "\r",
      " 17%|█████████████▊                                                                     | 5/30 [06:48<34:33, 82.95s/it]"
     ]
    },
    {
     "name": "stdout",
     "output_type": "stream",
     "text": [
      "WARNING:tensorflow:6 out of the last 11 calls to <function Model.make_predict_function.<locals>.predict_function at 0x000002C7DEEAC310> triggered tf.function retracing. Tracing is expensive and the excessive number of tracings could be due to (1) creating @tf.function repeatedly in a loop, (2) passing tensors with different shapes, (3) passing Python objects instead of tensors. For (1), please define your @tf.function outside of the loop. For (2), @tf.function has experimental_relax_shapes=True option that relaxes argument shapes that can avoid unnecessary retracing. For (3), please refer to https://www.tensorflow.org/tutorials/customization/performance#python_or_tensor_args and https://www.tensorflow.org/api_docs/python/tf/function for  more details.\n",
      "WARNING:tensorflow:6 out of the last 11 calls to <function Model.make_predict_function.<locals>.predict_function at 0x000002C7AA5F3A60> triggered tf.function retracing. Tracing is expensive and the excessive number of tracings could be due to (1) creating @tf.function repeatedly in a loop, (2) passing tensors with different shapes, (3) passing Python objects instead of tensors. For (1), please define your @tf.function outside of the loop. For (2), @tf.function has experimental_relax_shapes=True option that relaxes argument shapes that can avoid unnecessary retracing. For (3), please refer to https://www.tensorflow.org/tutorials/customization/performance#python_or_tensor_args and https://www.tensorflow.org/api_docs/python/tf/function for  more details.\n",
      "WARNING:tensorflow:6 out of the last 11 calls to <function Model.make_predict_function.<locals>.predict_function at 0x000002C7AB322670> triggered tf.function retracing. Tracing is expensive and the excessive number of tracings could be due to (1) creating @tf.function repeatedly in a loop, (2) passing tensors with different shapes, (3) passing Python objects instead of tensors. For (1), please define your @tf.function outside of the loop. For (2), @tf.function has experimental_relax_shapes=True option that relaxes argument shapes that can avoid unnecessary retracing. For (3), please refer to https://www.tensorflow.org/tutorials/customization/performance#python_or_tensor_args and https://www.tensorflow.org/api_docs/python/tf/function for  more details.\n",
      "WARNING:tensorflow:6 out of the last 11 calls to <function Model.make_predict_function.<locals>.predict_function at 0x000002C7EC7AB310> triggered tf.function retracing. Tracing is expensive and the excessive number of tracings could be due to (1) creating @tf.function repeatedly in a loop, (2) passing tensors with different shapes, (3) passing Python objects instead of tensors. For (1), please define your @tf.function outside of the loop. For (2), @tf.function has experimental_relax_shapes=True option that relaxes argument shapes that can avoid unnecessary retracing. For (3), please refer to https://www.tensorflow.org/tutorials/customization/performance#python_or_tensor_args and https://www.tensorflow.org/api_docs/python/tf/function for  more details.\n",
      "WARNING:tensorflow:6 out of the last 11 calls to <function Model.make_predict_function.<locals>.predict_function at 0x000002C7C7FF5310> triggered tf.function retracing. Tracing is expensive and the excessive number of tracings could be due to (1) creating @tf.function repeatedly in a loop, (2) passing tensors with different shapes, (3) passing Python objects instead of tensors. For (1), please define your @tf.function outside of the loop. For (2), @tf.function has experimental_relax_shapes=True option that relaxes argument shapes that can avoid unnecessary retracing. For (3), please refer to https://www.tensorflow.org/tutorials/customization/performance#python_or_tensor_args and https://www.tensorflow.org/api_docs/python/tf/function for  more details.\n"
     ]
    },
    {
     "name": "stderr",
     "output_type": "stream",
     "text": [
      "\r",
      " 20%|████████████████▌                                                                  | 6/30 [08:11<33:13, 83.06s/it]"
     ]
    },
    {
     "name": "stdout",
     "output_type": "stream",
     "text": [
      "WARNING:tensorflow:6 out of the last 11 calls to <function Model.make_predict_function.<locals>.predict_function at 0x000002C8FC131790> triggered tf.function retracing. Tracing is expensive and the excessive number of tracings could be due to (1) creating @tf.function repeatedly in a loop, (2) passing tensors with different shapes, (3) passing Python objects instead of tensors. For (1), please define your @tf.function outside of the loop. For (2), @tf.function has experimental_relax_shapes=True option that relaxes argument shapes that can avoid unnecessary retracing. For (3), please refer to https://www.tensorflow.org/tutorials/customization/performance#python_or_tensor_args and https://www.tensorflow.org/api_docs/python/tf/function for  more details.\n",
      "WARNING:tensorflow:6 out of the last 11 calls to <function Model.make_predict_function.<locals>.predict_function at 0x000002C7AA5F3670> triggered tf.function retracing. Tracing is expensive and the excessive number of tracings could be due to (1) creating @tf.function repeatedly in a loop, (2) passing tensors with different shapes, (3) passing Python objects instead of tensors. For (1), please define your @tf.function outside of the loop. For (2), @tf.function has experimental_relax_shapes=True option that relaxes argument shapes that can avoid unnecessary retracing. For (3), please refer to https://www.tensorflow.org/tutorials/customization/performance#python_or_tensor_args and https://www.tensorflow.org/api_docs/python/tf/function for  more details.\n",
      "WARNING:tensorflow:6 out of the last 11 calls to <function Model.make_predict_function.<locals>.predict_function at 0x000002C7B2A90160> triggered tf.function retracing. Tracing is expensive and the excessive number of tracings could be due to (1) creating @tf.function repeatedly in a loop, (2) passing tensors with different shapes, (3) passing Python objects instead of tensors. For (1), please define your @tf.function outside of the loop. For (2), @tf.function has experimental_relax_shapes=True option that relaxes argument shapes that can avoid unnecessary retracing. For (3), please refer to https://www.tensorflow.org/tutorials/customization/performance#python_or_tensor_args and https://www.tensorflow.org/api_docs/python/tf/function for  more details.\n",
      "WARNING:tensorflow:6 out of the last 11 calls to <function Model.make_predict_function.<locals>.predict_function at 0x000002C7DEEAC820> triggered tf.function retracing. Tracing is expensive and the excessive number of tracings could be due to (1) creating @tf.function repeatedly in a loop, (2) passing tensors with different shapes, (3) passing Python objects instead of tensors. For (1), please define your @tf.function outside of the loop. For (2), @tf.function has experimental_relax_shapes=True option that relaxes argument shapes that can avoid unnecessary retracing. For (3), please refer to https://www.tensorflow.org/tutorials/customization/performance#python_or_tensor_args and https://www.tensorflow.org/api_docs/python/tf/function for  more details.\n",
      "WARNING:tensorflow:6 out of the last 11 calls to <function Model.make_predict_function.<locals>.predict_function at 0x000002C7B2A90310> triggered tf.function retracing. Tracing is expensive and the excessive number of tracings could be due to (1) creating @tf.function repeatedly in a loop, (2) passing tensors with different shapes, (3) passing Python objects instead of tensors. For (1), please define your @tf.function outside of the loop. For (2), @tf.function has experimental_relax_shapes=True option that relaxes argument shapes that can avoid unnecessary retracing. For (3), please refer to https://www.tensorflow.org/tutorials/customization/performance#python_or_tensor_args and https://www.tensorflow.org/api_docs/python/tf/function for  more details.\n"
     ]
    },
    {
     "name": "stderr",
     "output_type": "stream",
     "text": [
      "\r",
      " 23%|███████████████████▎                                                               | 7/30 [09:35<31:57, 83.38s/it]"
     ]
    },
    {
     "name": "stdout",
     "output_type": "stream",
     "text": [
      "WARNING:tensorflow:6 out of the last 11 calls to <function Model.make_predict_function.<locals>.predict_function at 0x000002C7AA5F3550> triggered tf.function retracing. Tracing is expensive and the excessive number of tracings could be due to (1) creating @tf.function repeatedly in a loop, (2) passing tensors with different shapes, (3) passing Python objects instead of tensors. For (1), please define your @tf.function outside of the loop. For (2), @tf.function has experimental_relax_shapes=True option that relaxes argument shapes that can avoid unnecessary retracing. For (3), please refer to https://www.tensorflow.org/tutorials/customization/performance#python_or_tensor_args and https://www.tensorflow.org/api_docs/python/tf/function for  more details.\n",
      "WARNING:tensorflow:6 out of the last 11 calls to <function Model.make_predict_function.<locals>.predict_function at 0x000002C82C0C5790> triggered tf.function retracing. Tracing is expensive and the excessive number of tracings could be due to (1) creating @tf.function repeatedly in a loop, (2) passing tensors with different shapes, (3) passing Python objects instead of tensors. For (1), please define your @tf.function outside of the loop. For (2), @tf.function has experimental_relax_shapes=True option that relaxes argument shapes that can avoid unnecessary retracing. For (3), please refer to https://www.tensorflow.org/tutorials/customization/performance#python_or_tensor_args and https://www.tensorflow.org/api_docs/python/tf/function for  more details.\n",
      "WARNING:tensorflow:6 out of the last 11 calls to <function Model.make_predict_function.<locals>.predict_function at 0x000002C7C7FF51F0> triggered tf.function retracing. Tracing is expensive and the excessive number of tracings could be due to (1) creating @tf.function repeatedly in a loop, (2) passing tensors with different shapes, (3) passing Python objects instead of tensors. For (1), please define your @tf.function outside of the loop. For (2), @tf.function has experimental_relax_shapes=True option that relaxes argument shapes that can avoid unnecessary retracing. For (3), please refer to https://www.tensorflow.org/tutorials/customization/performance#python_or_tensor_args and https://www.tensorflow.org/api_docs/python/tf/function for  more details.\n",
      "WARNING:tensorflow:6 out of the last 11 calls to <function Model.make_predict_function.<locals>.predict_function at 0x000002C82C0C51F0> triggered tf.function retracing. Tracing is expensive and the excessive number of tracings could be due to (1) creating @tf.function repeatedly in a loop, (2) passing tensors with different shapes, (3) passing Python objects instead of tensors. For (1), please define your @tf.function outside of the loop. For (2), @tf.function has experimental_relax_shapes=True option that relaxes argument shapes that can avoid unnecessary retracing. For (3), please refer to https://www.tensorflow.org/tutorials/customization/performance#python_or_tensor_args and https://www.tensorflow.org/api_docs/python/tf/function for  more details.\n",
      "WARNING:tensorflow:6 out of the last 11 calls to <function Model.make_predict_function.<locals>.predict_function at 0x000002C7C7FF59D0> triggered tf.function retracing. Tracing is expensive and the excessive number of tracings could be due to (1) creating @tf.function repeatedly in a loop, (2) passing tensors with different shapes, (3) passing Python objects instead of tensors. For (1), please define your @tf.function outside of the loop. For (2), @tf.function has experimental_relax_shapes=True option that relaxes argument shapes that can avoid unnecessary retracing. For (3), please refer to https://www.tensorflow.org/tutorials/customization/performance#python_or_tensor_args and https://www.tensorflow.org/api_docs/python/tf/function for  more details.\n"
     ]
    },
    {
     "name": "stderr",
     "output_type": "stream",
     "text": [
      "\r",
      " 27%|██████████████████████▏                                                            | 8/30 [10:59<30:41, 83.70s/it]"
     ]
    },
    {
     "name": "stdout",
     "output_type": "stream",
     "text": [
      "WARNING:tensorflow:6 out of the last 11 calls to <function Model.make_predict_function.<locals>.predict_function at 0x000002C7AA600280> triggered tf.function retracing. Tracing is expensive and the excessive number of tracings could be due to (1) creating @tf.function repeatedly in a loop, (2) passing tensors with different shapes, (3) passing Python objects instead of tensors. For (1), please define your @tf.function outside of the loop. For (2), @tf.function has experimental_relax_shapes=True option that relaxes argument shapes that can avoid unnecessary retracing. For (3), please refer to https://www.tensorflow.org/tutorials/customization/performance#python_or_tensor_args and https://www.tensorflow.org/api_docs/python/tf/function for  more details.\n",
      "WARNING:tensorflow:6 out of the last 11 calls to <function Model.make_predict_function.<locals>.predict_function at 0x000002C7DEEAC430> triggered tf.function retracing. Tracing is expensive and the excessive number of tracings could be due to (1) creating @tf.function repeatedly in a loop, (2) passing tensors with different shapes, (3) passing Python objects instead of tensors. For (1), please define your @tf.function outside of the loop. For (2), @tf.function has experimental_relax_shapes=True option that relaxes argument shapes that can avoid unnecessary retracing. For (3), please refer to https://www.tensorflow.org/tutorials/customization/performance#python_or_tensor_args and https://www.tensorflow.org/api_docs/python/tf/function for  more details.\n",
      "WARNING:tensorflow:6 out of the last 11 calls to <function Model.make_predict_function.<locals>.predict_function at 0x000002C78A5D14C0> triggered tf.function retracing. Tracing is expensive and the excessive number of tracings could be due to (1) creating @tf.function repeatedly in a loop, (2) passing tensors with different shapes, (3) passing Python objects instead of tensors. For (1), please define your @tf.function outside of the loop. For (2), @tf.function has experimental_relax_shapes=True option that relaxes argument shapes that can avoid unnecessary retracing. For (3), please refer to https://www.tensorflow.org/tutorials/customization/performance#python_or_tensor_args and https://www.tensorflow.org/api_docs/python/tf/function for  more details.\n",
      "WARNING:tensorflow:6 out of the last 11 calls to <function Model.make_predict_function.<locals>.predict_function at 0x000002C82C0C5E50> triggered tf.function retracing. Tracing is expensive and the excessive number of tracings could be due to (1) creating @tf.function repeatedly in a loop, (2) passing tensors with different shapes, (3) passing Python objects instead of tensors. For (1), please define your @tf.function outside of the loop. For (2), @tf.function has experimental_relax_shapes=True option that relaxes argument shapes that can avoid unnecessary retracing. For (3), please refer to https://www.tensorflow.org/tutorials/customization/performance#python_or_tensor_args and https://www.tensorflow.org/api_docs/python/tf/function for  more details.\n",
      "WARNING:tensorflow:6 out of the last 11 calls to <function Model.make_predict_function.<locals>.predict_function at 0x000002C7DEEACD30> triggered tf.function retracing. Tracing is expensive and the excessive number of tracings could be due to (1) creating @tf.function repeatedly in a loop, (2) passing tensors with different shapes, (3) passing Python objects instead of tensors. For (1), please define your @tf.function outside of the loop. For (2), @tf.function has experimental_relax_shapes=True option that relaxes argument shapes that can avoid unnecessary retracing. For (3), please refer to https://www.tensorflow.org/tutorials/customization/performance#python_or_tensor_args and https://www.tensorflow.org/api_docs/python/tf/function for  more details.\n"
     ]
    },
    {
     "name": "stderr",
     "output_type": "stream",
     "text": [
      "\r",
      " 30%|████████████████████████▉                                                          | 9/30 [12:26<29:34, 84.50s/it]"
     ]
    },
    {
     "name": "stdout",
     "output_type": "stream",
     "text": [
      "WARNING:tensorflow:6 out of the last 11 calls to <function Model.make_predict_function.<locals>.predict_function at 0x000002C7879B61F0> triggered tf.function retracing. Tracing is expensive and the excessive number of tracings could be due to (1) creating @tf.function repeatedly in a loop, (2) passing tensors with different shapes, (3) passing Python objects instead of tensors. For (1), please define your @tf.function outside of the loop. For (2), @tf.function has experimental_relax_shapes=True option that relaxes argument shapes that can avoid unnecessary retracing. For (3), please refer to https://www.tensorflow.org/tutorials/customization/performance#python_or_tensor_args and https://www.tensorflow.org/api_docs/python/tf/function for  more details.\n",
      "WARNING:tensorflow:6 out of the last 11 calls to <function Model.make_predict_function.<locals>.predict_function at 0x000002C8F462CEE0> triggered tf.function retracing. Tracing is expensive and the excessive number of tracings could be due to (1) creating @tf.function repeatedly in a loop, (2) passing tensors with different shapes, (3) passing Python objects instead of tensors. For (1), please define your @tf.function outside of the loop. For (2), @tf.function has experimental_relax_shapes=True option that relaxes argument shapes that can avoid unnecessary retracing. For (3), please refer to https://www.tensorflow.org/tutorials/customization/performance#python_or_tensor_args and https://www.tensorflow.org/api_docs/python/tf/function for  more details.\n",
      "WARNING:tensorflow:6 out of the last 11 calls to <function Model.make_predict_function.<locals>.predict_function at 0x000002C7FF666DC0> triggered tf.function retracing. Tracing is expensive and the excessive number of tracings could be due to (1) creating @tf.function repeatedly in a loop, (2) passing tensors with different shapes, (3) passing Python objects instead of tensors. For (1), please define your @tf.function outside of the loop. For (2), @tf.function has experimental_relax_shapes=True option that relaxes argument shapes that can avoid unnecessary retracing. For (3), please refer to https://www.tensorflow.org/tutorials/customization/performance#python_or_tensor_args and https://www.tensorflow.org/api_docs/python/tf/function for  more details.\n",
      "WARNING:tensorflow:6 out of the last 11 calls to <function Model.make_predict_function.<locals>.predict_function at 0x000002C7DEEAC160> triggered tf.function retracing. Tracing is expensive and the excessive number of tracings could be due to (1) creating @tf.function repeatedly in a loop, (2) passing tensors with different shapes, (3) passing Python objects instead of tensors. For (1), please define your @tf.function outside of the loop. For (2), @tf.function has experimental_relax_shapes=True option that relaxes argument shapes that can avoid unnecessary retracing. For (3), please refer to https://www.tensorflow.org/tutorials/customization/performance#python_or_tensor_args and https://www.tensorflow.org/api_docs/python/tf/function for  more details.\n",
      "WARNING:tensorflow:6 out of the last 11 calls to <function Model.make_predict_function.<locals>.predict_function at 0x000002C7AA5F3E50> triggered tf.function retracing. Tracing is expensive and the excessive number of tracings could be due to (1) creating @tf.function repeatedly in a loop, (2) passing tensors with different shapes, (3) passing Python objects instead of tensors. For (1), please define your @tf.function outside of the loop. For (2), @tf.function has experimental_relax_shapes=True option that relaxes argument shapes that can avoid unnecessary retracing. For (3), please refer to https://www.tensorflow.org/tutorials/customization/performance#python_or_tensor_args and https://www.tensorflow.org/api_docs/python/tf/function for  more details.\n"
     ]
    },
    {
     "name": "stderr",
     "output_type": "stream",
     "text": [
      "\r",
      " 33%|███████████████████████████▎                                                      | 10/30 [13:55<28:39, 85.97s/it]"
     ]
    },
    {
     "name": "stdout",
     "output_type": "stream",
     "text": [
      "WARNING:tensorflow:6 out of the last 11 calls to <function Model.make_predict_function.<locals>.predict_function at 0x000002C7879B6820> triggered tf.function retracing. Tracing is expensive and the excessive number of tracings could be due to (1) creating @tf.function repeatedly in a loop, (2) passing tensors with different shapes, (3) passing Python objects instead of tensors. For (1), please define your @tf.function outside of the loop. For (2), @tf.function has experimental_relax_shapes=True option that relaxes argument shapes that can avoid unnecessary retracing. For (3), please refer to https://www.tensorflow.org/tutorials/customization/performance#python_or_tensor_args and https://www.tensorflow.org/api_docs/python/tf/function for  more details.\n",
      "WARNING:tensorflow:6 out of the last 11 calls to <function Model.make_predict_function.<locals>.predict_function at 0x000002C7B2A90550> triggered tf.function retracing. Tracing is expensive and the excessive number of tracings could be due to (1) creating @tf.function repeatedly in a loop, (2) passing tensors with different shapes, (3) passing Python objects instead of tensors. For (1), please define your @tf.function outside of the loop. For (2), @tf.function has experimental_relax_shapes=True option that relaxes argument shapes that can avoid unnecessary retracing. For (3), please refer to https://www.tensorflow.org/tutorials/customization/performance#python_or_tensor_args and https://www.tensorflow.org/api_docs/python/tf/function for  more details.\n",
      "WARNING:tensorflow:6 out of the last 11 calls to <function Model.make_predict_function.<locals>.predict_function at 0x000002C7DEEACEE0> triggered tf.function retracing. Tracing is expensive and the excessive number of tracings could be due to (1) creating @tf.function repeatedly in a loop, (2) passing tensors with different shapes, (3) passing Python objects instead of tensors. For (1), please define your @tf.function outside of the loop. For (2), @tf.function has experimental_relax_shapes=True option that relaxes argument shapes that can avoid unnecessary retracing. For (3), please refer to https://www.tensorflow.org/tutorials/customization/performance#python_or_tensor_args and https://www.tensorflow.org/api_docs/python/tf/function for  more details.\n",
      "WARNING:tensorflow:6 out of the last 11 calls to <function Model.make_predict_function.<locals>.predict_function at 0x000002C7C7FF58B0> triggered tf.function retracing. Tracing is expensive and the excessive number of tracings could be due to (1) creating @tf.function repeatedly in a loop, (2) passing tensors with different shapes, (3) passing Python objects instead of tensors. For (1), please define your @tf.function outside of the loop. For (2), @tf.function has experimental_relax_shapes=True option that relaxes argument shapes that can avoid unnecessary retracing. For (3), please refer to https://www.tensorflow.org/tutorials/customization/performance#python_or_tensor_args and https://www.tensorflow.org/api_docs/python/tf/function for  more details.\n",
      "WARNING:tensorflow:6 out of the last 11 calls to <function Model.make_predict_function.<locals>.predict_function at 0x000002C7B2A90DC0> triggered tf.function retracing. Tracing is expensive and the excessive number of tracings could be due to (1) creating @tf.function repeatedly in a loop, (2) passing tensors with different shapes, (3) passing Python objects instead of tensors. For (1), please define your @tf.function outside of the loop. For (2), @tf.function has experimental_relax_shapes=True option that relaxes argument shapes that can avoid unnecessary retracing. For (3), please refer to https://www.tensorflow.org/tutorials/customization/performance#python_or_tensor_args and https://www.tensorflow.org/api_docs/python/tf/function for  more details.\n"
     ]
    },
    {
     "name": "stderr",
     "output_type": "stream",
     "text": [
      "\r",
      " 37%|██████████████████████████████                                                    | 11/30 [15:58<30:50, 97.38s/it]"
     ]
    },
    {
     "name": "stdout",
     "output_type": "stream",
     "text": [
      "WARNING:tensorflow:6 out of the last 11 calls to <function Model.make_predict_function.<locals>.predict_function at 0x000002C7C7FF5DC0> triggered tf.function retracing. Tracing is expensive and the excessive number of tracings could be due to (1) creating @tf.function repeatedly in a loop, (2) passing tensors with different shapes, (3) passing Python objects instead of tensors. For (1), please define your @tf.function outside of the loop. For (2), @tf.function has experimental_relax_shapes=True option that relaxes argument shapes that can avoid unnecessary retracing. For (3), please refer to https://www.tensorflow.org/tutorials/customization/performance#python_or_tensor_args and https://www.tensorflow.org/api_docs/python/tf/function for  more details.\n",
      "WARNING:tensorflow:6 out of the last 11 calls to <function Model.make_predict_function.<locals>.predict_function at 0x000002C7EC7AB040> triggered tf.function retracing. Tracing is expensive and the excessive number of tracings could be due to (1) creating @tf.function repeatedly in a loop, (2) passing tensors with different shapes, (3) passing Python objects instead of tensors. For (1), please define your @tf.function outside of the loop. For (2), @tf.function has experimental_relax_shapes=True option that relaxes argument shapes that can avoid unnecessary retracing. For (3), please refer to https://www.tensorflow.org/tutorials/customization/performance#python_or_tensor_args and https://www.tensorflow.org/api_docs/python/tf/function for  more details.\n",
      "WARNING:tensorflow:6 out of the last 11 calls to <function Model.make_predict_function.<locals>.predict_function at 0x000002C8FC1318B0> triggered tf.function retracing. Tracing is expensive and the excessive number of tracings could be due to (1) creating @tf.function repeatedly in a loop, (2) passing tensors with different shapes, (3) passing Python objects instead of tensors. For (1), please define your @tf.function outside of the loop. For (2), @tf.function has experimental_relax_shapes=True option that relaxes argument shapes that can avoid unnecessary retracing. For (3), please refer to https://www.tensorflow.org/tutorials/customization/performance#python_or_tensor_args and https://www.tensorflow.org/api_docs/python/tf/function for  more details.\n",
      "WARNING:tensorflow:6 out of the last 11 calls to <function Model.make_predict_function.<locals>.predict_function at 0x000002C8FC131310> triggered tf.function retracing. Tracing is expensive and the excessive number of tracings could be due to (1) creating @tf.function repeatedly in a loop, (2) passing tensors with different shapes, (3) passing Python objects instead of tensors. For (1), please define your @tf.function outside of the loop. For (2), @tf.function has experimental_relax_shapes=True option that relaxes argument shapes that can avoid unnecessary retracing. For (3), please refer to https://www.tensorflow.org/tutorials/customization/performance#python_or_tensor_args and https://www.tensorflow.org/api_docs/python/tf/function for  more details.\n",
      "WARNING:tensorflow:6 out of the last 11 calls to <function Model.make_predict_function.<locals>.predict_function at 0x000002C7AA600820> triggered tf.function retracing. Tracing is expensive and the excessive number of tracings could be due to (1) creating @tf.function repeatedly in a loop, (2) passing tensors with different shapes, (3) passing Python objects instead of tensors. For (1), please define your @tf.function outside of the loop. For (2), @tf.function has experimental_relax_shapes=True option that relaxes argument shapes that can avoid unnecessary retracing. For (3), please refer to https://www.tensorflow.org/tutorials/customization/performance#python_or_tensor_args and https://www.tensorflow.org/api_docs/python/tf/function for  more details.\n"
     ]
    },
    {
     "name": "stderr",
     "output_type": "stream",
     "text": [
      "\r",
      " 40%|████████████████████████████████▍                                                | 12/30 [18:02<31:38, 105.46s/it]"
     ]
    },
    {
     "name": "stdout",
     "output_type": "stream",
     "text": [
      "WARNING:tensorflow:6 out of the last 11 calls to <function Model.make_predict_function.<locals>.predict_function at 0x000002C8027DE310> triggered tf.function retracing. Tracing is expensive and the excessive number of tracings could be due to (1) creating @tf.function repeatedly in a loop, (2) passing tensors with different shapes, (3) passing Python objects instead of tensors. For (1), please define your @tf.function outside of the loop. For (2), @tf.function has experimental_relax_shapes=True option that relaxes argument shapes that can avoid unnecessary retracing. For (3), please refer to https://www.tensorflow.org/tutorials/customization/performance#python_or_tensor_args and https://www.tensorflow.org/api_docs/python/tf/function for  more details.\n",
      "WARNING:tensorflow:6 out of the last 11 calls to <function Model.make_predict_function.<locals>.predict_function at 0x000002C7879B60D0> triggered tf.function retracing. Tracing is expensive and the excessive number of tracings could be due to (1) creating @tf.function repeatedly in a loop, (2) passing tensors with different shapes, (3) passing Python objects instead of tensors. For (1), please define your @tf.function outside of the loop. For (2), @tf.function has experimental_relax_shapes=True option that relaxes argument shapes that can avoid unnecessary retracing. For (3), please refer to https://www.tensorflow.org/tutorials/customization/performance#python_or_tensor_args and https://www.tensorflow.org/api_docs/python/tf/function for  more details.\n",
      "WARNING:tensorflow:6 out of the last 11 calls to <function Model.make_predict_function.<locals>.predict_function at 0x000002C7AB8F3550> triggered tf.function retracing. Tracing is expensive and the excessive number of tracings could be due to (1) creating @tf.function repeatedly in a loop, (2) passing tensors with different shapes, (3) passing Python objects instead of tensors. For (1), please define your @tf.function outside of the loop. For (2), @tf.function has experimental_relax_shapes=True option that relaxes argument shapes that can avoid unnecessary retracing. For (3), please refer to https://www.tensorflow.org/tutorials/customization/performance#python_or_tensor_args and https://www.tensorflow.org/api_docs/python/tf/function for  more details.\n",
      "WARNING:tensorflow:6 out of the last 11 calls to <function Model.make_predict_function.<locals>.predict_function at 0x000002C82C0C5310> triggered tf.function retracing. Tracing is expensive and the excessive number of tracings could be due to (1) creating @tf.function repeatedly in a loop, (2) passing tensors with different shapes, (3) passing Python objects instead of tensors. For (1), please define your @tf.function outside of the loop. For (2), @tf.function has experimental_relax_shapes=True option that relaxes argument shapes that can avoid unnecessary retracing. For (3), please refer to https://www.tensorflow.org/tutorials/customization/performance#python_or_tensor_args and https://www.tensorflow.org/api_docs/python/tf/function for  more details.\n",
      "WARNING:tensorflow:6 out of the last 11 calls to <function Model.make_predict_function.<locals>.predict_function at 0x000002C7B2C418B0> triggered tf.function retracing. Tracing is expensive and the excessive number of tracings could be due to (1) creating @tf.function repeatedly in a loop, (2) passing tensors with different shapes, (3) passing Python objects instead of tensors. For (1), please define your @tf.function outside of the loop. For (2), @tf.function has experimental_relax_shapes=True option that relaxes argument shapes that can avoid unnecessary retracing. For (3), please refer to https://www.tensorflow.org/tutorials/customization/performance#python_or_tensor_args and https://www.tensorflow.org/api_docs/python/tf/function for  more details.\n"
     ]
    },
    {
     "name": "stderr",
     "output_type": "stream",
     "text": [
      "\r",
      " 43%|███████████████████████████████████                                              | 13/30 [19:51<30:12, 106.62s/it]"
     ]
    },
    {
     "name": "stdout",
     "output_type": "stream",
     "text": [
      "WARNING:tensorflow:6 out of the last 11 calls to <function Model.make_predict_function.<locals>.predict_function at 0x000002C7AA600D30> triggered tf.function retracing. Tracing is expensive and the excessive number of tracings could be due to (1) creating @tf.function repeatedly in a loop, (2) passing tensors with different shapes, (3) passing Python objects instead of tensors. For (1), please define your @tf.function outside of the loop. For (2), @tf.function has experimental_relax_shapes=True option that relaxes argument shapes that can avoid unnecessary retracing. For (3), please refer to https://www.tensorflow.org/tutorials/customization/performance#python_or_tensor_args and https://www.tensorflow.org/api_docs/python/tf/function for  more details.\n",
      "WARNING:tensorflow:6 out of the last 11 calls to <function Model.make_predict_function.<locals>.predict_function at 0x000002C7CFEA6040> triggered tf.function retracing. Tracing is expensive and the excessive number of tracings could be due to (1) creating @tf.function repeatedly in a loop, (2) passing tensors with different shapes, (3) passing Python objects instead of tensors. For (1), please define your @tf.function outside of the loop. For (2), @tf.function has experimental_relax_shapes=True option that relaxes argument shapes that can avoid unnecessary retracing. For (3), please refer to https://www.tensorflow.org/tutorials/customization/performance#python_or_tensor_args and https://www.tensorflow.org/api_docs/python/tf/function for  more details.\n",
      "WARNING:tensorflow:6 out of the last 11 calls to <function Model.make_predict_function.<locals>.predict_function at 0x000002C7AA600EE0> triggered tf.function retracing. Tracing is expensive and the excessive number of tracings could be due to (1) creating @tf.function repeatedly in a loop, (2) passing tensors with different shapes, (3) passing Python objects instead of tensors. For (1), please define your @tf.function outside of the loop. For (2), @tf.function has experimental_relax_shapes=True option that relaxes argument shapes that can avoid unnecessary retracing. For (3), please refer to https://www.tensorflow.org/tutorials/customization/performance#python_or_tensor_args and https://www.tensorflow.org/api_docs/python/tf/function for  more details.\n",
      "WARNING:tensorflow:6 out of the last 11 calls to <function Model.make_predict_function.<locals>.predict_function at 0x000002C7DEEAC550> triggered tf.function retracing. Tracing is expensive and the excessive number of tracings could be due to (1) creating @tf.function repeatedly in a loop, (2) passing tensors with different shapes, (3) passing Python objects instead of tensors. For (1), please define your @tf.function outside of the loop. For (2), @tf.function has experimental_relax_shapes=True option that relaxes argument shapes that can avoid unnecessary retracing. For (3), please refer to https://www.tensorflow.org/tutorials/customization/performance#python_or_tensor_args and https://www.tensorflow.org/api_docs/python/tf/function for  more details.\n",
      "WARNING:tensorflow:6 out of the last 11 calls to <function Model.make_predict_function.<locals>.predict_function at 0x000002C7CFEA6430> triggered tf.function retracing. Tracing is expensive and the excessive number of tracings could be due to (1) creating @tf.function repeatedly in a loop, (2) passing tensors with different shapes, (3) passing Python objects instead of tensors. For (1), please define your @tf.function outside of the loop. For (2), @tf.function has experimental_relax_shapes=True option that relaxes argument shapes that can avoid unnecessary retracing. For (3), please refer to https://www.tensorflow.org/tutorials/customization/performance#python_or_tensor_args and https://www.tensorflow.org/api_docs/python/tf/function for  more details.\n"
     ]
    },
    {
     "name": "stderr",
     "output_type": "stream",
     "text": [
      "\r",
      " 47%|█████████████████████████████████████▊                                           | 14/30 [21:27<27:30, 103.16s/it]"
     ]
    },
    {
     "name": "stdout",
     "output_type": "stream",
     "text": [
      "WARNING:tensorflow:6 out of the last 11 calls to <function Model.make_predict_function.<locals>.predict_function at 0x000002C8FC131040> triggered tf.function retracing. Tracing is expensive and the excessive number of tracings could be due to (1) creating @tf.function repeatedly in a loop, (2) passing tensors with different shapes, (3) passing Python objects instead of tensors. For (1), please define your @tf.function outside of the loop. For (2), @tf.function has experimental_relax_shapes=True option that relaxes argument shapes that can avoid unnecessary retracing. For (3), please refer to https://www.tensorflow.org/tutorials/customization/performance#python_or_tensor_args and https://www.tensorflow.org/api_docs/python/tf/function for  more details.\n",
      "WARNING:tensorflow:6 out of the last 11 calls to <function Model.make_predict_function.<locals>.predict_function at 0x000002C7FF961700> triggered tf.function retracing. Tracing is expensive and the excessive number of tracings could be due to (1) creating @tf.function repeatedly in a loop, (2) passing tensors with different shapes, (3) passing Python objects instead of tensors. For (1), please define your @tf.function outside of the loop. For (2), @tf.function has experimental_relax_shapes=True option that relaxes argument shapes that can avoid unnecessary retracing. For (3), please refer to https://www.tensorflow.org/tutorials/customization/performance#python_or_tensor_args and https://www.tensorflow.org/api_docs/python/tf/function for  more details.\n",
      "WARNING:tensorflow:6 out of the last 11 calls to <function Model.make_predict_function.<locals>.predict_function at 0x000002C82C0C54C0> triggered tf.function retracing. Tracing is expensive and the excessive number of tracings could be due to (1) creating @tf.function repeatedly in a loop, (2) passing tensors with different shapes, (3) passing Python objects instead of tensors. For (1), please define your @tf.function outside of the loop. For (2), @tf.function has experimental_relax_shapes=True option that relaxes argument shapes that can avoid unnecessary retracing. For (3), please refer to https://www.tensorflow.org/tutorials/customization/performance#python_or_tensor_args and https://www.tensorflow.org/api_docs/python/tf/function for  more details.\n",
      "WARNING:tensorflow:6 out of the last 11 calls to <function Model.make_predict_function.<locals>.predict_function at 0x000002C7AB8F3AF0> triggered tf.function retracing. Tracing is expensive and the excessive number of tracings could be due to (1) creating @tf.function repeatedly in a loop, (2) passing tensors with different shapes, (3) passing Python objects instead of tensors. For (1), please define your @tf.function outside of the loop. For (2), @tf.function has experimental_relax_shapes=True option that relaxes argument shapes that can avoid unnecessary retracing. For (3), please refer to https://www.tensorflow.org/tutorials/customization/performance#python_or_tensor_args and https://www.tensorflow.org/api_docs/python/tf/function for  more details.\n",
      "WARNING:tensorflow:6 out of the last 11 calls to <function Model.make_predict_function.<locals>.predict_function at 0x000002C7FF666D30> triggered tf.function retracing. Tracing is expensive and the excessive number of tracings could be due to (1) creating @tf.function repeatedly in a loop, (2) passing tensors with different shapes, (3) passing Python objects instead of tensors. For (1), please define your @tf.function outside of the loop. For (2), @tf.function has experimental_relax_shapes=True option that relaxes argument shapes that can avoid unnecessary retracing. For (3), please refer to https://www.tensorflow.org/tutorials/customization/performance#python_or_tensor_args and https://www.tensorflow.org/api_docs/python/tf/function for  more details.\n"
     ]
    },
    {
     "name": "stderr",
     "output_type": "stream",
     "text": [
      "\r",
      " 50%|████████████████████████████████████████▌                                        | 15/30 [23:05<25:26, 101.75s/it]"
     ]
    },
    {
     "name": "stdout",
     "output_type": "stream",
     "text": [
      "WARNING:tensorflow:6 out of the last 11 calls to <function Model.make_predict_function.<locals>.predict_function at 0x000002C7DEFDD280> triggered tf.function retracing. Tracing is expensive and the excessive number of tracings could be due to (1) creating @tf.function repeatedly in a loop, (2) passing tensors with different shapes, (3) passing Python objects instead of tensors. For (1), please define your @tf.function outside of the loop. For (2), @tf.function has experimental_relax_shapes=True option that relaxes argument shapes that can avoid unnecessary retracing. For (3), please refer to https://www.tensorflow.org/tutorials/customization/performance#python_or_tensor_args and https://www.tensorflow.org/api_docs/python/tf/function for  more details.\n",
      "WARNING:tensorflow:6 out of the last 11 calls to <function Model.make_predict_function.<locals>.predict_function at 0x000002C78F83AE50> triggered tf.function retracing. Tracing is expensive and the excessive number of tracings could be due to (1) creating @tf.function repeatedly in a loop, (2) passing tensors with different shapes, (3) passing Python objects instead of tensors. For (1), please define your @tf.function outside of the loop. For (2), @tf.function has experimental_relax_shapes=True option that relaxes argument shapes that can avoid unnecessary retracing. For (3), please refer to https://www.tensorflow.org/tutorials/customization/performance#python_or_tensor_args and https://www.tensorflow.org/api_docs/python/tf/function for  more details.\n",
      "WARNING:tensorflow:6 out of the last 11 calls to <function Model.make_predict_function.<locals>.predict_function at 0x000002C7DEFDDD30> triggered tf.function retracing. Tracing is expensive and the excessive number of tracings could be due to (1) creating @tf.function repeatedly in a loop, (2) passing tensors with different shapes, (3) passing Python objects instead of tensors. For (1), please define your @tf.function outside of the loop. For (2), @tf.function has experimental_relax_shapes=True option that relaxes argument shapes that can avoid unnecessary retracing. For (3), please refer to https://www.tensorflow.org/tutorials/customization/performance#python_or_tensor_args and https://www.tensorflow.org/api_docs/python/tf/function for  more details.\n",
      "WARNING:tensorflow:6 out of the last 11 calls to <function Model.make_predict_function.<locals>.predict_function at 0x000002C7AB8F3790> triggered tf.function retracing. Tracing is expensive and the excessive number of tracings could be due to (1) creating @tf.function repeatedly in a loop, (2) passing tensors with different shapes, (3) passing Python objects instead of tensors. For (1), please define your @tf.function outside of the loop. For (2), @tf.function has experimental_relax_shapes=True option that relaxes argument shapes that can avoid unnecessary retracing. For (3), please refer to https://www.tensorflow.org/tutorials/customization/performance#python_or_tensor_args and https://www.tensorflow.org/api_docs/python/tf/function for  more details.\n",
      "WARNING:tensorflow:6 out of the last 11 calls to <function Model.make_predict_function.<locals>.predict_function at 0x000002C7DEEACB80> triggered tf.function retracing. Tracing is expensive and the excessive number of tracings could be due to (1) creating @tf.function repeatedly in a loop, (2) passing tensors with different shapes, (3) passing Python objects instead of tensors. For (1), please define your @tf.function outside of the loop. For (2), @tf.function has experimental_relax_shapes=True option that relaxes argument shapes that can avoid unnecessary retracing. For (3), please refer to https://www.tensorflow.org/tutorials/customization/performance#python_or_tensor_args and https://www.tensorflow.org/api_docs/python/tf/function for  more details.\n"
     ]
    },
    {
     "name": "stderr",
     "output_type": "stream",
     "text": [
      "\r",
      " 53%|███████████████████████████████████████████▏                                     | 16/30 [24:45<23:35, 101.10s/it]"
     ]
    },
    {
     "name": "stdout",
     "output_type": "stream",
     "text": [
      "WARNING:tensorflow:6 out of the last 11 calls to <function Model.make_predict_function.<locals>.predict_function at 0x000002C7AA600550> triggered tf.function retracing. Tracing is expensive and the excessive number of tracings could be due to (1) creating @tf.function repeatedly in a loop, (2) passing tensors with different shapes, (3) passing Python objects instead of tensors. For (1), please define your @tf.function outside of the loop. For (2), @tf.function has experimental_relax_shapes=True option that relaxes argument shapes that can avoid unnecessary retracing. For (3), please refer to https://www.tensorflow.org/tutorials/customization/performance#python_or_tensor_args and https://www.tensorflow.org/api_docs/python/tf/function for  more details.\n",
      "WARNING:tensorflow:6 out of the last 11 calls to <function Model.make_predict_function.<locals>.predict_function at 0x000002C7DEFDD430> triggered tf.function retracing. Tracing is expensive and the excessive number of tracings could be due to (1) creating @tf.function repeatedly in a loop, (2) passing tensors with different shapes, (3) passing Python objects instead of tensors. For (1), please define your @tf.function outside of the loop. For (2), @tf.function has experimental_relax_shapes=True option that relaxes argument shapes that can avoid unnecessary retracing. For (3), please refer to https://www.tensorflow.org/tutorials/customization/performance#python_or_tensor_args and https://www.tensorflow.org/api_docs/python/tf/function for  more details.\n",
      "WARNING:tensorflow:6 out of the last 11 calls to <function Model.make_predict_function.<locals>.predict_function at 0x000002C82C0C5700> triggered tf.function retracing. Tracing is expensive and the excessive number of tracings could be due to (1) creating @tf.function repeatedly in a loop, (2) passing tensors with different shapes, (3) passing Python objects instead of tensors. For (1), please define your @tf.function outside of the loop. For (2), @tf.function has experimental_relax_shapes=True option that relaxes argument shapes that can avoid unnecessary retracing. For (3), please refer to https://www.tensorflow.org/tutorials/customization/performance#python_or_tensor_args and https://www.tensorflow.org/api_docs/python/tf/function for  more details.\n",
      "WARNING:tensorflow:6 out of the last 11 calls to <function Model.make_predict_function.<locals>.predict_function at 0x000002C7879B6790> triggered tf.function retracing. Tracing is expensive and the excessive number of tracings could be due to (1) creating @tf.function repeatedly in a loop, (2) passing tensors with different shapes, (3) passing Python objects instead of tensors. For (1), please define your @tf.function outside of the loop. For (2), @tf.function has experimental_relax_shapes=True option that relaxes argument shapes that can avoid unnecessary retracing. For (3), please refer to https://www.tensorflow.org/tutorials/customization/performance#python_or_tensor_args and https://www.tensorflow.org/api_docs/python/tf/function for  more details.\n",
      "WARNING:tensorflow:6 out of the last 11 calls to <function Model.make_predict_function.<locals>.predict_function at 0x000002C7AA5F3790> triggered tf.function retracing. Tracing is expensive and the excessive number of tracings could be due to (1) creating @tf.function repeatedly in a loop, (2) passing tensors with different shapes, (3) passing Python objects instead of tensors. For (1), please define your @tf.function outside of the loop. For (2), @tf.function has experimental_relax_shapes=True option that relaxes argument shapes that can avoid unnecessary retracing. For (3), please refer to https://www.tensorflow.org/tutorials/customization/performance#python_or_tensor_args and https://www.tensorflow.org/api_docs/python/tf/function for  more details.\n"
     ]
    },
    {
     "name": "stderr",
     "output_type": "stream",
     "text": [
      "\r",
      " 57%|█████████████████████████████████████████████▉                                   | 17/30 [26:32<22:20, 103.09s/it]"
     ]
    },
    {
     "name": "stdout",
     "output_type": "stream",
     "text": [
      "WARNING:tensorflow:6 out of the last 11 calls to <function Model.make_predict_function.<locals>.predict_function at 0x000002C7FF666EE0> triggered tf.function retracing. Tracing is expensive and the excessive number of tracings could be due to (1) creating @tf.function repeatedly in a loop, (2) passing tensors with different shapes, (3) passing Python objects instead of tensors. For (1), please define your @tf.function outside of the loop. For (2), @tf.function has experimental_relax_shapes=True option that relaxes argument shapes that can avoid unnecessary retracing. For (3), please refer to https://www.tensorflow.org/tutorials/customization/performance#python_or_tensor_args and https://www.tensorflow.org/api_docs/python/tf/function for  more details.\n",
      "WARNING:tensorflow:6 out of the last 11 calls to <function Model.make_predict_function.<locals>.predict_function at 0x000002C7DEFDDB80> triggered tf.function retracing. Tracing is expensive and the excessive number of tracings could be due to (1) creating @tf.function repeatedly in a loop, (2) passing tensors with different shapes, (3) passing Python objects instead of tensors. For (1), please define your @tf.function outside of the loop. For (2), @tf.function has experimental_relax_shapes=True option that relaxes argument shapes that can avoid unnecessary retracing. For (3), please refer to https://www.tensorflow.org/tutorials/customization/performance#python_or_tensor_args and https://www.tensorflow.org/api_docs/python/tf/function for  more details.\n",
      "WARNING:tensorflow:6 out of the last 11 calls to <function Model.make_predict_function.<locals>.predict_function at 0x000002C82C0C5670> triggered tf.function retracing. Tracing is expensive and the excessive number of tracings could be due to (1) creating @tf.function repeatedly in a loop, (2) passing tensors with different shapes, (3) passing Python objects instead of tensors. For (1), please define your @tf.function outside of the loop. For (2), @tf.function has experimental_relax_shapes=True option that relaxes argument shapes that can avoid unnecessary retracing. For (3), please refer to https://www.tensorflow.org/tutorials/customization/performance#python_or_tensor_args and https://www.tensorflow.org/api_docs/python/tf/function for  more details.\n",
      "WARNING:tensorflow:6 out of the last 11 calls to <function Model.make_predict_function.<locals>.predict_function at 0x000002C7AA600160> triggered tf.function retracing. Tracing is expensive and the excessive number of tracings could be due to (1) creating @tf.function repeatedly in a loop, (2) passing tensors with different shapes, (3) passing Python objects instead of tensors. For (1), please define your @tf.function outside of the loop. For (2), @tf.function has experimental_relax_shapes=True option that relaxes argument shapes that can avoid unnecessary retracing. For (3), please refer to https://www.tensorflow.org/tutorials/customization/performance#python_or_tensor_args and https://www.tensorflow.org/api_docs/python/tf/function for  more details.\n",
      "WARNING:tensorflow:6 out of the last 11 calls to <function Model.make_predict_function.<locals>.predict_function at 0x000002C78A76CA60> triggered tf.function retracing. Tracing is expensive and the excessive number of tracings could be due to (1) creating @tf.function repeatedly in a loop, (2) passing tensors with different shapes, (3) passing Python objects instead of tensors. For (1), please define your @tf.function outside of the loop. For (2), @tf.function has experimental_relax_shapes=True option that relaxes argument shapes that can avoid unnecessary retracing. For (3), please refer to https://www.tensorflow.org/tutorials/customization/performance#python_or_tensor_args and https://www.tensorflow.org/api_docs/python/tf/function for  more details.\n"
     ]
    },
    {
     "name": "stderr",
     "output_type": "stream",
     "text": [
      "\r",
      " 60%|████████████████████████████████████████████████▌                                | 18/30 [28:23<21:03, 105.32s/it]"
     ]
    },
    {
     "name": "stdout",
     "output_type": "stream",
     "text": [
      "WARNING:tensorflow:6 out of the last 11 calls to <function Model.make_predict_function.<locals>.predict_function at 0x000002C7AB8F3D30> triggered tf.function retracing. Tracing is expensive and the excessive number of tracings could be due to (1) creating @tf.function repeatedly in a loop, (2) passing tensors with different shapes, (3) passing Python objects instead of tensors. For (1), please define your @tf.function outside of the loop. For (2), @tf.function has experimental_relax_shapes=True option that relaxes argument shapes that can avoid unnecessary retracing. For (3), please refer to https://www.tensorflow.org/tutorials/customization/performance#python_or_tensor_args and https://www.tensorflow.org/api_docs/python/tf/function for  more details.\n",
      "WARNING:tensorflow:6 out of the last 11 calls to <function Model.make_predict_function.<locals>.predict_function at 0x000002C78A5D18B0> triggered tf.function retracing. Tracing is expensive and the excessive number of tracings could be due to (1) creating @tf.function repeatedly in a loop, (2) passing tensors with different shapes, (3) passing Python objects instead of tensors. For (1), please define your @tf.function outside of the loop. For (2), @tf.function has experimental_relax_shapes=True option that relaxes argument shapes that can avoid unnecessary retracing. For (3), please refer to https://www.tensorflow.org/tutorials/customization/performance#python_or_tensor_args and https://www.tensorflow.org/api_docs/python/tf/function for  more details.\n",
      "WARNING:tensorflow:6 out of the last 11 calls to <function Model.make_predict_function.<locals>.predict_function at 0x000002C7DEFDD0D0> triggered tf.function retracing. Tracing is expensive and the excessive number of tracings could be due to (1) creating @tf.function repeatedly in a loop, (2) passing tensors with different shapes, (3) passing Python objects instead of tensors. For (1), please define your @tf.function outside of the loop. For (2), @tf.function has experimental_relax_shapes=True option that relaxes argument shapes that can avoid unnecessary retracing. For (3), please refer to https://www.tensorflow.org/tutorials/customization/performance#python_or_tensor_args and https://www.tensorflow.org/api_docs/python/tf/function for  more details.\n",
      "WARNING:tensorflow:6 out of the last 11 calls to <function Model.make_predict_function.<locals>.predict_function at 0x000002C7ADFD0EE0> triggered tf.function retracing. Tracing is expensive and the excessive number of tracings could be due to (1) creating @tf.function repeatedly in a loop, (2) passing tensors with different shapes, (3) passing Python objects instead of tensors. For (1), please define your @tf.function outside of the loop. For (2), @tf.function has experimental_relax_shapes=True option that relaxes argument shapes that can avoid unnecessary retracing. For (3), please refer to https://www.tensorflow.org/tutorials/customization/performance#python_or_tensor_args and https://www.tensorflow.org/api_docs/python/tf/function for  more details.\n",
      "WARNING:tensorflow:6 out of the last 11 calls to <function Model.make_predict_function.<locals>.predict_function at 0x000002C78A5D1430> triggered tf.function retracing. Tracing is expensive and the excessive number of tracings could be due to (1) creating @tf.function repeatedly in a loop, (2) passing tensors with different shapes, (3) passing Python objects instead of tensors. For (1), please define your @tf.function outside of the loop. For (2), @tf.function has experimental_relax_shapes=True option that relaxes argument shapes that can avoid unnecessary retracing. For (3), please refer to https://www.tensorflow.org/tutorials/customization/performance#python_or_tensor_args and https://www.tensorflow.org/api_docs/python/tf/function for  more details.\n"
     ]
    },
    {
     "name": "stderr",
     "output_type": "stream",
     "text": [
      "\r",
      " 63%|███████████████████████████████████████████████████▎                             | 19/30 [30:12<19:31, 106.54s/it]"
     ]
    },
    {
     "name": "stdout",
     "output_type": "stream",
     "text": [
      "WARNING:tensorflow:6 out of the last 11 calls to <function Model.make_predict_function.<locals>.predict_function at 0x000002C7AB8F39D0> triggered tf.function retracing. Tracing is expensive and the excessive number of tracings could be due to (1) creating @tf.function repeatedly in a loop, (2) passing tensors with different shapes, (3) passing Python objects instead of tensors. For (1), please define your @tf.function outside of the loop. For (2), @tf.function has experimental_relax_shapes=True option that relaxes argument shapes that can avoid unnecessary retracing. For (3), please refer to https://www.tensorflow.org/tutorials/customization/performance#python_or_tensor_args and https://www.tensorflow.org/api_docs/python/tf/function for  more details.\n",
      "WARNING:tensorflow:6 out of the last 11 calls to <function Model.make_predict_function.<locals>.predict_function at 0x000002C7B2A908B0> triggered tf.function retracing. Tracing is expensive and the excessive number of tracings could be due to (1) creating @tf.function repeatedly in a loop, (2) passing tensors with different shapes, (3) passing Python objects instead of tensors. For (1), please define your @tf.function outside of the loop. For (2), @tf.function has experimental_relax_shapes=True option that relaxes argument shapes that can avoid unnecessary retracing. For (3), please refer to https://www.tensorflow.org/tutorials/customization/performance#python_or_tensor_args and https://www.tensorflow.org/api_docs/python/tf/function for  more details.\n",
      "WARNING:tensorflow:6 out of the last 11 calls to <function Model.make_predict_function.<locals>.predict_function at 0x000002C7CFEA6DC0> triggered tf.function retracing. Tracing is expensive and the excessive number of tracings could be due to (1) creating @tf.function repeatedly in a loop, (2) passing tensors with different shapes, (3) passing Python objects instead of tensors. For (1), please define your @tf.function outside of the loop. For (2), @tf.function has experimental_relax_shapes=True option that relaxes argument shapes that can avoid unnecessary retracing. For (3), please refer to https://www.tensorflow.org/tutorials/customization/performance#python_or_tensor_args and https://www.tensorflow.org/api_docs/python/tf/function for  more details.\n",
      "WARNING:tensorflow:6 out of the last 11 calls to <function Model.make_predict_function.<locals>.predict_function at 0x000002C7ADFD01F0> triggered tf.function retracing. Tracing is expensive and the excessive number of tracings could be due to (1) creating @tf.function repeatedly in a loop, (2) passing tensors with different shapes, (3) passing Python objects instead of tensors. For (1), please define your @tf.function outside of the loop. For (2), @tf.function has experimental_relax_shapes=True option that relaxes argument shapes that can avoid unnecessary retracing. For (3), please refer to https://www.tensorflow.org/tutorials/customization/performance#python_or_tensor_args and https://www.tensorflow.org/api_docs/python/tf/function for  more details.\n",
      "WARNING:tensorflow:6 out of the last 11 calls to <function Model.make_predict_function.<locals>.predict_function at 0x000002C7DEFDDAF0> triggered tf.function retracing. Tracing is expensive and the excessive number of tracings could be due to (1) creating @tf.function repeatedly in a loop, (2) passing tensors with different shapes, (3) passing Python objects instead of tensors. For (1), please define your @tf.function outside of the loop. For (2), @tf.function has experimental_relax_shapes=True option that relaxes argument shapes that can avoid unnecessary retracing. For (3), please refer to https://www.tensorflow.org/tutorials/customization/performance#python_or_tensor_args and https://www.tensorflow.org/api_docs/python/tf/function for  more details.\n"
     ]
    },
    {
     "name": "stderr",
     "output_type": "stream",
     "text": [
      "\r",
      " 67%|██████████████████████████████████████████████████████                           | 20/30 [31:57<17:39, 105.96s/it]"
     ]
    },
    {
     "name": "stdout",
     "output_type": "stream",
     "text": [
      "WARNING:tensorflow:6 out of the last 11 calls to <function Model.make_predict_function.<locals>.predict_function at 0x000002C7C7FF51F0> triggered tf.function retracing. Tracing is expensive and the excessive number of tracings could be due to (1) creating @tf.function repeatedly in a loop, (2) passing tensors with different shapes, (3) passing Python objects instead of tensors. For (1), please define your @tf.function outside of the loop. For (2), @tf.function has experimental_relax_shapes=True option that relaxes argument shapes that can avoid unnecessary retracing. For (3), please refer to https://www.tensorflow.org/tutorials/customization/performance#python_or_tensor_args and https://www.tensorflow.org/api_docs/python/tf/function for  more details.\n",
      "WARNING:tensorflow:6 out of the last 11 calls to <function Model.make_predict_function.<locals>.predict_function at 0x000002C7ADFD0670> triggered tf.function retracing. Tracing is expensive and the excessive number of tracings could be due to (1) creating @tf.function repeatedly in a loop, (2) passing tensors with different shapes, (3) passing Python objects instead of tensors. For (1), please define your @tf.function outside of the loop. For (2), @tf.function has experimental_relax_shapes=True option that relaxes argument shapes that can avoid unnecessary retracing. For (3), please refer to https://www.tensorflow.org/tutorials/customization/performance#python_or_tensor_args and https://www.tensorflow.org/api_docs/python/tf/function for  more details.\n",
      "WARNING:tensorflow:6 out of the last 11 calls to <function Model.make_predict_function.<locals>.predict_function at 0x000002C7CFEA6670> triggered tf.function retracing. Tracing is expensive and the excessive number of tracings could be due to (1) creating @tf.function repeatedly in a loop, (2) passing tensors with different shapes, (3) passing Python objects instead of tensors. For (1), please define your @tf.function outside of the loop. For (2), @tf.function has experimental_relax_shapes=True option that relaxes argument shapes that can avoid unnecessary retracing. For (3), please refer to https://www.tensorflow.org/tutorials/customization/performance#python_or_tensor_args and https://www.tensorflow.org/api_docs/python/tf/function for  more details.\n",
      "WARNING:tensorflow:6 out of the last 11 calls to <function Model.make_predict_function.<locals>.predict_function at 0x000002C7FF961670> triggered tf.function retracing. Tracing is expensive and the excessive number of tracings could be due to (1) creating @tf.function repeatedly in a loop, (2) passing tensors with different shapes, (3) passing Python objects instead of tensors. For (1), please define your @tf.function outside of the loop. For (2), @tf.function has experimental_relax_shapes=True option that relaxes argument shapes that can avoid unnecessary retracing. For (3), please refer to https://www.tensorflow.org/tutorials/customization/performance#python_or_tensor_args and https://www.tensorflow.org/api_docs/python/tf/function for  more details.\n",
      "WARNING:tensorflow:6 out of the last 11 calls to <function Model.make_predict_function.<locals>.predict_function at 0x000002C7C7FF5D30> triggered tf.function retracing. Tracing is expensive and the excessive number of tracings could be due to (1) creating @tf.function repeatedly in a loop, (2) passing tensors with different shapes, (3) passing Python objects instead of tensors. For (1), please define your @tf.function outside of the loop. For (2), @tf.function has experimental_relax_shapes=True option that relaxes argument shapes that can avoid unnecessary retracing. For (3), please refer to https://www.tensorflow.org/tutorials/customization/performance#python_or_tensor_args and https://www.tensorflow.org/api_docs/python/tf/function for  more details.\n"
     ]
    },
    {
     "name": "stderr",
     "output_type": "stream",
     "text": [
      "\r",
      " 70%|████████████████████████████████████████████████████████▋                        | 21/30 [33:41<15:49, 105.49s/it]"
     ]
    },
    {
     "name": "stdout",
     "output_type": "stream",
     "text": [
      "WARNING:tensorflow:6 out of the last 11 calls to <function Model.make_predict_function.<locals>.predict_function at 0x000002C7CFEA6550> triggered tf.function retracing. Tracing is expensive and the excessive number of tracings could be due to (1) creating @tf.function repeatedly in a loop, (2) passing tensors with different shapes, (3) passing Python objects instead of tensors. For (1), please define your @tf.function outside of the loop. For (2), @tf.function has experimental_relax_shapes=True option that relaxes argument shapes that can avoid unnecessary retracing. For (3), please refer to https://www.tensorflow.org/tutorials/customization/performance#python_or_tensor_args and https://www.tensorflow.org/api_docs/python/tf/function for  more details.\n",
      "WARNING:tensorflow:6 out of the last 11 calls to <function Model.make_predict_function.<locals>.predict_function at 0x000002C78A76C8B0> triggered tf.function retracing. Tracing is expensive and the excessive number of tracings could be due to (1) creating @tf.function repeatedly in a loop, (2) passing tensors with different shapes, (3) passing Python objects instead of tensors. For (1), please define your @tf.function outside of the loop. For (2), @tf.function has experimental_relax_shapes=True option that relaxes argument shapes that can avoid unnecessary retracing. For (3), please refer to https://www.tensorflow.org/tutorials/customization/performance#python_or_tensor_args and https://www.tensorflow.org/api_docs/python/tf/function for  more details.\n",
      "WARNING:tensorflow:6 out of the last 11 calls to <function Model.make_predict_function.<locals>.predict_function at 0x000002C7AA5F3670> triggered tf.function retracing. Tracing is expensive and the excessive number of tracings could be due to (1) creating @tf.function repeatedly in a loop, (2) passing tensors with different shapes, (3) passing Python objects instead of tensors. For (1), please define your @tf.function outside of the loop. For (2), @tf.function has experimental_relax_shapes=True option that relaxes argument shapes that can avoid unnecessary retracing. For (3), please refer to https://www.tensorflow.org/tutorials/customization/performance#python_or_tensor_args and https://www.tensorflow.org/api_docs/python/tf/function for  more details.\n",
      "WARNING:tensorflow:6 out of the last 11 calls to <function Model.make_predict_function.<locals>.predict_function at 0x000002C7AA69A3A0> triggered tf.function retracing. Tracing is expensive and the excessive number of tracings could be due to (1) creating @tf.function repeatedly in a loop, (2) passing tensors with different shapes, (3) passing Python objects instead of tensors. For (1), please define your @tf.function outside of the loop. For (2), @tf.function has experimental_relax_shapes=True option that relaxes argument shapes that can avoid unnecessary retracing. For (3), please refer to https://www.tensorflow.org/tutorials/customization/performance#python_or_tensor_args and https://www.tensorflow.org/api_docs/python/tf/function for  more details.\n",
      "WARNING:tensorflow:6 out of the last 11 calls to <function Model.make_predict_function.<locals>.predict_function at 0x000002C7B2A90F70> triggered tf.function retracing. Tracing is expensive and the excessive number of tracings could be due to (1) creating @tf.function repeatedly in a loop, (2) passing tensors with different shapes, (3) passing Python objects instead of tensors. For (1), please define your @tf.function outside of the loop. For (2), @tf.function has experimental_relax_shapes=True option that relaxes argument shapes that can avoid unnecessary retracing. For (3), please refer to https://www.tensorflow.org/tutorials/customization/performance#python_or_tensor_args and https://www.tensorflow.org/api_docs/python/tf/function for  more details.\n"
     ]
    },
    {
     "name": "stderr",
     "output_type": "stream",
     "text": [
      "\r",
      " 73%|███████████████████████████████████████████████████████████▍                     | 22/30 [35:27<14:03, 105.49s/it]"
     ]
    },
    {
     "name": "stdout",
     "output_type": "stream",
     "text": [
      "WARNING:tensorflow:6 out of the last 11 calls to <function Model.make_predict_function.<locals>.predict_function at 0x000002C7AB3225E0> triggered tf.function retracing. Tracing is expensive and the excessive number of tracings could be due to (1) creating @tf.function repeatedly in a loop, (2) passing tensors with different shapes, (3) passing Python objects instead of tensors. For (1), please define your @tf.function outside of the loop. For (2), @tf.function has experimental_relax_shapes=True option that relaxes argument shapes that can avoid unnecessary retracing. For (3), please refer to https://www.tensorflow.org/tutorials/customization/performance#python_or_tensor_args and https://www.tensorflow.org/api_docs/python/tf/function for  more details.\n",
      "WARNING:tensorflow:6 out of the last 11 calls to <function Model.make_predict_function.<locals>.predict_function at 0x000002C7AA5F39D0> triggered tf.function retracing. Tracing is expensive and the excessive number of tracings could be due to (1) creating @tf.function repeatedly in a loop, (2) passing tensors with different shapes, (3) passing Python objects instead of tensors. For (1), please define your @tf.function outside of the loop. For (2), @tf.function has experimental_relax_shapes=True option that relaxes argument shapes that can avoid unnecessary retracing. For (3), please refer to https://www.tensorflow.org/tutorials/customization/performance#python_or_tensor_args and https://www.tensorflow.org/api_docs/python/tf/function for  more details.\n",
      "WARNING:tensorflow:6 out of the last 11 calls to <function Model.make_predict_function.<locals>.predict_function at 0x000002C7ADFD0280> triggered tf.function retracing. Tracing is expensive and the excessive number of tracings could be due to (1) creating @tf.function repeatedly in a loop, (2) passing tensors with different shapes, (3) passing Python objects instead of tensors. For (1), please define your @tf.function outside of the loop. For (2), @tf.function has experimental_relax_shapes=True option that relaxes argument shapes that can avoid unnecessary retracing. For (3), please refer to https://www.tensorflow.org/tutorials/customization/performance#python_or_tensor_args and https://www.tensorflow.org/api_docs/python/tf/function for  more details.\n",
      "WARNING:tensorflow:6 out of the last 11 calls to <function Model.make_predict_function.<locals>.predict_function at 0x000002C82C0C5670> triggered tf.function retracing. Tracing is expensive and the excessive number of tracings could be due to (1) creating @tf.function repeatedly in a loop, (2) passing tensors with different shapes, (3) passing Python objects instead of tensors. For (1), please define your @tf.function outside of the loop. For (2), @tf.function has experimental_relax_shapes=True option that relaxes argument shapes that can avoid unnecessary retracing. For (3), please refer to https://www.tensorflow.org/tutorials/customization/performance#python_or_tensor_args and https://www.tensorflow.org/api_docs/python/tf/function for  more details.\n",
      "WARNING:tensorflow:6 out of the last 11 calls to <function Model.make_predict_function.<locals>.predict_function at 0x000002C7DEFDD280> triggered tf.function retracing. Tracing is expensive and the excessive number of tracings could be due to (1) creating @tf.function repeatedly in a loop, (2) passing tensors with different shapes, (3) passing Python objects instead of tensors. For (1), please define your @tf.function outside of the loop. For (2), @tf.function has experimental_relax_shapes=True option that relaxes argument shapes that can avoid unnecessary retracing. For (3), please refer to https://www.tensorflow.org/tutorials/customization/performance#python_or_tensor_args and https://www.tensorflow.org/api_docs/python/tf/function for  more details.\n"
     ]
    },
    {
     "name": "stderr",
     "output_type": "stream",
     "text": [
      "\r",
      " 77%|██████████████████████████████████████████████████████████████                   | 23/30 [37:13<12:20, 105.80s/it]"
     ]
    },
    {
     "name": "stdout",
     "output_type": "stream",
     "text": [
      "WARNING:tensorflow:6 out of the last 11 calls to <function Model.make_predict_function.<locals>.predict_function at 0x000002C7AB322550> triggered tf.function retracing. Tracing is expensive and the excessive number of tracings could be due to (1) creating @tf.function repeatedly in a loop, (2) passing tensors with different shapes, (3) passing Python objects instead of tensors. For (1), please define your @tf.function outside of the loop. For (2), @tf.function has experimental_relax_shapes=True option that relaxes argument shapes that can avoid unnecessary retracing. For (3), please refer to https://www.tensorflow.org/tutorials/customization/performance#python_or_tensor_args and https://www.tensorflow.org/api_docs/python/tf/function for  more details.\n",
      "WARNING:tensorflow:6 out of the last 11 calls to <function Model.make_predict_function.<locals>.predict_function at 0x000002C7AB732040> triggered tf.function retracing. Tracing is expensive and the excessive number of tracings could be due to (1) creating @tf.function repeatedly in a loop, (2) passing tensors with different shapes, (3) passing Python objects instead of tensors. For (1), please define your @tf.function outside of the loop. For (2), @tf.function has experimental_relax_shapes=True option that relaxes argument shapes that can avoid unnecessary retracing. For (3), please refer to https://www.tensorflow.org/tutorials/customization/performance#python_or_tensor_args and https://www.tensorflow.org/api_docs/python/tf/function for  more details.\n",
      "WARNING:tensorflow:6 out of the last 11 calls to <function Model.make_predict_function.<locals>.predict_function at 0x000002C7AA600EE0> triggered tf.function retracing. Tracing is expensive and the excessive number of tracings could be due to (1) creating @tf.function repeatedly in a loop, (2) passing tensors with different shapes, (3) passing Python objects instead of tensors. For (1), please define your @tf.function outside of the loop. For (2), @tf.function has experimental_relax_shapes=True option that relaxes argument shapes that can avoid unnecessary retracing. For (3), please refer to https://www.tensorflow.org/tutorials/customization/performance#python_or_tensor_args and https://www.tensorflow.org/api_docs/python/tf/function for  more details.\n",
      "WARNING:tensorflow:6 out of the last 11 calls to <function Model.make_predict_function.<locals>.predict_function at 0x000002C7DEEAC790> triggered tf.function retracing. Tracing is expensive and the excessive number of tracings could be due to (1) creating @tf.function repeatedly in a loop, (2) passing tensors with different shapes, (3) passing Python objects instead of tensors. For (1), please define your @tf.function outside of the loop. For (2), @tf.function has experimental_relax_shapes=True option that relaxes argument shapes that can avoid unnecessary retracing. For (3), please refer to https://www.tensorflow.org/tutorials/customization/performance#python_or_tensor_args and https://www.tensorflow.org/api_docs/python/tf/function for  more details.\n",
      "WARNING:tensorflow:6 out of the last 11 calls to <function Model.make_predict_function.<locals>.predict_function at 0x000002C7AA600160> triggered tf.function retracing. Tracing is expensive and the excessive number of tracings could be due to (1) creating @tf.function repeatedly in a loop, (2) passing tensors with different shapes, (3) passing Python objects instead of tensors. For (1), please define your @tf.function outside of the loop. For (2), @tf.function has experimental_relax_shapes=True option that relaxes argument shapes that can avoid unnecessary retracing. For (3), please refer to https://www.tensorflow.org/tutorials/customization/performance#python_or_tensor_args and https://www.tensorflow.org/api_docs/python/tf/function for  more details.\n"
     ]
    },
    {
     "name": "stderr",
     "output_type": "stream",
     "text": [
      "\r",
      " 80%|████████████████████████████████████████████████████████████████▊                | 24/30 [39:05<10:44, 107.47s/it]"
     ]
    },
    {
     "name": "stdout",
     "output_type": "stream",
     "text": [
      "WARNING:tensorflow:6 out of the last 11 calls to <function Model.make_predict_function.<locals>.predict_function at 0x000002C78A5D1670> triggered tf.function retracing. Tracing is expensive and the excessive number of tracings could be due to (1) creating @tf.function repeatedly in a loop, (2) passing tensors with different shapes, (3) passing Python objects instead of tensors. For (1), please define your @tf.function outside of the loop. For (2), @tf.function has experimental_relax_shapes=True option that relaxes argument shapes that can avoid unnecessary retracing. For (3), please refer to https://www.tensorflow.org/tutorials/customization/performance#python_or_tensor_args and https://www.tensorflow.org/api_docs/python/tf/function for  more details.\n",
      "WARNING:tensorflow:6 out of the last 11 calls to <function Model.make_predict_function.<locals>.predict_function at 0x000002C7CFEA60D0> triggered tf.function retracing. Tracing is expensive and the excessive number of tracings could be due to (1) creating @tf.function repeatedly in a loop, (2) passing tensors with different shapes, (3) passing Python objects instead of tensors. For (1), please define your @tf.function outside of the loop. For (2), @tf.function has experimental_relax_shapes=True option that relaxes argument shapes that can avoid unnecessary retracing. For (3), please refer to https://www.tensorflow.org/tutorials/customization/performance#python_or_tensor_args and https://www.tensorflow.org/api_docs/python/tf/function for  more details.\n",
      "WARNING:tensorflow:6 out of the last 11 calls to <function Model.make_predict_function.<locals>.predict_function at 0x000002C7AB7324C0> triggered tf.function retracing. Tracing is expensive and the excessive number of tracings could be due to (1) creating @tf.function repeatedly in a loop, (2) passing tensors with different shapes, (3) passing Python objects instead of tensors. For (1), please define your @tf.function outside of the loop. For (2), @tf.function has experimental_relax_shapes=True option that relaxes argument shapes that can avoid unnecessary retracing. For (3), please refer to https://www.tensorflow.org/tutorials/customization/performance#python_or_tensor_args and https://www.tensorflow.org/api_docs/python/tf/function for  more details.\n",
      "WARNING:tensorflow:6 out of the last 11 calls to <function Model.make_predict_function.<locals>.predict_function at 0x000002C7AA5F3670> triggered tf.function retracing. Tracing is expensive and the excessive number of tracings could be due to (1) creating @tf.function repeatedly in a loop, (2) passing tensors with different shapes, (3) passing Python objects instead of tensors. For (1), please define your @tf.function outside of the loop. For (2), @tf.function has experimental_relax_shapes=True option that relaxes argument shapes that can avoid unnecessary retracing. For (3), please refer to https://www.tensorflow.org/tutorials/customization/performance#python_or_tensor_args and https://www.tensorflow.org/api_docs/python/tf/function for  more details.\n",
      "WARNING:tensorflow:6 out of the last 11 calls to <function Model.make_predict_function.<locals>.predict_function at 0x000002C7AB732940> triggered tf.function retracing. Tracing is expensive and the excessive number of tracings could be due to (1) creating @tf.function repeatedly in a loop, (2) passing tensors with different shapes, (3) passing Python objects instead of tensors. For (1), please define your @tf.function outside of the loop. For (2), @tf.function has experimental_relax_shapes=True option that relaxes argument shapes that can avoid unnecessary retracing. For (3), please refer to https://www.tensorflow.org/tutorials/customization/performance#python_or_tensor_args and https://www.tensorflow.org/api_docs/python/tf/function for  more details.\n"
     ]
    },
    {
     "name": "stderr",
     "output_type": "stream",
     "text": [
      "\r",
      " 83%|███████████████████████████████████████████████████████████████████▌             | 25/30 [41:20<09:39, 115.91s/it]"
     ]
    },
    {
     "name": "stdout",
     "output_type": "stream",
     "text": [
      "WARNING:tensorflow:6 out of the last 11 calls to <function Model.make_predict_function.<locals>.predict_function at 0x000002C7DEFDDD30> triggered tf.function retracing. Tracing is expensive and the excessive number of tracings could be due to (1) creating @tf.function repeatedly in a loop, (2) passing tensors with different shapes, (3) passing Python objects instead of tensors. For (1), please define your @tf.function outside of the loop. For (2), @tf.function has experimental_relax_shapes=True option that relaxes argument shapes that can avoid unnecessary retracing. For (3), please refer to https://www.tensorflow.org/tutorials/customization/performance#python_or_tensor_args and https://www.tensorflow.org/api_docs/python/tf/function for  more details.\n",
      "WARNING:tensorflow:6 out of the last 11 calls to <function Model.make_predict_function.<locals>.predict_function at 0x000002C7AA600DC0> triggered tf.function retracing. Tracing is expensive and the excessive number of tracings could be due to (1) creating @tf.function repeatedly in a loop, (2) passing tensors with different shapes, (3) passing Python objects instead of tensors. For (1), please define your @tf.function outside of the loop. For (2), @tf.function has experimental_relax_shapes=True option that relaxes argument shapes that can avoid unnecessary retracing. For (3), please refer to https://www.tensorflow.org/tutorials/customization/performance#python_or_tensor_args and https://www.tensorflow.org/api_docs/python/tf/function for  more details.\n",
      "WARNING:tensorflow:6 out of the last 11 calls to <function Model.make_predict_function.<locals>.predict_function at 0x000002C7ADFD0790> triggered tf.function retracing. Tracing is expensive and the excessive number of tracings could be due to (1) creating @tf.function repeatedly in a loop, (2) passing tensors with different shapes, (3) passing Python objects instead of tensors. For (1), please define your @tf.function outside of the loop. For (2), @tf.function has experimental_relax_shapes=True option that relaxes argument shapes that can avoid unnecessary retracing. For (3), please refer to https://www.tensorflow.org/tutorials/customization/performance#python_or_tensor_args and https://www.tensorflow.org/api_docs/python/tf/function for  more details.\n",
      "WARNING:tensorflow:6 out of the last 11 calls to <function Model.make_predict_function.<locals>.predict_function at 0x000002C78F83A820> triggered tf.function retracing. Tracing is expensive and the excessive number of tracings could be due to (1) creating @tf.function repeatedly in a loop, (2) passing tensors with different shapes, (3) passing Python objects instead of tensors. For (1), please define your @tf.function outside of the loop. For (2), @tf.function has experimental_relax_shapes=True option that relaxes argument shapes that can avoid unnecessary retracing. For (3), please refer to https://www.tensorflow.org/tutorials/customization/performance#python_or_tensor_args and https://www.tensorflow.org/api_docs/python/tf/function for  more details.\n",
      "WARNING:tensorflow:6 out of the last 11 calls to <function Model.make_predict_function.<locals>.predict_function at 0x000002C7DEEAC0D0> triggered tf.function retracing. Tracing is expensive and the excessive number of tracings could be due to (1) creating @tf.function repeatedly in a loop, (2) passing tensors with different shapes, (3) passing Python objects instead of tensors. For (1), please define your @tf.function outside of the loop. For (2), @tf.function has experimental_relax_shapes=True option that relaxes argument shapes that can avoid unnecessary retracing. For (3), please refer to https://www.tensorflow.org/tutorials/customization/performance#python_or_tensor_args and https://www.tensorflow.org/api_docs/python/tf/function for  more details.\n"
     ]
    },
    {
     "name": "stderr",
     "output_type": "stream",
     "text": [
      "\r",
      " 87%|██████████████████████████████████████████████████████████████████████▏          | 26/30 [43:45<08:18, 124.65s/it]"
     ]
    },
    {
     "name": "stdout",
     "output_type": "stream",
     "text": [
      "WARNING:tensorflow:6 out of the last 11 calls to <function Model.make_predict_function.<locals>.predict_function at 0x000002C8FC1318B0> triggered tf.function retracing. Tracing is expensive and the excessive number of tracings could be due to (1) creating @tf.function repeatedly in a loop, (2) passing tensors with different shapes, (3) passing Python objects instead of tensors. For (1), please define your @tf.function outside of the loop. For (2), @tf.function has experimental_relax_shapes=True option that relaxes argument shapes that can avoid unnecessary retracing. For (3), please refer to https://www.tensorflow.org/tutorials/customization/performance#python_or_tensor_args and https://www.tensorflow.org/api_docs/python/tf/function for  more details.\n",
      "WARNING:tensorflow:6 out of the last 11 calls to <function Model.make_predict_function.<locals>.predict_function at 0x000002C7AA69A430> triggered tf.function retracing. Tracing is expensive and the excessive number of tracings could be due to (1) creating @tf.function repeatedly in a loop, (2) passing tensors with different shapes, (3) passing Python objects instead of tensors. For (1), please define your @tf.function outside of the loop. For (2), @tf.function has experimental_relax_shapes=True option that relaxes argument shapes that can avoid unnecessary retracing. For (3), please refer to https://www.tensorflow.org/tutorials/customization/performance#python_or_tensor_args and https://www.tensorflow.org/api_docs/python/tf/function for  more details.\n",
      "WARNING:tensorflow:6 out of the last 11 calls to <function Model.make_predict_function.<locals>.predict_function at 0x000002C7AB8F3790> triggered tf.function retracing. Tracing is expensive and the excessive number of tracings could be due to (1) creating @tf.function repeatedly in a loop, (2) passing tensors with different shapes, (3) passing Python objects instead of tensors. For (1), please define your @tf.function outside of the loop. For (2), @tf.function has experimental_relax_shapes=True option that relaxes argument shapes that can avoid unnecessary retracing. For (3), please refer to https://www.tensorflow.org/tutorials/customization/performance#python_or_tensor_args and https://www.tensorflow.org/api_docs/python/tf/function for  more details.\n",
      "WARNING:tensorflow:6 out of the last 11 calls to <function Model.make_predict_function.<locals>.predict_function at 0x000002C7CFEA6C10> triggered tf.function retracing. Tracing is expensive and the excessive number of tracings could be due to (1) creating @tf.function repeatedly in a loop, (2) passing tensors with different shapes, (3) passing Python objects instead of tensors. For (1), please define your @tf.function outside of the loop. For (2), @tf.function has experimental_relax_shapes=True option that relaxes argument shapes that can avoid unnecessary retracing. For (3), please refer to https://www.tensorflow.org/tutorials/customization/performance#python_or_tensor_args and https://www.tensorflow.org/api_docs/python/tf/function for  more details.\n",
      "WARNING:tensorflow:6 out of the last 11 calls to <function Model.make_predict_function.<locals>.predict_function at 0x000002C7B30EBCA0> triggered tf.function retracing. Tracing is expensive and the excessive number of tracings could be due to (1) creating @tf.function repeatedly in a loop, (2) passing tensors with different shapes, (3) passing Python objects instead of tensors. For (1), please define your @tf.function outside of the loop. For (2), @tf.function has experimental_relax_shapes=True option that relaxes argument shapes that can avoid unnecessary retracing. For (3), please refer to https://www.tensorflow.org/tutorials/customization/performance#python_or_tensor_args and https://www.tensorflow.org/api_docs/python/tf/function for  more details.\n"
     ]
    },
    {
     "name": "stderr",
     "output_type": "stream",
     "text": [
      "\r",
      " 90%|████████████████████████████████████████████████████████████████████████▉        | 27/30 [46:08<06:29, 129.97s/it]"
     ]
    },
    {
     "name": "stdout",
     "output_type": "stream",
     "text": [
      "WARNING:tensorflow:6 out of the last 11 calls to <function Model.make_predict_function.<locals>.predict_function at 0x000002C7EC7ABCA0> triggered tf.function retracing. Tracing is expensive and the excessive number of tracings could be due to (1) creating @tf.function repeatedly in a loop, (2) passing tensors with different shapes, (3) passing Python objects instead of tensors. For (1), please define your @tf.function outside of the loop. For (2), @tf.function has experimental_relax_shapes=True option that relaxes argument shapes that can avoid unnecessary retracing. For (3), please refer to https://www.tensorflow.org/tutorials/customization/performance#python_or_tensor_args and https://www.tensorflow.org/api_docs/python/tf/function for  more details.\n",
      "WARNING:tensorflow:6 out of the last 11 calls to <function Model.make_predict_function.<locals>.predict_function at 0x000002C7ADFD0C10> triggered tf.function retracing. Tracing is expensive and the excessive number of tracings could be due to (1) creating @tf.function repeatedly in a loop, (2) passing tensors with different shapes, (3) passing Python objects instead of tensors. For (1), please define your @tf.function outside of the loop. For (2), @tf.function has experimental_relax_shapes=True option that relaxes argument shapes that can avoid unnecessary retracing. For (3), please refer to https://www.tensorflow.org/tutorials/customization/performance#python_or_tensor_args and https://www.tensorflow.org/api_docs/python/tf/function for  more details.\n",
      "WARNING:tensorflow:6 out of the last 11 calls to <function Model.make_predict_function.<locals>.predict_function at 0x000002C7AB322E50> triggered tf.function retracing. Tracing is expensive and the excessive number of tracings could be due to (1) creating @tf.function repeatedly in a loop, (2) passing tensors with different shapes, (3) passing Python objects instead of tensors. For (1), please define your @tf.function outside of the loop. For (2), @tf.function has experimental_relax_shapes=True option that relaxes argument shapes that can avoid unnecessary retracing. For (3), please refer to https://www.tensorflow.org/tutorials/customization/performance#python_or_tensor_args and https://www.tensorflow.org/api_docs/python/tf/function for  more details.\n",
      "WARNING:tensorflow:6 out of the last 11 calls to <function Model.make_predict_function.<locals>.predict_function at 0x000002C78A9305E0> triggered tf.function retracing. Tracing is expensive and the excessive number of tracings could be due to (1) creating @tf.function repeatedly in a loop, (2) passing tensors with different shapes, (3) passing Python objects instead of tensors. For (1), please define your @tf.function outside of the loop. For (2), @tf.function has experimental_relax_shapes=True option that relaxes argument shapes that can avoid unnecessary retracing. For (3), please refer to https://www.tensorflow.org/tutorials/customization/performance#python_or_tensor_args and https://www.tensorflow.org/api_docs/python/tf/function for  more details.\n",
      "WARNING:tensorflow:6 out of the last 11 calls to <function Model.make_predict_function.<locals>.predict_function at 0x000002C7FF9619D0> triggered tf.function retracing. Tracing is expensive and the excessive number of tracings could be due to (1) creating @tf.function repeatedly in a loop, (2) passing tensors with different shapes, (3) passing Python objects instead of tensors. For (1), please define your @tf.function outside of the loop. For (2), @tf.function has experimental_relax_shapes=True option that relaxes argument shapes that can avoid unnecessary retracing. For (3), please refer to https://www.tensorflow.org/tutorials/customization/performance#python_or_tensor_args and https://www.tensorflow.org/api_docs/python/tf/function for  more details.\n"
     ]
    },
    {
     "name": "stderr",
     "output_type": "stream",
     "text": [
      "\r",
      " 93%|███████████████████████████████████████████████████████████████████████████▌     | 28/30 [48:28<04:26, 133.12s/it]"
     ]
    },
    {
     "name": "stdout",
     "output_type": "stream",
     "text": [
      "WARNING:tensorflow:6 out of the last 11 calls to <function Model.make_predict_function.<locals>.predict_function at 0x000002C7AB322C10> triggered tf.function retracing. Tracing is expensive and the excessive number of tracings could be due to (1) creating @tf.function repeatedly in a loop, (2) passing tensors with different shapes, (3) passing Python objects instead of tensors. For (1), please define your @tf.function outside of the loop. For (2), @tf.function has experimental_relax_shapes=True option that relaxes argument shapes that can avoid unnecessary retracing. For (3), please refer to https://www.tensorflow.org/tutorials/customization/performance#python_or_tensor_args and https://www.tensorflow.org/api_docs/python/tf/function for  more details.\n",
      "WARNING:tensorflow:6 out of the last 11 calls to <function Model.make_predict_function.<locals>.predict_function at 0x000002C7AA5F3A60> triggered tf.function retracing. Tracing is expensive and the excessive number of tracings could be due to (1) creating @tf.function repeatedly in a loop, (2) passing tensors with different shapes, (3) passing Python objects instead of tensors. For (1), please define your @tf.function outside of the loop. For (2), @tf.function has experimental_relax_shapes=True option that relaxes argument shapes that can avoid unnecessary retracing. For (3), please refer to https://www.tensorflow.org/tutorials/customization/performance#python_or_tensor_args and https://www.tensorflow.org/api_docs/python/tf/function for  more details.\n",
      "WARNING:tensorflow:6 out of the last 11 calls to <function Model.make_predict_function.<locals>.predict_function at 0x000002C7CFEA6C10> triggered tf.function retracing. Tracing is expensive and the excessive number of tracings could be due to (1) creating @tf.function repeatedly in a loop, (2) passing tensors with different shapes, (3) passing Python objects instead of tensors. For (1), please define your @tf.function outside of the loop. For (2), @tf.function has experimental_relax_shapes=True option that relaxes argument shapes that can avoid unnecessary retracing. For (3), please refer to https://www.tensorflow.org/tutorials/customization/performance#python_or_tensor_args and https://www.tensorflow.org/api_docs/python/tf/function for  more details.\n",
      "WARNING:tensorflow:6 out of the last 11 calls to <function Model.make_predict_function.<locals>.predict_function at 0x000002C7879B6430> triggered tf.function retracing. Tracing is expensive and the excessive number of tracings could be due to (1) creating @tf.function repeatedly in a loop, (2) passing tensors with different shapes, (3) passing Python objects instead of tensors. For (1), please define your @tf.function outside of the loop. For (2), @tf.function has experimental_relax_shapes=True option that relaxes argument shapes that can avoid unnecessary retracing. For (3), please refer to https://www.tensorflow.org/tutorials/customization/performance#python_or_tensor_args and https://www.tensorflow.org/api_docs/python/tf/function for  more details.\n",
      "WARNING:tensorflow:6 out of the last 11 calls to <function Model.make_predict_function.<locals>.predict_function at 0x000002C7C034FD30> triggered tf.function retracing. Tracing is expensive and the excessive number of tracings could be due to (1) creating @tf.function repeatedly in a loop, (2) passing tensors with different shapes, (3) passing Python objects instead of tensors. For (1), please define your @tf.function outside of the loop. For (2), @tf.function has experimental_relax_shapes=True option that relaxes argument shapes that can avoid unnecessary retracing. For (3), please refer to https://www.tensorflow.org/tutorials/customization/performance#python_or_tensor_args and https://www.tensorflow.org/api_docs/python/tf/function for  more details.\n"
     ]
    },
    {
     "name": "stderr",
     "output_type": "stream",
     "text": [
      "\r",
      " 97%|██████████████████████████████████████████████████████████████████████████████▎  | 29/30 [50:50<02:15, 135.80s/it]"
     ]
    },
    {
     "name": "stdout",
     "output_type": "stream",
     "text": [
      "WARNING:tensorflow:6 out of the last 11 calls to <function Model.make_predict_function.<locals>.predict_function at 0x000002C78A9305E0> triggered tf.function retracing. Tracing is expensive and the excessive number of tracings could be due to (1) creating @tf.function repeatedly in a loop, (2) passing tensors with different shapes, (3) passing Python objects instead of tensors. For (1), please define your @tf.function outside of the loop. For (2), @tf.function has experimental_relax_shapes=True option that relaxes argument shapes that can avoid unnecessary retracing. For (3), please refer to https://www.tensorflow.org/tutorials/customization/performance#python_or_tensor_args and https://www.tensorflow.org/api_docs/python/tf/function for  more details.\n",
      "WARNING:tensorflow:6 out of the last 11 calls to <function Model.make_predict_function.<locals>.predict_function at 0x000002C7DEEAC550> triggered tf.function retracing. Tracing is expensive and the excessive number of tracings could be due to (1) creating @tf.function repeatedly in a loop, (2) passing tensors with different shapes, (3) passing Python objects instead of tensors. For (1), please define your @tf.function outside of the loop. For (2), @tf.function has experimental_relax_shapes=True option that relaxes argument shapes that can avoid unnecessary retracing. For (3), please refer to https://www.tensorflow.org/tutorials/customization/performance#python_or_tensor_args and https://www.tensorflow.org/api_docs/python/tf/function for  more details.\n",
      "WARNING:tensorflow:6 out of the last 11 calls to <function Model.make_predict_function.<locals>.predict_function at 0x000002C7AB322670> triggered tf.function retracing. Tracing is expensive and the excessive number of tracings could be due to (1) creating @tf.function repeatedly in a loop, (2) passing tensors with different shapes, (3) passing Python objects instead of tensors. For (1), please define your @tf.function outside of the loop. For (2), @tf.function has experimental_relax_shapes=True option that relaxes argument shapes that can avoid unnecessary retracing. For (3), please refer to https://www.tensorflow.org/tutorials/customization/performance#python_or_tensor_args and https://www.tensorflow.org/api_docs/python/tf/function for  more details.\n",
      "WARNING:tensorflow:6 out of the last 11 calls to <function Model.make_predict_function.<locals>.predict_function at 0x000002C78A76CC10> triggered tf.function retracing. Tracing is expensive and the excessive number of tracings could be due to (1) creating @tf.function repeatedly in a loop, (2) passing tensors with different shapes, (3) passing Python objects instead of tensors. For (1), please define your @tf.function outside of the loop. For (2), @tf.function has experimental_relax_shapes=True option that relaxes argument shapes that can avoid unnecessary retracing. For (3), please refer to https://www.tensorflow.org/tutorials/customization/performance#python_or_tensor_args and https://www.tensorflow.org/api_docs/python/tf/function for  more details.\n",
      "WARNING:tensorflow:6 out of the last 11 calls to <function Model.make_predict_function.<locals>.predict_function at 0x000002C7ADFD0A60> triggered tf.function retracing. Tracing is expensive and the excessive number of tracings could be due to (1) creating @tf.function repeatedly in a loop, (2) passing tensors with different shapes, (3) passing Python objects instead of tensors. For (1), please define your @tf.function outside of the loop. For (2), @tf.function has experimental_relax_shapes=True option that relaxes argument shapes that can avoid unnecessary retracing. For (3), please refer to https://www.tensorflow.org/tutorials/customization/performance#python_or_tensor_args and https://www.tensorflow.org/api_docs/python/tf/function for  more details.\n"
     ]
    },
    {
     "name": "stderr",
     "output_type": "stream",
     "text": [
      "100%|█████████████████████████████████████████████████████████████████████████████████| 30/30 [53:14<00:00, 106.49s/it]\n"
     ]
    }
   ],
   "source": [
    "predictions = []\n",
    "for epoch in tqdm(list(range(first_epoch, last_epoch))):\n",
    "    epoch_preds = []\n",
    "    for fold, (train_idx, val_idx) in enumerate(cv.split(data)):\n",
    "        X1_train, X2_train, y_train, X1_val, X2_val, y_val = get_train_valid_data(data,\n",
    "                                                                                  train_idx,\n",
    "                                                                                  val_idx)\n",
    "\n",
    "        model = make_model(n_factors=n_factors, hidden_units=units)\n",
    "        model.fit([X1_train, X2_train], y_train,\n",
    "                  batch_size=batch_size,\n",
    "                  epochs=epoch,\n",
    "                  verbose=0,\n",
    "                  shuffle=True)\n",
    "        epoch_preds.append(pd.Series(model.predict([X1_val, X2_val]).reshape(-1),\n",
    "                                     index=y_val.stack().index).to_frame(epoch))\n",
    "\n",
    "    predictions.append(pd.concat(epoch_preds))"
   ]
  },
  {
   "cell_type": "code",
   "execution_count": 52,
   "metadata": {
    "ExecuteTime": {
     "end_time": "2021-02-24T22:56:10.170667Z",
     "start_time": "2021-02-24T22:56:05.415887Z"
    }
   },
   "outputs": [],
   "source": [
    "predictions_combined = pd.concat(predictions, axis=1).sort_index()   "
   ]
  },
  {
   "cell_type": "code",
   "execution_count": 53,
   "metadata": {
    "ExecuteTime": {
     "end_time": "2021-02-24T22:56:10.236001Z",
     "start_time": "2021-02-24T22:56:10.171537Z"
    }
   },
   "outputs": [
    {
     "name": "stdout",
     "output_type": "stream",
     "text": [
      "<class 'pandas.core.frame.DataFrame'>\n",
      "MultiIndex: 723840 entries, (Timestamp('2015-01-09 00:00:00'), 'A') to (Timestamp('2019-12-27 00:00:00'), 'ZYXI')\n",
      "Data columns (total 30 columns):\n",
      " #   Column  Non-Null Count   Dtype  \n",
      "---  ------  --------------   -----  \n",
      " 0   50      723840 non-null  float32\n",
      " 1   51      723840 non-null  float32\n",
      " 2   52      723840 non-null  float32\n",
      " 3   53      723840 non-null  float32\n",
      " 4   54      723840 non-null  float32\n",
      " 5   55      723840 non-null  float32\n",
      " 6   56      723840 non-null  float32\n",
      " 7   57      723840 non-null  float32\n",
      " 8   58      723840 non-null  float32\n",
      " 9   59      723840 non-null  float32\n",
      " 10  60      723840 non-null  float32\n",
      " 11  61      723840 non-null  float32\n",
      " 12  62      723840 non-null  float32\n",
      " 13  63      723840 non-null  float32\n",
      " 14  64      723840 non-null  float32\n",
      " 15  65      723840 non-null  float32\n",
      " 16  66      723840 non-null  float32\n",
      " 17  67      723840 non-null  float32\n",
      " 18  68      723840 non-null  float32\n",
      " 19  69      723840 non-null  float32\n",
      " 20  70      723840 non-null  float32\n",
      " 21  71      723840 non-null  float32\n",
      " 22  72      723840 non-null  float32\n",
      " 23  73      723840 non-null  float32\n",
      " 24  74      723840 non-null  float32\n",
      " 25  75      723840 non-null  float32\n",
      " 26  76      723840 non-null  float32\n",
      " 27  77      723840 non-null  float32\n",
      " 28  78      723840 non-null  float32\n",
      " 29  79      723840 non-null  float32\n",
      "dtypes: float32(30)\n",
      "memory usage: 85.7+ MB\n"
     ]
    }
   ],
   "source": [
    "predictions_combined.info()"
   ]
  },
  {
   "cell_type": "code",
   "execution_count": 54,
   "metadata": {
    "ExecuteTime": {
     "end_time": "2021-02-24T22:56:10.394903Z",
     "start_time": "2021-02-24T22:56:10.236930Z"
    }
   },
   "outputs": [],
   "source": [
    "predictions_combined.to_hdf(results_path / 'predictions.h5', 'predictions')"
   ]
  }
 ],
 "metadata": {
  "kernelspec": {
   "display_name": "Python [conda env:ml4t]",
   "language": "python",
   "name": "conda-env-ml4t-py"
  },
  "language_info": {
   "codemirror_mode": {
    "name": "ipython",
    "version": 3
   },
   "file_extension": ".py",
   "mimetype": "text/x-python",
   "name": "python",
   "nbconvert_exporter": "python",
   "pygments_lexer": "ipython3",
   "version": "3.8.8"
  },
  "toc": {
   "base_numbering": 1,
   "nav_menu": {},
   "number_sections": true,
   "sideBar": true,
   "skip_h1_title": true,
   "title_cell": "Table of Contents",
   "title_sidebar": "Contents",
   "toc_cell": false,
   "toc_position": {
    "height": "calc(100% - 180px)",
    "left": "10px",
    "top": "150px",
    "width": "304px"
   },
   "toc_section_display": true,
   "toc_window_display": true
  }
 },
 "nbformat": 4,
 "nbformat_minor": 4
}
