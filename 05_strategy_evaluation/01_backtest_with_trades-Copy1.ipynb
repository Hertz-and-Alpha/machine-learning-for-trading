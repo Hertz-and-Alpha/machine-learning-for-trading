{
 "cells": [
  {
   "cell_type": "markdown",
   "metadata": {},
   "source": [
    "# zipline MeanReversion Backtest"
   ]
  },
  {
   "cell_type": "markdown",
   "metadata": {},
   "source": [
    "In the chapter 04, we introduced `Zipline` to simulate the computation of alpha factors from trailing cross-sectional market, fundamental, and alternative data.\n",
    "\n",
    "Now we will exploit the alpha factors to derive and act on buy and sell signals using the custom MeanReversion factor developed in the last chapter."
   ]
  },
  {
   "cell_type": "markdown",
   "metadata": {},
   "source": [
    "## Imports"
   ]
  },
  {
   "cell_type": "code",
   "execution_count": 1,
   "metadata": {
    "ExecuteTime": {
     "end_time": "2021-04-15T19:45:43.166604Z",
     "start_time": "2021-04-15T19:45:43.164646Z"
    }
   },
   "outputs": [],
   "source": [
    "import warnings\n",
    "warnings.filterwarnings('ignore')"
   ]
  },
  {
   "cell_type": "code",
   "execution_count": 2,
   "metadata": {
    "ExecuteTime": {
     "end_time": "2021-04-15T19:45:44.405761Z",
     "start_time": "2021-04-15T19:45:43.169291Z"
    }
   },
   "outputs": [],
   "source": [
    "import sys\n",
    "import numpy as np\n",
    "import pandas as pd\n",
    "from pytz import UTC\n",
    "\n",
    "from logbook import (NestedSetup, NullHandler, Logger, StreamHandler, StderrHandler, \n",
    "                     INFO, WARNING, DEBUG, ERROR)\n",
    "\n",
    "from zipline import run_algorithm\n",
    "from zipline.api import (attach_pipeline, \n",
    "                         date_rules, \n",
    "                         time_rules,\n",
    "                         get_datetime,\n",
    "                         order_target_percent,\n",
    "                         pipeline_output, \n",
    "                         record, \n",
    "                         schedule_function, \n",
    "                         get_open_orders, \n",
    "                         calendars,\n",
    "                         set_commission, \n",
    "                         set_slippage)\n",
    "from zipline.finance import commission, slippage\n",
    "from zipline.pipeline import Pipeline, CustomFactor\n",
    "from zipline.pipeline.factors import Returns, AverageDollarVolume\n",
    "\n",
    "from pyfolio.utils import extract_rets_pos_txn_from_zipline\n",
    "\n",
    "import matplotlib.pyplot as plt\n",
    "import seaborn as sns"
   ]
  },
  {
   "cell_type": "code",
   "execution_count": 3,
   "metadata": {
    "ExecuteTime": {
     "end_time": "2021-04-15T19:45:44.408609Z",
     "start_time": "2021-04-15T19:45:44.406742Z"
    }
   },
   "outputs": [],
   "source": [
    "sns.set_style('whitegrid')"
   ]
  },
  {
   "cell_type": "markdown",
   "metadata": {},
   "source": [
    "## Logging Setup"
   ]
  },
  {
   "cell_type": "code",
   "execution_count": 4,
   "metadata": {
    "ExecuteTime": {
     "end_time": "2021-04-15T19:45:44.443817Z",
     "start_time": "2021-04-15T19:45:44.409938Z"
    }
   },
   "outputs": [],
   "source": [
    "# setup stdout logging\n",
    "format_string = '[{record.time: %H:%M:%S.%f}]: {record.level_name}: {record.message}'\n",
    "zipline_logging = NestedSetup([NullHandler(level=DEBUG),\n",
    "                               StreamHandler(sys.stdout, format_string=format_string, level=INFO),\n",
    "                               StreamHandler(sys.stderr, level=ERROR)])\n",
    "zipline_logging.push_application()\n",
    "log = Logger('Algorithm')"
   ]
  },
  {
   "cell_type": "markdown",
   "metadata": {},
   "source": [
    "## Algo Settings"
   ]
  },
  {
   "cell_type": "code",
   "execution_count": 5,
   "metadata": {
    "ExecuteTime": {
     "end_time": "2021-04-15T19:45:44.459887Z",
     "start_time": "2021-04-15T19:45:44.449863Z"
    }
   },
   "outputs": [],
   "source": [
    "# Settings\n",
    "MONTH = 21\n",
    "YEAR = 12 * MONTH\n",
    "N_LONGS = 50\n",
    "N_SHORTS = 50\n",
    "VOL_SCREEN = 500"
   ]
  },
  {
   "cell_type": "code",
   "execution_count": 6,
   "metadata": {
    "ExecuteTime": {
     "end_time": "2021-04-15T19:45:44.469828Z",
     "start_time": "2021-04-15T19:45:44.464068Z"
    }
   },
   "outputs": [],
   "source": [
    "start = pd.Timestamp('2013-01-01', tz=UTC)\n",
    "end = pd.Timestamp('2017-01-01', tz=UTC)\n",
    "capital_base = 1e7"
   ]
  },
  {
   "cell_type": "markdown",
   "metadata": {},
   "source": [
    "## Mean Reversion Factor"
   ]
  },
  {
   "cell_type": "code",
   "execution_count": 7,
   "metadata": {
    "ExecuteTime": {
     "end_time": "2021-04-15T19:45:44.478710Z",
     "start_time": "2021-04-15T19:45:44.472136Z"
    }
   },
   "outputs": [],
   "source": [
    "class MeanReversion(CustomFactor):\n",
    "    \"\"\"Compute ratio of latest monthly return to 12m average,\n",
    "       normalized by std dev of monthly returns\"\"\"\n",
    "    inputs = [Returns(window_length=MONTH)]\n",
    "    window_length = YEAR\n",
    "\n",
    "    def compute(self, today, assets, out, monthly_returns):\n",
    "        df = pd.DataFrame(monthly_returns)\n",
    "        out[:] = df.iloc[-1].sub(df.mean()).div(df.std())"
   ]
  },
  {
   "cell_type": "markdown",
   "metadata": {},
   "source": [
    "## Create Pipeline"
   ]
  },
  {
   "cell_type": "markdown",
   "metadata": {},
   "source": [
    "The Pipeline created by the `compute_factors()` method returns a table with a long and a short column for the 25 stocks with the largest negative and positive deviations of their last monthly return from its annual average, normalized by the standard deviation. It also limited the universe to the 500 stocks with the highest average trading volume over the last 30 trading days. "
   ]
  },
  {
   "cell_type": "code",
   "execution_count": 8,
   "metadata": {
    "ExecuteTime": {
     "end_time": "2021-04-15T19:45:44.486790Z",
     "start_time": "2021-04-15T19:45:44.480301Z"
    }
   },
   "outputs": [],
   "source": [
    "def compute_factors():\n",
    "    \"\"\"Create factor pipeline incl. mean reversion,\n",
    "        filtered by 30d Dollar Volume; capture factor ranks\"\"\"\n",
    "    mean_reversion = MeanReversion()\n",
    "    dollar_volume = AverageDollarVolume(window_length=30)\n",
    "    return Pipeline(columns={'longs'  : mean_reversion.bottom(N_LONGS),\n",
    "                             'shorts' : mean_reversion.top(N_SHORTS),\n",
    "                             'ranking': mean_reversion.rank(ascending=False)},\n",
    "                    screen=dollar_volume.top(VOL_SCREEN))"
   ]
  },
  {
   "cell_type": "markdown",
   "metadata": {},
   "source": [
    "Before_trading_start() ensures the daily execution of the pipeline and the recording of the results, including the current prices."
   ]
  },
  {
   "cell_type": "code",
   "execution_count": 9,
   "metadata": {
    "ExecuteTime": {
     "end_time": "2021-04-15T19:45:44.494999Z",
     "start_time": "2021-04-15T19:45:44.489010Z"
    }
   },
   "outputs": [],
   "source": [
    "def before_trading_start(context, data):\n",
    "    \"\"\"Run factor pipeline\"\"\"\n",
    "    context.factor_data = pipeline_output('factor_pipeline')\n",
    "    record(factor_data=context.factor_data.ranking)\n",
    "    assets = context.factor_data.index\n",
    "    record(prices=data.current(assets, 'price'))"
   ]
  },
  {
   "cell_type": "markdown",
   "metadata": {},
   "source": [
    "## Set up Rebalancing"
   ]
  },
  {
   "cell_type": "markdown",
   "metadata": {},
   "source": [
    "The new rebalance() method submits trade orders to the exec_trades() method for the assets flagged for long and short positions by the pipeline with equal positive and negative weights. It also divests any current holdings that are no longer included in the factor signals:"
   ]
  },
  {
   "cell_type": "code",
   "execution_count": 10,
   "metadata": {
    "ExecuteTime": {
     "end_time": "2021-04-15T19:45:44.502894Z",
     "start_time": "2021-04-15T19:45:44.496575Z"
    }
   },
   "outputs": [],
   "source": [
    "def rebalance(context, data):\n",
    "    \"\"\"Compute long, short and obsolete holdings; place trade orders\"\"\"\n",
    "    factor_data = context.factor_data\n",
    "    assets = factor_data.index\n",
    "    \n",
    "    longs = assets[factor_data.longs]\n",
    "    shorts = assets[factor_data.shorts]\n",
    "    divest = context.portfolio.positions.keys() - longs.union(shorts)\n",
    "    log.info('{} | Longs: {:2.0f} | Shorts: {:2.0f} | {:,.2f}'.format(get_datetime().date(),\n",
    "                                                                     len(longs), \n",
    "                                                                     len(shorts),\n",
    "                                                                     context.portfolio.portfolio_value))\n",
    "\n",
    "    exec_trades(data, assets=divest, target_percent=0)\n",
    "    exec_trades(data, assets=longs, target_percent=1 / N_LONGS if N_LONGS else 0)\n",
    "    exec_trades(data, assets=shorts, target_percent=-1 / N_SHORTS if N_SHORTS else 0)"
   ]
  },
  {
   "cell_type": "code",
   "execution_count": 11,
   "metadata": {
    "ExecuteTime": {
     "end_time": "2021-04-15T19:45:44.513490Z",
     "start_time": "2021-04-15T19:45:44.503906Z"
    }
   },
   "outputs": [],
   "source": [
    "def exec_trades(data, assets, target_percent):\n",
    "    \"\"\"Place orders for assets using target portfolio percentage\"\"\"\n",
    "    for asset in assets:\n",
    "        if data.can_trade(asset) and not get_open_orders(asset):\n",
    "            order_target_percent(asset, target_percent)"
   ]
  },
  {
   "cell_type": "markdown",
   "metadata": {},
   "source": [
    "## Initialize Backtest"
   ]
  },
  {
   "cell_type": "markdown",
   "metadata": {},
   "source": [
    "The `rebalance()` method runs according to `date_rules` and `time_rules` set by the `schedule_function()` utility at the beginning of the week, right after market_open as stipulated by the built-in US_EQUITIES calendar (see docs for details on rules). \n",
    "\n",
    "You can also specify a trade commission both in relative terms and as a minimum amount. There is also an option to define slippage, which is the cost of an adverse change in price between trade decision and execution"
   ]
  },
  {
   "cell_type": "code",
   "execution_count": 12,
   "metadata": {
    "ExecuteTime": {
     "end_time": "2021-04-15T19:45:44.521659Z",
     "start_time": "2021-04-15T19:45:44.514324Z"
    }
   },
   "outputs": [],
   "source": [
    "def initialize(context):\n",
    "    \"\"\"Setup: register pipeline, schedule rebalancing,\n",
    "        and set trading params\"\"\"\n",
    "    attach_pipeline(compute_factors(), 'factor_pipeline')\n",
    "    schedule_function(rebalance,\n",
    "                      date_rules.week_start(),\n",
    "                      time_rules.market_open(),\n",
    "                      calendar=calendars.US_EQUITIES)\n",
    "\n",
    "    set_commission(us_equities=commission.PerShare(cost=0.00075, \n",
    "                                                   min_trade_cost=.01))\n",
    "    set_slippage(us_equities=slippage.VolumeShareSlippage(volume_limit=0.0025, \n",
    "                                                          price_impact=0.01))"
   ]
  },
  {
   "cell_type": "markdown",
   "metadata": {},
   "source": [
    "## Run Algorithm"
   ]
  },
  {
   "cell_type": "markdown",
   "metadata": {},
   "source": [
    "The algorithm executes upon calling the run_algorithm() function and returns the backtest performance DataFrame."
   ]
  },
  {
   "cell_type": "code",
   "execution_count": null,
   "metadata": {
    "ExecuteTime": {
     "end_time": "2021-04-15T19:48:09.694529Z",
     "start_time": "2021-04-15T19:45:44.522485Z"
    },
    "scrolled": false
   },
   "outputs": [
    {
     "name": "stdout",
     "output_type": "stream",
     "text": [
      "[ 05:12:05.055105]: INFO: 2013-01-07 | Longs: 10 | Shorts:  2 | 10,000,000.00\n",
      "[ 05:12:08.404631]: INFO: 2013-01-14 | Longs: 13 | Shorts:  3 | 10,027,422.36\n",
      "[ 05:12:09.025618]: INFO: 2013-01-22 | Longs:  8 | Shorts:  5 | 10,097,663.57\n",
      "[ 05:12:09.521231]: INFO: 2013-01-28 | Longs:  5 | Shorts: 14 | 10,106,150.06\n",
      "[ 05:12:10.156233]: INFO: 2013-02-04 | Longs: 12 | Shorts: 11 | 10,135,417.26\n",
      "[ 05:12:10.791233]: INFO: 2013-02-11 | Longs: 11 | Shorts: 13 | 10,182,644.42\n",
      "[ 05:12:11.431233]: INFO: 2013-02-19 | Longs: 21 | Shorts: 11 | 10,127,755.45\n",
      "[ 05:12:11.976232]: INFO: 2013-02-25 | Longs: 16 | Shorts:  8 | 10,180,357.23\n",
      "[ 05:12:12.649750]: INFO: 2013-03-04 | Longs: 10 | Shorts: 10 | 10,200,300.19\n",
      "[ 05:12:13.283750]: INFO: 2013-03-11 | Longs: 12 | Shorts:  7 | 10,240,453.13\n",
      "[ 05:12:13.905750]: INFO: 2013-03-18 | Longs:  7 | Shorts:  7 | 10,150,394.01\n",
      "[ 05:12:14.522750]: INFO: 2013-03-25 | Longs:  8 | Shorts:  7 | 10,149,029.25\n",
      "[ 05:12:15.025750]: INFO: 2013-04-01 | Longs:  4 | Shorts:  6 | 10,178,638.39\n",
      "[ 05:12:15.620750]: INFO: 2013-04-08 | Longs:  6 | Shorts: 13 | 10,188,518.05\n",
      "[ 05:12:16.239748]: INFO: 2013-04-15 | Longs:  5 | Shorts: 14 | 10,185,696.44\n",
      "[ 05:12:16.870751]: INFO: 2013-04-22 | Longs:  5 | Shorts: 24 | 10,154,587.17\n",
      "[ 05:12:17.525748]: INFO: 2013-04-29 | Longs:  5 | Shorts: 10 | 10,189,194.78\n",
      "[ 05:12:18.163747]: INFO: 2013-05-06 | Longs:  2 | Shorts: 10 | 10,166,211.32\n",
      "[ 05:12:18.772260]: INFO: 2013-05-13 | Longs:  4 | Shorts:  8 | 9,981,220.24\n",
      "[ 05:12:19.373258]: INFO: 2013-05-20 | Longs:  8 | Shorts:  9 | 9,943,518.58\n",
      "[ 05:12:19.975258]: INFO: 2013-05-28 | Longs: 13 | Shorts:  5 | 9,905,180.12\n",
      "[ 05:12:20.486260]: INFO: 2013-06-03 | Longs: 19 | Shorts:  6 | 9,962,705.11\n",
      "[ 05:12:21.127260]: INFO: 2013-06-10 | Longs: 10 | Shorts:  3 | 9,953,403.78\n",
      "[ 05:12:21.764260]: INFO: 2013-06-17 | Longs:  9 | Shorts:  6 | 9,978,043.58\n",
      "[ 05:12:22.380260]: INFO: 2013-06-24 | Longs:  9 | Shorts:  2 | 9,875,082.86\n",
      "[ 05:12:22.988261]: INFO: 2013-07-01 | Longs: 15 | Shorts:  3 | 9,932,122.01\n",
      "[ 05:12:23.506257]: INFO: 2013-07-08 | Longs: 13 | Shorts:  3 | 9,976,143.93\n",
      "[ 05:12:26.304258]: INFO: 2013-07-15 | Longs: 11 | Shorts:  4 | 10,094,240.18\n",
      "[ 05:12:26.933258]: INFO: 2013-07-22 | Longs:  6 | Shorts:  2 | 10,056,638.95\n",
      "[ 05:12:27.539258]: INFO: 2013-07-29 | Longs: 12 | Shorts:  3 | 10,051,076.70\n",
      "[ 05:12:28.153258]: INFO: 2013-08-05 | Longs:  8 | Shorts: 12 | 10,138,418.95\n",
      "[ 05:12:28.797260]: INFO: 2013-08-12 | Longs:  7 | Shorts: 10 | 10,146,586.21\n",
      "[ 05:12:29.440770]: INFO: 2013-08-19 | Longs:  7 | Shorts:  9 | 10,181,590.85\n",
      "[ 05:12:30.065770]: INFO: 2013-08-26 | Longs:  7 | Shorts:  2 | 10,178,592.71\n",
      "[ 05:12:30.685291]: INFO: 2013-09-03 | Longs:  5 | Shorts:  2 | 10,226,884.83\n",
      "[ 05:12:31.170291]: INFO: 2013-09-09 | Longs:  6 | Shorts:  4 | 10,210,627.07\n",
      "[ 05:12:31.772811]: INFO: 2013-09-16 | Longs:  6 | Shorts:  5 | 10,266,501.96\n",
      "[ 05:12:32.385810]: INFO: 2013-09-23 | Longs:  6 | Shorts:  3 | 10,258,815.75\n",
      "[ 05:12:33.000806]: INFO: 2013-09-30 | Longs: 10 | Shorts:  8 | 10,233,855.17\n",
      "[ 05:12:33.604838]: INFO: 2013-10-07 | Longs: 13 | Shorts:  7 | 10,227,149.62\n",
      "[ 05:12:34.231841]: INFO: 2013-10-14 | Longs: 14 | Shorts:  3 | 10,278,149.27\n",
      "[ 05:12:34.848840]: INFO: 2013-10-21 | Longs: 15 | Shorts:  8 | 10,187,013.14\n",
      "[ 05:12:35.477839]: INFO: 2013-10-28 | Longs: 11 | Shorts:  6 | 10,323,170.17\n",
      "[ 05:12:36.097809]: INFO: 2013-11-04 | Longs:  6 | Shorts: 10 | 10,214,759.93\n",
      "[ 05:12:36.717838]: INFO: 2013-11-11 | Longs:  2 | Shorts:  5 | 10,257,347.04\n",
      "[ 05:12:37.323840]: INFO: 2013-11-18 | Longs:  4 | Shorts:  9 | 10,245,333.87\n",
      "[ 05:12:37.933810]: INFO: 2013-11-25 | Longs:  4 | Shorts:  8 | 10,279,469.50\n",
      "[ 05:12:38.432810]: INFO: 2013-12-02 | Longs:  7 | Shorts:  2 | 10,302,532.04\n",
      "[ 05:12:39.036808]: INFO: 2013-12-09 | Longs: 10 | Shorts:  3 | 10,320,355.73\n",
      "[ 05:12:39.646812]: INFO: 2013-12-16 | Longs: 17 | Shorts:  2 | 10,353,234.81\n",
      "[ 05:12:40.335808]: INFO: 2013-12-23 | Longs: 11 | Shorts:  4 | 10,269,888.43\n",
      "[ 05:12:40.852810]: INFO: 2013-12-30 | Longs: 10 | Shorts:  6 | 10,293,416.34\n",
      "[ 05:12:41.348810]: INFO: 2014-01-06 | Longs: 12 | Shorts:  5 | 10,300,370.23\n",
      "[ 05:12:41.962807]: INFO: 2014-01-13 | Longs:  8 | Shorts:  3 | 10,321,419.65\n",
      "[ 05:12:44.772523]: INFO: 2014-01-21 | Longs: 14 | Shorts:  4 | 10,301,321.23\n",
      "[ 05:12:45.282523]: INFO: 2014-01-27 | Longs: 16 | Shorts:  4 | 10,272,301.28\n",
      "[ 05:12:45.907520]: INFO: 2014-02-03 | Longs: 16 | Shorts:  7 | 10,190,046.47\n",
      "[ 05:12:46.542523]: INFO: 2014-02-10 | Longs: 10 | Shorts:  8 | 10,173,544.07\n",
      "[ 05:12:47.167550]: INFO: 2014-02-18 | Longs:  8 | Shorts: 11 | 10,146,175.51\n",
      "[ 05:12:47.673521]: INFO: 2014-02-24 | Longs:  8 | Shorts: 11 | 10,135,284.41\n",
      "[ 05:12:48.298593]: INFO: 2014-03-03 | Longs:  5 | Shorts: 10 | 10,206,465.49\n",
      "[ 05:12:48.909593]: INFO: 2014-03-10 | Longs:  8 | Shorts:  5 | 10,193,416.12\n",
      "[ 05:12:49.500593]: INFO: 2014-03-17 | Longs:  6 | Shorts:  4 | 10,150,092.53\n",
      "[ 05:12:50.084624]: INFO: 2014-03-24 | Longs:  7 | Shorts:  3 | 10,157,127.09\n",
      "[ 05:12:50.682597]: INFO: 2014-03-31 | Longs: 10 | Shorts:  3 | 10,127,717.05\n",
      "[ 05:12:51.280593]: INFO: 2014-04-07 | Longs: 10 | Shorts: 10 | 9,940,554.60\n",
      "[ 05:12:51.885593]: INFO: 2014-04-14 | Longs: 10 | Shorts: 12 | 9,922,172.04\n",
      "[ 05:12:52.394624]: INFO: 2014-04-21 | Longs:  9 | Shorts: 16 | 9,977,695.73\n",
      "[ 05:12:53.042596]: INFO: 2014-04-28 | Longs:  8 | Shorts: 11 | 9,925,818.81\n",
      "[ 05:12:53.683618]: INFO: 2014-05-05 | Longs:  6 | Shorts:  8 | 9,994,098.05\n",
      "[ 05:12:54.296593]: INFO: 2014-05-12 | Longs:  3 | Shorts:  9 | 9,959,988.27\n",
      "[ 05:12:54.896596]: INFO: 2014-05-19 | Longs:  2 | Shorts:  6 | 9,952,316.59\n",
      "[ 05:12:55.479625]: INFO: 2014-05-27 | Longs:  5 | Shorts:  5 | 9,975,477.08\n",
      "[ 05:12:55.959596]: INFO: 2014-06-02 | Longs:  6 | Shorts:  3 | 9,987,026.35\n",
      "[ 05:12:56.548623]: INFO: 2014-06-09 | Longs:  8 | Shorts:  5 | 10,024,385.61\n",
      "[ 05:12:57.140623]: INFO: 2014-06-16 | Longs: 13 | Shorts: 13 | 9,983,402.35\n",
      "[ 05:12:57.770632]: INFO: 2014-06-23 | Longs:  8 | Shorts: 15 | 9,996,939.06\n",
      "[ 05:12:58.427593]: INFO: 2014-06-30 | Longs: 12 | Shorts: 15 | 10,037,014.26\n",
      "[ 05:12:58.969626]: INFO: 2014-07-07 | Longs: 14 | Shorts: 12 | 10,082,385.12\n",
      "[ 05:12:59.619593]: INFO: 2014-07-14 | Longs:  5 | Shorts: 14 | 10,089,176.51\n",
      "[ 05:13:02.418725]: INFO: 2014-07-21 | Longs: 13 | Shorts: 11 | 10,128,809.09\n",
      "[ 05:13:03.068727]: INFO: 2014-07-28 | Longs: 11 | Shorts: 11 | 10,119,893.60\n",
      "[ 05:13:03.714725]: INFO: 2014-08-04 | Longs: 11 | Shorts: 19 | 10,110,604.81\n",
      "[ 05:13:04.395725]: INFO: 2014-08-11 | Longs: 14 | Shorts: 11 | 10,259,687.80\n",
      "[ 05:13:05.065727]: INFO: 2014-08-18 | Longs: 11 | Shorts: 14 | 10,204,032.36\n",
      "[ 05:13:05.701725]: INFO: 2014-08-25 | Longs: 12 | Shorts: 14 | 10,211,914.68\n",
      "[ 05:13:06.369755]: INFO: 2014-09-02 | Longs:  7 | Shorts:  9 | 10,176,282.96\n",
      "[ 05:13:06.894274]: INFO: 2014-09-08 | Longs:  2 | Shorts: 13 | 10,227,375.20\n",
      "[ 05:13:07.495282]: INFO: 2014-09-15 | Longs:  5 | Shorts:  4 | 10,232,017.60\n",
      "[ 05:13:08.087274]: INFO: 2014-09-22 | Longs:  6 | Shorts:  8 | 10,188,352.29\n",
      "[ 05:13:08.679275]: INFO: 2014-09-29 | Longs:  4 | Shorts: 13 | 10,153,790.76\n",
      "[ 05:13:09.289275]: INFO: 2014-10-06 | Longs: 12 | Shorts:  9 | 10,137,941.09\n",
      "[ 05:13:09.914895]: INFO: 2014-10-13 | Longs: 12 | Shorts: 17 | 10,008,763.46\n",
      "[ 05:13:10.572435]: INFO: 2014-10-20 | Longs: 21 | Shorts:  6 | 10,132,979.74\n",
      "[ 05:13:11.226434]: INFO: 2014-10-27 | Longs: 13 | Shorts:  7 | 10,130,508.74\n",
      "[ 05:13:11.862434]: INFO: 2014-11-03 | Longs:  6 | Shorts:  0 | 10,202,585.17\n",
      "[ 05:13:12.460625]: INFO: 2014-11-10 | Longs:  7 | Shorts:  6 | 10,112,658.72\n",
      "[ 05:13:13.053625]: INFO: 2014-11-17 | Longs:  6 | Shorts: 10 | 10,149,797.97\n",
      "[ 05:13:13.639597]: INFO: 2014-11-24 | Longs:  6 | Shorts:  7 | 10,159,664.13\n",
      "[ 05:13:14.129622]: INFO: 2014-12-01 | Longs: 12 | Shorts: 13 | 10,112,949.01\n",
      "[ 05:13:14.771625]: INFO: 2014-12-08 | Longs: 11 | Shorts:  4 | 9,883,877.18\n",
      "[ 05:13:15.395625]: INFO: 2014-12-15 | Longs: 13 | Shorts:  3 | 9,748,742.24\n",
      "[ 05:13:16.009598]: INFO: 2014-12-22 | Longs:  7 | Shorts:  4 | 10,162,433.56\n",
      "[ 05:13:16.505598]: INFO: 2014-12-29 | Longs: 10 | Shorts:  8 | 10,153,178.89\n",
      "[ 05:13:17.016595]: INFO: 2015-01-05 | Longs:  6 | Shorts:  3 | 10,058,855.77\n",
      "[ 05:13:17.624476]: INFO: 2015-01-12 | Longs:  7 | Shorts:  6 | 10,013,742.96\n"
     ]
    },
    {
     "name": "stdout",
     "output_type": "stream",
     "text": [
      "[ 05:13:20.384250]: INFO: 2015-01-20 | Longs: 12 | Shorts:  7 | 9,911,930.16\n",
      "[ 05:13:20.890248]: INFO: 2015-01-26 | Longs: 11 | Shorts:  8 | 9,933,179.35\n",
      "[ 05:13:21.507248]: INFO: 2015-02-02 | Longs: 18 | Shorts:  7 | 9,874,894.91\n",
      "[ 05:13:22.140468]: INFO: 2015-02-09 | Longs: 15 | Shorts:  6 | 10,026,955.51\n",
      "[ 05:13:22.782437]: INFO: 2015-02-17 | Longs: 12 | Shorts: 11 | 10,080,570.15\n",
      "[ 05:13:23.312468]: INFO: 2015-02-23 | Longs: 13 | Shorts:  7 | 10,087,564.34\n",
      "[ 05:13:23.937468]: INFO: 2015-03-02 | Longs: 16 | Shorts:  7 | 10,042,612.79\n",
      "[ 05:13:24.563469]: INFO: 2015-03-09 | Longs: 12 | Shorts:  5 | 9,963,112.34\n",
      "[ 05:13:25.190437]: INFO: 2015-03-16 | Longs: 15 | Shorts:  2 | 10,023,732.49\n",
      "[ 05:13:25.813948]: INFO: 2015-03-23 | Longs: 10 | Shorts:  2 | 10,078,627.34\n",
      "[ 05:13:26.424945]: INFO: 2015-03-30 | Longs: 13 | Shorts:  4 | 10,072,282.97\n",
      "[ 05:13:26.916975]: INFO: 2015-04-06 | Longs: 12 | Shorts:  3 | 10,123,357.71\n",
      "[ 05:13:27.512068]: INFO: 2015-04-13 | Longs:  5 | Shorts:  8 | 10,165,443.63\n",
      "[ 05:13:28.116313]: INFO: 2015-04-20 | Longs: 14 | Shorts: 11 | 10,161,371.72\n",
      "[ 05:13:28.758312]: INFO: 2015-04-27 | Longs: 12 | Shorts:  9 | 10,114,674.77\n",
      "[ 05:13:29.403306]: INFO: 2015-05-04 | Longs:  8 | Shorts: 13 | 10,111,362.19\n",
      "[ 05:13:30.036312]: INFO: 2015-05-11 | Longs:  7 | Shorts:  8 | 10,117,885.18\n",
      "[ 05:13:30.653312]: INFO: 2015-05-18 | Longs:  5 | Shorts:  7 | 10,118,338.65\n",
      "[ 05:13:31.255282]: INFO: 2015-05-26 | Longs:  3 | Shorts:  5 | 10,125,037.38\n",
      "[ 05:13:31.732283]: INFO: 2015-06-01 | Longs:  5 | Shorts:  8 | 10,140,937.50\n",
      "[ 05:13:32.324491]: INFO: 2015-06-08 | Longs: 10 | Shorts:  6 | 10,160,546.75\n",
      "[ 05:13:32.925460]: INFO: 2015-06-15 | Longs: 14 | Shorts:  6 | 10,135,990.35\n",
      "[ 05:13:33.551460]: INFO: 2015-06-22 | Longs: 10 | Shorts:  4 | 10,244,177.64\n",
      "[ 05:13:34.176490]: INFO: 2015-06-29 | Longs: 18 | Shorts:  5 | 10,137,986.21\n",
      "[ 05:13:34.692489]: INFO: 2015-07-06 | Longs: 12 | Shorts: 10 | 10,170,113.59\n",
      "[ 05:13:35.335493]: INFO: 2015-07-13 | Longs:  7 | Shorts:  7 | 10,244,091.21\n",
      "[ 05:13:35.957460]: INFO: 2015-07-20 | Longs:  5 | Shorts: 11 | 10,240,223.17\n",
      "[ 05:13:38.639894]: INFO: 2015-07-27 | Longs:  7 | Shorts: 13 | 10,311,588.77\n",
      "[ 05:13:39.268921]: INFO: 2015-08-03 | Longs:  5 | Shorts: 12 | 10,277,581.93\n",
      "[ 05:13:39.898923]: INFO: 2015-08-10 | Longs:  3 | Shorts: 11 | 10,308,010.70\n",
      "[ 05:13:40.502921]: INFO: 2015-08-17 | Longs:  5 | Shorts:  8 | 10,274,866.69\n",
      "[ 05:13:41.111890]: INFO: 2015-08-24 | Longs: 17 | Shorts:  7 | 10,262,054.06\n",
      "[ 05:13:41.751923]: INFO: 2015-08-31 | Longs: 14 | Shorts:  5 | 10,388,393.11\n",
      "[ 05:13:42.389113]: INFO: 2015-09-08 | Longs: 21 | Shorts:  5 | 10,453,422.88\n",
      "[ 05:13:42.923108]: INFO: 2015-09-14 | Longs: 11 | Shorts:  8 | 10,407,866.97\n",
      "[ 05:13:43.552108]: INFO: 2015-09-21 | Longs: 12 | Shorts:  9 | 10,461,020.10\n",
      "[ 05:13:44.188082]: INFO: 2015-09-28 | Longs: 15 | Shorts:  7 | 10,413,522.87\n",
      "[ 05:13:44.830079]: INFO: 2015-10-05 | Longs:  2 | Shorts:  7 | 10,684,535.25\n",
      "[ 05:13:45.442079]: INFO: 2015-10-12 | Longs: 10 | Shorts:  7 | 10,677,559.63\n",
      "[ 05:13:46.041082]: INFO: 2015-10-19 | Longs:  6 | Shorts:  8 | 10,720,533.14\n",
      "[ 05:13:46.640601]: INFO: 2015-10-26 | Longs: 11 | Shorts: 12 | 10,585,301.22\n"
     ]
    }
   ],
   "source": [
    "backtest = run_algorithm(start=start,\n",
    "                         end=end,\n",
    "                         initialize=initialize,\n",
    "                         before_trading_start=before_trading_start,\n",
    "                         bundle='quandl',\n",
    "                         capital_base=capital_base)"
   ]
  },
  {
   "cell_type": "markdown",
   "metadata": {},
   "source": [
    "## Extract pyfolio Inputs"
   ]
  },
  {
   "cell_type": "markdown",
   "metadata": {},
   "source": [
    "The `extract_rets_pos_txn_from_zipline` utility provided by `pyfolio` extracts the data used to compute performance metrics."
   ]
  },
  {
   "cell_type": "code",
   "execution_count": null,
   "metadata": {
    "ExecuteTime": {
     "end_time": "2021-04-15T19:48:10.583537Z",
     "start_time": "2021-04-15T19:48:09.696041Z"
    }
   },
   "outputs": [],
   "source": [
    "returns, positions, transactions = extract_rets_pos_txn_from_zipline(backtest)"
   ]
  },
  {
   "cell_type": "markdown",
   "metadata": {},
   "source": [
    "## Persist Results for use with `pyfolio`"
   ]
  },
  {
   "cell_type": "code",
   "execution_count": null,
   "metadata": {
    "ExecuteTime": {
     "end_time": "2021-04-15T19:48:10.928631Z",
     "start_time": "2021-04-15T19:48:10.584600Z"
    }
   },
   "outputs": [],
   "source": [
    "with pd.HDFStore('backtests.h5') as store:\n",
    "    store.put('backtest/equal_weight', backtest)\n",
    "    store.put('returns/equal_weight', returns)\n",
    "    store.put('positions/equal_weight', positions)\n",
    "    store.put('transactions/equal_weight', transactions)"
   ]
  },
  {
   "cell_type": "markdown",
   "metadata": {},
   "source": [
    "## Plot Results"
   ]
  },
  {
   "cell_type": "code",
   "execution_count": null,
   "metadata": {
    "ExecuteTime": {
     "end_time": "2021-04-15T19:48:11.342373Z",
     "start_time": "2021-04-15T19:48:10.929577Z"
    }
   },
   "outputs": [],
   "source": [
    "fig, axes= plt.subplots(nrows=2, figsize=(14,6))\n",
    "returns.add(1).cumprod().sub(1).plot(ax=axes[0], title='Cumulative Returns')\n",
    "transactions.groupby(transactions.dt.dt.day).txn_dollars.sum().cumsum().plot(ax=axes[1], title='Cumulative Transactions')\n",
    "fig.tight_layout()\n",
    "sns.despine();"
   ]
  },
  {
   "cell_type": "code",
   "execution_count": null,
   "metadata": {
    "ExecuteTime": {
     "end_time": "2021-04-15T19:48:11.346118Z",
     "start_time": "2021-04-15T19:48:11.343362Z"
    }
   },
   "outputs": [],
   "source": [
    "positions.index = positions.index.date"
   ]
  },
  {
   "cell_type": "code",
   "execution_count": null,
   "metadata": {
    "ExecuteTime": {
     "end_time": "2021-04-15T19:48:13.091940Z",
     "start_time": "2021-04-15T19:48:11.347306Z"
    }
   },
   "outputs": [],
   "source": [
    "fig, ax = plt.subplots(figsize=(15, 8))\n",
    "sns.heatmap(positions.replace(0, np.nan).dropna(how='all', axis=1).T, \n",
    "            cmap=sns.diverging_palette(h_neg=20, h_pos=200), ax=ax, center=0);"
   ]
  },
  {
   "cell_type": "code",
   "execution_count": null,
   "metadata": {
    "ExecuteTime": {
     "end_time": "2021-04-15T19:48:13.109835Z",
     "start_time": "2021-04-15T19:48:13.092830Z"
    }
   },
   "outputs": [],
   "source": [
    "positions.head()"
   ]
  },
  {
   "cell_type": "code",
   "execution_count": null,
   "metadata": {
    "ExecuteTime": {
     "end_time": "2021-04-15T19:48:13.119279Z",
     "start_time": "2021-04-15T19:48:13.111161Z"
    },
    "scrolled": true
   },
   "outputs": [],
   "source": [
    "transactions.info()"
   ]
  },
  {
   "cell_type": "code",
   "execution_count": null,
   "metadata": {},
   "outputs": [],
   "source": []
  }
 ],
 "metadata": {
  "kernelspec": {
   "display_name": "Python [conda env:ml4t]",
   "language": "python",
   "name": "conda-env-ml4t-py"
  },
  "language_info": {
   "codemirror_mode": {
    "name": "ipython",
    "version": 3
   },
   "file_extension": ".py",
   "mimetype": "text/x-python",
   "name": "python",
   "nbconvert_exporter": "python",
   "pygments_lexer": "ipython3",
   "version": "3.8.8"
  },
  "toc": {
   "base_numbering": 1,
   "nav_menu": {},
   "number_sections": true,
   "sideBar": true,
   "skip_h1_title": true,
   "title_cell": "Table of Contents",
   "title_sidebar": "Contents",
   "toc_cell": false,
   "toc_position": {
    "height": "calc(100% - 180px)",
    "left": "10px",
    "top": "150px",
    "width": "252.633px"
   },
   "toc_section_display": true,
   "toc_window_display": true
  }
 },
 "nbformat": 4,
 "nbformat_minor": 2
}
